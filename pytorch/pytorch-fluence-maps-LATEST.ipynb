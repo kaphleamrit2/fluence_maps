{
 "cells": [
  {
   "cell_type": "markdown",
   "metadata": {},
   "source": [
    "# IMRT fluence maps and the power of transfer learning\n",
    "\n",
    "The goal of this notebook is to predict gamma index values of calculated fluence maps in IMRT."
   ]
  },
  {
   "cell_type": "code",
   "execution_count": 79,
   "metadata": {},
   "outputs": [],
   "source": [
    "%reload_ext autoreload\n",
    "%autoreload 2\n",
    "%matplotlib inline\n",
    "\n",
    "import pandas as pd\n",
    "import numpy as np\n",
    "import torch\n",
    "from pathlib import Path\n",
    "from torch.utils.data import Dataset, DataLoader\n",
    "import torch.optim as optim\n",
    "import torch.nn as nn\n",
    "import torch.nn.functional as F\n",
    "from torchvision import models\n",
    "import random"
   ]
  },
  {
   "cell_type": "code",
   "execution_count": 80,
   "metadata": {},
   "outputs": [],
   "source": [
    "import cv2\n",
    "import matplotlib.pyplot as plt "
   ]
  },
  {
   "cell_type": "markdown",
   "metadata": {},
   "source": [
    "## Data"
   ]
  },
  {
   "cell_type": "markdown",
   "metadata": {},
   "source": [
    "Fluence maps are read from JPEG files, which are generated from DICOM files in RT Dose format, using __fluence_maps/util/dicom2jpeg.py__"
   ]
  },
  {
   "cell_type": "code",
   "execution_count": 81,
   "metadata": {},
   "outputs": [
    {
     "data": {
      "text/plain": [
       "[PosixPath('/home/pablo/datasets/data/radioterapia/ciolaplata/2019-opencv-jpeg/1.3.6.1.4.1.9590.100.1.2.364672523411839983021645377800555224191.jpeg'),\n",
       " PosixPath('/home/pablo/datasets/data/radioterapia/ciolaplata/2019-opencv-jpeg/1.3.6.1.4.1.9590.100.1.2.88179284212989842941914920070289705096.jpeg'),\n",
       " PosixPath('/home/pablo/datasets/data/radioterapia/ciolaplata/2019-opencv-jpeg/1.3.6.1.4.1.9590.100.1.2.378055050813497270407768428953367803530.jpeg'),\n",
       " PosixPath('/home/pablo/datasets/data/radioterapia/ciolaplata/2019-opencv-jpeg/1.3.6.1.4.1.9590.100.1.2.183443976111346425928637723150813007450.jpeg'),\n",
       " PosixPath('/home/pablo/datasets/data/radioterapia/ciolaplata/2019-opencv-jpeg/1.3.6.1.4.1.9590.100.1.2.62038032110973076431886048532143104330.jpeg'),\n",
       " PosixPath('/home/pablo/datasets/data/radioterapia/ciolaplata/2019-opencv-jpeg/1.3.6.1.4.1.9590.100.1.2.203728172412922232941144480194087811024.jpeg'),\n",
       " PosixPath('/home/pablo/datasets/data/radioterapia/ciolaplata/2019-opencv-jpeg/1.3.6.1.4.1.9590.100.1.2.79884379112380406417129888183609076032.jpeg'),\n",
       " PosixPath('/home/pablo/datasets/data/radioterapia/ciolaplata/2019-opencv-jpeg/1.3.6.1.4.1.9590.100.1.2.319263740311210447907226221420045455623.jpeg'),\n",
       " PosixPath('/home/pablo/datasets/data/radioterapia/ciolaplata/2019-opencv-jpeg/1.3.6.1.4.1.9590.100.1.2.255052206611700788638057404561717301829.jpeg'),\n",
       " PosixPath('/home/pablo/datasets/data/radioterapia/ciolaplata/2019-opencv-jpeg/1.3.6.1.4.1.9590.100.1.2.238249119611138018900973382524076008520.jpeg')]"
      ]
     },
     "execution_count": 81,
     "metadata": {},
     "output_type": "execute_result"
    }
   ],
   "source": [
    "np.random.seed(12345)\n",
    "PATH = Path(\"/home/pablo/datasets/data/radioterapia/ciolaplata/\")\n",
    "\n",
    "# CODEX_FILE = \"codex.2018-2019.csv\" # mapas 3mm/3% con doseshift años 2018 y 2019\n",
    "CODEX_FILE = \"codex-2019-3mm3%-doseshift.csv\" # mapas 3mm/3% con doseshift año 2019\n",
    "# CODEX_FILE = \"codex-2019-2mm2%-doseshift.csv\" # mapas 2mm/2% con doseshift año 2019\n",
    "\n",
    "MAPS_LOCATION_SUFFIX = \"-opencv-jpeg\"\n",
    "path = PATH/Path(\"2018\" + MAPS_LOCATION_SUFFIX)\n",
    "path2 = PATH/Path(\"2019\" + MAPS_LOCATION_SUFFIX)\n",
    "\n",
    "# list_all = list(path.iterdir())+list(path2.iterdir())\n",
    "list_all = list(path2.iterdir())\n",
    "random.shuffle(list_all)\n",
    "list_all[:10]"
   ]
  },
  {
   "cell_type": "code",
   "execution_count": 82,
   "metadata": {},
   "outputs": [],
   "source": [
    "def read_image(path):\n",
    "    im = cv2.imread(str(path))\n",
    "    return im"
   ]
  },
  {
   "cell_type": "code",
   "execution_count": 83,
   "metadata": {},
   "outputs": [
    {
     "data": {
      "text/plain": [
       "<matplotlib.image.AxesImage at 0x7fb434c665d0>"
      ]
     },
     "execution_count": 83,
     "metadata": {},
     "output_type": "execute_result"
    },
    {
     "data": {
      "image/png": "[encoded data removed]",
      "text/plain": [
       "<Figure size 432x288 with 1 Axes>"
      ]
     },
     "metadata": {
      "needs_background": "light"
     },
     "output_type": "display_data"
    }
   ],
   "source": [
    "path = PATH/Path(\"2018\" + MAPS_LOCATION_SUFFIX)/\"1.3.6.1.4.1.9590.100.1.2.310116611339769406079254153056253359.jpeg\"\n",
    "im = read_image(path)\n",
    "plt.imshow(im)"
   ]
  },
  {
   "cell_type": "code",
   "execution_count": 84,
   "metadata": {},
   "outputs": [
    {
     "data": {
      "text/plain": [
       "(256, 256, 3)"
      ]
     },
     "execution_count": 84,
     "metadata": {},
     "output_type": "execute_result"
    }
   ],
   "source": [
    "im = cv2.imread(str(path))\n",
    "im.shape"
   ]
  },
  {
   "cell_type": "code",
   "execution_count": 85,
   "metadata": {},
   "outputs": [],
   "source": [
    "# let's look at the typical size of these images\n",
    "files = list_all[:1000]\n",
    "dims = [read_image(str(p)).shape for p in files]"
   ]
  },
  {
   "cell_type": "code",
   "execution_count": 86,
   "metadata": {},
   "outputs": [
    {
     "data": {
      "text/plain": [
       "array([  3, 256])"
      ]
     },
     "execution_count": 86,
     "metadata": {},
     "output_type": "execute_result"
    }
   ],
   "source": [
    "np.unique(dims)"
   ]
  },
  {
   "cell_type": "markdown",
   "metadata": {},
   "source": [
    "Amazing! all images have the same size."
   ]
  },
  {
   "cell_type": "markdown",
   "metadata": {},
   "source": [
    "## Data augmentation\n",
    "Data augmentation is the most important way to avoid overfitting for image classification task\n",
    "\n",
    "_Pablo: Don't do data augmentation for fluence maps_\n",
    "\n",
    "Let's try and see"
   ]
  },
  {
   "cell_type": "code",
   "execution_count": 87,
   "metadata": {},
   "outputs": [],
   "source": [
    "import math\n",
    "def crop(im, r, c, target_r, target_c): return im[r:r+target_r, c:c+target_c]\n",
    "\n",
    "# random crop to the original size\n",
    "def random_crop(x, r_pix=8):\n",
    "    \"\"\" Returns a random crop\"\"\"\n",
    "    r, c,*_ = x.shape\n",
    "    c_pix = round(r_pix*c/r)\n",
    "    rand_r = random.uniform(0, 1)\n",
    "    rand_c = random.uniform(0, 1)\n",
    "    start_r = np.floor(2*rand_r*r_pix).astype(int)\n",
    "    start_c = np.floor(2*rand_c*c_pix).astype(int)\n",
    "    return crop(x, start_r, start_c, r-2*r_pix, c-2*c_pix)\n",
    "\n",
    "def center_crop(x, r_pix=8):\n",
    "    r, c,*_ = x.shape\n",
    "    c_pix = round(r_pix*c/r)\n",
    "    return crop(x, r_pix, c_pix, r-2*r_pix, c-2*c_pix)\n",
    "\n",
    "\n",
    "def rotate_cv(im, deg, mode=cv2.BORDER_REFLECT, interpolation=cv2.INTER_AREA):\n",
    "    \"\"\" Rotates an image by deg degrees\"\"\"\n",
    "    r,c,*_ = im.shape\n",
    "    M = cv2.getRotationMatrix2D((c/2,r/2),deg,1)\n",
    "    return cv2.warpAffine(im,M,(c,r), borderMode=mode, \n",
    "                          flags=cv2.WARP_FILL_OUTLIERS+interpolation)"
   ]
  },
  {
   "cell_type": "markdown",
   "metadata": {},
   "source": [
    "### Center crop"
   ]
  },
  {
   "cell_type": "code",
   "execution_count": 88,
   "metadata": {},
   "outputs": [
    {
     "data": {
      "text/plain": [
       "(240, 240, 3)"
      ]
     },
     "execution_count": 88,
     "metadata": {},
     "output_type": "execute_result"
    },
    {
     "data": {
      "image/png": "[encoded data removed]",
      "text/plain": [
       "<Figure size 432x288 with 1 Axes>"
      ]
     },
     "metadata": {
      "needs_background": "light"
     },
     "output_type": "display_data"
    }
   ],
   "source": [
    "path = PATH/Path(\"2018\" + MAPS_LOCATION_SUFFIX)/\"1.3.6.1.4.1.9590.100.1.2.310116611339769406079254153056253359.jpeg\"\n",
    "im = read_image(path)\n",
    "im_c = center_crop(im)\n",
    "plt.imshow(im_c) # plt.imshow(im_c, cmap='gray') is the same\n",
    "im_c.shape"
   ]
  },
  {
   "cell_type": "markdown",
   "metadata": {},
   "source": [
    "### Resize, horizontal and vertical translations"
   ]
  },
  {
   "cell_type": "code",
   "execution_count": 89,
   "metadata": {},
   "outputs": [
    {
     "data": {
      "text/plain": [
       "(256, 256, 3)"
      ]
     },
     "execution_count": 89,
     "metadata": {},
     "output_type": "execute_result"
    },
    {
     "data": {
      "image/png": "[encoded data removed]",
      "text/plain": [
       "<Figure size 432x288 with 1 Axes>"
      ]
     },
     "metadata": {
      "needs_background": "light"
     },
     "output_type": "display_data"
    }
   ],
   "source": [
    "# resize desforms the image a bit\n",
    "# note that by resizing to a larger number and random cropping we are doing horizontal and vertical translations\n",
    "# we should try just center cropping the image instead of resizing\n",
    "# Pablo: but I am not resizing to a larger size but to original size 256x256\n",
    "im_l = cv2.resize(im, (272, 272))\n",
    "im_l = random_crop(im_l)\n",
    "plt.imshow(im_l)\n",
    "im_l.shape"
   ]
  },
  {
   "cell_type": "markdown",
   "metadata": {},
   "source": [
    "### Translation"
   ]
  },
  {
   "cell_type": "code",
   "execution_count": 90,
   "metadata": {},
   "outputs": [],
   "source": [
    "# https://opencv-python-tutroals.readthedocs.io/en/latest/py_tutorials/py_imgproc/py_geometric_transformations/\n",
    "# py_geometric_transformations.html\n",
    "def random_translation(x, t_pix=8):\n",
    "    \"\"\" Returns a random translation\"\"\"\n",
    "    rows, cols, *_ = x.shape\n",
    "    rand_r = random.uniform(0, 1)\n",
    "    rand_c = random.uniform(0, 1)\n",
    "    t_r = np.floor(rand_r*t_pix).astype(int)\n",
    "    t_c = np.floor(rand_c*t_pix).astype(int)\n",
    "    # shift (t_r, t_c)\n",
    "    T = np.float32([[1, 0, t_r], [0, 1, t_c]]) \n",
    "    # We use warpAffine to transform the image using the matrix T \n",
    "    return cv2.warpAffine(x, T, (cols, rows)), T"
   ]
  },
  {
   "cell_type": "code",
   "execution_count": 91,
   "metadata": {},
   "outputs": [
    {
     "name": "stdout",
     "output_type": "stream",
     "text": [
      "[[1. 0. 4.]\n",
      " [0. 1. 0.]]\n"
     ]
    },
    {
     "data": {
      "text/plain": [
       "<matplotlib.image.AxesImage at 0x7fb4344f2110>"
      ]
     },
     "execution_count": 91,
     "metadata": {},
     "output_type": "execute_result"
    },
    {
     "data": {
      "image/png": "[encoded data removed]",
      "text/plain": [
       "<Figure size 432x288 with 1 Axes>"
      ]
     },
     "metadata": {
      "needs_background": "light"
     },
     "output_type": "display_data"
    }
   ],
   "source": [
    "im_translation, T = random_translation(im)\n",
    "print(T)\n",
    "plt.imshow(im_translation) "
   ]
  },
  {
   "cell_type": "markdown",
   "metadata": {},
   "source": [
    "### Random Rotation (-10, 10) "
   ]
  },
  {
   "cell_type": "code",
   "execution_count": 92,
   "metadata": {},
   "outputs": [
    {
     "name": "stdout",
     "output_type": "stream",
     "text": [
      "8.592321856342958\n"
     ]
    },
    {
     "data": {
      "text/plain": [
       "<matplotlib.image.AxesImage at 0x7fb434363090>"
      ]
     },
     "execution_count": 92,
     "metadata": {},
     "output_type": "execute_result"
    },
    {
     "data": {
      "image/png": "[encoded data removed]",
      "text/plain": [
       "<Figure size 432x288 with 1 Axes>"
      ]
     },
     "metadata": {
      "needs_background": "light"
     },
     "output_type": "display_data"
    }
   ],
   "source": [
    "rdeg = (np.random.random()-.50)*20\n",
    "print(rdeg)\n",
    "im_rot = rotate_cv(im, rdeg)\n",
    "plt.imshow(im_rot)"
   ]
  },
  {
   "cell_type": "markdown",
   "metadata": {},
   "source": [
    "### Horizontal Flip"
   ]
  },
  {
   "cell_type": "code",
   "execution_count": 93,
   "metadata": {},
   "outputs": [
    {
     "data": {
      "text/plain": [
       "<matplotlib.image.AxesImage at 0x7fb434f419d0>"
      ]
     },
     "execution_count": 93,
     "metadata": {},
     "output_type": "execute_result"
    },
    {
     "data": {
      "image/png": "[encoded data removed]",
      "text/plain": [
       "<Figure size 432x288 with 1 Axes>"
      ]
     },
     "metadata": {
      "needs_background": "light"
     },
     "output_type": "display_data"
    }
   ],
   "source": [
    "im_f = np.fliplr(im)\n",
    "plt.imshow(im_f)"
   ]
  },
  {
   "cell_type": "markdown",
   "metadata": {},
   "source": [
    "## Split train and validation"
   ]
  },
  {
   "cell_type": "markdown",
   "metadata": {},
   "source": [
    "_Pablo: Not all fluence map files have a gamma value in the gamma .csv file, so we need to split the gamma .csv file and not the map files in the file system._"
   ]
  },
  {
   "cell_type": "code",
   "execution_count": 94,
   "metadata": {},
   "outputs": [],
   "source": [
    "# from sklearn.model_selection import train_test_split\n",
    "# all_files = list(PATH.iterdir())\n",
    "# X_train, X_test = train_test_split(all_files, test_size=0.2, random_state=12345)"
   ]
  },
  {
   "cell_type": "code",
   "execution_count": 95,
   "metadata": {},
   "outputs": [],
   "source": [
    "# print(len(X_train), len(X_test))"
   ]
  },
  {
   "cell_type": "code",
   "execution_count": 96,
   "metadata": {},
   "outputs": [
    {
     "data": {
      "text/html": [
       "<div>\n",
       "<style scoped>\n",
       "    .dataframe tbody tr th:only-of-type {\n",
       "        vertical-align: middle;\n",
       "    }\n",
       "\n",
       "    .dataframe tbody tr th {\n",
       "        vertical-align: top;\n",
       "    }\n",
       "\n",
       "    .dataframe thead th {\n",
       "        text-align: right;\n",
       "    }\n",
       "</style>\n",
       "<table border=\"1\" class=\"dataframe\">\n",
       "  <thead>\n",
       "    <tr style=\"text-align: right;\">\n",
       "      <th></th>\n",
       "      <th>año</th>\n",
       "      <th>fluencia medida</th>\n",
       "      <th>fluencia calculada</th>\n",
       "      <th>uno menos gamma index</th>\n",
       "    </tr>\n",
       "  </thead>\n",
       "  <tbody>\n",
       "    <tr>\n",
       "      <th>0</th>\n",
       "      <td>2019</td>\n",
       "      <td>1.3.6.1.4.1.9590.100.1.2.106363004312018285639...</td>\n",
       "      <td>1.3.6.1.4.1.9590.100.1.2.250681179813913418312...</td>\n",
       "      <td>0.126820</td>\n",
       "    </tr>\n",
       "    <tr>\n",
       "      <th>1</th>\n",
       "      <td>2019</td>\n",
       "      <td>1.3.6.1.4.1.9590.100.1.2.117111588412865729801...</td>\n",
       "      <td>1.3.6.1.4.1.9590.100.1.2.189485955411711008602...</td>\n",
       "      <td>0.004941</td>\n",
       "    </tr>\n",
       "    <tr>\n",
       "      <th>2</th>\n",
       "      <td>2019</td>\n",
       "      <td>1.3.6.1.4.1.9590.100.1.2.190727149413805451333...</td>\n",
       "      <td>1.3.6.1.4.1.9590.100.1.2.266447459412025533907...</td>\n",
       "      <td>0.541950</td>\n",
       "    </tr>\n",
       "    <tr>\n",
       "      <th>3</th>\n",
       "      <td>2019</td>\n",
       "      <td>1.3.6.1.4.1.9590.100.1.2.211756715011326913522...</td>\n",
       "      <td>1.3.6.1.4.1.9590.100.1.2.310552899912770926928...</td>\n",
       "      <td>0.000000</td>\n",
       "    </tr>\n",
       "    <tr>\n",
       "      <th>4</th>\n",
       "      <td>2019</td>\n",
       "      <td>1.3.6.1.4.1.9590.100.1.2.225990696211768600614...</td>\n",
       "      <td>1.3.6.1.4.1.9590.100.1.2.384142289612482598518...</td>\n",
       "      <td>0.406440</td>\n",
       "    </tr>\n",
       "  </tbody>\n",
       "</table>\n",
       "</div>"
      ],
      "text/plain": [
       "    año                                    fluencia medida  \\\n",
       "0  2019  1.3.6.1.4.1.9590.100.1.2.106363004312018285639...   \n",
       "1  2019  1.3.6.1.4.1.9590.100.1.2.117111588412865729801...   \n",
       "2  2019  1.3.6.1.4.1.9590.100.1.2.190727149413805451333...   \n",
       "3  2019  1.3.6.1.4.1.9590.100.1.2.211756715011326913522...   \n",
       "4  2019  1.3.6.1.4.1.9590.100.1.2.225990696211768600614...   \n",
       "\n",
       "                                  fluencia calculada  uno menos gamma index  \n",
       "0  1.3.6.1.4.1.9590.100.1.2.250681179813913418312...               0.126820  \n",
       "1  1.3.6.1.4.1.9590.100.1.2.189485955411711008602...               0.004941  \n",
       "2  1.3.6.1.4.1.9590.100.1.2.266447459412025533907...               0.541950  \n",
       "3  1.3.6.1.4.1.9590.100.1.2.310552899912770926928...               0.000000  \n",
       "4  1.3.6.1.4.1.9590.100.1.2.384142289612482598518...               0.406440  "
      ]
     },
     "execution_count": 96,
     "metadata": {},
     "output_type": "execute_result"
    }
   ],
   "source": [
    "maps_in = pd.read_csv(PATH/CODEX_FILE, sep=';', delimiter=None, header=0)\n",
    "maps_in.head()"
   ]
  },
  {
   "cell_type": "code",
   "execution_count": 97,
   "metadata": {},
   "outputs": [
    {
     "data": {
      "text/html": [
       "<div>\n",
       "<style scoped>\n",
       "    .dataframe tbody tr th:only-of-type {\n",
       "        vertical-align: middle;\n",
       "    }\n",
       "\n",
       "    .dataframe tbody tr th {\n",
       "        vertical-align: top;\n",
       "    }\n",
       "\n",
       "    .dataframe thead th {\n",
       "        text-align: right;\n",
       "    }\n",
       "</style>\n",
       "<table border=\"1\" class=\"dataframe\">\n",
       "  <thead>\n",
       "    <tr style=\"text-align: right;\">\n",
       "      <th></th>\n",
       "      <th>full_filename_jpeg</th>\n",
       "      <th>gamma_index</th>\n",
       "    </tr>\n",
       "  </thead>\n",
       "  <tbody>\n",
       "    <tr>\n",
       "      <th>0</th>\n",
       "      <td>/home/pablo/datasets/data/radioterapia/ciolapl...</td>\n",
       "      <td>99.873180</td>\n",
       "    </tr>\n",
       "    <tr>\n",
       "      <th>1</th>\n",
       "      <td>/home/pablo/datasets/data/radioterapia/ciolapl...</td>\n",
       "      <td>99.995059</td>\n",
       "    </tr>\n",
       "    <tr>\n",
       "      <th>2</th>\n",
       "      <td>/home/pablo/datasets/data/radioterapia/ciolapl...</td>\n",
       "      <td>99.458050</td>\n",
       "    </tr>\n",
       "    <tr>\n",
       "      <th>3</th>\n",
       "      <td>/home/pablo/datasets/data/radioterapia/ciolapl...</td>\n",
       "      <td>100.000000</td>\n",
       "    </tr>\n",
       "    <tr>\n",
       "      <th>4</th>\n",
       "      <td>/home/pablo/datasets/data/radioterapia/ciolapl...</td>\n",
       "      <td>99.593560</td>\n",
       "    </tr>\n",
       "  </tbody>\n",
       "</table>\n",
       "</div>"
      ],
      "text/plain": [
       "                                  full_filename_jpeg  gamma_index\n",
       "0  /home/pablo/datasets/data/radioterapia/ciolapl...    99.873180\n",
       "1  /home/pablo/datasets/data/radioterapia/ciolapl...    99.995059\n",
       "2  /home/pablo/datasets/data/radioterapia/ciolapl...    99.458050\n",
       "3  /home/pablo/datasets/data/radioterapia/ciolapl...   100.000000\n",
       "4  /home/pablo/datasets/data/radioterapia/ciolapl...    99.593560"
      ]
     },
     "execution_count": 97,
     "metadata": {},
     "output_type": "execute_result"
    }
   ],
   "source": [
    "maps_out = pd.DataFrame(columns=['full_filename_jpeg', 'gamma_index'])\n",
    "maps_out['full_filename_jpeg'] = [PATH/Path(str(row[0])+MAPS_LOCATION_SUFFIX)/Path(str(row[1])+'.jpeg') for row in maps_in[['año', 'fluencia calculada']].values]\n",
    "maps_out['gamma_index'] = maps_in.apply(lambda row: 100.0 - row['uno menos gamma index'], axis=1)\n",
    "maps_out.head()"
   ]
  },
  {
   "cell_type": "code",
   "execution_count": 98,
   "metadata": {},
   "outputs": [
    {
     "data": {
      "text/plain": [
       "(PosixPath('/home/pablo/datasets/data/radioterapia/ciolaplata/2019-opencv-jpeg/1.3.6.1.4.1.9590.100.1.2.250681179813913418312485712811639382340.jpeg'),\n",
       " 99.87318)"
      ]
     },
     "execution_count": 98,
     "metadata": {},
     "output_type": "execute_result"
    }
   ],
   "source": [
    "maps_out['full_filename_jpeg'][0], maps_out['gamma_index'][0]"
   ]
  },
  {
   "cell_type": "code",
   "execution_count": 99,
   "metadata": {},
   "outputs": [
    {
     "data": {
      "text/plain": [
       "(PosixPath('/home/pablo/datasets/data/radioterapia/ciolaplata/2019-opencv-jpeg/1.3.6.1.4.1.9590.100.1.2.250681179813913418312485712811639382340.jpeg'),\n",
       " 99.87318)"
      ]
     },
     "execution_count": 99,
     "metadata": {},
     "output_type": "execute_result"
    }
   ],
   "source": [
    "row = maps_out.iloc[0,:]\n",
    "row['full_filename_jpeg'], row['gamma_index'] "
   ]
  },
  {
   "cell_type": "code",
   "execution_count": 100,
   "metadata": {},
   "outputs": [
    {
     "data": {
      "text/plain": [
       "(99.87318,\n",
       " numpy.float64,\n",
       " array([99.87318]),\n",
       " numpy.ndarray,\n",
       " 99.87318,\n",
       " numpy.float64)"
      ]
     },
     "execution_count": 100,
     "metadata": {},
     "output_type": "execute_result"
    }
   ],
   "source": [
    "y = row['gamma_index']\n",
    "y, type(y), y[None], type(y[None]), y[None][0], type(y[None][0])"
   ]
  },
  {
   "cell_type": "code",
   "execution_count": 101,
   "metadata": {},
   "outputs": [
    {
     "data": {
      "text/plain": [
       "<matplotlib.image.AxesImage at 0x7fb434ab0d10>"
      ]
     },
     "execution_count": 101,
     "metadata": {},
     "output_type": "execute_result"
    },
    {
     "data": {
      "image/png": "[encoded data removed]",
      "text/plain": [
       "<Figure size 432x288 with 1 Axes>"
      ]
     },
     "metadata": {
      "needs_background": "light"
     },
     "output_type": "display_data"
    }
   ],
   "source": [
    "path = row['full_filename_jpeg']\n",
    "im = read_image(path)\n",
    "plt.imshow(im)"
   ]
  },
  {
   "cell_type": "code",
   "execution_count": 102,
   "metadata": {},
   "outputs": [
    {
     "data": {
      "text/plain": [
       "(256, 256, 3)"
      ]
     },
     "execution_count": 102,
     "metadata": {},
     "output_type": "execute_result"
    }
   ],
   "source": [
    "im.shape"
   ]
  },
  {
   "cell_type": "code",
   "execution_count": 103,
   "metadata": {},
   "outputs": [
    {
     "data": {
      "text/plain": [
       "(0, 255)"
      ]
     },
     "execution_count": 103,
     "metadata": {},
     "output_type": "execute_result"
    }
   ],
   "source": [
    "# channel 0\n",
    "np.min(im[:,:,0]), np.max(im[:,:,0])"
   ]
  },
  {
   "cell_type": "code",
   "execution_count": 104,
   "metadata": {},
   "outputs": [],
   "source": [
    "mask = np.random.random(len(maps_out)) < 0.8\n",
    "train_maps = maps_out[mask].copy()\n",
    "valid_maps = maps_out[~mask].copy()"
   ]
  },
  {
   "cell_type": "code",
   "execution_count": 105,
   "metadata": {},
   "outputs": [
    {
     "data": {
      "text/plain": [
       "(1227, 972, 255)"
      ]
     },
     "execution_count": 105,
     "metadata": {},
     "output_type": "execute_result"
    }
   ],
   "source": [
    "len(maps_out), len(train_maps), len(valid_maps) "
   ]
  },
  {
   "cell_type": "code",
   "execution_count": 106,
   "metadata": {},
   "outputs": [
    {
     "data": {
      "text/plain": [
       "1226"
      ]
     },
     "execution_count": 106,
     "metadata": {},
     "output_type": "execute_result"
    }
   ],
   "source": [
    "files = [x for x in maps_out['full_filename_jpeg']]\n",
    "files = list(set(files)) # set(.) to remove duplicates\n",
    "len(files)"
   ]
  },
  {
   "cell_type": "markdown",
   "metadata": {},
   "source": [
    "## Resizing data"
   ]
  },
  {
   "cell_type": "code",
   "execution_count": 107,
   "metadata": {},
   "outputs": [],
   "source": [
    "# 272 = 256 (orig size) + 8*2 (8 pixels cropped)\n",
    "def resize_crop_image(path, sz=(272, 272)):\n",
    "    im = read_image(path)\n",
    "    im = center_crop(im)\n",
    "    return cv2.resize(im, sz)"
   ]
  },
  {
   "cell_type": "code",
   "execution_count": 108,
   "metadata": {},
   "outputs": [],
   "source": [
    "def resize_all_images(resize_path):\n",
    "    files = [x for x in train_maps['full_filename_jpeg']]\n",
    "    for f in files:\n",
    "        f_name = f.parts[-1]    \n",
    "        new_path = resize_path/f_name\n",
    "            \n",
    "        im = resize_crop_image(f)\n",
    "        cv2.imwrite(str(new_path), im, [int(cv2.IMWRITE_JPEG_QUALITY), 100])"
   ]
  },
  {
   "cell_type": "code",
   "execution_count": 109,
   "metadata": {},
   "outputs": [],
   "source": [
    "TRANSFORM = True\n",
    "#if TRANSFORM:\n",
    "#    RESIZE_PATH = 'train_272_272'\n",
    "#    # just run the first time\n",
    "#    resize_all_images(PATH/RESIZE_PATH)\n",
    "#\n",
    "#    train_maps['full_filename_jpeg'] = Path('/').joinpath(*(file.parts[:-2]+(RESIZE_PATH,)+(file.parts[-1],)))\n",
    "#    train_maps.head()"
   ]
  },
  {
   "cell_type": "markdown",
   "metadata": {},
   "source": [
    "## Dataset"
   ]
  },
  {
   "cell_type": "code",
   "execution_count": 111,
   "metadata": {},
   "outputs": [
    {
     "data": {
      "text/plain": [
       "(PosixPath('/home/pablo/datasets/data/radioterapia/ciolaplata/2019-opencv-jpeg/1.3.6.1.4.1.9590.100.1.2.250681179813913418312485712811639382340.jpeg'),\n",
       " 99.87318)"
      ]
     },
     "execution_count": 111,
     "metadata": {},
     "output_type": "execute_result"
    }
   ],
   "source": [
    "train_maps['full_filename_jpeg'][0], train_maps['gamma_index'][0]"
   ]
  },
  {
   "cell_type": "code",
   "execution_count": 112,
   "metadata": {},
   "outputs": [],
   "source": [
    "def rescale_0_to_1(image):\n",
    "    \"\"\"\n",
    "    Rescale image to [0, 1].\n",
    "    \"\"\"\n",
    "    # Image must be casted to float32 first\n",
    "    image = image.astype('float')\n",
    "    image = (image/255.0)\n",
    "    return image"
   ]
  },
  {
   "cell_type": "code",
   "execution_count": 113,
   "metadata": {},
   "outputs": [],
   "source": [
    "def rescale_min_1_to_1(image):\n",
    "    \"\"\"\n",
    "    Rescale image to [-1, 1].\n",
    "    \"\"\"\n",
    "    # Image must be casted to float32 first\n",
    "    image = image.astype('float')\n",
    "    # Rescale image from [0, 255] to [0, 2], and by substracting -1 we rescale to [-1, 1].\n",
    "    image = (image/127.5) - 1\n",
    "    return image"
   ]
  },
  {
   "cell_type": "code",
   "execution_count": 114,
   "metadata": {},
   "outputs": [],
   "source": [
    "def normalize(im):\n",
    "    \"\"\"Normalizes images with Imagenet stats.\"\"\"\n",
    "    mean = [0.485, 0.456, 0.406]\n",
    "    std = [0.229, 0.224, 0.225]\n",
    "    imagenet_stats = np.array([mean, std])\n",
    "    return (im - imagenet_stats[0])/imagenet_stats[1]"
   ]
  },
  {
   "cell_type": "code",
   "execution_count": 118,
   "metadata": {},
   "outputs": [],
   "source": [
    "class FluenceMapsDataset(Dataset):\n",
    "    def __init__(self, maps, transform=False):\n",
    "        self.num_maps = len(maps)\n",
    "        self.maps = maps\n",
    "        self.transform = transform\n",
    "        \n",
    "    def __len__(self):\n",
    "        return self.num_maps\n",
    "    \n",
    "    def __getitem__(self, index):\n",
    "        row = self.maps.iloc[index,:]\n",
    "        y = row['gamma_index']\n",
    "        path = str(row['full_filename_jpeg'])\n",
    "        x = read_image(path)\n",
    "        if self.transform:\n",
    "            rdeg = (np.random.random()-.50)*20\n",
    "            x = rotate_cv(x, rdeg)\n",
    "            # x = random_crop(x)\n",
    "            # if np.random.random() > 0.5: x = np.fliplr(x).copy()\n",
    "            x, _ = random_translation(x)\n",
    "        x = rescale_0_to_1(x)\n",
    "        # x = normalize(x) # do not normalize, model performance is lower.\n",
    "        # rollaxis: (256, 256, 3) => (3, 256, 256)\n",
    "        return np.rollaxis(x, 2), y[None], path # y[None] converts y to numpy.ndarray "
   ]
  },
  {
   "cell_type": "code",
   "execution_count": 119,
   "metadata": {},
   "outputs": [],
   "source": [
    "train_ds = FluenceMapsDataset(train_maps, transform=TRANSFORM)\n",
    "valid_ds = FluenceMapsDataset(valid_maps)"
   ]
  },
  {
   "cell_type": "code",
   "execution_count": 120,
   "metadata": {},
   "outputs": [
    {
     "data": {
      "text/plain": [
       "((3, 256, 256),\n",
       " array([99.87318]),\n",
       " '/home/pablo/datasets/data/radioterapia/ciolaplata/2019-opencv-jpeg/1.3.6.1.4.1.9590.100.1.2.250681179813913418312485712811639382340.jpeg')"
      ]
     },
     "execution_count": 120,
     "metadata": {},
     "output_type": "execute_result"
    }
   ],
   "source": [
    "x, y, f = train_ds[0]\n",
    "x.shape, y, f"
   ]
  },
  {
   "cell_type": "code",
   "execution_count": 121,
   "metadata": {},
   "outputs": [
    {
     "data": {
      "text/plain": [
       "<matplotlib.image.AxesImage at 0x7fb4347430d0>"
      ]
     },
     "execution_count": 121,
     "metadata": {},
     "output_type": "execute_result"
    },
    {
     "data": {
      "image/png": "[encoded data removed]",
      "text/plain": [
       "<Figure size 432x288 with 1 Axes>"
      ]
     },
     "metadata": {
      "needs_background": "light"
     },
     "output_type": "display_data"
    }
   ],
   "source": [
    "row = train_maps.iloc[0,:]\n",
    "path = row['full_filename_jpeg']\n",
    "im = read_image(path)\n",
    "plt.imshow(im)"
   ]
  },
  {
   "cell_type": "code",
   "execution_count": 122,
   "metadata": {},
   "outputs": [
    {
     "data": {
      "text/plain": [
       "<matplotlib.image.AxesImage at 0x7fb43455dad0>"
      ]
     },
     "execution_count": 122,
     "metadata": {},
     "output_type": "execute_result"
    },
    {
     "data": {
      "image/png": "[encoded data removed]",
      "text/plain": [
       "<Figure size 432x288 with 1 Axes>"
      ]
     },
     "metadata": {
      "needs_background": "light"
     },
     "output_type": "display_data"
    }
   ],
   "source": [
    "x = np.rollaxis(x, 2)\n",
    "x = np.rollaxis(x, 2)\n",
    "plt.imshow(x)"
   ]
  },
  {
   "cell_type": "code",
   "execution_count": 123,
   "metadata": {},
   "outputs": [
    {
     "data": {
      "text/plain": [
       "((3, 256, 256), array([100.]))"
      ]
     },
     "execution_count": 123,
     "metadata": {},
     "output_type": "execute_result"
    }
   ],
   "source": [
    "x, y, _ = valid_ds[0]\n",
    "x.shape, y"
   ]
  },
  {
   "cell_type": "code",
   "execution_count": 124,
   "metadata": {},
   "outputs": [],
   "source": [
    "BATCH_SIZE = 32\n",
    "train_loader = DataLoader(train_ds, batch_size=BATCH_SIZE, shuffle=True, num_workers=8)\n",
    "valid_loader = DataLoader(valid_ds, batch_size=BATCH_SIZE, num_workers=8)"
   ]
  },
  {
   "cell_type": "code",
   "execution_count": 125,
   "metadata": {},
   "outputs": [
    {
     "data": {
      "text/plain": [
       "972"
      ]
     },
     "execution_count": 125,
     "metadata": {},
     "output_type": "execute_result"
    }
   ],
   "source": [
    "len(train_ds)"
   ]
  },
  {
   "cell_type": "code",
   "execution_count": 126,
   "metadata": {},
   "outputs": [
    {
     "data": {
      "text/plain": [
       "31"
      ]
     },
     "execution_count": 126,
     "metadata": {},
     "output_type": "execute_result"
    }
   ],
   "source": [
    "len(train_loader)"
   ]
  },
  {
   "cell_type": "code",
   "execution_count": 127,
   "metadata": {},
   "outputs": [],
   "source": [
    "train_dl = DataLoader(train_ds, batch_size=BATCH_SIZE, shuffle=True)\n",
    "valid_dl = DataLoader(valid_ds, batch_size=BATCH_SIZE)"
   ]
  },
  {
   "cell_type": "markdown",
   "metadata": {},
   "source": [
    "## Model"
   ]
  },
  {
   "cell_type": "code",
   "execution_count": 128,
   "metadata": {},
   "outputs": [],
   "source": [
    "#conda install ipywidgets\n",
    "resnet = models.resnet18(pretrained=True)\n",
    "#resnet = models.resnet34(pretrained=True)\n",
    "#resnet "
   ]
  },
  {
   "cell_type": "code",
   "execution_count": 129,
   "metadata": {},
   "outputs": [
    {
     "name": "stdout",
     "output_type": "stream",
     "text": [
      "10\n",
      "-----------------------layer 0-----------------------\n",
      "Conv2d(3, 64, kernel_size=(7, 7), stride=(2, 2), padding=(3, 3), bias=False)\n",
      "-----------------------layer 1-----------------------\n",
      "BatchNorm2d(64, eps=1e-05, momentum=0.1, affine=True, track_running_stats=True)\n",
      "-----------------------layer 2-----------------------\n",
      "ReLU(inplace=True)\n",
      "-----------------------layer 3-----------------------\n",
      "MaxPool2d(kernel_size=3, stride=2, padding=1, dilation=1, ceil_mode=False)\n",
      "-----------------------layer 4-----------------------\n",
      "Sequential(\n",
      "  (0): BasicBlock(\n",
      "    (conv1): Conv2d(64, 64, kernel_size=(3, 3), stride=(1, 1), padding=(1, 1), bias=False)\n",
      "    (bn1): BatchNorm2d(64, eps=1e-05, momentum=0.1, affine=True, track_running_stats=True)\n",
      "    (relu): ReLU(inplace=True)\n",
      "    (conv2): Conv2d(64, 64, kernel_size=(3, 3), stride=(1, 1), padding=(1, 1), bias=False)\n",
      "    (bn2): BatchNorm2d(64, eps=1e-05, momentum=0.1, affine=True, track_running_stats=True)\n",
      "  )\n",
      "  (1): BasicBlock(\n",
      "    (conv1): Conv2d(64, 64, kernel_size=(3, 3), stride=(1, 1), padding=(1, 1), bias=False)\n",
      "    (bn1): BatchNorm2d(64, eps=1e-05, momentum=0.1, affine=True, track_running_stats=True)\n",
      "    (relu): ReLU(inplace=True)\n",
      "    (conv2): Conv2d(64, 64, kernel_size=(3, 3), stride=(1, 1), padding=(1, 1), bias=False)\n",
      "    (bn2): BatchNorm2d(64, eps=1e-05, momentum=0.1, affine=True, track_running_stats=True)\n",
      "  )\n",
      ")\n",
      "-----------------------layer 5-----------------------\n",
      "Sequential(\n",
      "  (0): BasicBlock(\n",
      "    (conv1): Conv2d(64, 128, kernel_size=(3, 3), stride=(2, 2), padding=(1, 1), bias=False)\n",
      "    (bn1): BatchNorm2d(128, eps=1e-05, momentum=0.1, affine=True, track_running_stats=True)\n",
      "    (relu): ReLU(inplace=True)\n",
      "    (conv2): Conv2d(128, 128, kernel_size=(3, 3), stride=(1, 1), padding=(1, 1), bias=False)\n",
      "    (bn2): BatchNorm2d(128, eps=1e-05, momentum=0.1, affine=True, track_running_stats=True)\n",
      "    (downsample): Sequential(\n",
      "      (0): Conv2d(64, 128, kernel_size=(1, 1), stride=(2, 2), bias=False)\n",
      "      (1): BatchNorm2d(128, eps=1e-05, momentum=0.1, affine=True, track_running_stats=True)\n",
      "    )\n",
      "  )\n",
      "  (1): BasicBlock(\n",
      "    (conv1): Conv2d(128, 128, kernel_size=(3, 3), stride=(1, 1), padding=(1, 1), bias=False)\n",
      "    (bn1): BatchNorm2d(128, eps=1e-05, momentum=0.1, affine=True, track_running_stats=True)\n",
      "    (relu): ReLU(inplace=True)\n",
      "    (conv2): Conv2d(128, 128, kernel_size=(3, 3), stride=(1, 1), padding=(1, 1), bias=False)\n",
      "    (bn2): BatchNorm2d(128, eps=1e-05, momentum=0.1, affine=True, track_running_stats=True)\n",
      "  )\n",
      ")\n",
      "-----------------------layer 6-----------------------\n",
      "Sequential(\n",
      "  (0): BasicBlock(\n",
      "    (conv1): Conv2d(128, 256, kernel_size=(3, 3), stride=(2, 2), padding=(1, 1), bias=False)\n",
      "    (bn1): BatchNorm2d(256, eps=1e-05, momentum=0.1, affine=True, track_running_stats=True)\n",
      "    (relu): ReLU(inplace=True)\n",
      "    (conv2): Conv2d(256, 256, kernel_size=(3, 3), stride=(1, 1), padding=(1, 1), bias=False)\n",
      "    (bn2): BatchNorm2d(256, eps=1e-05, momentum=0.1, affine=True, track_running_stats=True)\n",
      "    (downsample): Sequential(\n",
      "      (0): Conv2d(128, 256, kernel_size=(1, 1), stride=(2, 2), bias=False)\n",
      "      (1): BatchNorm2d(256, eps=1e-05, momentum=0.1, affine=True, track_running_stats=True)\n",
      "    )\n",
      "  )\n",
      "  (1): BasicBlock(\n",
      "    (conv1): Conv2d(256, 256, kernel_size=(3, 3), stride=(1, 1), padding=(1, 1), bias=False)\n",
      "    (bn1): BatchNorm2d(256, eps=1e-05, momentum=0.1, affine=True, track_running_stats=True)\n",
      "    (relu): ReLU(inplace=True)\n",
      "    (conv2): Conv2d(256, 256, kernel_size=(3, 3), stride=(1, 1), padding=(1, 1), bias=False)\n",
      "    (bn2): BatchNorm2d(256, eps=1e-05, momentum=0.1, affine=True, track_running_stats=True)\n",
      "  )\n",
      ")\n",
      "-----------------------layer 7-----------------------\n",
      "Sequential(\n",
      "  (0): BasicBlock(\n",
      "    (conv1): Conv2d(256, 512, kernel_size=(3, 3), stride=(2, 2), padding=(1, 1), bias=False)\n",
      "    (bn1): BatchNorm2d(512, eps=1e-05, momentum=0.1, affine=True, track_running_stats=True)\n",
      "    (relu): ReLU(inplace=True)\n",
      "    (conv2): Conv2d(512, 512, kernel_size=(3, 3), stride=(1, 1), padding=(1, 1), bias=False)\n",
      "    (bn2): BatchNorm2d(512, eps=1e-05, momentum=0.1, affine=True, track_running_stats=True)\n",
      "    (downsample): Sequential(\n",
      "      (0): Conv2d(256, 512, kernel_size=(1, 1), stride=(2, 2), bias=False)\n",
      "      (1): BatchNorm2d(512, eps=1e-05, momentum=0.1, affine=True, track_running_stats=True)\n",
      "    )\n",
      "  )\n",
      "  (1): BasicBlock(\n",
      "    (conv1): Conv2d(512, 512, kernel_size=(3, 3), stride=(1, 1), padding=(1, 1), bias=False)\n",
      "    (bn1): BatchNorm2d(512, eps=1e-05, momentum=0.1, affine=True, track_running_stats=True)\n",
      "    (relu): ReLU(inplace=True)\n",
      "    (conv2): Conv2d(512, 512, kernel_size=(3, 3), stride=(1, 1), padding=(1, 1), bias=False)\n",
      "    (bn2): BatchNorm2d(512, eps=1e-05, momentum=0.1, affine=True, track_running_stats=True)\n",
      "  )\n",
      ")\n",
      "-----------------------layer 8-----------------------\n",
      "AdaptiveAvgPool2d(output_size=(1, 1))\n",
      "-----------------------layer 9-----------------------\n",
      "Linear(in_features=512, out_features=1000, bias=True)\n"
     ]
    }
   ],
   "source": [
    "layers = list(resnet.children())\n",
    "print(len(layers))\n",
    "# layers[-2:]\n",
    "for i in range(len(layers)):\n",
    "    print (f\"-----------------------layer {i}-----------------------\")\n",
    "    print(layers[i])\n",
    "    \n",
    "# we want to freeze the fc2 layer this time: only train fc1 and fc3\n",
    "#net.fc2.weight.requires_grad = False\n",
    "#net.fc2.bias.requires_grad = False\n",
    "\n",
    "#for param in resnet.parameters():\n",
    "#    param.requires_grad = True\n",
    "    \n",
    "#layers[0].weight.requires_grad = False\n",
    "#layers[1].requires_grad = False\n",
    "#layers[4][0].conv1.weight.requires_grad = False\n",
    "#layers[4][0].conv2.weight.requires_grad = False\n",
    "\n",
    "#for param in resnet.parameters():\n",
    "#    print(param.shape, param.requires_grad)"
   ]
  },
  {
   "cell_type": "code",
   "execution_count": 130,
   "metadata": {},
   "outputs": [],
   "source": [
    "# see https://discuss.pytorch.org/t/pytorch-equivalent-of-keras/29412\n",
    "class Net(nn.Module):\n",
    "    def __init__(self):\n",
    "        super(Net, self).__init__()\n",
    "        resnet = models.resnet18(pretrained=True)\n",
    "        #resnet = models.resnet34(pretrained=True)\n",
    "        layers = list(resnet.children())[:8]\n",
    "        self.features1 = nn.Sequential(*layers[:6])\n",
    "        self.features2 = nn.Sequential(*layers[6:])\n",
    "        self.out = 512 + 512\n",
    "        self.bn1 = nn.BatchNorm1d(self.out)\n",
    "        self.fc1 = nn.Linear(self.out, 512)\n",
    "        self.classifier = nn.Sequential(nn.BatchNorm1d(512), nn.Linear(512,1))\n",
    "    \n",
    "    def forward(self, x):\n",
    "        x = self.features1(x)\n",
    "        x = self.features2(x)\n",
    "        x = F.relu(x)\n",
    "        x1 = nn.AdaptiveAvgPool2d((1,1))(x)\n",
    "        x1 = x1.view(x1.shape[0], -1) # flattening\n",
    "        x2 = nn.AdaptiveMaxPool2d((1,1))(x)\n",
    "        x2 = x2.view(x2.shape[0], -1) # flattening\n",
    "        x = torch.cat([x1, x2], 1)\n",
    "        x = nn.Dropout(0.2)(x)\n",
    "        x = self.bn1(x)\n",
    "        x = F.relu(self.fc1(x))\n",
    "        x = nn.Dropout(0.2)(x)\n",
    "        x = self.classifier(x)\n",
    "        return x"
   ]
  },
  {
   "cell_type": "code",
   "execution_count": 131,
   "metadata": {},
   "outputs": [],
   "source": [
    "model = Net().cuda()"
   ]
  },
  {
   "cell_type": "code",
   "execution_count": 132,
   "metadata": {},
   "outputs": [
    {
     "data": {
      "text/plain": [
       "Net(\n",
       "  (features1): Sequential(\n",
       "    (0): Conv2d(3, 64, kernel_size=(7, 7), stride=(2, 2), padding=(3, 3), bias=False)\n",
       "    (1): BatchNorm2d(64, eps=1e-05, momentum=0.1, affine=True, track_running_stats=True)\n",
       "    (2): ReLU(inplace=True)\n",
       "    (3): MaxPool2d(kernel_size=3, stride=2, padding=1, dilation=1, ceil_mode=False)\n",
       "    (4): Sequential(\n",
       "      (0): BasicBlock(\n",
       "        (conv1): Conv2d(64, 64, kernel_size=(3, 3), stride=(1, 1), padding=(1, 1), bias=False)\n",
       "        (bn1): BatchNorm2d(64, eps=1e-05, momentum=0.1, affine=True, track_running_stats=True)\n",
       "        (relu): ReLU(inplace=True)\n",
       "        (conv2): Conv2d(64, 64, kernel_size=(3, 3), stride=(1, 1), padding=(1, 1), bias=False)\n",
       "        (bn2): BatchNorm2d(64, eps=1e-05, momentum=0.1, affine=True, track_running_stats=True)\n",
       "      )\n",
       "      (1): BasicBlock(\n",
       "        (conv1): Conv2d(64, 64, kernel_size=(3, 3), stride=(1, 1), padding=(1, 1), bias=False)\n",
       "        (bn1): BatchNorm2d(64, eps=1e-05, momentum=0.1, affine=True, track_running_stats=True)\n",
       "        (relu): ReLU(inplace=True)\n",
       "        (conv2): Conv2d(64, 64, kernel_size=(3, 3), stride=(1, 1), padding=(1, 1), bias=False)\n",
       "        (bn2): BatchNorm2d(64, eps=1e-05, momentum=0.1, affine=True, track_running_stats=True)\n",
       "      )\n",
       "    )\n",
       "    (5): Sequential(\n",
       "      (0): BasicBlock(\n",
       "        (conv1): Conv2d(64, 128, kernel_size=(3, 3), stride=(2, 2), padding=(1, 1), bias=False)\n",
       "        (bn1): BatchNorm2d(128, eps=1e-05, momentum=0.1, affine=True, track_running_stats=True)\n",
       "        (relu): ReLU(inplace=True)\n",
       "        (conv2): Conv2d(128, 128, kernel_size=(3, 3), stride=(1, 1), padding=(1, 1), bias=False)\n",
       "        (bn2): BatchNorm2d(128, eps=1e-05, momentum=0.1, affine=True, track_running_stats=True)\n",
       "        (downsample): Sequential(\n",
       "          (0): Conv2d(64, 128, kernel_size=(1, 1), stride=(2, 2), bias=False)\n",
       "          (1): BatchNorm2d(128, eps=1e-05, momentum=0.1, affine=True, track_running_stats=True)\n",
       "        )\n",
       "      )\n",
       "      (1): BasicBlock(\n",
       "        (conv1): Conv2d(128, 128, kernel_size=(3, 3), stride=(1, 1), padding=(1, 1), bias=False)\n",
       "        (bn1): BatchNorm2d(128, eps=1e-05, momentum=0.1, affine=True, track_running_stats=True)\n",
       "        (relu): ReLU(inplace=True)\n",
       "        (conv2): Conv2d(128, 128, kernel_size=(3, 3), stride=(1, 1), padding=(1, 1), bias=False)\n",
       "        (bn2): BatchNorm2d(128, eps=1e-05, momentum=0.1, affine=True, track_running_stats=True)\n",
       "      )\n",
       "    )\n",
       "  )\n",
       "  (features2): Sequential(\n",
       "    (0): Sequential(\n",
       "      (0): BasicBlock(\n",
       "        (conv1): Conv2d(128, 256, kernel_size=(3, 3), stride=(2, 2), padding=(1, 1), bias=False)\n",
       "        (bn1): BatchNorm2d(256, eps=1e-05, momentum=0.1, affine=True, track_running_stats=True)\n",
       "        (relu): ReLU(inplace=True)\n",
       "        (conv2): Conv2d(256, 256, kernel_size=(3, 3), stride=(1, 1), padding=(1, 1), bias=False)\n",
       "        (bn2): BatchNorm2d(256, eps=1e-05, momentum=0.1, affine=True, track_running_stats=True)\n",
       "        (downsample): Sequential(\n",
       "          (0): Conv2d(128, 256, kernel_size=(1, 1), stride=(2, 2), bias=False)\n",
       "          (1): BatchNorm2d(256, eps=1e-05, momentum=0.1, affine=True, track_running_stats=True)\n",
       "        )\n",
       "      )\n",
       "      (1): BasicBlock(\n",
       "        (conv1): Conv2d(256, 256, kernel_size=(3, 3), stride=(1, 1), padding=(1, 1), bias=False)\n",
       "        (bn1): BatchNorm2d(256, eps=1e-05, momentum=0.1, affine=True, track_running_stats=True)\n",
       "        (relu): ReLU(inplace=True)\n",
       "        (conv2): Conv2d(256, 256, kernel_size=(3, 3), stride=(1, 1), padding=(1, 1), bias=False)\n",
       "        (bn2): BatchNorm2d(256, eps=1e-05, momentum=0.1, affine=True, track_running_stats=True)\n",
       "      )\n",
       "    )\n",
       "    (1): Sequential(\n",
       "      (0): BasicBlock(\n",
       "        (conv1): Conv2d(256, 512, kernel_size=(3, 3), stride=(2, 2), padding=(1, 1), bias=False)\n",
       "        (bn1): BatchNorm2d(512, eps=1e-05, momentum=0.1, affine=True, track_running_stats=True)\n",
       "        (relu): ReLU(inplace=True)\n",
       "        (conv2): Conv2d(512, 512, kernel_size=(3, 3), stride=(1, 1), padding=(1, 1), bias=False)\n",
       "        (bn2): BatchNorm2d(512, eps=1e-05, momentum=0.1, affine=True, track_running_stats=True)\n",
       "        (downsample): Sequential(\n",
       "          (0): Conv2d(256, 512, kernel_size=(1, 1), stride=(2, 2), bias=False)\n",
       "          (1): BatchNorm2d(512, eps=1e-05, momentum=0.1, affine=True, track_running_stats=True)\n",
       "        )\n",
       "      )\n",
       "      (1): BasicBlock(\n",
       "        (conv1): Conv2d(512, 512, kernel_size=(3, 3), stride=(1, 1), padding=(1, 1), bias=False)\n",
       "        (bn1): BatchNorm2d(512, eps=1e-05, momentum=0.1, affine=True, track_running_stats=True)\n",
       "        (relu): ReLU(inplace=True)\n",
       "        (conv2): Conv2d(512, 512, kernel_size=(3, 3), stride=(1, 1), padding=(1, 1), bias=False)\n",
       "        (bn2): BatchNorm2d(512, eps=1e-05, momentum=0.1, affine=True, track_running_stats=True)\n",
       "      )\n",
       "    )\n",
       "  )\n",
       "  (bn1): BatchNorm1d(1024, eps=1e-05, momentum=0.1, affine=True, track_running_stats=True)\n",
       "  (fc1): Linear(in_features=1024, out_features=512, bias=True)\n",
       "  (classifier): Sequential(\n",
       "    (0): BatchNorm1d(512, eps=1e-05, momentum=0.1, affine=True, track_running_stats=True)\n",
       "    (1): Linear(in_features=512, out_features=1, bias=True)\n",
       "  )\n",
       ")"
      ]
     },
     "execution_count": 132,
     "metadata": {},
     "output_type": "execute_result"
    }
   ],
   "source": [
    "model"
   ]
  },
  {
   "cell_type": "code",
   "execution_count": 133,
   "metadata": {},
   "outputs": [],
   "source": [
    "x, y, _ = next(iter(train_dl))"
   ]
  },
  {
   "cell_type": "code",
   "execution_count": 134,
   "metadata": {},
   "outputs": [
    {
     "data": {
      "text/plain": [
       "torch.Size([32, 3, 256, 256])"
      ]
     },
     "execution_count": 134,
     "metadata": {},
     "output_type": "execute_result"
    }
   ],
   "source": [
    "x = x.cuda().float()\n",
    "y = y.cuda().float()\n",
    "x.shape"
   ]
  },
  {
   "cell_type": "code",
   "execution_count": 135,
   "metadata": {},
   "outputs": [
    {
     "data": {
      "text/plain": [
       "torch.Size([32, 128, 32, 32])"
      ]
     },
     "execution_count": 135,
     "metadata": {},
     "output_type": "execute_result"
    }
   ],
   "source": [
    "x_features = model.features1(x)\n",
    "x_features.shape"
   ]
  },
  {
   "cell_type": "code",
   "execution_count": 136,
   "metadata": {},
   "outputs": [
    {
     "data": {
      "text/plain": [
       "torch.Size([32, 512, 8, 8])"
      ]
     },
     "execution_count": 136,
     "metadata": {},
     "output_type": "execute_result"
    }
   ],
   "source": [
    "x_features2 = model.features2(x_features)\n",
    "x_features2.shape"
   ]
  },
  {
   "cell_type": "code",
   "execution_count": 137,
   "metadata": {},
   "outputs": [],
   "source": [
    "x_features2 = F.relu(x_features2)"
   ]
  },
  {
   "cell_type": "code",
   "execution_count": 138,
   "metadata": {},
   "outputs": [
    {
     "data": {
      "text/plain": [
       "torch.Size([32, 512, 1, 1])"
      ]
     },
     "execution_count": 138,
     "metadata": {},
     "output_type": "execute_result"
    }
   ],
   "source": [
    "# AdaptiveAvgPool2d would do a similar job if the input is [64, 512, 10, 20]\n",
    "# that is why this model will fit any input size\n",
    "x_features_ave = nn.AdaptiveAvgPool2d((1,1))(x_features2)\n",
    "x_features_ave.shape"
   ]
  },
  {
   "cell_type": "code",
   "execution_count": 139,
   "metadata": {},
   "outputs": [
    {
     "data": {
      "text/plain": [
       "torch.Size([32, 512])"
      ]
     },
     "execution_count": 139,
     "metadata": {},
     "output_type": "execute_result"
    }
   ],
   "source": [
    "x_features_flatten = x_features_ave.view(x_features_ave.shape[0], -1)\n",
    "x_features_flatten.shape"
   ]
  },
  {
   "cell_type": "code",
   "execution_count": 140,
   "metadata": {},
   "outputs": [
    {
     "data": {
      "text/plain": [
       "torch.Size([32, 1])"
      ]
     },
     "execution_count": 140,
     "metadata": {},
     "output_type": "execute_result"
    }
   ],
   "source": [
    "y_hat = model(x)\n",
    "y_hat.shape"
   ]
  },
  {
   "cell_type": "code",
   "execution_count": 141,
   "metadata": {},
   "outputs": [
    {
     "data": {
      "text/plain": [
       "tensor(99.7354, device='cuda:0', grad_fn=<L1LossBackward>)"
      ]
     },
     "execution_count": 141,
     "metadata": {},
     "output_type": "execute_result"
    }
   ],
   "source": [
    "# L1Loss (MAE), see https://pytorch.org/docs/master/generated/torch.nn.L1Loss.html#torch.nn.L1Loss\n",
    "F.l1_loss(y_hat, y)"
   ]
  },
  {
   "cell_type": "code",
   "execution_count": 142,
   "metadata": {},
   "outputs": [
    {
     "data": {
      "text/plain": [
       "torch.Size([32, 1])"
      ]
     },
     "execution_count": 142,
     "metadata": {},
     "output_type": "execute_result"
    }
   ],
   "source": [
    "y.shape"
   ]
  },
  {
   "cell_type": "code",
   "execution_count": 143,
   "metadata": {},
   "outputs": [],
   "source": [
    "# freeze parameters in layers 0 to 5\n",
    "#for param in model.features1.parameters():\n",
    "#    param.requires_grad = False\n",
    "#    \n",
    "#for param in model.parameters():\n",
    "#    print(param.requires_grad)"
   ]
  },
  {
   "cell_type": "markdown",
   "metadata": {},
   "source": [
    "## Checking Loss function\n",
    "Let's write the loss function from scratch in numpy to check the pytorch function."
   ]
  },
  {
   "cell_type": "markdown",
   "metadata": {},
   "source": [
    "## Learning rate finder"
   ]
  },
  {
   "cell_type": "markdown",
   "metadata": {},
   "source": [
    "From this paper https://arxiv.org/pdf/1506.01186.pdf. This an implementation of the \"LR range test\". Run your model for several epochs while letting the learning rate increase linearly between low and high LR values. Next, plot the loss versus learning rate. Note the learning rate value when the loss starts to decrease and when the loss slows, becomes ragged, or increases. In the example below the range seem to be from 1e-5 to 0.012."
   ]
  },
  {
   "cell_type": "code",
   "execution_count": 144,
   "metadata": {},
   "outputs": [],
   "source": [
    "def create_optimizer(model, lr0):\n",
    "    params = [{'params': model.features1.parameters(), 'lr': lr0/9},\n",
    "              {'params': model.features2.parameters(), 'lr': lr0/3},\n",
    "              {'params': model.classifier.parameters(), 'lr': lr0}]\n",
    "    #for param in model.parameters():\n",
    "    #    print(param.requires_grad)\n",
    "    return optim.Adam(params, weight_decay=1e-5)\n",
    "    #return optim.Adam(params, weight_decay=0)\n",
    "    #return optim.Adam(filter(lambda p: p.requires_grad, model.parameters()), weight_decay=1e-5)\n",
    "\n",
    "    \n",
    "def update_optimizer(optimizer, group_lrs):\n",
    "    for i, param_group in enumerate(optimizer.param_groups):\n",
    "        param_group[\"lr\"] = group_lrs[i]"
   ]
  },
  {
   "cell_type": "code",
   "execution_count": 145,
   "metadata": {},
   "outputs": [],
   "source": [
    "def save_model(m, p): torch.save(m.state_dict(), p)\n",
    "    \n",
    "def load_model(m, p): m.load_state_dict(torch.load(p))\n",
    "\n",
    "\n",
    "def LR_range_finder(model, train_dl, lr_low=1e-4, lr_high=0.01, epochs=3):\n",
    "    losses = []\n",
    "    p = PATH/\"mode_tmp.pth\"\n",
    "    save_model(model, str(p))\n",
    "    iterations = epochs * len(train_dl)\n",
    "    delta = (lr_high - lr_low)/iterations\n",
    "    print(f\"train size: {len(train_dl)}, no. iter: {iterations}, lr_high - lr_low: {lr_high - lr_low}, delta: {delta:.3e}\")\n",
    "    lrs = [lr_low + i*delta for i in range(iterations)]\n",
    "    model.train()\n",
    "    optimizer = create_optimizer(model, lrs[0])\n",
    "    ind = 0\n",
    "    for i in range(epochs):\n",
    "        for x, y, _ in train_dl:\n",
    "            lr = lrs[ind]\n",
    "            # print(f\"lr: {lr}\")\n",
    "            update_optimizer(optimizer, [lr/9, lr/3, lr])\n",
    "            x = x.cuda().float()\n",
    "            y = y.cuda().float()\n",
    "            out = model(x)\n",
    "            loss = F.l1_loss(out, y)\n",
    "            optimizer.zero_grad()\n",
    "            loss.backward()\n",
    "            optimizer.step()\n",
    "            losses.append(loss.item())\n",
    "            ind +=1\n",
    "            \n",
    "    load_model(model, str(p))\n",
    "    return lrs, losses    "
   ]
  },
  {
   "cell_type": "code",
   "execution_count": 146,
   "metadata": {},
   "outputs": [
    {
     "name": "stdout",
     "output_type": "stream",
     "text": [
      "train size: 31, no. iter: 93, lr_high - lr_low: 0.39999, delta: 4.301e-03\n"
     ]
    }
   ],
   "source": [
    "# >>> create model >>>\n",
    "model = Net().cuda()\n",
    "# freeze parameters in layers 0 to 5\n",
    "#for param in model.features1.parameters():\n",
    "#    param.requires_grad = False\n",
    "\n",
    "lrs, losses = LR_range_finder(model, train_dl, lr_low=1e-5, lr_high=0.4)"
   ]
  },
  {
   "cell_type": "code",
   "execution_count": 147,
   "metadata": {},
   "outputs": [
    {
     "data": {
      "image/png": "[encoded data removed]",
      "text/plain": [
       "<Figure size 432x288 with 1 Axes>"
      ]
     },
     "metadata": {
      "needs_background": "light"
     },
     "output_type": "display_data"
    }
   ],
   "source": [
    "plt.plot(lrs, losses)\n",
    "plt.show()"
   ]
  },
  {
   "cell_type": "markdown",
   "metadata": {},
   "source": [
    "## Triangular learning rate training"
   ]
  },
  {
   "cell_type": "code",
   "execution_count": 148,
   "metadata": {},
   "outputs": [],
   "source": [
    "def cosine_segment(start_lr, end_lr, iterations):\n",
    "    i = np.arange(iterations)\n",
    "    c_i = 1 + np.cos(i*np.pi/iterations)\n",
    "    # print(f\"i: {i}, c_i: {c_i}, res: {end_lr + (start_lr - end_lr)/2 *c_i}\")\n",
    "    return end_lr + (start_lr - end_lr)/2 *c_i\n",
    "\n",
    "def get_cosine_triangular_lr(max_lr, iterations):\n",
    "    min_start, min_end = max_lr/25, max_lr/(25*1e4)\n",
    "    iter1 = int(0.3*iterations)\n",
    "    iter2 = iterations - iter1\n",
    "    print(f\"min_start: {min_start:.3e}, min_end: {min_end:.3e}, iter1: {iter1}, iter2: {iter2}\")\n",
    "    segs = [cosine_segment(min_start, max_lr, iter1), cosine_segment(max_lr, min_end, iter2)]\n",
    "    return np.concatenate(segs)"
   ]
  },
  {
   "cell_type": "code",
   "execution_count": 149,
   "metadata": {},
   "outputs": [
    {
     "name": "stdout",
     "output_type": "stream",
     "text": [
      "min_start: 1.200e-03, min_end: 1.200e-07, iter1: 600, iter2: 1400\n"
     ]
    },
    {
     "data": {
      "image/png": "[encoded data removed]",
      "text/plain": [
       "<Figure size 432x288 with 1 Axes>"
      ]
     },
     "metadata": {
      "needs_background": "light"
     },
     "output_type": "display_data"
    }
   ],
   "source": [
    "N = 2000\n",
    "lr = get_cosine_triangular_lr(0.03, N)\n",
    "plt.plot(list(range(N)), lr)\n",
    "plt.show()"
   ]
  },
  {
   "cell_type": "code",
   "execution_count": 150,
   "metadata": {},
   "outputs": [],
   "source": [
    "def train_one_epoch(model, optimizer, train_dl, lrs, idx):\n",
    "    model.train()\n",
    "    total = 0\n",
    "    sum_loss = 0\n",
    "    for x, y, _ in train_dl:\n",
    "        lr = lrs[idx]\n",
    "        # print(f\"lr: {lr}\")\n",
    "        update_optimizer(optimizer, [lr/9, lr/3, lr])\n",
    "        batch = y.shape[0]\n",
    "        x = x.cuda().float()\n",
    "        y = y.cuda().float()\n",
    "        out = model(x)\n",
    "        loss = F.l1_loss(out, y)\n",
    "        optimizer.zero_grad()\n",
    "        loss.backward()\n",
    "        optimizer.step()\n",
    "        idx += 1\n",
    "        total += batch\n",
    "        sum_loss += batch*(loss.item())\n",
    "    return sum_loss/total, idx"
   ]
  },
  {
   "cell_type": "code",
   "execution_count": 151,
   "metadata": {},
   "outputs": [],
   "source": [
    "def train_triangular_policy(model, train_dl, valid_dl, max_lr=0.04, epochs = 5):\n",
    "    idx = 0\n",
    "    iterations = epochs*len(train_dl)\n",
    "    lrs = get_cosine_triangular_lr(max_lr, iterations)\n",
    "    optimizer = create_optimizer(model, lrs[0])\n",
    "    prev_val_loss = 10000.0\n",
    "    for i in range(epochs):\n",
    "        train_loss, idx = train_one_epoch(model, optimizer, train_dl, lrs, idx)\n",
    "        val_loss = val_metrics(model, valid_dl)\n",
    "        print(\"train_loss %.3f val_loss %.3f\" % (train_loss, val_loss))\n",
    "        if val_loss < prev_val_loss: \n",
    "            prev_val_loss = val_loss\n",
    "            if val_loss < 1.0: # only save model file if val MAE < 1.0\n",
    "                path = \"{0}/models/model_resnet18_{1:.3f}.pth\".format(PATH, val_loss)\n",
    "                save_model(model, path)\n",
    "                print(path)"
   ]
  },
  {
   "cell_type": "code",
   "execution_count": 152,
   "metadata": {},
   "outputs": [],
   "source": [
    "# changed for regression\n",
    "def val_metrics(model, valid_dl):\n",
    "    model.eval()\n",
    "    total = 0\n",
    "    sum_loss = 0\n",
    "    with torch.no_grad():\n",
    "        for x, y, _ in valid_dl:\n",
    "            # x and y are tensors, x.shape is [64, 3, 256, 256] and y.shape is [64, 1]\n",
    "            batch = y.shape[0]\n",
    "            x = x.cuda().float()\n",
    "            y = y.cuda()\n",
    "            out = model(x) # out is a tensor with shape [64, 1]\n",
    "            y = y.float()\n",
    "            loss = F.l1_loss(out, y)\n",
    "            sum_loss += batch*(loss.item())\n",
    "            total += batch\n",
    "        return sum_loss/total"
   ]
  },
  {
   "cell_type": "markdown",
   "metadata": {},
   "source": [
    "## Training with triangular rates"
   ]
  },
  {
   "cell_type": "code",
   "execution_count": 153,
   "metadata": {},
   "outputs": [],
   "source": [
    "train_dl = DataLoader(train_ds, batch_size=BATCH_SIZE, shuffle=True)\n",
    "valid_dl = DataLoader(valid_ds, batch_size=BATCH_SIZE)"
   ]
  },
  {
   "cell_type": "code",
   "execution_count": 154,
   "metadata": {},
   "outputs": [],
   "source": [
    "model = Net().cuda()"
   ]
  },
  {
   "cell_type": "code",
   "execution_count": 155,
   "metadata": {},
   "outputs": [
    {
     "data": {
      "text/plain": [
       "99.68642515294692"
      ]
     },
     "execution_count": 155,
     "metadata": {},
     "output_type": "execute_result"
    }
   ],
   "source": [
    "val_metrics(model, valid_dl)"
   ]
  },
  {
   "cell_type": "code",
   "execution_count": 156,
   "metadata": {},
   "outputs": [],
   "source": [
    "MAX_LR = 0.025"
   ]
  },
  {
   "cell_type": "code",
   "execution_count": 157,
   "metadata": {},
   "outputs": [
    {
     "name": "stdout",
     "output_type": "stream",
     "text": [
      "min_start: 1.000e-03, min_end: 1.000e-07, iter1: 46, iter2: 109\n",
      "train_loss 93.524 val_loss 54.510\n",
      "train_loss 16.129 val_loss 874.840\n",
      "train_loss 3.970 val_loss 3.123\n",
      "train_loss 3.050 val_loss 2.252\n",
      "train_loss 2.618 val_loss 2.161\n"
     ]
    }
   ],
   "source": [
    "# create models directory under /home/pablo/datasets/data/invasive-species-monitoring/ first time\n",
    "# same for /home/pablo/datasets/data/radioterapia/ciolaplata/models/\n",
    "model = Net().cuda()\n",
    "# freeze parameters in layers 0 to 5\n",
    "#for param in model.features1.parameters():\n",
    "#    param.requires_grad = False\n",
    "train_triangular_policy(model, train_dl, valid_dl, max_lr=MAX_LR, epochs = 5)"
   ]
  },
  {
   "cell_type": "code",
   "execution_count": 158,
   "metadata": {},
   "outputs": [
    {
     "name": "stdout",
     "output_type": "stream",
     "text": [
      "min_start: 1.000e-03, min_end: 1.000e-07, iter1: 93, iter2: 217\n",
      "train_loss 98.565 val_loss 97.739\n",
      "train_loss 48.801 val_loss 45596.848\n",
      "train_loss 6.968 val_loss 82.063\n",
      "train_loss 3.986 val_loss 2.728\n",
      "train_loss 2.510 val_loss 2.345\n",
      "train_loss 1.922 val_loss 12.773\n",
      "train_loss 1.437 val_loss 1.048\n",
      "train_loss 1.194 val_loss 1.000\n",
      "train_loss 1.158 val_loss 1.009\n",
      "train_loss 1.075 val_loss 1.055\n"
     ]
    }
   ],
   "source": [
    "model = Net().cuda()\n",
    "\n",
    "# freeze parameters in layers 0 to 5\n",
    "#for param in model.features1.parameters():\n",
    "#    param.requires_grad = True\n",
    "\n",
    "#for param in model.features2.parameters():\n",
    "#    param.requires_grad = True\n",
    "    \n",
    "train_triangular_policy(model, train_dl, valid_dl, max_lr=MAX_LR, epochs = 10)"
   ]
  },
  {
   "cell_type": "code",
   "execution_count": 159,
   "metadata": {},
   "outputs": [
    {
     "name": "stdout",
     "output_type": "stream",
     "text": [
      "min_start: 1.000e-03, min_end: 1.000e-07, iter1: 186, iter2: 434\n",
      "train_loss 99.297 val_loss 97.733\n",
      "train_loss 87.810 val_loss 68.666\n",
      "train_loss 22.082 val_loss 23.460\n",
      "train_loss 5.612 val_loss 196.926\n",
      "train_loss 4.007 val_loss 29.507\n",
      "train_loss 3.001 val_loss 66.578\n",
      "train_loss 2.037 val_loss 1.250\n",
      "train_loss 1.648 val_loss 2.143\n",
      "train_loss 1.257 val_loss 13.815\n",
      "train_loss 1.099 val_loss 1.856\n",
      "train_loss 0.838 val_loss 0.862\n",
      "/home/pablo/datasets/data/radioterapia/ciolaplata/models/model_resnet18_0.862.pth\n",
      "train_loss 0.704 val_loss 0.647\n",
      "/home/pablo/datasets/data/radioterapia/ciolaplata/models/model_resnet18_0.647.pth\n",
      "train_loss 0.700 val_loss 0.742\n",
      "train_loss 0.566 val_loss 0.513\n",
      "/home/pablo/datasets/data/radioterapia/ciolaplata/models/model_resnet18_0.513.pth\n",
      "train_loss 0.492 val_loss 0.317\n",
      "/home/pablo/datasets/data/radioterapia/ciolaplata/models/model_resnet18_0.317.pth\n",
      "train_loss 0.412 val_loss 0.535\n",
      "train_loss 0.359 val_loss 0.315\n",
      "/home/pablo/datasets/data/radioterapia/ciolaplata/models/model_resnet18_0.315.pth\n",
      "train_loss 0.326 val_loss 0.293\n",
      "/home/pablo/datasets/data/radioterapia/ciolaplata/models/model_resnet18_0.293.pth\n",
      "train_loss 0.324 val_loss 0.285\n",
      "/home/pablo/datasets/data/radioterapia/ciolaplata/models/model_resnet18_0.285.pth\n",
      "train_loss 0.300 val_loss 0.269\n",
      "/home/pablo/datasets/data/radioterapia/ciolaplata/models/model_resnet18_0.269.pth\n"
     ]
    }
   ],
   "source": [
    "model = Net().cuda()\n",
    "train_triangular_policy(model, train_dl, valid_dl, max_lr=MAX_LR, epochs = 20)"
   ]
  },
  {
   "cell_type": "code",
   "execution_count": 160,
   "metadata": {},
   "outputs": [
    {
     "name": "stdout",
     "output_type": "stream",
     "text": [
      "min_start: 1.000e-03, min_end: 1.000e-07, iter1: 930, iter2: 2170\n",
      "train_loss 99.389 val_loss 100.127\n",
      "train_loss 97.418 val_loss 96.977\n",
      "train_loss 91.754 val_loss 87.727\n",
      "train_loss 78.270 val_loss 67.009\n",
      "train_loss 49.107 val_loss 24.738\n",
      "train_loss 10.223 val_loss 460.521\n",
      "train_loss 5.309 val_loss 8.343\n",
      "train_loss 4.672 val_loss 20.947\n",
      "train_loss 4.249 val_loss 7.585\n",
      "train_loss 3.728 val_loss 18.382\n",
      "train_loss 3.400 val_loss 2.902\n",
      "train_loss 3.138 val_loss 2.879\n",
      "train_loss 2.538 val_loss 8.137\n",
      "train_loss 2.489 val_loss 8.580\n",
      "train_loss 1.954 val_loss 2.301\n",
      "train_loss 1.693 val_loss 1.382\n",
      "train_loss 1.467 val_loss 2.533\n",
      "train_loss 1.412 val_loss 1.690\n",
      "train_loss 1.099 val_loss 0.921\n",
      "/home/pablo/datasets/data/radioterapia/ciolaplata/models/model_resnet18_0.921.pth\n",
      "train_loss 1.081 val_loss 1.239\n",
      "train_loss 1.194 val_loss 0.989\n",
      "train_loss 1.005 val_loss 0.594\n",
      "/home/pablo/datasets/data/radioterapia/ciolaplata/models/model_resnet18_0.594.pth\n",
      "train_loss 1.026 val_loss 0.815\n",
      "train_loss 0.787 val_loss 1.791\n",
      "train_loss 1.550 val_loss 0.705\n",
      "train_loss 1.110 val_loss 1.092\n",
      "train_loss 1.021 val_loss 1.784\n",
      "train_loss 1.156 val_loss 1.105\n",
      "train_loss 0.847 val_loss 1.127\n",
      "train_loss 0.947 val_loss 1.046\n",
      "train_loss 0.949 val_loss 1.144\n",
      "train_loss 1.212 val_loss 0.644\n",
      "train_loss 0.817 val_loss 0.963\n",
      "train_loss 0.757 val_loss 0.707\n",
      "train_loss 0.904 val_loss 0.854\n",
      "train_loss 0.623 val_loss 0.991\n",
      "train_loss 0.872 val_loss 0.874\n",
      "train_loss 0.806 val_loss 0.667\n",
      "train_loss 0.737 val_loss 0.887\n",
      "train_loss 0.738 val_loss 1.387\n",
      "train_loss 0.655 val_loss 0.416\n",
      "/home/pablo/datasets/data/radioterapia/ciolaplata/models/model_resnet18_0.416.pth\n",
      "train_loss 0.979 val_loss 0.945\n",
      "train_loss 0.815 val_loss 0.869\n",
      "train_loss 0.825 val_loss 0.712\n",
      "train_loss 0.785 val_loss 0.665\n",
      "train_loss 0.719 val_loss 0.967\n",
      "train_loss 0.618 val_loss 0.421\n",
      "train_loss 0.661 val_loss 0.939\n",
      "train_loss 0.870 val_loss 0.842\n",
      "train_loss 0.696 val_loss 0.644\n",
      "train_loss 0.800 val_loss 0.440\n",
      "train_loss 0.522 val_loss 0.575\n",
      "train_loss 0.602 val_loss 0.619\n",
      "train_loss 0.588 val_loss 0.640\n",
      "train_loss 0.578 val_loss 1.032\n",
      "train_loss 0.669 val_loss 0.579\n",
      "train_loss 0.709 val_loss 0.799\n",
      "train_loss 0.582 val_loss 0.353\n",
      "/home/pablo/datasets/data/radioterapia/ciolaplata/models/model_resnet18_0.353.pth\n",
      "train_loss 0.454 val_loss 0.434\n",
      "train_loss 0.631 val_loss 0.387\n",
      "train_loss 0.540 val_loss 0.345\n",
      "/home/pablo/datasets/data/radioterapia/ciolaplata/models/model_resnet18_0.345.pth\n",
      "train_loss 0.478 val_loss 0.442\n",
      "train_loss 0.478 val_loss 0.456\n",
      "train_loss 0.550 val_loss 0.433\n",
      "train_loss 0.509 val_loss 0.449\n",
      "train_loss 0.423 val_loss 0.372\n",
      "train_loss 0.442 val_loss 0.404\n",
      "train_loss 0.419 val_loss 0.448\n",
      "train_loss 0.442 val_loss 0.452\n",
      "train_loss 0.419 val_loss 0.297\n",
      "/home/pablo/datasets/data/radioterapia/ciolaplata/models/model_resnet18_0.297.pth\n",
      "train_loss 0.482 val_loss 0.394\n",
      "train_loss 0.447 val_loss 0.316\n",
      "train_loss 0.356 val_loss 0.316\n",
      "train_loss 0.331 val_loss 0.279\n",
      "/home/pablo/datasets/data/radioterapia/ciolaplata/models/model_resnet18_0.279.pth\n",
      "train_loss 0.332 val_loss 0.277\n",
      "/home/pablo/datasets/data/radioterapia/ciolaplata/models/model_resnet18_0.277.pth\n",
      "train_loss 0.327 val_loss 0.307\n",
      "train_loss 0.307 val_loss 0.307\n",
      "train_loss 0.286 val_loss 0.257\n",
      "/home/pablo/datasets/data/radioterapia/ciolaplata/models/model_resnet18_0.257.pth\n",
      "train_loss 0.309 val_loss 0.254\n",
      "/home/pablo/datasets/data/radioterapia/ciolaplata/models/model_resnet18_0.254.pth\n",
      "train_loss 0.275 val_loss 0.254\n",
      "/home/pablo/datasets/data/radioterapia/ciolaplata/models/model_resnet18_0.254.pth\n",
      "train_loss 0.264 val_loss 0.434\n",
      "train_loss 0.293 val_loss 0.233\n",
      "/home/pablo/datasets/data/radioterapia/ciolaplata/models/model_resnet18_0.233.pth\n",
      "train_loss 0.273 val_loss 0.257\n",
      "train_loss 0.260 val_loss 0.244\n",
      "train_loss 0.273 val_loss 0.250\n",
      "train_loss 0.258 val_loss 0.277\n",
      "train_loss 0.267 val_loss 0.258\n",
      "train_loss 0.259 val_loss 0.239\n",
      "train_loss 0.241 val_loss 0.235\n",
      "train_loss 0.239 val_loss 0.220\n",
      "/home/pablo/datasets/data/radioterapia/ciolaplata/models/model_resnet18_0.220.pth\n",
      "train_loss 0.236 val_loss 0.226\n",
      "train_loss 0.232 val_loss 0.228\n",
      "train_loss 0.225 val_loss 0.223\n",
      "train_loss 0.233 val_loss 0.228\n",
      "train_loss 0.231 val_loss 0.226\n",
      "train_loss 0.228 val_loss 0.221\n",
      "train_loss 0.230 val_loss 0.223\n",
      "train_loss 0.225 val_loss 0.219\n",
      "/home/pablo/datasets/data/radioterapia/ciolaplata/models/model_resnet18_0.219.pth\n",
      "train_loss 0.225 val_loss 0.222\n",
      "train_loss 0.224 val_loss 0.228\n"
     ]
    }
   ],
   "source": [
    "model = Net().cuda()\n",
    "train_triangular_policy(model, train_dl, valid_dl, max_lr=MAX_LR, epochs = 100)"
   ]
  },
  {
   "cell_type": "markdown",
   "metadata": {},
   "source": [
    "## Load a model"
   ]
  },
  {
   "cell_type": "code",
   "execution_count": 161,
   "metadata": {},
   "outputs": [],
   "source": [
    "def get_predictions_df(model, valid_dl):\n",
    "    model.eval()\n",
    "    pred = []\n",
    "    with torch.no_grad():\n",
    "        for x, y, file in valid_dl:\n",
    "            # x and y are tensors, x.shape is [BATCH_SIZE, 3, 256, 256] and y.shape is [BATCH_SIZE, 1]\n",
    "            x = x.cuda().float()\n",
    "            y = y.cuda().float()\n",
    "            out = model(x) # out is a tensor with shape [BATCH_SIZE, 1]\n",
    "            # a.cpu().numpy() == float(a.cpu().numpy())\n",
    "            batch_pred = [(Path(f).name, a.cpu().item(), b.cpu().item()) for f, a, b in zip(file, y, out)]\n",
    "            pred = pred + batch_pred\n",
    "    # build a pandas dataframe with results\n",
    "    df = pd.DataFrame(pred, columns=['filename', 'actual gamma', 'predicted gamma'])\n",
    "    return df"
   ]
  },
  {
   "cell_type": "code",
   "execution_count": 162,
   "metadata": {},
   "outputs": [],
   "source": [
    "def save_model(m, p): torch.save(m.state_dict(), p)\n",
    "    \n",
    "def load_model(m, p): m.load_state_dict(torch.load(p))"
   ]
  },
  {
   "cell_type": "code",
   "execution_count": 163,
   "metadata": {},
   "outputs": [],
   "source": [
    "# load model\n",
    "mae = 0.187\n",
    "mae = 0.219\n",
    "model = Net().cuda()\n",
    "p = PATH/\"models/model_resnet18_{}.pth\".format(mae)\n",
    "load_model(model, p)"
   ]
  },
  {
   "cell_type": "code",
   "execution_count": 164,
   "metadata": {},
   "outputs": [
    {
     "data": {
      "text/plain": [
       "0.21954409287544926"
      ]
     },
     "execution_count": 164,
     "metadata": {},
     "output_type": "execute_result"
    }
   ],
   "source": [
    "val_metrics(model, train_dl)"
   ]
  },
  {
   "cell_type": "code",
   "execution_count": 165,
   "metadata": {},
   "outputs": [
    {
     "data": {
      "text/plain": [
       "0.22110592687831204"
      ]
     },
     "execution_count": 165,
     "metadata": {},
     "output_type": "execute_result"
    }
   ],
   "source": [
    "val_metrics(model, valid_dl)"
   ]
  },
  {
   "cell_type": "code",
   "execution_count": 168,
   "metadata": {},
   "outputs": [
    {
     "data": {
      "text/html": [
       "<div>\n",
       "<style scoped>\n",
       "    .dataframe tbody tr th:only-of-type {\n",
       "        vertical-align: middle;\n",
       "    }\n",
       "\n",
       "    .dataframe tbody tr th {\n",
       "        vertical-align: top;\n",
       "    }\n",
       "\n",
       "    .dataframe thead th {\n",
       "        text-align: right;\n",
       "    }\n",
       "</style>\n",
       "<table border=\"1\" class=\"dataframe\">\n",
       "  <thead>\n",
       "    <tr style=\"text-align: right;\">\n",
       "      <th></th>\n",
       "      <th>filename</th>\n",
       "      <th>actual gamma</th>\n",
       "      <th>predicted gamma</th>\n",
       "    </tr>\n",
       "  </thead>\n",
       "  <tbody>\n",
       "    <tr>\n",
       "      <th>0</th>\n",
       "      <td>1.3.6.1.4.1.9590.100.1.2.482290227120700163185...</td>\n",
       "      <td>99.890419</td>\n",
       "      <td>99.918587</td>\n",
       "    </tr>\n",
       "    <tr>\n",
       "      <th>1</th>\n",
       "      <td>1.3.6.1.4.1.9590.100.1.2.146639913610070595428...</td>\n",
       "      <td>100.000000</td>\n",
       "      <td>99.942474</td>\n",
       "    </tr>\n",
       "    <tr>\n",
       "      <th>2</th>\n",
       "      <td>1.3.6.1.4.1.9590.100.1.2.289530963612345746726...</td>\n",
       "      <td>99.772911</td>\n",
       "      <td>99.912727</td>\n",
       "    </tr>\n",
       "    <tr>\n",
       "      <th>3</th>\n",
       "      <td>1.3.6.1.4.1.9590.100.1.2.414485736012853359335...</td>\n",
       "      <td>99.788162</td>\n",
       "      <td>99.913063</td>\n",
       "    </tr>\n",
       "    <tr>\n",
       "      <th>4</th>\n",
       "      <td>1.3.6.1.4.1.9590.100.1.2.509482621244864892246...</td>\n",
       "      <td>99.987236</td>\n",
       "      <td>99.819206</td>\n",
       "    </tr>\n",
       "  </tbody>\n",
       "</table>\n",
       "</div>"
      ],
      "text/plain": [
       "                                            filename  actual gamma  \\\n",
       "0  1.3.6.1.4.1.9590.100.1.2.482290227120700163185...     99.890419   \n",
       "1  1.3.6.1.4.1.9590.100.1.2.146639913610070595428...    100.000000   \n",
       "2  1.3.6.1.4.1.9590.100.1.2.289530963612345746726...     99.772911   \n",
       "3  1.3.6.1.4.1.9590.100.1.2.414485736012853359335...     99.788162   \n",
       "4  1.3.6.1.4.1.9590.100.1.2.509482621244864892246...     99.987236   \n",
       "\n",
       "   predicted gamma  \n",
       "0        99.918587  \n",
       "1        99.942474  \n",
       "2        99.912727  \n",
       "3        99.913063  \n",
       "4        99.819206  "
      ]
     },
     "execution_count": 168,
     "metadata": {},
     "output_type": "execute_result"
    }
   ],
   "source": [
    "part = \"training\" # training or validation\n",
    "if part == \"validation\":\n",
    "    df = get_predictions_df(model, valid_dl)\n",
    "else:\n",
    "    df = get_predictions_df(model, train_dl)            \n",
    "df.head()"
   ]
  },
  {
   "cell_type": "code",
   "execution_count": 169,
   "metadata": {},
   "outputs": [],
   "source": [
    "p = PATH/\"predictions/model_resnet18_{}_{}.csv\".format(mae, part)\n",
    "df.to_csv(p, index=False)"
   ]
  },
  {
   "cell_type": "markdown",
   "metadata": {},
   "source": [
    "## Testing time augmentation\n",
    "Testing time augmentation is a technique that uses data aumentation at test time to improve the test predictions. This usually helps but here our accuracy is too high.\n",
    "\n",
    "_Pablo: Since we are not doing data augmentation for fluence maps, then testing time augmentation neithe applies_"
   ]
  },
  {
   "cell_type": "markdown",
   "metadata": {},
   "source": [
    "## Lab\n",
    "Can you get better accuracy?\n",
    "* Change some of the hyperparameters (add dropout, increase the number of the hidden units)\n",
    "* Increase the image resolution\n",
    "* Modify the data augmentation to include other transformations"
   ]
  },
  {
   "cell_type": "markdown",
   "metadata": {},
   "source": [
    "# References\n",
    "This notebook is based on https://github.com/yanneta/deep-learning-data-institute/blob/master/lesson5-image-cnn.ipynb from course \"Fundamentals of Deep Learning with Pytorch\""
   ]
  }
 ],
 "metadata": {
  "kernelspec": {
   "display_name": "Python 3",
   "language": "python",
   "name": "python3"
  },
  "language_info": {
   "codemirror_mode": {
    "name": "ipython",
    "version": 3
   },
   "file_extension": ".py",
   "mimetype": "text/x-python",
   "name": "python",
   "nbconvert_exporter": "python",
   "pygments_lexer": "ipython3",
   "version": "3.7.7"
  },
  "toc": {
   "nav_menu": {},
   "number_sections": true,
   "sideBar": true,
   "skip_h1_title": false,
   "toc_cell": false,
   "toc_position": {},
   "toc_section_display": "block",
   "toc_window_display": false
  }
 },
 "nbformat": 4,
 "nbformat_minor": 2
}
