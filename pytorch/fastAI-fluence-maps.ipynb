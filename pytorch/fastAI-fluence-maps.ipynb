{
 "cells": [
  {
   "cell_type": "markdown",
   "metadata": {},
   "source": [
    "# IMRT fluence maps and the power of transfer learning\n",
    "\n",
    "The goal of this notebook is to predict gamma index values of calculated fluence maps in IMRT."
   ]
  },
  {
   "cell_type": "code",
   "execution_count": 1,
   "metadata": {},
   "outputs": [
    {
     "name": "stdout",
     "output_type": "stream",
     "text": [
      "pytorch version = 1.6.0\n",
      "torchvision version = 0.7.0\n"
     ]
    }
   ],
   "source": [
    "%reload_ext autoreload\n",
    "%autoreload 2\n",
    "%matplotlib inline\n",
    "\n",
    "import pandas as pd\n",
    "import numpy as np\n",
    "import torch\n",
    "from pathlib import Path\n",
    "from torch.utils.data import Dataset, DataLoader\n",
    "import torch.optim as optim\n",
    "import torch.nn as nn\n",
    "import torch.nn.functional as F\n",
    "import torchvision\n",
    "from torchvision import models\n",
    "import random\n",
    "\n",
    "print(f\"pytorch version = {torch.__version__}\")\n",
    "print(f\"torchvision version = {torchvision.__version__}\")"
   ]
  },
  {
   "cell_type": "code",
   "execution_count": 2,
   "metadata": {},
   "outputs": [
    {
     "name": "stdout",
     "output_type": "stream",
     "text": [
      "fast.ai version = 2.0.0\n"
     ]
    }
   ],
   "source": [
    "import cv2\n",
    "import matplotlib.pyplot as plt\n",
    "import fastai as fa\n",
    "from fastai.data.all import *\n",
    "from fastai.vision.all import *\n",
    "\n",
    "print(f\"fast.ai version = {fa.__version__}\")"
   ]
  },
  {
   "cell_type": "markdown",
   "metadata": {},
   "source": [
    "## Data"
   ]
  },
  {
   "cell_type": "markdown",
   "metadata": {},
   "source": [
    "Fluence maps are read from JPEG files, which are generated from DICOM files in RT Dose format, using __fluence_maps/util/dicom2jpeg.py__"
   ]
  },
  {
   "cell_type": "code",
   "execution_count": 3,
   "metadata": {},
   "outputs": [
    {
     "data": {
      "text/plain": [
       "[Path('/home/pablo/datasets/data/radioterapia/ciolaplata/2019-opencv-jpeg/1.3.6.1.4.1.9590.100.1.2.216485051912704638734202497383468742579.jpeg'),\n",
       " Path('/home/pablo/datasets/data/radioterapia/ciolaplata/2019-opencv-jpeg/1.3.6.1.4.1.9590.100.1.2.193310708912086462001089916604076671693.jpeg'),\n",
       " Path('/home/pablo/datasets/data/radioterapia/ciolaplata/2019-opencv-jpeg/1.3.6.1.4.1.9590.100.1.2.274774334211985898325767786691184357658.jpeg'),\n",
       " Path('/home/pablo/datasets/data/radioterapia/ciolaplata/2019-opencv-jpeg/1.3.6.1.4.1.9590.100.1.2.350399622511682502805947189072436696506.jpeg'),\n",
       " Path('/home/pablo/datasets/data/radioterapia/ciolaplata/2019-opencv-jpeg/1.3.6.1.4.1.9590.100.1.2.80879782311390246613429930583975303044.jpeg'),\n",
       " Path('/home/pablo/datasets/data/radioterapia/ciolaplata/2019-opencv-jpeg/1.3.6.1.4.1.9590.100.1.2.101038118512805737413329783202511540406.jpeg'),\n",
       " Path('/home/pablo/datasets/data/radioterapia/ciolaplata/2019-opencv-jpeg/1.3.6.1.4.1.9590.100.1.2.52375772111590239742452581380112770193.jpeg'),\n",
       " Path('/home/pablo/datasets/data/radioterapia/ciolaplata/2019-opencv-jpeg/1.3.6.1.4.1.9590.100.1.2.239869713911391831626057340462291204130.jpeg'),\n",
       " Path('/home/pablo/datasets/data/radioterapia/ciolaplata/2019-opencv-jpeg/1.3.6.1.4.1.9590.100.1.2.139435732112193296435111138862825410243.jpeg'),\n",
       " Path('/home/pablo/datasets/data/radioterapia/ciolaplata/2019-opencv-jpeg/1.3.6.1.4.1.9590.100.1.2.298273930813767776511942805882441996444.jpeg')]"
      ]
     },
     "execution_count": 3,
     "metadata": {},
     "output_type": "execute_result"
    }
   ],
   "source": [
    "SEED=12345\n",
    "np.random.seed(SEED)\n",
    "PATH = Path(\"/home/pablo/datasets/data/radioterapia/ciolaplata/\")\n",
    "\n",
    "# CODEX_FILE = \"codex.2018-2019.csv\" # mapas 3mm/3% con doseshift años 2018 y 2019\n",
    "CODEX_FILE = \"codex-2019-3mm3%-doseshift.csv\" # mapas 3mm/3% con doseshift año 2019\n",
    "# CODEX_FILE = \"codex-2019-2mm2%-doseshift.csv\" # mapas 2mm/2% con doseshift año 2019\n",
    "\n",
    "MAPS_LOCATION_SUFFIX = \"-opencv-jpeg\"\n",
    "path = PATH/Path(\"2018\" + MAPS_LOCATION_SUFFIX)\n",
    "path2 = PATH/Path(\"2019\" + MAPS_LOCATION_SUFFIX)\n",
    "\n",
    "# list_all = list(path.iterdir())+list(path2.iterdir())\n",
    "list_all = list(path2.iterdir())\n",
    "random.shuffle(list_all)\n",
    "list_all[:10]"
   ]
  },
  {
   "cell_type": "code",
   "execution_count": 4,
   "metadata": {},
   "outputs": [],
   "source": [
    "def read_image(path):\n",
    "    im = cv2.imread(str(path))\n",
    "    return im"
   ]
  },
  {
   "cell_type": "code",
   "execution_count": 5,
   "metadata": {},
   "outputs": [
    {
     "data": {
      "text/plain": [
       "<matplotlib.image.AxesImage at 0x7f0780715950>"
      ]
     },
     "execution_count": 5,
     "metadata": {},
     "output_type": "execute_result"
    },
    {
     "data": {
      "image/png": "[encoded data removed]",
      "text/plain": [
       "<Figure size 432x288 with 1 Axes>"
      ]
     },
     "metadata": {
      "needs_background": "light"
     },
     "output_type": "display_data"
    }
   ],
   "source": [
    "path = PATH/Path(\"2018\" + MAPS_LOCATION_SUFFIX)/\"1.3.6.1.4.1.9590.100.1.2.310116611339769406079254153056253359.jpeg\"\n",
    "im = read_image(path)\n",
    "plt.imshow(im)"
   ]
  },
  {
   "cell_type": "code",
   "execution_count": 6,
   "metadata": {},
   "outputs": [
    {
     "data": {
      "text/plain": [
       "(256, 256, 3)"
      ]
     },
     "execution_count": 6,
     "metadata": {},
     "output_type": "execute_result"
    }
   ],
   "source": [
    "im = cv2.imread(str(path))\n",
    "im.shape"
   ]
  },
  {
   "cell_type": "code",
   "execution_count": 7,
   "metadata": {},
   "outputs": [],
   "source": [
    "# let's look at the typical size of these images\n",
    "files = list_all[:1000]\n",
    "dims = [read_image(str(p)).shape for p in files]"
   ]
  },
  {
   "cell_type": "code",
   "execution_count": 8,
   "metadata": {},
   "outputs": [
    {
     "data": {
      "text/plain": [
       "array([  3, 256])"
      ]
     },
     "execution_count": 8,
     "metadata": {},
     "output_type": "execute_result"
    }
   ],
   "source": [
    "np.unique(dims)"
   ]
  },
  {
   "cell_type": "markdown",
   "metadata": {},
   "source": [
    "Amazing! all images have the same size."
   ]
  },
  {
   "cell_type": "markdown",
   "metadata": {},
   "source": [
    "## Data augmentation\n",
    "Data augmentation is the most important way to avoid overfitting for image classification task\n",
    "\n",
    "Pablo:\n",
    "1. Data augmentation can be enabled when creating the dataset, ex.: train_ds = FluenceMapsDataset(train_maps, transform=TRANSFORM)\n",
    "2. Data augmentation did not improve MAE in validation. As with no data augmentation, overfitting is very small when data augmentation is used, but the problem is not overfitting but underfitting, i.e. performance in training is not good."
   ]
  },
  {
   "cell_type": "code",
   "execution_count": 9,
   "metadata": {},
   "outputs": [],
   "source": [
    "import math\n",
    "def crop(im, r, c, target_r, target_c): return im[r:r+target_r, c:c+target_c]\n",
    "\n",
    "# random crop to the original size\n",
    "def random_crop(x, r_pix=8):\n",
    "    \"\"\" Returns a random crop\"\"\"\n",
    "    r, c,*_ = x.shape\n",
    "    c_pix = round(r_pix*c/r)\n",
    "    rand_r = random.uniform(0, 1)\n",
    "    rand_c = random.uniform(0, 1)\n",
    "    start_r = np.floor(2*rand_r*r_pix).astype(int)\n",
    "    start_c = np.floor(2*rand_c*c_pix).astype(int)\n",
    "    return crop(x, start_r, start_c, r-2*r_pix, c-2*c_pix)\n",
    "\n",
    "def center_crop(x, r_pix=8):\n",
    "    r, c,*_ = x.shape\n",
    "    c_pix = round(r_pix*c/r)\n",
    "    return crop(x, r_pix, c_pix, r-2*r_pix, c-2*c_pix)\n",
    "\n",
    "\n",
    "def rotate_cv(im, deg, mode=cv2.BORDER_REFLECT, interpolation=cv2.INTER_AREA):\n",
    "    \"\"\" Rotates an image by deg degrees\"\"\"\n",
    "    r,c,*_ = im.shape\n",
    "    M = cv2.getRotationMatrix2D((c/2,r/2),deg,1)\n",
    "    return cv2.warpAffine(im,M,(c,r), borderMode=mode, \n",
    "                          flags=cv2.WARP_FILL_OUTLIERS+interpolation)"
   ]
  },
  {
   "cell_type": "markdown",
   "metadata": {},
   "source": [
    "### Center crop"
   ]
  },
  {
   "cell_type": "code",
   "execution_count": 10,
   "metadata": {},
   "outputs": [
    {
     "data": {
      "text/plain": [
       "(240, 240, 3)"
      ]
     },
     "execution_count": 10,
     "metadata": {},
     "output_type": "execute_result"
    },
    {
     "data": {
      "image/png": "[encoded data removed]",
      "text/plain": [
       "<Figure size 432x288 with 1 Axes>"
      ]
     },
     "metadata": {
      "needs_background": "light"
     },
     "output_type": "display_data"
    }
   ],
   "source": [
    "path = PATH/Path(\"2018\" + MAPS_LOCATION_SUFFIX)/\"1.3.6.1.4.1.9590.100.1.2.310116611339769406079254153056253359.jpeg\"\n",
    "im = read_image(path)\n",
    "im_c = center_crop(im)\n",
    "plt.imshow(im_c) # plt.imshow(im_c, cmap='gray') is the same\n",
    "im_c.shape"
   ]
  },
  {
   "cell_type": "markdown",
   "metadata": {},
   "source": [
    "### Resize, horizontal and vertical translations"
   ]
  },
  {
   "cell_type": "code",
   "execution_count": 11,
   "metadata": {},
   "outputs": [
    {
     "data": {
      "text/plain": [
       "(256, 256, 3)"
      ]
     },
     "execution_count": 11,
     "metadata": {},
     "output_type": "execute_result"
    },
    {
     "data": {
      "image/png": "[encoded data removed]",
      "text/plain": [
       "<Figure size 432x288 with 1 Axes>"
      ]
     },
     "metadata": {
      "needs_background": "light"
     },
     "output_type": "display_data"
    }
   ],
   "source": [
    "# resize desforms the image a bit\n",
    "# note that by resizing to a larger number and random cropping we are doing horizontal and vertical translations\n",
    "# we should try just center cropping the image instead of resizing\n",
    "# Pablo: but I am not resizing to a larger size but to original size 256x256\n",
    "im_l = cv2.resize(im, (272, 272))\n",
    "im_l = random_crop(im_l)\n",
    "plt.imshow(im_l)\n",
    "im_l.shape"
   ]
  },
  {
   "cell_type": "markdown",
   "metadata": {},
   "source": [
    "### Translation"
   ]
  },
  {
   "cell_type": "code",
   "execution_count": 12,
   "metadata": {},
   "outputs": [],
   "source": [
    "# https://opencv-python-tutroals.readthedocs.io/en/latest/py_tutorials/py_imgproc/py_geometric_transformations/\n",
    "# py_geometric_transformations.html\n",
    "def random_translation(x, t_pix=8):\n",
    "    \"\"\" Returns a random translation\"\"\"\n",
    "    rows, cols, *_ = x.shape\n",
    "    rand_r = random.uniform(0, 1)\n",
    "    rand_c = random.uniform(0, 1)\n",
    "    t_r = np.floor(rand_r*t_pix).astype(int)\n",
    "    t_c = np.floor(rand_c*t_pix).astype(int)\n",
    "    # shift (t_r, t_c)\n",
    "    T = np.float32([[1, 0, t_r], [0, 1, t_c]]) \n",
    "    # We use warpAffine to transform the image using the matrix T \n",
    "    return cv2.warpAffine(x, T, (cols, rows)), T"
   ]
  },
  {
   "cell_type": "code",
   "execution_count": 13,
   "metadata": {},
   "outputs": [
    {
     "name": "stdout",
     "output_type": "stream",
     "text": [
      "[[1. 0. 5.]\n",
      " [0. 1. 3.]]\n"
     ]
    },
    {
     "data": {
      "text/plain": [
       "<matplotlib.image.AxesImage at 0x7f0780510ed0>"
      ]
     },
     "execution_count": 13,
     "metadata": {},
     "output_type": "execute_result"
    },
    {
     "data": {
      "image/png": "[encoded data removed]",
      "text/plain": [
       "<Figure size 432x288 with 1 Axes>"
      ]
     },
     "metadata": {
      "needs_background": "light"
     },
     "output_type": "display_data"
    }
   ],
   "source": [
    "im_translation, T = random_translation(im)\n",
    "print(T)\n",
    "plt.imshow(im_translation) "
   ]
  },
  {
   "cell_type": "markdown",
   "metadata": {},
   "source": [
    "### Random Rotation (-10, 10) "
   ]
  },
  {
   "cell_type": "code",
   "execution_count": 14,
   "metadata": {},
   "outputs": [
    {
     "name": "stdout",
     "output_type": "stream",
     "text": [
      "8.592321856342958\n"
     ]
    },
    {
     "data": {
      "text/plain": [
       "<matplotlib.image.AxesImage at 0x7f0780476ed0>"
      ]
     },
     "execution_count": 14,
     "metadata": {},
     "output_type": "execute_result"
    },
    {
     "data": {
      "image/png": "[encoded data removed]",
      "text/plain": [
       "<Figure size 432x288 with 1 Axes>"
      ]
     },
     "metadata": {
      "needs_background": "light"
     },
     "output_type": "display_data"
    }
   ],
   "source": [
    "rdeg = (np.random.random()-.50)*20\n",
    "print(rdeg)\n",
    "im_rot = rotate_cv(im, rdeg)\n",
    "plt.imshow(im_rot)"
   ]
  },
  {
   "cell_type": "markdown",
   "metadata": {},
   "source": [
    "### Horizontal Flip"
   ]
  },
  {
   "cell_type": "code",
   "execution_count": 15,
   "metadata": {},
   "outputs": [
    {
     "data": {
      "text/plain": [
       "<matplotlib.image.AxesImage at 0x7f07804668d0>"
      ]
     },
     "execution_count": 15,
     "metadata": {},
     "output_type": "execute_result"
    },
    {
     "data": {
      "image/png": "[encoded data removed]",
      "text/plain": [
       "<Figure size 432x288 with 1 Axes>"
      ]
     },
     "metadata": {
      "needs_background": "light"
     },
     "output_type": "display_data"
    }
   ],
   "source": [
    "im_f = np.fliplr(im)\n",
    "plt.imshow(im_f)"
   ]
  },
  {
   "cell_type": "markdown",
   "metadata": {},
   "source": [
    "## Split train and validation"
   ]
  },
  {
   "cell_type": "markdown",
   "metadata": {},
   "source": [
    "_Pablo: Not all fluence map files have a gamma value in the gamma .csv file, so we need to split the gamma .csv file and not the map files in the file system._"
   ]
  },
  {
   "cell_type": "code",
   "execution_count": 16,
   "metadata": {},
   "outputs": [],
   "source": [
    "# from sklearn.model_selection import train_test_split\n",
    "# all_files = list(PATH.iterdir())\n",
    "# X_train, X_test = train_test_split(all_files, test_size=0.2, random_state=12345)"
   ]
  },
  {
   "cell_type": "code",
   "execution_count": 17,
   "metadata": {},
   "outputs": [],
   "source": [
    "# print(len(X_train), len(X_test))"
   ]
  },
  {
   "cell_type": "code",
   "execution_count": 18,
   "metadata": {},
   "outputs": [
    {
     "data": {
      "text/html": [
       "<div>\n",
       "<style scoped>\n",
       "    .dataframe tbody tr th:only-of-type {\n",
       "        vertical-align: middle;\n",
       "    }\n",
       "\n",
       "    .dataframe tbody tr th {\n",
       "        vertical-align: top;\n",
       "    }\n",
       "\n",
       "    .dataframe thead th {\n",
       "        text-align: right;\n",
       "    }\n",
       "</style>\n",
       "<table border=\"1\" class=\"dataframe\">\n",
       "  <thead>\n",
       "    <tr style=\"text-align: right;\">\n",
       "      <th></th>\n",
       "      <th>año</th>\n",
       "      <th>fluencia medida</th>\n",
       "      <th>fluencia calculada</th>\n",
       "      <th>uno menos gamma index</th>\n",
       "    </tr>\n",
       "  </thead>\n",
       "  <tbody>\n",
       "    <tr>\n",
       "      <th>0</th>\n",
       "      <td>2019</td>\n",
       "      <td>1.3.6.1.4.1.9590.100.1.2.106363004312018285639264237160955287698</td>\n",
       "      <td>1.3.6.1.4.1.9590.100.1.2.250681179813913418312485712811639382340</td>\n",
       "      <td>0.126820</td>\n",
       "    </tr>\n",
       "    <tr>\n",
       "      <th>1</th>\n",
       "      <td>2019</td>\n",
       "      <td>1.3.6.1.4.1.9590.100.1.2.117111588412865729801177307310520527927</td>\n",
       "      <td>1.3.6.1.4.1.9590.100.1.2.189485955411711008602298833212808936348</td>\n",
       "      <td>0.004941</td>\n",
       "    </tr>\n",
       "    <tr>\n",
       "      <th>2</th>\n",
       "      <td>2019</td>\n",
       "      <td>1.3.6.1.4.1.9590.100.1.2.190727149413805451333206478261481414648</td>\n",
       "      <td>1.3.6.1.4.1.9590.100.1.2.266447459412025533907550130074057505168</td>\n",
       "      <td>0.541950</td>\n",
       "    </tr>\n",
       "    <tr>\n",
       "      <th>3</th>\n",
       "      <td>2019</td>\n",
       "      <td>1.3.6.1.4.1.9590.100.1.2.211756715011326913522973909883744936800</td>\n",
       "      <td>1.3.6.1.4.1.9590.100.1.2.310552899912770926928572980550460292364</td>\n",
       "      <td>0.000000</td>\n",
       "    </tr>\n",
       "    <tr>\n",
       "      <th>4</th>\n",
       "      <td>2019</td>\n",
       "      <td>1.3.6.1.4.1.9590.100.1.2.225990696211768600614109735753330260661</td>\n",
       "      <td>1.3.6.1.4.1.9590.100.1.2.384142289612482598518084658210846605065</td>\n",
       "      <td>0.406440</td>\n",
       "    </tr>\n",
       "  </tbody>\n",
       "</table>\n",
       "</div>"
      ],
      "text/plain": [
       "    año                                                   fluencia medida  \\\n",
       "0  2019  1.3.6.1.4.1.9590.100.1.2.106363004312018285639264237160955287698   \n",
       "1  2019  1.3.6.1.4.1.9590.100.1.2.117111588412865729801177307310520527927   \n",
       "2  2019  1.3.6.1.4.1.9590.100.1.2.190727149413805451333206478261481414648   \n",
       "3  2019  1.3.6.1.4.1.9590.100.1.2.211756715011326913522973909883744936800   \n",
       "4  2019  1.3.6.1.4.1.9590.100.1.2.225990696211768600614109735753330260661   \n",
       "\n",
       "                                                 fluencia calculada  \\\n",
       "0  1.3.6.1.4.1.9590.100.1.2.250681179813913418312485712811639382340   \n",
       "1  1.3.6.1.4.1.9590.100.1.2.189485955411711008602298833212808936348   \n",
       "2  1.3.6.1.4.1.9590.100.1.2.266447459412025533907550130074057505168   \n",
       "3  1.3.6.1.4.1.9590.100.1.2.310552899912770926928572980550460292364   \n",
       "4  1.3.6.1.4.1.9590.100.1.2.384142289612482598518084658210846605065   \n",
       "\n",
       "   uno menos gamma index  \n",
       "0               0.126820  \n",
       "1               0.004941  \n",
       "2               0.541950  \n",
       "3               0.000000  \n",
       "4               0.406440  "
      ]
     },
     "execution_count": 18,
     "metadata": {},
     "output_type": "execute_result"
    }
   ],
   "source": [
    "maps_in = pd.read_csv(PATH/CODEX_FILE, sep=';', delimiter=None, header=0)\n",
    "maps_in.head()"
   ]
  },
  {
   "cell_type": "code",
   "execution_count": 19,
   "metadata": {},
   "outputs": [
    {
     "data": {
      "text/html": [
       "<div>\n",
       "<style scoped>\n",
       "    .dataframe tbody tr th:only-of-type {\n",
       "        vertical-align: middle;\n",
       "    }\n",
       "\n",
       "    .dataframe tbody tr th {\n",
       "        vertical-align: top;\n",
       "    }\n",
       "\n",
       "    .dataframe thead th {\n",
       "        text-align: right;\n",
       "    }\n",
       "</style>\n",
       "<table border=\"1\" class=\"dataframe\">\n",
       "  <thead>\n",
       "    <tr style=\"text-align: right;\">\n",
       "      <th></th>\n",
       "      <th>relative_filename_jpeg</th>\n",
       "      <th>gamma_index</th>\n",
       "    </tr>\n",
       "  </thead>\n",
       "  <tbody>\n",
       "    <tr>\n",
       "      <th>0</th>\n",
       "      <td>2019-opencv-jpeg/1.3.6.1.4.1.9590.100.1.2.250681179813913418312485712811639382340.jpeg</td>\n",
       "      <td>99.873180</td>\n",
       "    </tr>\n",
       "    <tr>\n",
       "      <th>1</th>\n",
       "      <td>2019-opencv-jpeg/1.3.6.1.4.1.9590.100.1.2.189485955411711008602298833212808936348.jpeg</td>\n",
       "      <td>99.995059</td>\n",
       "    </tr>\n",
       "    <tr>\n",
       "      <th>2</th>\n",
       "      <td>2019-opencv-jpeg/1.3.6.1.4.1.9590.100.1.2.266447459412025533907550130074057505168.jpeg</td>\n",
       "      <td>99.458050</td>\n",
       "    </tr>\n",
       "    <tr>\n",
       "      <th>3</th>\n",
       "      <td>2019-opencv-jpeg/1.3.6.1.4.1.9590.100.1.2.310552899912770926928572980550460292364.jpeg</td>\n",
       "      <td>100.000000</td>\n",
       "    </tr>\n",
       "    <tr>\n",
       "      <th>4</th>\n",
       "      <td>2019-opencv-jpeg/1.3.6.1.4.1.9590.100.1.2.384142289612482598518084658210846605065.jpeg</td>\n",
       "      <td>99.593560</td>\n",
       "    </tr>\n",
       "  </tbody>\n",
       "</table>\n",
       "</div>"
      ],
      "text/plain": [
       "                                                                   relative_filename_jpeg  \\\n",
       "0  2019-opencv-jpeg/1.3.6.1.4.1.9590.100.1.2.250681179813913418312485712811639382340.jpeg   \n",
       "1  2019-opencv-jpeg/1.3.6.1.4.1.9590.100.1.2.189485955411711008602298833212808936348.jpeg   \n",
       "2  2019-opencv-jpeg/1.3.6.1.4.1.9590.100.1.2.266447459412025533907550130074057505168.jpeg   \n",
       "3  2019-opencv-jpeg/1.3.6.1.4.1.9590.100.1.2.310552899912770926928572980550460292364.jpeg   \n",
       "4  2019-opencv-jpeg/1.3.6.1.4.1.9590.100.1.2.384142289612482598518084658210846605065.jpeg   \n",
       "\n",
       "   gamma_index  \n",
       "0    99.873180  \n",
       "1    99.995059  \n",
       "2    99.458050  \n",
       "3   100.000000  \n",
       "4    99.593560  "
      ]
     },
     "execution_count": 19,
     "metadata": {},
     "output_type": "execute_result"
    }
   ],
   "source": [
    "maps_out = pd.DataFrame(columns=['relative_filename_jpeg', 'gamma_index'])\n",
    "maps_out['relative_filename_jpeg'] = [Path(str(row[0])+MAPS_LOCATION_SUFFIX)/Path(str(row[1])+'.jpeg') for row in maps_in[['año', 'fluencia calculada']].values]\n",
    "maps_out['gamma_index'] = maps_in.apply(lambda row: 100.0 - row['uno menos gamma index'], axis=1)\n",
    "maps_out.head()"
   ]
  },
  {
   "cell_type": "code",
   "execution_count": 20,
   "metadata": {},
   "outputs": [
    {
     "data": {
      "text/plain": [
       "(Path('2019-opencv-jpeg/1.3.6.1.4.1.9590.100.1.2.250681179813913418312485712811639382340.jpeg'),\n",
       " 99.87318)"
      ]
     },
     "execution_count": 20,
     "metadata": {},
     "output_type": "execute_result"
    }
   ],
   "source": [
    "maps_out['relative_filename_jpeg'][0], maps_out['gamma_index'][0]"
   ]
  },
  {
   "cell_type": "code",
   "execution_count": 21,
   "metadata": {},
   "outputs": [
    {
     "data": {
      "text/plain": [
       "(Path('2019-opencv-jpeg/1.3.6.1.4.1.9590.100.1.2.250681179813913418312485712811639382340.jpeg'),\n",
       " 99.87318)"
      ]
     },
     "execution_count": 21,
     "metadata": {},
     "output_type": "execute_result"
    }
   ],
   "source": [
    "row = maps_out.iloc[0,:]\n",
    "row['relative_filename_jpeg'], row['gamma_index'] "
   ]
  },
  {
   "cell_type": "code",
   "execution_count": 22,
   "metadata": {},
   "outputs": [
    {
     "data": {
      "text/plain": [
       "(99.87318,\n",
       " numpy.float64,\n",
       " array([99.87318]),\n",
       " numpy.ndarray,\n",
       " 99.87318,\n",
       " numpy.float64)"
      ]
     },
     "execution_count": 22,
     "metadata": {},
     "output_type": "execute_result"
    }
   ],
   "source": [
    "y = row['gamma_index']\n",
    "y, type(y), y[None], type(y[None]), y[None][0], type(y[None][0])"
   ]
  },
  {
   "cell_type": "code",
   "execution_count": 23,
   "metadata": {},
   "outputs": [
    {
     "data": {
      "text/plain": [
       "<matplotlib.image.AxesImage at 0x7f07802b0c10>"
      ]
     },
     "execution_count": 23,
     "metadata": {},
     "output_type": "execute_result"
    },
    {
     "data": {
      "image/png": "[encoded data removed]",
      "text/plain": [
       "<Figure size 432x288 with 1 Axes>"
      ]
     },
     "metadata": {
      "needs_background": "light"
     },
     "output_type": "display_data"
    }
   ],
   "source": [
    "path = PATH/row['relative_filename_jpeg']\n",
    "im = read_image(path)\n",
    "plt.imshow(im)"
   ]
  },
  {
   "cell_type": "code",
   "execution_count": 24,
   "metadata": {},
   "outputs": [
    {
     "data": {
      "text/plain": [
       "(256, 256, 3)"
      ]
     },
     "execution_count": 24,
     "metadata": {},
     "output_type": "execute_result"
    }
   ],
   "source": [
    "im.shape"
   ]
  },
  {
   "cell_type": "code",
   "execution_count": 25,
   "metadata": {},
   "outputs": [
    {
     "data": {
      "text/plain": [
       "(0, 255)"
      ]
     },
     "execution_count": 25,
     "metadata": {},
     "output_type": "execute_result"
    }
   ],
   "source": [
    "# channel 0\n",
    "np.min(im[:,:,0]), np.max(im[:,:,0])"
   ]
  },
  {
   "cell_type": "code",
   "execution_count": 26,
   "metadata": {},
   "outputs": [],
   "source": [
    "mask = np.random.random(len(maps_out)) < 0.8\n",
    "train_maps = maps_out[mask].copy()\n",
    "valid_maps = maps_out[~mask].copy()"
   ]
  },
  {
   "cell_type": "code",
   "execution_count": 27,
   "metadata": {},
   "outputs": [
    {
     "data": {
      "text/plain": [
       "(1227, 972, 255)"
      ]
     },
     "execution_count": 27,
     "metadata": {},
     "output_type": "execute_result"
    }
   ],
   "source": [
    "len(maps_out), len(train_maps), len(valid_maps) "
   ]
  },
  {
   "cell_type": "code",
   "execution_count": 28,
   "metadata": {},
   "outputs": [
    {
     "data": {
      "text/plain": [
       "1226"
      ]
     },
     "execution_count": 28,
     "metadata": {},
     "output_type": "execute_result"
    }
   ],
   "source": [
    "files = [x for x in maps_out['relative_filename_jpeg']]\n",
    "files = list(set(files)) # set(.) to remove duplicates\n",
    "len(files)"
   ]
  },
  {
   "cell_type": "markdown",
   "metadata": {},
   "source": [
    "## Resizing data"
   ]
  },
  {
   "cell_type": "code",
   "execution_count": 29,
   "metadata": {},
   "outputs": [],
   "source": [
    "# 272 = 256 (orig size) + 8*2 (8 pixels cropped)\n",
    "def resize_crop_image(path, sz=(272, 272)):\n",
    "    im = read_image(path)\n",
    "    im = center_crop(im)\n",
    "    return cv2.resize(im, sz)"
   ]
  },
  {
   "cell_type": "code",
   "execution_count": 30,
   "metadata": {},
   "outputs": [],
   "source": [
    "def resize_all_images(resize_path):\n",
    "    files = [x for x in train_maps['full_filename_jpeg']]\n",
    "    for f in files:\n",
    "        f_name = f.parts[-1]    \n",
    "        new_path = resize_path/f_name\n",
    "            \n",
    "        im = resize_crop_image(f)\n",
    "        cv2.imwrite(str(new_path), im, [int(cv2.IMWRITE_JPEG_QUALITY), 100])"
   ]
  },
  {
   "cell_type": "code",
   "execution_count": 31,
   "metadata": {},
   "outputs": [],
   "source": [
    "TRANSFORM = False\n",
    "# Uncomment to do random cropping as part of data augmentation\n",
    "#\n",
    "#if TRANSFORM:\n",
    "#    RESIZE_PATH = 'train_272_272'\n",
    "#    # just run the first time\n",
    "#    resize_all_images(PATH/RESIZE_PATH)\n",
    "#\n",
    "#    train_maps['full_filename_jpeg'] = Path('/').joinpath(*(file.parts[:-2]+(RESIZE_PATH,)+(file.parts[-1],)))\n",
    "#    train_maps.head()"
   ]
  },
  {
   "cell_type": "markdown",
   "metadata": {},
   "source": [
    "## Dataset"
   ]
  },
  {
   "cell_type": "code",
   "execution_count": 32,
   "metadata": {},
   "outputs": [
    {
     "data": {
      "text/plain": [
       "(Path('2019-opencv-jpeg/1.3.6.1.4.1.9590.100.1.2.250681179813913418312485712811639382340.jpeg'),\n",
       " 99.87318)"
      ]
     },
     "execution_count": 32,
     "metadata": {},
     "output_type": "execute_result"
    }
   ],
   "source": [
    "train_maps['relative_filename_jpeg'][0], train_maps['gamma_index'][0]"
   ]
  },
  {
   "cell_type": "code",
   "execution_count": 33,
   "metadata": {},
   "outputs": [],
   "source": [
    "def rescale_0_to_1(image):\n",
    "    \"\"\"\n",
    "    Rescale image to [0, 1].\n",
    "    \"\"\"\n",
    "    # Image must be casted to float32 first\n",
    "    image = image.astype('float')\n",
    "    image = (image/255.0)\n",
    "    return image"
   ]
  },
  {
   "cell_type": "code",
   "execution_count": 34,
   "metadata": {},
   "outputs": [],
   "source": [
    "def rescale_min_1_to_1(image):\n",
    "    \"\"\"\n",
    "    Rescale image to [-1, 1].\n",
    "    \"\"\"\n",
    "    # Image must be casted to float32 first\n",
    "    image = image.astype('float')\n",
    "    # Rescale image from [0, 255] to [0, 2], and by substracting -1 we rescale to [-1, 1].\n",
    "    image = (image/127.5) - 1\n",
    "    return image"
   ]
  },
  {
   "cell_type": "code",
   "execution_count": 35,
   "metadata": {},
   "outputs": [],
   "source": [
    "def fastai_rescale_0_to_1(image):\n",
    "    \"\"\"\n",
    "    Rescale image to [0, 1].\n",
    "    \"\"\"\n",
    "    timage = TensorImage(image2tensor(x))\n",
    "    tfm = IntToFloatTensor()\n",
    "    timage = tfm(timage)\n",
    "    return timage"
   ]
  },
  {
   "cell_type": "code",
   "execution_count": 36,
   "metadata": {},
   "outputs": [],
   "source": [
    "def normalize(im):\n",
    "    \"\"\"Normalizes images with Imagenet stats.\"\"\"\n",
    "    mean = [0.485, 0.456, 0.406]\n",
    "    std = [0.229, 0.224, 0.225]\n",
    "    imagenet_stats = np.array([mean, std])\n",
    "    return (im - imagenet_stats[0])/imagenet_stats[1]"
   ]
  },
  {
   "cell_type": "code",
   "execution_count": 37,
   "metadata": {},
   "outputs": [],
   "source": [
    "class FluenceMapsDataset(Dataset):\n",
    "    def __init__(self, path, maps, transform=False):\n",
    "        self.path = path\n",
    "        self.num_maps = len(maps)\n",
    "        self.maps = maps\n",
    "        self.transform = transform\n",
    "        \n",
    "    def __len__(self):\n",
    "        return self.num_maps\n",
    "    \n",
    "    def __getitem__(self, index):\n",
    "        row = self.maps.iloc[index,:]\n",
    "        y = row['gamma_index']\n",
    "        path = str(self.path/row['relative_filename_jpeg'])\n",
    "        x = read_image(path)\n",
    "        if self.transform:\n",
    "            rdeg = (np.random.random()-.50)*20\n",
    "            x = rotate_cv(x, rdeg)\n",
    "            # x = random_crop(x)\n",
    "            # if np.random.random() > 0.5: x = np.fliplr(x).copy()\n",
    "            x, _ = random_translation(x)\n",
    "        x = rescale_0_to_1(x)\n",
    "        # x = normalize(x) # do not normalize, model performance is lower.\n",
    "        # rollaxis: (256, 256, 3) => (3, 256, 256)\n",
    "        return np.rollaxis(x, 2), y[None], path # y[None] converts y to numpy.ndarray "
   ]
  },
  {
   "cell_type": "code",
   "execution_count": 38,
   "metadata": {},
   "outputs": [],
   "source": [
    "train_ds = FluenceMapsDataset(PATH, train_maps, transform=TRANSFORM)\n",
    "valid_ds = FluenceMapsDataset(PATH, valid_maps)"
   ]
  },
  {
   "cell_type": "code",
   "execution_count": 39,
   "metadata": {},
   "outputs": [
    {
     "data": {
      "text/plain": [
       "((3, 256, 256),\n",
       " array([99.87318]),\n",
       " '/home/pablo/datasets/data/radioterapia/ciolaplata/2019-opencv-jpeg/1.3.6.1.4.1.9590.100.1.2.250681179813913418312485712811639382340.jpeg')"
      ]
     },
     "execution_count": 39,
     "metadata": {},
     "output_type": "execute_result"
    }
   ],
   "source": [
    "x, y, f = train_ds[0]\n",
    "x.shape, y, f"
   ]
  },
  {
   "cell_type": "code",
   "execution_count": 40,
   "metadata": {},
   "outputs": [
    {
     "data": {
      "text/plain": [
       "<matplotlib.image.AxesImage at 0x7f0780530210>"
      ]
     },
     "execution_count": 40,
     "metadata": {},
     "output_type": "execute_result"
    },
    {
     "data": {
      "image/png": "[encoded data removed]",
      "text/plain": [
       "<Figure size 432x288 with 1 Axes>"
      ]
     },
     "metadata": {
      "needs_background": "light"
     },
     "output_type": "display_data"
    }
   ],
   "source": [
    "row = train_maps.iloc[0,:]\n",
    "path = PATH/row['relative_filename_jpeg']\n",
    "im = read_image(path)\n",
    "plt.imshow(im)"
   ]
  },
  {
   "cell_type": "code",
   "execution_count": 41,
   "metadata": {},
   "outputs": [
    {
     "data": {
      "text/plain": [
       "<matplotlib.image.AxesImage at 0x7f07806aab10>"
      ]
     },
     "execution_count": 41,
     "metadata": {},
     "output_type": "execute_result"
    },
    {
     "data": {
      "image/png": "[encoded data removed]",
      "text/plain": [
       "<Figure size 432x288 with 1 Axes>"
      ]
     },
     "metadata": {
      "needs_background": "light"
     },
     "output_type": "display_data"
    }
   ],
   "source": [
    "x = np.rollaxis(x, 2)\n",
    "x = np.rollaxis(x, 2)\n",
    "plt.imshow(x)"
   ]
  },
  {
   "cell_type": "code",
   "execution_count": 42,
   "metadata": {},
   "outputs": [
    {
     "data": {
      "text/plain": [
       "((3, 256, 256), array([100.]))"
      ]
     },
     "execution_count": 42,
     "metadata": {},
     "output_type": "execute_result"
    }
   ],
   "source": [
    "x, y, _ = valid_ds[0]\n",
    "x.shape, y"
   ]
  },
  {
   "cell_type": "code",
   "execution_count": 43,
   "metadata": {},
   "outputs": [],
   "source": [
    "BATCH_SIZE = 32"
   ]
  },
  {
   "cell_type": "code",
   "execution_count": 44,
   "metadata": {},
   "outputs": [],
   "source": [
    "train_loader = DataLoader(train_ds, batch_size=BATCH_SIZE, shuffle=True, num_workers=8)\n",
    "valid_loader = DataLoader(valid_ds, batch_size=BATCH_SIZE, num_workers=8)"
   ]
  },
  {
   "cell_type": "code",
   "execution_count": 45,
   "metadata": {},
   "outputs": [
    {
     "data": {
      "text/plain": [
       "972"
      ]
     },
     "execution_count": 45,
     "metadata": {},
     "output_type": "execute_result"
    }
   ],
   "source": [
    "len(train_ds)"
   ]
  },
  {
   "cell_type": "code",
   "execution_count": 46,
   "metadata": {},
   "outputs": [
    {
     "data": {
      "text/plain": [
       "31"
      ]
     },
     "execution_count": 46,
     "metadata": {},
     "output_type": "execute_result"
    }
   ],
   "source": [
    "len(train_loader)"
   ]
  },
  {
   "cell_type": "code",
   "execution_count": 47,
   "metadata": {},
   "outputs": [],
   "source": [
    "train_dl = DataLoader(train_ds, batch_size=BATCH_SIZE, shuffle=True)\n",
    "valid_dl = DataLoader(valid_ds, batch_size=BATCH_SIZE)"
   ]
  },
  {
   "cell_type": "markdown",
   "metadata": {},
   "source": [
    "## fastai2 DataLoader"
   ]
  },
  {
   "cell_type": "code",
   "execution_count": 114,
   "metadata": {},
   "outputs": [
    {
     "name": "stdout",
     "output_type": "stream",
     "text": [
      "Setting up after_item: Pipeline: ToTensor\n",
      "Setting up before_batch: Pipeline: \n",
      "Setting up after_batch: Pipeline: IntToFloatTensor -- {'div': 255.0, 'div_mask': 1} -> Normalize -- {'mean': tensor([[[[0.4850]],\n",
      "\n",
      "         [[0.4560]],\n",
      "\n",
      "         [[0.4060]]]], device='cuda:0'), 'std': tensor([[[[0.2290]],\n",
      "\n",
      "         [[0.2240]],\n",
      "\n",
      "         [[0.2250]]]], device='cuda:0'), 'axes': (0, 2, 3)}\n"
     ]
    }
   ],
   "source": [
    "# https://docs.fast.ai/vision.data#ImageDataLoaders.from_df\n",
    "# dls = ImageDataLoaders.from_df(maps_out, path=PATH, fn_col=0, label_col=1, y_block=RegressionBlock,\n",
    "#                                bs=BATCH_SIZE, item_tfms=[IntToFloatTensor()],\n",
    "#                                seed=SEED, valid_pct=0.2, shuffle_train=True)\n",
    "\n",
    "# https://github.com/fastai/course-v4/blob/master/nbs/06_multicat.ipynb\n",
    "dblock = DataBlock(blocks=(ImageBlock, RegressionBlock),\n",
    "                   get_x = lambda r: PATH/r['relative_filename_jpeg'], # need to specify full path\n",
    "                   get_y = lambda r: r['gamma_index'],\n",
    "                   batch_tfms=[Normalize.from_stats(*imagenet_stats)])\n",
    "\n",
    "# dsets = dblock.datasets(maps_out)\n",
    "# dsets.train[0]\n",
    "\n",
    "dls = dblock.dataloaders(maps_out, batch_size=BATCH_SIZE, num_workers=8, shuffle_train=True, verbose=True)"
   ]
  },
  {
   "cell_type": "code",
   "execution_count": 115,
   "metadata": {},
   "outputs": [],
   "source": [
    "test_eq(len(dls.one_batch()[0]), BATCH_SIZE)"
   ]
  },
  {
   "cell_type": "code",
   "execution_count": 116,
   "metadata": {
    "scrolled": true
   },
   "outputs": [
    {
     "data": {
      "text/plain": [
       "(982, 245)"
      ]
     },
     "execution_count": 116,
     "metadata": {},
     "output_type": "execute_result"
    }
   ],
   "source": [
    "len(dls.train_ds.items), len(dls.valid_ds.items)"
   ]
  },
  {
   "cell_type": "code",
   "execution_count": 117,
   "metadata": {},
   "outputs": [
    {
     "data": {
      "text/html": [
       "<div>\n",
       "<style scoped>\n",
       "    .dataframe tbody tr th:only-of-type {\n",
       "        vertical-align: middle;\n",
       "    }\n",
       "\n",
       "    .dataframe tbody tr th {\n",
       "        vertical-align: top;\n",
       "    }\n",
       "\n",
       "    .dataframe thead th {\n",
       "        text-align: right;\n",
       "    }\n",
       "</style>\n",
       "<table border=\"1\" class=\"dataframe\">\n",
       "  <thead>\n",
       "    <tr style=\"text-align: right;\">\n",
       "      <th></th>\n",
       "      <th>relative_filename_jpeg</th>\n",
       "      <th>gamma_index</th>\n",
       "    </tr>\n",
       "  </thead>\n",
       "  <tbody>\n",
       "    <tr>\n",
       "      <th>158</th>\n",
       "      <td>2019-opencv-jpeg/1.3.6.1.4.1.9590.100.1.2.210894710213393984308348451023739183015.jpeg</td>\n",
       "      <td>99.905765</td>\n",
       "    </tr>\n",
       "    <tr>\n",
       "      <th>137</th>\n",
       "      <td>2019-opencv-jpeg/1.3.6.1.4.1.9590.100.1.2.307107771211012512800844901450965016354.jpeg</td>\n",
       "      <td>98.498700</td>\n",
       "    </tr>\n",
       "    <tr>\n",
       "      <th>733</th>\n",
       "      <td>2019-opencv-jpeg/1.3.6.1.4.1.9590.100.1.2.215022383213499892610063845704227201633.jpeg</td>\n",
       "      <td>99.601020</td>\n",
       "    </tr>\n",
       "    <tr>\n",
       "      <th>534</th>\n",
       "      <td>2019-opencv-jpeg/1.3.6.1.4.1.9590.100.1.2.227800304111253307328844965161085541084.jpeg</td>\n",
       "      <td>99.876110</td>\n",
       "    </tr>\n",
       "    <tr>\n",
       "      <th>803</th>\n",
       "      <td>2019-opencv-jpeg/1.3.6.1.4.1.9590.100.1.2.75175232911819172302780261722287707754.jpeg</td>\n",
       "      <td>99.972170</td>\n",
       "    </tr>\n",
       "  </tbody>\n",
       "</table>\n",
       "</div>"
      ],
      "text/plain": [
       "                                                                     relative_filename_jpeg  \\\n",
       "158  2019-opencv-jpeg/1.3.6.1.4.1.9590.100.1.2.210894710213393984308348451023739183015.jpeg   \n",
       "137  2019-opencv-jpeg/1.3.6.1.4.1.9590.100.1.2.307107771211012512800844901450965016354.jpeg   \n",
       "733  2019-opencv-jpeg/1.3.6.1.4.1.9590.100.1.2.215022383213499892610063845704227201633.jpeg   \n",
       "534  2019-opencv-jpeg/1.3.6.1.4.1.9590.100.1.2.227800304111253307328844965161085541084.jpeg   \n",
       "803   2019-opencv-jpeg/1.3.6.1.4.1.9590.100.1.2.75175232911819172302780261722287707754.jpeg   \n",
       "\n",
       "     gamma_index  \n",
       "158    99.905765  \n",
       "137    98.498700  \n",
       "733    99.601020  \n",
       "534    99.876110  \n",
       "803    99.972170  "
      ]
     },
     "execution_count": 117,
     "metadata": {},
     "output_type": "execute_result"
    }
   ],
   "source": [
    "dls.train_ds.items[:5]"
   ]
  },
  {
   "cell_type": "code",
   "execution_count": 118,
   "metadata": {},
   "outputs": [
    {
     "data": {
      "text/plain": [
       "(fastai.vision.core.PILImage, torch.Tensor)"
      ]
     },
     "execution_count": 118,
     "metadata": {},
     "output_type": "execute_result"
    }
   ],
   "source": [
    "x, y = dls.train_ds[1]\n",
    "type(x), type(y)"
   ]
  },
  {
   "cell_type": "code",
   "execution_count": 119,
   "metadata": {},
   "outputs": [
    {
     "data": {
      "text/plain": [
       "(<matplotlib.axes._subplots.AxesSubplot at 0x7f0760d97b90>, (256, 256))"
      ]
     },
     "execution_count": 119,
     "metadata": {},
     "output_type": "execute_result"
    },
    {
     "data": {
      "image/png": "[encoded data removed]",
      "text/plain": [
       "<Figure size 360x360 with 1 Axes>"
      ]
     },
     "metadata": {
      "needs_background": "light"
     },
     "output_type": "display_data"
    }
   ],
   "source": [
    "x.show(), x.shape"
   ]
  },
  {
   "cell_type": "code",
   "execution_count": 120,
   "metadata": {},
   "outputs": [
    {
     "data": {
      "text/plain": [
       "(torch.Size([32, 3, 256, 256]), fastai.torch_core.TensorImage)"
      ]
     },
     "execution_count": 120,
     "metadata": {},
     "output_type": "execute_result"
    }
   ],
   "source": [
    "batch = dls.one_batch()\n",
    "batch[0].shape, type(batch[0])"
   ]
  },
  {
   "cell_type": "code",
   "execution_count": 121,
   "metadata": {},
   "outputs": [
    {
     "data": {
      "image/png": "[encoded data removed]",
      "text/plain": [
       "<PIL.Image.Image image mode=RGB size=256x256 at 0x7F0760F1B250>"
      ]
     },
     "execution_count": 121,
     "metadata": {},
     "output_type": "execute_result"
    }
   ],
   "source": [
    "to_image(batch[0][0])"
   ]
  },
  {
   "cell_type": "code",
   "execution_count": 122,
   "metadata": {},
   "outputs": [
    {
     "data": {
      "image/png": "[encoded data removed]",
      "text/plain": [
       "<Figure size 648x648 with 9 Axes>"
      ]
     },
     "metadata": {
      "needs_background": "light"
     },
     "output_type": "display_data"
    }
   ],
   "source": [
    "dls.show_batch(max_n=9)"
   ]
  },
  {
   "cell_type": "markdown",
   "metadata": {},
   "source": [
    "## fastai2 Learner"
   ]
  },
  {
   "cell_type": "code",
   "execution_count": 137,
   "metadata": {},
   "outputs": [],
   "source": [
    "learn = cnn_learner(dls, models.resnet18, loss_func=L1LossFlat())"
   ]
  },
  {
   "cell_type": "code",
   "execution_count": 138,
   "metadata": {},
   "outputs": [
    {
     "data": {
      "text/html": [],
      "text/plain": [
       "<IPython.core.display.HTML object>"
      ]
     },
     "metadata": {},
     "output_type": "display_data"
    },
    {
     "data": {
      "text/plain": [
       "SuggestedLRs(lr_min=0.13182567358016967, lr_steep=0.0831763744354248)"
      ]
     },
     "execution_count": 138,
     "metadata": {},
     "output_type": "execute_result"
    },
    {
     "data": {
      "image/png": "[encoded data removed]",
      "text/plain": [
       "<Figure size 432x288 with 1 Axes>"
      ]
     },
     "metadata": {
      "needs_background": "light"
     },
     "output_type": "display_data"
    }
   ],
   "source": [
    "learn.lr_find()"
   ]
  },
  {
   "cell_type": "markdown",
   "metadata": {},
   "source": [
    "## Training frozen model and fine-tuning"
   ]
  },
  {
   "cell_type": "code",
   "execution_count": 140,
   "metadata": {},
   "outputs": [
    {
     "data": {
      "text/html": [
       "<table border=\"1\" class=\"dataframe\">\n",
       "  <thead>\n",
       "    <tr style=\"text-align: left;\">\n",
       "      <th>epoch</th>\n",
       "      <th>train_loss</th>\n",
       "      <th>valid_loss</th>\n",
       "      <th>time</th>\n",
       "    </tr>\n",
       "  </thead>\n",
       "  <tbody>\n",
       "    <tr>\n",
       "      <td>0</td>\n",
       "      <td>99.348572</td>\n",
       "      <td>100.169609</td>\n",
       "      <td>00:02</td>\n",
       "    </tr>\n",
       "    <tr>\n",
       "      <td>1</td>\n",
       "      <td>98.621559</td>\n",
       "      <td>97.876900</td>\n",
       "      <td>00:02</td>\n",
       "    </tr>\n",
       "    <tr>\n",
       "      <td>2</td>\n",
       "      <td>95.860016</td>\n",
       "      <td>88.227921</td>\n",
       "      <td>00:02</td>\n",
       "    </tr>\n",
       "    <tr>\n",
       "      <td>3</td>\n",
       "      <td>79.819016</td>\n",
       "      <td>28.370010</td>\n",
       "      <td>00:02</td>\n",
       "    </tr>\n",
       "    <tr>\n",
       "      <td>4</td>\n",
       "      <td>48.821507</td>\n",
       "      <td>24.477417</td>\n",
       "      <td>00:02</td>\n",
       "    </tr>\n",
       "    <tr>\n",
       "      <td>5</td>\n",
       "      <td>31.072535</td>\n",
       "      <td>7.221565</td>\n",
       "      <td>00:02</td>\n",
       "    </tr>\n",
       "    <tr>\n",
       "      <td>6</td>\n",
       "      <td>20.444407</td>\n",
       "      <td>5.199683</td>\n",
       "      <td>00:02</td>\n",
       "    </tr>\n",
       "    <tr>\n",
       "      <td>7</td>\n",
       "      <td>14.253314</td>\n",
       "      <td>3.826603</td>\n",
       "      <td>00:02</td>\n",
       "    </tr>\n",
       "    <tr>\n",
       "      <td>8</td>\n",
       "      <td>10.352068</td>\n",
       "      <td>2.772504</td>\n",
       "      <td>00:02</td>\n",
       "    </tr>\n",
       "    <tr>\n",
       "      <td>9</td>\n",
       "      <td>8.095754</td>\n",
       "      <td>3.452002</td>\n",
       "      <td>00:02</td>\n",
       "    </tr>\n",
       "  </tbody>\n",
       "</table>"
      ],
      "text/plain": [
       "<IPython.core.display.HTML object>"
      ]
     },
     "metadata": {},
     "output_type": "display_data"
    },
    {
     "data": {
      "text/html": [
       "<table border=\"1\" class=\"dataframe\">\n",
       "  <thead>\n",
       "    <tr style=\"text-align: left;\">\n",
       "      <th>epoch</th>\n",
       "      <th>train_loss</th>\n",
       "      <th>valid_loss</th>\n",
       "      <th>time</th>\n",
       "    </tr>\n",
       "  </thead>\n",
       "  <tbody>\n",
       "    <tr>\n",
       "      <td>0</td>\n",
       "      <td>5.160256</td>\n",
       "      <td>2.386093</td>\n",
       "      <td>00:02</td>\n",
       "    </tr>\n",
       "    <tr>\n",
       "      <td>1</td>\n",
       "      <td>4.723403</td>\n",
       "      <td>1.501614</td>\n",
       "      <td>00:02</td>\n",
       "    </tr>\n",
       "    <tr>\n",
       "      <td>2</td>\n",
       "      <td>4.667306</td>\n",
       "      <td>2.737612</td>\n",
       "      <td>00:02</td>\n",
       "    </tr>\n",
       "    <tr>\n",
       "      <td>3</td>\n",
       "      <td>4.563388</td>\n",
       "      <td>1.502158</td>\n",
       "      <td>00:02</td>\n",
       "    </tr>\n",
       "    <tr>\n",
       "      <td>4</td>\n",
       "      <td>4.585774</td>\n",
       "      <td>1.206587</td>\n",
       "      <td>00:02</td>\n",
       "    </tr>\n",
       "    <tr>\n",
       "      <td>5</td>\n",
       "      <td>4.515943</td>\n",
       "      <td>1.187191</td>\n",
       "      <td>00:02</td>\n",
       "    </tr>\n",
       "    <tr>\n",
       "      <td>6</td>\n",
       "      <td>4.455287</td>\n",
       "      <td>0.976963</td>\n",
       "      <td>00:02</td>\n",
       "    </tr>\n",
       "    <tr>\n",
       "      <td>7</td>\n",
       "      <td>4.406381</td>\n",
       "      <td>0.968117</td>\n",
       "      <td>00:02</td>\n",
       "    </tr>\n",
       "    <tr>\n",
       "      <td>8</td>\n",
       "      <td>4.436558</td>\n",
       "      <td>1.108417</td>\n",
       "      <td>00:02</td>\n",
       "    </tr>\n",
       "    <tr>\n",
       "      <td>9</td>\n",
       "      <td>4.400185</td>\n",
       "      <td>1.161910</td>\n",
       "      <td>00:02</td>\n",
       "    </tr>\n",
       "    <tr>\n",
       "      <td>10</td>\n",
       "      <td>4.331360</td>\n",
       "      <td>0.968156</td>\n",
       "      <td>00:02</td>\n",
       "    </tr>\n",
       "    <tr>\n",
       "      <td>11</td>\n",
       "      <td>4.282546</td>\n",
       "      <td>1.557896</td>\n",
       "      <td>00:02</td>\n",
       "    </tr>\n",
       "    <tr>\n",
       "      <td>12</td>\n",
       "      <td>4.228227</td>\n",
       "      <td>1.226321</td>\n",
       "      <td>00:02</td>\n",
       "    </tr>\n",
       "    <tr>\n",
       "      <td>13</td>\n",
       "      <td>4.222321</td>\n",
       "      <td>2.110420</td>\n",
       "      <td>00:02</td>\n",
       "    </tr>\n",
       "    <tr>\n",
       "      <td>14</td>\n",
       "      <td>4.214729</td>\n",
       "      <td>0.971230</td>\n",
       "      <td>00:02</td>\n",
       "    </tr>\n",
       "    <tr>\n",
       "      <td>15</td>\n",
       "      <td>4.281388</td>\n",
       "      <td>1.943923</td>\n",
       "      <td>00:02</td>\n",
       "    </tr>\n",
       "    <tr>\n",
       "      <td>16</td>\n",
       "      <td>4.241218</td>\n",
       "      <td>1.491649</td>\n",
       "      <td>00:02</td>\n",
       "    </tr>\n",
       "    <tr>\n",
       "      <td>17</td>\n",
       "      <td>4.256830</td>\n",
       "      <td>1.693587</td>\n",
       "      <td>00:02</td>\n",
       "    </tr>\n",
       "    <tr>\n",
       "      <td>18</td>\n",
       "      <td>4.233291</td>\n",
       "      <td>1.249292</td>\n",
       "      <td>00:02</td>\n",
       "    </tr>\n",
       "    <tr>\n",
       "      <td>19</td>\n",
       "      <td>4.154126</td>\n",
       "      <td>0.752018</td>\n",
       "      <td>00:02</td>\n",
       "    </tr>\n",
       "    <tr>\n",
       "      <td>20</td>\n",
       "      <td>4.213458</td>\n",
       "      <td>0.829438</td>\n",
       "      <td>00:02</td>\n",
       "    </tr>\n",
       "    <tr>\n",
       "      <td>21</td>\n",
       "      <td>4.161456</td>\n",
       "      <td>0.693988</td>\n",
       "      <td>00:02</td>\n",
       "    </tr>\n",
       "    <tr>\n",
       "      <td>22</td>\n",
       "      <td>4.068949</td>\n",
       "      <td>0.790953</td>\n",
       "      <td>00:02</td>\n",
       "    </tr>\n",
       "    <tr>\n",
       "      <td>23</td>\n",
       "      <td>4.125070</td>\n",
       "      <td>1.636909</td>\n",
       "      <td>00:02</td>\n",
       "    </tr>\n",
       "    <tr>\n",
       "      <td>24</td>\n",
       "      <td>4.116806</td>\n",
       "      <td>0.937202</td>\n",
       "      <td>00:02</td>\n",
       "    </tr>\n",
       "    <tr>\n",
       "      <td>25</td>\n",
       "      <td>3.992534</td>\n",
       "      <td>1.045788</td>\n",
       "      <td>00:02</td>\n",
       "    </tr>\n",
       "    <tr>\n",
       "      <td>26</td>\n",
       "      <td>4.058343</td>\n",
       "      <td>1.135225</td>\n",
       "      <td>00:02</td>\n",
       "    </tr>\n",
       "    <tr>\n",
       "      <td>27</td>\n",
       "      <td>3.971035</td>\n",
       "      <td>1.461680</td>\n",
       "      <td>00:02</td>\n",
       "    </tr>\n",
       "    <tr>\n",
       "      <td>28</td>\n",
       "      <td>3.923176</td>\n",
       "      <td>0.515093</td>\n",
       "      <td>00:02</td>\n",
       "    </tr>\n",
       "    <tr>\n",
       "      <td>29</td>\n",
       "      <td>3.991769</td>\n",
       "      <td>1.019735</td>\n",
       "      <td>00:02</td>\n",
       "    </tr>\n",
       "    <tr>\n",
       "      <td>30</td>\n",
       "      <td>4.031027</td>\n",
       "      <td>0.771000</td>\n",
       "      <td>00:02</td>\n",
       "    </tr>\n",
       "    <tr>\n",
       "      <td>31</td>\n",
       "      <td>3.988233</td>\n",
       "      <td>0.933251</td>\n",
       "      <td>00:02</td>\n",
       "    </tr>\n",
       "    <tr>\n",
       "      <td>32</td>\n",
       "      <td>3.948387</td>\n",
       "      <td>0.749526</td>\n",
       "      <td>00:02</td>\n",
       "    </tr>\n",
       "    <tr>\n",
       "      <td>33</td>\n",
       "      <td>3.976482</td>\n",
       "      <td>1.488743</td>\n",
       "      <td>00:02</td>\n",
       "    </tr>\n",
       "    <tr>\n",
       "      <td>34</td>\n",
       "      <td>3.958061</td>\n",
       "      <td>1.097862</td>\n",
       "      <td>00:02</td>\n",
       "    </tr>\n",
       "    <tr>\n",
       "      <td>35</td>\n",
       "      <td>3.863105</td>\n",
       "      <td>1.694098</td>\n",
       "      <td>00:02</td>\n",
       "    </tr>\n",
       "    <tr>\n",
       "      <td>36</td>\n",
       "      <td>3.912486</td>\n",
       "      <td>1.720285</td>\n",
       "      <td>00:02</td>\n",
       "    </tr>\n",
       "    <tr>\n",
       "      <td>37</td>\n",
       "      <td>3.962122</td>\n",
       "      <td>3.252301</td>\n",
       "      <td>00:02</td>\n",
       "    </tr>\n",
       "    <tr>\n",
       "      <td>38</td>\n",
       "      <td>3.926015</td>\n",
       "      <td>0.690791</td>\n",
       "      <td>00:02</td>\n",
       "    </tr>\n",
       "    <tr>\n",
       "      <td>39</td>\n",
       "      <td>3.964665</td>\n",
       "      <td>0.779449</td>\n",
       "      <td>00:02</td>\n",
       "    </tr>\n",
       "    <tr>\n",
       "      <td>40</td>\n",
       "      <td>4.048472</td>\n",
       "      <td>1.322647</td>\n",
       "      <td>00:02</td>\n",
       "    </tr>\n",
       "    <tr>\n",
       "      <td>41</td>\n",
       "      <td>3.966953</td>\n",
       "      <td>3.886313</td>\n",
       "      <td>00:02</td>\n",
       "    </tr>\n",
       "    <tr>\n",
       "      <td>42</td>\n",
       "      <td>3.877392</td>\n",
       "      <td>1.295274</td>\n",
       "      <td>00:02</td>\n",
       "    </tr>\n",
       "    <tr>\n",
       "      <td>43</td>\n",
       "      <td>3.985791</td>\n",
       "      <td>0.999552</td>\n",
       "      <td>00:02</td>\n",
       "    </tr>\n",
       "    <tr>\n",
       "      <td>44</td>\n",
       "      <td>3.919635</td>\n",
       "      <td>1.095926</td>\n",
       "      <td>00:02</td>\n",
       "    </tr>\n",
       "    <tr>\n",
       "      <td>45</td>\n",
       "      <td>3.874768</td>\n",
       "      <td>1.532508</td>\n",
       "      <td>00:02</td>\n",
       "    </tr>\n",
       "    <tr>\n",
       "      <td>46</td>\n",
       "      <td>3.895367</td>\n",
       "      <td>0.587354</td>\n",
       "      <td>00:02</td>\n",
       "    </tr>\n",
       "    <tr>\n",
       "      <td>47</td>\n",
       "      <td>3.912238</td>\n",
       "      <td>3.410967</td>\n",
       "      <td>00:02</td>\n",
       "    </tr>\n",
       "    <tr>\n",
       "      <td>48</td>\n",
       "      <td>3.911797</td>\n",
       "      <td>1.638893</td>\n",
       "      <td>00:02</td>\n",
       "    </tr>\n",
       "    <tr>\n",
       "      <td>49</td>\n",
       "      <td>3.952252</td>\n",
       "      <td>1.110943</td>\n",
       "      <td>00:02</td>\n",
       "    </tr>\n",
       "    <tr>\n",
       "      <td>50</td>\n",
       "      <td>3.872026</td>\n",
       "      <td>1.067250</td>\n",
       "      <td>00:02</td>\n",
       "    </tr>\n",
       "    <tr>\n",
       "      <td>51</td>\n",
       "      <td>3.871858</td>\n",
       "      <td>0.533511</td>\n",
       "      <td>00:02</td>\n",
       "    </tr>\n",
       "    <tr>\n",
       "      <td>52</td>\n",
       "      <td>3.880377</td>\n",
       "      <td>0.762662</td>\n",
       "      <td>00:02</td>\n",
       "    </tr>\n",
       "    <tr>\n",
       "      <td>53</td>\n",
       "      <td>3.959588</td>\n",
       "      <td>0.636293</td>\n",
       "      <td>00:02</td>\n",
       "    </tr>\n",
       "    <tr>\n",
       "      <td>54</td>\n",
       "      <td>3.961775</td>\n",
       "      <td>1.653454</td>\n",
       "      <td>00:02</td>\n",
       "    </tr>\n",
       "    <tr>\n",
       "      <td>55</td>\n",
       "      <td>3.968572</td>\n",
       "      <td>0.937002</td>\n",
       "      <td>00:02</td>\n",
       "    </tr>\n",
       "    <tr>\n",
       "      <td>56</td>\n",
       "      <td>3.920056</td>\n",
       "      <td>3.263872</td>\n",
       "      <td>00:02</td>\n",
       "    </tr>\n",
       "    <tr>\n",
       "      <td>57</td>\n",
       "      <td>3.892569</td>\n",
       "      <td>0.532376</td>\n",
       "      <td>00:02</td>\n",
       "    </tr>\n",
       "    <tr>\n",
       "      <td>58</td>\n",
       "      <td>3.860561</td>\n",
       "      <td>2.589333</td>\n",
       "      <td>00:02</td>\n",
       "    </tr>\n",
       "    <tr>\n",
       "      <td>59</td>\n",
       "      <td>3.929441</td>\n",
       "      <td>0.911628</td>\n",
       "      <td>00:02</td>\n",
       "    </tr>\n",
       "    <tr>\n",
       "      <td>60</td>\n",
       "      <td>3.903835</td>\n",
       "      <td>0.860078</td>\n",
       "      <td>00:02</td>\n",
       "    </tr>\n",
       "    <tr>\n",
       "      <td>61</td>\n",
       "      <td>3.909812</td>\n",
       "      <td>1.252800</td>\n",
       "      <td>00:02</td>\n",
       "    </tr>\n",
       "    <tr>\n",
       "      <td>62</td>\n",
       "      <td>3.879092</td>\n",
       "      <td>0.884190</td>\n",
       "      <td>00:02</td>\n",
       "    </tr>\n",
       "    <tr>\n",
       "      <td>63</td>\n",
       "      <td>3.944881</td>\n",
       "      <td>1.245420</td>\n",
       "      <td>00:02</td>\n",
       "    </tr>\n",
       "    <tr>\n",
       "      <td>64</td>\n",
       "      <td>3.894640</td>\n",
       "      <td>1.654671</td>\n",
       "      <td>00:02</td>\n",
       "    </tr>\n",
       "    <tr>\n",
       "      <td>65</td>\n",
       "      <td>3.896734</td>\n",
       "      <td>0.539689</td>\n",
       "      <td>00:02</td>\n",
       "    </tr>\n",
       "    <tr>\n",
       "      <td>66</td>\n",
       "      <td>3.920460</td>\n",
       "      <td>2.751418</td>\n",
       "      <td>00:02</td>\n",
       "    </tr>\n",
       "    <tr>\n",
       "      <td>67</td>\n",
       "      <td>3.845483</td>\n",
       "      <td>3.173513</td>\n",
       "      <td>00:02</td>\n",
       "    </tr>\n",
       "    <tr>\n",
       "      <td>68</td>\n",
       "      <td>3.909797</td>\n",
       "      <td>2.208112</td>\n",
       "      <td>00:02</td>\n",
       "    </tr>\n",
       "    <tr>\n",
       "      <td>69</td>\n",
       "      <td>3.864596</td>\n",
       "      <td>2.625057</td>\n",
       "      <td>00:02</td>\n",
       "    </tr>\n",
       "    <tr>\n",
       "      <td>70</td>\n",
       "      <td>3.919431</td>\n",
       "      <td>0.347951</td>\n",
       "      <td>00:02</td>\n",
       "    </tr>\n",
       "    <tr>\n",
       "      <td>71</td>\n",
       "      <td>3.830739</td>\n",
       "      <td>1.402966</td>\n",
       "      <td>00:02</td>\n",
       "    </tr>\n",
       "    <tr>\n",
       "      <td>72</td>\n",
       "      <td>3.754413</td>\n",
       "      <td>1.046318</td>\n",
       "      <td>00:02</td>\n",
       "    </tr>\n",
       "    <tr>\n",
       "      <td>73</td>\n",
       "      <td>3.823356</td>\n",
       "      <td>2.439011</td>\n",
       "      <td>00:02</td>\n",
       "    </tr>\n",
       "    <tr>\n",
       "      <td>74</td>\n",
       "      <td>3.898066</td>\n",
       "      <td>0.509255</td>\n",
       "      <td>00:02</td>\n",
       "    </tr>\n",
       "    <tr>\n",
       "      <td>75</td>\n",
       "      <td>3.857708</td>\n",
       "      <td>1.418049</td>\n",
       "      <td>00:02</td>\n",
       "    </tr>\n",
       "    <tr>\n",
       "      <td>76</td>\n",
       "      <td>3.884410</td>\n",
       "      <td>0.954445</td>\n",
       "      <td>00:02</td>\n",
       "    </tr>\n",
       "    <tr>\n",
       "      <td>77</td>\n",
       "      <td>3.874473</td>\n",
       "      <td>1.309090</td>\n",
       "      <td>00:02</td>\n",
       "    </tr>\n",
       "    <tr>\n",
       "      <td>78</td>\n",
       "      <td>3.812404</td>\n",
       "      <td>0.579482</td>\n",
       "      <td>00:02</td>\n",
       "    </tr>\n",
       "    <tr>\n",
       "      <td>79</td>\n",
       "      <td>3.917840</td>\n",
       "      <td>2.069673</td>\n",
       "      <td>00:02</td>\n",
       "    </tr>\n",
       "    <tr>\n",
       "      <td>80</td>\n",
       "      <td>3.933227</td>\n",
       "      <td>1.316290</td>\n",
       "      <td>00:02</td>\n",
       "    </tr>\n",
       "    <tr>\n",
       "      <td>81</td>\n",
       "      <td>3.963665</td>\n",
       "      <td>1.346912</td>\n",
       "      <td>00:02</td>\n",
       "    </tr>\n",
       "    <tr>\n",
       "      <td>82</td>\n",
       "      <td>3.890512</td>\n",
       "      <td>0.494246</td>\n",
       "      <td>00:02</td>\n",
       "    </tr>\n",
       "    <tr>\n",
       "      <td>83</td>\n",
       "      <td>3.788952</td>\n",
       "      <td>0.896360</td>\n",
       "      <td>00:02</td>\n",
       "    </tr>\n",
       "    <tr>\n",
       "      <td>84</td>\n",
       "      <td>3.802908</td>\n",
       "      <td>2.283296</td>\n",
       "      <td>00:02</td>\n",
       "    </tr>\n",
       "    <tr>\n",
       "      <td>85</td>\n",
       "      <td>3.856640</td>\n",
       "      <td>0.438826</td>\n",
       "      <td>00:02</td>\n",
       "    </tr>\n",
       "    <tr>\n",
       "      <td>86</td>\n",
       "      <td>3.801967</td>\n",
       "      <td>1.862685</td>\n",
       "      <td>00:02</td>\n",
       "    </tr>\n",
       "    <tr>\n",
       "      <td>87</td>\n",
       "      <td>3.864934</td>\n",
       "      <td>0.900093</td>\n",
       "      <td>00:02</td>\n",
       "    </tr>\n",
       "    <tr>\n",
       "      <td>88</td>\n",
       "      <td>3.853187</td>\n",
       "      <td>1.826804</td>\n",
       "      <td>00:02</td>\n",
       "    </tr>\n",
       "    <tr>\n",
       "      <td>89</td>\n",
       "      <td>3.844664</td>\n",
       "      <td>2.246902</td>\n",
       "      <td>00:02</td>\n",
       "    </tr>\n",
       "    <tr>\n",
       "      <td>90</td>\n",
       "      <td>3.843148</td>\n",
       "      <td>1.649160</td>\n",
       "      <td>00:02</td>\n",
       "    </tr>\n",
       "    <tr>\n",
       "      <td>91</td>\n",
       "      <td>3.810072</td>\n",
       "      <td>0.805707</td>\n",
       "      <td>00:02</td>\n",
       "    </tr>\n",
       "    <tr>\n",
       "      <td>92</td>\n",
       "      <td>3.819689</td>\n",
       "      <td>1.151190</td>\n",
       "      <td>00:02</td>\n",
       "    </tr>\n",
       "    <tr>\n",
       "      <td>93</td>\n",
       "      <td>3.856740</td>\n",
       "      <td>0.810781</td>\n",
       "      <td>00:02</td>\n",
       "    </tr>\n",
       "    <tr>\n",
       "      <td>94</td>\n",
       "      <td>3.798174</td>\n",
       "      <td>14.121165</td>\n",
       "      <td>00:02</td>\n",
       "    </tr>\n",
       "    <tr>\n",
       "      <td>95</td>\n",
       "      <td>3.839278</td>\n",
       "      <td>1.478677</td>\n",
       "      <td>00:02</td>\n",
       "    </tr>\n",
       "    <tr>\n",
       "      <td>96</td>\n",
       "      <td>3.781959</td>\n",
       "      <td>0.863577</td>\n",
       "      <td>00:02</td>\n",
       "    </tr>\n",
       "    <tr>\n",
       "      <td>97</td>\n",
       "      <td>3.753879</td>\n",
       "      <td>0.522566</td>\n",
       "      <td>00:02</td>\n",
       "    </tr>\n",
       "    <tr>\n",
       "      <td>98</td>\n",
       "      <td>3.904797</td>\n",
       "      <td>1.297280</td>\n",
       "      <td>00:02</td>\n",
       "    </tr>\n",
       "    <tr>\n",
       "      <td>99</td>\n",
       "      <td>3.811210</td>\n",
       "      <td>6.459119</td>\n",
       "      <td>00:02</td>\n",
       "    </tr>\n",
       "    <tr>\n",
       "      <td>100</td>\n",
       "      <td>3.744987</td>\n",
       "      <td>0.383166</td>\n",
       "      <td>00:02</td>\n",
       "    </tr>\n",
       "    <tr>\n",
       "      <td>101</td>\n",
       "      <td>3.699137</td>\n",
       "      <td>0.401125</td>\n",
       "      <td>00:02</td>\n",
       "    </tr>\n",
       "    <tr>\n",
       "      <td>102</td>\n",
       "      <td>3.737988</td>\n",
       "      <td>2.190927</td>\n",
       "      <td>00:02</td>\n",
       "    </tr>\n",
       "    <tr>\n",
       "      <td>103</td>\n",
       "      <td>3.730806</td>\n",
       "      <td>1.541918</td>\n",
       "      <td>00:02</td>\n",
       "    </tr>\n",
       "    <tr>\n",
       "      <td>104</td>\n",
       "      <td>3.792910</td>\n",
       "      <td>2.972117</td>\n",
       "      <td>00:02</td>\n",
       "    </tr>\n",
       "    <tr>\n",
       "      <td>105</td>\n",
       "      <td>3.909497</td>\n",
       "      <td>0.866153</td>\n",
       "      <td>00:02</td>\n",
       "    </tr>\n",
       "    <tr>\n",
       "      <td>106</td>\n",
       "      <td>3.834702</td>\n",
       "      <td>0.660991</td>\n",
       "      <td>00:02</td>\n",
       "    </tr>\n",
       "    <tr>\n",
       "      <td>107</td>\n",
       "      <td>3.697187</td>\n",
       "      <td>11.435065</td>\n",
       "      <td>00:02</td>\n",
       "    </tr>\n",
       "    <tr>\n",
       "      <td>108</td>\n",
       "      <td>3.667706</td>\n",
       "      <td>1.123977</td>\n",
       "      <td>00:02</td>\n",
       "    </tr>\n",
       "    <tr>\n",
       "      <td>109</td>\n",
       "      <td>3.775269</td>\n",
       "      <td>0.459607</td>\n",
       "      <td>00:02</td>\n",
       "    </tr>\n",
       "    <tr>\n",
       "      <td>110</td>\n",
       "      <td>3.803085</td>\n",
       "      <td>1.122408</td>\n",
       "      <td>00:02</td>\n",
       "    </tr>\n",
       "    <tr>\n",
       "      <td>111</td>\n",
       "      <td>3.875196</td>\n",
       "      <td>0.697234</td>\n",
       "      <td>00:02</td>\n",
       "    </tr>\n",
       "    <tr>\n",
       "      <td>112</td>\n",
       "      <td>3.843626</td>\n",
       "      <td>0.440276</td>\n",
       "      <td>00:02</td>\n",
       "    </tr>\n",
       "    <tr>\n",
       "      <td>113</td>\n",
       "      <td>3.843643</td>\n",
       "      <td>1.584802</td>\n",
       "      <td>00:02</td>\n",
       "    </tr>\n",
       "    <tr>\n",
       "      <td>114</td>\n",
       "      <td>3.791904</td>\n",
       "      <td>2.017673</td>\n",
       "      <td>00:02</td>\n",
       "    </tr>\n",
       "    <tr>\n",
       "      <td>115</td>\n",
       "      <td>3.748941</td>\n",
       "      <td>0.331673</td>\n",
       "      <td>00:02</td>\n",
       "    </tr>\n",
       "    <tr>\n",
       "      <td>116</td>\n",
       "      <td>3.775872</td>\n",
       "      <td>0.761798</td>\n",
       "      <td>00:02</td>\n",
       "    </tr>\n",
       "    <tr>\n",
       "      <td>117</td>\n",
       "      <td>3.800618</td>\n",
       "      <td>1.374718</td>\n",
       "      <td>00:02</td>\n",
       "    </tr>\n",
       "    <tr>\n",
       "      <td>118</td>\n",
       "      <td>3.826744</td>\n",
       "      <td>0.770789</td>\n",
       "      <td>00:02</td>\n",
       "    </tr>\n",
       "    <tr>\n",
       "      <td>119</td>\n",
       "      <td>3.769075</td>\n",
       "      <td>1.023412</td>\n",
       "      <td>00:02</td>\n",
       "    </tr>\n",
       "    <tr>\n",
       "      <td>120</td>\n",
       "      <td>3.721167</td>\n",
       "      <td>0.834018</td>\n",
       "      <td>00:02</td>\n",
       "    </tr>\n",
       "    <tr>\n",
       "      <td>121</td>\n",
       "      <td>3.699687</td>\n",
       "      <td>0.588983</td>\n",
       "      <td>00:02</td>\n",
       "    </tr>\n",
       "    <tr>\n",
       "      <td>122</td>\n",
       "      <td>3.741558</td>\n",
       "      <td>1.175488</td>\n",
       "      <td>00:02</td>\n",
       "    </tr>\n",
       "    <tr>\n",
       "      <td>123</td>\n",
       "      <td>3.698115</td>\n",
       "      <td>0.872122</td>\n",
       "      <td>00:02</td>\n",
       "    </tr>\n",
       "    <tr>\n",
       "      <td>124</td>\n",
       "      <td>3.696864</td>\n",
       "      <td>0.751000</td>\n",
       "      <td>00:02</td>\n",
       "    </tr>\n",
       "    <tr>\n",
       "      <td>125</td>\n",
       "      <td>3.772510</td>\n",
       "      <td>0.292505</td>\n",
       "      <td>00:02</td>\n",
       "    </tr>\n",
       "    <tr>\n",
       "      <td>126</td>\n",
       "      <td>3.780806</td>\n",
       "      <td>1.455411</td>\n",
       "      <td>00:02</td>\n",
       "    </tr>\n",
       "    <tr>\n",
       "      <td>127</td>\n",
       "      <td>3.732022</td>\n",
       "      <td>0.680041</td>\n",
       "      <td>00:02</td>\n",
       "    </tr>\n",
       "    <tr>\n",
       "      <td>128</td>\n",
       "      <td>3.734394</td>\n",
       "      <td>1.163958</td>\n",
       "      <td>00:02</td>\n",
       "    </tr>\n",
       "    <tr>\n",
       "      <td>129</td>\n",
       "      <td>3.740976</td>\n",
       "      <td>1.222579</td>\n",
       "      <td>00:02</td>\n",
       "    </tr>\n",
       "    <tr>\n",
       "      <td>130</td>\n",
       "      <td>3.718276</td>\n",
       "      <td>1.080761</td>\n",
       "      <td>00:02</td>\n",
       "    </tr>\n",
       "    <tr>\n",
       "      <td>131</td>\n",
       "      <td>3.774124</td>\n",
       "      <td>1.310424</td>\n",
       "      <td>00:02</td>\n",
       "    </tr>\n",
       "    <tr>\n",
       "      <td>132</td>\n",
       "      <td>3.722574</td>\n",
       "      <td>0.627233</td>\n",
       "      <td>00:02</td>\n",
       "    </tr>\n",
       "    <tr>\n",
       "      <td>133</td>\n",
       "      <td>3.724223</td>\n",
       "      <td>0.640278</td>\n",
       "      <td>00:02</td>\n",
       "    </tr>\n",
       "    <tr>\n",
       "      <td>134</td>\n",
       "      <td>3.679742</td>\n",
       "      <td>0.487058</td>\n",
       "      <td>00:02</td>\n",
       "    </tr>\n",
       "    <tr>\n",
       "      <td>135</td>\n",
       "      <td>3.747799</td>\n",
       "      <td>0.943695</td>\n",
       "      <td>00:02</td>\n",
       "    </tr>\n",
       "    <tr>\n",
       "      <td>136</td>\n",
       "      <td>3.713414</td>\n",
       "      <td>1.052890</td>\n",
       "      <td>00:02</td>\n",
       "    </tr>\n",
       "    <tr>\n",
       "      <td>137</td>\n",
       "      <td>3.843734</td>\n",
       "      <td>2.487859</td>\n",
       "      <td>00:02</td>\n",
       "    </tr>\n",
       "    <tr>\n",
       "      <td>138</td>\n",
       "      <td>3.831437</td>\n",
       "      <td>0.265088</td>\n",
       "      <td>00:02</td>\n",
       "    </tr>\n",
       "    <tr>\n",
       "      <td>139</td>\n",
       "      <td>3.773399</td>\n",
       "      <td>1.462732</td>\n",
       "      <td>00:02</td>\n",
       "    </tr>\n",
       "    <tr>\n",
       "      <td>140</td>\n",
       "      <td>3.727800</td>\n",
       "      <td>0.816065</td>\n",
       "      <td>00:02</td>\n",
       "    </tr>\n",
       "    <tr>\n",
       "      <td>141</td>\n",
       "      <td>3.716499</td>\n",
       "      <td>1.583800</td>\n",
       "      <td>00:02</td>\n",
       "    </tr>\n",
       "    <tr>\n",
       "      <td>142</td>\n",
       "      <td>3.727040</td>\n",
       "      <td>0.907261</td>\n",
       "      <td>00:02</td>\n",
       "    </tr>\n",
       "    <tr>\n",
       "      <td>143</td>\n",
       "      <td>3.719902</td>\n",
       "      <td>0.342518</td>\n",
       "      <td>00:02</td>\n",
       "    </tr>\n",
       "    <tr>\n",
       "      <td>144</td>\n",
       "      <td>3.720278</td>\n",
       "      <td>1.268035</td>\n",
       "      <td>00:02</td>\n",
       "    </tr>\n",
       "    <tr>\n",
       "      <td>145</td>\n",
       "      <td>3.635350</td>\n",
       "      <td>0.309257</td>\n",
       "      <td>00:02</td>\n",
       "    </tr>\n",
       "    <tr>\n",
       "      <td>146</td>\n",
       "      <td>3.658413</td>\n",
       "      <td>0.789273</td>\n",
       "      <td>00:02</td>\n",
       "    </tr>\n",
       "    <tr>\n",
       "      <td>147</td>\n",
       "      <td>3.696282</td>\n",
       "      <td>0.433979</td>\n",
       "      <td>00:02</td>\n",
       "    </tr>\n",
       "    <tr>\n",
       "      <td>148</td>\n",
       "      <td>3.750593</td>\n",
       "      <td>0.310894</td>\n",
       "      <td>00:02</td>\n",
       "    </tr>\n",
       "    <tr>\n",
       "      <td>149</td>\n",
       "      <td>3.716127</td>\n",
       "      <td>0.502140</td>\n",
       "      <td>00:02</td>\n",
       "    </tr>\n",
       "    <tr>\n",
       "      <td>150</td>\n",
       "      <td>3.721887</td>\n",
       "      <td>0.447079</td>\n",
       "      <td>00:02</td>\n",
       "    </tr>\n",
       "    <tr>\n",
       "      <td>151</td>\n",
       "      <td>3.681639</td>\n",
       "      <td>0.480455</td>\n",
       "      <td>00:02</td>\n",
       "    </tr>\n",
       "    <tr>\n",
       "      <td>152</td>\n",
       "      <td>3.678199</td>\n",
       "      <td>0.329918</td>\n",
       "      <td>00:02</td>\n",
       "    </tr>\n",
       "    <tr>\n",
       "      <td>153</td>\n",
       "      <td>3.659700</td>\n",
       "      <td>0.758231</td>\n",
       "      <td>00:02</td>\n",
       "    </tr>\n",
       "    <tr>\n",
       "      <td>154</td>\n",
       "      <td>3.680154</td>\n",
       "      <td>0.347044</td>\n",
       "      <td>00:02</td>\n",
       "    </tr>\n",
       "    <tr>\n",
       "      <td>155</td>\n",
       "      <td>3.722756</td>\n",
       "      <td>0.286930</td>\n",
       "      <td>00:02</td>\n",
       "    </tr>\n",
       "    <tr>\n",
       "      <td>156</td>\n",
       "      <td>3.681165</td>\n",
       "      <td>1.441004</td>\n",
       "      <td>00:02</td>\n",
       "    </tr>\n",
       "    <tr>\n",
       "      <td>157</td>\n",
       "      <td>3.663229</td>\n",
       "      <td>1.794782</td>\n",
       "      <td>00:02</td>\n",
       "    </tr>\n",
       "    <tr>\n",
       "      <td>158</td>\n",
       "      <td>3.728146</td>\n",
       "      <td>0.586983</td>\n",
       "      <td>00:02</td>\n",
       "    </tr>\n",
       "    <tr>\n",
       "      <td>159</td>\n",
       "      <td>3.645752</td>\n",
       "      <td>0.372445</td>\n",
       "      <td>00:02</td>\n",
       "    </tr>\n",
       "    <tr>\n",
       "      <td>160</td>\n",
       "      <td>3.581137</td>\n",
       "      <td>0.740856</td>\n",
       "      <td>00:02</td>\n",
       "    </tr>\n",
       "    <tr>\n",
       "      <td>161</td>\n",
       "      <td>3.573674</td>\n",
       "      <td>1.014256</td>\n",
       "      <td>00:02</td>\n",
       "    </tr>\n",
       "    <tr>\n",
       "      <td>162</td>\n",
       "      <td>3.589093</td>\n",
       "      <td>0.731125</td>\n",
       "      <td>00:02</td>\n",
       "    </tr>\n",
       "    <tr>\n",
       "      <td>163</td>\n",
       "      <td>3.555196</td>\n",
       "      <td>0.354635</td>\n",
       "      <td>00:02</td>\n",
       "    </tr>\n",
       "    <tr>\n",
       "      <td>164</td>\n",
       "      <td>3.573233</td>\n",
       "      <td>0.385258</td>\n",
       "      <td>00:02</td>\n",
       "    </tr>\n",
       "    <tr>\n",
       "      <td>165</td>\n",
       "      <td>3.633586</td>\n",
       "      <td>0.234917</td>\n",
       "      <td>00:02</td>\n",
       "    </tr>\n",
       "    <tr>\n",
       "      <td>166</td>\n",
       "      <td>3.721566</td>\n",
       "      <td>0.472103</td>\n",
       "      <td>00:02</td>\n",
       "    </tr>\n",
       "    <tr>\n",
       "      <td>167</td>\n",
       "      <td>3.628823</td>\n",
       "      <td>0.316669</td>\n",
       "      <td>00:02</td>\n",
       "    </tr>\n",
       "    <tr>\n",
       "      <td>168</td>\n",
       "      <td>3.612462</td>\n",
       "      <td>0.373183</td>\n",
       "      <td>00:02</td>\n",
       "    </tr>\n",
       "    <tr>\n",
       "      <td>169</td>\n",
       "      <td>3.620410</td>\n",
       "      <td>0.337458</td>\n",
       "      <td>00:02</td>\n",
       "    </tr>\n",
       "    <tr>\n",
       "      <td>170</td>\n",
       "      <td>3.644313</td>\n",
       "      <td>0.266333</td>\n",
       "      <td>00:02</td>\n",
       "    </tr>\n",
       "    <tr>\n",
       "      <td>171</td>\n",
       "      <td>3.602128</td>\n",
       "      <td>0.454884</td>\n",
       "      <td>00:02</td>\n",
       "    </tr>\n",
       "    <tr>\n",
       "      <td>172</td>\n",
       "      <td>3.620619</td>\n",
       "      <td>0.381100</td>\n",
       "      <td>00:02</td>\n",
       "    </tr>\n",
       "    <tr>\n",
       "      <td>173</td>\n",
       "      <td>3.658624</td>\n",
       "      <td>0.244062</td>\n",
       "      <td>00:02</td>\n",
       "    </tr>\n",
       "    <tr>\n",
       "      <td>174</td>\n",
       "      <td>3.622576</td>\n",
       "      <td>0.445048</td>\n",
       "      <td>00:02</td>\n",
       "    </tr>\n",
       "    <tr>\n",
       "      <td>175</td>\n",
       "      <td>3.618670</td>\n",
       "      <td>1.184174</td>\n",
       "      <td>00:02</td>\n",
       "    </tr>\n",
       "    <tr>\n",
       "      <td>176</td>\n",
       "      <td>3.642139</td>\n",
       "      <td>0.266777</td>\n",
       "      <td>00:02</td>\n",
       "    </tr>\n",
       "    <tr>\n",
       "      <td>177</td>\n",
       "      <td>3.651503</td>\n",
       "      <td>0.307485</td>\n",
       "      <td>00:02</td>\n",
       "    </tr>\n",
       "    <tr>\n",
       "      <td>178</td>\n",
       "      <td>3.622838</td>\n",
       "      <td>0.369492</td>\n",
       "      <td>00:02</td>\n",
       "    </tr>\n",
       "    <tr>\n",
       "      <td>179</td>\n",
       "      <td>3.637968</td>\n",
       "      <td>0.290325</td>\n",
       "      <td>00:02</td>\n",
       "    </tr>\n",
       "    <tr>\n",
       "      <td>180</td>\n",
       "      <td>3.594482</td>\n",
       "      <td>0.424892</td>\n",
       "      <td>00:02</td>\n",
       "    </tr>\n",
       "    <tr>\n",
       "      <td>181</td>\n",
       "      <td>3.538559</td>\n",
       "      <td>0.667289</td>\n",
       "      <td>00:02</td>\n",
       "    </tr>\n",
       "    <tr>\n",
       "      <td>182</td>\n",
       "      <td>3.589098</td>\n",
       "      <td>0.273215</td>\n",
       "      <td>00:02</td>\n",
       "    </tr>\n",
       "    <tr>\n",
       "      <td>183</td>\n",
       "      <td>3.532818</td>\n",
       "      <td>0.311936</td>\n",
       "      <td>00:02</td>\n",
       "    </tr>\n",
       "    <tr>\n",
       "      <td>184</td>\n",
       "      <td>3.612753</td>\n",
       "      <td>0.429969</td>\n",
       "      <td>00:02</td>\n",
       "    </tr>\n",
       "    <tr>\n",
       "      <td>185</td>\n",
       "      <td>3.596261</td>\n",
       "      <td>0.632682</td>\n",
       "      <td>00:02</td>\n",
       "    </tr>\n",
       "    <tr>\n",
       "      <td>186</td>\n",
       "      <td>3.606999</td>\n",
       "      <td>0.263484</td>\n",
       "      <td>00:02</td>\n",
       "    </tr>\n",
       "    <tr>\n",
       "      <td>187</td>\n",
       "      <td>3.606920</td>\n",
       "      <td>0.384956</td>\n",
       "      <td>00:02</td>\n",
       "    </tr>\n",
       "    <tr>\n",
       "      <td>188</td>\n",
       "      <td>3.587356</td>\n",
       "      <td>0.468316</td>\n",
       "      <td>00:02</td>\n",
       "    </tr>\n",
       "    <tr>\n",
       "      <td>189</td>\n",
       "      <td>3.590956</td>\n",
       "      <td>0.464870</td>\n",
       "      <td>00:02</td>\n",
       "    </tr>\n",
       "    <tr>\n",
       "      <td>190</td>\n",
       "      <td>3.594405</td>\n",
       "      <td>0.322730</td>\n",
       "      <td>00:02</td>\n",
       "    </tr>\n",
       "    <tr>\n",
       "      <td>191</td>\n",
       "      <td>3.593191</td>\n",
       "      <td>0.346098</td>\n",
       "      <td>00:02</td>\n",
       "    </tr>\n",
       "    <tr>\n",
       "      <td>192</td>\n",
       "      <td>3.591591</td>\n",
       "      <td>0.408641</td>\n",
       "      <td>00:02</td>\n",
       "    </tr>\n",
       "    <tr>\n",
       "      <td>193</td>\n",
       "      <td>3.634105</td>\n",
       "      <td>0.369324</td>\n",
       "      <td>00:02</td>\n",
       "    </tr>\n",
       "    <tr>\n",
       "      <td>194</td>\n",
       "      <td>3.593307</td>\n",
       "      <td>0.353369</td>\n",
       "      <td>00:02</td>\n",
       "    </tr>\n",
       "    <tr>\n",
       "      <td>195</td>\n",
       "      <td>3.574067</td>\n",
       "      <td>0.352929</td>\n",
       "      <td>00:02</td>\n",
       "    </tr>\n",
       "    <tr>\n",
       "      <td>196</td>\n",
       "      <td>3.540513</td>\n",
       "      <td>0.358236</td>\n",
       "      <td>00:02</td>\n",
       "    </tr>\n",
       "    <tr>\n",
       "      <td>197</td>\n",
       "      <td>3.529734</td>\n",
       "      <td>0.364752</td>\n",
       "      <td>00:02</td>\n",
       "    </tr>\n",
       "    <tr>\n",
       "      <td>198</td>\n",
       "      <td>3.495302</td>\n",
       "      <td>0.377651</td>\n",
       "      <td>00:02</td>\n",
       "    </tr>\n",
       "    <tr>\n",
       "      <td>199</td>\n",
       "      <td>3.496332</td>\n",
       "      <td>0.370168</td>\n",
       "      <td>00:02</td>\n",
       "    </tr>\n",
       "  </tbody>\n",
       "</table>"
      ],
      "text/plain": [
       "<IPython.core.display.HTML object>"
      ]
     },
     "metadata": {},
     "output_type": "display_data"
    }
   ],
   "source": [
    "# https://docs.fast.ai/callback.schedule.html\n",
    "learn.fine_tune(200, base_lr=2e-2, freeze_epochs=10)"
   ]
  },
  {
   "cell_type": "markdown",
   "metadata": {},
   "source": [
    "## Stage-1: Training frozen model"
   ]
  },
  {
   "cell_type": "code",
   "execution_count": 130,
   "metadata": {},
   "outputs": [
    {
     "data": {
      "text/html": [
       "<table border=\"1\" class=\"dataframe\">\n",
       "  <thead>\n",
       "    <tr style=\"text-align: left;\">\n",
       "      <th>epoch</th>\n",
       "      <th>train_loss</th>\n",
       "      <th>valid_loss</th>\n",
       "      <th>time</th>\n",
       "    </tr>\n",
       "  </thead>\n",
       "  <tbody>\n",
       "    <tr>\n",
       "      <td>0</td>\n",
       "      <td>99.409348</td>\n",
       "      <td>98.528183</td>\n",
       "      <td>00:02</td>\n",
       "    </tr>\n",
       "    <tr>\n",
       "      <td>1</td>\n",
       "      <td>95.331436</td>\n",
       "      <td>85.333290</td>\n",
       "      <td>00:02</td>\n",
       "    </tr>\n",
       "    <tr>\n",
       "      <td>2</td>\n",
       "      <td>60.272186</td>\n",
       "      <td>17.535383</td>\n",
       "      <td>00:02</td>\n",
       "    </tr>\n",
       "    <tr>\n",
       "      <td>3</td>\n",
       "      <td>35.177910</td>\n",
       "      <td>16.329445</td>\n",
       "      <td>00:02</td>\n",
       "    </tr>\n",
       "    <tr>\n",
       "      <td>4</td>\n",
       "      <td>21.829142</td>\n",
       "      <td>7.672772</td>\n",
       "      <td>00:02</td>\n",
       "    </tr>\n",
       "    <tr>\n",
       "      <td>5</td>\n",
       "      <td>14.693480</td>\n",
       "      <td>3.609566</td>\n",
       "      <td>00:02</td>\n",
       "    </tr>\n",
       "    <tr>\n",
       "      <td>6</td>\n",
       "      <td>10.772880</td>\n",
       "      <td>3.711006</td>\n",
       "      <td>00:02</td>\n",
       "    </tr>\n",
       "    <tr>\n",
       "      <td>7</td>\n",
       "      <td>8.779972</td>\n",
       "      <td>2.789562</td>\n",
       "      <td>00:02</td>\n",
       "    </tr>\n",
       "    <tr>\n",
       "      <td>8</td>\n",
       "      <td>7.526001</td>\n",
       "      <td>1.524376</td>\n",
       "      <td>00:02</td>\n",
       "    </tr>\n",
       "    <tr>\n",
       "      <td>9</td>\n",
       "      <td>6.674037</td>\n",
       "      <td>1.378623</td>\n",
       "      <td>00:02</td>\n",
       "    </tr>\n",
       "  </tbody>\n",
       "</table>"
      ],
      "text/plain": [
       "<IPython.core.display.HTML object>"
      ]
     },
     "metadata": {},
     "output_type": "display_data"
    },
    {
     "data": {
      "text/plain": [
       "Path('models/stage-1.pth')"
      ]
     },
     "execution_count": 130,
     "metadata": {},
     "output_type": "execute_result"
    }
   ],
   "source": [
    "lr1 = 0.01\n",
    "learn.fit_one_cycle(10, lr1)\n",
    "learn.save('stage-1')"
   ]
  },
  {
   "cell_type": "code",
   "execution_count": 266,
   "metadata": {},
   "outputs": [
    {
     "data": {
      "text/plain": [
       "<fastai.learner.Learner at 0x7f5145c9b590>"
      ]
     },
     "execution_count": 266,
     "metadata": {},
     "output_type": "execute_result"
    }
   ],
   "source": [
    "learn.load('stage-1')"
   ]
  },
  {
   "cell_type": "markdown",
   "metadata": {},
   "source": [
    "## Stage-2: Fine-tuning complete model"
   ]
  },
  {
   "cell_type": "code",
   "execution_count": 131,
   "metadata": {},
   "outputs": [],
   "source": [
    "learn.unfreeze()"
   ]
  },
  {
   "cell_type": "code",
   "execution_count": 132,
   "metadata": {},
   "outputs": [
    {
     "data": {
      "text/html": [],
      "text/plain": [
       "<IPython.core.display.HTML object>"
      ]
     },
     "metadata": {},
     "output_type": "display_data"
    },
    {
     "data": {
      "text/plain": [
       "SuggestedLRs(lr_min=1.0964782268274575e-05, lr_steep=1.9054607491852948e-06)"
      ]
     },
     "execution_count": 132,
     "metadata": {},
     "output_type": "execute_result"
    },
    {
     "data": {
      "image/png": "[encoded data removed]",
      "text/plain": [
       "<Figure size 432x288 with 1 Axes>"
      ]
     },
     "metadata": {
      "needs_background": "light"
     },
     "output_type": "display_data"
    }
   ],
   "source": [
    "learn.lr_find()"
   ]
  },
  {
   "cell_type": "code",
   "execution_count": 133,
   "metadata": {},
   "outputs": [
    {
     "data": {
      "text/html": [
       "<table border=\"1\" class=\"dataframe\">\n",
       "  <thead>\n",
       "    <tr style=\"text-align: left;\">\n",
       "      <th>epoch</th>\n",
       "      <th>train_loss</th>\n",
       "      <th>valid_loss</th>\n",
       "      <th>time</th>\n",
       "    </tr>\n",
       "  </thead>\n",
       "  <tbody>\n",
       "    <tr>\n",
       "      <td>0</td>\n",
       "      <td>5.770039</td>\n",
       "      <td>1.160457</td>\n",
       "      <td>00:02</td>\n",
       "    </tr>\n",
       "    <tr>\n",
       "      <td>1</td>\n",
       "      <td>5.608994</td>\n",
       "      <td>1.267490</td>\n",
       "      <td>00:02</td>\n",
       "    </tr>\n",
       "    <tr>\n",
       "      <td>2</td>\n",
       "      <td>5.719985</td>\n",
       "      <td>1.436402</td>\n",
       "      <td>00:02</td>\n",
       "    </tr>\n",
       "    <tr>\n",
       "      <td>3</td>\n",
       "      <td>5.644812</td>\n",
       "      <td>1.192002</td>\n",
       "      <td>00:02</td>\n",
       "    </tr>\n",
       "    <tr>\n",
       "      <td>4</td>\n",
       "      <td>5.746238</td>\n",
       "      <td>1.390125</td>\n",
       "      <td>00:02</td>\n",
       "    </tr>\n",
       "    <tr>\n",
       "      <td>5</td>\n",
       "      <td>5.640454</td>\n",
       "      <td>1.765674</td>\n",
       "      <td>00:02</td>\n",
       "    </tr>\n",
       "    <tr>\n",
       "      <td>6</td>\n",
       "      <td>5.602775</td>\n",
       "      <td>2.337129</td>\n",
       "      <td>00:02</td>\n",
       "    </tr>\n",
       "    <tr>\n",
       "      <td>7</td>\n",
       "      <td>5.603944</td>\n",
       "      <td>1.647715</td>\n",
       "      <td>00:02</td>\n",
       "    </tr>\n",
       "    <tr>\n",
       "      <td>8</td>\n",
       "      <td>5.664678</td>\n",
       "      <td>1.560545</td>\n",
       "      <td>00:02</td>\n",
       "    </tr>\n",
       "    <tr>\n",
       "      <td>9</td>\n",
       "      <td>5.700264</td>\n",
       "      <td>2.356560</td>\n",
       "      <td>00:02</td>\n",
       "    </tr>\n",
       "    <tr>\n",
       "      <td>10</td>\n",
       "      <td>5.651756</td>\n",
       "      <td>1.395659</td>\n",
       "      <td>00:02</td>\n",
       "    </tr>\n",
       "    <tr>\n",
       "      <td>11</td>\n",
       "      <td>5.514911</td>\n",
       "      <td>2.063322</td>\n",
       "      <td>00:02</td>\n",
       "    </tr>\n",
       "    <tr>\n",
       "      <td>12</td>\n",
       "      <td>5.465049</td>\n",
       "      <td>1.280718</td>\n",
       "      <td>00:02</td>\n",
       "    </tr>\n",
       "    <tr>\n",
       "      <td>13</td>\n",
       "      <td>5.482218</td>\n",
       "      <td>1.405586</td>\n",
       "      <td>00:02</td>\n",
       "    </tr>\n",
       "    <tr>\n",
       "      <td>14</td>\n",
       "      <td>5.470490</td>\n",
       "      <td>1.685943</td>\n",
       "      <td>00:02</td>\n",
       "    </tr>\n",
       "    <tr>\n",
       "      <td>15</td>\n",
       "      <td>5.343403</td>\n",
       "      <td>1.334413</td>\n",
       "      <td>00:02</td>\n",
       "    </tr>\n",
       "    <tr>\n",
       "      <td>16</td>\n",
       "      <td>5.272890</td>\n",
       "      <td>1.347549</td>\n",
       "      <td>00:02</td>\n",
       "    </tr>\n",
       "    <tr>\n",
       "      <td>17</td>\n",
       "      <td>5.199221</td>\n",
       "      <td>1.223874</td>\n",
       "      <td>00:02</td>\n",
       "    </tr>\n",
       "    <tr>\n",
       "      <td>18</td>\n",
       "      <td>5.290414</td>\n",
       "      <td>1.225917</td>\n",
       "      <td>00:02</td>\n",
       "    </tr>\n",
       "    <tr>\n",
       "      <td>19</td>\n",
       "      <td>5.116302</td>\n",
       "      <td>1.047300</td>\n",
       "      <td>00:02</td>\n",
       "    </tr>\n",
       "    <tr>\n",
       "      <td>20</td>\n",
       "      <td>5.141886</td>\n",
       "      <td>0.779834</td>\n",
       "      <td>00:02</td>\n",
       "    </tr>\n",
       "    <tr>\n",
       "      <td>21</td>\n",
       "      <td>5.142984</td>\n",
       "      <td>1.646668</td>\n",
       "      <td>00:02</td>\n",
       "    </tr>\n",
       "    <tr>\n",
       "      <td>22</td>\n",
       "      <td>5.123979</td>\n",
       "      <td>0.854661</td>\n",
       "      <td>00:02</td>\n",
       "    </tr>\n",
       "    <tr>\n",
       "      <td>23</td>\n",
       "      <td>5.022175</td>\n",
       "      <td>1.199556</td>\n",
       "      <td>00:02</td>\n",
       "    </tr>\n",
       "    <tr>\n",
       "      <td>24</td>\n",
       "      <td>4.913591</td>\n",
       "      <td>1.114532</td>\n",
       "      <td>00:02</td>\n",
       "    </tr>\n",
       "    <tr>\n",
       "      <td>25</td>\n",
       "      <td>4.871981</td>\n",
       "      <td>0.881645</td>\n",
       "      <td>00:02</td>\n",
       "    </tr>\n",
       "    <tr>\n",
       "      <td>26</td>\n",
       "      <td>4.906260</td>\n",
       "      <td>0.719817</td>\n",
       "      <td>00:02</td>\n",
       "    </tr>\n",
       "    <tr>\n",
       "      <td>27</td>\n",
       "      <td>4.924105</td>\n",
       "      <td>0.775472</td>\n",
       "      <td>00:02</td>\n",
       "    </tr>\n",
       "    <tr>\n",
       "      <td>28</td>\n",
       "      <td>4.892241</td>\n",
       "      <td>0.567796</td>\n",
       "      <td>00:02</td>\n",
       "    </tr>\n",
       "    <tr>\n",
       "      <td>29</td>\n",
       "      <td>4.874248</td>\n",
       "      <td>1.195953</td>\n",
       "      <td>00:02</td>\n",
       "    </tr>\n",
       "    <tr>\n",
       "      <td>30</td>\n",
       "      <td>4.824517</td>\n",
       "      <td>1.107067</td>\n",
       "      <td>00:02</td>\n",
       "    </tr>\n",
       "    <tr>\n",
       "      <td>31</td>\n",
       "      <td>4.829508</td>\n",
       "      <td>0.626013</td>\n",
       "      <td>00:02</td>\n",
       "    </tr>\n",
       "    <tr>\n",
       "      <td>32</td>\n",
       "      <td>4.837950</td>\n",
       "      <td>0.807166</td>\n",
       "      <td>00:02</td>\n",
       "    </tr>\n",
       "    <tr>\n",
       "      <td>33</td>\n",
       "      <td>4.729301</td>\n",
       "      <td>0.952682</td>\n",
       "      <td>00:02</td>\n",
       "    </tr>\n",
       "    <tr>\n",
       "      <td>34</td>\n",
       "      <td>4.744220</td>\n",
       "      <td>0.624867</td>\n",
       "      <td>00:02</td>\n",
       "    </tr>\n",
       "    <tr>\n",
       "      <td>35</td>\n",
       "      <td>4.763608</td>\n",
       "      <td>0.672502</td>\n",
       "      <td>00:02</td>\n",
       "    </tr>\n",
       "    <tr>\n",
       "      <td>36</td>\n",
       "      <td>4.843488</td>\n",
       "      <td>0.658467</td>\n",
       "      <td>00:02</td>\n",
       "    </tr>\n",
       "    <tr>\n",
       "      <td>37</td>\n",
       "      <td>4.772731</td>\n",
       "      <td>0.930000</td>\n",
       "      <td>00:02</td>\n",
       "    </tr>\n",
       "    <tr>\n",
       "      <td>38</td>\n",
       "      <td>4.790372</td>\n",
       "      <td>0.759424</td>\n",
       "      <td>00:02</td>\n",
       "    </tr>\n",
       "    <tr>\n",
       "      <td>39</td>\n",
       "      <td>4.739086</td>\n",
       "      <td>0.432775</td>\n",
       "      <td>00:02</td>\n",
       "    </tr>\n",
       "    <tr>\n",
       "      <td>40</td>\n",
       "      <td>4.694656</td>\n",
       "      <td>0.521970</td>\n",
       "      <td>00:02</td>\n",
       "    </tr>\n",
       "    <tr>\n",
       "      <td>41</td>\n",
       "      <td>4.686702</td>\n",
       "      <td>0.548492</td>\n",
       "      <td>00:02</td>\n",
       "    </tr>\n",
       "    <tr>\n",
       "      <td>42</td>\n",
       "      <td>4.682816</td>\n",
       "      <td>0.460339</td>\n",
       "      <td>00:02</td>\n",
       "    </tr>\n",
       "    <tr>\n",
       "      <td>43</td>\n",
       "      <td>4.744072</td>\n",
       "      <td>0.494544</td>\n",
       "      <td>00:02</td>\n",
       "    </tr>\n",
       "    <tr>\n",
       "      <td>44</td>\n",
       "      <td>4.745700</td>\n",
       "      <td>0.498166</td>\n",
       "      <td>00:02</td>\n",
       "    </tr>\n",
       "    <tr>\n",
       "      <td>45</td>\n",
       "      <td>4.720578</td>\n",
       "      <td>0.457662</td>\n",
       "      <td>00:02</td>\n",
       "    </tr>\n",
       "    <tr>\n",
       "      <td>46</td>\n",
       "      <td>4.772622</td>\n",
       "      <td>0.479582</td>\n",
       "      <td>00:02</td>\n",
       "    </tr>\n",
       "    <tr>\n",
       "      <td>47</td>\n",
       "      <td>4.807329</td>\n",
       "      <td>0.470910</td>\n",
       "      <td>00:02</td>\n",
       "    </tr>\n",
       "    <tr>\n",
       "      <td>48</td>\n",
       "      <td>4.770969</td>\n",
       "      <td>0.456755</td>\n",
       "      <td>00:02</td>\n",
       "    </tr>\n",
       "    <tr>\n",
       "      <td>49</td>\n",
       "      <td>4.826274</td>\n",
       "      <td>0.434435</td>\n",
       "      <td>00:02</td>\n",
       "    </tr>\n",
       "  </tbody>\n",
       "</table>"
      ],
      "text/plain": [
       "<IPython.core.display.HTML object>"
      ]
     },
     "metadata": {},
     "output_type": "display_data"
    },
    {
     "data": {
      "text/plain": [
       "Path('models/stage-2.pth')"
      ]
     },
     "execution_count": 133,
     "metadata": {},
     "output_type": "execute_result"
    }
   ],
   "source": [
    "lr2 = lr1/10\n",
    "learn.fit_one_cycle(50, lr_max=slice(1e-5, lr2))\n",
    "learn.save('stage-2')"
   ]
  },
  {
   "cell_type": "markdown",
   "metadata": {},
   "source": [
    "## Model"
   ]
  },
  {
   "cell_type": "code",
   "execution_count": 50,
   "metadata": {},
   "outputs": [
    {
     "name": "stderr",
     "output_type": "stream",
     "text": [
      "Downloading: \"https://download.pytorch.org/models/resnet18-5c106cde.pth\" to /home/pablo/.cache/torch/hub/checkpoints/resnet18-5c106cde.pth\n"
     ]
    },
    {
     "data": {
      "application/vnd.jupyter.widget-view+json": {
       "model_id": "6a7d4d9def6b43cb91e9a4ef0ce363dc",
       "version_major": 2,
       "version_minor": 0
      },
      "text/plain": [
       "HBox(children=(FloatProgress(value=0.0, max=46827520.0), HTML(value='')))"
      ]
     },
     "metadata": {},
     "output_type": "display_data"
    },
    {
     "name": "stdout",
     "output_type": "stream",
     "text": [
      "\n"
     ]
    }
   ],
   "source": [
    "#conda install ipywidgets\n",
    "resnet = models.resnet18(pretrained=True)\n",
    "#resnet = models.resnet34(pretrained=True)\n",
    "#resnet "
   ]
  },
  {
   "cell_type": "code",
   "execution_count": 51,
   "metadata": {},
   "outputs": [
    {
     "name": "stdout",
     "output_type": "stream",
     "text": [
      "10\n",
      "-----------------------layer 0-----------------------\n",
      "Conv2d(3, 64, kernel_size=(7, 7), stride=(2, 2), padding=(3, 3), bias=False)\n",
      "-----------------------layer 1-----------------------\n",
      "BatchNorm2d(64, eps=1e-05, momentum=0.1, affine=True, track_running_stats=True)\n",
      "-----------------------layer 2-----------------------\n",
      "ReLU(inplace=True)\n",
      "-----------------------layer 3-----------------------\n",
      "MaxPool2d(kernel_size=3, stride=2, padding=1, dilation=1, ceil_mode=False)\n",
      "-----------------------layer 4-----------------------\n",
      "Sequential(\n",
      "  (0): BasicBlock(\n",
      "    (conv1): Conv2d(64, 64, kernel_size=(3, 3), stride=(1, 1), padding=(1, 1), bias=False)\n",
      "    (bn1): BatchNorm2d(64, eps=1e-05, momentum=0.1, affine=True, track_running_stats=True)\n",
      "    (relu): ReLU(inplace=True)\n",
      "    (conv2): Conv2d(64, 64, kernel_size=(3, 3), stride=(1, 1), padding=(1, 1), bias=False)\n",
      "    (bn2): BatchNorm2d(64, eps=1e-05, momentum=0.1, affine=True, track_running_stats=True)\n",
      "  )\n",
      "  (1): BasicBlock(\n",
      "    (conv1): Conv2d(64, 64, kernel_size=(3, 3), stride=(1, 1), padding=(1, 1), bias=False)\n",
      "    (bn1): BatchNorm2d(64, eps=1e-05, momentum=0.1, affine=True, track_running_stats=True)\n",
      "    (relu): ReLU(inplace=True)\n",
      "    (conv2): Conv2d(64, 64, kernel_size=(3, 3), stride=(1, 1), padding=(1, 1), bias=False)\n",
      "    (bn2): BatchNorm2d(64, eps=1e-05, momentum=0.1, affine=True, track_running_stats=True)\n",
      "  )\n",
      ")\n",
      "-----------------------layer 5-----------------------\n",
      "Sequential(\n",
      "  (0): BasicBlock(\n",
      "    (conv1): Conv2d(64, 128, kernel_size=(3, 3), stride=(2, 2), padding=(1, 1), bias=False)\n",
      "    (bn1): BatchNorm2d(128, eps=1e-05, momentum=0.1, affine=True, track_running_stats=True)\n",
      "    (relu): ReLU(inplace=True)\n",
      "    (conv2): Conv2d(128, 128, kernel_size=(3, 3), stride=(1, 1), padding=(1, 1), bias=False)\n",
      "    (bn2): BatchNorm2d(128, eps=1e-05, momentum=0.1, affine=True, track_running_stats=True)\n",
      "    (downsample): Sequential(\n",
      "      (0): Conv2d(64, 128, kernel_size=(1, 1), stride=(2, 2), bias=False)\n",
      "      (1): BatchNorm2d(128, eps=1e-05, momentum=0.1, affine=True, track_running_stats=True)\n",
      "    )\n",
      "  )\n",
      "  (1): BasicBlock(\n",
      "    (conv1): Conv2d(128, 128, kernel_size=(3, 3), stride=(1, 1), padding=(1, 1), bias=False)\n",
      "    (bn1): BatchNorm2d(128, eps=1e-05, momentum=0.1, affine=True, track_running_stats=True)\n",
      "    (relu): ReLU(inplace=True)\n",
      "    (conv2): Conv2d(128, 128, kernel_size=(3, 3), stride=(1, 1), padding=(1, 1), bias=False)\n",
      "    (bn2): BatchNorm2d(128, eps=1e-05, momentum=0.1, affine=True, track_running_stats=True)\n",
      "  )\n",
      ")\n",
      "-----------------------layer 6-----------------------\n",
      "Sequential(\n",
      "  (0): BasicBlock(\n",
      "    (conv1): Conv2d(128, 256, kernel_size=(3, 3), stride=(2, 2), padding=(1, 1), bias=False)\n",
      "    (bn1): BatchNorm2d(256, eps=1e-05, momentum=0.1, affine=True, track_running_stats=True)\n",
      "    (relu): ReLU(inplace=True)\n",
      "    (conv2): Conv2d(256, 256, kernel_size=(3, 3), stride=(1, 1), padding=(1, 1), bias=False)\n",
      "    (bn2): BatchNorm2d(256, eps=1e-05, momentum=0.1, affine=True, track_running_stats=True)\n",
      "    (downsample): Sequential(\n",
      "      (0): Conv2d(128, 256, kernel_size=(1, 1), stride=(2, 2), bias=False)\n",
      "      (1): BatchNorm2d(256, eps=1e-05, momentum=0.1, affine=True, track_running_stats=True)\n",
      "    )\n",
      "  )\n",
      "  (1): BasicBlock(\n",
      "    (conv1): Conv2d(256, 256, kernel_size=(3, 3), stride=(1, 1), padding=(1, 1), bias=False)\n",
      "    (bn1): BatchNorm2d(256, eps=1e-05, momentum=0.1, affine=True, track_running_stats=True)\n",
      "    (relu): ReLU(inplace=True)\n",
      "    (conv2): Conv2d(256, 256, kernel_size=(3, 3), stride=(1, 1), padding=(1, 1), bias=False)\n",
      "    (bn2): BatchNorm2d(256, eps=1e-05, momentum=0.1, affine=True, track_running_stats=True)\n",
      "  )\n",
      ")\n",
      "-----------------------layer 7-----------------------\n",
      "Sequential(\n",
      "  (0): BasicBlock(\n",
      "    (conv1): Conv2d(256, 512, kernel_size=(3, 3), stride=(2, 2), padding=(1, 1), bias=False)\n",
      "    (bn1): BatchNorm2d(512, eps=1e-05, momentum=0.1, affine=True, track_running_stats=True)\n",
      "    (relu): ReLU(inplace=True)\n",
      "    (conv2): Conv2d(512, 512, kernel_size=(3, 3), stride=(1, 1), padding=(1, 1), bias=False)\n",
      "    (bn2): BatchNorm2d(512, eps=1e-05, momentum=0.1, affine=True, track_running_stats=True)\n",
      "    (downsample): Sequential(\n",
      "      (0): Conv2d(256, 512, kernel_size=(1, 1), stride=(2, 2), bias=False)\n",
      "      (1): BatchNorm2d(512, eps=1e-05, momentum=0.1, affine=True, track_running_stats=True)\n",
      "    )\n",
      "  )\n",
      "  (1): BasicBlock(\n",
      "    (conv1): Conv2d(512, 512, kernel_size=(3, 3), stride=(1, 1), padding=(1, 1), bias=False)\n",
      "    (bn1): BatchNorm2d(512, eps=1e-05, momentum=0.1, affine=True, track_running_stats=True)\n",
      "    (relu): ReLU(inplace=True)\n",
      "    (conv2): Conv2d(512, 512, kernel_size=(3, 3), stride=(1, 1), padding=(1, 1), bias=False)\n",
      "    (bn2): BatchNorm2d(512, eps=1e-05, momentum=0.1, affine=True, track_running_stats=True)\n",
      "  )\n",
      ")\n",
      "-----------------------layer 8-----------------------\n",
      "AdaptiveAvgPool2d(output_size=(1, 1))\n",
      "-----------------------layer 9-----------------------\n",
      "Linear(in_features=512, out_features=1000, bias=True)\n"
     ]
    }
   ],
   "source": [
    "layers = list(resnet.children())\n",
    "print(len(layers))\n",
    "# layers[-2:]\n",
    "for i in range(len(layers)):\n",
    "    print (f\"-----------------------layer {i}-----------------------\")\n",
    "    print(layers[i])\n",
    "    \n",
    "# we want to freeze the fc2 layer this time: only train fc1 and fc3\n",
    "#net.fc2.weight.requires_grad = False\n",
    "#net.fc2.bias.requires_grad = False\n",
    "\n",
    "#for param in resnet.parameters():\n",
    "#    param.requires_grad = True\n",
    "    \n",
    "#layers[0].weight.requires_grad = False\n",
    "#layers[1].requires_grad = False\n",
    "#layers[4][0].conv1.weight.requires_grad = False\n",
    "#layers[4][0].conv2.weight.requires_grad = False\n",
    "\n",
    "#for param in resnet.parameters():\n",
    "#    print(param.shape, param.requires_grad)"
   ]
  },
  {
   "cell_type": "code",
   "execution_count": 52,
   "metadata": {},
   "outputs": [],
   "source": [
    "# see https://discuss.pytorch.org/t/pytorch-equivalent-of-keras/29412\n",
    "class Net(nn.Module):\n",
    "    def __init__(self):\n",
    "        super(Net, self).__init__()\n",
    "        resnet = models.resnet18(pretrained=True)\n",
    "        #resnet = models.resnet34(pretrained=True)\n",
    "        layers = list(resnet.children())[:8]\n",
    "        self.features1 = nn.Sequential(*layers[:6])\n",
    "        self.features2 = nn.Sequential(*layers[6:])\n",
    "        self.out = 512 + 512\n",
    "        self.bn1 = nn.BatchNorm1d(self.out)\n",
    "        self.fc1 = nn.Linear(self.out, 512)\n",
    "        self.classifier = nn.Sequential(nn.BatchNorm1d(512), nn.Linear(512,1))\n",
    "    \n",
    "    def forward(self, x):\n",
    "        x = self.features1(x)\n",
    "        x = self.features2(x)\n",
    "        x = F.relu(x)\n",
    "        x1 = nn.AdaptiveAvgPool2d((1,1))(x)\n",
    "        x1 = x1.view(x1.shape[0], -1) # flattening\n",
    "        x2 = nn.AdaptiveMaxPool2d((1,1))(x)\n",
    "        x2 = x2.view(x2.shape[0], -1) # flattening\n",
    "        x = torch.cat([x1, x2], 1)\n",
    "        x = nn.Dropout(0.2)(x)\n",
    "        x = self.bn1(x)\n",
    "        x = F.relu(self.fc1(x))\n",
    "        x = nn.Dropout(0.2)(x)\n",
    "        x = self.classifier(x)\n",
    "        return x"
   ]
  },
  {
   "cell_type": "code",
   "execution_count": 53,
   "metadata": {},
   "outputs": [],
   "source": [
    "model = Net().cuda()"
   ]
  },
  {
   "cell_type": "code",
   "execution_count": 54,
   "metadata": {},
   "outputs": [
    {
     "data": {
      "text/plain": [
       "Net(\n",
       "  (features1): Sequential(\n",
       "    (0): Conv2d(3, 64, kernel_size=(7, 7), stride=(2, 2), padding=(3, 3), bias=False)\n",
       "    (1): BatchNorm2d(64, eps=1e-05, momentum=0.1, affine=True, track_running_stats=True)\n",
       "    (2): ReLU(inplace=True)\n",
       "    (3): MaxPool2d(kernel_size=3, stride=2, padding=1, dilation=1, ceil_mode=False)\n",
       "    (4): Sequential(\n",
       "      (0): BasicBlock(\n",
       "        (conv1): Conv2d(64, 64, kernel_size=(3, 3), stride=(1, 1), padding=(1, 1), bias=False)\n",
       "        (bn1): BatchNorm2d(64, eps=1e-05, momentum=0.1, affine=True, track_running_stats=True)\n",
       "        (relu): ReLU(inplace=True)\n",
       "        (conv2): Conv2d(64, 64, kernel_size=(3, 3), stride=(1, 1), padding=(1, 1), bias=False)\n",
       "        (bn2): BatchNorm2d(64, eps=1e-05, momentum=0.1, affine=True, track_running_stats=True)\n",
       "      )\n",
       "      (1): BasicBlock(\n",
       "        (conv1): Conv2d(64, 64, kernel_size=(3, 3), stride=(1, 1), padding=(1, 1), bias=False)\n",
       "        (bn1): BatchNorm2d(64, eps=1e-05, momentum=0.1, affine=True, track_running_stats=True)\n",
       "        (relu): ReLU(inplace=True)\n",
       "        (conv2): Conv2d(64, 64, kernel_size=(3, 3), stride=(1, 1), padding=(1, 1), bias=False)\n",
       "        (bn2): BatchNorm2d(64, eps=1e-05, momentum=0.1, affine=True, track_running_stats=True)\n",
       "      )\n",
       "    )\n",
       "    (5): Sequential(\n",
       "      (0): BasicBlock(\n",
       "        (conv1): Conv2d(64, 128, kernel_size=(3, 3), stride=(2, 2), padding=(1, 1), bias=False)\n",
       "        (bn1): BatchNorm2d(128, eps=1e-05, momentum=0.1, affine=True, track_running_stats=True)\n",
       "        (relu): ReLU(inplace=True)\n",
       "        (conv2): Conv2d(128, 128, kernel_size=(3, 3), stride=(1, 1), padding=(1, 1), bias=False)\n",
       "        (bn2): BatchNorm2d(128, eps=1e-05, momentum=0.1, affine=True, track_running_stats=True)\n",
       "        (downsample): Sequential(\n",
       "          (0): Conv2d(64, 128, kernel_size=(1, 1), stride=(2, 2), bias=False)\n",
       "          (1): BatchNorm2d(128, eps=1e-05, momentum=0.1, affine=True, track_running_stats=True)\n",
       "        )\n",
       "      )\n",
       "      (1): BasicBlock(\n",
       "        (conv1): Conv2d(128, 128, kernel_size=(3, 3), stride=(1, 1), padding=(1, 1), bias=False)\n",
       "        (bn1): BatchNorm2d(128, eps=1e-05, momentum=0.1, affine=True, track_running_stats=True)\n",
       "        (relu): ReLU(inplace=True)\n",
       "        (conv2): Conv2d(128, 128, kernel_size=(3, 3), stride=(1, 1), padding=(1, 1), bias=False)\n",
       "        (bn2): BatchNorm2d(128, eps=1e-05, momentum=0.1, affine=True, track_running_stats=True)\n",
       "      )\n",
       "    )\n",
       "  )\n",
       "  (features2): Sequential(\n",
       "    (0): Sequential(\n",
       "      (0): BasicBlock(\n",
       "        (conv1): Conv2d(128, 256, kernel_size=(3, 3), stride=(2, 2), padding=(1, 1), bias=False)\n",
       "        (bn1): BatchNorm2d(256, eps=1e-05, momentum=0.1, affine=True, track_running_stats=True)\n",
       "        (relu): ReLU(inplace=True)\n",
       "        (conv2): Conv2d(256, 256, kernel_size=(3, 3), stride=(1, 1), padding=(1, 1), bias=False)\n",
       "        (bn2): BatchNorm2d(256, eps=1e-05, momentum=0.1, affine=True, track_running_stats=True)\n",
       "        (downsample): Sequential(\n",
       "          (0): Conv2d(128, 256, kernel_size=(1, 1), stride=(2, 2), bias=False)\n",
       "          (1): BatchNorm2d(256, eps=1e-05, momentum=0.1, affine=True, track_running_stats=True)\n",
       "        )\n",
       "      )\n",
       "      (1): BasicBlock(\n",
       "        (conv1): Conv2d(256, 256, kernel_size=(3, 3), stride=(1, 1), padding=(1, 1), bias=False)\n",
       "        (bn1): BatchNorm2d(256, eps=1e-05, momentum=0.1, affine=True, track_running_stats=True)\n",
       "        (relu): ReLU(inplace=True)\n",
       "        (conv2): Conv2d(256, 256, kernel_size=(3, 3), stride=(1, 1), padding=(1, 1), bias=False)\n",
       "        (bn2): BatchNorm2d(256, eps=1e-05, momentum=0.1, affine=True, track_running_stats=True)\n",
       "      )\n",
       "    )\n",
       "    (1): Sequential(\n",
       "      (0): BasicBlock(\n",
       "        (conv1): Conv2d(256, 512, kernel_size=(3, 3), stride=(2, 2), padding=(1, 1), bias=False)\n",
       "        (bn1): BatchNorm2d(512, eps=1e-05, momentum=0.1, affine=True, track_running_stats=True)\n",
       "        (relu): ReLU(inplace=True)\n",
       "        (conv2): Conv2d(512, 512, kernel_size=(3, 3), stride=(1, 1), padding=(1, 1), bias=False)\n",
       "        (bn2): BatchNorm2d(512, eps=1e-05, momentum=0.1, affine=True, track_running_stats=True)\n",
       "        (downsample): Sequential(\n",
       "          (0): Conv2d(256, 512, kernel_size=(1, 1), stride=(2, 2), bias=False)\n",
       "          (1): BatchNorm2d(512, eps=1e-05, momentum=0.1, affine=True, track_running_stats=True)\n",
       "        )\n",
       "      )\n",
       "      (1): BasicBlock(\n",
       "        (conv1): Conv2d(512, 512, kernel_size=(3, 3), stride=(1, 1), padding=(1, 1), bias=False)\n",
       "        (bn1): BatchNorm2d(512, eps=1e-05, momentum=0.1, affine=True, track_running_stats=True)\n",
       "        (relu): ReLU(inplace=True)\n",
       "        (conv2): Conv2d(512, 512, kernel_size=(3, 3), stride=(1, 1), padding=(1, 1), bias=False)\n",
       "        (bn2): BatchNorm2d(512, eps=1e-05, momentum=0.1, affine=True, track_running_stats=True)\n",
       "      )\n",
       "    )\n",
       "  )\n",
       "  (bn1): BatchNorm1d(1024, eps=1e-05, momentum=0.1, affine=True, track_running_stats=True)\n",
       "  (fc1): Linear(in_features=1024, out_features=512, bias=True)\n",
       "  (classifier): Sequential(\n",
       "    (0): BatchNorm1d(512, eps=1e-05, momentum=0.1, affine=True, track_running_stats=True)\n",
       "    (1): Linear(in_features=512, out_features=1, bias=True)\n",
       "  )\n",
       ")"
      ]
     },
     "execution_count": 54,
     "metadata": {},
     "output_type": "execute_result"
    }
   ],
   "source": [
    "model"
   ]
  },
  {
   "cell_type": "code",
   "execution_count": 55,
   "metadata": {},
   "outputs": [],
   "source": [
    "x, y, _ = next(iter(train_dl))"
   ]
  },
  {
   "cell_type": "code",
   "execution_count": 56,
   "metadata": {},
   "outputs": [
    {
     "data": {
      "text/plain": [
       "torch.Size([32, 3, 256, 256])"
      ]
     },
     "execution_count": 56,
     "metadata": {},
     "output_type": "execute_result"
    }
   ],
   "source": [
    "x = x.cuda().float()\n",
    "y = y.cuda().float()\n",
    "x.shape"
   ]
  },
  {
   "cell_type": "code",
   "execution_count": 57,
   "metadata": {},
   "outputs": [
    {
     "data": {
      "text/plain": [
       "torch.Size([32, 128, 32, 32])"
      ]
     },
     "execution_count": 57,
     "metadata": {},
     "output_type": "execute_result"
    }
   ],
   "source": [
    "x_features = model.features1(x)\n",
    "x_features.shape"
   ]
  },
  {
   "cell_type": "code",
   "execution_count": 58,
   "metadata": {},
   "outputs": [
    {
     "data": {
      "text/plain": [
       "torch.Size([32, 512, 8, 8])"
      ]
     },
     "execution_count": 58,
     "metadata": {},
     "output_type": "execute_result"
    }
   ],
   "source": [
    "x_features2 = model.features2(x_features)\n",
    "x_features2.shape"
   ]
  },
  {
   "cell_type": "code",
   "execution_count": 59,
   "metadata": {},
   "outputs": [],
   "source": [
    "x_features2 = F.relu(x_features2)"
   ]
  },
  {
   "cell_type": "code",
   "execution_count": 60,
   "metadata": {},
   "outputs": [
    {
     "data": {
      "text/plain": [
       "torch.Size([32, 512, 1, 1])"
      ]
     },
     "execution_count": 60,
     "metadata": {},
     "output_type": "execute_result"
    }
   ],
   "source": [
    "# AdaptiveAvgPool2d would do a similar job if the input is [64, 512, 10, 20]\n",
    "# that is why this model will fit any input size\n",
    "x_features_ave = nn.AdaptiveAvgPool2d((1,1))(x_features2)\n",
    "x_features_ave.shape"
   ]
  },
  {
   "cell_type": "code",
   "execution_count": 61,
   "metadata": {},
   "outputs": [
    {
     "data": {
      "text/plain": [
       "torch.Size([32, 512])"
      ]
     },
     "execution_count": 61,
     "metadata": {},
     "output_type": "execute_result"
    }
   ],
   "source": [
    "x_features_flatten = x_features_ave.view(x_features_ave.shape[0], -1)\n",
    "x_features_flatten.shape"
   ]
  },
  {
   "cell_type": "code",
   "execution_count": 62,
   "metadata": {},
   "outputs": [
    {
     "data": {
      "text/plain": [
       "torch.Size([32, 1])"
      ]
     },
     "execution_count": 62,
     "metadata": {},
     "output_type": "execute_result"
    }
   ],
   "source": [
    "y_hat = model(x)\n",
    "y_hat.shape"
   ]
  },
  {
   "cell_type": "code",
   "execution_count": 63,
   "metadata": {},
   "outputs": [
    {
     "data": {
      "text/plain": [
       "tensor(99.6841, device='cuda:0', grad_fn=<L1LossBackward>)"
      ]
     },
     "execution_count": 63,
     "metadata": {},
     "output_type": "execute_result"
    }
   ],
   "source": [
    "# L1Loss (MAE), see https://pytorch.org/docs/master/generated/torch.nn.L1Loss.html#torch.nn.L1Loss\n",
    "F.l1_loss(y_hat, y)"
   ]
  },
  {
   "cell_type": "code",
   "execution_count": 64,
   "metadata": {},
   "outputs": [
    {
     "data": {
      "text/plain": [
       "torch.Size([32, 1])"
      ]
     },
     "execution_count": 64,
     "metadata": {},
     "output_type": "execute_result"
    }
   ],
   "source": [
    "y.shape"
   ]
  },
  {
   "cell_type": "code",
   "execution_count": 65,
   "metadata": {},
   "outputs": [],
   "source": [
    "# freeze parameters in layers 0 to 5\n",
    "#for param in model.features1.parameters():\n",
    "#    param.requires_grad = False\n",
    "#    \n",
    "#for param in model.parameters():\n",
    "#    print(param.requires_grad)"
   ]
  },
  {
   "cell_type": "markdown",
   "metadata": {},
   "source": [
    "## Checking Loss function\n",
    "Let's write the loss function from scratch in numpy to check the pytorch function."
   ]
  },
  {
   "cell_type": "markdown",
   "metadata": {},
   "source": [
    "## Learning rate finder"
   ]
  },
  {
   "cell_type": "markdown",
   "metadata": {},
   "source": [
    "From this paper https://arxiv.org/pdf/1506.01186.pdf. This an implementation of the \"LR range test\". Run your model for several epochs while letting the learning rate increase linearly between low and high LR values. Next, plot the loss versus learning rate. Note the learning rate value when the loss starts to decrease and when the loss slows, becomes ragged, or increases. In the example below the range seem to be from 1e-5 to 0.012."
   ]
  },
  {
   "cell_type": "code",
   "execution_count": 66,
   "metadata": {},
   "outputs": [],
   "source": [
    "def create_optimizer(model, lr0):\n",
    "    params = [{'params': model.features1.parameters(), 'lr': lr0/9},\n",
    "              {'params': model.features2.parameters(), 'lr': lr0/3},\n",
    "              {'params': model.classifier.parameters(), 'lr': lr0}]\n",
    "    #for param in model.parameters():\n",
    "    #    print(param.requires_grad)\n",
    "    return optim.Adam(params, weight_decay=1e-4)\n",
    "    #return optim.Adam(params, weight_decay=0)\n",
    "    #return optim.Adam(filter(lambda p: p.requires_grad, model.parameters()), weight_decay=1e-5)\n",
    "\n",
    "    \n",
    "def update_optimizer(optimizer, group_lrs):\n",
    "    for i, param_group in enumerate(optimizer.param_groups):\n",
    "        param_group[\"lr\"] = group_lrs[i]"
   ]
  },
  {
   "cell_type": "code",
   "execution_count": 67,
   "metadata": {},
   "outputs": [],
   "source": [
    "def save_model(m, p): torch.save(m.state_dict(), p)\n",
    "    \n",
    "def load_model(m, p): m.load_state_dict(torch.load(p))\n",
    "\n",
    "\n",
    "def LR_range_finder(model, train_dl, lr_low=1e-4, lr_high=0.01, epochs=3):\n",
    "    losses = []\n",
    "    p = PATH/\"mode_tmp.pth\"\n",
    "    save_model(model, str(p))\n",
    "    iterations = epochs * len(train_dl)\n",
    "    delta = (lr_high - lr_low)/iterations\n",
    "    print(f\"train size: {len(train_dl)}, no. iter: {iterations}, lr_high - lr_low: {lr_high - lr_low}, delta: {delta:.3e}\")\n",
    "    lrs = [lr_low + i*delta for i in range(iterations)]\n",
    "    model.train()\n",
    "    optimizer = create_optimizer(model, lrs[0])\n",
    "    ind = 0\n",
    "    for i in range(epochs):\n",
    "        for x, y, _ in train_dl:\n",
    "            lr = lrs[ind]\n",
    "            # print(f\"lr: {lr}\")\n",
    "            update_optimizer(optimizer, [lr/9, lr/3, lr])\n",
    "            x = x.cuda().float()\n",
    "            y = y.cuda().float()\n",
    "            out = model(x)\n",
    "            loss = F.l1_loss(out, y)\n",
    "            optimizer.zero_grad()\n",
    "            loss.backward()\n",
    "            optimizer.step()\n",
    "            losses.append(loss.item())\n",
    "            ind +=1\n",
    "            \n",
    "    load_model(model, str(p))\n",
    "    return lrs, losses    "
   ]
  },
  {
   "cell_type": "code",
   "execution_count": 68,
   "metadata": {},
   "outputs": [
    {
     "name": "stdout",
     "output_type": "stream",
     "text": [
      "train size: 31, no. iter: 93, lr_high - lr_low: 0.39999, delta: 4.301e-03\n"
     ]
    }
   ],
   "source": [
    "# >>> create model >>>\n",
    "model = Net().cuda()\n",
    "# freeze parameters in layers 0 to 5\n",
    "#for param in model.features1.parameters():\n",
    "#    param.requires_grad = False\n",
    "\n",
    "lrs, losses = LR_range_finder(model, train_dl, lr_low=1e-5, lr_high=0.4)"
   ]
  },
  {
   "cell_type": "code",
   "execution_count": 69,
   "metadata": {},
   "outputs": [
    {
     "data": {
      "image/png": "[encoded data removed]",
      "text/plain": [
       "<Figure size 432x288 with 1 Axes>"
      ]
     },
     "metadata": {
      "needs_background": "light"
     },
     "output_type": "display_data"
    }
   ],
   "source": [
    "plt.plot(lrs, losses)\n",
    "plt.show()"
   ]
  },
  {
   "cell_type": "markdown",
   "metadata": {},
   "source": [
    "## Triangular learning rate training"
   ]
  },
  {
   "cell_type": "code",
   "execution_count": 70,
   "metadata": {},
   "outputs": [],
   "source": [
    "def cosine_segment(start_lr, end_lr, iterations):\n",
    "    i = np.arange(iterations)\n",
    "    c_i = 1 + np.cos(i*np.pi/iterations)\n",
    "    # print(f\"i: {i}, c_i: {c_i}, res: {end_lr + (start_lr - end_lr)/2 *c_i}\")\n",
    "    return end_lr + (start_lr - end_lr)/2 *c_i\n",
    "\n",
    "def get_cosine_triangular_lr(max_lr, iterations):\n",
    "    min_start, min_end = max_lr/25, max_lr/(25*1e4)\n",
    "    iter1 = int(0.3*iterations)\n",
    "    iter2 = iterations - iter1\n",
    "    print(f\"min_start: {min_start:.3e}, min_end: {min_end:.3e}, iter1: {iter1}, iter2: {iter2}\")\n",
    "    segs = [cosine_segment(min_start, max_lr, iter1), cosine_segment(max_lr, min_end, iter2)]\n",
    "    return np.concatenate(segs)"
   ]
  },
  {
   "cell_type": "code",
   "execution_count": 71,
   "metadata": {},
   "outputs": [
    {
     "name": "stdout",
     "output_type": "stream",
     "text": [
      "min_start: 1.200e-03, min_end: 1.200e-07, iter1: 600, iter2: 1400\n"
     ]
    },
    {
     "data": {
      "image/png": "[encoded data removed]",
      "text/plain": [
       "<Figure size 432x288 with 1 Axes>"
      ]
     },
     "metadata": {
      "needs_background": "light"
     },
     "output_type": "display_data"
    }
   ],
   "source": [
    "N = 2000\n",
    "lr = get_cosine_triangular_lr(0.03, N)\n",
    "plt.plot(list(range(N)), lr)\n",
    "plt.show()"
   ]
  },
  {
   "cell_type": "code",
   "execution_count": 72,
   "metadata": {},
   "outputs": [],
   "source": [
    "def train_one_epoch(model, optimizer, train_dl, lrs, idx):\n",
    "    model.train()\n",
    "    total = 0\n",
    "    sum_loss = 0\n",
    "    for x, y, _ in train_dl:\n",
    "        lr = lrs[idx]\n",
    "        # print(f\"lr: {lr}\")\n",
    "        update_optimizer(optimizer, [lr/9, lr/3, lr])\n",
    "        batch = y.shape[0]\n",
    "        x = x.cuda().float()\n",
    "        y = y.cuda().float()\n",
    "        out = model(x)\n",
    "        loss = F.l1_loss(out, y)\n",
    "        optimizer.zero_grad()\n",
    "        loss.backward()\n",
    "        optimizer.step()\n",
    "        idx += 1\n",
    "        total += batch\n",
    "        sum_loss += batch*(loss.item())\n",
    "    return sum_loss/total, idx"
   ]
  },
  {
   "cell_type": "code",
   "execution_count": 73,
   "metadata": {},
   "outputs": [],
   "source": [
    "def train_triangular_policy(model, train_dl, valid_dl, max_lr=0.04, epochs = 5):\n",
    "    idx = 0\n",
    "    iterations = epochs*len(train_dl)\n",
    "    lrs = get_cosine_triangular_lr(max_lr, iterations)\n",
    "    optimizer = create_optimizer(model, lrs[0])\n",
    "    prev_val_loss = 10000.0\n",
    "    for i in range(epochs):\n",
    "        train_loss, idx = train_one_epoch(model, optimizer, train_dl, lrs, idx)\n",
    "        val_loss = val_metrics(model, valid_dl)\n",
    "        print(\"train_loss %.3f val_loss %.3f\" % (train_loss, val_loss))\n",
    "        if val_loss < prev_val_loss: \n",
    "            prev_val_loss = val_loss\n",
    "            if val_loss < 1.0: # only save model file if val MAE < 1.0\n",
    "                path = \"{0}/models/model_resnet18_{1:.3f}.pth\".format(PATH, val_loss)\n",
    "                save_model(model, path)\n",
    "                print(path)"
   ]
  },
  {
   "cell_type": "code",
   "execution_count": 74,
   "metadata": {},
   "outputs": [],
   "source": [
    "# changed for regression\n",
    "def val_metrics(model, valid_dl):\n",
    "    model.eval()\n",
    "    total = 0\n",
    "    sum_loss = 0\n",
    "    with torch.no_grad():\n",
    "        for x, y, _ in valid_dl:\n",
    "            # x and y are tensors, x.shape is [64, 3, 256, 256] and y.shape is [64, 1]\n",
    "            batch = y.shape[0]\n",
    "            x = x.cuda().float()\n",
    "            y = y.cuda()\n",
    "            out = model(x) # out is a tensor with shape [64, 1]\n",
    "            y = y.float()\n",
    "            loss = F.l1_loss(out, y)\n",
    "            sum_loss += batch*(loss.item())\n",
    "            total += batch\n",
    "        return sum_loss/total"
   ]
  },
  {
   "cell_type": "markdown",
   "metadata": {},
   "source": [
    "## Training with triangular rates"
   ]
  },
  {
   "cell_type": "code",
   "execution_count": 75,
   "metadata": {},
   "outputs": [],
   "source": [
    "train_dl = DataLoader(train_ds, batch_size=BATCH_SIZE, shuffle=True)\n",
    "valid_dl = DataLoader(valid_ds, batch_size=BATCH_SIZE)"
   ]
  },
  {
   "cell_type": "code",
   "execution_count": 76,
   "metadata": {},
   "outputs": [],
   "source": [
    "model = Net().cuda()"
   ]
  },
  {
   "cell_type": "code",
   "execution_count": 77,
   "metadata": {},
   "outputs": [
    {
     "data": {
      "text/plain": [
       "98.73642228070428"
      ]
     },
     "execution_count": 77,
     "metadata": {},
     "output_type": "execute_result"
    }
   ],
   "source": [
    "val_metrics(model, valid_dl)"
   ]
  },
  {
   "cell_type": "code",
   "execution_count": 78,
   "metadata": {},
   "outputs": [],
   "source": [
    "MAX_LR = 0.02"
   ]
  },
  {
   "cell_type": "code",
   "execution_count": 79,
   "metadata": {},
   "outputs": [
    {
     "name": "stdout",
     "output_type": "stream",
     "text": [
      "min_start: 8.000e-04, min_end: 8.000e-08, iter1: 46, iter2: 109\n",
      "train_loss 95.722 val_loss 73.025\n",
      "train_loss 22.486 val_loss 894.528\n",
      "train_loss 5.342 val_loss 5.938\n",
      "train_loss 3.719 val_loss 3.270\n",
      "train_loss 3.236 val_loss 3.093\n"
     ]
    }
   ],
   "source": [
    "# create models directory under /home/pablo/datasets/data/invasive-species-monitoring/ first time\n",
    "# same for /home/pablo/datasets/data/radioterapia/ciolaplata/models/\n",
    "model = Net().cuda()\n",
    "# freeze parameters in layers 0 to 5\n",
    "#for param in model.features1.parameters():\n",
    "#    param.requires_grad = False\n",
    "train_triangular_policy(model, train_dl, valid_dl, max_lr=MAX_LR, epochs = 5)"
   ]
  },
  {
   "cell_type": "code",
   "execution_count": 80,
   "metadata": {},
   "outputs": [
    {
     "name": "stdout",
     "output_type": "stream",
     "text": [
      "min_start: 8.000e-04, min_end: 8.000e-08, iter1: 93, iter2: 217\n",
      "train_loss 98.910 val_loss 90.956\n",
      "train_loss 57.956 val_loss 146975.103\n",
      "train_loss 8.115 val_loss 44.430\n",
      "train_loss 4.025 val_loss 3.037\n",
      "train_loss 2.883 val_loss 2.816\n",
      "train_loss 2.105 val_loss 1.541\n",
      "train_loss 1.654 val_loss 1.262\n",
      "train_loss 1.447 val_loss 1.249\n",
      "train_loss 1.273 val_loss 1.111\n",
      "train_loss 1.285 val_loss 1.035\n"
     ]
    }
   ],
   "source": [
    "model = Net().cuda()\n",
    "\n",
    "# freeze parameters in layers 0 to 5\n",
    "#for param in model.features1.parameters():\n",
    "#    param.requires_grad = True\n",
    "\n",
    "#for param in model.features2.parameters():\n",
    "#    param.requires_grad = True\n",
    "    \n",
    "train_triangular_policy(model, train_dl, valid_dl, max_lr=MAX_LR, epochs = 10)"
   ]
  },
  {
   "cell_type": "code",
   "execution_count": 81,
   "metadata": {},
   "outputs": [
    {
     "name": "stdout",
     "output_type": "stream",
     "text": [
      "min_start: 8.000e-04, min_end: 8.000e-08, iter1: 186, iter2: 434\n",
      "train_loss 99.364 val_loss 97.290\n",
      "train_loss 91.887 val_loss 83.961\n",
      "train_loss 33.523 val_loss 2080.674\n",
      "train_loss 6.417 val_loss 9.428\n",
      "train_loss 3.983 val_loss 2.569\n",
      "train_loss 2.959 val_loss 1.776\n",
      "train_loss 2.167 val_loss 3.518\n",
      "train_loss 1.797 val_loss 1.690\n",
      "train_loss 1.383 val_loss 1.586\n",
      "train_loss 1.110 val_loss 0.660\n",
      "/home/pablo/datasets/data/radioterapia/ciolaplata/models/model_resnet18_0.660.pth\n",
      "train_loss 0.832 val_loss 0.551\n",
      "/home/pablo/datasets/data/radioterapia/ciolaplata/models/model_resnet18_0.551.pth\n",
      "train_loss 0.782 val_loss 0.764\n",
      "train_loss 0.585 val_loss 0.407\n",
      "/home/pablo/datasets/data/radioterapia/ciolaplata/models/model_resnet18_0.407.pth\n",
      "train_loss 0.559 val_loss 0.529\n",
      "train_loss 0.454 val_loss 0.599\n",
      "train_loss 0.445 val_loss 0.347\n",
      "/home/pablo/datasets/data/radioterapia/ciolaplata/models/model_resnet18_0.347.pth\n",
      "train_loss 0.354 val_loss 0.310\n",
      "/home/pablo/datasets/data/radioterapia/ciolaplata/models/model_resnet18_0.310.pth\n",
      "train_loss 0.337 val_loss 0.305\n",
      "/home/pablo/datasets/data/radioterapia/ciolaplata/models/model_resnet18_0.305.pth\n",
      "train_loss 0.305 val_loss 0.291\n",
      "/home/pablo/datasets/data/radioterapia/ciolaplata/models/model_resnet18_0.291.pth\n",
      "train_loss 0.301 val_loss 0.289\n",
      "/home/pablo/datasets/data/radioterapia/ciolaplata/models/model_resnet18_0.289.pth\n"
     ]
    }
   ],
   "source": [
    "model = Net().cuda()\n",
    "train_triangular_policy(model, train_dl, valid_dl, max_lr=MAX_LR, epochs = 20)"
   ]
  },
  {
   "cell_type": "code",
   "execution_count": 82,
   "metadata": {},
   "outputs": [
    {
     "name": "stdout",
     "output_type": "stream",
     "text": [
      "min_start: 8.000e-04, min_end: 8.000e-08, iter1: 465, iter2: 1085\n",
      "train_loss 99.528 val_loss 99.263\n",
      "train_loss 97.722 val_loss 95.295\n",
      "train_loss 89.464 val_loss 81.732\n",
      "train_loss 58.115 val_loss 33.317\n",
      "train_loss 9.332 val_loss 25.292\n",
      "train_loss 5.033 val_loss 7.447\n",
      "train_loss 4.209 val_loss 3.776\n",
      "train_loss 3.627 val_loss 5.797\n",
      "train_loss 3.164 val_loss 4.726\n",
      "train_loss 2.514 val_loss 1.870\n",
      "train_loss 2.048 val_loss 1.641\n",
      "train_loss 1.732 val_loss 1.041\n",
      "train_loss 1.319 val_loss 3.609\n",
      "train_loss 1.184 val_loss 1.231\n",
      "train_loss 1.358 val_loss 1.356\n",
      "train_loss 0.818 val_loss 0.921\n",
      "/home/pablo/datasets/data/radioterapia/ciolaplata/models/model_resnet18_0.921.pth\n",
      "train_loss 1.032 val_loss 0.813\n",
      "/home/pablo/datasets/data/radioterapia/ciolaplata/models/model_resnet18_0.813.pth\n",
      "train_loss 1.006 val_loss 0.660\n",
      "/home/pablo/datasets/data/radioterapia/ciolaplata/models/model_resnet18_0.660.pth\n",
      "train_loss 1.128 val_loss 0.843\n",
      "train_loss 1.272 val_loss 1.939\n",
      "train_loss 1.219 val_loss 0.444\n",
      "/home/pablo/datasets/data/radioterapia/ciolaplata/models/model_resnet18_0.444.pth\n",
      "train_loss 0.970 val_loss 1.706\n",
      "train_loss 1.127 val_loss 1.001\n",
      "train_loss 0.529 val_loss 0.487\n",
      "train_loss 0.686 val_loss 0.638\n",
      "train_loss 0.544 val_loss 0.502\n",
      "train_loss 0.593 val_loss 1.380\n",
      "train_loss 0.682 val_loss 0.725\n",
      "train_loss 0.670 val_loss 0.651\n",
      "train_loss 0.778 val_loss 1.091\n",
      "train_loss 0.660 val_loss 0.417\n",
      "/home/pablo/datasets/data/radioterapia/ciolaplata/models/model_resnet18_0.417.pth\n",
      "train_loss 0.452 val_loss 0.363\n",
      "/home/pablo/datasets/data/radioterapia/ciolaplata/models/model_resnet18_0.363.pth\n",
      "train_loss 0.399 val_loss 0.329\n",
      "/home/pablo/datasets/data/radioterapia/ciolaplata/models/model_resnet18_0.329.pth\n",
      "train_loss 0.357 val_loss 0.528\n",
      "train_loss 0.446 val_loss 0.597\n",
      "train_loss 0.386 val_loss 0.275\n",
      "/home/pablo/datasets/data/radioterapia/ciolaplata/models/model_resnet18_0.275.pth\n",
      "train_loss 0.332 val_loss 0.293\n",
      "train_loss 0.383 val_loss 0.382\n",
      "train_loss 0.345 val_loss 0.329\n",
      "train_loss 0.318 val_loss 0.265\n",
      "/home/pablo/datasets/data/radioterapia/ciolaplata/models/model_resnet18_0.265.pth\n",
      "train_loss 0.286 val_loss 0.255\n",
      "/home/pablo/datasets/data/radioterapia/ciolaplata/models/model_resnet18_0.255.pth\n",
      "train_loss 0.278 val_loss 0.235\n",
      "/home/pablo/datasets/data/radioterapia/ciolaplata/models/model_resnet18_0.235.pth\n",
      "train_loss 0.260 val_loss 0.241\n",
      "train_loss 0.249 val_loss 0.231\n",
      "/home/pablo/datasets/data/radioterapia/ciolaplata/models/model_resnet18_0.231.pth\n",
      "train_loss 0.238 val_loss 0.253\n",
      "train_loss 0.236 val_loss 0.225\n",
      "/home/pablo/datasets/data/radioterapia/ciolaplata/models/model_resnet18_0.225.pth\n",
      "train_loss 0.233 val_loss 0.224\n",
      "/home/pablo/datasets/data/radioterapia/ciolaplata/models/model_resnet18_0.224.pth\n",
      "train_loss 0.233 val_loss 0.226\n",
      "train_loss 0.230 val_loss 0.220\n",
      "/home/pablo/datasets/data/radioterapia/ciolaplata/models/model_resnet18_0.220.pth\n",
      "train_loss 0.230 val_loss 0.217\n",
      "/home/pablo/datasets/data/radioterapia/ciolaplata/models/model_resnet18_0.217.pth\n"
     ]
    }
   ],
   "source": [
    "model = Net().cuda()\n",
    "train_triangular_policy(model, train_dl, valid_dl, max_lr=MAX_LR, epochs = 50)"
   ]
  },
  {
   "cell_type": "markdown",
   "metadata": {},
   "source": [
    "## Load a model"
   ]
  },
  {
   "cell_type": "code",
   "execution_count": 83,
   "metadata": {},
   "outputs": [],
   "source": [
    "def get_predictions_df(model, valid_dl):\n",
    "    model.eval()\n",
    "    pred = []\n",
    "    with torch.no_grad():\n",
    "        for x, y, file in valid_dl:\n",
    "            # x and y are tensors, x.shape is [BATCH_SIZE, 3, 256, 256] and y.shape is [BATCH_SIZE, 1]\n",
    "            x = x.cuda().float()\n",
    "            y = y.cuda().float()\n",
    "            out = model(x) # out is a tensor with shape [BATCH_SIZE, 1]\n",
    "            # a.cpu().numpy() == float(a.cpu().numpy())\n",
    "            batch_pred = [(Path(f).name, a.cpu().item(), b.cpu().item()) for f, a, b in zip(file, y, out)]\n",
    "            pred = pred + batch_pred\n",
    "    # build a pandas dataframe with results\n",
    "    df = pd.DataFrame(pred, columns=['filename', 'actual gamma', 'predicted gamma'])\n",
    "    return df"
   ]
  },
  {
   "cell_type": "code",
   "execution_count": 84,
   "metadata": {},
   "outputs": [],
   "source": [
    "def save_model(m, p): torch.save(m.state_dict(), p)\n",
    "    \n",
    "def load_model(m, p): m.load_state_dict(torch.load(p))"
   ]
  },
  {
   "cell_type": "code",
   "execution_count": 85,
   "metadata": {},
   "outputs": [],
   "source": [
    "# load model\n",
    "mae = 0.217\n",
    "model = Net().cuda()\n",
    "p = PATH/\"models/model_resnet18_{}.pth\".format(mae)\n",
    "load_model(model, p)"
   ]
  },
  {
   "cell_type": "code",
   "execution_count": 86,
   "metadata": {},
   "outputs": [
    {
     "data": {
      "text/plain": [
       "0.22347414150159545"
      ]
     },
     "execution_count": 86,
     "metadata": {},
     "output_type": "execute_result"
    }
   ],
   "source": [
    "val_metrics(model, train_dl)"
   ]
  },
  {
   "cell_type": "code",
   "execution_count": 87,
   "metadata": {},
   "outputs": [
    {
     "data": {
      "text/plain": [
       "0.21766312537240048"
      ]
     },
     "execution_count": 87,
     "metadata": {},
     "output_type": "execute_result"
    }
   ],
   "source": [
    "val_metrics(model, valid_dl)"
   ]
  },
  {
   "cell_type": "code",
   "execution_count": 90,
   "metadata": {},
   "outputs": [
    {
     "data": {
      "text/html": [
       "<div>\n",
       "<style scoped>\n",
       "    .dataframe tbody tr th:only-of-type {\n",
       "        vertical-align: middle;\n",
       "    }\n",
       "\n",
       "    .dataframe tbody tr th {\n",
       "        vertical-align: top;\n",
       "    }\n",
       "\n",
       "    .dataframe thead th {\n",
       "        text-align: right;\n",
       "    }\n",
       "</style>\n",
       "<table border=\"1\" class=\"dataframe\">\n",
       "  <thead>\n",
       "    <tr style=\"text-align: right;\">\n",
       "      <th></th>\n",
       "      <th>filename</th>\n",
       "      <th>actual gamma</th>\n",
       "      <th>predicted gamma</th>\n",
       "    </tr>\n",
       "  </thead>\n",
       "  <tbody>\n",
       "    <tr>\n",
       "      <th>0</th>\n",
       "      <td>1.3.6.1.4.1.9590.100.1.2.314109839011190398406...</td>\n",
       "      <td>100.000000</td>\n",
       "      <td>99.905762</td>\n",
       "    </tr>\n",
       "    <tr>\n",
       "      <th>1</th>\n",
       "      <td>1.3.6.1.4.1.9590.100.1.2.121144172813816296236...</td>\n",
       "      <td>99.824692</td>\n",
       "      <td>99.954384</td>\n",
       "    </tr>\n",
       "    <tr>\n",
       "      <th>2</th>\n",
       "      <td>1.3.6.1.4.1.9590.100.1.2.255052206611700788638...</td>\n",
       "      <td>99.926895</td>\n",
       "      <td>99.811745</td>\n",
       "    </tr>\n",
       "    <tr>\n",
       "      <th>3</th>\n",
       "      <td>1.3.6.1.4.1.9590.100.1.2.302383480412871360932...</td>\n",
       "      <td>99.972778</td>\n",
       "      <td>99.774170</td>\n",
       "    </tr>\n",
       "    <tr>\n",
       "      <th>4</th>\n",
       "      <td>1.3.6.1.4.1.9590.100.1.2.818237160113817578140...</td>\n",
       "      <td>99.940521</td>\n",
       "      <td>99.871002</td>\n",
       "    </tr>\n",
       "  </tbody>\n",
       "</table>\n",
       "</div>"
      ],
      "text/plain": [
       "                                            filename  actual gamma  \\\n",
       "0  1.3.6.1.4.1.9590.100.1.2.314109839011190398406...    100.000000   \n",
       "1  1.3.6.1.4.1.9590.100.1.2.121144172813816296236...     99.824692   \n",
       "2  1.3.6.1.4.1.9590.100.1.2.255052206611700788638...     99.926895   \n",
       "3  1.3.6.1.4.1.9590.100.1.2.302383480412871360932...     99.972778   \n",
       "4  1.3.6.1.4.1.9590.100.1.2.818237160113817578140...     99.940521   \n",
       "\n",
       "   predicted gamma  \n",
       "0        99.905762  \n",
       "1        99.954384  \n",
       "2        99.811745  \n",
       "3        99.774170  \n",
       "4        99.871002  "
      ]
     },
     "execution_count": 90,
     "metadata": {},
     "output_type": "execute_result"
    }
   ],
   "source": [
    "part = \"validation\" # training or validation\n",
    "if part == \"validation\":\n",
    "    df = get_predictions_df(model, valid_dl)\n",
    "else:\n",
    "    df = get_predictions_df(model, train_dl)            \n",
    "df.head()"
   ]
  },
  {
   "cell_type": "code",
   "execution_count": 91,
   "metadata": {},
   "outputs": [],
   "source": [
    "p = PATH/\"predictions/model_resnet18_{}_{}.csv\".format(mae, part)\n",
    "df.to_csv(p, index=False)"
   ]
  },
  {
   "cell_type": "markdown",
   "metadata": {},
   "source": [
    "## Testing time augmentation\n",
    "Testing time augmentation is a technique that uses data aumentation at test time to improve the test predictions. This usually helps but here our accuracy is too high.\n",
    "\n",
    "_Pablo: Since we are not doing data augmentation for fluence maps, then testing time augmentation neithe applies_"
   ]
  },
  {
   "cell_type": "markdown",
   "metadata": {},
   "source": [
    "## Lab\n",
    "Can you get better accuracy?\n",
    "* Change some of the hyperparameters (add dropout, increase the number of the hidden units)\n",
    "* Increase the image resolution\n",
    "* Modify the data augmentation to include other transformations"
   ]
  },
  {
   "cell_type": "markdown",
   "metadata": {},
   "source": [
    "# References\n",
    "This notebook is based on https://github.com/yanneta/deep-learning-data-institute/blob/master/lesson5-image-cnn.ipynb from course \"Fundamentals of Deep Learning with Pytorch\""
   ]
  }
 ],
 "metadata": {
  "kernelspec": {
   "display_name": "Python 3",
   "language": "python",
   "name": "python3"
  },
  "language_info": {
   "codemirror_mode": {
    "name": "ipython",
    "version": 3
   },
   "file_extension": ".py",
   "mimetype": "text/x-python",
   "name": "python",
   "nbconvert_exporter": "python",
   "pygments_lexer": "ipython3",
   "version": "3.7.7"
  },
  "toc": {
   "nav_menu": {},
   "number_sections": true,
   "sideBar": true,
   "skip_h1_title": false,
   "toc_cell": false,
   "toc_position": {},
   "toc_section_display": "block",
   "toc_window_display": false
  }
 },
 "nbformat": 4,
 "nbformat_minor": 2
}
