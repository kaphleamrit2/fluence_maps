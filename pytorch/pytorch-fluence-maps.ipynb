{
 "cells": [
  {
   "cell_type": "markdown",
   "metadata": {},
   "source": [
    "# IMRT fluence maps and the power of transfer learning\n",
    "\n",
    "The goal of this notebook is to predict gamma index values of calculated fluence maps in IMRT."
   ]
  },
  {
   "cell_type": "code",
   "execution_count": 1,
   "metadata": {},
   "outputs": [
    {
     "name": "stdout",
     "output_type": "stream",
     "text": [
      "pytorch version = 1.6.0\n",
      "torchvision version = 0.7.0\n"
     ]
    }
   ],
   "source": [
    "%reload_ext autoreload\n",
    "%autoreload 2\n",
    "%matplotlib inline\n",
    "\n",
    "import pandas as pd\n",
    "import numpy as np\n",
    "import torch\n",
    "from pathlib import Path\n",
    "from torch.utils.data import Dataset, DataLoader\n",
    "import torch.optim as optim\n",
    "import torch.nn as nn\n",
    "import torch.nn.functional as F\n",
    "import torchvision\n",
    "from torchvision import models # from torchvision.models import *    # import *=all the models from torchvision\n",
    "import random\n",
    "from sklearn.metrics import mean_absolute_error\n",
    "import seaborn as sns\n",
    "from matplotlib import pyplot as plt\n",
    "\n",
    "print(f\"pytorch version = {torch.__version__}\")\n",
    "print(f\"torchvision version = {torchvision.__version__}\")"
   ]
  },
  {
   "cell_type": "code",
   "execution_count": 2,
   "metadata": {},
   "outputs": [],
   "source": [
    "import cv2\n",
    "import matplotlib.pyplot as plt"
   ]
  },
  {
   "cell_type": "markdown",
   "metadata": {},
   "source": [
    "## Data"
   ]
  },
  {
   "cell_type": "markdown",
   "metadata": {},
   "source": [
    "Fluence maps are read from JPEG files, which are generated from DICOM files in RT Dose format, using __fluence_maps/util/dicom2jpeg.py__"
   ]
  },
  {
   "cell_type": "code",
   "execution_count": 3,
   "metadata": {},
   "outputs": [
    {
     "data": {
      "text/plain": [
       "[PosixPath('/home/pablo/datasets/data/radioterapia/ciolaplata/2019-opencv-jpeg/1.3.6.1.4.1.9590.100.1.2.203198554612014819400418953352395532304.jpeg'),\n",
       " PosixPath('/home/pablo/datasets/data/radioterapia/ciolaplata/2019-opencv-jpeg/1.3.6.1.4.1.9590.100.1.2.304275504210078777001252975971455271810.jpeg'),\n",
       " PosixPath('/home/pablo/datasets/data/radioterapia/ciolaplata/2019-opencv-jpeg/1.3.6.1.4.1.9590.100.1.2.182312125112547379233727945080924070970.jpeg'),\n",
       " PosixPath('/home/pablo/datasets/data/radioterapia/ciolaplata/2019-opencv-jpeg/1.3.6.1.4.1.9590.100.1.2.266687078611979984327893369642595175118.jpeg'),\n",
       " PosixPath('/home/pablo/datasets/data/radioterapia/ciolaplata/2019-opencv-jpeg/1.3.6.1.4.1.9590.100.1.2.197554664012331954531649076942414280340.jpeg'),\n",
       " PosixPath('/home/pablo/datasets/data/radioterapia/ciolaplata/2019-opencv-jpeg/1.3.6.1.4.1.9590.100.1.2.41048548311113314337642889561606811953.jpeg'),\n",
       " PosixPath('/home/pablo/datasets/data/radioterapia/ciolaplata/2019-opencv-jpeg/1.3.6.1.4.1.9590.100.1.2.264153455611003983208143717463353404854.jpeg'),\n",
       " PosixPath('/home/pablo/datasets/data/radioterapia/ciolaplata/2019-opencv-jpeg/1.3.6.1.4.1.9590.100.1.2.49177374512885054828781666652233049407.jpeg'),\n",
       " PosixPath('/home/pablo/datasets/data/radioterapia/ciolaplata/2019-opencv-jpeg/1.3.6.1.4.1.9590.100.1.2.130943638011841662104891342271414905449.jpeg'),\n",
       " PosixPath('/home/pablo/datasets/data/radioterapia/ciolaplata/2019-opencv-jpeg/1.3.6.1.4.1.9590.100.1.2.19916910912406463931304206702234786289.jpeg')]"
      ]
     },
     "execution_count": 3,
     "metadata": {},
     "output_type": "execute_result"
    }
   ],
   "source": [
    "np.random.seed(23456)\n",
    "PATH = Path(\"/home/pablo/datasets/data/radioterapia/ciolaplata/\")\n",
    "\n",
    "# CODEX_FILE = \"codex.2018-2019.csv\" # mapas 3mm/3% con doseshift años 2018 y 2019\n",
    "CODEX_FILE = \"codex-2019-3mm3%-doseshift.csv\" # mapas 3mm/3% con doseshift año 2019\n",
    "# CODEX_FILE = \"codex-2019-2mm2%-doseshift.csv\" # mapas 2mm/2% con doseshift año 2019\n",
    "# CODEX_FILE = \"codex-2019-3mm3%-doseshift-TR40%.csv\" # mapas con ajuste tolerancia 40%\n",
    "\n",
    "MAPS_LOCATION_SUFFIX = \"-opencv-jpeg\"\n",
    "path = PATH/Path(\"2018\" + MAPS_LOCATION_SUFFIX)\n",
    "path2 = PATH/Path(\"2019\" + MAPS_LOCATION_SUFFIX)\n",
    "\n",
    "# list_all = list(path.iterdir())+list(path2.iterdir())\n",
    "list_all = list(path2.iterdir())\n",
    "random.shuffle(list_all)\n",
    "list_all[:10]"
   ]
  },
  {
   "cell_type": "code",
   "execution_count": 4,
   "metadata": {},
   "outputs": [],
   "source": [
    "def read_image(path):\n",
    "    im = cv2.imread(str(path))\n",
    "    return im"
   ]
  },
  {
   "cell_type": "code",
   "execution_count": 5,
   "metadata": {},
   "outputs": [
    {
     "data": {
      "text/plain": [
       "<matplotlib.image.AxesImage at 0x7f50aad61d50>"
      ]
     },
     "execution_count": 5,
     "metadata": {},
     "output_type": "execute_result"
    },
    {
     "data": {
      "image/png": "[encoded data removed]",
      "text/plain": [
       "<Figure size 432x288 with 1 Axes>"
      ]
     },
     "metadata": {
      "needs_background": "light"
     },
     "output_type": "display_data"
    }
   ],
   "source": [
    "path = PATH/Path(\"2018\" + MAPS_LOCATION_SUFFIX)/\"1.3.6.1.4.1.9590.100.1.2.310116611339769406079254153056253359.jpeg\"\n",
    "im = read_image(path)\n",
    "plt.imshow(im)"
   ]
  },
  {
   "cell_type": "code",
   "execution_count": 6,
   "metadata": {},
   "outputs": [
    {
     "data": {
      "text/plain": [
       "(256, 256, 3)"
      ]
     },
     "execution_count": 6,
     "metadata": {},
     "output_type": "execute_result"
    }
   ],
   "source": [
    "im = cv2.imread(str(path))\n",
    "im.shape"
   ]
  },
  {
   "cell_type": "code",
   "execution_count": 7,
   "metadata": {},
   "outputs": [],
   "source": [
    "# let's look at the typical size of these images\n",
    "files = list_all[:1000]\n",
    "dims = [read_image(str(p)).shape for p in files]"
   ]
  },
  {
   "cell_type": "code",
   "execution_count": 8,
   "metadata": {},
   "outputs": [
    {
     "data": {
      "text/plain": [
       "array([  3, 256])"
      ]
     },
     "execution_count": 8,
     "metadata": {},
     "output_type": "execute_result"
    }
   ],
   "source": [
    "np.unique(dims)"
   ]
  },
  {
   "cell_type": "markdown",
   "metadata": {},
   "source": [
    "Amazing! all images have the same size."
   ]
  },
  {
   "cell_type": "markdown",
   "metadata": {},
   "source": [
    "## Data augmentation\n",
    "Data augmentation is the most important way to avoid overfitting for image classification task\n",
    "\n",
    "Pablo:\n",
    "1. Data augmentation can be enabled when creating the dataset, ex.: train_ds = FluenceMapsDataset(train_maps, transform=TRANSFORM)\n",
    "2. Data augmentation did not improve MAE in validation. As with no data augmentation, overfitting is very small when data augmentation is used, but the problem is not overfitting but underfitting, i.e. performance in training is not good."
   ]
  },
  {
   "cell_type": "code",
   "execution_count": 9,
   "metadata": {},
   "outputs": [],
   "source": [
    "import math\n",
    "def crop(im, r, c, target_r, target_c): return im[r:r+target_r, c:c+target_c]\n",
    "\n",
    "# random crop to the original size\n",
    "def random_crop(x, r_pix=8):\n",
    "    \"\"\" Returns a random crop\"\"\"\n",
    "    r, c,*_ = x.shape\n",
    "    c_pix = round(r_pix*c/r)\n",
    "    rand_r = random.uniform(0, 1)\n",
    "    rand_c = random.uniform(0, 1)\n",
    "    start_r = np.floor(2*rand_r*r_pix).astype(int)\n",
    "    start_c = np.floor(2*rand_c*c_pix).astype(int)\n",
    "    return crop(x, start_r, start_c, r-2*r_pix, c-2*c_pix)\n",
    "\n",
    "def center_crop(x, r_pix=8):\n",
    "    r, c,*_ = x.shape\n",
    "    c_pix = round(r_pix*c/r)\n",
    "    return crop(x, r_pix, c_pix, r-2*r_pix, c-2*c_pix)\n",
    "\n",
    "\n",
    "def rotate_cv(im, deg, mode=cv2.BORDER_REFLECT, interpolation=cv2.INTER_AREA):\n",
    "    \"\"\" Rotates an image by deg degrees\"\"\"\n",
    "    r,c,*_ = im.shape\n",
    "    M = cv2.getRotationMatrix2D((c/2,r/2),deg,1)\n",
    "    return cv2.warpAffine(im,M,(c,r), borderMode=mode, \n",
    "                          flags=cv2.WARP_FILL_OUTLIERS+interpolation)"
   ]
  },
  {
   "cell_type": "markdown",
   "metadata": {},
   "source": [
    "### Center crop"
   ]
  },
  {
   "cell_type": "code",
   "execution_count": 10,
   "metadata": {},
   "outputs": [
    {
     "data": {
      "text/plain": [
       "(240, 240, 3)"
      ]
     },
     "execution_count": 10,
     "metadata": {},
     "output_type": "execute_result"
    },
    {
     "data": {
      "image/png": "[encoded data removed]",
      "text/plain": [
       "<Figure size 432x288 with 1 Axes>"
      ]
     },
     "metadata": {
      "needs_background": "light"
     },
     "output_type": "display_data"
    }
   ],
   "source": [
    "path = PATH/Path(\"2018\" + MAPS_LOCATION_SUFFIX)/\"1.3.6.1.4.1.9590.100.1.2.310116611339769406079254153056253359.jpeg\"\n",
    "im = read_image(path)\n",
    "im_c = center_crop(im)\n",
    "plt.imshow(im_c) # plt.imshow(im_c, cmap='gray') is the same\n",
    "im_c.shape"
   ]
  },
  {
   "cell_type": "markdown",
   "metadata": {},
   "source": [
    "### Resize, horizontal and vertical translations"
   ]
  },
  {
   "cell_type": "code",
   "execution_count": 11,
   "metadata": {},
   "outputs": [
    {
     "data": {
      "text/plain": [
       "(256, 256, 3)"
      ]
     },
     "execution_count": 11,
     "metadata": {},
     "output_type": "execute_result"
    },
    {
     "data": {
      "image/png": "[encoded data removed]",
      "text/plain": [
       "<Figure size 432x288 with 1 Axes>"
      ]
     },
     "metadata": {
      "needs_background": "light"
     },
     "output_type": "display_data"
    }
   ],
   "source": [
    "# resize desforms the image a bit\n",
    "# note that by resizing to a larger number and random cropping we are doing horizontal and vertical translations\n",
    "# we should try just center cropping the image instead of resizing\n",
    "# Pablo: but I am not resizing to a larger size but to original size 256x256\n",
    "im_l = cv2.resize(im, (272, 272))\n",
    "im_l = random_crop(im_l)\n",
    "plt.imshow(im_l)\n",
    "im_l.shape"
   ]
  },
  {
   "cell_type": "markdown",
   "metadata": {},
   "source": [
    "### Translation"
   ]
  },
  {
   "cell_type": "code",
   "execution_count": 12,
   "metadata": {},
   "outputs": [],
   "source": [
    "# https://opencv-python-tutroals.readthedocs.io/en/latest/py_tutorials/py_imgproc/py_geometric_transformations/\n",
    "# py_geometric_transformations.html\n",
    "def random_translation(x, t_pix=8):\n",
    "    \"\"\" Returns a random translation\"\"\"\n",
    "    rows, cols, *_ = x.shape\n",
    "    rand_r = random.uniform(0, 1)\n",
    "    rand_c = random.uniform(0, 1)\n",
    "    t_r = np.floor(rand_r*t_pix).astype(int)\n",
    "    t_c = np.floor(rand_c*t_pix).astype(int)\n",
    "    # shift (t_r, t_c)\n",
    "    T = np.float32([[1, 0, t_r], [0, 1, t_c]]) \n",
    "    # We use warpAffine to transform the image using the matrix T \n",
    "    return cv2.warpAffine(x, T, (cols, rows)), T"
   ]
  },
  {
   "cell_type": "code",
   "execution_count": 13,
   "metadata": {},
   "outputs": [
    {
     "name": "stdout",
     "output_type": "stream",
     "text": [
      "[[1. 0. 0.]\n",
      " [0. 1. 1.]]\n"
     ]
    },
    {
     "data": {
      "text/plain": [
       "<matplotlib.image.AxesImage at 0x7f50aac8a690>"
      ]
     },
     "execution_count": 13,
     "metadata": {},
     "output_type": "execute_result"
    },
    {
     "data": {
      "image/png": "[encoded data removed]",
      "text/plain": [
       "<Figure size 432x288 with 1 Axes>"
      ]
     },
     "metadata": {
      "needs_background": "light"
     },
     "output_type": "display_data"
    }
   ],
   "source": [
    "im_translation, T = random_translation(im)\n",
    "print(T)\n",
    "plt.imshow(im_translation) "
   ]
  },
  {
   "cell_type": "markdown",
   "metadata": {},
   "source": [
    "### Random Rotation (-10, 10) "
   ]
  },
  {
   "cell_type": "code",
   "execution_count": 14,
   "metadata": {},
   "outputs": [
    {
     "name": "stdout",
     "output_type": "stream",
     "text": [
      "-3.563994299959352\n"
     ]
    },
    {
     "data": {
      "text/plain": [
       "<matplotlib.image.AxesImage at 0x7f50aab24ad0>"
      ]
     },
     "execution_count": 14,
     "metadata": {},
     "output_type": "execute_result"
    },
    {
     "data": {
      "image/png": "[encoded data removed]",
      "text/plain": [
       "<Figure size 432x288 with 1 Axes>"
      ]
     },
     "metadata": {
      "needs_background": "light"
     },
     "output_type": "display_data"
    }
   ],
   "source": [
    "rdeg = (np.random.random()-.50)*20\n",
    "print(rdeg)\n",
    "im_rot = rotate_cv(im, rdeg)\n",
    "plt.imshow(im_rot)"
   ]
  },
  {
   "cell_type": "markdown",
   "metadata": {},
   "source": [
    "### Horizontal Flip"
   ]
  },
  {
   "cell_type": "code",
   "execution_count": 15,
   "metadata": {},
   "outputs": [
    {
     "data": {
      "text/plain": [
       "<matplotlib.image.AxesImage at 0x7f50aaadc3d0>"
      ]
     },
     "execution_count": 15,
     "metadata": {},
     "output_type": "execute_result"
    },
    {
     "data": {
      "image/png": "[encoded data removed]",
      "text/plain": [
       "<Figure size 432x288 with 1 Axes>"
      ]
     },
     "metadata": {
      "needs_background": "light"
     },
     "output_type": "display_data"
    }
   ],
   "source": [
    "im_f = np.fliplr(im)\n",
    "plt.imshow(im_f)"
   ]
  },
  {
   "cell_type": "markdown",
   "metadata": {},
   "source": [
    "## Split train and validation"
   ]
  },
  {
   "cell_type": "markdown",
   "metadata": {},
   "source": [
    "_Pablo: Not all fluence map files have a gamma value in the gamma .csv file, so we need to split the gamma .csv file and not the map files in the file system._"
   ]
  },
  {
   "cell_type": "code",
   "execution_count": 16,
   "metadata": {},
   "outputs": [],
   "source": [
    "# from sklearn.model_selection import train_test_split\n",
    "# all_files = list(PATH.iterdir())\n",
    "# X_train, X_test = train_test_split(all_files, test_size=0.2, random_state=12345)"
   ]
  },
  {
   "cell_type": "code",
   "execution_count": 17,
   "metadata": {},
   "outputs": [],
   "source": [
    "# print(len(X_train), len(X_test))"
   ]
  },
  {
   "cell_type": "code",
   "execution_count": 18,
   "metadata": {},
   "outputs": [
    {
     "data": {
      "text/html": [
       "<div>\n",
       "<style scoped>\n",
       "    .dataframe tbody tr th:only-of-type {\n",
       "        vertical-align: middle;\n",
       "    }\n",
       "\n",
       "    .dataframe tbody tr th {\n",
       "        vertical-align: top;\n",
       "    }\n",
       "\n",
       "    .dataframe thead th {\n",
       "        text-align: right;\n",
       "    }\n",
       "</style>\n",
       "<table border=\"1\" class=\"dataframe\">\n",
       "  <thead>\n",
       "    <tr style=\"text-align: right;\">\n",
       "      <th></th>\n",
       "      <th>año</th>\n",
       "      <th>fluencia medida</th>\n",
       "      <th>fluencia calculada</th>\n",
       "      <th>uno menos gamma index</th>\n",
       "    </tr>\n",
       "  </thead>\n",
       "  <tbody>\n",
       "    <tr>\n",
       "      <th>0</th>\n",
       "      <td>2019</td>\n",
       "      <td>1.3.6.1.4.1.9590.100.1.2.106363004312018285639...</td>\n",
       "      <td>1.3.6.1.4.1.9590.100.1.2.250681179813913418312...</td>\n",
       "      <td>0.126820</td>\n",
       "    </tr>\n",
       "    <tr>\n",
       "      <th>1</th>\n",
       "      <td>2019</td>\n",
       "      <td>1.3.6.1.4.1.9590.100.1.2.117111588412865729801...</td>\n",
       "      <td>1.3.6.1.4.1.9590.100.1.2.189485955411711008602...</td>\n",
       "      <td>0.004941</td>\n",
       "    </tr>\n",
       "    <tr>\n",
       "      <th>2</th>\n",
       "      <td>2019</td>\n",
       "      <td>1.3.6.1.4.1.9590.100.1.2.190727149413805451333...</td>\n",
       "      <td>1.3.6.1.4.1.9590.100.1.2.266447459412025533907...</td>\n",
       "      <td>0.541950</td>\n",
       "    </tr>\n",
       "    <tr>\n",
       "      <th>3</th>\n",
       "      <td>2019</td>\n",
       "      <td>1.3.6.1.4.1.9590.100.1.2.211756715011326913522...</td>\n",
       "      <td>1.3.6.1.4.1.9590.100.1.2.310552899912770926928...</td>\n",
       "      <td>0.000000</td>\n",
       "    </tr>\n",
       "    <tr>\n",
       "      <th>4</th>\n",
       "      <td>2019</td>\n",
       "      <td>1.3.6.1.4.1.9590.100.1.2.225990696211768600614...</td>\n",
       "      <td>1.3.6.1.4.1.9590.100.1.2.384142289612482598518...</td>\n",
       "      <td>0.406440</td>\n",
       "    </tr>\n",
       "  </tbody>\n",
       "</table>\n",
       "</div>"
      ],
      "text/plain": [
       "    año                                    fluencia medida  \\\n",
       "0  2019  1.3.6.1.4.1.9590.100.1.2.106363004312018285639...   \n",
       "1  2019  1.3.6.1.4.1.9590.100.1.2.117111588412865729801...   \n",
       "2  2019  1.3.6.1.4.1.9590.100.1.2.190727149413805451333...   \n",
       "3  2019  1.3.6.1.4.1.9590.100.1.2.211756715011326913522...   \n",
       "4  2019  1.3.6.1.4.1.9590.100.1.2.225990696211768600614...   \n",
       "\n",
       "                                  fluencia calculada  uno menos gamma index  \n",
       "0  1.3.6.1.4.1.9590.100.1.2.250681179813913418312...               0.126820  \n",
       "1  1.3.6.1.4.1.9590.100.1.2.189485955411711008602...               0.004941  \n",
       "2  1.3.6.1.4.1.9590.100.1.2.266447459412025533907...               0.541950  \n",
       "3  1.3.6.1.4.1.9590.100.1.2.310552899912770926928...               0.000000  \n",
       "4  1.3.6.1.4.1.9590.100.1.2.384142289612482598518...               0.406440  "
      ]
     },
     "execution_count": 18,
     "metadata": {},
     "output_type": "execute_result"
    }
   ],
   "source": [
    "maps_in = pd.read_csv(PATH/CODEX_FILE, sep=';', delimiter=None, header=0)\n",
    "maps_in.head()"
   ]
  },
  {
   "cell_type": "code",
   "execution_count": 19,
   "metadata": {},
   "outputs": [
    {
     "data": {
      "text/html": [
       "<div>\n",
       "<style scoped>\n",
       "    .dataframe tbody tr th:only-of-type {\n",
       "        vertical-align: middle;\n",
       "    }\n",
       "\n",
       "    .dataframe tbody tr th {\n",
       "        vertical-align: top;\n",
       "    }\n",
       "\n",
       "    .dataframe thead th {\n",
       "        text-align: right;\n",
       "    }\n",
       "</style>\n",
       "<table border=\"1\" class=\"dataframe\">\n",
       "  <thead>\n",
       "    <tr style=\"text-align: right;\">\n",
       "      <th></th>\n",
       "      <th>full_filename_jpeg</th>\n",
       "      <th>gamma_index</th>\n",
       "    </tr>\n",
       "  </thead>\n",
       "  <tbody>\n",
       "    <tr>\n",
       "      <th>0</th>\n",
       "      <td>/home/pablo/datasets/data/radioterapia/ciolapl...</td>\n",
       "      <td>99.873180</td>\n",
       "    </tr>\n",
       "    <tr>\n",
       "      <th>1</th>\n",
       "      <td>/home/pablo/datasets/data/radioterapia/ciolapl...</td>\n",
       "      <td>99.995059</td>\n",
       "    </tr>\n",
       "    <tr>\n",
       "      <th>2</th>\n",
       "      <td>/home/pablo/datasets/data/radioterapia/ciolapl...</td>\n",
       "      <td>99.458050</td>\n",
       "    </tr>\n",
       "    <tr>\n",
       "      <th>3</th>\n",
       "      <td>/home/pablo/datasets/data/radioterapia/ciolapl...</td>\n",
       "      <td>100.000000</td>\n",
       "    </tr>\n",
       "    <tr>\n",
       "      <th>4</th>\n",
       "      <td>/home/pablo/datasets/data/radioterapia/ciolapl...</td>\n",
       "      <td>99.593560</td>\n",
       "    </tr>\n",
       "  </tbody>\n",
       "</table>\n",
       "</div>"
      ],
      "text/plain": [
       "                                  full_filename_jpeg  gamma_index\n",
       "0  /home/pablo/datasets/data/radioterapia/ciolapl...    99.873180\n",
       "1  /home/pablo/datasets/data/radioterapia/ciolapl...    99.995059\n",
       "2  /home/pablo/datasets/data/radioterapia/ciolapl...    99.458050\n",
       "3  /home/pablo/datasets/data/radioterapia/ciolapl...   100.000000\n",
       "4  /home/pablo/datasets/data/radioterapia/ciolapl...    99.593560"
      ]
     },
     "execution_count": 19,
     "metadata": {},
     "output_type": "execute_result"
    }
   ],
   "source": [
    "maps_out = pd.DataFrame(columns=['full_filename_jpeg', 'gamma_index'])\n",
    "maps_out['full_filename_jpeg'] = [PATH/Path(str(row[0])+MAPS_LOCATION_SUFFIX)/Path(str(row[1])+'.jpeg') for row in maps_in[['año', 'fluencia calculada']].values]\n",
    "maps_out['gamma_index'] = maps_in.apply(lambda row: 100.0 - row['uno menos gamma index'], axis=1)\n",
    "maps_out.head()"
   ]
  },
  {
   "cell_type": "code",
   "execution_count": 20,
   "metadata": {},
   "outputs": [
    {
     "data": {
      "text/plain": [
       "(PosixPath('/home/pablo/datasets/data/radioterapia/ciolaplata/2019-opencv-jpeg/1.3.6.1.4.1.9590.100.1.2.250681179813913418312485712811639382340.jpeg'),\n",
       " 99.87318)"
      ]
     },
     "execution_count": 20,
     "metadata": {},
     "output_type": "execute_result"
    }
   ],
   "source": [
    "maps_out['full_filename_jpeg'][0], maps_out['gamma_index'][0]"
   ]
  },
  {
   "cell_type": "code",
   "execution_count": 21,
   "metadata": {},
   "outputs": [
    {
     "data": {
      "text/plain": [
       "(PosixPath('/home/pablo/datasets/data/radioterapia/ciolaplata/2019-opencv-jpeg/1.3.6.1.4.1.9590.100.1.2.250681179813913418312485712811639382340.jpeg'),\n",
       " 99.87318)"
      ]
     },
     "execution_count": 21,
     "metadata": {},
     "output_type": "execute_result"
    }
   ],
   "source": [
    "row = maps_out.iloc[0,:]\n",
    "row['full_filename_jpeg'], row['gamma_index'] "
   ]
  },
  {
   "cell_type": "code",
   "execution_count": 22,
   "metadata": {},
   "outputs": [
    {
     "data": {
      "text/plain": [
       "(99.87318,\n",
       " numpy.float64,\n",
       " array([99.87318]),\n",
       " numpy.ndarray,\n",
       " 99.87318,\n",
       " numpy.float64)"
      ]
     },
     "execution_count": 22,
     "metadata": {},
     "output_type": "execute_result"
    }
   ],
   "source": [
    "y = row['gamma_index']\n",
    "y, type(y), y[None], type(y[None]), y[None][0], type(y[None][0])"
   ]
  },
  {
   "cell_type": "code",
   "execution_count": 23,
   "metadata": {},
   "outputs": [
    {
     "data": {
      "text/plain": [
       "<matplotlib.image.AxesImage at 0x7f50aa955e50>"
      ]
     },
     "execution_count": 23,
     "metadata": {},
     "output_type": "execute_result"
    },
    {
     "data": {
      "image/png": "[encoded data removed]",
      "text/plain": [
       "<Figure size 432x288 with 1 Axes>"
      ]
     },
     "metadata": {
      "needs_background": "light"
     },
     "output_type": "display_data"
    }
   ],
   "source": [
    "path = row['full_filename_jpeg']\n",
    "im = read_image(path)\n",
    "plt.imshow(im)"
   ]
  },
  {
   "cell_type": "code",
   "execution_count": 24,
   "metadata": {},
   "outputs": [
    {
     "data": {
      "text/plain": [
       "(256, 256, 3)"
      ]
     },
     "execution_count": 24,
     "metadata": {},
     "output_type": "execute_result"
    }
   ],
   "source": [
    "im.shape"
   ]
  },
  {
   "cell_type": "code",
   "execution_count": 25,
   "metadata": {},
   "outputs": [
    {
     "data": {
      "text/plain": [
       "(0, 255)"
      ]
     },
     "execution_count": 25,
     "metadata": {},
     "output_type": "execute_result"
    }
   ],
   "source": [
    "# channel 0\n",
    "np.min(im[:,:,0]), np.max(im[:,:,0])"
   ]
  },
  {
   "cell_type": "code",
   "execution_count": 26,
   "metadata": {},
   "outputs": [],
   "source": [
    "mask = np.random.random(len(maps_out)) < 0.8\n",
    "train_maps = maps_out[mask].copy()\n",
    "valid_maps = maps_out[~mask].copy()"
   ]
  },
  {
   "cell_type": "code",
   "execution_count": 27,
   "metadata": {},
   "outputs": [
    {
     "data": {
      "text/plain": [
       "(1227, 976, 251)"
      ]
     },
     "execution_count": 27,
     "metadata": {},
     "output_type": "execute_result"
    }
   ],
   "source": [
    "len(maps_out), len(train_maps), len(valid_maps) "
   ]
  },
  {
   "cell_type": "code",
   "execution_count": 28,
   "metadata": {},
   "outputs": [
    {
     "data": {
      "text/plain": [
       "1226"
      ]
     },
     "execution_count": 28,
     "metadata": {},
     "output_type": "execute_result"
    }
   ],
   "source": [
    "files = [x for x in maps_out['full_filename_jpeg']]\n",
    "files = list(set(files)) # set(.) to remove duplicates\n",
    "len(files)"
   ]
  },
  {
   "cell_type": "markdown",
   "metadata": {},
   "source": [
    "## Resizing data"
   ]
  },
  {
   "cell_type": "code",
   "execution_count": 29,
   "metadata": {},
   "outputs": [],
   "source": [
    "# 272 = 256 (orig size) + 8*2 (8 pixels cropped)\n",
    "def resize_crop_image(path, sz=(272, 272)):\n",
    "    im = read_image(path)\n",
    "    im = center_crop(im)\n",
    "    return cv2.resize(im, sz)"
   ]
  },
  {
   "cell_type": "code",
   "execution_count": 30,
   "metadata": {},
   "outputs": [],
   "source": [
    "def resize_all_images(resize_path):\n",
    "    files = [x for x in train_maps['full_filename_jpeg']]\n",
    "    for f in files:\n",
    "        f_name = f.parts[-1]    \n",
    "        new_path = resize_path/f_name\n",
    "            \n",
    "        im = resize_crop_image(f)\n",
    "        cv2.imwrite(str(new_path), im, [int(cv2.IMWRITE_JPEG_QUALITY), 100])"
   ]
  },
  {
   "cell_type": "code",
   "execution_count": 31,
   "metadata": {},
   "outputs": [],
   "source": [
    "TRANSFORM = False\n",
    "# Uncomment to do random cropping as part of data augmentation\n",
    "#\n",
    "#if TRANSFORM:\n",
    "#    RESIZE_PATH = 'train_272_272'\n",
    "#    # just run the first time\n",
    "#    resize_all_images(PATH/RESIZE_PATH)\n",
    "#\n",
    "#    train_maps['full_filename_jpeg'] = Path('/').joinpath(*(file.parts[:-2]+(RESIZE_PATH,)+(file.parts[-1],)))\n",
    "#    train_maps.head()"
   ]
  },
  {
   "cell_type": "markdown",
   "metadata": {},
   "source": [
    "## Dataset"
   ]
  },
  {
   "cell_type": "code",
   "execution_count": 32,
   "metadata": {},
   "outputs": [
    {
     "data": {
      "text/plain": [
       "(PosixPath('/home/pablo/datasets/data/radioterapia/ciolaplata/2019-opencv-jpeg/1.3.6.1.4.1.9590.100.1.2.250681179813913418312485712811639382340.jpeg'),\n",
       " 99.87318)"
      ]
     },
     "execution_count": 32,
     "metadata": {},
     "output_type": "execute_result"
    }
   ],
   "source": [
    "train_maps['full_filename_jpeg'][0], train_maps['gamma_index'][0]"
   ]
  },
  {
   "cell_type": "code",
   "execution_count": 33,
   "metadata": {},
   "outputs": [],
   "source": [
    "def rescale_0_to_1(image):\n",
    "    \"\"\"\n",
    "    Rescale image to [0, 1].\n",
    "    \"\"\"\n",
    "    # Image must be casted to float32 first\n",
    "    image = image.astype('float')\n",
    "    image = (image/255.0)\n",
    "    return image"
   ]
  },
  {
   "cell_type": "code",
   "execution_count": 34,
   "metadata": {},
   "outputs": [],
   "source": [
    "def rescale_min_1_to_1(image):\n",
    "    \"\"\"\n",
    "    Rescale image to [-1, 1].\n",
    "    \"\"\"\n",
    "    # Image must be casted to float32 first\n",
    "    image = image.astype('float')\n",
    "    # Rescale image from [0, 255] to [0, 2], and by substracting -1 we rescale to [-1, 1].\n",
    "    image = (image/127.5) - 1\n",
    "    return image"
   ]
  },
  {
   "cell_type": "code",
   "execution_count": 35,
   "metadata": {},
   "outputs": [],
   "source": [
    "def normalize(im):\n",
    "    \"\"\"Normalizes images with Imagenet stats.\"\"\"\n",
    "    mean = [0.485, 0.456, 0.406]\n",
    "    std = [0.229, 0.224, 0.225]\n",
    "    imagenet_stats = np.array([mean, std])\n",
    "    return (im - imagenet_stats[0])/imagenet_stats[1]"
   ]
  },
  {
   "cell_type": "code",
   "execution_count": 36,
   "metadata": {},
   "outputs": [],
   "source": [
    "class FluenceMapsDataset(Dataset):\n",
    "    def __init__(self, maps, transform=False):\n",
    "        self.num_maps = len(maps)\n",
    "        self.maps = maps\n",
    "        self.transform = transform\n",
    "        \n",
    "    def __len__(self):\n",
    "        return self.num_maps\n",
    "    \n",
    "    def __getitem__(self, index):\n",
    "        row = self.maps.iloc[index,:]\n",
    "        y = row['gamma_index']\n",
    "        path = str(row['full_filename_jpeg'])\n",
    "        x = read_image(path)\n",
    "        if self.transform:\n",
    "            rdeg = (np.random.random()-.50)*20\n",
    "            x = rotate_cv(x, rdeg)\n",
    "            # x = random_crop(x)\n",
    "            # if np.random.random() > 0.5: x = np.fliplr(x).copy()\n",
    "            x, _ = random_translation(x)\n",
    "        x = rescale_0_to_1(x)\n",
    "        # x = normalize(x) # do not normalize, model performance is lower.\n",
    "        # rollaxis: (256, 256, 3) => (3, 256, 256)\n",
    "        return np.rollaxis(x, 2), y[None], path # y[None] converts y to numpy.ndarray "
   ]
  },
  {
   "cell_type": "code",
   "execution_count": 37,
   "metadata": {},
   "outputs": [],
   "source": [
    "train_ds = FluenceMapsDataset(train_maps, transform=TRANSFORM)\n",
    "valid_ds = FluenceMapsDataset(valid_maps)"
   ]
  },
  {
   "cell_type": "code",
   "execution_count": 38,
   "metadata": {},
   "outputs": [
    {
     "data": {
      "text/plain": [
       "((3, 256, 256),\n",
       " array([99.87318]),\n",
       " '/home/pablo/datasets/data/radioterapia/ciolaplata/2019-opencv-jpeg/1.3.6.1.4.1.9590.100.1.2.250681179813913418312485712811639382340.jpeg')"
      ]
     },
     "execution_count": 38,
     "metadata": {},
     "output_type": "execute_result"
    }
   ],
   "source": [
    "x, y, f = train_ds[0]\n",
    "x.shape, y, f"
   ]
  },
  {
   "cell_type": "code",
   "execution_count": 39,
   "metadata": {},
   "outputs": [
    {
     "data": {
      "text/plain": [
       "<matplotlib.image.AxesImage at 0x7f50aa91cd10>"
      ]
     },
     "execution_count": 39,
     "metadata": {},
     "output_type": "execute_result"
    },
    {
     "data": {
      "image/png": "[encoded data removed]",
      "text/plain": [
       "<Figure size 432x288 with 1 Axes>"
      ]
     },
     "metadata": {
      "needs_background": "light"
     },
     "output_type": "display_data"
    }
   ],
   "source": [
    "row = train_maps.iloc[0,:]\n",
    "path = row['full_filename_jpeg']\n",
    "im = read_image(path)\n",
    "plt.imshow(im)"
   ]
  },
  {
   "cell_type": "code",
   "execution_count": 40,
   "metadata": {},
   "outputs": [
    {
     "data": {
      "text/plain": [
       "<matplotlib.image.AxesImage at 0x7f50aa8941d0>"
      ]
     },
     "execution_count": 40,
     "metadata": {},
     "output_type": "execute_result"
    },
    {
     "data": {
      "image/png": "[encoded data removed]",
      "text/plain": [
       "<Figure size 432x288 with 1 Axes>"
      ]
     },
     "metadata": {
      "needs_background": "light"
     },
     "output_type": "display_data"
    }
   ],
   "source": [
    "x = np.rollaxis(x, 2)\n",
    "x = np.rollaxis(x, 2)\n",
    "plt.imshow(x)"
   ]
  },
  {
   "cell_type": "code",
   "execution_count": 41,
   "metadata": {},
   "outputs": [
    {
     "data": {
      "text/plain": [
       "((3, 256, 256), array([99.9950589]))"
      ]
     },
     "execution_count": 41,
     "metadata": {},
     "output_type": "execute_result"
    }
   ],
   "source": [
    "x, y, _ = valid_ds[0]\n",
    "x.shape, y"
   ]
  },
  {
   "cell_type": "code",
   "execution_count": 42,
   "metadata": {},
   "outputs": [],
   "source": [
    "BATCH_SIZE = 32\n",
    "train_loader = DataLoader(train_ds, batch_size=BATCH_SIZE, shuffle=True, num_workers=8)\n",
    "valid_loader = DataLoader(valid_ds, batch_size=BATCH_SIZE, num_workers=8)"
   ]
  },
  {
   "cell_type": "code",
   "execution_count": 43,
   "metadata": {},
   "outputs": [
    {
     "data": {
      "text/plain": [
       "976"
      ]
     },
     "execution_count": 43,
     "metadata": {},
     "output_type": "execute_result"
    }
   ],
   "source": [
    "len(train_ds)"
   ]
  },
  {
   "cell_type": "code",
   "execution_count": 44,
   "metadata": {},
   "outputs": [
    {
     "data": {
      "text/plain": [
       "31"
      ]
     },
     "execution_count": 44,
     "metadata": {},
     "output_type": "execute_result"
    }
   ],
   "source": [
    "len(train_loader)"
   ]
  },
  {
   "cell_type": "code",
   "execution_count": 45,
   "metadata": {},
   "outputs": [],
   "source": [
    "train_dl = DataLoader(train_ds, batch_size=BATCH_SIZE, shuffle=True)\n",
    "valid_dl = DataLoader(valid_ds, batch_size=BATCH_SIZE)"
   ]
  },
  {
   "cell_type": "markdown",
   "metadata": {},
   "source": [
    "## Model"
   ]
  },
  {
   "cell_type": "code",
   "execution_count": 46,
   "metadata": {},
   "outputs": [],
   "source": [
    "#conda install ipywidgets\n",
    "resnet = models.resnet18(pretrained=True)\n",
    "# resnet "
   ]
  },
  {
   "cell_type": "code",
   "execution_count": 47,
   "metadata": {},
   "outputs": [
    {
     "name": "stdout",
     "output_type": "stream",
     "text": [
      "10\n",
      "-----------------------layer 0-----------------------\n",
      "Conv2d(3, 64, kernel_size=(7, 7), stride=(2, 2), padding=(3, 3), bias=False)\n",
      "-----------------------layer 1-----------------------\n",
      "BatchNorm2d(64, eps=1e-05, momentum=0.1, affine=True, track_running_stats=True)\n",
      "-----------------------layer 2-----------------------\n",
      "ReLU(inplace=True)\n",
      "-----------------------layer 3-----------------------\n",
      "MaxPool2d(kernel_size=3, stride=2, padding=1, dilation=1, ceil_mode=False)\n",
      "-----------------------layer 4-----------------------\n",
      "Sequential(\n",
      "  (0): BasicBlock(\n",
      "    (conv1): Conv2d(64, 64, kernel_size=(3, 3), stride=(1, 1), padding=(1, 1), bias=False)\n",
      "    (bn1): BatchNorm2d(64, eps=1e-05, momentum=0.1, affine=True, track_running_stats=True)\n",
      "    (relu): ReLU(inplace=True)\n",
      "    (conv2): Conv2d(64, 64, kernel_size=(3, 3), stride=(1, 1), padding=(1, 1), bias=False)\n",
      "    (bn2): BatchNorm2d(64, eps=1e-05, momentum=0.1, affine=True, track_running_stats=True)\n",
      "  )\n",
      "  (1): BasicBlock(\n",
      "    (conv1): Conv2d(64, 64, kernel_size=(3, 3), stride=(1, 1), padding=(1, 1), bias=False)\n",
      "    (bn1): BatchNorm2d(64, eps=1e-05, momentum=0.1, affine=True, track_running_stats=True)\n",
      "    (relu): ReLU(inplace=True)\n",
      "    (conv2): Conv2d(64, 64, kernel_size=(3, 3), stride=(1, 1), padding=(1, 1), bias=False)\n",
      "    (bn2): BatchNorm2d(64, eps=1e-05, momentum=0.1, affine=True, track_running_stats=True)\n",
      "  )\n",
      ")\n",
      "-----------------------layer 5-----------------------\n",
      "Sequential(\n",
      "  (0): BasicBlock(\n",
      "    (conv1): Conv2d(64, 128, kernel_size=(3, 3), stride=(2, 2), padding=(1, 1), bias=False)\n",
      "    (bn1): BatchNorm2d(128, eps=1e-05, momentum=0.1, affine=True, track_running_stats=True)\n",
      "    (relu): ReLU(inplace=True)\n",
      "    (conv2): Conv2d(128, 128, kernel_size=(3, 3), stride=(1, 1), padding=(1, 1), bias=False)\n",
      "    (bn2): BatchNorm2d(128, eps=1e-05, momentum=0.1, affine=True, track_running_stats=True)\n",
      "    (downsample): Sequential(\n",
      "      (0): Conv2d(64, 128, kernel_size=(1, 1), stride=(2, 2), bias=False)\n",
      "      (1): BatchNorm2d(128, eps=1e-05, momentum=0.1, affine=True, track_running_stats=True)\n",
      "    )\n",
      "  )\n",
      "  (1): BasicBlock(\n",
      "    (conv1): Conv2d(128, 128, kernel_size=(3, 3), stride=(1, 1), padding=(1, 1), bias=False)\n",
      "    (bn1): BatchNorm2d(128, eps=1e-05, momentum=0.1, affine=True, track_running_stats=True)\n",
      "    (relu): ReLU(inplace=True)\n",
      "    (conv2): Conv2d(128, 128, kernel_size=(3, 3), stride=(1, 1), padding=(1, 1), bias=False)\n",
      "    (bn2): BatchNorm2d(128, eps=1e-05, momentum=0.1, affine=True, track_running_stats=True)\n",
      "  )\n",
      ")\n",
      "-----------------------layer 6-----------------------\n",
      "Sequential(\n",
      "  (0): BasicBlock(\n",
      "    (conv1): Conv2d(128, 256, kernel_size=(3, 3), stride=(2, 2), padding=(1, 1), bias=False)\n",
      "    (bn1): BatchNorm2d(256, eps=1e-05, momentum=0.1, affine=True, track_running_stats=True)\n",
      "    (relu): ReLU(inplace=True)\n",
      "    (conv2): Conv2d(256, 256, kernel_size=(3, 3), stride=(1, 1), padding=(1, 1), bias=False)\n",
      "    (bn2): BatchNorm2d(256, eps=1e-05, momentum=0.1, affine=True, track_running_stats=True)\n",
      "    (downsample): Sequential(\n",
      "      (0): Conv2d(128, 256, kernel_size=(1, 1), stride=(2, 2), bias=False)\n",
      "      (1): BatchNorm2d(256, eps=1e-05, momentum=0.1, affine=True, track_running_stats=True)\n",
      "    )\n",
      "  )\n",
      "  (1): BasicBlock(\n",
      "    (conv1): Conv2d(256, 256, kernel_size=(3, 3), stride=(1, 1), padding=(1, 1), bias=False)\n",
      "    (bn1): BatchNorm2d(256, eps=1e-05, momentum=0.1, affine=True, track_running_stats=True)\n",
      "    (relu): ReLU(inplace=True)\n",
      "    (conv2): Conv2d(256, 256, kernel_size=(3, 3), stride=(1, 1), padding=(1, 1), bias=False)\n",
      "    (bn2): BatchNorm2d(256, eps=1e-05, momentum=0.1, affine=True, track_running_stats=True)\n",
      "  )\n",
      ")\n",
      "-----------------------layer 7-----------------------\n",
      "Sequential(\n",
      "  (0): BasicBlock(\n",
      "    (conv1): Conv2d(256, 512, kernel_size=(3, 3), stride=(2, 2), padding=(1, 1), bias=False)\n",
      "    (bn1): BatchNorm2d(512, eps=1e-05, momentum=0.1, affine=True, track_running_stats=True)\n",
      "    (relu): ReLU(inplace=True)\n",
      "    (conv2): Conv2d(512, 512, kernel_size=(3, 3), stride=(1, 1), padding=(1, 1), bias=False)\n",
      "    (bn2): BatchNorm2d(512, eps=1e-05, momentum=0.1, affine=True, track_running_stats=True)\n",
      "    (downsample): Sequential(\n",
      "      (0): Conv2d(256, 512, kernel_size=(1, 1), stride=(2, 2), bias=False)\n",
      "      (1): BatchNorm2d(512, eps=1e-05, momentum=0.1, affine=True, track_running_stats=True)\n",
      "    )\n",
      "  )\n",
      "  (1): BasicBlock(\n",
      "    (conv1): Conv2d(512, 512, kernel_size=(3, 3), stride=(1, 1), padding=(1, 1), bias=False)\n",
      "    (bn1): BatchNorm2d(512, eps=1e-05, momentum=0.1, affine=True, track_running_stats=True)\n",
      "    (relu): ReLU(inplace=True)\n",
      "    (conv2): Conv2d(512, 512, kernel_size=(3, 3), stride=(1, 1), padding=(1, 1), bias=False)\n",
      "    (bn2): BatchNorm2d(512, eps=1e-05, momentum=0.1, affine=True, track_running_stats=True)\n",
      "  )\n",
      ")\n",
      "-----------------------layer 8-----------------------\n",
      "AdaptiveAvgPool2d(output_size=(1, 1))\n",
      "-----------------------layer 9-----------------------\n",
      "Linear(in_features=512, out_features=1000, bias=True)\n"
     ]
    }
   ],
   "source": [
    "layers = list(resnet.children())\n",
    "print(len(layers))\n",
    "# layers[-2:]\n",
    "for i in range(len(layers)):\n",
    "    print (f\"-----------------------layer {i}-----------------------\")\n",
    "    print(layers[i])\n",
    "    \n",
    "# we want to freeze the fc2 layer this time: only train fc1 and fc3\n",
    "#net.fc2.weight.requires_grad = False\n",
    "#net.fc2.bias.requires_grad = False\n",
    "\n",
    "#for param in resnet.parameters():\n",
    "#    param.requires_grad = True\n",
    "    \n",
    "#layers[0].weight.requires_grad = False\n",
    "#layers[1].requires_grad = False\n",
    "#layers[4][0].conv1.weight.requires_grad = False\n",
    "#layers[4][0].conv2.weight.requires_grad = False\n",
    "\n",
    "#for param in resnet.parameters():\n",
    "#    print(param.shape, param.requires_grad)"
   ]
  },
  {
   "cell_type": "code",
   "execution_count": 48,
   "metadata": {},
   "outputs": [],
   "source": [
    "# This is the network used in this notebook\n",
    "# see https://discuss.pytorch.org/t/pytorch-equivalent-of-keras/29412\n",
    "class Net(nn.Module):\n",
    "    def __init__(self):\n",
    "        super(Net, self).__init__()\n",
    "        resnet = models.resnet18(pretrained=True)\n",
    "        layers = list(resnet.children())[:8]\n",
    "        self.features1 = nn.Sequential(*layers[:6])\n",
    "        self.features2 = nn.Sequential(*layers[6:])\n",
    "        self.out = 512 + 512 # for resnet18 and resnet34\n",
    "        self.bn1 = nn.BatchNorm1d(self.out)\n",
    "        self.fc1 = nn.Linear(self.out, 512)\n",
    "        self.classifier = nn.Sequential(nn.BatchNorm1d(512), nn.Linear(512,1))\n",
    "    \n",
    "    def forward(self, x):\n",
    "        x = self.features1(x)\n",
    "        x = self.features2(x)\n",
    "        x = F.relu(x)\n",
    "        x1 = nn.AdaptiveAvgPool2d((1,1))(x)\n",
    "        x1 = x1.view(x1.shape[0], -1) # flattening\n",
    "        x2 = nn.AdaptiveMaxPool2d((1,1))(x)\n",
    "        x2 = x2.view(x2.shape[0], -1) # flattening\n",
    "        x = torch.cat([x1, x2], 1)\n",
    "        x = nn.Dropout(0.2)(x) # hace falta dropout caso contrario se observa overfitting, y entre [0.2, 0.5] está OK.\n",
    "        x = self.bn1(x)\n",
    "        x = F.relu(self.fc1(x))\n",
    "        x = nn.Dropout(0.2)(x) # idem anterior\n",
    "        x = self.classifier(x)\n",
    "        return x"
   ]
  },
  {
   "cell_type": "code",
   "execution_count": 49,
   "metadata": {},
   "outputs": [],
   "source": [
    "# This network is not used, it was created just to experiment\n",
    "class Net50(nn.Module):\n",
    "    def __init__(self):\n",
    "        super(Net, self).__init__()\n",
    "        resnet = models.resnet18(pretrained=True)\n",
    "        layers = list(resnet.children())[:8]\n",
    "        self.features1 = nn.Sequential(*layers[:6])\n",
    "        self.features2 = nn.Sequential(*layers[6:])\n",
    "        self.out = 2048 + 2048\n",
    "        self.bn1 = nn.BatchNorm1d(self.out)\n",
    "        self.fc1 = nn.Linear(self.out, 2048)\n",
    "        self.classifier = nn.Sequential(nn.BatchNorm1d(2048), nn.Linear(2048,1))\n",
    "    \n",
    "    def forward(self, x):\n",
    "        x = self.features1(x)\n",
    "        x = self.features2(x)\n",
    "        x = F.relu(x)\n",
    "        x1 = nn.AdaptiveAvgPool2d((1,1))(x)\n",
    "        x1 = x1.view(x1.shape[0], -1) # flattening\n",
    "        x2 = nn.AdaptiveMaxPool2d((1,1))(x)\n",
    "        x2 = x2.view(x2.shape[0], -1) # flattening\n",
    "        x = torch.cat([x1, x2], 1)\n",
    "        x = nn.Dropout(0.2)(x) # hace falta dropout caso contrario se observa overfitting, y entre [0.2, 0.5] está OK.\n",
    "        x = self.bn1(x)\n",
    "        x = F.relu(self.fc1(x))\n",
    "        x = nn.Dropout(0.2)(x) # idem anterior\n",
    "        x = self.classifier(x)\n",
    "        return x"
   ]
  },
  {
   "cell_type": "code",
   "execution_count": 50,
   "metadata": {},
   "outputs": [],
   "source": [
    "# This network is no longer used.\n",
    "class Net2(nn.Module):\n",
    "    def __init__(self):\n",
    "        super(Net, self).__init__()\n",
    "        resnet = models.resnet18(pretrained=True)\n",
    "        layers = list(resnet.children())[:8]\n",
    "        self.features1 = nn.Sequential(*layers[:6])\n",
    "        self.features2 = nn.Sequential(*layers[6:])\n",
    "        self.classifier = nn.Sequential(nn.BatchNorm1d(512), nn.Linear(512,1))\n",
    "    \n",
    "    def forward(self, x):\n",
    "        x = self.features1(x)\n",
    "        x = self.features2(x)\n",
    "        x = F.relu(x)\n",
    "        x = nn.AdaptiveAvgPool2d((1,1))(x)\n",
    "        x = x.view(x.shape[0], -1) # flattening\n",
    "        x = self.classifier(x)\n",
    "        return x"
   ]
  },
  {
   "cell_type": "code",
   "execution_count": 51,
   "metadata": {},
   "outputs": [],
   "source": [
    "model = Net().cuda()"
   ]
  },
  {
   "cell_type": "code",
   "execution_count": 52,
   "metadata": {},
   "outputs": [
    {
     "data": {
      "text/plain": [
       "Net(\n",
       "  (features1): Sequential(\n",
       "    (0): Conv2d(3, 64, kernel_size=(7, 7), stride=(2, 2), padding=(3, 3), bias=False)\n",
       "    (1): BatchNorm2d(64, eps=1e-05, momentum=0.1, affine=True, track_running_stats=True)\n",
       "    (2): ReLU(inplace=True)\n",
       "    (3): MaxPool2d(kernel_size=3, stride=2, padding=1, dilation=1, ceil_mode=False)\n",
       "    (4): Sequential(\n",
       "      (0): BasicBlock(\n",
       "        (conv1): Conv2d(64, 64, kernel_size=(3, 3), stride=(1, 1), padding=(1, 1), bias=False)\n",
       "        (bn1): BatchNorm2d(64, eps=1e-05, momentum=0.1, affine=True, track_running_stats=True)\n",
       "        (relu): ReLU(inplace=True)\n",
       "        (conv2): Conv2d(64, 64, kernel_size=(3, 3), stride=(1, 1), padding=(1, 1), bias=False)\n",
       "        (bn2): BatchNorm2d(64, eps=1e-05, momentum=0.1, affine=True, track_running_stats=True)\n",
       "      )\n",
       "      (1): BasicBlock(\n",
       "        (conv1): Conv2d(64, 64, kernel_size=(3, 3), stride=(1, 1), padding=(1, 1), bias=False)\n",
       "        (bn1): BatchNorm2d(64, eps=1e-05, momentum=0.1, affine=True, track_running_stats=True)\n",
       "        (relu): ReLU(inplace=True)\n",
       "        (conv2): Conv2d(64, 64, kernel_size=(3, 3), stride=(1, 1), padding=(1, 1), bias=False)\n",
       "        (bn2): BatchNorm2d(64, eps=1e-05, momentum=0.1, affine=True, track_running_stats=True)\n",
       "      )\n",
       "    )\n",
       "    (5): Sequential(\n",
       "      (0): BasicBlock(\n",
       "        (conv1): Conv2d(64, 128, kernel_size=(3, 3), stride=(2, 2), padding=(1, 1), bias=False)\n",
       "        (bn1): BatchNorm2d(128, eps=1e-05, momentum=0.1, affine=True, track_running_stats=True)\n",
       "        (relu): ReLU(inplace=True)\n",
       "        (conv2): Conv2d(128, 128, kernel_size=(3, 3), stride=(1, 1), padding=(1, 1), bias=False)\n",
       "        (bn2): BatchNorm2d(128, eps=1e-05, momentum=0.1, affine=True, track_running_stats=True)\n",
       "        (downsample): Sequential(\n",
       "          (0): Conv2d(64, 128, kernel_size=(1, 1), stride=(2, 2), bias=False)\n",
       "          (1): BatchNorm2d(128, eps=1e-05, momentum=0.1, affine=True, track_running_stats=True)\n",
       "        )\n",
       "      )\n",
       "      (1): BasicBlock(\n",
       "        (conv1): Conv2d(128, 128, kernel_size=(3, 3), stride=(1, 1), padding=(1, 1), bias=False)\n",
       "        (bn1): BatchNorm2d(128, eps=1e-05, momentum=0.1, affine=True, track_running_stats=True)\n",
       "        (relu): ReLU(inplace=True)\n",
       "        (conv2): Conv2d(128, 128, kernel_size=(3, 3), stride=(1, 1), padding=(1, 1), bias=False)\n",
       "        (bn2): BatchNorm2d(128, eps=1e-05, momentum=0.1, affine=True, track_running_stats=True)\n",
       "      )\n",
       "    )\n",
       "  )\n",
       "  (features2): Sequential(\n",
       "    (0): Sequential(\n",
       "      (0): BasicBlock(\n",
       "        (conv1): Conv2d(128, 256, kernel_size=(3, 3), stride=(2, 2), padding=(1, 1), bias=False)\n",
       "        (bn1): BatchNorm2d(256, eps=1e-05, momentum=0.1, affine=True, track_running_stats=True)\n",
       "        (relu): ReLU(inplace=True)\n",
       "        (conv2): Conv2d(256, 256, kernel_size=(3, 3), stride=(1, 1), padding=(1, 1), bias=False)\n",
       "        (bn2): BatchNorm2d(256, eps=1e-05, momentum=0.1, affine=True, track_running_stats=True)\n",
       "        (downsample): Sequential(\n",
       "          (0): Conv2d(128, 256, kernel_size=(1, 1), stride=(2, 2), bias=False)\n",
       "          (1): BatchNorm2d(256, eps=1e-05, momentum=0.1, affine=True, track_running_stats=True)\n",
       "        )\n",
       "      )\n",
       "      (1): BasicBlock(\n",
       "        (conv1): Conv2d(256, 256, kernel_size=(3, 3), stride=(1, 1), padding=(1, 1), bias=False)\n",
       "        (bn1): BatchNorm2d(256, eps=1e-05, momentum=0.1, affine=True, track_running_stats=True)\n",
       "        (relu): ReLU(inplace=True)\n",
       "        (conv2): Conv2d(256, 256, kernel_size=(3, 3), stride=(1, 1), padding=(1, 1), bias=False)\n",
       "        (bn2): BatchNorm2d(256, eps=1e-05, momentum=0.1, affine=True, track_running_stats=True)\n",
       "      )\n",
       "    )\n",
       "    (1): Sequential(\n",
       "      (0): BasicBlock(\n",
       "        (conv1): Conv2d(256, 512, kernel_size=(3, 3), stride=(2, 2), padding=(1, 1), bias=False)\n",
       "        (bn1): BatchNorm2d(512, eps=1e-05, momentum=0.1, affine=True, track_running_stats=True)\n",
       "        (relu): ReLU(inplace=True)\n",
       "        (conv2): Conv2d(512, 512, kernel_size=(3, 3), stride=(1, 1), padding=(1, 1), bias=False)\n",
       "        (bn2): BatchNorm2d(512, eps=1e-05, momentum=0.1, affine=True, track_running_stats=True)\n",
       "        (downsample): Sequential(\n",
       "          (0): Conv2d(256, 512, kernel_size=(1, 1), stride=(2, 2), bias=False)\n",
       "          (1): BatchNorm2d(512, eps=1e-05, momentum=0.1, affine=True, track_running_stats=True)\n",
       "        )\n",
       "      )\n",
       "      (1): BasicBlock(\n",
       "        (conv1): Conv2d(512, 512, kernel_size=(3, 3), stride=(1, 1), padding=(1, 1), bias=False)\n",
       "        (bn1): BatchNorm2d(512, eps=1e-05, momentum=0.1, affine=True, track_running_stats=True)\n",
       "        (relu): ReLU(inplace=True)\n",
       "        (conv2): Conv2d(512, 512, kernel_size=(3, 3), stride=(1, 1), padding=(1, 1), bias=False)\n",
       "        (bn2): BatchNorm2d(512, eps=1e-05, momentum=0.1, affine=True, track_running_stats=True)\n",
       "      )\n",
       "    )\n",
       "  )\n",
       "  (bn1): BatchNorm1d(1024, eps=1e-05, momentum=0.1, affine=True, track_running_stats=True)\n",
       "  (fc1): Linear(in_features=1024, out_features=512, bias=True)\n",
       "  (classifier): Sequential(\n",
       "    (0): BatchNorm1d(512, eps=1e-05, momentum=0.1, affine=True, track_running_stats=True)\n",
       "    (1): Linear(in_features=512, out_features=1, bias=True)\n",
       "  )\n",
       ")"
      ]
     },
     "execution_count": 52,
     "metadata": {},
     "output_type": "execute_result"
    }
   ],
   "source": [
    "model"
   ]
  },
  {
   "cell_type": "code",
   "execution_count": 53,
   "metadata": {},
   "outputs": [],
   "source": [
    "x, y, _ = next(iter(train_dl))"
   ]
  },
  {
   "cell_type": "code",
   "execution_count": 54,
   "metadata": {},
   "outputs": [
    {
     "data": {
      "text/plain": [
       "torch.Size([32, 3, 256, 256])"
      ]
     },
     "execution_count": 54,
     "metadata": {},
     "output_type": "execute_result"
    }
   ],
   "source": [
    "x = x.cuda().float()\n",
    "y = y.cuda().float()\n",
    "x.shape"
   ]
  },
  {
   "cell_type": "code",
   "execution_count": 55,
   "metadata": {},
   "outputs": [
    {
     "data": {
      "text/plain": [
       "torch.Size([32, 128, 32, 32])"
      ]
     },
     "execution_count": 55,
     "metadata": {},
     "output_type": "execute_result"
    }
   ],
   "source": [
    "x_features = model.features1(x)\n",
    "x_features.shape"
   ]
  },
  {
   "cell_type": "code",
   "execution_count": 56,
   "metadata": {},
   "outputs": [
    {
     "data": {
      "text/plain": [
       "torch.Size([32, 512, 8, 8])"
      ]
     },
     "execution_count": 56,
     "metadata": {},
     "output_type": "execute_result"
    }
   ],
   "source": [
    "x_features2 = model.features2(x_features)\n",
    "x_features2.shape"
   ]
  },
  {
   "cell_type": "code",
   "execution_count": 57,
   "metadata": {},
   "outputs": [],
   "source": [
    "x_features2 = F.relu(x_features2)"
   ]
  },
  {
   "cell_type": "code",
   "execution_count": 58,
   "metadata": {},
   "outputs": [
    {
     "data": {
      "text/plain": [
       "torch.Size([32, 512, 1, 1])"
      ]
     },
     "execution_count": 58,
     "metadata": {},
     "output_type": "execute_result"
    }
   ],
   "source": [
    "# AdaptiveAvgPool2d would do a similar job if the input is [64, 512, 10, 20]\n",
    "# that is why this model will fit any input size\n",
    "x_features_ave = nn.AdaptiveAvgPool2d((1,1))(x_features2)\n",
    "x_features_ave.shape"
   ]
  },
  {
   "cell_type": "code",
   "execution_count": 59,
   "metadata": {},
   "outputs": [
    {
     "data": {
      "text/plain": [
       "torch.Size([32, 512])"
      ]
     },
     "execution_count": 59,
     "metadata": {},
     "output_type": "execute_result"
    }
   ],
   "source": [
    "x_features_flatten = x_features_ave.view(x_features_ave.shape[0], -1)\n",
    "x_features_flatten.shape"
   ]
  },
  {
   "cell_type": "code",
   "execution_count": 60,
   "metadata": {},
   "outputs": [
    {
     "data": {
      "text/plain": [
       "torch.Size([32, 1])"
      ]
     },
     "execution_count": 60,
     "metadata": {},
     "output_type": "execute_result"
    }
   ],
   "source": [
    "y_hat = model(x)\n",
    "y_hat.shape"
   ]
  },
  {
   "cell_type": "code",
   "execution_count": 61,
   "metadata": {},
   "outputs": [
    {
     "data": {
      "text/plain": [
       "tensor(99.8518, device='cuda:0', grad_fn=<L1LossBackward>)"
      ]
     },
     "execution_count": 61,
     "metadata": {},
     "output_type": "execute_result"
    }
   ],
   "source": [
    "# L1Loss (MAE), see https://pytorch.org/docs/master/generated/torch.nn.L1Loss.html#torch.nn.L1Loss\n",
    "F.l1_loss(y_hat, y)"
   ]
  },
  {
   "cell_type": "code",
   "execution_count": 62,
   "metadata": {},
   "outputs": [
    {
     "data": {
      "text/plain": [
       "torch.Size([32, 1])"
      ]
     },
     "execution_count": 62,
     "metadata": {},
     "output_type": "execute_result"
    }
   ],
   "source": [
    "y.shape"
   ]
  },
  {
   "cell_type": "code",
   "execution_count": 63,
   "metadata": {},
   "outputs": [],
   "source": [
    "# freeze parameters in layers 0 to 5\n",
    "#for param in model.features1.parameters():\n",
    "#    param.requires_grad = False\n",
    "#    \n",
    "#for param in model.parameters():\n",
    "#    print(param.requires_grad)"
   ]
  },
  {
   "cell_type": "code",
   "execution_count": 64,
   "metadata": {},
   "outputs": [],
   "source": [
    "del y_hat\n",
    "del x_features_flatten\n",
    "del x_features_ave\n",
    "del x_features2\n",
    "del x_features"
   ]
  },
  {
   "cell_type": "code",
   "execution_count": 65,
   "metadata": {},
   "outputs": [],
   "source": [
    "torch.cuda.empty_cache()"
   ]
  },
  {
   "cell_type": "code",
   "execution_count": 66,
   "metadata": {},
   "outputs": [],
   "source": [
    "def show_gpu_mem():\n",
    "    mma=torch.cuda.max_memory_allocated()/1024/1024 # obsolets torch.cuda.max_memory_cached()\n",
    "    ma=torch.cuda.memory_allocated()/1024/1024\n",
    "    mmr=torch.cuda.max_memory_reserved()/1024/1024\n",
    "    mr=torch.cuda.memory_reserved()/1024/1024\n",
    "    print(f\"max. memory alloc.={mma:3.1f}\\nmemory alloc.={ma:3.1f}\\nmax. memory reserv.={mmr:3.1f}\\nmemory reserv.={mr:3.1f}\")"
   ]
  },
  {
   "cell_type": "code",
   "execution_count": 67,
   "metadata": {},
   "outputs": [
    {
     "name": "stdout",
     "output_type": "stream",
     "text": [
      "max. memory alloc.=1842.9\n",
      "memory alloc.=933.4\n",
      "max. memory reserv.=1856.0\n",
      "memory reserv.=1024.0\n"
     ]
    }
   ],
   "source": [
    "show_gpu_mem()"
   ]
  },
  {
   "cell_type": "markdown",
   "metadata": {},
   "source": [
    "## Checking Loss function\n",
    "Let's write the loss function from scratch in numpy to check the pytorch function."
   ]
  },
  {
   "cell_type": "markdown",
   "metadata": {},
   "source": [
    "## Learning rate finder"
   ]
  },
  {
   "cell_type": "markdown",
   "metadata": {},
   "source": [
    "From this paper https://arxiv.org/pdf/1506.01186.pdf. This an implementation of the \"LR range test\". Run your model for several epochs while letting the learning rate increase linearly between low and high LR values. Next, plot the loss versus learning rate. Note the learning rate value when the loss starts to decrease and when the loss slows, becomes ragged, or increases. In the example below the range seem to be from 1e-5 to 0.012."
   ]
  },
  {
   "cell_type": "code",
   "execution_count": 68,
   "metadata": {},
   "outputs": [],
   "source": [
    "def create_optimizer(model, lr0):\n",
    "    params = [{'params': model.features1.parameters(), 'lr': lr0/9},\n",
    "              {'params': model.features2.parameters(), 'lr': lr0/3},\n",
    "              {'params': model.classifier.parameters(), 'lr': lr0}]\n",
    "    #for param in model.parameters():\n",
    "    #    print(param.requires_grad)\n",
    "    return optim.Adam(params, weight_decay=1e-5)\n",
    "    #return optim.Adam(params, weight_decay=0)\n",
    "    #return optim.Adam(filter(lambda p: p.requires_grad, model.parameters()), weight_decay=1e-5)\n",
    "\n",
    "    \n",
    "def update_optimizer(optimizer, group_lrs):\n",
    "    for i, param_group in enumerate(optimizer.param_groups):\n",
    "        param_group[\"lr\"] = group_lrs[i]"
   ]
  },
  {
   "cell_type": "code",
   "execution_count": 69,
   "metadata": {},
   "outputs": [],
   "source": [
    "def save_model(m, p): torch.save(m.state_dict(), p)\n",
    "    \n",
    "def load_model(m, p): m.load_state_dict(torch.load(p))\n",
    "\n",
    "\n",
    "def LR_range_finder(model, train_dl, lr_low=1e-4, lr_high=0.01, epochs=3):\n",
    "    losses = []\n",
    "    p = PATH/\"mode_tmp.pth\"\n",
    "    save_model(model, str(p))\n",
    "    iterations = epochs * len(train_dl)\n",
    "    delta = (lr_high - lr_low)/iterations\n",
    "    print(f\"train size: {len(train_dl)}, no. iter: {iterations}, lr_high - lr_low: {lr_high - lr_low}, delta: {delta:.3e}\")\n",
    "    lrs = [lr_low + i*delta for i in range(iterations)]\n",
    "    model.train()\n",
    "    optimizer = create_optimizer(model, lrs[0])\n",
    "    ind = 0\n",
    "    for i in range(epochs):\n",
    "        for x, y, _ in train_dl:\n",
    "            lr = lrs[ind]\n",
    "            # print(f\"lr: {lr}\")\n",
    "            update_optimizer(optimizer, [lr/9, lr/3, lr])\n",
    "            x = x.cuda().float()\n",
    "            y = y.cuda().float()\n",
    "            out = model(x)\n",
    "            loss = F.l1_loss(out, y)\n",
    "            optimizer.zero_grad()\n",
    "            loss.backward()\n",
    "            optimizer.step()\n",
    "            losses.append(loss.item())\n",
    "            ind +=1\n",
    "            \n",
    "    load_model(model, str(p))\n",
    "    return lrs, losses    "
   ]
  },
  {
   "cell_type": "code",
   "execution_count": 70,
   "metadata": {},
   "outputs": [
    {
     "name": "stdout",
     "output_type": "stream",
     "text": [
      "train size: 31, no. iter: 155, lr_high - lr_low: 0.99999, delta: 6.452e-03\n"
     ]
    }
   ],
   "source": [
    "# >>> create model >>>\n",
    "model = Net().cuda()\n",
    "# freeze parameters in layers 0 to 5\n",
    "#for param in model.features1.parameters():\n",
    "#    param.requires_grad = False\n",
    "\n",
    "lrs, losses = LR_range_finder(model, train_dl, lr_low=1e-5, lr_high=1.0, epochs=5)"
   ]
  },
  {
   "cell_type": "code",
   "execution_count": 71,
   "metadata": {},
   "outputs": [
    {
     "data": {
      "image/png": "[encoded data removed]",
      "text/plain": [
       "<Figure size 432x288 with 1 Axes>"
      ]
     },
     "metadata": {
      "needs_background": "light"
     },
     "output_type": "display_data"
    }
   ],
   "source": [
    "plt.plot(lrs, losses)\n",
    "plt.show()"
   ]
  },
  {
   "cell_type": "markdown",
   "metadata": {},
   "source": [
    "## Triangular learning rate training"
   ]
  },
  {
   "cell_type": "code",
   "execution_count": 72,
   "metadata": {},
   "outputs": [],
   "source": [
    "def cosine_segment(start_lr, end_lr, iterations):\n",
    "    i = np.arange(iterations)\n",
    "    c_i = 1 + np.cos(i*np.pi/iterations)\n",
    "    # print(f\"i: {i}, c_i: {c_i}, res: {end_lr + (start_lr - end_lr)/2 *c_i}\")\n",
    "    return end_lr + (start_lr - end_lr)/2 *c_i\n",
    "\n",
    "def get_cosine_triangular_lr(max_lr, iterations):\n",
    "    min_start, min_end = max_lr/25, max_lr/(25*1e4)\n",
    "    iter1 = int(0.3*iterations)\n",
    "    iter2 = iterations - iter1\n",
    "    print(f\"min_start: {min_start:.3e}, min_end: {min_end:.3e}, iter1: {iter1}, iter2: {iter2}\")\n",
    "    segs = [cosine_segment(min_start, max_lr, iter1), cosine_segment(max_lr, min_end, iter2)]\n",
    "    return np.concatenate(segs)"
   ]
  },
  {
   "cell_type": "code",
   "execution_count": 73,
   "metadata": {},
   "outputs": [
    {
     "name": "stdout",
     "output_type": "stream",
     "text": [
      "min_start: 1.200e-03, min_end: 1.200e-07, iter1: 600, iter2: 1400\n"
     ]
    },
    {
     "data": {
      "image/png": "[encoded data removed]",
      "text/plain": [
       "<Figure size 432x288 with 1 Axes>"
      ]
     },
     "metadata": {
      "needs_background": "light"
     },
     "output_type": "display_data"
    }
   ],
   "source": [
    "N = 2000\n",
    "lr = get_cosine_triangular_lr(0.03, N)\n",
    "plt.plot(list(range(N)), lr)\n",
    "plt.show()"
   ]
  },
  {
   "cell_type": "code",
   "execution_count": 74,
   "metadata": {},
   "outputs": [],
   "source": [
    "def train_one_epoch(model, optimizer, train_dl, lrs, idx):\n",
    "    model.train()\n",
    "    total = 0\n",
    "    sum_loss = 0\n",
    "    for x, y, _ in train_dl:\n",
    "        lr = lrs[idx]\n",
    "        # print(f\"lr: {lr}\")\n",
    "        update_optimizer(optimizer, [lr/9, lr/3, lr])\n",
    "        batch = y.shape[0]\n",
    "        x = x.cuda().float()\n",
    "        y = y.cuda().float()\n",
    "        out = model(x)\n",
    "        loss = F.l1_loss(out, y)\n",
    "        optimizer.zero_grad()\n",
    "        loss.backward()\n",
    "        optimizer.step()\n",
    "        idx += 1\n",
    "        total += batch\n",
    "        sum_loss += batch*(loss.item())\n",
    "    return sum_loss/total, idx"
   ]
  },
  {
   "cell_type": "code",
   "execution_count": 75,
   "metadata": {},
   "outputs": [],
   "source": [
    "def train_triangular_policy(model, train_dl, valid_dl, max_lr=0.04, epochs = 5):\n",
    "    idx = 0\n",
    "    iterations = epochs*len(train_dl)\n",
    "    lrs = get_cosine_triangular_lr(max_lr, iterations)\n",
    "    optimizer = create_optimizer(model, lrs[0])\n",
    "    prev_val_loss = 10000.0\n",
    "    for i in range(epochs):\n",
    "        train_loss, idx = train_one_epoch(model, optimizer, train_dl, lrs, idx)\n",
    "        val_loss = val_metrics(model, valid_dl)\n",
    "        print(\"train_loss %.3f val_loss %.3f\" % (train_loss, val_loss))\n",
    "        if val_loss < prev_val_loss: \n",
    "            prev_val_loss = val_loss\n",
    "            if val_loss < 1.0: # only save model file if val MAE < 1.0\n",
    "                path = \"{0}/models/model_resnet18_{1:.3f}.pth\".format(PATH, val_loss)\n",
    "                save_model(model, path)\n",
    "                print(path)"
   ]
  },
  {
   "cell_type": "code",
   "execution_count": 76,
   "metadata": {},
   "outputs": [],
   "source": [
    "# changed for regression\n",
    "def val_metrics(model, valid_dl):\n",
    "    model.eval()\n",
    "    total = 0\n",
    "    sum_loss = 0\n",
    "    with torch.no_grad():\n",
    "        for x, y, _ in valid_dl:\n",
    "            # x and y are tensors, x.shape is [64, 3, 256, 256] and y.shape is [64, 1]\n",
    "            batch = y.shape[0]\n",
    "            x = x.cuda().float()\n",
    "            y = y.cuda()\n",
    "            out = model(x) # out is a tensor with shape [64, 1]\n",
    "            y = y.float()\n",
    "            loss = F.l1_loss(out, y)\n",
    "            sum_loss += batch*(loss.item())\n",
    "            total += batch\n",
    "        return sum_loss/total"
   ]
  },
  {
   "cell_type": "markdown",
   "metadata": {},
   "source": [
    "## Training with triangular rates"
   ]
  },
  {
   "cell_type": "code",
   "execution_count": 77,
   "metadata": {},
   "outputs": [],
   "source": [
    "train_dl = DataLoader(train_ds, batch_size=BATCH_SIZE, shuffle=True)\n",
    "valid_dl = DataLoader(valid_ds, batch_size=BATCH_SIZE)"
   ]
  },
  {
   "cell_type": "code",
   "execution_count": 78,
   "metadata": {},
   "outputs": [],
   "source": [
    "model = Net().cuda()"
   ]
  },
  {
   "cell_type": "code",
   "execution_count": 80,
   "metadata": {},
   "outputs": [
    {
     "data": {
      "text/plain": [
       "98.90097076294431"
      ]
     },
     "execution_count": 80,
     "metadata": {},
     "output_type": "execute_result"
    }
   ],
   "source": [
    "val_metrics(model, valid_dl)"
   ]
  },
  {
   "cell_type": "code",
   "execution_count": 81,
   "metadata": {},
   "outputs": [],
   "source": [
    "MAX_LR = 0.03"
   ]
  },
  {
   "cell_type": "code",
   "execution_count": 82,
   "metadata": {},
   "outputs": [
    {
     "name": "stdout",
     "output_type": "stream",
     "text": [
      "min_start: 1.200e-03, min_end: 1.200e-07, iter1: 46, iter2: 109\n",
      "train_loss 90.875 val_loss 29.951\n",
      "train_loss 14.246 val_loss 257.513\n",
      "train_loss 4.480 val_loss 3.245\n",
      "train_loss 2.915 val_loss 2.422\n",
      "train_loss 2.502 val_loss 2.250\n"
     ]
    }
   ],
   "source": [
    "# create models directory under /home/pablo/datasets/data/invasive-species-monitoring/ first time\n",
    "# same for /home/pablo/datasets/data/radioterapia/ciolaplata/models/\n",
    "model = Net().cuda()\n",
    "# freeze parameters in layers 0 to 5\n",
    "#for param in model.features1.parameters():\n",
    "#    param.requires_grad = False\n",
    "train_triangular_policy(model, train_dl, valid_dl, max_lr=MAX_LR, epochs = 5)"
   ]
  },
  {
   "cell_type": "code",
   "execution_count": 83,
   "metadata": {},
   "outputs": [
    {
     "name": "stdout",
     "output_type": "stream",
     "text": [
      "min_start: 1.200e-03, min_end: 1.200e-07, iter1: 93, iter2: 217\n",
      "train_loss 98.101 val_loss 79.031\n",
      "train_loss 40.769 val_loss 3967.540\n",
      "train_loss 6.115 val_loss 20.512\n",
      "train_loss 2.997 val_loss 2.225\n",
      "train_loss 2.109 val_loss 1.754\n",
      "train_loss 1.577 val_loss 1.068\n",
      "train_loss 1.228 val_loss 1.092\n",
      "train_loss 1.021 val_loss 0.841\n",
      "/home/pablo/datasets/data/radioterapia/ciolaplata/models/model_resnet18_0.841.pth\n",
      "train_loss 0.813 val_loss 0.662\n",
      "/home/pablo/datasets/data/radioterapia/ciolaplata/models/model_resnet18_0.662.pth\n",
      "train_loss 0.722 val_loss 0.674\n"
     ]
    }
   ],
   "source": [
    "model = Net().cuda()\n",
    "\n",
    "# freeze parameters in layers 0 to 5\n",
    "#for param in model.features1.parameters():\n",
    "#    param.requires_grad = True\n",
    "\n",
    "#for param in model.features2.parameters():\n",
    "#    param.requires_grad = True\n",
    "    \n",
    "train_triangular_policy(model, train_dl, valid_dl, max_lr=MAX_LR, epochs = 10)"
   ]
  },
  {
   "cell_type": "code",
   "execution_count": 84,
   "metadata": {},
   "outputs": [
    {
     "name": "stdout",
     "output_type": "stream",
     "text": [
      "min_start: 1.200e-03, min_end: 1.200e-07, iter1: 186, iter2: 434\n",
      "train_loss 99.055 val_loss 98.925\n",
      "train_loss 82.551 val_loss 39.885\n",
      "train_loss 15.080 val_loss 514.628\n",
      "train_loss 5.341 val_loss 3.061\n",
      "train_loss 3.260 val_loss 2.770\n",
      "train_loss 2.234 val_loss 1.435\n",
      "train_loss 1.757 val_loss 1.546\n",
      "train_loss 1.416 val_loss 0.726\n",
      "/home/pablo/datasets/data/radioterapia/ciolaplata/models/model_resnet18_0.726.pth\n",
      "train_loss 1.410 val_loss 1.464\n",
      "train_loss 1.183 val_loss 1.129\n",
      "train_loss 0.693 val_loss 0.670\n",
      "/home/pablo/datasets/data/radioterapia/ciolaplata/models/model_resnet18_0.670.pth\n",
      "train_loss 0.807 val_loss 1.250\n",
      "train_loss 0.718 val_loss 0.513\n",
      "/home/pablo/datasets/data/radioterapia/ciolaplata/models/model_resnet18_0.513.pth\n",
      "train_loss 0.568 val_loss 0.433\n",
      "/home/pablo/datasets/data/radioterapia/ciolaplata/models/model_resnet18_0.433.pth\n",
      "train_loss 0.439 val_loss 0.545\n",
      "train_loss 0.410 val_loss 0.307\n",
      "/home/pablo/datasets/data/radioterapia/ciolaplata/models/model_resnet18_0.307.pth\n",
      "train_loss 0.367 val_loss 0.301\n",
      "/home/pablo/datasets/data/radioterapia/ciolaplata/models/model_resnet18_0.301.pth\n",
      "train_loss 0.324 val_loss 0.260\n",
      "/home/pablo/datasets/data/radioterapia/ciolaplata/models/model_resnet18_0.260.pth\n",
      "train_loss 0.295 val_loss 0.246\n",
      "/home/pablo/datasets/data/radioterapia/ciolaplata/models/model_resnet18_0.246.pth\n",
      "train_loss 0.294 val_loss 0.264\n"
     ]
    }
   ],
   "source": [
    "model = Net().cuda()\n",
    "train_triangular_policy(model, train_dl, valid_dl, max_lr=MAX_LR, epochs = 20)"
   ]
  },
  {
   "cell_type": "code",
   "execution_count": 85,
   "metadata": {},
   "outputs": [
    {
     "name": "stdout",
     "output_type": "stream",
     "text": [
      "min_start: 1.200e-03, min_end: 1.200e-07, iter1: 465, iter2: 1085\n",
      "train_loss 99.309 val_loss 96.657\n",
      "train_loss 95.483 val_loss 88.457\n",
      "train_loss 77.037 val_loss 47.619\n",
      "train_loss 22.231 val_loss 6778.277\n",
      "train_loss 5.453 val_loss 24.568\n",
      "train_loss 4.372 val_loss 6.217\n",
      "train_loss 3.850 val_loss 7.319\n",
      "train_loss 2.852 val_loss 2.647\n",
      "train_loss 2.421 val_loss 2.673\n",
      "train_loss 1.759 val_loss 47.604\n",
      "train_loss 1.338 val_loss 1.949\n",
      "train_loss 1.218 val_loss 0.844\n",
      "/home/pablo/datasets/data/radioterapia/ciolaplata/models/model_resnet18_0.844.pth\n",
      "train_loss 0.945 val_loss 0.648\n",
      "/home/pablo/datasets/data/radioterapia/ciolaplata/models/model_resnet18_0.648.pth\n",
      "train_loss 1.044 val_loss 0.743\n",
      "train_loss 0.930 val_loss 0.612\n",
      "/home/pablo/datasets/data/radioterapia/ciolaplata/models/model_resnet18_0.612.pth\n",
      "train_loss 0.997 val_loss 2.198\n",
      "train_loss 1.161 val_loss 0.596\n",
      "/home/pablo/datasets/data/radioterapia/ciolaplata/models/model_resnet18_0.596.pth\n",
      "train_loss 1.778 val_loss 0.821\n",
      "train_loss 1.267 val_loss 0.602\n",
      "train_loss 0.995 val_loss 0.934\n",
      "train_loss 1.071 val_loss 1.086\n",
      "train_loss 1.179 val_loss 1.408\n",
      "train_loss 1.195 val_loss 0.713\n",
      "train_loss 0.761 val_loss 0.513\n",
      "/home/pablo/datasets/data/radioterapia/ciolaplata/models/model_resnet18_0.513.pth\n",
      "train_loss 0.801 val_loss 0.656\n",
      "train_loss 0.637 val_loss 0.915\n",
      "train_loss 0.614 val_loss 0.651\n",
      "train_loss 0.552 val_loss 0.850\n",
      "train_loss 0.807 val_loss 0.388\n",
      "/home/pablo/datasets/data/radioterapia/ciolaplata/models/model_resnet18_0.388.pth\n",
      "train_loss 0.623 val_loss 0.638\n",
      "train_loss 0.606 val_loss 0.391\n",
      "train_loss 0.605 val_loss 0.840\n",
      "train_loss 0.477 val_loss 0.530\n",
      "train_loss 0.523 val_loss 0.418\n",
      "train_loss 0.417 val_loss 0.477\n",
      "train_loss 0.414 val_loss 0.341\n",
      "/home/pablo/datasets/data/radioterapia/ciolaplata/models/model_resnet18_0.341.pth\n",
      "train_loss 0.401 val_loss 0.339\n",
      "/home/pablo/datasets/data/radioterapia/ciolaplata/models/model_resnet18_0.339.pth\n",
      "train_loss 0.333 val_loss 0.343\n",
      "train_loss 0.337 val_loss 0.336\n",
      "/home/pablo/datasets/data/radioterapia/ciolaplata/models/model_resnet18_0.336.pth\n",
      "train_loss 0.343 val_loss 0.267\n",
      "/home/pablo/datasets/data/radioterapia/ciolaplata/models/model_resnet18_0.267.pth\n",
      "train_loss 0.317 val_loss 0.246\n",
      "/home/pablo/datasets/data/radioterapia/ciolaplata/models/model_resnet18_0.246.pth\n",
      "train_loss 0.294 val_loss 0.300\n",
      "train_loss 0.279 val_loss 0.258\n",
      "train_loss 0.276 val_loss 0.251\n",
      "train_loss 0.263 val_loss 0.230\n",
      "/home/pablo/datasets/data/radioterapia/ciolaplata/models/model_resnet18_0.230.pth\n",
      "train_loss 0.257 val_loss 0.239\n",
      "train_loss 0.247 val_loss 0.241\n",
      "train_loss 0.245 val_loss 0.224\n",
      "/home/pablo/datasets/data/radioterapia/ciolaplata/models/model_resnet18_0.224.pth\n",
      "train_loss 0.234 val_loss 0.217\n",
      "/home/pablo/datasets/data/radioterapia/ciolaplata/models/model_resnet18_0.217.pth\n",
      "train_loss 0.235 val_loss 0.222\n"
     ]
    }
   ],
   "source": [
    "model = Net().cuda()\n",
    "train_triangular_policy(model, train_dl, valid_dl, max_lr=MAX_LR, epochs = 50)"
   ]
  },
  {
   "cell_type": "code",
   "execution_count": 86,
   "metadata": {},
   "outputs": [
    {
     "name": "stdout",
     "output_type": "stream",
     "text": [
      "max. memory alloc.=2065.1\n",
      "memory alloc.=1025.7\n",
      "max. memory reserv.=2330.0\n",
      "memory reserv.=2330.0\n"
     ]
    }
   ],
   "source": [
    "show_gpu_mem()"
   ]
  },
  {
   "cell_type": "markdown",
   "metadata": {},
   "source": [
    "## Load a model"
   ]
  },
  {
   "cell_type": "code",
   "execution_count": 87,
   "metadata": {},
   "outputs": [],
   "source": [
    "def get_predictions_df(model, valid_dl):\n",
    "    model.eval()\n",
    "    pred = []\n",
    "    with torch.no_grad():\n",
    "        for x, y, file in valid_dl:\n",
    "            # x and y are tensors, x.shape is [BATCH_SIZE, 3, 256, 256] and y.shape is [BATCH_SIZE, 1]\n",
    "            x = x.cuda().float()\n",
    "            y = y.cuda().float()\n",
    "            out = model(x) # out is a tensor with shape [BATCH_SIZE, 1]\n",
    "            # a.cpu().numpy() == float(a.cpu().numpy())\n",
    "            batch_pred = [(Path(f).name, a.cpu().item(), b.cpu().item()) for f, a, b in zip(file, y, out)]\n",
    "            pred = pred + batch_pred\n",
    "    # build a pandas dataframe with results\n",
    "    df = pd.DataFrame(pred, columns=['filename', 'actual gamma', 'predicted gamma'])\n",
    "    return df"
   ]
  },
  {
   "cell_type": "code",
   "execution_count": 88,
   "metadata": {},
   "outputs": [],
   "source": [
    "def save_model(m, p): torch.save(m.state_dict(), p)\n",
    "    \n",
    "def load_model(m, p): m.load_state_dict(torch.load(p))"
   ]
  },
  {
   "cell_type": "code",
   "execution_count": 90,
   "metadata": {},
   "outputs": [
    {
     "data": {
      "text/plain": [
       "PosixPath('/home/pablo/datasets/data/radioterapia/ciolaplata/models/model_resnet18_0.217.pth')"
      ]
     },
     "execution_count": 90,
     "metadata": {},
     "output_type": "execute_result"
    }
   ],
   "source": [
    "# load model\n",
    "mae = 0.217\n",
    "model = Net().cuda()\n",
    "p = PATH/\"models/model_resnet18_{0:.3f}.pth\".format(mae)\n",
    "load_model(model, p)\n",
    "p"
   ]
  },
  {
   "cell_type": "code",
   "execution_count": 140,
   "metadata": {},
   "outputs": [],
   "source": [
    "def display_scatterplot(part, y, y_hat):\n",
    "    # mean average error\n",
    "    mae = mean_absolute_error(y, y_hat)\n",
    "    print('MAE on %s = %.3f' % (part, mae))\n",
    "\n",
    "    # correlación entre predichos y observados\n",
    "    corr = np.corrcoef(y, y_hat)[0,1]\n",
    "    print('\\nCorr. actual vs predicted = %.3f' % corr)\n",
    "\n",
    "    # plot calculados vs. predichos (targets)\n",
    "    fig_dims = (8, 8)\n",
    "    fig, ax = plt.subplots(figsize=fig_dims)\n",
    "    plt.title('Actual vs. Predicted (%s)' % part)\n",
    "    plt.gca().set_aspect('equal')\n",
    "    sns.scatterplot(y, y_hat, marker='o', ax=ax)\n",
    "    ax.set(xlabel=\"Actual\", ylabel = \"Predicted\")\n",
    "    plt.figure(figsize=(15, 15))\n",
    "    minimum = int(np.min([y.min(), y_hat.min()]))\n",
    "    ax.set_xlim([minimum, 100])\n",
    "    ax.set_ylim([minimum, 100])\n",
    "    ax.plot([minimum, 100], [minimum, 100], ls=\"--\", c=\".7\")\n",
    "    plt.show()"
   ]
  },
  {
   "cell_type": "markdown",
   "metadata": {},
   "source": [
    "### Predictions in Validation"
   ]
  },
  {
   "cell_type": "code",
   "execution_count": 141,
   "metadata": {},
   "outputs": [
    {
     "data": {
      "text/plain": [
       "0.20717760724612916"
      ]
     },
     "execution_count": 141,
     "metadata": {},
     "output_type": "execute_result"
    }
   ],
   "source": [
    "val_metrics(model, valid_dl)"
   ]
  },
  {
   "cell_type": "code",
   "execution_count": 142,
   "metadata": {},
   "outputs": [
    {
     "data": {
      "text/html": [
       "<div>\n",
       "<style scoped>\n",
       "    .dataframe tbody tr th:only-of-type {\n",
       "        vertical-align: middle;\n",
       "    }\n",
       "\n",
       "    .dataframe tbody tr th {\n",
       "        vertical-align: top;\n",
       "    }\n",
       "\n",
       "    .dataframe thead th {\n",
       "        text-align: right;\n",
       "    }\n",
       "</style>\n",
       "<table border=\"1\" class=\"dataframe\">\n",
       "  <thead>\n",
       "    <tr style=\"text-align: right;\">\n",
       "      <th></th>\n",
       "      <th>filename</th>\n",
       "      <th>actual gamma</th>\n",
       "      <th>predicted gamma</th>\n",
       "    </tr>\n",
       "  </thead>\n",
       "  <tbody>\n",
       "    <tr>\n",
       "      <th>0</th>\n",
       "      <td>1.3.6.1.4.1.9590.100.1.2.189485955411711008602...</td>\n",
       "      <td>99.995056</td>\n",
       "      <td>99.977234</td>\n",
       "    </tr>\n",
       "    <tr>\n",
       "      <th>1</th>\n",
       "      <td>1.3.6.1.4.1.9590.100.1.2.342904273911118122739...</td>\n",
       "      <td>99.366333</td>\n",
       "      <td>99.965858</td>\n",
       "    </tr>\n",
       "    <tr>\n",
       "      <th>2</th>\n",
       "      <td>1.3.6.1.4.1.9590.100.1.2.398319425110646636400...</td>\n",
       "      <td>99.631798</td>\n",
       "      <td>99.913368</td>\n",
       "    </tr>\n",
       "    <tr>\n",
       "      <th>3</th>\n",
       "      <td>1.3.6.1.4.1.9590.100.1.2.121144172813816296236...</td>\n",
       "      <td>99.824692</td>\n",
       "      <td>99.849808</td>\n",
       "    </tr>\n",
       "    <tr>\n",
       "      <th>4</th>\n",
       "      <td>1.3.6.1.4.1.9590.100.1.2.302383480412871360932...</td>\n",
       "      <td>99.972778</td>\n",
       "      <td>99.799026</td>\n",
       "    </tr>\n",
       "  </tbody>\n",
       "</table>\n",
       "</div>"
      ],
      "text/plain": [
       "                                            filename  actual gamma  \\\n",
       "0  1.3.6.1.4.1.9590.100.1.2.189485955411711008602...     99.995056   \n",
       "1  1.3.6.1.4.1.9590.100.1.2.342904273911118122739...     99.366333   \n",
       "2  1.3.6.1.4.1.9590.100.1.2.398319425110646636400...     99.631798   \n",
       "3  1.3.6.1.4.1.9590.100.1.2.121144172813816296236...     99.824692   \n",
       "4  1.3.6.1.4.1.9590.100.1.2.302383480412871360932...     99.972778   \n",
       "\n",
       "   predicted gamma  \n",
       "0        99.977234  \n",
       "1        99.965858  \n",
       "2        99.913368  \n",
       "3        99.849808  \n",
       "4        99.799026  "
      ]
     },
     "execution_count": 142,
     "metadata": {},
     "output_type": "execute_result"
    }
   ],
   "source": [
    "df = get_predictions_df(model, valid_dl)\n",
    "df.head()"
   ]
  },
  {
   "cell_type": "code",
   "execution_count": 143,
   "metadata": {},
   "outputs": [
    {
     "data": {
      "text/plain": [
       "PosixPath('/home/pablo/datasets/data/radioterapia/ciolaplata/predictions/model_resnet18_0.217_validation.csv')"
      ]
     },
     "execution_count": 143,
     "metadata": {},
     "output_type": "execute_result"
    }
   ],
   "source": [
    "p = PATH/\"predictions/model_resnet18_{0:.3f}_{1}.csv\".format(mae, 'validation')\n",
    "df.to_csv(p, index=False)\n",
    "p"
   ]
  },
  {
   "cell_type": "code",
   "execution_count": 144,
   "metadata": {},
   "outputs": [
    {
     "name": "stdout",
     "output_type": "stream",
     "text": [
      "MAE on Validation = 0.215\n",
      "\n",
      "Corr. actual vs predicted = 0.085\n"
     ]
    },
    {
     "data": {
      "image/png": "[encoded data removed]",
      "text/plain": [
       "<Figure size 576x576 with 1 Axes>"
      ]
     },
     "metadata": {
      "needs_background": "light"
     },
     "output_type": "display_data"
    },
    {
     "data": {
      "text/plain": [
       "<Figure size 1080x1080 with 0 Axes>"
      ]
     },
     "metadata": {},
     "output_type": "display_data"
    }
   ],
   "source": [
    "y = df['actual gamma']\n",
    "y_hat = df['predicted gamma']\n",
    "display_scatterplot('Validation', y, y_hat)"
   ]
  },
  {
   "cell_type": "markdown",
   "metadata": {},
   "source": [
    "### Predictions in Training"
   ]
  },
  {
   "cell_type": "code",
   "execution_count": 145,
   "metadata": {},
   "outputs": [
    {
     "data": {
      "text/plain": [
       "0.2391360939526167"
      ]
     },
     "execution_count": 145,
     "metadata": {},
     "output_type": "execute_result"
    }
   ],
   "source": [
    "val_metrics(model, train_dl)"
   ]
  },
  {
   "cell_type": "code",
   "execution_count": 146,
   "metadata": {},
   "outputs": [
    {
     "data": {
      "text/html": [
       "<div>\n",
       "<style scoped>\n",
       "    .dataframe tbody tr th:only-of-type {\n",
       "        vertical-align: middle;\n",
       "    }\n",
       "\n",
       "    .dataframe tbody tr th {\n",
       "        vertical-align: top;\n",
       "    }\n",
       "\n",
       "    .dataframe thead th {\n",
       "        text-align: right;\n",
       "    }\n",
       "</style>\n",
       "<table border=\"1\" class=\"dataframe\">\n",
       "  <thead>\n",
       "    <tr style=\"text-align: right;\">\n",
       "      <th></th>\n",
       "      <th>filename</th>\n",
       "      <th>actual gamma</th>\n",
       "      <th>predicted gamma</th>\n",
       "    </tr>\n",
       "  </thead>\n",
       "  <tbody>\n",
       "    <tr>\n",
       "      <th>0</th>\n",
       "      <td>1.3.6.1.4.1.9590.100.1.2.386447461912451503732...</td>\n",
       "      <td>99.502823</td>\n",
       "      <td>97.684540</td>\n",
       "    </tr>\n",
       "    <tr>\n",
       "      <th>1</th>\n",
       "      <td>1.3.6.1.4.1.9590.100.1.2.346177662512588130220...</td>\n",
       "      <td>99.959961</td>\n",
       "      <td>99.854874</td>\n",
       "    </tr>\n",
       "    <tr>\n",
       "      <th>2</th>\n",
       "      <td>1.3.6.1.4.1.9590.100.1.2.339179471612021056729...</td>\n",
       "      <td>99.941917</td>\n",
       "      <td>99.871429</td>\n",
       "    </tr>\n",
       "    <tr>\n",
       "      <th>3</th>\n",
       "      <td>1.3.6.1.4.1.9590.100.1.2.395439361311732488718...</td>\n",
       "      <td>99.981216</td>\n",
       "      <td>99.805115</td>\n",
       "    </tr>\n",
       "    <tr>\n",
       "      <th>4</th>\n",
       "      <td>1.3.6.1.4.1.9590.100.1.2.255052206611700788638...</td>\n",
       "      <td>99.926895</td>\n",
       "      <td>99.955627</td>\n",
       "    </tr>\n",
       "  </tbody>\n",
       "</table>\n",
       "</div>"
      ],
      "text/plain": [
       "                                            filename  actual gamma  \\\n",
       "0  1.3.6.1.4.1.9590.100.1.2.386447461912451503732...     99.502823   \n",
       "1  1.3.6.1.4.1.9590.100.1.2.346177662512588130220...     99.959961   \n",
       "2  1.3.6.1.4.1.9590.100.1.2.339179471612021056729...     99.941917   \n",
       "3  1.3.6.1.4.1.9590.100.1.2.395439361311732488718...     99.981216   \n",
       "4  1.3.6.1.4.1.9590.100.1.2.255052206611700788638...     99.926895   \n",
       "\n",
       "   predicted gamma  \n",
       "0        97.684540  \n",
       "1        99.854874  \n",
       "2        99.871429  \n",
       "3        99.805115  \n",
       "4        99.955627  "
      ]
     },
     "execution_count": 146,
     "metadata": {},
     "output_type": "execute_result"
    }
   ],
   "source": [
    "df = get_predictions_df(model, train_dl)            \n",
    "df.head()"
   ]
  },
  {
   "cell_type": "code",
   "execution_count": 147,
   "metadata": {},
   "outputs": [
    {
     "data": {
      "text/plain": [
       "PosixPath('/home/pablo/datasets/data/radioterapia/ciolaplata/predictions/model_resnet18_0.217_training.csv')"
      ]
     },
     "execution_count": 147,
     "metadata": {},
     "output_type": "execute_result"
    }
   ],
   "source": [
    "p = PATH/\"predictions/model_resnet18_{0:.3f}_{1}.csv\".format(mae, 'training')\n",
    "df.to_csv(p, index=False)\n",
    "p"
   ]
  },
  {
   "cell_type": "code",
   "execution_count": 148,
   "metadata": {},
   "outputs": [
    {
     "name": "stdout",
     "output_type": "stream",
     "text": [
      "MAE on Training = 0.236\n",
      "\n",
      "Corr. actual vs predicted = 0.149\n"
     ]
    },
    {
     "data": {
      "image/png": "[encoded data removed]",
      "text/plain": [
       "<Figure size 576x576 with 1 Axes>"
      ]
     },
     "metadata": {
      "needs_background": "light"
     },
     "output_type": "display_data"
    },
    {
     "data": {
      "text/plain": [
       "<Figure size 1080x1080 with 0 Axes>"
      ]
     },
     "metadata": {},
     "output_type": "display_data"
    }
   ],
   "source": [
    "y = df['actual gamma']\n",
    "y_hat = df['predicted gamma']\n",
    "display_scatterplot('Training', y, y_hat)"
   ]
  },
  {
   "cell_type": "markdown",
   "metadata": {},
   "source": [
    "## Testing time augmentation\n",
    "Testing time augmentation is a technique that uses data aumentation at test time to improve the test predictions. This usually helps but here our accuracy is too high.\n",
    "\n",
    "_Pablo: Since we are not doing data augmentation for fluence maps, then testing time augmentation neithe applies_"
   ]
  },
  {
   "cell_type": "markdown",
   "metadata": {},
   "source": [
    "## Lab\n",
    "Can you get better accuracy?\n",
    "* Change some of the hyperparameters (add dropout, increase the number of the hidden units)\n",
    "* Increase the image resolution\n",
    "* Modify the data augmentation to include other transformations"
   ]
  },
  {
   "cell_type": "markdown",
   "metadata": {},
   "source": [
    "# References\n",
    "This notebook is based on https://github.com/yanneta/deep-learning-data-institute/blob/master/lesson5-image-cnn.ipynb from course \"Fundamentals of Deep Learning with Pytorch\""
   ]
  }
 ],
 "metadata": {
  "kernelspec": {
   "display_name": "Python 3",
   "language": "python",
   "name": "python3"
  },
  "language_info": {
   "codemirror_mode": {
    "name": "ipython",
    "version": 3
   },
   "file_extension": ".py",
   "mimetype": "text/x-python",
   "name": "python",
   "nbconvert_exporter": "python",
   "pygments_lexer": "ipython3",
   "version": "3.8.5"
  },
  "toc": {
   "nav_menu": {},
   "number_sections": true,
   "sideBar": true,
   "skip_h1_title": false,
   "toc_cell": false,
   "toc_position": {},
   "toc_section_display": "block",
   "toc_window_display": false
  }
 },
 "nbformat": 4,
 "nbformat_minor": 2
}
