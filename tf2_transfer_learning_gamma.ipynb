{
 "cells": [
  {
   "cell_type": "markdown",
   "metadata": {
    "colab_type": "text",
    "id": "view-in-github"
   },
   "source": [
    "<a href=\"https://colab.research.google.com/github/pablojrios/fluence_maps/blob/master/tf2_transfer_learning_gamma.ipynb\" target=\"_parent\"><img src=\"https://colab.research.google.com/assets/colab-badge.svg\" alt=\"Open In Colab\"/></a>"
   ]
  },
  {
   "cell_type": "markdown",
   "metadata": {
    "id": "hRTa3Ee15WsJ"
   },
   "source": [
    "# Transfer learning with a pretrained ConvNet"
   ]
  },
  {
   "cell_type": "code",
   "execution_count": 1,
   "metadata": {
    "id": "wRK8ctZQIEuc"
   },
   "outputs": [],
   "source": [
    "def isGoogleColab():\n",
    "    # 'ipykernel.zmqshell' runs in our server\n",
    "    # 'google.colab._shell' runs in Google Colab\n",
    "    return get_ipython().__class__.__module__ == 'google.colab._shell'\n",
    "\n",
    "#import sys\n",
    "#import IPython\n",
    "\n",
    "#if 'ipykernel' in sys.modules:\n",
    "#    ip = sys.modules['ipykernel']\n",
    "#    ip_version = ip.version_info\n",
    "#    ip_client = ip.write_connection_file.__module__.split('.')[0]\n",
    "\n",
    "#ip_version, ip_client\n",
    "\n",
    "#ip_version = IPython.utils.sysinfo.get_sys_info()['ipython_version']\n",
    "#ip_version\n",
    "\n",
    "#if 'IPython' in sys.modules:\n",
    "#    ip = sys.modules['IPython']\n",
    "#    ip_version = ip.version_info\n",
    "#    print(ip_version)"
   ]
  },
  {
   "cell_type": "code",
   "execution_count": 2,
   "metadata": {
    "id": "iBMcobPHdD8O"
   },
   "outputs": [],
   "source": [
    "from __future__ import absolute_import, division, print_function, unicode_literals\n",
    "import os\n",
    "import numpy as np\n",
    "import matplotlib.pyplot as plt\n",
    "from datetime import datetime\n",
    "import time\n",
    "from random import shuffle, randrange\n",
    "import random\n",
    "import tensorflow_addons as tfa\n",
    "from enum import Enum"
   ]
  },
  {
   "cell_type": "code",
   "execution_count": 3,
   "metadata": {
    "id": "TqOt6Sv7AsMi"
   },
   "outputs": [
    {
     "name": "stdout",
     "output_type": "stream",
     "text": [
      "Tensorflow version = 2.2.0, addons version = 0.10.0\n",
      "Executing eagerly = True\n",
      "OpenCV version = 3.4.2\n"
     ]
    },
    {
     "data": {
      "text/plain": [
       "'06/02/2021 21:26:01'"
      ]
     },
     "execution_count": 3,
     "metadata": {},
     "output_type": "execute_result"
    }
   ],
   "source": [
    "import tensorflow as tf\n",
    "print('Tensorflow version = {}, addons version = {}'.format(tf.__version__, tfa.__version__))\n",
    "print('Executing eagerly = {}'.format(tf.executing_eagerly()))\n",
    "keras = tf.keras\n",
    "\n",
    "import cv2 # to perform data augmentation\n",
    "print('OpenCV version = {}'.format(cv2.__version__))\n",
    "\n",
    "datetime.now().strftime(\"%d/%m/%Y %H:%M:%S\")"
   ]
  },
  {
   "cell_type": "code",
   "execution_count": 4,
   "metadata": {
    "id": "q50x39yF5BPt"
   },
   "outputs": [],
   "source": [
    "%reload_ext autoreload\n",
    "%autoreload 2\n",
    "%matplotlib inline\n",
    "\n",
    "if isGoogleColab():\n",
    "    %cd '/content'\n",
    "    if os.path.exists('fluence_maps'):\n",
    "      !rm -fr fluence_maps\n",
    "\n",
    "    ## Install required dependencies\n",
    "    !pip install -q pydicom\n",
    "    ## to support ResNet18 and ResNet34\n",
    "    !pip install image-classifiers\n",
    "    ## https://github.com/tensorflow/addons/issues/2251\n",
    "    !pip install -U tensorflow-addons\n",
    "\n",
    "    GIT_USERNAME = \"pablojrios\"\n",
    "    GIT_TOKEN = \"1d88a0b85d2b00a03796e4d8b7e5f7b249b12f9b\"\n",
    "    !git clone -s https://{GIT_TOKEN}@github.com/{GIT_USERNAME}/fluence_maps.git\n",
    "\n",
    "    from google.colab import drive\n",
    "    drive.mount('/content/drive')\n",
    "    \n",
    "    %cd -q '/content/fluence_maps'\n",
    "    \n",
    "    ARG_DATASET_DIR='/content/drive/My Drive/Healthcare/Radioterapia/data/ciolaplata'"
   ]
  },
  {
   "cell_type": "code",
   "execution_count": 5,
   "metadata": {
    "id": "LhWAVjltIJWh"
   },
   "outputs": [],
   "source": [
    "# To support ResNet18 and ResNet34 for tensorflow.keras\n",
    "from classification_models.tfkeras import Classifiers\n",
    "from util.preprocess import rescale_0_to_1"
   ]
  },
  {
   "cell_type": "code",
   "execution_count": 6,
   "metadata": {},
   "outputs": [],
   "source": [
    "class CNN(Enum):\n",
    "        vgg16 = 1\n",
    "        resnet18 = 2\n",
    "        resnet34 = 3\n",
    "        mobilenetV2 = 4"
   ]
  },
  {
   "cell_type": "code",
   "execution_count": 7,
   "metadata": {
    "id": "uFuIiQp2zVUF"
   },
   "outputs": [],
   "source": [
    "# ===============================================DEFINE YOUR ARGUMENTS=================================================\n",
    "if not isGoogleColab():\n",
    "    ARG_DATASET_DIR='/hdd/data/radioterapia/ciolaplata'\n",
    "# folder under ARG_DATASET_DIR path.\n",
    "ARG_RANDOM_SEED = 23456\n",
    "# ARG_TFDATASET_FOLDER=f'tfds.2018-2019.localnorm.DS10%.{ARG_RANDOM_SEED}.fold0'\n",
    "ARG_TFDATASET_FOLDER=f'tfds.2019-2017.localnorm.DS10%.{ARG_RANDOM_SEED}.fold1'\n",
    "# if False only training and validation partition are created.\n",
    "ARG_TEST_PARTITION=False\n",
    "ARG_NETWORK=CNN.mobilenetV2\n",
    "ARG_RESNET_USE_BN=True\n",
    "\n",
    "# number of continuous epochs without improvement on validation\n",
    "ARG_EPOCHS_WO_IMPROVEMENT=30 # 20 for 2019 only, 10 for 2019+2018, 30 for 2019+2018 for MobileNetV2\n",
    "initial_epochs = 10 # 10 for 2019 only, 5 for 2019+2018\n",
    "# maximum fine-tuning epochs\n",
    "ARG_MAX_FINE_TUNING_EPOCHS=200\n",
    "# 0: use custom LR, 1: use ReduceLROnPlateau\n",
    "ARG_LR_SCHEDULE=1\n",
    "ARG_LR_PATIENCE=15 # only applies if ARG_LR_SCHEDULE is 1. Equals to 10 except for MobileNetV2 that requires 15+\n",
    "ARG_MIN_DELTA_MAE=0.01\n",
    "\n",
    "ARG_DATA_AUGMENTATION=False\n",
    "# perform data augmentation of images with a gamma value lower than gamma_augment\n",
    "ARG_GAMMA_AUGMENT=97.0\n",
    "# set this value based on the ARG_OVERSAMPLING_FACTOR value in tf2_oversampling_dicom_files.py\n",
    "# 1.0 means transform each and every image, with a lower value than 1.0 means that training will include unmodified (not transformed)\n",
    "# images.\n",
    "ARG_AUGMENT_PROBABILITY=0.75 # con 0.85 para el dataset tfds.2019.localnorm.ovs95x8.0 no transformo 93*(1+8)*0.15=125 imágenes  \n",
    "add_regularizers=False\n",
    "## Fine-tune from this layer onwards\n",
    "# fine_tune_at = 281 # InceptionV3, fine-tuning\n",
    "# fine_tune_at = 102 # InceptionV3, not so fine-tuning\n",
    "# fine_tune_at = 74 # resnet34 stage3\n",
    "# fine_tune_at = 129 # resnet34 stage4\n",
    "if ARG_NETWORK == CNN.vgg16:\n",
    "    fine_tune_at = 11 # VGG16\n",
    "elif ARG_NETWORK == CNN.resnet18:\n",
    "    fine_tune_at = 46 # resnet18 stage3\n",
    "elif ARG_NETWORK == CNN.resnet34:\n",
    "    fine_tune_at = 73 # resnet34 stage3\n",
    "else:\n",
    "    fine_tune_at = 117 # MobileNetV2 block_12_add para atrás\n",
    "ARG_TRANSFORM_GAMMA=False\n"
   ]
  },
  {
   "cell_type": "markdown",
   "metadata": {
    "id": "v77rlkCKW0IJ"
   },
   "source": [
    "## Data preprocessing"
   ]
  },
  {
   "cell_type": "markdown",
   "metadata": {
    "id": "0GoKGm1duzgk"
   },
   "source": [
    "### Data download"
   ]
  },
  {
   "cell_type": "code",
   "execution_count": 8,
   "metadata": {
    "id": "KVh7rDVAuW8Y"
   },
   "outputs": [],
   "source": [
    "import tensorflow_datasets as tfds\n",
    "tfds.disable_progress_bar()\n",
    "\n",
    "tf.random.set_seed(ARG_RANDOM_SEED)"
   ]
  },
  {
   "cell_type": "code",
   "execution_count": 9,
   "metadata": {
    "id": "1KR9xb8NyFTC"
   },
   "outputs": [],
   "source": [
    "def _tfrecord_dataset_type_from_folder(folder, dataset_type, ext='.tfrecords'):\n",
    "    tfrecords = [os.path.join(folder, n)\n",
    "                 for n in os.listdir(folder) if n.startswith(dataset_type) and n.endswith(ext)]\n",
    "    return tf.data.TFRecordDataset(tfrecords)\n",
    "\n",
    "tfdataset_dir = os.path.join(ARG_DATASET_DIR, ARG_TFDATASET_FOLDER)\n",
    "# type(raw_train) is tensorflow.python.data.ops.readers.TFRecordDatasetV2\n",
    "raw_train = _tfrecord_dataset_type_from_folder(tfdataset_dir, 'train')\n",
    "raw_validation = _tfrecord_dataset_type_from_folder(tfdataset_dir, 'validation')\n",
    "if ARG_TEST_PARTITION:\n",
    "    raw_test = _tfrecord_dataset_type_from_folder(tfdataset_dir, 'test')"
   ]
  },
  {
   "cell_type": "markdown",
   "metadata": {
    "id": "o29EfE-p0g5X"
   },
   "source": [
    "The resulting `tf.data.Dataset` objects contain `(image, label)` pairs where the images have variable shape and 3 channels, and the label is a scalar."
   ]
  },
  {
   "cell_type": "code",
   "execution_count": 10,
   "metadata": {
    "id": "GIys1_zY1S9b"
   },
   "outputs": [
    {
     "name": "stdout",
     "output_type": "stream",
     "text": [
      "<TFRecordDatasetV2 shapes: (), types: tf.string>\n",
      "<TFRecordDatasetV2 shapes: (), types: tf.string>\n"
     ]
    }
   ],
   "source": [
    "print(raw_train)\n",
    "print(raw_validation)\n",
    "if ARG_TEST_PARTITION:\n",
    "    print(raw_test)"
   ]
  },
  {
   "cell_type": "code",
   "execution_count": 11,
   "metadata": {
    "id": "T1Gm1wdHyFTK"
   },
   "outputs": [
    {
     "name": "stdout",
     "output_type": "stream",
     "text": [
      "Number of images in training part = 3414.\n",
      "Number of images in validation part = 854.\n"
     ]
    }
   ],
   "source": [
    "print(f'Number of images in training part = {sum(1 for _ in raw_train)}.')\n",
    "print(f'Number of images in validation part = {sum(1 for _ in raw_validation)}.')"
   ]
  },
  {
   "cell_type": "code",
   "execution_count": 12,
   "metadata": {
    "id": "ar8TNzTSyFTS"
   },
   "outputs": [],
   "source": [
    "def _parse_image_function(example_proto, img_size, normalization_fn, data_augmentation=False, augment_probability=1.0, transform_gamma=False):\n",
    "    # Create a dictionary describing the features.\n",
    "    image_feature_description = {\"image/filename\": tf.io.FixedLenFeature((), tf.string),\n",
    "                \"image/encoded\": tf.io.FixedLenFeature((), tf.string),\n",
    "                \"image/format\": tf.io.FixedLenFeature((), tf.string),\n",
    "                \"image/gamma_index\": tf.io.FixedLenFeature((), tf.float32),\n",
    "                \"image/height\": tf.io.FixedLenFeature((), tf.int64),\n",
    "                \"image/width\": tf.io.FixedLenFeature((), tf.int64)}\n",
    "    \n",
    "    def image_augment(image):\n",
    "        radian = ((np.random.random()-.50)*10 / 360) * np.pi\n",
    "        # tfa.image.transform_ops.rotate(image, radian) is an alias\n",
    "        image = tfa.image.rotate(image, radian)\n",
    "        # image = tf.image.random_flip_left_right(image)\n",
    "        image = random_translation(image)\n",
    "        return image\n",
    "\n",
    "    # Now, globally set everything to run eagerly\n",
    "    # The following doesn't set to eager mode:\n",
    "    # UserWarning: Even though the tf.config.experimental_run_functions_eagerly option is set,\n",
    "    # this option does not apply to tf.data functions. tf.data functions are still traced and executed as graphs.\n",
    "    # tf.config.run_functions_eagerly(True)\n",
    "\n",
    "    # Executing eagerly = False here!\n",
    "    # numpy is only supported in eager mode. If you are in graph mode, it will not be supported.\n",
    "    # In eager execution the shape is always fully-known.\n",
    "    # print('Executing eagerly = {}'.format(tf.executing_eagerly()))\n",
    "\n",
    "    # Parse the input tf.Example proto using the dictionary above.\n",
    "    parsed = tf.io.parse_single_example(example_proto, image_feature_description)\n",
    "    \n",
    "    image = tf.image.decode_jpeg(parsed[\"image/encoded\"], channels=3)\n",
    "    # print(type(image), image.shape, image.dtype) # <class 'tensorflow.python.framework.ops.Tensor'> (None, None, 3) <dtype: 'uint8'>\n",
    "\n",
    "    gamma = tf.cast(\n",
    "        parsed[\"image/gamma_index\"],\n",
    "        tf.float32)\n",
    "    # print(type(gamma), gamma.shape, gamma.dtype) # <class 'tensorflow.python.framework.ops.Tensor'> () <dtype: 'float32'>\n",
    "\n",
    "    image = normalization_fn(image)\n",
    "\n",
    "    image = tf.image.resize(image, (img_size, img_size))\n",
    "    print(type(image), image.shape, image.dtype)\n",
    "\n",
    "    if data_augmentation and augment_probability >= random.uniform(0, 1):\n",
    "        gamma_augment = tf.constant(ARG_GAMMA_AUGMENT)\n",
    "        image = tf.cond(tf.math.less(gamma, gamma_augment)\n",
    "                        , lambda: image_augment(image)\n",
    "                        , lambda: image)\n",
    "\n",
    "    # normalizo antes de transformar\n",
    "    # image = normalization_fn(image)\n",
    "    \n",
    "    #label is a tensor of an array of single tf.int64 arrays.\n",
    "    #label = tf.cast(\n",
    "    #    tf.reshape(parsed[\"image/class/label\"], [-1]),\n",
    "    #    tf.int64)\n",
    "\n",
    "    # assert tf.executing_eagerly() FAILS\n",
    "    # parsed[\"image/filename\"] is a Tensor and not an EagerTensor because we are in a map function,\n",
    "    # because in 2.0, code inside Datasets maps is turned into a subgraph for speed, just as it was in 1.x eager\n",
    "    # execution. You generally want to avoid Python inside your data pipeline.\n",
    "    # So, if I invoke parsed[\"image/filename\"].numpy().decode('utf-8') to get the filename string the error\n",
    "    # \"AttributeError: 'Tensor' object has no attribute 'numpy'\" is thrown, hence I return a tensor.\n",
    "    filename = parsed[\"image/filename\"]\n",
    "\n",
    "    if transform_gamma:\n",
    "        gamma = 60.0 - (105 - gamma)\n",
    "                    \n",
    "    return image, gamma, filename"
   ]
  },
  {
   "cell_type": "code",
   "execution_count": 13,
   "metadata": {
    "id": "CyTNIMaeyFTX"
   },
   "outputs": [],
   "source": [
    "IMG_SIZE = 256 # All images will be resized to 256x256\n",
    "if ARG_NETWORK == CNN.mobilenetV2: IMG_SIZE = 224\n",
    "\n",
    "normalization_fn = rescale_0_to_1 # rescale_min_1_to_1\n",
    "# normalization_fn = tf.image.per_image_standardization # loss y mae en validación reportan números muy grandes,\n",
    "# no así en training."
   ]
  },
  {
   "cell_type": "code",
   "execution_count": 14,
   "metadata": {
    "id": "SFZ6ZW7KSXP9"
   },
   "outputs": [
    {
     "name": "stdout",
     "output_type": "stream",
     "text": [
      "<class 'tensorflow.python.framework.ops.Tensor'> (224, 224, 3) <dtype: 'float32'>\n",
      "<class 'tensorflow.python.framework.ops.Tensor'> (224, 224, 3) <dtype: 'float32'>\n"
     ]
    }
   ],
   "source": [
    "num_workers = 8\n",
    "\n",
    "# assert tf.executing_eagerly()\n",
    "if ARG_DATA_AUGMENTATION:\n",
    "    print(\"Training with image augmentation.\")\n",
    "    \n",
    "train = raw_train.map(lambda e: _parse_image_function(e, IMG_SIZE, normalization_fn, ARG_DATA_AUGMENTATION, ARG_AUGMENT_PROBABILITY,\n",
    "                                                      transform_gamma=ARG_TRANSFORM_GAMMA),\n",
    "                      num_parallel_calls=num_workers)\n",
    "validation = raw_validation.map(lambda e: _parse_image_function(e, IMG_SIZE, normalization_fn, transform_gamma=ARG_TRANSFORM_GAMMA),\n",
    "                                num_parallel_calls=num_workers)\n",
    "if ARG_TEST_PARTITION:\n",
    "    test = raw_test.map(lambda e: _parse_image_function(e, IMG_SIZE, normalization_fn),\n",
    "                        num_parallel_calls=num_workers)"
   ]
  },
  {
   "cell_type": "code",
   "execution_count": 15,
   "metadata": {
    "id": "Yic-I66m6Isv"
   },
   "outputs": [],
   "source": [
    "BATCH_SIZE = 32\n",
    "SHUFFLE_BUFFER_SIZE = 1000\n",
    "PREFETCH_BUFFER_SIZE = 2 * BATCH_SIZE"
   ]
  },
  {
   "cell_type": "code",
   "execution_count": 16,
   "metadata": {
    "id": "p3UUPdm86LNC"
   },
   "outputs": [
    {
     "name": "stdout",
     "output_type": "stream",
     "text": [
      "Executing eagerly = True\n",
      "<PrefetchDataset shapes: ((None, 224, 224, 3), (None,), (None,)), types: (tf.float32, tf.float32, tf.string)>\n",
      "<PrefetchDataset shapes: ((None, 224, 224, 3), (None,), (None,)), types: (tf.float32, tf.float32, tf.string)>\n"
     ]
    }
   ],
   "source": [
    "print('Executing eagerly = {}'.format(tf.executing_eagerly()))\n",
    "\n",
    "# <PrefetchDataset shapes: ((None, 224, 224, 3), (None, 1)), types: (tf.float32, tf.int64)>\n",
    "train_batches = train.shuffle(SHUFFLE_BUFFER_SIZE).batch(BATCH_SIZE).prefetch(PREFETCH_BUFFER_SIZE)\n",
    "print(train_batches)\n",
    "validation_batches = validation.batch(BATCH_SIZE).prefetch(PREFETCH_BUFFER_SIZE)\n",
    "print(validation_batches)\n",
    "# <BatchDataset shapes: ((None, 224, 224, 3), (None, 1)), types: (tf.float32, tf.int64)>\n",
    "if ARG_TEST_PARTITION:\n",
    "    test_batches = test.batch(BATCH_SIZE)\n",
    "    print(test_batches)"
   ]
  },
  {
   "cell_type": "markdown",
   "metadata": {
    "id": "02rJpcFtChP0"
   },
   "source": [
    "Inspect a batch of data:"
   ]
  },
  {
   "cell_type": "code",
   "execution_count": 17,
   "metadata": {
    "id": "iknFo3ELBVho"
   },
   "outputs": [
    {
     "data": {
      "text/plain": [
       "(TensorShape([32, 224, 224, 3]), TensorShape([32]), TensorShape([32]))"
      ]
     },
     "execution_count": 17,
     "metadata": {},
     "output_type": "execute_result"
    }
   ],
   "source": [
    "for image_batch, label_batch, filename_batch in train_batches.take(1):\n",
    "    pass\n",
    "\n",
    "image_batch.shape, label_batch.shape, filename_batch.shape"
   ]
  },
  {
   "cell_type": "code",
   "execution_count": 18,
   "metadata": {
    "id": "5pIy5ehM4YzC"
   },
   "outputs": [
    {
     "name": "stdout",
     "output_type": "stream",
     "text": [
      "gamma=98.07, filename=/hdd/data/radioterapia/ciolaplata/2017/1.3.6.1.4.1.9590.100.1.2.176117793912613699912684348602914932416.dcm\n",
      "image shape = (224, 224, 3)\n"
     ]
    },
    {
     "data": {
      "image/png": "[encoded data removed]",
      "text/plain": [
       "<Figure size 432x288 with 1 Axes>"
      ]
     },
     "metadata": {
      "needs_background": "light"
     },
     "output_type": "display_data"
    }
   ],
   "source": [
    "# display 2nd image in the batch\n",
    "gamma_value = label_batch[8].numpy()\n",
    "filename = filename_batch[8].numpy().decode('utf-8')\n",
    "print(f'gamma={gamma_value:2.2f}, filename={filename}')\n",
    "# if pixel values are float they have to be in [0, 1] range, if they are integer they have to be in the [0, 255] range,\n",
    "# else pixel values are truncated.\n",
    "im = image_batch[8].numpy()\n",
    "plt.imshow(im)\n",
    "print(\"image shape = {}\".format(im.shape))"
   ]
  },
  {
   "cell_type": "code",
   "execution_count": 19,
   "metadata": {},
   "outputs": [
    {
     "data": {
      "text/plain": [
       "0.99391645"
      ]
     },
     "execution_count": 19,
     "metadata": {},
     "output_type": "execute_result"
    }
   ],
   "source": [
    "im[:,:,0].max()"
   ]
  },
  {
   "cell_type": "markdown",
   "metadata": {
    "id": "OkH-kazQecHB"
   },
   "source": [
    "## Create the base model from the pre-trained convnets"
   ]
  },
  {
   "cell_type": "code",
   "execution_count": 20,
   "metadata": {
    "id": "aiLcQ7JkDM6U"
   },
   "outputs": [],
   "source": [
    "IMG_SHAPE = (IMG_SIZE, IMG_SIZE, 3)\n",
    "\n",
    "if ARG_NETWORK==CNN.resnet18:\n",
    "    ResNet18, preprocess_input = Classifiers.get('resnet18')\n",
    "    base_model = ResNet18(input_shape=IMG_SHAPE, weights='imagenet', include_top=False)\n",
    "\n",
    "elif ARG_NETWORK==CNN.resnet34:\n",
    "    ResNet34, preprocess_input = Classifiers.get('resnet34')\n",
    "    base_model = ResNet34(input_shape=IMG_SHAPE, weights='imagenet', include_top=False)\n",
    "\n",
    "elif ARG_NETWORK== CNN.mobilenetV2:\n",
    "    ## Create the base model from the pre-trained model MobileNet V2\n",
    "    base_model = tf.keras.applications.MobileNetV2(input_shape=IMG_SHAPE,\n",
    "                                                   # alpha=1.4,\n",
    "                                                   weights='imagenet',\n",
    "                                                   include_top=False)\n",
    "\n",
    "else:\n",
    "    base_model = tf.keras.applications.VGG16(input_shape=IMG_SHAPE,\n",
    "                                                   weights='imagenet',\n",
    "                                                   include_top=False)"
   ]
  },
  {
   "cell_type": "markdown",
   "metadata": {
    "id": "AqcsxoJIEVXZ"
   },
   "source": [
    "This feature extractor converts each `160x160x3` image into a `5x5x1280` block of features. See what it does to the example batch of images:"
   ]
  },
  {
   "cell_type": "code",
   "execution_count": 21,
   "metadata": {
    "id": "Y-2LJL0EEUcx"
   },
   "outputs": [
    {
     "name": "stdout",
     "output_type": "stream",
     "text": [
      "(32, 7, 7, 1280)\n"
     ]
    }
   ],
   "source": [
    "feature_batch = base_model(image_batch)\n",
    "print(feature_batch.shape)"
   ]
  },
  {
   "cell_type": "markdown",
   "metadata": {
    "id": "rlx56nQtfe8Y"
   },
   "source": [
    "## Feature extraction\n",
    "In this step, you will freeze the convolutional base created from the previous step and to use as a feature extractor. Additionally, you add a classifier on top of it and train the top-level classifier."
   ]
  },
  {
   "cell_type": "markdown",
   "metadata": {
    "id": "CnMLieHBCwil"
   },
   "source": [
    "### Freeze the convolutional base\n",
    "\n",
    "It is important to freeze the convolutional base before you compile and train the model. Freezing (by setting layer.trainable = False) prevents the weights in a given layer from being updated during training. MobileNet V2 has many layers, so setting the entire model's trainable flag to False will freeze all the layers."
   ]
  },
  {
   "cell_type": "code",
   "execution_count": 22,
   "metadata": {
    "id": "OTCJH4bphOeo"
   },
   "outputs": [],
   "source": [
    "if not (ARG_NETWORK == CNN.resnet18 or ARG_NETWORK == CNN.resnet34):\n",
    "    base_model.trainable = False\n",
    "else:\n",
    "    # resnet\n",
    "    for layer in base_model.layers:\n",
    "            if layer.__class__.__name__ != \"BatchNormalization\":\n",
    "                layer.trainable = False\n",
    "            else:\n",
    "                print(f\"{layer.name} ({layer.__class__.__name__})\")"
   ]
  },
  {
   "cell_type": "code",
   "execution_count": 23,
   "metadata": {
    "id": "KpbzSmPkDa-N"
   },
   "outputs": [
    {
     "name": "stdout",
     "output_type": "stream",
     "text": [
      "Model: \"mobilenetv2_1.00_224\"\n",
      "__________________________________________________________________________________________________\n",
      "Layer (type)                    Output Shape         Param #     Connected to                     \n",
      "==================================================================================================\n",
      "input_1 (InputLayer)            [(None, 224, 224, 3) 0                                            \n",
      "__________________________________________________________________________________________________\n",
      "Conv1_pad (ZeroPadding2D)       (None, 225, 225, 3)  0           input_1[0][0]                    \n",
      "__________________________________________________________________________________________________\n",
      "Conv1 (Conv2D)                  (None, 112, 112, 32) 864         Conv1_pad[0][0]                  \n",
      "__________________________________________________________________________________________________\n",
      "bn_Conv1 (BatchNormalization)   (None, 112, 112, 32) 128         Conv1[0][0]                      \n",
      "__________________________________________________________________________________________________\n",
      "Conv1_relu (ReLU)               (None, 112, 112, 32) 0           bn_Conv1[0][0]                   \n",
      "__________________________________________________________________________________________________\n",
      "expanded_conv_depthwise (Depthw (None, 112, 112, 32) 288         Conv1_relu[0][0]                 \n",
      "__________________________________________________________________________________________________\n",
      "expanded_conv_depthwise_BN (Bat (None, 112, 112, 32) 128         expanded_conv_depthwise[0][0]    \n",
      "__________________________________________________________________________________________________\n",
      "expanded_conv_depthwise_relu (R (None, 112, 112, 32) 0           expanded_conv_depthwise_BN[0][0] \n",
      "__________________________________________________________________________________________________\n",
      "expanded_conv_project (Conv2D)  (None, 112, 112, 16) 512         expanded_conv_depthwise_relu[0][0\n",
      "__________________________________________________________________________________________________\n",
      "expanded_conv_project_BN (Batch (None, 112, 112, 16) 64          expanded_conv_project[0][0]      \n",
      "__________________________________________________________________________________________________\n",
      "block_1_expand (Conv2D)         (None, 112, 112, 96) 1536        expanded_conv_project_BN[0][0]   \n",
      "__________________________________________________________________________________________________\n",
      "block_1_expand_BN (BatchNormali (None, 112, 112, 96) 384         block_1_expand[0][0]             \n",
      "__________________________________________________________________________________________________\n",
      "block_1_expand_relu (ReLU)      (None, 112, 112, 96) 0           block_1_expand_BN[0][0]          \n",
      "__________________________________________________________________________________________________\n",
      "block_1_pad (ZeroPadding2D)     (None, 113, 113, 96) 0           block_1_expand_relu[0][0]        \n",
      "__________________________________________________________________________________________________\n",
      "block_1_depthwise (DepthwiseCon (None, 56, 56, 96)   864         block_1_pad[0][0]                \n",
      "__________________________________________________________________________________________________\n",
      "block_1_depthwise_BN (BatchNorm (None, 56, 56, 96)   384         block_1_depthwise[0][0]          \n",
      "__________________________________________________________________________________________________\n",
      "block_1_depthwise_relu (ReLU)   (None, 56, 56, 96)   0           block_1_depthwise_BN[0][0]       \n",
      "__________________________________________________________________________________________________\n",
      "block_1_project (Conv2D)        (None, 56, 56, 24)   2304        block_1_depthwise_relu[0][0]     \n",
      "__________________________________________________________________________________________________\n",
      "block_1_project_BN (BatchNormal (None, 56, 56, 24)   96          block_1_project[0][0]            \n",
      "__________________________________________________________________________________________________\n",
      "block_2_expand (Conv2D)         (None, 56, 56, 144)  3456        block_1_project_BN[0][0]         \n",
      "__________________________________________________________________________________________________\n",
      "block_2_expand_BN (BatchNormali (None, 56, 56, 144)  576         block_2_expand[0][0]             \n",
      "__________________________________________________________________________________________________\n",
      "block_2_expand_relu (ReLU)      (None, 56, 56, 144)  0           block_2_expand_BN[0][0]          \n",
      "__________________________________________________________________________________________________\n",
      "block_2_depthwise (DepthwiseCon (None, 56, 56, 144)  1296        block_2_expand_relu[0][0]        \n",
      "__________________________________________________________________________________________________\n",
      "block_2_depthwise_BN (BatchNorm (None, 56, 56, 144)  576         block_2_depthwise[0][0]          \n",
      "__________________________________________________________________________________________________\n",
      "block_2_depthwise_relu (ReLU)   (None, 56, 56, 144)  0           block_2_depthwise_BN[0][0]       \n",
      "__________________________________________________________________________________________________\n",
      "block_2_project (Conv2D)        (None, 56, 56, 24)   3456        block_2_depthwise_relu[0][0]     \n",
      "__________________________________________________________________________________________________\n",
      "block_2_project_BN (BatchNormal (None, 56, 56, 24)   96          block_2_project[0][0]            \n",
      "__________________________________________________________________________________________________\n",
      "block_2_add (Add)               (None, 56, 56, 24)   0           block_1_project_BN[0][0]         \n",
      "                                                                 block_2_project_BN[0][0]         \n",
      "__________________________________________________________________________________________________\n",
      "block_3_expand (Conv2D)         (None, 56, 56, 144)  3456        block_2_add[0][0]                \n",
      "__________________________________________________________________________________________________\n",
      "block_3_expand_BN (BatchNormali (None, 56, 56, 144)  576         block_3_expand[0][0]             \n",
      "__________________________________________________________________________________________________\n",
      "block_3_expand_relu (ReLU)      (None, 56, 56, 144)  0           block_3_expand_BN[0][0]          \n",
      "__________________________________________________________________________________________________\n",
      "block_3_pad (ZeroPadding2D)     (None, 57, 57, 144)  0           block_3_expand_relu[0][0]        \n",
      "__________________________________________________________________________________________________\n",
      "block_3_depthwise (DepthwiseCon (None, 28, 28, 144)  1296        block_3_pad[0][0]                \n",
      "__________________________________________________________________________________________________\n",
      "block_3_depthwise_BN (BatchNorm (None, 28, 28, 144)  576         block_3_depthwise[0][0]          \n",
      "__________________________________________________________________________________________________\n",
      "block_3_depthwise_relu (ReLU)   (None, 28, 28, 144)  0           block_3_depthwise_BN[0][0]       \n",
      "__________________________________________________________________________________________________\n",
      "block_3_project (Conv2D)        (None, 28, 28, 32)   4608        block_3_depthwise_relu[0][0]     \n",
      "__________________________________________________________________________________________________\n",
      "block_3_project_BN (BatchNormal (None, 28, 28, 32)   128         block_3_project[0][0]            \n",
      "__________________________________________________________________________________________________\n",
      "block_4_expand (Conv2D)         (None, 28, 28, 192)  6144        block_3_project_BN[0][0]         \n",
      "__________________________________________________________________________________________________\n",
      "block_4_expand_BN (BatchNormali (None, 28, 28, 192)  768         block_4_expand[0][0]             \n",
      "__________________________________________________________________________________________________\n",
      "block_4_expand_relu (ReLU)      (None, 28, 28, 192)  0           block_4_expand_BN[0][0]          \n",
      "__________________________________________________________________________________________________\n",
      "block_4_depthwise (DepthwiseCon (None, 28, 28, 192)  1728        block_4_expand_relu[0][0]        \n",
      "__________________________________________________________________________________________________\n",
      "block_4_depthwise_BN (BatchNorm (None, 28, 28, 192)  768         block_4_depthwise[0][0]          \n",
      "__________________________________________________________________________________________________\n",
      "block_4_depthwise_relu (ReLU)   (None, 28, 28, 192)  0           block_4_depthwise_BN[0][0]       \n",
      "__________________________________________________________________________________________________\n",
      "block_4_project (Conv2D)        (None, 28, 28, 32)   6144        block_4_depthwise_relu[0][0]     \n",
      "__________________________________________________________________________________________________\n",
      "block_4_project_BN (BatchNormal (None, 28, 28, 32)   128         block_4_project[0][0]            \n",
      "__________________________________________________________________________________________________\n",
      "block_4_add (Add)               (None, 28, 28, 32)   0           block_3_project_BN[0][0]         \n",
      "                                                                 block_4_project_BN[0][0]         \n",
      "__________________________________________________________________________________________________\n",
      "block_5_expand (Conv2D)         (None, 28, 28, 192)  6144        block_4_add[0][0]                \n",
      "__________________________________________________________________________________________________\n",
      "block_5_expand_BN (BatchNormali (None, 28, 28, 192)  768         block_5_expand[0][0]             \n",
      "__________________________________________________________________________________________________\n",
      "block_5_expand_relu (ReLU)      (None, 28, 28, 192)  0           block_5_expand_BN[0][0]          \n",
      "__________________________________________________________________________________________________\n",
      "block_5_depthwise (DepthwiseCon (None, 28, 28, 192)  1728        block_5_expand_relu[0][0]        \n",
      "__________________________________________________________________________________________________\n",
      "block_5_depthwise_BN (BatchNorm (None, 28, 28, 192)  768         block_5_depthwise[0][0]          \n",
      "__________________________________________________________________________________________________\n",
      "block_5_depthwise_relu (ReLU)   (None, 28, 28, 192)  0           block_5_depthwise_BN[0][0]       \n",
      "__________________________________________________________________________________________________\n",
      "block_5_project (Conv2D)        (None, 28, 28, 32)   6144        block_5_depthwise_relu[0][0]     \n",
      "__________________________________________________________________________________________________\n",
      "block_5_project_BN (BatchNormal (None, 28, 28, 32)   128         block_5_project[0][0]            \n",
      "__________________________________________________________________________________________________\n",
      "block_5_add (Add)               (None, 28, 28, 32)   0           block_4_add[0][0]                \n",
      "                                                                 block_5_project_BN[0][0]         \n",
      "__________________________________________________________________________________________________\n",
      "block_6_expand (Conv2D)         (None, 28, 28, 192)  6144        block_5_add[0][0]                \n",
      "__________________________________________________________________________________________________\n",
      "block_6_expand_BN (BatchNormali (None, 28, 28, 192)  768         block_6_expand[0][0]             \n",
      "__________________________________________________________________________________________________\n",
      "block_6_expand_relu (ReLU)      (None, 28, 28, 192)  0           block_6_expand_BN[0][0]          \n",
      "__________________________________________________________________________________________________\n",
      "block_6_pad (ZeroPadding2D)     (None, 29, 29, 192)  0           block_6_expand_relu[0][0]        \n",
      "__________________________________________________________________________________________________\n",
      "block_6_depthwise (DepthwiseCon (None, 14, 14, 192)  1728        block_6_pad[0][0]                \n",
      "__________________________________________________________________________________________________\n",
      "block_6_depthwise_BN (BatchNorm (None, 14, 14, 192)  768         block_6_depthwise[0][0]          \n",
      "__________________________________________________________________________________________________\n",
      "block_6_depthwise_relu (ReLU)   (None, 14, 14, 192)  0           block_6_depthwise_BN[0][0]       \n",
      "__________________________________________________________________________________________________\n",
      "block_6_project (Conv2D)        (None, 14, 14, 64)   12288       block_6_depthwise_relu[0][0]     \n",
      "__________________________________________________________________________________________________\n",
      "block_6_project_BN (BatchNormal (None, 14, 14, 64)   256         block_6_project[0][0]            \n",
      "__________________________________________________________________________________________________\n",
      "block_7_expand (Conv2D)         (None, 14, 14, 384)  24576       block_6_project_BN[0][0]         \n",
      "__________________________________________________________________________________________________\n",
      "block_7_expand_BN (BatchNormali (None, 14, 14, 384)  1536        block_7_expand[0][0]             \n",
      "__________________________________________________________________________________________________\n",
      "block_7_expand_relu (ReLU)      (None, 14, 14, 384)  0           block_7_expand_BN[0][0]          \n",
      "__________________________________________________________________________________________________\n",
      "block_7_depthwise (DepthwiseCon (None, 14, 14, 384)  3456        block_7_expand_relu[0][0]        \n",
      "__________________________________________________________________________________________________\n",
      "block_7_depthwise_BN (BatchNorm (None, 14, 14, 384)  1536        block_7_depthwise[0][0]          \n",
      "__________________________________________________________________________________________________\n",
      "block_7_depthwise_relu (ReLU)   (None, 14, 14, 384)  0           block_7_depthwise_BN[0][0]       \n",
      "__________________________________________________________________________________________________\n",
      "block_7_project (Conv2D)        (None, 14, 14, 64)   24576       block_7_depthwise_relu[0][0]     \n",
      "__________________________________________________________________________________________________\n",
      "block_7_project_BN (BatchNormal (None, 14, 14, 64)   256         block_7_project[0][0]            \n",
      "__________________________________________________________________________________________________\n",
      "block_7_add (Add)               (None, 14, 14, 64)   0           block_6_project_BN[0][0]         \n",
      "                                                                 block_7_project_BN[0][0]         \n",
      "__________________________________________________________________________________________________\n",
      "block_8_expand (Conv2D)         (None, 14, 14, 384)  24576       block_7_add[0][0]                \n",
      "__________________________________________________________________________________________________\n",
      "block_8_expand_BN (BatchNormali (None, 14, 14, 384)  1536        block_8_expand[0][0]             \n",
      "__________________________________________________________________________________________________\n",
      "block_8_expand_relu (ReLU)      (None, 14, 14, 384)  0           block_8_expand_BN[0][0]          \n",
      "__________________________________________________________________________________________________\n",
      "block_8_depthwise (DepthwiseCon (None, 14, 14, 384)  3456        block_8_expand_relu[0][0]        \n",
      "__________________________________________________________________________________________________\n",
      "block_8_depthwise_BN (BatchNorm (None, 14, 14, 384)  1536        block_8_depthwise[0][0]          \n",
      "__________________________________________________________________________________________________\n",
      "block_8_depthwise_relu (ReLU)   (None, 14, 14, 384)  0           block_8_depthwise_BN[0][0]       \n",
      "__________________________________________________________________________________________________\n",
      "block_8_project (Conv2D)        (None, 14, 14, 64)   24576       block_8_depthwise_relu[0][0]     \n",
      "__________________________________________________________________________________________________\n",
      "block_8_project_BN (BatchNormal (None, 14, 14, 64)   256         block_8_project[0][0]            \n",
      "__________________________________________________________________________________________________\n",
      "block_8_add (Add)               (None, 14, 14, 64)   0           block_7_add[0][0]                \n",
      "                                                                 block_8_project_BN[0][0]         \n",
      "__________________________________________________________________________________________________\n",
      "block_9_expand (Conv2D)         (None, 14, 14, 384)  24576       block_8_add[0][0]                \n",
      "__________________________________________________________________________________________________\n",
      "block_9_expand_BN (BatchNormali (None, 14, 14, 384)  1536        block_9_expand[0][0]             \n",
      "__________________________________________________________________________________________________\n",
      "block_9_expand_relu (ReLU)      (None, 14, 14, 384)  0           block_9_expand_BN[0][0]          \n",
      "__________________________________________________________________________________________________\n",
      "block_9_depthwise (DepthwiseCon (None, 14, 14, 384)  3456        block_9_expand_relu[0][0]        \n",
      "__________________________________________________________________________________________________\n",
      "block_9_depthwise_BN (BatchNorm (None, 14, 14, 384)  1536        block_9_depthwise[0][0]          \n",
      "__________________________________________________________________________________________________\n",
      "block_9_depthwise_relu (ReLU)   (None, 14, 14, 384)  0           block_9_depthwise_BN[0][0]       \n",
      "__________________________________________________________________________________________________\n",
      "block_9_project (Conv2D)        (None, 14, 14, 64)   24576       block_9_depthwise_relu[0][0]     \n",
      "__________________________________________________________________________________________________\n",
      "block_9_project_BN (BatchNormal (None, 14, 14, 64)   256         block_9_project[0][0]            \n",
      "__________________________________________________________________________________________________\n",
      "block_9_add (Add)               (None, 14, 14, 64)   0           block_8_add[0][0]                \n",
      "                                                                 block_9_project_BN[0][0]         \n",
      "__________________________________________________________________________________________________\n",
      "block_10_expand (Conv2D)        (None, 14, 14, 384)  24576       block_9_add[0][0]                \n",
      "__________________________________________________________________________________________________\n",
      "block_10_expand_BN (BatchNormal (None, 14, 14, 384)  1536        block_10_expand[0][0]            \n",
      "__________________________________________________________________________________________________\n",
      "block_10_expand_relu (ReLU)     (None, 14, 14, 384)  0           block_10_expand_BN[0][0]         \n",
      "__________________________________________________________________________________________________\n",
      "block_10_depthwise (DepthwiseCo (None, 14, 14, 384)  3456        block_10_expand_relu[0][0]       \n",
      "__________________________________________________________________________________________________\n",
      "block_10_depthwise_BN (BatchNor (None, 14, 14, 384)  1536        block_10_depthwise[0][0]         \n",
      "__________________________________________________________________________________________________\n",
      "block_10_depthwise_relu (ReLU)  (None, 14, 14, 384)  0           block_10_depthwise_BN[0][0]      \n",
      "__________________________________________________________________________________________________\n",
      "block_10_project (Conv2D)       (None, 14, 14, 96)   36864       block_10_depthwise_relu[0][0]    \n",
      "__________________________________________________________________________________________________\n",
      "block_10_project_BN (BatchNorma (None, 14, 14, 96)   384         block_10_project[0][0]           \n",
      "__________________________________________________________________________________________________\n",
      "block_11_expand (Conv2D)        (None, 14, 14, 576)  55296       block_10_project_BN[0][0]        \n",
      "__________________________________________________________________________________________________\n",
      "block_11_expand_BN (BatchNormal (None, 14, 14, 576)  2304        block_11_expand[0][0]            \n",
      "__________________________________________________________________________________________________\n",
      "block_11_expand_relu (ReLU)     (None, 14, 14, 576)  0           block_11_expand_BN[0][0]         \n",
      "__________________________________________________________________________________________________\n",
      "block_11_depthwise (DepthwiseCo (None, 14, 14, 576)  5184        block_11_expand_relu[0][0]       \n",
      "__________________________________________________________________________________________________\n",
      "block_11_depthwise_BN (BatchNor (None, 14, 14, 576)  2304        block_11_depthwise[0][0]         \n",
      "__________________________________________________________________________________________________\n",
      "block_11_depthwise_relu (ReLU)  (None, 14, 14, 576)  0           block_11_depthwise_BN[0][0]      \n",
      "__________________________________________________________________________________________________\n",
      "block_11_project (Conv2D)       (None, 14, 14, 96)   55296       block_11_depthwise_relu[0][0]    \n",
      "__________________________________________________________________________________________________\n",
      "block_11_project_BN (BatchNorma (None, 14, 14, 96)   384         block_11_project[0][0]           \n",
      "__________________________________________________________________________________________________\n",
      "block_11_add (Add)              (None, 14, 14, 96)   0           block_10_project_BN[0][0]        \n",
      "                                                                 block_11_project_BN[0][0]        \n",
      "__________________________________________________________________________________________________\n",
      "block_12_expand (Conv2D)        (None, 14, 14, 576)  55296       block_11_add[0][0]               \n",
      "__________________________________________________________________________________________________\n",
      "block_12_expand_BN (BatchNormal (None, 14, 14, 576)  2304        block_12_expand[0][0]            \n",
      "__________________________________________________________________________________________________\n",
      "block_12_expand_relu (ReLU)     (None, 14, 14, 576)  0           block_12_expand_BN[0][0]         \n",
      "__________________________________________________________________________________________________\n",
      "block_12_depthwise (DepthwiseCo (None, 14, 14, 576)  5184        block_12_expand_relu[0][0]       \n",
      "__________________________________________________________________________________________________\n",
      "block_12_depthwise_BN (BatchNor (None, 14, 14, 576)  2304        block_12_depthwise[0][0]         \n",
      "__________________________________________________________________________________________________\n",
      "block_12_depthwise_relu (ReLU)  (None, 14, 14, 576)  0           block_12_depthwise_BN[0][0]      \n",
      "__________________________________________________________________________________________________\n",
      "block_12_project (Conv2D)       (None, 14, 14, 96)   55296       block_12_depthwise_relu[0][0]    \n",
      "__________________________________________________________________________________________________\n",
      "block_12_project_BN (BatchNorma (None, 14, 14, 96)   384         block_12_project[0][0]           \n",
      "__________________________________________________________________________________________________\n",
      "block_12_add (Add)              (None, 14, 14, 96)   0           block_11_add[0][0]               \n",
      "                                                                 block_12_project_BN[0][0]        \n",
      "__________________________________________________________________________________________________\n",
      "block_13_expand (Conv2D)        (None, 14, 14, 576)  55296       block_12_add[0][0]               \n",
      "__________________________________________________________________________________________________\n",
      "block_13_expand_BN (BatchNormal (None, 14, 14, 576)  2304        block_13_expand[0][0]            \n",
      "__________________________________________________________________________________________________\n",
      "block_13_expand_relu (ReLU)     (None, 14, 14, 576)  0           block_13_expand_BN[0][0]         \n",
      "__________________________________________________________________________________________________\n",
      "block_13_pad (ZeroPadding2D)    (None, 15, 15, 576)  0           block_13_expand_relu[0][0]       \n",
      "__________________________________________________________________________________________________\n",
      "block_13_depthwise (DepthwiseCo (None, 7, 7, 576)    5184        block_13_pad[0][0]               \n",
      "__________________________________________________________________________________________________\n",
      "block_13_depthwise_BN (BatchNor (None, 7, 7, 576)    2304        block_13_depthwise[0][0]         \n",
      "__________________________________________________________________________________________________\n",
      "block_13_depthwise_relu (ReLU)  (None, 7, 7, 576)    0           block_13_depthwise_BN[0][0]      \n",
      "__________________________________________________________________________________________________\n",
      "block_13_project (Conv2D)       (None, 7, 7, 160)    92160       block_13_depthwise_relu[0][0]    \n",
      "__________________________________________________________________________________________________\n",
      "block_13_project_BN (BatchNorma (None, 7, 7, 160)    640         block_13_project[0][0]           \n",
      "__________________________________________________________________________________________________\n",
      "block_14_expand (Conv2D)        (None, 7, 7, 960)    153600      block_13_project_BN[0][0]        \n",
      "__________________________________________________________________________________________________\n",
      "block_14_expand_BN (BatchNormal (None, 7, 7, 960)    3840        block_14_expand[0][0]            \n",
      "__________________________________________________________________________________________________\n",
      "block_14_expand_relu (ReLU)     (None, 7, 7, 960)    0           block_14_expand_BN[0][0]         \n",
      "__________________________________________________________________________________________________\n",
      "block_14_depthwise (DepthwiseCo (None, 7, 7, 960)    8640        block_14_expand_relu[0][0]       \n",
      "__________________________________________________________________________________________________\n",
      "block_14_depthwise_BN (BatchNor (None, 7, 7, 960)    3840        block_14_depthwise[0][0]         \n",
      "__________________________________________________________________________________________________\n",
      "block_14_depthwise_relu (ReLU)  (None, 7, 7, 960)    0           block_14_depthwise_BN[0][0]      \n",
      "__________________________________________________________________________________________________\n",
      "block_14_project (Conv2D)       (None, 7, 7, 160)    153600      block_14_depthwise_relu[0][0]    \n",
      "__________________________________________________________________________________________________\n",
      "block_14_project_BN (BatchNorma (None, 7, 7, 160)    640         block_14_project[0][0]           \n",
      "__________________________________________________________________________________________________\n",
      "block_14_add (Add)              (None, 7, 7, 160)    0           block_13_project_BN[0][0]        \n",
      "                                                                 block_14_project_BN[0][0]        \n",
      "__________________________________________________________________________________________________\n",
      "block_15_expand (Conv2D)        (None, 7, 7, 960)    153600      block_14_add[0][0]               \n",
      "__________________________________________________________________________________________________\n",
      "block_15_expand_BN (BatchNormal (None, 7, 7, 960)    3840        block_15_expand[0][0]            \n",
      "__________________________________________________________________________________________________\n",
      "block_15_expand_relu (ReLU)     (None, 7, 7, 960)    0           block_15_expand_BN[0][0]         \n",
      "__________________________________________________________________________________________________\n",
      "block_15_depthwise (DepthwiseCo (None, 7, 7, 960)    8640        block_15_expand_relu[0][0]       \n",
      "__________________________________________________________________________________________________\n",
      "block_15_depthwise_BN (BatchNor (None, 7, 7, 960)    3840        block_15_depthwise[0][0]         \n",
      "__________________________________________________________________________________________________\n",
      "block_15_depthwise_relu (ReLU)  (None, 7, 7, 960)    0           block_15_depthwise_BN[0][0]      \n",
      "__________________________________________________________________________________________________\n",
      "block_15_project (Conv2D)       (None, 7, 7, 160)    153600      block_15_depthwise_relu[0][0]    \n",
      "__________________________________________________________________________________________________\n",
      "block_15_project_BN (BatchNorma (None, 7, 7, 160)    640         block_15_project[0][0]           \n",
      "__________________________________________________________________________________________________\n",
      "block_15_add (Add)              (None, 7, 7, 160)    0           block_14_add[0][0]               \n",
      "                                                                 block_15_project_BN[0][0]        \n",
      "__________________________________________________________________________________________________\n",
      "block_16_expand (Conv2D)        (None, 7, 7, 960)    153600      block_15_add[0][0]               \n",
      "__________________________________________________________________________________________________\n",
      "block_16_expand_BN (BatchNormal (None, 7, 7, 960)    3840        block_16_expand[0][0]            \n",
      "__________________________________________________________________________________________________\n",
      "block_16_expand_relu (ReLU)     (None, 7, 7, 960)    0           block_16_expand_BN[0][0]         \n",
      "__________________________________________________________________________________________________\n",
      "block_16_depthwise (DepthwiseCo (None, 7, 7, 960)    8640        block_16_expand_relu[0][0]       \n",
      "__________________________________________________________________________________________________\n",
      "block_16_depthwise_BN (BatchNor (None, 7, 7, 960)    3840        block_16_depthwise[0][0]         \n",
      "__________________________________________________________________________________________________\n",
      "block_16_depthwise_relu (ReLU)  (None, 7, 7, 960)    0           block_16_depthwise_BN[0][0]      \n",
      "__________________________________________________________________________________________________\n",
      "block_16_project (Conv2D)       (None, 7, 7, 320)    307200      block_16_depthwise_relu[0][0]    \n",
      "__________________________________________________________________________________________________\n",
      "block_16_project_BN (BatchNorma (None, 7, 7, 320)    1280        block_16_project[0][0]           \n",
      "__________________________________________________________________________________________________\n",
      "Conv_1 (Conv2D)                 (None, 7, 7, 1280)   409600      block_16_project_BN[0][0]        \n",
      "__________________________________________________________________________________________________\n",
      "Conv_1_bn (BatchNormalization)  (None, 7, 7, 1280)   5120        Conv_1[0][0]                     \n",
      "__________________________________________________________________________________________________\n",
      "out_relu (ReLU)                 (None, 7, 7, 1280)   0           Conv_1_bn[0][0]                  \n",
      "==================================================================================================\n",
      "Total params: 2,257,984\n",
      "Trainable params: 0\n",
      "Non-trainable params: 2,257,984\n",
      "__________________________________________________________________________________________________\n"
     ]
    }
   ],
   "source": [
    "# Let's take a look at the base model architecture\n",
    "base_model.summary()"
   ]
  },
  {
   "cell_type": "code",
   "execution_count": 24,
   "metadata": {
    "id": "7RFyBW06yFUC"
   },
   "outputs": [
    {
     "name": "stdout",
     "output_type": "stream",
     "text": [
      "layer Conv1 has no regularizer.\n",
      "layer expanded_conv_depthwise has no regularizer.\n",
      "layer expanded_conv_project has no regularizer.\n",
      "layer block_1_expand has no regularizer.\n",
      "layer block_1_depthwise has no regularizer.\n",
      "layer block_1_project has no regularizer.\n",
      "layer block_2_expand has no regularizer.\n",
      "layer block_2_depthwise has no regularizer.\n",
      "layer block_2_project has no regularizer.\n",
      "layer block_3_expand has no regularizer.\n",
      "layer block_3_depthwise has no regularizer.\n",
      "layer block_3_project has no regularizer.\n",
      "layer block_4_expand has no regularizer.\n",
      "layer block_4_depthwise has no regularizer.\n",
      "layer block_4_project has no regularizer.\n",
      "layer block_5_expand has no regularizer.\n",
      "layer block_5_depthwise has no regularizer.\n",
      "layer block_5_project has no regularizer.\n",
      "layer block_6_expand has no regularizer.\n",
      "layer block_6_depthwise has no regularizer.\n",
      "layer block_6_project has no regularizer.\n",
      "layer block_7_expand has no regularizer.\n",
      "layer block_7_depthwise has no regularizer.\n",
      "layer block_7_project has no regularizer.\n",
      "layer block_8_expand has no regularizer.\n",
      "layer block_8_depthwise has no regularizer.\n",
      "layer block_8_project has no regularizer.\n",
      "layer block_9_expand has no regularizer.\n",
      "layer block_9_depthwise has no regularizer.\n",
      "layer block_9_project has no regularizer.\n",
      "layer block_10_expand has no regularizer.\n",
      "layer block_10_depthwise has no regularizer.\n",
      "layer block_10_project has no regularizer.\n",
      "layer block_11_expand has no regularizer.\n",
      "layer block_11_depthwise has no regularizer.\n",
      "layer block_11_project has no regularizer.\n",
      "layer block_12_expand has no regularizer.\n",
      "layer block_12_depthwise has no regularizer.\n",
      "layer block_12_project has no regularizer.\n",
      "layer block_13_expand has no regularizer.\n",
      "layer block_13_depthwise has no regularizer.\n",
      "layer block_13_project has no regularizer.\n",
      "layer block_14_expand has no regularizer.\n",
      "layer block_14_depthwise has no regularizer.\n",
      "layer block_14_project has no regularizer.\n",
      "layer block_15_expand has no regularizer.\n",
      "layer block_15_depthwise has no regularizer.\n",
      "layer block_15_project has no regularizer.\n",
      "layer block_16_expand has no regularizer.\n",
      "layer block_16_depthwise has no regularizer.\n",
      "layer block_16_project has no regularizer.\n",
      "layer Conv_1 has no regularizer.\n"
     ]
    }
   ],
   "source": [
    "from add_regularization import add_regularization\n",
    "# adds a tf.keras.regularizers.l2(0.0001)\n",
    "#\"kernel_regularizer\":{\n",
    "#                        \"class_name\": \"L1L2\",\n",
    "#                        \"config\": {\n",
    "#                            \"l1\": 0,\n",
    "#                            \"l2\": 0.0001\n",
    "#                        }\n",
    "#                     }\n",
    "if add_regularizers:\n",
    "    base_model = add_regularization(base_model)\n",
    "\n",
    "for layer in base_model.layers:\n",
    "    for attr in ['kernel_regularizer']:\n",
    "        if hasattr(layer, attr):\n",
    "            if getattr(layer, attr) is None:\n",
    "                print('layer {} has no regularizer.'.format(layer.name))\n",
    "            else:\n",
    "                print('layer {} has a regularizer {}.'.format(layer.name, getattr(layer, attr)))\n"
   ]
  },
  {
   "cell_type": "code",
   "execution_count": 25,
   "metadata": {
    "id": "avX9AnbJyFUH"
   },
   "outputs": [
    {
     "name": "stdout",
     "output_type": "stream",
     "text": [
      "{'name': 'expanded_conv_project', 'trainable': False, 'dtype': 'float32', 'filters': 16, 'kernel_size': (1, 1), 'strides': (1, 1), 'padding': 'same', 'data_format': 'channels_last', 'dilation_rate': (1, 1), 'activation': 'linear', 'use_bias': False, 'kernel_initializer': {'class_name': 'GlorotUniform', 'config': {'seed': None}}, 'bias_initializer': {'class_name': 'Zeros', 'config': {}}, 'kernel_regularizer': None, 'bias_regularizer': None, 'activity_regularizer': None, 'kernel_constraint': None, 'bias_constraint': None} [array([[[[-1.29452934e-02, -3.69312555e-01,  5.61136663e-01,\n",
      "          -7.24593937e-01, -1.05702937e-01, -5.26386082e-01,\n",
      "           1.42754480e-01, -1.74769133e-01, -1.56823814e-01,\n",
      "          -2.30223924e-01,  4.38534804e-02,  1.36561438e-01,\n",
      "          -2.13272557e-01, -3.72024477e-02, -1.12825830e-03,\n",
      "           8.76550749e-02],\n",
      "         [-8.75060409e-02, -2.65158892e-01, -1.80831134e-01,\n",
      "          -1.19943023e-01,  9.03041437e-02,  1.93148971e-01,\n",
      "          -1.68531403e-01, -2.93281116e-03,  7.70430416e-02,\n",
      "          -1.74299553e-01, -1.32691264e-01,  1.31342551e-02,\n",
      "          -8.44319910e-02,  4.37377065e-01, -5.11309266e-01,\n",
      "           8.09973292e-03],\n",
      "         [ 9.72095691e-03, -3.45400833e-02, -3.56291793e-02,\n",
      "           7.16349017e-03, -1.90249681e-02, -4.73495051e-02,\n",
      "           5.81548922e-03,  1.25849441e-01, -1.54711246e-01,\n",
      "           2.08570752e-02,  4.98627052e-02, -3.70398089e-02,\n",
      "          -5.00475289e-03,  7.46978074e-02,  1.72044355e-02,\n",
      "           6.60913736e-02],\n",
      "         [-1.46977454e-21, -1.94229096e-21, -5.83792936e-21,\n",
      "           1.45964824e-21, -1.64112133e-20,  2.94358138e-21,\n",
      "           1.07518010e-21,  1.20642556e-21, -8.45133582e-21,\n",
      "          -8.86433078e-21, -1.16573530e-20,  1.37432636e-21,\n",
      "           7.66638605e-22, -8.59932926e-21,  3.76538552e-21,\n",
      "           1.01103564e-21],\n",
      "         [-2.38137674e-02, -1.14054769e-01, -7.17517547e-03,\n",
      "           5.80172092e-02,  7.16595119e-03, -1.43294893e-02,\n",
      "          -2.18307599e-03, -7.01273382e-02,  4.48202156e-03,\n",
      "           9.71985795e-03, -1.55249396e-02, -7.38074124e-01,\n",
      "           1.08869271e-02, -1.32886125e-02, -3.38456333e-02,\n",
      "           8.42250288e-01],\n",
      "         [ 1.26938954e-01,  1.00371942e-01, -1.57510061e-02,\n",
      "          -1.13490440e-01, -7.07678348e-02,  1.31884232e-01,\n",
      "          -1.65012538e-01, -4.27538037e-01, -3.88592899e-01,\n",
      "           3.79154682e-02,  1.20586380e-01, -3.73039007e-01,\n",
      "          -5.44251055e-02,  1.24818169e-01, -7.77288061e-03,\n",
      "          -3.39652032e-01],\n",
      "         [-1.68507323e-02, -1.18870623e-01, -1.17660023e-01,\n",
      "          -3.58581729e-02,  1.87660709e-01,  3.01582832e-02,\n",
      "           5.28881997e-02,  4.48486619e-02, -1.05966050e-02,\n",
      "           1.15253076e-01,  5.94040453e-02,  1.54916663e-02,\n",
      "           3.91642600e-02, -3.46012488e-02, -2.13060360e-02,\n",
      "           2.28086468e-02],\n",
      "         [-2.17732855e-22, -5.49572003e-22, -5.35585866e-22,\n",
      "           1.00531151e-21,  6.86032722e-22,  1.48088743e-22,\n",
      "          -2.54824211e-22, -5.32138051e-22,  6.64131457e-23,\n",
      "           6.78552453e-22,  2.10455998e-22,  5.31923532e-22,\n",
      "          -1.90241696e-23, -3.92157523e-22, -1.54956579e-22,\n",
      "           1.41271748e-22],\n",
      "         [-3.11713099e-01,  6.13167300e-04, -1.46921799e-01,\n",
      "           8.41695350e-03, -2.89635863e-02,  7.55791366e-02,\n",
      "           4.22718227e-01, -1.48016021e-01, -1.23747766e-01,\n",
      "          -7.39894658e-02,  2.05292348e-02, -5.03406338e-02,\n",
      "           1.75452322e-01, -1.80351175e-02, -2.88824718e-02,\n",
      "          -3.47193964e-02],\n",
      "         [ 1.40399829e-01,  3.15129273e-02, -1.45334050e-01,\n",
      "           2.45873213e-01, -4.90648448e-02,  2.51975179e-01,\n",
      "          -2.44783666e-02,  3.86517942e-02,  1.85731538e-02,\n",
      "          -7.44669199e-01,  4.11005288e-01,  5.75973466e-02,\n",
      "           1.97269768e-01,  6.61857985e-03,  2.54559636e-01,\n",
      "           8.99282023e-02],\n",
      "         [ 2.15192512e-03, -2.25255221e-01,  5.27230501e-02,\n",
      "          -1.70024950e-02,  1.32986948e-01, -1.45456512e-02,\n",
      "           6.71893507e-02,  1.18798643e-01,  1.29723381e-02,\n",
      "           4.03569154e-02,  1.28631011e-01,  5.35400920e-02,\n",
      "           1.09472759e-01, -4.24643271e-02,  4.67881970e-02,\n",
      "           4.49187383e-02],\n",
      "         [-2.56420799e-23,  6.04436131e-22, -1.86739583e-22,\n",
      "           4.18160928e-22, -4.58329246e-22, -2.11707220e-22,\n",
      "          -3.02765951e-22, -5.24069456e-22,  2.68463957e-22,\n",
      "           2.40334136e-22, -3.87431855e-22, -1.71085036e-22,\n",
      "          -4.98937786e-22,  8.94024319e-22, -2.58736860e-22,\n",
      "          -2.56576214e-22],\n",
      "         [-1.55122997e-22, -8.50100947e-22, -2.28609215e-22,\n",
      "          -8.11915996e-24,  3.58118213e-22,  1.45145484e-22,\n",
      "           4.34827199e-22,  2.24519356e-22,  5.28351367e-22,\n",
      "           1.79445144e-22,  2.36028268e-22, -4.81108217e-22,\n",
      "          -1.85130672e-22, -2.04281565e-22,  6.94759972e-22,\n",
      "          -3.96247357e-23],\n",
      "         [ 4.07120233e-22, -1.78512521e-22,  5.56428808e-22,\n",
      "           3.76690523e-22,  1.82794559e-22, -6.25886534e-22,\n",
      "          -5.36174621e-23, -3.92476501e-22, -4.83551288e-22,\n",
      "           7.05133544e-23,  9.53000620e-22,  9.23311177e-22,\n",
      "           6.20505770e-22,  5.59275624e-23, -4.04326101e-22,\n",
      "           1.04406435e-22],\n",
      "         [-5.04729412e-02,  1.31286442e-01, -1.10644639e-01,\n",
      "           2.22622782e-01, -1.28683484e+00, -5.56823276e-02,\n",
      "          -3.01579945e-02,  3.30422930e-02,  1.42317951e-01,\n",
      "           1.59965277e-01, -2.82709748e-01,  2.25513503e-02,\n",
      "          -9.22481641e-02,  5.21336645e-02, -5.63154221e-02,\n",
      "          -1.39234122e-02],\n",
      "         [ 1.34005053e-02,  2.84619391e-01, -1.99003100e-01,\n",
      "          -4.46878195e-01, -1.72168799e-02,  2.14420497e-01,\n",
      "           3.71841751e-02,  2.59778440e-01,  2.03835577e-01,\n",
      "           1.89922869e-01,  3.92162144e-01,  1.71687484e-01,\n",
      "          -1.55860921e-02, -2.88943172e-01, -1.19338758e-01,\n",
      "           2.06575155e-01],\n",
      "         [-1.34018910e-06,  6.24804761e-06,  1.27022722e-05,\n",
      "           7.90838931e-06, -2.65024955e-05, -3.27140128e-06,\n",
      "          -2.39719811e-05, -6.48259738e-05, -3.94451235e-05,\n",
      "          -2.22861709e-05,  1.89923139e-05, -7.55543851e-06,\n",
      "           1.57743289e-05,  2.09304762e-05,  3.46709494e-05,\n",
      "          -3.55652483e-05],\n",
      "         [ 1.83790818e-01,  8.12245160e-02,  3.54841113e-01,\n",
      "          -2.58101851e-01,  1.84698459e-02,  3.45169097e-01,\n",
      "          -8.23996887e-02,  1.68882132e-01,  9.93758887e-02,\n",
      "           7.23601803e-02, -2.90068895e-01,  7.54337609e-02,\n",
      "           6.05385363e-01,  3.62577766e-01,  2.10790962e-01,\n",
      "           1.14917226e-01],\n",
      "         [ 8.71506799e-03,  2.05301996e-02, -7.69721419e-02,\n",
      "          -2.89434940e-02,  1.28874537e-02, -7.17271417e-02,\n",
      "           3.71524394e-02,  3.93939465e-02, -2.43933070e-02,\n",
      "           2.77736671e-02,  2.77718455e-02,  1.97641537e-01,\n",
      "           3.07331607e-02,  9.72195566e-02,  4.49417159e-02,\n",
      "          -3.04113001e-01],\n",
      "         [ 2.36956913e-21, -4.89834952e-21, -3.61718085e-21,\n",
      "           3.41070679e-21, -1.44677201e-21,  2.88599883e-21,\n",
      "          -1.71011918e-21, -6.35148170e-21,  1.95283045e-21,\n",
      "           1.91110973e-21,  1.07664352e-21,  2.48674645e-21,\n",
      "          -1.26634849e-21,  3.85637175e-21, -2.46641711e-21,\n",
      "           2.04380658e-21],\n",
      "         [-2.10730415e-02, -4.39446680e-02,  2.39122449e-03,\n",
      "           1.20682446e-02, -3.51706557e-02, -5.00510819e-03,\n",
      "           6.35779742e-03, -1.05027772e-01,  1.08831964e-01,\n",
      "          -1.31746279e-02,  1.60145257e-02, -1.12793902e-02,\n",
      "           1.01015242e-02,  2.72419397e-03,  1.21996179e-02,\n",
      "           1.85708087e-02],\n",
      "         [ 5.54681569e-02, -1.12772115e-01, -1.44847017e-02,\n",
      "           1.30095275e-03,  6.32875562e-02,  3.64089608e-02,\n",
      "          -5.27590699e-02, -9.20610607e-01,  9.65148330e-01,\n",
      "           1.27416894e-01,  1.07057869e-01,  5.65113984e-02,\n",
      "           5.07257320e-02, -1.61848702e-02,  1.30630568e-01,\n",
      "           3.61522175e-02],\n",
      "         [ 7.61718273e-01,  3.04443818e-02, -7.06717595e-02,\n",
      "           3.70433182e-02,  4.50511836e-02,  1.61574595e-02,\n",
      "           5.62165737e-01, -4.39662486e-02,  2.52898391e-02,\n",
      "          -2.15114914e-02, -1.22013085e-01, -2.54893806e-02,\n",
      "          -7.90715069e-02, -1.97822321e-02, -2.43197903e-01,\n",
      "          -1.55782085e-02],\n",
      "         [-1.94867626e-02, -8.90798867e-02, -2.99372878e-02,\n",
      "           5.89719834e-03, -6.16594255e-02,  2.26602443e-02,\n",
      "           4.96237762e-02,  2.37134695e-02, -2.84862667e-02,\n",
      "           3.69101614e-02,  2.81365737e-02, -2.19890043e-01,\n",
      "           1.64828748e-02, -1.95831936e-02,  4.08497415e-02,\n",
      "           1.69617996e-01],\n",
      "         [-1.91136207e-02, -6.25015125e-02, -8.89065489e-03,\n",
      "          -3.43524553e-02,  1.96424425e-02,  7.44010881e-02,\n",
      "           5.66673093e-02,  4.26231772e-01,  4.09829944e-01,\n",
      "           3.84813477e-03, -4.32645716e-03, -5.81836343e-01,\n",
      "          -4.66686450e-02, -1.68325584e-02,  7.39828944e-02,\n",
      "          -4.26499933e-01],\n",
      "         [-4.26208554e-03,  9.75592360e-02,  1.00254774e-01,\n",
      "           5.82766272e-02,  4.08705696e-03, -3.19135219e-01,\n",
      "          -1.56515136e-01,  1.33267604e-02,  6.09555617e-02,\n",
      "          -5.14387861e-02,  8.32310244e-02, -1.01465687e-01,\n",
      "           4.26585376e-01, -1.43039227e-01, -3.54296148e-01,\n",
      "          -1.08329840e-01],\n",
      "         [-5.23340168e-05, -4.63422359e-04, -1.36401461e-04,\n",
      "           3.57360026e-04,  7.70412589e-05, -6.87139982e-05,\n",
      "           1.62709664e-04, -1.81625383e-05, -7.01492027e-05,\n",
      "          -4.47836692e-06,  2.02118008e-06,  1.87433325e-04,\n",
      "          -1.71908978e-04, -2.10132581e-04,  2.12790110e-05,\n",
      "           7.56089430e-05],\n",
      "         [ 2.38402680e-01, -7.54885450e-02, -4.29605752e-01,\n",
      "          -2.46014312e-01, -2.24176999e-02, -1.39527172e-01,\n",
      "          -1.95630610e-01, -6.40428346e-03, -1.95207950e-02,\n",
      "          -1.32491812e-01, -3.63351047e-01, -1.59413088e-02,\n",
      "           2.42536828e-01, -2.46347517e-01,  1.76120788e-01,\n",
      "           1.85897923e-04],\n",
      "         [-2.71129777e-22, -7.35947460e-23, -1.86575399e-22,\n",
      "          -1.20375189e-22, -1.75207932e-23,  1.52381270e-22,\n",
      "          -1.58205524e-22,  2.81298105e-22, -5.00722656e-22,\n",
      "           7.64323166e-22, -4.59345249e-22,  3.77892571e-22,\n",
      "           2.84916516e-22,  2.65410623e-22, -2.92100375e-22,\n",
      "           3.94687432e-22],\n",
      "         [ 7.00911880e-02,  1.42124280e-01, -2.76034325e-01,\n",
      "          -4.27042507e-02,  1.19508086e-02, -3.79778713e-01,\n",
      "           1.02394655e-01,  2.13328600e-01, -9.45037976e-02,\n",
      "           1.26076281e-01,  1.99962556e-01, -7.50506818e-02,\n",
      "           5.80602027e-02,  5.02791584e-01,  1.87398121e-01,\n",
      "           1.25037745e-01],\n",
      "         [ 1.43353507e-01, -2.95023769e-01, -3.83426808e-02,\n",
      "           5.80862630e-03, -1.14026204e-01, -5.20554092e-03,\n",
      "          -8.18916336e-02,  4.27229702e-02, -7.71326870e-02,\n",
      "           1.78639933e-01,  2.01509088e-01,  1.68912318e-02,\n",
      "           1.32753342e-01,  1.88746341e-02,  2.88170297e-02,\n",
      "           8.62506405e-03],\n",
      "         [ 7.11313933e-02, -4.18083429e-01,  4.52154577e-02,\n",
      "           1.01177067e-01, -3.36415619e-02,  4.86914128e-01,\n",
      "          -1.08345605e-01, -1.93670392e-01,  1.49833292e-01,\n",
      "           4.87698913e-02,  4.30303300e-03,  1.30083919e-01,\n",
      "           1.57386214e-01, -4.20826256e-01, -1.21347502e-01,\n",
      "          -2.51156807e-01]]]], dtype=float32)] (1, 1, 32, 16)\n"
     ]
    }
   ],
   "source": [
    "# display the weights of some layers\n",
    "l = 1\n",
    "for layer in base_model.layers:\n",
    "    # print('layer {:3d}, name: {}'.format(l, layer.name))\n",
    "    if layer.name == \"expanded_conv_project\":\n",
    "        weights = layer.get_weights()\n",
    "        print(layer.get_config(), weights, weights[0].shape)\n",
    "    l += 1"
   ]
  },
  {
   "cell_type": "code",
   "execution_count": 26,
   "metadata": {
    "id": "dLnpMF5KOALm"
   },
   "outputs": [
    {
     "name": "stdout",
     "output_type": "stream",
     "text": [
      "(32, 1280)\n"
     ]
    }
   ],
   "source": [
    "global_average_layer = tf.keras.layers.GlobalAveragePooling2D()\n",
    "feature_batch_average = global_average_layer(feature_batch)\n",
    "print(feature_batch_average.shape)"
   ]
  },
  {
   "cell_type": "markdown",
   "metadata": {
    "id": "JzmSozfKDM6W"
   },
   "source": [
    "Stack the feature extractor, and these two layers using a `tf.keras.Sequential` model for network architectures other than ResNet:"
   ]
  },
  {
   "cell_type": "code",
   "execution_count": 27,
   "metadata": {
    "id": "Wv4afXKj6cVa"
   },
   "outputs": [
    {
     "name": "stdout",
     "output_type": "stream",
     "text": [
      "(32, 1)\n"
     ]
    }
   ],
   "source": [
    "num_activation_filders = 512\n",
    "if ARG_NETWORK == CNN.mobilenetV2:\n",
    "    num_activation_filders = 1280\n",
    "\n",
    "if not (ARG_NETWORK == CNN.resnet18 or ARG_NETWORK == CNN.resnet34):\n",
    "    # Pablo March 10: add sigmoid\n",
    "    # WARNING: adding the activation function causes loss to keep close to 0.5 and does not decrease.\n",
    "    # prediction_layer = keras.layers.Dense(1, activation='sigmoid') # para obtener probabilidades y no logits\n",
    "\n",
    "    # https://keras.io/applications/#fine-tune-inceptionv3-on-a-new-set-of-classes\n",
    "    # https://stackoverflow.com/questions/58627411/how-to-use-inception-network-for-regression\n",
    "\n",
    "    # let's add a fully-connected layer\n",
    "    fc1 = keras.layers.Dense(num_activation_filders, activation='relu')\n",
    "    #fc2 = keras.layers.Dense(num_activation_filders, activation='relu')\n",
    "    #dropout = keras.layers.Dropout(rate=0.05) # no funciona\n",
    "    # and a linear output layer (regression)\n",
    "\n",
    "    bn = keras.layers.BatchNormalization() # same as ResNet18 but with VGG16 is worst.\n",
    "\n",
    "    prediction_layer = keras.layers.Dense(1, activation='linear')\n",
    "    # and a logistic layer -- let's say we have 200 classes (classification)\n",
    "    # prediction_layer = Dense(200, activation='softmax')(x)\n",
    "\n",
    "    # Up to March 27, 2020\n",
    "    # prediction_layer = keras.layers.Dense(1)\n",
    "    prediction_batch = prediction_layer(feature_batch_average)\n",
    "    print(prediction_batch.shape)\n",
    "\n",
    "    # Now stack the feature extractor, and these two layers using a `tf.keras.Sequential` model:\n",
    "    model = tf.keras.Sequential([\n",
    "      base_model,\n",
    "      global_average_layer,\n",
    "      fc1,\n",
    "      #bn,\n",
    "      #dropout,\n",
    "      #fc2,\n",
    "      prediction_layer\n",
    "    ])\n",
    "    \n",
    "else:\n",
    "    avg = tf.keras.layers.GlobalAveragePooling2D()(base_model.output)\n",
    "    out = tf.keras.layers.Dense(num_activation_filders, activation=\"relu\")(avg) # CHANGE to use avg pool only or avg pool + max pool\n",
    "    if ARG_RESNET_USE_BN:\n",
    "        # no observé mejoras en 2017 agregando esta bn layer, pero sí observé mejoras en 4 de 5 folds de cross validation\n",
    "        # en 2019+2017\n",
    "        out = tf.keras.layers.BatchNormalization()(out)\n",
    "    prediction_layer = tf.keras.layers.Dense(1, activation='linear')(out)\n",
    "    model = keras.models.Model(inputs=base_model.input, outputs=prediction_layer)"
   ]
  },
  {
   "cell_type": "markdown",
   "metadata": {
    "id": "g0ylJXE_kRLi"
   },
   "source": [
    "### Compile the model\n",
    "\n",
    "You must compile the model before training it.  Since there are two classes, use a binary cross-entropy loss with `from_logits=True` since the model provides a linear output."
   ]
  },
  {
   "cell_type": "code",
   "execution_count": 28,
   "metadata": {
    "id": "RpR8HdyMhukJ"
   },
   "outputs": [],
   "source": [
    "base_learning_rate = 0.001\n",
    "# mse = square(y_true - y_pred)\n",
    "# mae = loss = abs(y_true - y_pred)\n",
    "# mape = 100 * abs(y_true - y_pred) / y_true\n",
    "# mae y mape son similares, no iguales, por eso tomo MAE que es el promedio de la diferencia absoluta entre el\n",
    "# gamma real y el gamma predicho\n",
    "# optimizer = tf.keras.optimizers.RMSprop(lr=base_learning_rate, momentum=0.95)\n",
    "optimizer = tf.keras.optimizers.Adam(learning_rate=base_learning_rate)\n",
    "model.compile(optimizer=optimizer,\n",
    "              loss=tf.keras.losses.MeanAbsoluteError(),\n",
    "              metrics=['mse'])"
   ]
  },
  {
   "cell_type": "code",
   "execution_count": 29,
   "metadata": {
    "id": "I8ARiyMFsgbH"
   },
   "outputs": [
    {
     "name": "stdout",
     "output_type": "stream",
     "text": [
      "Model: \"sequential\"\n",
      "_________________________________________________________________\n",
      "Layer (type)                 Output Shape              Param #   \n",
      "=================================================================\n",
      "mobilenetv2_1.00_224 (Model) (None, 7, 7, 1280)        2257984   \n",
      "_________________________________________________________________\n",
      "global_average_pooling2d (Gl (None, 1280)              0         \n",
      "_________________________________________________________________\n",
      "dense (Dense)                (None, 1280)              1639680   \n",
      "_________________________________________________________________\n",
      "dense_1 (Dense)              (None, 1)                 1281      \n",
      "=================================================================\n",
      "Total params: 3,898,945\n",
      "Trainable params: 1,640,961\n",
      "Non-trainable params: 2,257,984\n",
      "_________________________________________________________________\n"
     ]
    }
   ],
   "source": [
    "model.summary()"
   ]
  },
  {
   "cell_type": "markdown",
   "metadata": {
    "id": "RxvgOYTDSWTx"
   },
   "source": [
    "### Train the model"
   ]
  },
  {
   "cell_type": "code",
   "execution_count": 30,
   "metadata": {
    "id": "hlHEavK7DUI7"
   },
   "outputs": [
    {
     "name": "stdout",
     "output_type": "stream",
     "text": [
      "Number of images in train partition: 3414, in validation: 854.\n"
     ]
    }
   ],
   "source": [
    "num_train = sum(1 for _ in raw_train)\n",
    "num_val = sum(1 for _ in raw_validation)\n",
    "print(f'Number of images in train partition: {num_train}, in validation: {num_val}.')\n",
    "if ARG_TEST_PARTITION:\n",
    "    num_test = sum(1 for _ in raw_test)\n",
    "    print(f'Number of images in test partiton: {num_test}.')"
   ]
  },
  {
   "cell_type": "code",
   "execution_count": 31,
   "metadata": {
    "id": "Om4O3EESkab1"
   },
   "outputs": [
    {
     "name": "stdout",
     "output_type": "stream",
     "text": [
      "<MapDataset shapes: ((None, 224, 224, 3), (None,)), types: (tf.float32, tf.float32)>\n",
      "20/20 [==============================] - 1s 30ms/step - loss: 95.8476 - mse: 9211.6113\n"
     ]
    }
   ],
   "source": [
    "steps_per_epoch = round(num_train)//BATCH_SIZE\n",
    "validation_steps=20\n",
    "\n",
    "# projects out just the first two components.\n",
    "tmp_validation_batches = validation_batches.map(lambda image, gamma, filename: (image, gamma))\n",
    "print(tmp_validation_batches)\n",
    "\n",
    "loss0 = mse0 = 0\n",
    "loss0, mse0 = model.evaluate(tmp_validation_batches, steps = validation_steps)"
   ]
  },
  {
   "cell_type": "code",
   "execution_count": 32,
   "metadata": {
    "id": "8cYT1c48CuSd"
   },
   "outputs": [
    {
     "name": "stdout",
     "output_type": "stream",
     "text": [
      "initial loss: 95.85\n",
      "initial mape: 9211.61\n"
     ]
    }
   ],
   "source": [
    "print(\"initial loss: {:.2f}\".format(loss0))\n",
    "print(\"initial mape: {:.2f}\".format(mse0))"
   ]
  },
  {
   "cell_type": "code",
   "execution_count": 33,
   "metadata": {
    "id": "JsaRFlZ9B6WK"
   },
   "outputs": [
    {
     "name": "stdout",
     "output_type": "stream",
     "text": [
      "<MapDataset shapes: ((None, 224, 224, 3), (None,)), types: (tf.float32, tf.float32)>\n"
     ]
    }
   ],
   "source": [
    "# projects out just the first two components.\n",
    "tmp_train_batches = train_batches.map(lambda image, gamma, filename: (image, gamma))\n",
    "print(tmp_train_batches)"
   ]
  },
  {
   "cell_type": "code",
   "execution_count": 34,
   "metadata": {
    "id": "XTtp6LG7yFUw"
   },
   "outputs": [],
   "source": [
    "# Implement callback function to stop training\n",
    "class MyCallback(tf.keras.callbacks.Callback):\n",
    "    \n",
    "    def __init__(self, wait_epochs):\n",
    "        self.__wait_epochs = wait_epochs\n",
    "        self.__latest_peak_mae = 50.0 # MobileNetV2 requires such a high value because it improves very slowly.\n",
    "        self.__waited_epochs = 0\n",
    "        self.__saved_model_file = None\n",
    "        self.__saved_model = None\n",
    "        \n",
    "    def stopTraining(self, epoch, val_mae):\n",
    "        stop_early = False\n",
    "        best_mae = False\n",
    "        # check for early stop\n",
    "        if val_mae < self.__latest_peak_mae and abs(val_mae - self.__latest_peak_mae) > ARG_MIN_DELTA_MAE:\n",
    "            best_mae = True\n",
    "            self.__latest_peak_mae = val_mae\n",
    "            print(f\"\\nNew peak val_mae reached: {val_mae:6.3}\")\n",
    "\n",
    "            t = time.time()\n",
    "            dir = os.path.join(ARG_DATASET_DIR, \"models\")\n",
    "            save_model_path = \"{}/{}.{}.{}.h5\".format(dir, int(t), ARG_NETWORK.name, ARG_RANDOM_SEED)\n",
    "            print(save_model_path)\n",
    "            # Either 'tf' or 'h5', indicating whether to save the model to Tensorflow SavedModel or HDF5. Defaults to 'tf' \n",
    "            # in TF 2.X, and 'h5' in TF 1.X.            \n",
    "            model.save(save_model_path, save_format='h5')\n",
    "            # borro el archivo del modelo anterior\n",
    "            if self.__saved_model_file is not None:\n",
    "                os.remove(self.__saved_model_file)\n",
    "            self.__saved_model_file = save_model_path\n",
    "            reloaded_model = tf.keras.models.load_model(save_model_path)\n",
    "            self.__saved_model = reloaded_model\n",
    "\n",
    "        if val_mae > self.__latest_peak_mae or not best_mae:\n",
    "            # Si llevo N+ epochs sin mejora\n",
    "            if self.__waited_epochs >= self.__wait_epochs:\n",
    "                print(\"\\nStopping early at epoch {0} with saved peak mae {1:10.8}\"\n",
    "                      .format(epoch + 1, self.__latest_peak_mae))\n",
    "                stop_early = True\n",
    "            \n",
    "            self.__waited_epochs += 1\n",
    "            \n",
    "        else:\n",
    "            self.__latest_peak_mae = val_mae\n",
    "            # Reset waited epochs.\n",
    "            print(\"waiting epochs reset.\")\n",
    "            self.reset_waited_epochs()\n",
    "            \n",
    "        return stop_early\n",
    "        \n",
    "    def on_epoch_end(self, epoch, logs={}):\n",
    "        # print('\\nTraining: epoch {} ends at {}'.format(epoch, datetime.now().strftime(\"%d/%m/%Y %H:%M:%S\")))\n",
    "        if self.stopTraining(epoch, logs.get('val_loss')):\n",
    "            self.model.stop_training = True\n",
    "\n",
    "    @property\n",
    "    def saved_model_file(self):\n",
    "        return self.__saved_model_file\n",
    "    \n",
    "    @property\n",
    "    def saved_model(self):\n",
    "        return self.__saved_model\n",
    "\n",
    "    def reset_waited_epochs(self):\n",
    "        self.__waited_epochs = 0;\n",
    "    \n",
    "\n",
    "# Instantiate a callback object\n",
    "callbackObj = MyCallback(ARG_EPOCHS_WO_IMPROVEMENT)"
   ]
  },
  {
   "cell_type": "code",
   "execution_count": 35,
   "metadata": {
    "id": "MZyPn887yFUz"
   },
   "outputs": [
    {
     "name": "stdout",
     "output_type": "stream",
     "text": [
      "Epoch 1/10\n",
      "107/107 [==============================] - 4s 39ms/step - loss: 12.2133 - mse: 429.3062 - val_loss: 5.9145 - val_mse: 60.7098\n",
      "Epoch 2/10\n",
      "107/107 [==============================] - 4s 38ms/step - loss: 5.1847 - mse: 45.4427 - val_loss: 5.2010 - val_mse: 47.4970\n",
      "Epoch 3/10\n",
      "107/107 [==============================] - 4s 38ms/step - loss: 4.2804 - mse: 32.6278 - val_loss: 4.5566 - val_mse: 36.9747\n",
      "Epoch 4/10\n",
      "107/107 [==============================] - 4s 38ms/step - loss: 3.8585 - mse: 26.8989 - val_loss: 4.2127 - val_mse: 32.5697\n",
      "Epoch 5/10\n",
      "107/107 [==============================] - 4s 38ms/step - loss: 3.5590 - mse: 23.4311 - val_loss: 4.0374 - val_mse: 30.4618\n",
      "Epoch 6/10\n",
      "107/107 [==============================] - 4s 38ms/step - loss: 3.7511 - mse: 24.6488 - val_loss: 3.9470 - val_mse: 30.0983\n",
      "Epoch 7/10\n",
      "107/107 [==============================] - 4s 37ms/step - loss: 3.2366 - mse: 20.0499 - val_loss: 4.8244 - val_mse: 37.9812\n",
      "Epoch 8/10\n",
      "107/107 [==============================] - 4s 38ms/step - loss: 3.4243 - mse: 21.2240 - val_loss: 4.0935 - val_mse: 29.4762\n",
      "Epoch 9/10\n",
      "107/107 [==============================] - 4s 38ms/step - loss: 3.4507 - mse: 21.4477 - val_loss: 4.4968 - val_mse: 35.9153\n",
      "Epoch 10/10\n",
      "107/107 [==============================] - 4s 38ms/step - loss: 3.1215 - mse: 18.0583 - val_loss: 3.8034 - val_mse: 26.5187\n"
     ]
    }
   ],
   "source": [
    "history = model.fit(tmp_train_batches,\n",
    "                    epochs=initial_epochs,\n",
    "                    validation_data=tmp_validation_batches)"
   ]
  },
  {
   "cell_type": "markdown",
   "metadata": {
    "id": "Hd94CKImf8vi"
   },
   "source": [
    "### Learning curves\n",
    "\n",
    "Let's take a look at the learning curves of the training and validation accuracy/loss when using the MobileNet V2 base model as a fixed feature extractor."
   ]
  },
  {
   "cell_type": "code",
   "execution_count": 36,
   "metadata": {
    "id": "zvmYWOgoyFU4"
   },
   "outputs": [
    {
     "name": "stdout",
     "output_type": "stream",
     "text": [
      "[0, 1, 2, 3, 4, 5, 6, 7, 8, 9]\n"
     ]
    }
   ],
   "source": [
    "print(history.epoch)"
   ]
  },
  {
   "cell_type": "code",
   "execution_count": 37,
   "metadata": {
    "id": "4Po3M6UrGvKr"
   },
   "outputs": [],
   "source": [
    "# Pablo Feb 25:\n",
    "# Python never implicitly copies objects. When you set list2 = list1, you are making them refer to the same exact\n",
    "# list object, so when you mutate it, all references to it keep referring to the object in its current state.\n",
    "mse = history.history['mse'].copy()\n",
    "val_mse = history.history['val_mse'].copy()\n",
    "\n",
    "loss = history.history['loss'].copy()\n",
    "val_loss = history.history['val_loss'].copy()"
   ]
  },
  {
   "cell_type": "code",
   "execution_count": 38,
   "metadata": {
    "id": "53OTCh3jnbwV"
   },
   "outputs": [
    {
     "data": {
      "image/png": "[encoded data removed]",
      "text/plain": [
       "<Figure size 576x576 with 2 Axes>"
      ]
     },
     "metadata": {
      "needs_background": "light"
     },
     "output_type": "display_data"
    }
   ],
   "source": [
    "plt.figure(figsize=(8, 8))\n",
    "plt.subplot(2, 1, 1)\n",
    "plt.plot(mse, label='Training MSE')\n",
    "plt.plot(val_mse, label='Validation MSE')\n",
    "plt.legend(loc='upper right')\n",
    "plt.ylabel('MSE')\n",
    "plt.ylim([0,50])\n",
    "plt.title('Training and Validation MSE')\n",
    "\n",
    "plt.subplot(2, 1, 2)\n",
    "plt.plot(loss, label='Training Loss')\n",
    "plt.plot(val_loss, label='Validation Loss')\n",
    "plt.legend(loc='upper right')\n",
    "plt.ylabel('Loss')\n",
    "plt.ylim([0,10])\n",
    "plt.title('Training and Validation Loss')\n",
    "plt.xlabel('epoch')\n",
    "plt.show()"
   ]
  },
  {
   "cell_type": "markdown",
   "metadata": {
    "id": "CqwV-CRdS6Nv"
   },
   "source": [
    "## Fine tuning\n",
    "In the feature extraction experiment, you were only training a few layers on top of a VGG16 base model. The weights of the pre-trained network were **not** updated during training.\n",
    "\n",
    "One way to increase performance even further is to train (or \"fine-tune\") the weights of the top layers of the pre-trained model alongside the training of the classifier you added. The training process will force the weights to be tuned from generic feature maps to features associated specifically with the dataset.\n",
    "\n",
    "Note: This should only be attempted after you have trained the top-level classifier with the pre-trained model set to non-trainable. If you add a randomly initialized classifier on top of a pre-trained model and attempt to train all layers jointly, the magnitude of the gradient updates will be too large (due to the random weights from the classifier) and your pre-trained model will forget what it has learned.\n",
    "\n",
    "Also, you should try to fine-tune a small number of top layers rather than the whole VGG16 model. In most convolutional networks, the higher up a layer is, the more specialized it is. The first few layers learn very simple and generic features that generalize to almost all types of images. As you go higher up, the features are increasingly more specific to the dataset on which the model was trained. The goal of fine-tuning is to adapt these specialized features to work with the new dataset, rather than overwrite the generic learning."
   ]
  },
  {
   "cell_type": "markdown",
   "metadata": {
    "id": "CPXnzUK0QonF"
   },
   "source": [
    "### Un-freeze the top layers of the model\n"
   ]
  },
  {
   "cell_type": "markdown",
   "metadata": {
    "id": "rfxv_ifotQak"
   },
   "source": [
    "All you need to do is unfreeze the `base_model` and set the bottom layers to be un-trainable. Then, you should recompile the model (necessary for these changes to take effect), and resume training."
   ]
  },
  {
   "cell_type": "code",
   "execution_count": 39,
   "metadata": {
    "id": "4nzcagVitLQm"
   },
   "outputs": [
    {
     "name": "stdout",
     "output_type": "stream",
     "text": [
      "layer   1, name: input_1\n",
      "layer   2, name: Conv1_pad\n",
      "layer   3, name: Conv1\n",
      "layer   4, name: bn_Conv1\n",
      "layer   5, name: Conv1_relu\n",
      "layer   6, name: expanded_conv_depthwise\n",
      "layer   7, name: expanded_conv_depthwise_BN\n",
      "layer   8, name: expanded_conv_depthwise_relu\n",
      "layer   9, name: expanded_conv_project\n",
      "layer  10, name: expanded_conv_project_BN\n",
      "layer  11, name: block_1_expand\n",
      "layer  12, name: block_1_expand_BN\n",
      "layer  13, name: block_1_expand_relu\n",
      "layer  14, name: block_1_pad\n",
      "layer  15, name: block_1_depthwise\n",
      "layer  16, name: block_1_depthwise_BN\n",
      "layer  17, name: block_1_depthwise_relu\n",
      "layer  18, name: block_1_project\n",
      "layer  19, name: block_1_project_BN\n",
      "layer  20, name: block_2_expand\n",
      "layer  21, name: block_2_expand_BN\n",
      "layer  22, name: block_2_expand_relu\n",
      "layer  23, name: block_2_depthwise\n",
      "layer  24, name: block_2_depthwise_BN\n",
      "layer  25, name: block_2_depthwise_relu\n",
      "layer  26, name: block_2_project\n",
      "layer  27, name: block_2_project_BN\n",
      "layer  28, name: block_2_add\n",
      "layer  29, name: block_3_expand\n",
      "layer  30, name: block_3_expand_BN\n",
      "layer  31, name: block_3_expand_relu\n",
      "layer  32, name: block_3_pad\n",
      "layer  33, name: block_3_depthwise\n",
      "layer  34, name: block_3_depthwise_BN\n",
      "layer  35, name: block_3_depthwise_relu\n",
      "layer  36, name: block_3_project\n",
      "layer  37, name: block_3_project_BN\n",
      "layer  38, name: block_4_expand\n",
      "layer  39, name: block_4_expand_BN\n",
      "layer  40, name: block_4_expand_relu\n",
      "layer  41, name: block_4_depthwise\n",
      "layer  42, name: block_4_depthwise_BN\n",
      "layer  43, name: block_4_depthwise_relu\n",
      "layer  44, name: block_4_project\n",
      "layer  45, name: block_4_project_BN\n",
      "layer  46, name: block_4_add\n",
      "layer  47, name: block_5_expand\n",
      "layer  48, name: block_5_expand_BN\n",
      "layer  49, name: block_5_expand_relu\n",
      "layer  50, name: block_5_depthwise\n",
      "layer  51, name: block_5_depthwise_BN\n",
      "layer  52, name: block_5_depthwise_relu\n",
      "layer  53, name: block_5_project\n",
      "layer  54, name: block_5_project_BN\n",
      "layer  55, name: block_5_add\n",
      "layer  56, name: block_6_expand\n",
      "layer  57, name: block_6_expand_BN\n",
      "layer  58, name: block_6_expand_relu\n",
      "layer  59, name: block_6_pad\n",
      "layer  60, name: block_6_depthwise\n",
      "layer  61, name: block_6_depthwise_BN\n",
      "layer  62, name: block_6_depthwise_relu\n",
      "layer  63, name: block_6_project\n",
      "layer  64, name: block_6_project_BN\n",
      "layer  65, name: block_7_expand\n",
      "layer  66, name: block_7_expand_BN\n",
      "layer  67, name: block_7_expand_relu\n",
      "layer  68, name: block_7_depthwise\n",
      "layer  69, name: block_7_depthwise_BN\n",
      "layer  70, name: block_7_depthwise_relu\n",
      "layer  71, name: block_7_project\n",
      "layer  72, name: block_7_project_BN\n",
      "layer  73, name: block_7_add\n",
      "layer  74, name: block_8_expand\n",
      "layer  75, name: block_8_expand_BN\n",
      "layer  76, name: block_8_expand_relu\n",
      "layer  77, name: block_8_depthwise\n",
      "layer  78, name: block_8_depthwise_BN\n",
      "layer  79, name: block_8_depthwise_relu\n",
      "layer  80, name: block_8_project\n",
      "layer  81, name: block_8_project_BN\n",
      "layer  82, name: block_8_add\n",
      "layer  83, name: block_9_expand\n",
      "layer  84, name: block_9_expand_BN\n",
      "layer  85, name: block_9_expand_relu\n",
      "layer  86, name: block_9_depthwise\n",
      "layer  87, name: block_9_depthwise_BN\n",
      "layer  88, name: block_9_depthwise_relu\n",
      "layer  89, name: block_9_project\n",
      "layer  90, name: block_9_project_BN\n",
      "layer  91, name: block_9_add\n",
      "layer  92, name: block_10_expand\n",
      "layer  93, name: block_10_expand_BN\n",
      "layer  94, name: block_10_expand_relu\n",
      "layer  95, name: block_10_depthwise\n",
      "layer  96, name: block_10_depthwise_BN\n",
      "layer  97, name: block_10_depthwise_relu\n",
      "layer  98, name: block_10_project\n",
      "layer  99, name: block_10_project_BN\n",
      "layer 100, name: block_11_expand\n",
      "layer 101, name: block_11_expand_BN\n",
      "layer 102, name: block_11_expand_relu\n",
      "layer 103, name: block_11_depthwise\n",
      "layer 104, name: block_11_depthwise_BN\n",
      "layer 105, name: block_11_depthwise_relu\n",
      "layer 106, name: block_11_project\n",
      "layer 107, name: block_11_project_BN\n",
      "layer 108, name: block_11_add\n",
      "layer 109, name: block_12_expand\n",
      "layer 110, name: block_12_expand_BN\n",
      "layer 111, name: block_12_expand_relu\n",
      "layer 112, name: block_12_depthwise\n",
      "layer 113, name: block_12_depthwise_BN\n",
      "layer 114, name: block_12_depthwise_relu\n",
      "layer 115, name: block_12_project\n",
      "layer 116, name: block_12_project_BN\n",
      "layer 117, name: block_12_add\n",
      "layer 118, name: block_13_expand\n",
      "layer 119, name: block_13_expand_BN\n",
      "layer 120, name: block_13_expand_relu\n",
      "layer 121, name: block_13_pad\n",
      "layer 122, name: block_13_depthwise\n",
      "layer 123, name: block_13_depthwise_BN\n",
      "layer 124, name: block_13_depthwise_relu\n",
      "layer 125, name: block_13_project\n",
      "layer 126, name: block_13_project_BN\n",
      "layer 127, name: block_14_expand\n",
      "layer 128, name: block_14_expand_BN\n",
      "layer 129, name: block_14_expand_relu\n",
      "layer 130, name: block_14_depthwise\n",
      "layer 131, name: block_14_depthwise_BN\n",
      "layer 132, name: block_14_depthwise_relu\n",
      "layer 133, name: block_14_project\n",
      "layer 134, name: block_14_project_BN\n",
      "layer 135, name: block_14_add\n",
      "layer 136, name: block_15_expand\n",
      "layer 137, name: block_15_expand_BN\n",
      "layer 138, name: block_15_expand_relu\n",
      "layer 139, name: block_15_depthwise\n",
      "layer 140, name: block_15_depthwise_BN\n",
      "layer 141, name: block_15_depthwise_relu\n",
      "layer 142, name: block_15_project\n",
      "layer 143, name: block_15_project_BN\n",
      "layer 144, name: block_15_add\n",
      "layer 145, name: block_16_expand\n",
      "layer 146, name: block_16_expand_BN\n",
      "layer 147, name: block_16_expand_relu\n",
      "layer 148, name: block_16_depthwise\n",
      "layer 149, name: block_16_depthwise_BN\n",
      "layer 150, name: block_16_depthwise_relu\n",
      "layer 151, name: block_16_project\n",
      "layer 152, name: block_16_project_BN\n",
      "layer 153, name: Conv_1\n",
      "layer 154, name: Conv_1_bn\n",
      "layer 155, name: out_relu\n"
     ]
    }
   ],
   "source": [
    "base_model.trainable = True\n",
    "\n",
    "# Pablo Feb 25: con este loop me aseguro que las capas que en la próxima celda *NO* pongo como layer.trainable = False sean\n",
    "# trainable.\n",
    "l = 1\n",
    "for layer in base_model.layers:\n",
    "    print('layer {:3d}, name: {}'.format(l, layer.name))\n",
    "    if layer.__class__.__name__ != \"BatchNormalization\":\n",
    "        layer.trainable =  True\n",
    "    l += 1"
   ]
  },
  {
   "cell_type": "code",
   "execution_count": 40,
   "metadata": {
    "id": "-4HgVAacRs5v"
   },
   "outputs": [
    {
     "name": "stdout",
     "output_type": "stream",
     "text": [
      "Number of layers in the base model:  155\n",
      "layer   1, name: input_1 set to not trainable.\n",
      "layer   2, name: Conv1_pad set to not trainable.\n",
      "layer   3, name: Conv1 set to not trainable.\n",
      "layer   5, name: Conv1_relu set to not trainable.\n",
      "layer   6, name: expanded_conv_depthwise set to not trainable.\n",
      "layer   8, name: expanded_conv_depthwise_relu set to not trainable.\n",
      "layer   9, name: expanded_conv_project set to not trainable.\n",
      "layer  11, name: block_1_expand set to not trainable.\n",
      "layer  13, name: block_1_expand_relu set to not trainable.\n",
      "layer  14, name: block_1_pad set to not trainable.\n",
      "layer  15, name: block_1_depthwise set to not trainable.\n",
      "layer  17, name: block_1_depthwise_relu set to not trainable.\n",
      "layer  18, name: block_1_project set to not trainable.\n",
      "layer  20, name: block_2_expand set to not trainable.\n",
      "layer  22, name: block_2_expand_relu set to not trainable.\n",
      "layer  23, name: block_2_depthwise set to not trainable.\n",
      "layer  25, name: block_2_depthwise_relu set to not trainable.\n",
      "layer  26, name: block_2_project set to not trainable.\n",
      "layer  28, name: block_2_add set to not trainable.\n",
      "layer  29, name: block_3_expand set to not trainable.\n",
      "layer  31, name: block_3_expand_relu set to not trainable.\n",
      "layer  32, name: block_3_pad set to not trainable.\n",
      "layer  33, name: block_3_depthwise set to not trainable.\n",
      "layer  35, name: block_3_depthwise_relu set to not trainable.\n",
      "layer  36, name: block_3_project set to not trainable.\n",
      "layer  38, name: block_4_expand set to not trainable.\n",
      "layer  40, name: block_4_expand_relu set to not trainable.\n",
      "layer  41, name: block_4_depthwise set to not trainable.\n",
      "layer  43, name: block_4_depthwise_relu set to not trainable.\n",
      "layer  44, name: block_4_project set to not trainable.\n",
      "layer  46, name: block_4_add set to not trainable.\n",
      "layer  47, name: block_5_expand set to not trainable.\n",
      "layer  49, name: block_5_expand_relu set to not trainable.\n",
      "layer  50, name: block_5_depthwise set to not trainable.\n",
      "layer  52, name: block_5_depthwise_relu set to not trainable.\n",
      "layer  53, name: block_5_project set to not trainable.\n",
      "layer  55, name: block_5_add set to not trainable.\n",
      "layer  56, name: block_6_expand set to not trainable.\n",
      "layer  58, name: block_6_expand_relu set to not trainable.\n",
      "layer  59, name: block_6_pad set to not trainable.\n",
      "layer  60, name: block_6_depthwise set to not trainable.\n",
      "layer  62, name: block_6_depthwise_relu set to not trainable.\n",
      "layer  63, name: block_6_project set to not trainable.\n",
      "layer  65, name: block_7_expand set to not trainable.\n",
      "layer  67, name: block_7_expand_relu set to not trainable.\n",
      "layer  68, name: block_7_depthwise set to not trainable.\n",
      "layer  70, name: block_7_depthwise_relu set to not trainable.\n",
      "layer  71, name: block_7_project set to not trainable.\n",
      "layer  73, name: block_7_add set to not trainable.\n",
      "layer  74, name: block_8_expand set to not trainable.\n",
      "layer  76, name: block_8_expand_relu set to not trainable.\n",
      "layer  77, name: block_8_depthwise set to not trainable.\n",
      "layer  79, name: block_8_depthwise_relu set to not trainable.\n",
      "layer  80, name: block_8_project set to not trainable.\n",
      "layer  82, name: block_8_add set to not trainable.\n",
      "layer  83, name: block_9_expand set to not trainable.\n",
      "layer  85, name: block_9_expand_relu set to not trainable.\n",
      "layer  86, name: block_9_depthwise set to not trainable.\n",
      "layer  88, name: block_9_depthwise_relu set to not trainable.\n",
      "layer  89, name: block_9_project set to not trainable.\n",
      "layer  91, name: block_9_add set to not trainable.\n",
      "layer  92, name: block_10_expand set to not trainable.\n",
      "layer  94, name: block_10_expand_relu set to not trainable.\n",
      "layer  95, name: block_10_depthwise set to not trainable.\n",
      "layer  97, name: block_10_depthwise_relu set to not trainable.\n",
      "layer  98, name: block_10_project set to not trainable.\n",
      "layer 100, name: block_11_expand set to not trainable.\n",
      "layer 102, name: block_11_expand_relu set to not trainable.\n",
      "layer 103, name: block_11_depthwise set to not trainable.\n",
      "layer 105, name: block_11_depthwise_relu set to not trainable.\n",
      "layer 106, name: block_11_project set to not trainable.\n",
      "layer 108, name: block_11_add set to not trainable.\n",
      "layer 109, name: block_12_expand set to not trainable.\n",
      "layer 111, name: block_12_expand_relu set to not trainable.\n",
      "layer 112, name: block_12_depthwise set to not trainable.\n",
      "layer 114, name: block_12_depthwise_relu set to not trainable.\n",
      "layer 115, name: block_12_project set to not trainable.\n",
      "layer 117, name: block_12_add set to not trainable.\n"
     ]
    }
   ],
   "source": [
    "# Let's take a look to see how many layers are in the base model\n",
    "print(\"Number of layers in the base model: \", len(base_model.layers))\n",
    "\n",
    "l = 1\n",
    "# Freeze all the layers before the `fine_tune_at` layer\n",
    "for layer in base_model.layers[:fine_tune_at]:\n",
    "    if layer.__class__.__name__ != \"BatchNormalization\":\n",
    "        print('layer {:3d}, name: {} set to not trainable.'.format(l, layer.name))\n",
    "        layer.trainable = False\n",
    "    l += 1"
   ]
  },
  {
   "cell_type": "markdown",
   "metadata": {
    "id": "4Uk1dgsxT0IS"
   },
   "source": [
    "### Compile the model\n",
    "\n",
    "Compile the model using a much lower learning rate."
   ]
  },
  {
   "cell_type": "code",
   "execution_count": 41,
   "metadata": {
    "id": "AVvlrXb9yFVH"
   },
   "outputs": [],
   "source": [
    "# This function keeps the learning rate at 0.001 for the first ten epochs\n",
    "# and decreases it exponentially after that.\n",
    "def lr_scheduler(epoch):\n",
    "    lr = base_learning_rate\n",
    "    #k = 0.15\n",
    "    #if epoch >= 10 and epoch <= 40:\n",
    "    #    lr = tf.math.exp(k * (10 - epoch)) * base_learning_rate\n",
    "    #    print(\"\\nlearning rate: %.8f\"%(lr))\n",
    "    if epoch >= 10 and epoch <= 30:\n",
    "        lr = base_learning_rate/10\n",
    "    elif epoch > 30 and epoch <= 60:\n",
    "        lr = base_learning_rate/100\n",
    "    elif epoch > 60:\n",
    "        lr = base_learning_rate/500\n",
    "    print(\"\\nlearning rate: %.6f\"%(lr))\n",
    "    \n",
    "    return lr\n",
    "    \n",
    "    \n",
    "callbackLR = tf.keras.callbacks.LearningRateScheduler(lr_scheduler)"
   ]
  },
  {
   "cell_type": "code",
   "execution_count": 42,
   "metadata": {
    "id": "MvJPcR-PIEu2"
   },
   "outputs": [],
   "source": [
    "reduce_lr = tf.keras.callbacks.ReduceLROnPlateau(monitor='val_loss', factor=0.2,\n",
    "                              patience=ARG_LR_PATIENCE, verbose=1, min_delta=0.01)"
   ]
  },
  {
   "cell_type": "code",
   "execution_count": 43,
   "metadata": {
    "id": "NtUnaz0WUDva"
   },
   "outputs": [],
   "source": [
    "# optimizer = tf.keras.optimizers.RMSprop(lr=base_learning_rate/10, momentum=0.95)\n",
    "optimizer = tf.keras.optimizers.Adam(learning_rate=base_learning_rate/10, epsilon=1e-08, amsgrad=False)\n",
    "model.compile(loss=tf.keras.losses.MeanAbsoluteError(),\n",
    "              optimizer = optimizer,\n",
    "              metrics=['mse'])"
   ]
  },
  {
   "cell_type": "code",
   "execution_count": 44,
   "metadata": {
    "id": "WwBWy7J2kZvA"
   },
   "outputs": [
    {
     "name": "stdout",
     "output_type": "stream",
     "text": [
      "Model: \"sequential\"\n",
      "_________________________________________________________________\n",
      "Layer (type)                 Output Shape              Param #   \n",
      "=================================================================\n",
      "mobilenetv2_1.00_224 (Model) (None, 7, 7, 1280)        2257984   \n",
      "_________________________________________________________________\n",
      "global_average_pooling2d (Gl (None, 1280)              0         \n",
      "_________________________________________________________________\n",
      "dense (Dense)                (None, 1280)              1639680   \n",
      "_________________________________________________________________\n",
      "dense_1 (Dense)              (None, 1)                 1281      \n",
      "=================================================================\n",
      "Total params: 3,898,945\n",
      "Trainable params: 3,338,433\n",
      "Non-trainable params: 560,512\n",
      "_________________________________________________________________\n"
     ]
    }
   ],
   "source": [
    "model.summary()"
   ]
  },
  {
   "cell_type": "code",
   "execution_count": 45,
   "metadata": {
    "id": "bNXelbMQtonr"
   },
   "outputs": [
    {
     "data": {
      "text/plain": [
       "121"
      ]
     },
     "execution_count": 45,
     "metadata": {},
     "output_type": "execute_result"
    }
   ],
   "source": [
    "len(model.trainable_variables)"
   ]
  },
  {
   "cell_type": "markdown",
   "metadata": {
    "id": "4G5O4jd6TuAG"
   },
   "source": [
    "### Continue training the model"
   ]
  },
  {
   "cell_type": "markdown",
   "metadata": {
    "id": "0foWUN-yDLo_"
   },
   "source": [
    "If you trained to convergence earlier, this step will improve your accuracy by a few percentage points."
   ]
  },
  {
   "cell_type": "code",
   "execution_count": 46,
   "metadata": {
    "id": "ECQLkAsFTlun"
   },
   "outputs": [
    {
     "name": "stdout",
     "output_type": "stream",
     "text": [
      "Epoch 11/210\n",
      "107/107 [==============================] - 9s 83ms/step - loss: 7.2271 - mse: 86.0966 - val_loss: 70.5667 - val_mse: 5024.9360 - lr: 1.0000e-04\n",
      "Epoch 12/210\n",
      "107/107 [==============================] - 8s 77ms/step - loss: 4.8435 - mse: 38.7666 - val_loss: 71.2069 - val_mse: 5123.5679 - lr: 1.0000e-04\n",
      "Epoch 13/210\n",
      "107/107 [==============================] - 8s 78ms/step - loss: 3.7489 - mse: 23.0918 - val_loss: 75.0788 - val_mse: 5686.8062 - lr: 1.0000e-04\n",
      "Epoch 14/210\n",
      "107/107 [==============================] - 8s 77ms/step - loss: 3.2827 - mse: 17.6148 - val_loss: 60.4418 - val_mse: 3696.4060 - lr: 1.0000e-04\n",
      "Epoch 15/210\n",
      "107/107 [==============================] - 8s 77ms/step - loss: 2.7677 - mse: 12.8981 - val_loss: 66.8652 - val_mse: 4519.5078 - lr: 1.0000e-04\n",
      "Epoch 16/210\n",
      "107/107 [==============================] - 8s 77ms/step - loss: 2.4565 - mse: 10.1866 - val_loss: 72.6631 - val_mse: 5322.4409 - lr: 1.0000e-04\n",
      "Epoch 17/210\n",
      "107/107 [==============================] - 8s 78ms/step - loss: 2.2969 - mse: 8.9891 - val_loss: 73.4754 - val_mse: 5451.5264 - lr: 1.0000e-04\n",
      "Epoch 18/210\n",
      "107/107 [==============================] - 8s 77ms/step - loss: 2.0522 - mse: 7.5395 - val_loss: 67.3724 - val_mse: 4588.6343 - lr: 1.0000e-04\n",
      "Epoch 19/210\n",
      "107/107 [==============================] - 8s 77ms/step - loss: 2.0361 - mse: 7.2775 - val_loss: 63.6316 - val_mse: 4098.3301 - lr: 1.0000e-04\n",
      "Epoch 20/210\n",
      "107/107 [==============================] - 8s 77ms/step - loss: 1.9539 - mse: 6.5628 - val_loss: 61.3446 - val_mse: 3810.6379 - lr: 1.0000e-04\n",
      "Epoch 21/210\n",
      "107/107 [==============================] - 8s 77ms/step - loss: 1.7921 - mse: 5.5180 - val_loss: 60.6555 - val_mse: 3720.7556 - lr: 1.0000e-04\n",
      "Epoch 22/210\n",
      "107/107 [==============================] - 8s 77ms/step - loss: 1.6326 - mse: 4.6980 - val_loss: 57.2127 - val_mse: 3311.8696 - lr: 1.0000e-04\n",
      "Epoch 23/210\n",
      "107/107 [==============================] - 8s 77ms/step - loss: 1.7289 - mse: 5.0384 - val_loss: 52.0508 - val_mse: 2743.7983 - lr: 1.0000e-04\n",
      "Epoch 24/210\n",
      "107/107 [==============================] - 8s 77ms/step - loss: 1.7146 - mse: 5.0271 - val_loss: 51.9732 - val_mse: 2738.0200 - lr: 1.0000e-04\n",
      "Epoch 25/210\n",
      "107/107 [==============================] - ETA: 0s - loss: 1.5527 - mse: 4.1490\n",
      "New peak val_mae reached:   45.2\n",
      "/hdd/data/radioterapia/ciolaplata/models/1612657747.mobilenetV2.23456.h5\n",
      "waiting epochs reset.\n",
      "107/107 [==============================] - 11s 104ms/step - loss: 1.5527 - mse: 4.1490 - val_loss: 45.1529 - val_mse: 2071.8245 - lr: 1.0000e-04\n",
      "Epoch 26/210\n",
      "107/107 [==============================] - ETA: 0s - loss: 1.4919 - mse: 3.7975\n",
      "New peak val_mae reached:   44.0\n",
      "/hdd/data/radioterapia/ciolaplata/models/1612657758.mobilenetV2.23456.h5\n",
      "waiting epochs reset.\n",
      "107/107 [==============================] - 11s 104ms/step - loss: 1.4919 - mse: 3.7975 - val_loss: 44.0059 - val_mse: 1972.3402 - lr: 1.0000e-04\n",
      "Epoch 27/210\n",
      "107/107 [==============================] - ETA: 0s - loss: 1.5571 - mse: 4.1234\n",
      "New peak val_mae reached:   42.9\n",
      "/hdd/data/radioterapia/ciolaplata/models/1612657770.mobilenetV2.23456.h5\n",
      "waiting epochs reset.\n",
      "107/107 [==============================] - 11s 105ms/step - loss: 1.5571 - mse: 4.1234 - val_loss: 42.8594 - val_mse: 1871.1401 - lr: 1.0000e-04\n",
      "Epoch 28/210\n",
      "107/107 [==============================] - 8s 77ms/step - loss: 1.5067 - mse: 4.1165 - val_loss: 44.2672 - val_mse: 1995.7943 - lr: 1.0000e-04\n",
      "Epoch 29/210\n",
      "106/107 [============================>.] - ETA: 0s - loss: 1.3595 - mse: 3.3436\n",
      "New peak val_mae reached:   40.7\n",
      "/hdd/data/radioterapia/ciolaplata/models/1612657790.mobilenetV2.23456.h5\n",
      "waiting epochs reset.\n",
      "107/107 [==============================] - 11s 106ms/step - loss: 1.3595 - mse: 3.3400 - val_loss: 40.6731 - val_mse: 1694.8530 - lr: 1.0000e-04\n",
      "Epoch 30/210\n",
      "107/107 [==============================] - ETA: 0s - loss: 1.5850 - mse: 4.1762\n",
      "New peak val_mae reached:   36.2\n",
      "/hdd/data/radioterapia/ciolaplata/models/1612657801.mobilenetV2.23456.h5\n",
      "waiting epochs reset.\n",
      "107/107 [==============================] - 11s 104ms/step - loss: 1.5850 - mse: 4.1762 - val_loss: 36.1547 - val_mse: 1345.5984 - lr: 1.0000e-04\n",
      "Epoch 31/210\n",
      "107/107 [==============================] - ETA: 0s - loss: 1.3880 - mse: 3.2269\n",
      "New peak val_mae reached:   27.7\n",
      "/hdd/data/radioterapia/ciolaplata/models/1612657813.mobilenetV2.23456.h5\n",
      "waiting epochs reset.\n",
      "107/107 [==============================] - 11s 107ms/step - loss: 1.3880 - mse: 3.2269 - val_loss: 27.6668 - val_mse: 798.7968 - lr: 1.0000e-04\n",
      "Epoch 32/210\n",
      "107/107 [==============================] - 8s 77ms/step - loss: 1.4164 - mse: 3.4718 - val_loss: 33.1409 - val_mse: 1135.6975 - lr: 1.0000e-04\n",
      "Epoch 33/210\n",
      "107/107 [==============================] - ETA: 0s - loss: 1.3070 - mse: 2.9283\n",
      "New peak val_mae reached:   24.0\n",
      "/hdd/data/radioterapia/ciolaplata/models/1612657833.mobilenetV2.23456.h5\n",
      "waiting epochs reset.\n",
      "107/107 [==============================] - 11s 104ms/step - loss: 1.3070 - mse: 2.9283 - val_loss: 24.0396 - val_mse: 610.1176 - lr: 1.0000e-04\n",
      "Epoch 34/210\n",
      "107/107 [==============================] - ETA: 0s - loss: 1.2555 - mse: 2.7283\n",
      "New peak val_mae reached:   22.8\n",
      "/hdd/data/radioterapia/ciolaplata/models/1612657844.mobilenetV2.23456.h5\n",
      "waiting epochs reset.\n",
      "107/107 [==============================] - 11s 104ms/step - loss: 1.2555 - mse: 2.7283 - val_loss: 22.7982 - val_mse: 549.2838 - lr: 1.0000e-04\n",
      "Epoch 35/210\n",
      "107/107 [==============================] - ETA: 0s - loss: 1.2775 - mse: 2.7507\n",
      "New peak val_mae reached:   15.1\n",
      "/hdd/data/radioterapia/ciolaplata/models/1612657856.mobilenetV2.23456.h5\n",
      "waiting epochs reset.\n",
      "107/107 [==============================] - 12s 108ms/step - loss: 1.2775 - mse: 2.7507 - val_loss: 15.0872 - val_mse: 257.9339 - lr: 1.0000e-04\n",
      "Epoch 36/210\n",
      "107/107 [==============================] - ETA: 0s - loss: 1.1605 - mse: 2.3131\n",
      "New peak val_mae reached:   9.98\n",
      "/hdd/data/radioterapia/ciolaplata/models/1612657867.mobilenetV2.23456.h5\n",
      "waiting epochs reset.\n",
      "107/107 [==============================] - 11s 105ms/step - loss: 1.1605 - mse: 2.3131 - val_loss: 9.9815 - val_mse: 128.4468 - lr: 1.0000e-04\n",
      "Epoch 37/210\n",
      "107/107 [==============================] - ETA: 0s - loss: 1.2275 - mse: 2.6132\n",
      "New peak val_mae reached:    8.8\n",
      "/hdd/data/radioterapia/ciolaplata/models/1612657879.mobilenetV2.23456.h5\n",
      "waiting epochs reset.\n",
      "107/107 [==============================] - 11s 104ms/step - loss: 1.2275 - mse: 2.6132 - val_loss: 8.7973 - val_mse: 108.3369 - lr: 1.0000e-04\n",
      "Epoch 38/210\n",
      "107/107 [==============================] - ETA: 0s - loss: 1.1680 - mse: 2.3848\n",
      "New peak val_mae reached:   7.67\n",
      "/hdd/data/radioterapia/ciolaplata/models/1612657890.mobilenetV2.23456.h5\n",
      "waiting epochs reset.\n",
      "107/107 [==============================] - 12s 110ms/step - loss: 1.1680 - mse: 2.3848 - val_loss: 7.6723 - val_mse: 87.7623 - lr: 1.0000e-04\n",
      "Epoch 39/210\n",
      "107/107 [==============================] - ETA: 0s - loss: 1.1273 - mse: 2.2587\n",
      "New peak val_mae reached:   6.14\n",
      "/hdd/data/radioterapia/ciolaplata/models/1612657902.mobilenetV2.23456.h5\n",
      "waiting epochs reset.\n",
      "107/107 [==============================] - 11s 105ms/step - loss: 1.1273 - mse: 2.2587 - val_loss: 6.1426 - val_mse: 65.4604 - lr: 1.0000e-04\n",
      "Epoch 40/210\n",
      "107/107 [==============================] - 8s 77ms/step - loss: 1.1939 - mse: 2.4401 - val_loss: 6.2193 - val_mse: 65.7919 - lr: 1.0000e-04\n",
      "Epoch 41/210\n",
      "107/107 [==============================] - ETA: 0s - loss: 1.1990 - mse: 2.4516\n",
      "New peak val_mae reached:   5.27\n",
      "/hdd/data/radioterapia/ciolaplata/models/1612657922.mobilenetV2.23456.h5\n",
      "waiting epochs reset.\n",
      "107/107 [==============================] - 11s 105ms/step - loss: 1.1990 - mse: 2.4516 - val_loss: 5.2710 - val_mse: 51.6006 - lr: 1.0000e-04\n",
      "Epoch 42/210\n",
      "107/107 [==============================] - ETA: 0s - loss: 1.1375 - mse: 2.2244\n",
      "New peak val_mae reached:   4.99\n",
      "/hdd/data/radioterapia/ciolaplata/models/1612657934.mobilenetV2.23456.h5\n",
      "waiting epochs reset.\n",
      "107/107 [==============================] - 11s 105ms/step - loss: 1.1375 - mse: 2.2244 - val_loss: 4.9946 - val_mse: 47.7367 - lr: 1.0000e-04\n",
      "Epoch 43/210\n"
     ]
    },
    {
     "name": "stdout",
     "output_type": "stream",
     "text": [
      "107/107 [==============================] - ETA: 0s - loss: 1.1440 - mse: 2.2662\n",
      "New peak val_mae reached:   4.25\n",
      "/hdd/data/radioterapia/ciolaplata/models/1612657946.mobilenetV2.23456.h5\n",
      "waiting epochs reset.\n",
      "107/107 [==============================] - 12s 111ms/step - loss: 1.1440 - mse: 2.2662 - val_loss: 4.2471 - val_mse: 40.7676 - lr: 1.0000e-04\n",
      "Epoch 44/210\n",
      "107/107 [==============================] - 8s 77ms/step - loss: 1.1387 - mse: 2.2630 - val_loss: 6.1382 - val_mse: 67.1583 - lr: 1.0000e-04\n",
      "Epoch 45/210\n",
      "107/107 [==============================] - 8s 77ms/step - loss: 1.0579 - mse: 2.0222 - val_loss: 5.3533 - val_mse: 49.9793 - lr: 1.0000e-04\n",
      "Epoch 46/210\n",
      "107/107 [==============================] - ETA: 0s - loss: 1.0558 - mse: 1.9668\n",
      "New peak val_mae reached:   3.84\n",
      "/hdd/data/radioterapia/ciolaplata/models/1612657975.mobilenetV2.23456.h5\n",
      "waiting epochs reset.\n",
      "107/107 [==============================] - 11s 106ms/step - loss: 1.0558 - mse: 1.9668 - val_loss: 3.8404 - val_mse: 29.7866 - lr: 1.0000e-04\n",
      "Epoch 47/210\n",
      "107/107 [==============================] - 8s 78ms/step - loss: 1.0315 - mse: 1.8547 - val_loss: 5.3592 - val_mse: 44.8568 - lr: 1.0000e-04\n",
      "Epoch 48/210\n",
      "107/107 [==============================] - 8s 78ms/step - loss: 1.1202 - mse: 2.2074 - val_loss: 7.7682 - val_mse: 77.6742 - lr: 1.0000e-04\n",
      "Epoch 49/210\n",
      "107/107 [==============================] - 8s 78ms/step - loss: 1.1181 - mse: 2.1075 - val_loss: 5.4984 - val_mse: 47.1832 - lr: 1.0000e-04\n",
      "Epoch 50/210\n",
      "107/107 [==============================] - 8s 77ms/step - loss: 1.0439 - mse: 1.9162 - val_loss: 5.0684 - val_mse: 41.1309 - lr: 1.0000e-04\n",
      "Epoch 51/210\n",
      "107/107 [==============================] - ETA: 0s - loss: 1.0118 - mse: 1.7620\n",
      "New peak val_mae reached:   3.31\n",
      "/hdd/data/radioterapia/ciolaplata/models/1612658021.mobilenetV2.23456.h5\n",
      "waiting epochs reset.\n",
      "107/107 [==============================] - 11s 107ms/step - loss: 1.0118 - mse: 1.7620 - val_loss: 3.3140 - val_mse: 22.4758 - lr: 1.0000e-04\n",
      "Epoch 52/210\n",
      "107/107 [==============================] - 8s 77ms/step - loss: 1.0051 - mse: 1.7475 - val_loss: 3.3320 - val_mse: 24.0329 - lr: 1.0000e-04\n",
      "Epoch 53/210\n",
      "107/107 [==============================] - 8s 77ms/step - loss: 1.0014 - mse: 1.7263 - val_loss: 4.1225 - val_mse: 29.1964 - lr: 1.0000e-04\n",
      "Epoch 54/210\n",
      "107/107 [==============================] - 8s 77ms/step - loss: 1.0900 - mse: 1.9454 - val_loss: 4.0195 - val_mse: 28.6244 - lr: 1.0000e-04\n",
      "Epoch 55/210\n",
      "107/107 [==============================] - 8s 77ms/step - loss: 0.9700 - mse: 1.6681 - val_loss: 5.8942 - val_mse: 48.3289 - lr: 1.0000e-04\n",
      "Epoch 56/210\n",
      "107/107 [==============================] - 8s 77ms/step - loss: 1.0231 - mse: 1.7654 - val_loss: 7.5729 - val_mse: 70.4354 - lr: 1.0000e-04\n",
      "Epoch 57/210\n",
      "107/107 [==============================] - 8s 77ms/step - loss: 0.9887 - mse: 1.6765 - val_loss: 5.0683 - val_mse: 36.6006 - lr: 1.0000e-04\n",
      "Epoch 58/210\n",
      "107/107 [==============================] - 8s 77ms/step - loss: 1.0380 - mse: 1.8800 - val_loss: 6.0680 - val_mse: 48.1160 - lr: 1.0000e-04\n",
      "Epoch 59/210\n",
      "107/107 [==============================] - 8s 77ms/step - loss: 0.9872 - mse: 1.6726 - val_loss: 6.9542 - val_mse: 61.2745 - lr: 1.0000e-04\n",
      "Epoch 60/210\n",
      "107/107 [==============================] - 8s 77ms/step - loss: 0.9617 - mse: 1.6766 - val_loss: 5.3934 - val_mse: 42.7136 - lr: 1.0000e-04\n",
      "Epoch 61/210\n",
      "107/107 [==============================] - 8s 77ms/step - loss: 0.9432 - mse: 1.5405 - val_loss: 6.5665 - val_mse: 55.3398 - lr: 1.0000e-04\n",
      "Epoch 62/210\n",
      "107/107 [==============================] - 8s 77ms/step - loss: 0.9376 - mse: 1.5823 - val_loss: 4.0890 - val_mse: 28.8727 - lr: 1.0000e-04\n",
      "Epoch 63/210\n",
      "107/107 [==============================] - 8s 77ms/step - loss: 0.9441 - mse: 1.5413 - val_loss: 4.5715 - val_mse: 34.3137 - lr: 1.0000e-04\n",
      "Epoch 64/210\n",
      "107/107 [==============================] - 8s 78ms/step - loss: 0.9697 - mse: 1.6706 - val_loss: 5.4096 - val_mse: 39.4680 - lr: 1.0000e-04\n",
      "Epoch 65/210\n",
      "107/107 [==============================] - 8s 77ms/step - loss: 0.8694 - mse: 1.3495 - val_loss: 4.3110 - val_mse: 28.1603 - lr: 1.0000e-04\n",
      "Epoch 66/210\n",
      "107/107 [==============================] - ETA: 0s - loss: 0.9199 - mse: 1.4208\n",
      "Epoch 00066: ReduceLROnPlateau reducing learning rate to 1.9999999494757503e-05.\n",
      "107/107 [==============================] - 8s 77ms/step - loss: 0.9199 - mse: 1.4208 - val_loss: 5.5042 - val_mse: 40.1916 - lr: 1.0000e-04\n",
      "Epoch 67/210\n",
      "107/107 [==============================] - 8s 77ms/step - loss: 0.7173 - mse: 0.9026 - val_loss: 5.1594 - val_mse: 36.0148 - lr: 2.0000e-05\n",
      "Epoch 68/210\n",
      "107/107 [==============================] - 8s 78ms/step - loss: 0.6172 - mse: 0.6957 - val_loss: 4.9344 - val_mse: 33.5434 - lr: 2.0000e-05\n",
      "Epoch 69/210\n",
      "107/107 [==============================] - 8s 77ms/step - loss: 0.5811 - mse: 0.6014 - val_loss: 3.5095 - val_mse: 20.6154 - lr: 2.0000e-05\n",
      "Epoch 70/210\n",
      "107/107 [==============================] - 8s 78ms/step - loss: 0.5528 - mse: 0.5308 - val_loss: 3.4905 - val_mse: 20.6219 - lr: 2.0000e-05\n",
      "Epoch 71/210\n",
      "107/107 [==============================] - 8s 78ms/step - loss: 0.5538 - mse: 0.5198 - val_loss: 3.5620 - val_mse: 20.9020 - lr: 2.0000e-05\n",
      "Epoch 72/210\n",
      "107/107 [==============================] - ETA: 0s - loss: 0.5523 - mse: 0.5185\n",
      "New peak val_mae reached:   3.05\n",
      "/hdd/data/radioterapia/ciolaplata/models/1612658204.mobilenetV2.23456.h5\n",
      "waiting epochs reset.\n",
      "107/107 [==============================] - 11s 106ms/step - loss: 0.5523 - mse: 0.5185 - val_loss: 3.0539 - val_mse: 17.0783 - lr: 2.0000e-05\n",
      "Epoch 73/210\n",
      "107/107 [==============================] - 8s 78ms/step - loss: 0.5157 - mse: 0.4633 - val_loss: 3.2588 - val_mse: 18.2004 - lr: 2.0000e-05\n",
      "Epoch 74/210\n",
      "107/107 [==============================] - ETA: 0s - loss: 0.5205 - mse: 0.4811\n",
      "New peak val_mae reached:   2.89\n",
      "/hdd/data/radioterapia/ciolaplata/models/1612658225.mobilenetV2.23456.h5\n",
      "waiting epochs reset.\n",
      "107/107 [==============================] - 12s 114ms/step - loss: 0.5205 - mse: 0.4811 - val_loss: 2.8861 - val_mse: 15.8355 - lr: 2.0000e-05\n",
      "Epoch 75/210\n",
      "107/107 [==============================] - ETA: 0s - loss: 0.5399 - mse: 0.5068\n",
      "New peak val_mae reached:   2.56\n",
      "/hdd/data/radioterapia/ciolaplata/models/1612658237.mobilenetV2.23456.h5\n",
      "waiting epochs reset.\n",
      "107/107 [==============================] - 11s 107ms/step - loss: 0.5399 - mse: 0.5068 - val_loss: 2.5641 - val_mse: 13.7313 - lr: 2.0000e-05\n",
      "Epoch 76/210\n",
      "107/107 [==============================] - ETA: 0s - loss: 0.4531 - mse: 0.3563\n",
      "New peak val_mae reached:   2.26\n",
      "/hdd/data/radioterapia/ciolaplata/models/1612658249.mobilenetV2.23456.h5\n",
      "waiting epochs reset.\n",
      "107/107 [==============================] - 11s 107ms/step - loss: 0.4531 - mse: 0.3563 - val_loss: 2.2551 - val_mse: 11.9031 - lr: 2.0000e-05\n",
      "Epoch 77/210\n",
      "107/107 [==============================] - ETA: 0s - loss: 0.4771 - mse: 0.3938\n",
      "New peak val_mae reached:   2.04\n",
      "/hdd/data/radioterapia/ciolaplata/models/1612658260.mobilenetV2.23456.h5\n",
      "waiting epochs reset.\n",
      "107/107 [==============================] - 11s 107ms/step - loss: 0.4771 - mse: 0.3938 - val_loss: 2.0398 - val_mse: 10.5391 - lr: 2.0000e-05\n",
      "Epoch 78/210\n",
      "107/107 [==============================] - 8s 78ms/step - loss: 0.5176 - mse: 0.4675 - val_loss: 2.1269 - val_mse: 10.7640 - lr: 2.0000e-05\n",
      "Epoch 79/210\n",
      "107/107 [==============================] - 8s 78ms/step - loss: 0.4688 - mse: 0.3779 - val_loss: 2.1151 - val_mse: 10.7281 - lr: 2.0000e-05\n",
      "Epoch 80/210\n",
      "107/107 [==============================] - 8s 77ms/step - loss: 0.4715 - mse: 0.3978 - val_loss: 2.2317 - val_mse: 11.4538 - lr: 2.0000e-05\n",
      "Epoch 81/210\n",
      "107/107 [==============================] - 8s 77ms/step - loss: 0.5066 - mse: 0.4321 - val_loss: 2.1999 - val_mse: 11.7205 - lr: 2.0000e-05\n",
      "Epoch 82/210\n",
      "107/107 [==============================] - 8s 77ms/step - loss: 0.4550 - mse: 0.3623 - val_loss: 2.1671 - val_mse: 11.2298 - lr: 2.0000e-05\n",
      "Epoch 83/210\n",
      "107/107 [==============================] - 8s 77ms/step - loss: 0.4895 - mse: 0.4178 - val_loss: 2.1802 - val_mse: 11.3518 - lr: 2.0000e-05\n",
      "Epoch 84/210\n"
     ]
    },
    {
     "name": "stdout",
     "output_type": "stream",
     "text": [
      "107/107 [==============================] - 8s 77ms/step - loss: 0.4660 - mse: 0.3736 - val_loss: 2.2719 - val_mse: 11.6653 - lr: 2.0000e-05\n",
      "Epoch 85/210\n",
      "107/107 [==============================] - ETA: 0s - loss: 0.4845 - mse: 0.4203\n",
      "New peak val_mae reached:   2.01\n",
      "/hdd/data/radioterapia/ciolaplata/models/1612658332.mobilenetV2.23456.h5\n",
      "waiting epochs reset.\n",
      "107/107 [==============================] - 11s 107ms/step - loss: 0.4845 - mse: 0.4203 - val_loss: 2.0121 - val_mse: 10.0987 - lr: 2.0000e-05\n",
      "Epoch 86/210\n",
      "107/107 [==============================] - ETA: 0s - loss: 0.4762 - mse: 0.3944\n",
      "New peak val_mae reached:    2.0\n",
      "/hdd/data/radioterapia/ciolaplata/models/1612658344.mobilenetV2.23456.h5\n",
      "waiting epochs reset.\n",
      "107/107 [==============================] - 12s 108ms/step - loss: 0.4762 - mse: 0.3944 - val_loss: 1.9956 - val_mse: 9.9014 - lr: 2.0000e-05\n",
      "Epoch 87/210\n",
      "107/107 [==============================] - 8s 77ms/step - loss: 0.4880 - mse: 0.4007 - val_loss: 1.9952 - val_mse: 9.8369 - lr: 2.0000e-05\n",
      "Epoch 88/210\n",
      "107/107 [==============================] - 8s 78ms/step - loss: 0.4532 - mse: 0.3647 - val_loss: 1.9919 - val_mse: 9.6104 - lr: 2.0000e-05\n",
      "Epoch 89/210\n",
      "107/107 [==============================] - 8s 77ms/step - loss: 0.4576 - mse: 0.3632 - val_loss: 2.0568 - val_mse: 10.5284 - lr: 2.0000e-05\n",
      "Epoch 90/210\n",
      "107/107 [==============================] - 8s 77ms/step - loss: 0.4772 - mse: 0.3941 - val_loss: 2.0350 - val_mse: 10.3812 - lr: 2.0000e-05\n",
      "Epoch 91/210\n",
      "107/107 [==============================] - 8s 77ms/step - loss: 0.4653 - mse: 0.3878 - val_loss: 2.0603 - val_mse: 10.5081 - lr: 2.0000e-05\n",
      "Epoch 92/210\n",
      "107/107 [==============================] - 8s 78ms/step - loss: 0.4565 - mse: 0.3718 - val_loss: 2.0465 - val_mse: 10.1993 - lr: 2.0000e-05\n",
      "Epoch 93/210\n",
      "107/107 [==============================] - 8s 77ms/step - loss: 0.4643 - mse: 0.3751 - val_loss: 2.4162 - val_mse: 12.6648 - lr: 2.0000e-05\n",
      "Epoch 94/210\n",
      "107/107 [==============================] - 8s 77ms/step - loss: 0.4495 - mse: 0.3497 - val_loss: 2.0274 - val_mse: 10.1227 - lr: 2.0000e-05\n",
      "Epoch 95/210\n",
      "107/107 [==============================] - 8s 77ms/step - loss: 0.4485 - mse: 0.3540 - val_loss: 2.1406 - val_mse: 10.9761 - lr: 2.0000e-05\n",
      "Epoch 96/210\n",
      "107/107 [==============================] - 8s 77ms/step - loss: 0.4911 - mse: 0.4233 - val_loss: 2.0344 - val_mse: 10.2302 - lr: 2.0000e-05\n",
      "Epoch 97/210\n",
      "107/107 [==============================] - 8s 77ms/step - loss: 0.4734 - mse: 0.3768 - val_loss: 1.9961 - val_mse: 9.6453 - lr: 2.0000e-05\n",
      "Epoch 98/210\n",
      "107/107 [==============================] - 8s 78ms/step - loss: 0.4526 - mse: 0.3570 - val_loss: 2.0062 - val_mse: 10.0630 - lr: 2.0000e-05\n",
      "Epoch 99/210\n",
      "107/107 [==============================] - 8s 76ms/step - loss: 0.4586 - mse: 0.3532 - val_loss: 2.0377 - val_mse: 9.5394 - lr: 2.0000e-05\n",
      "Epoch 100/210\n",
      "107/107 [==============================] - 8s 77ms/step - loss: 0.4498 - mse: 0.3535 - val_loss: 2.0298 - val_mse: 10.1250 - lr: 2.0000e-05\n",
      "Epoch 101/210\n",
      "107/107 [==============================] - ETA: 0s - loss: 0.4372 - mse: 0.3346\n",
      "Epoch 00101: ReduceLROnPlateau reducing learning rate to 3.999999898951501e-06.\n",
      "107/107 [==============================] - 8s 78ms/step - loss: 0.4372 - mse: 0.3346 - val_loss: 1.9877 - val_mse: 9.7821 - lr: 2.0000e-05\n",
      "Epoch 102/210\n",
      "107/107 [==============================] - 8s 77ms/step - loss: 0.4038 - mse: 0.2864 - val_loss: 1.9970 - val_mse: 9.9300 - lr: 4.0000e-06\n",
      "Epoch 103/210\n",
      "107/107 [==============================] - 8s 77ms/step - loss: 0.3895 - mse: 0.2796 - val_loss: 1.9909 - val_mse: 9.8753 - lr: 4.0000e-06\n",
      "Epoch 104/210\n",
      "107/107 [==============================] - ETA: 0s - loss: 0.3766 - mse: 0.2502\n",
      "New peak val_mae reached:   1.98\n",
      "/hdd/data/radioterapia/ciolaplata/models/1612658501.mobilenetV2.23456.h5\n",
      "waiting epochs reset.\n",
      "107/107 [==============================] - 12s 117ms/step - loss: 0.3766 - mse: 0.2502 - val_loss: 1.9808 - val_mse: 9.5900 - lr: 4.0000e-06\n",
      "Epoch 105/210\n",
      "107/107 [==============================] - 8s 78ms/step - loss: 0.3742 - mse: 0.2434 - val_loss: 1.9835 - val_mse: 9.5450 - lr: 4.0000e-06\n",
      "Epoch 106/210\n",
      "107/107 [==============================] - 8s 77ms/step - loss: 0.3654 - mse: 0.2421 - val_loss: 1.9855 - val_mse: 9.5759 - lr: 4.0000e-06\n",
      "Epoch 107/210\n",
      "107/107 [==============================] - 8s 77ms/step - loss: 0.3770 - mse: 0.2571 - val_loss: 1.9935 - val_mse: 9.5298 - lr: 4.0000e-06\n",
      "Epoch 108/210\n",
      "107/107 [==============================] - 8s 77ms/step - loss: 0.3705 - mse: 0.2457 - val_loss: 1.9909 - val_mse: 9.4961 - lr: 4.0000e-06\n",
      "Epoch 109/210\n",
      "107/107 [==============================] - 8s 77ms/step - loss: 0.3502 - mse: 0.2195 - val_loss: 2.0066 - val_mse: 9.4668 - lr: 4.0000e-06\n",
      "Epoch 110/210\n",
      "107/107 [==============================] - 8s 77ms/step - loss: 0.3603 - mse: 0.2312 - val_loss: 1.9888 - val_mse: 9.5424 - lr: 4.0000e-06\n",
      "Epoch 111/210\n",
      "107/107 [==============================] - 8s 78ms/step - loss: 0.3815 - mse: 0.2659 - val_loss: 2.0378 - val_mse: 9.4948 - lr: 4.0000e-06\n",
      "Epoch 112/210\n",
      "107/107 [==============================] - 8s 77ms/step - loss: 0.3582 - mse: 0.2274 - val_loss: 2.0333 - val_mse: 9.5070 - lr: 4.0000e-06\n",
      "Epoch 113/210\n",
      "107/107 [==============================] - 8s 78ms/step - loss: 0.3702 - mse: 0.2450 - val_loss: 2.0174 - val_mse: 9.4841 - lr: 4.0000e-06\n",
      "Epoch 114/210\n",
      "107/107 [==============================] - 8s 77ms/step - loss: 0.3626 - mse: 0.2315 - val_loss: 2.0348 - val_mse: 9.5163 - lr: 4.0000e-06\n",
      "Epoch 115/210\n",
      "107/107 [==============================] - 8s 77ms/step - loss: 0.3540 - mse: 0.2208 - val_loss: 2.0499 - val_mse: 9.5509 - lr: 4.0000e-06\n",
      "Epoch 116/210\n",
      "107/107 [==============================] - 8s 77ms/step - loss: 0.3478 - mse: 0.2212 - val_loss: 2.0612 - val_mse: 9.5326 - lr: 4.0000e-06\n",
      "Epoch 117/210\n",
      "107/107 [==============================] - 8s 77ms/step - loss: 0.3602 - mse: 0.2280 - val_loss: 2.0462 - val_mse: 9.5008 - lr: 4.0000e-06\n",
      "Epoch 118/210\n",
      "107/107 [==============================] - 8s 78ms/step - loss: 0.3368 - mse: 0.2014 - val_loss: 2.0069 - val_mse: 9.5211 - lr: 4.0000e-06\n",
      "Epoch 119/210\n",
      "107/107 [==============================] - ETA: 0s - loss: 0.3440 - mse: 0.2110\n",
      "Epoch 00119: ReduceLROnPlateau reducing learning rate to 7.999999979801942e-07.\n",
      "107/107 [==============================] - 8s 77ms/step - loss: 0.3440 - mse: 0.2110 - val_loss: 2.0098 - val_mse: 9.5112 - lr: 4.0000e-06\n",
      "Epoch 120/210\n",
      "107/107 [==============================] - 8s 77ms/step - loss: 0.3407 - mse: 0.2039 - val_loss: 2.0139 - val_mse: 9.4868 - lr: 8.0000e-07\n",
      "Epoch 121/210\n",
      "107/107 [==============================] - 8s 77ms/step - loss: 0.3416 - mse: 0.2042 - val_loss: 1.9997 - val_mse: 9.5133 - lr: 8.0000e-07\n",
      "Epoch 122/210\n",
      "107/107 [==============================] - 8s 77ms/step - loss: 0.3318 - mse: 0.1958 - val_loss: 2.0016 - val_mse: 9.5038 - lr: 8.0000e-07\n",
      "Epoch 123/210\n",
      "107/107 [==============================] - 8s 78ms/step - loss: 0.3404 - mse: 0.2010 - val_loss: 2.0108 - val_mse: 9.4995 - lr: 8.0000e-07\n",
      "Epoch 124/210\n",
      "107/107 [==============================] - 8s 77ms/step - loss: 0.3404 - mse: 0.2086 - val_loss: 2.0006 - val_mse: 9.5124 - lr: 8.0000e-07\n",
      "Epoch 125/210\n",
      "107/107 [==============================] - 8s 78ms/step - loss: 0.3324 - mse: 0.1984 - val_loss: 1.9994 - val_mse: 9.5033 - lr: 8.0000e-07\n",
      "Epoch 126/210\n",
      "107/107 [==============================] - 8s 78ms/step - loss: 0.3447 - mse: 0.2249 - val_loss: 1.9995 - val_mse: 9.4963 - lr: 8.0000e-07\n",
      "Epoch 127/210\n",
      "107/107 [==============================] - 8s 77ms/step - loss: 0.3285 - mse: 0.1937 - val_loss: 1.9992 - val_mse: 9.4971 - lr: 8.0000e-07\n",
      "Epoch 128/210\n",
      "107/107 [==============================] - 8s 77ms/step - loss: 0.3207 - mse: 0.1836 - val_loss: 2.0044 - val_mse: 9.4828 - lr: 8.0000e-07\n",
      "Epoch 129/210\n",
      "107/107 [==============================] - 8s 77ms/step - loss: 0.3250 - mse: 0.1899 - val_loss: 1.9955 - val_mse: 9.5079 - lr: 8.0000e-07\n",
      "Epoch 130/210\n",
      "107/107 [==============================] - 8s 77ms/step - loss: 0.3604 - mse: 0.2284 - val_loss: 2.0031 - val_mse: 9.4918 - lr: 8.0000e-07\n",
      "Epoch 131/210\n"
     ]
    },
    {
     "name": "stdout",
     "output_type": "stream",
     "text": [
      "107/107 [==============================] - 8s 77ms/step - loss: 0.3207 - mse: 0.1846 - val_loss: 1.9901 - val_mse: 9.5183 - lr: 8.0000e-07\n",
      "Epoch 132/210\n",
      "107/107 [==============================] - 8s 77ms/step - loss: 0.3276 - mse: 0.1917 - val_loss: 1.9965 - val_mse: 9.5011 - lr: 8.0000e-07\n",
      "Epoch 133/210\n",
      "107/107 [==============================] - 8s 78ms/step - loss: 0.3161 - mse: 0.1769 - val_loss: 1.9961 - val_mse: 9.5025 - lr: 8.0000e-07\n",
      "Epoch 134/210\n",
      "107/107 [==============================] - ETA: 0s - loss: 0.3441 - mse: 0.2057\n",
      "Epoch 00134: ReduceLROnPlateau reducing learning rate to 1.600000018697756e-07.\n",
      "107/107 [==============================] - 8s 77ms/step - loss: 0.3441 - mse: 0.2057 - val_loss: 1.9919 - val_mse: 9.5114 - lr: 8.0000e-07\n",
      "Epoch 135/210\n",
      "107/107 [==============================] - ETA: 0s - loss: 0.3374 - mse: 0.2059\n",
      "Stopping early at epoch 135 with saved peak mae  1.9808118\n",
      "107/107 [==============================] - 8s 77ms/step - loss: 0.3374 - mse: 0.2059 - val_loss: 1.9965 - val_mse: 9.5014 - lr: 1.6000e-07\n"
     ]
    }
   ],
   "source": [
    "fine_tune_epochs = ARG_MAX_FINE_TUNING_EPOCHS\n",
    "total_epochs =  (history.epoch[-1]+1) + fine_tune_epochs\n",
    "\n",
    "# by default we use custom LR schedule\n",
    "callbacks=[callbackObj, callbackLR]\n",
    "if ARG_LR_SCHEDULE == 1:\n",
    "    callbacks=[callbackObj, reduce_lr]\n",
    "    \n",
    "history_fine = model.fit(tmp_train_batches,\n",
    "                         epochs=total_epochs,\n",
    "                         initial_epoch =  history.epoch[-1]+1,\n",
    "                         validation_data=tmp_validation_batches,\n",
    "                         callbacks=callbacks)"
   ]
  },
  {
   "cell_type": "code",
   "execution_count": 47,
   "metadata": {
    "id": "vjiNEG47yFVY"
   },
   "outputs": [
    {
     "name": "stdout",
     "output_type": "stream",
     "text": [
      "[10, 11, 12, 13, 14, 15, 16, 17, 18, 19, 20, 21, 22, 23, 24, 25, 26, 27, 28, 29, 30, 31, 32, 33, 34, 35, 36, 37, 38, 39, 40, 41, 42, 43, 44, 45, 46, 47, 48, 49, 50, 51, 52, 53, 54, 55, 56, 57, 58, 59, 60, 61, 62, 63, 64, 65, 66, 67, 68, 69, 70, 71, 72, 73, 74, 75, 76, 77, 78, 79, 80, 81, 82, 83, 84, 85, 86, 87, 88, 89, 90, 91, 92, 93, 94, 95, 96, 97, 98, 99, 100, 101, 102, 103, 104, 105, 106, 107, 108, 109, 110, 111, 112, 113, 114, 115, 116, 117, 118, 119, 120, 121, 122, 123, 124, 125, 126, 127, 128, 129, 130, 131, 132, 133, 134]\n"
     ]
    }
   ],
   "source": [
    "print(history_fine.epoch)"
   ]
  },
  {
   "cell_type": "code",
   "execution_count": 48,
   "metadata": {
    "id": "PpA8PlpQKygw"
   },
   "outputs": [],
   "source": [
    "mse += history_fine.history['mse']\n",
    "val_mse += history_fine.history['val_mse']\n",
    "\n",
    "loss += history_fine.history['loss']\n",
    "val_loss += history_fine.history['val_loss']"
   ]
  },
  {
   "cell_type": "code",
   "execution_count": 49,
   "metadata": {
    "id": "Igm8aMrLyFVj"
   },
   "outputs": [],
   "source": [
    "mse = mse[1:]\n",
    "val_mse = val_mse[1:]\n",
    "loss = loss[1:]\n",
    "val_loss = val_loss[1:]"
   ]
  },
  {
   "cell_type": "code",
   "execution_count": 50,
   "metadata": {
    "id": "chW103JUItdk"
   },
   "outputs": [
    {
     "data": {
      "image/png": "[encoded data removed]",
      "text/plain": [
       "<Figure size 576x576 with 2 Axes>"
      ]
     },
     "metadata": {
      "needs_background": "light"
     },
     "output_type": "display_data"
    }
   ],
   "source": [
    "plt.figure(figsize=(8, 8))\n",
    "plt.subplot(2, 1, 1)\n",
    "plt.plot(mse, label='Training MSE')\n",
    "plt.plot(val_mse, label='Validation MSE')\n",
    "plt.ylim([0, 30])\n",
    "plt.plot([initial_epochs-1,initial_epochs-1],\n",
    "          plt.ylim(), label='Fine Tuning starts')\n",
    "plt.legend(loc='upper right')\n",
    "plt.ylabel('MSE')\n",
    "plt.title('Training and Validation MSE')\n",
    "\n",
    "plt.subplot(2, 1, 2)\n",
    "plt.plot(loss, label='Training Loss')\n",
    "plt.plot(val_loss, label='Validation Loss')\n",
    "plt.ylim([0, 5])\n",
    "plt.plot([initial_epochs-1,initial_epochs-1],\n",
    "         plt.ylim(), label='Fine Tuning Starts')\n",
    "plt.legend(loc='upper right')\n",
    "plt.ylabel('Loss')\n",
    "plt.title('Training and Validation Loss')\n",
    "plt.xlabel('epoch')\n",
    "plt.show()"
   ]
  },
  {
   "cell_type": "markdown",
   "metadata": {
    "id": "_TZTwG7nhm0C"
   },
   "source": [
    "## Summary:\n",
    "\n",
    "* **Using a pre-trained model for feature extraction**:  When working with a small dataset, it is a common practice to take advantage of features learned by a model trained on a larger dataset in the same domain. This is done by instantiating the pre-trained model and adding a fully-connected classifier on top. The pre-trained model is \"frozen\" and only the weights of the classifier get updated during training.\n",
    "In this case, the convolutional base extracted all the features associated with each image and you just trained a classifier that determines the image class given that set of extracted features.\n",
    "\n",
    "* **Fine-tuning a pre-trained model**: To further improve performance, one might want to repurpose the top-level layers of the pre-trained models to the new dataset via fine-tuning.\n",
    "In this case, you tuned your weights such that your model learned high-level features specific to the dataset. This technique is usually recommended when the training dataset is large and very similar to the original dataset that the pre-trained model was trained on.\n"
   ]
  },
  {
   "cell_type": "code",
   "execution_count": 51,
   "metadata": {
    "id": "eQy9mVkuoFWj"
   },
   "outputs": [],
   "source": [
    "if isGoogleColab():\n",
    "    !ls -l \"/content/drive/MyDrive/Healthcare/Radioterapia/data/ciolaplata/models/\""
   ]
  },
  {
   "cell_type": "code",
   "execution_count": 52,
   "metadata": {
    "id": "f4tr0VXGyFVr"
   },
   "outputs": [
    {
     "name": "stdout",
     "output_type": "stream",
     "text": [
      "Best saved model file = /hdd/data/radioterapia/ciolaplata/models/1612658501.mobilenetV2.23456.h5\n"
     ]
    }
   ],
   "source": [
    "print(f'Best saved model file = {callbackObj.saved_model_file}')\n",
    "saved_model = callbackObj.saved_model"
   ]
  },
  {
   "cell_type": "code",
   "execution_count": 53,
   "metadata": {
    "id": "esaw0xjhyFVv"
   },
   "outputs": [
    {
     "name": "stdout",
     "output_type": "stream",
     "text": [
      "107/107 - 3s - loss: 0.2923 - mean_squared_error: 0.1616\n",
      "Saved model, train loss: 0.2923\n",
      "Saved model, train mse: 0.1616\n",
      "\n",
      "27/27 - 1s - loss: 1.9808 - mean_squared_error: 9.5900\n",
      "Saved model, validation loss: 1.9808\n",
      "Saved model, validation mse: 9.5900\n"
     ]
    }
   ],
   "source": [
    "# Evaluate the saved model on the train set which differs from values reported during training\n",
    "loss, mse = saved_model.evaluate(tmp_train_batches, verbose=2)\n",
    "print(\"Saved model, train loss: {:5.4f}\".format(loss))\n",
    "print('Saved model, train mse: {:5.4f}\\n'.format(mse))\n",
    "\n",
    "# Evaluate the saved model on the validation set which differs from values reported during training\n",
    "loss, mse = saved_model.evaluate(tmp_validation_batches, verbose=2)\n",
    "print(\"Saved model, validation loss: {:5.4f}\".format(loss))\n",
    "print('Saved model, validation mse: {:5.4f}'.format(mse))"
   ]
  },
  {
   "cell_type": "code",
   "execution_count": 54,
   "metadata": {
    "id": "qACCSCEAyFVz"
   },
   "outputs": [],
   "source": [
    "#result_batch = model.predict(tmp_train_batches)\n",
    "#reloaded_result_batch = reloaded_model.predict(tmp_train_batches)\n",
    "#print(abs(reloaded_result_batch - result_batch).max())\n",
    "#np.testing.assert_allclose(result_batch, reloaded_result_batch, rtol=1e-6, atol=1e-6)"
   ]
  },
  {
   "cell_type": "code",
   "execution_count": 55,
   "metadata": {
    "id": "kcEpqDWFyFV4"
   },
   "outputs": [],
   "source": [
    "# projects out just the first two components.\n",
    "if ARG_TEST_PARTITION:\n",
    "    tmp_test_batches = test_batches.map(lambda image, gamma, filename: (image, gamma))\n",
    "    print(tmp_test_batches)\n",
    "\n",
    "    # Evaluate the reloaded model on the test set\n",
    "    loss, mse = saved_model.evaluate(tmp_test_batches, verbose=1)\n",
    "    print(\"\\n\\nSaved model, test loss: {:5.4f}\".format(loss))\n",
    "    print('Saved model, test mse: {:5.4f}'.format(mse))"
   ]
  },
  {
   "cell_type": "code",
   "execution_count": 56,
   "metadata": {
    "id": "R1oRiBayRPVt"
   },
   "outputs": [],
   "source": [
    "if isGoogleColab():\n",
    "    drive.flush_and_unmount()\n",
    "    print('All changes made in this colab session should now be visible in Drive.')"
   ]
  },
  {
   "cell_type": "code",
   "execution_count": null,
   "metadata": {},
   "outputs": [],
   "source": []
  }
 ],
 "metadata": {
  "accelerator": "GPU",
  "colab": {
   "collapsed_sections": [],
   "include_colab_link": true,
   "name": "transfer_learning.ipynb",
   "private_outputs": true,
   "provenance": []
  },
  "kernelspec": {
   "display_name": "Python 3",
   "language": "python",
   "name": "python3"
  },
  "language_info": {
   "codemirror_mode": {
    "name": "ipython",
    "version": 3
   },
   "file_extension": ".py",
   "mimetype": "text/x-python",
   "name": "python",
   "nbconvert_exporter": "python",
   "pygments_lexer": "ipython3",
   "version": "3.7.5"
  }
 },
 "nbformat": 4,
 "nbformat_minor": 1
}
