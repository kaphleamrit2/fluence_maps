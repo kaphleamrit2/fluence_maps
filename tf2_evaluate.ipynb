{
  "nbformat": 4,
  "nbformat_minor": 0,
  "metadata": {
    "colab": {
      "name": "tf2_evaluate",
      "provenance": [],
      "collapsed_sections": [],
      "toc_visible": true,
      "include_colab_link": true
    },
    "kernelspec": {
      "display_name": "Python 3",
      "language": "python",
      "name": "python3"
    },
    "language_info": {
      "codemirror_mode": {
        "name": "ipython",
        "version": 3
      },
      "file_extension": ".py",
      "mimetype": "text/x-python",
      "name": "python",
      "nbconvert_exporter": "python",
      "pygments_lexer": "ipython3",
      "version": "3.7.5"
    }
  },
  "cells": [
    {
      "cell_type": "markdown",
      "metadata": {
        "id": "view-in-github",
        "colab_type": "text"
      },
      "source": [
        "<a href=\"https://colab.research.google.com/github/pablojrios/fluence_maps/blob/master/tf2_evaluate.ipynb\" target=\"_parent\"><img src=\"https://colab.research.google.com/assets/colab-badge.svg\" alt=\"Open In Colab\"/></a>"
      ]
    },
    {
      "cell_type": "markdown",
      "metadata": {
        "id": "-n_PAVFGnZDx"
      },
      "source": [
        "# Compute predictions on a TF dataset using an stored .h5 model"
      ]
    },
    {
      "cell_type": "code",
      "metadata": {
        "id": "Hs99643-LfGS"
      },
      "source": [
        "def isGoogleColab():\n",
        "    # 'ipykernel.zmqshell' runs in our server\n",
        "    # 'google.colab._shell' runs in Google Colab\n",
        "    return get_ipython().__class__.__module__ == 'google.colab._shell'"
      ],
      "execution_count": 1,
      "outputs": []
    },
    {
      "cell_type": "code",
      "metadata": {
        "id": "4LvLPLr5n_yJ"
      },
      "source": [
        "import numpy as np\n",
        "import tensorflow as tf\n",
        "import os\n",
        "import pandas as pd\n",
        "# Es indistinto usar las métricas de scikit learn o tensorflow\n",
        "# from sklearn.metrics import mean_absolute_error\n",
        "from tensorflow.keras.losses import mean_squared_error, mean_absolute_error\n",
        "from sklearn.metrics import r2_score\n",
        "import seaborn as sns\n",
        "from matplotlib import pyplot as plt"
      ],
      "execution_count": 2,
      "outputs": []
    },
    {
      "cell_type": "code",
      "metadata": {
        "colab": {
          "base_uri": "https://localhost:8080/"
        },
        "id": "LN_LGyd6pWeZ",
        "outputId": "218786ce-f4b4-4c01-bf56-f33a17201821"
      },
      "source": [
        "print('Tensorflow version = {}'.format(tf.__version__))\n",
        "print('Executing eagerly = {}'.format(tf.executing_eagerly()))"
      ],
      "execution_count": 3,
      "outputs": [
        {
          "output_type": "stream",
          "text": [
            "Tensorflow version = 2.4.1\n",
            "Executing eagerly = True\n"
          ],
          "name": "stdout"
        }
      ]
    },
    {
      "cell_type": "code",
      "metadata": {
        "id": "JKOJC4VgLfGV",
        "outputId": "81a89d45-250f-4013-b8a6-52f7beb13ea5",
        "colab": {
          "base_uri": "https://localhost:8080/"
        }
      },
      "source": [
        "import xgboost as xgb\n",
        "print('XGBoost version = {}'.format(xgb.__version__))"
      ],
      "execution_count": 4,
      "outputs": [
        {
          "output_type": "stream",
          "text": [
            "XGBoost version = 0.90\n"
          ],
          "name": "stdout"
        }
      ]
    },
    {
      "cell_type": "code",
      "metadata": {
        "colab": {
          "base_uri": "https://localhost:8080/"
        },
        "id": "A85nWqMEnKPB",
        "outputId": "583cd467-f184-42b9-de8f-73d7043db7f7"
      },
      "source": [
        "#%cd /content/drive/My\\ Drive/Healthcare/Radioterapia/data/ciolaplata\n",
        "#!unrar x /content/drive/My\\ Drive/Healthcare/Radioterapia/Mapas\\ CIO\\ La\\ Plata/Mapas\\ Calculados/2019.rar\n",
        "#!ls -l 2015/*dcm | wc -l\n",
        "\n",
        "if isGoogleColab():\n",
        "    %cd -q '/content'\n",
        "    if os.path.exists('fluence_maps'):\n",
        "        !rm -fr fluence_maps\n",
        "\n",
        "    GIT_USERNAME = \"pablojrios\"\n",
        "    GIT_TOKEN = \"1d88a0b85d2b00a03796e4d8b7e5f7b249b12f9b\"\n",
        "    !git clone -s https://{GIT_TOKEN}@github.com/{GIT_USERNAME}/fluence_maps.git\n",
        "\n",
        "    from google.colab import drive\n",
        "    drive.mount('/content/drive')\n",
        "    \n",
        "    %cd -q '/content/fluence_maps'\n",
        "\n",
        "    !ls -l '/content/drive/My Drive/Healthcare/Radioterapia/data/ciolaplata/models'\n",
        "    \n",
        "    ARG_DATASET_DIR='/content/drive/My Drive/Healthcare/Radioterapia/data/ciolaplata'"
      ],
      "execution_count": 5,
      "outputs": [
        {
          "output_type": "stream",
          "text": [
            "Cloning into 'fluence_maps'...\n",
            "remote: Enumerating objects: 15, done.\u001b[K\n",
            "remote: Counting objects: 100% (15/15), done.\u001b[K\n",
            "remote: Compressing objects: 100% (15/15), done.\u001b[K\n",
            "remote: Total 295 (delta 5), reused 3 (delta 0), pack-reused 280\u001b[K\n",
            "Receiving objects: 100% (295/295), 2.03 MiB | 14.54 MiB/s, done.\n",
            "Resolving deltas: 100% (166/166), done.\n",
            "Drive already mounted at /content/drive; to attempt to forcibly remount, call drive.mount(\"/content/drive\", force_remount=True).\n",
            "total 1198654\n",
            "-rw------- 1 root root 132221552 Jan 16 19:45 1610826316.h5\n",
            "-rw------- 1 root root 156500040 Jan 16 20:13 1610828018.h5\n",
            "-rw------- 1 root root 156500040 Jan 16 20:53 1610830410.h5\n",
            "-rw------- 1 root root 132221552 Jan 16 21:10 1610831434.h5\n",
            "-rw------- 1 root root 132221552 Jan 17 02:08 1610849307.h5\n",
            "-rw------- 1 root root 156500040 Jan 17 18:09 1610906968.h5\n",
            "-rw------- 1 root root 156500040 Jan 17 23:04 1610924689.h5\n",
            "-rw------- 1 root root 204753488 Jan 31 15:54 1612108487.23456.h5\n"
          ],
          "name": "stdout"
        }
      ]
    },
    {
      "cell_type": "code",
      "metadata": {
        "id": "krohuaX-Y6OZ"
      },
      "source": [
        "from util.dataset import _tfrecord_dataset_type_from_folder, _parse_jpeg_image_function\r\n",
        "from util.preprocess import rescale_0_to_1"
      ],
      "execution_count": 6,
      "outputs": []
    },
    {
      "cell_type": "code",
      "metadata": {
        "id": "eWlKtT6Kpbsr"
      },
      "source": [
        "#============================DEFINE YOUR ARGUMENTS==============================\n",
        "if not isGoogleColab():\n",
        "    # base data directory\n",
        "    ARG_DATASET_DIR='/hdd/data/radioterapia/ciolaplata'\n",
        "# folder under ARG_DATASET_DIR path.\n",
        "ARG_RANDOM_SEED=23456\n",
        "ARG_TFDATASET_FOLDER=f'tfds.2019.localnorm.DS10%.{ARG_RANDOM_SEED}'\n",
        "# ARG_MODEL_NAME = '1612063529' # VGG16 20 de enero 2021\n",
        "ARG_MODEL_NAME = f'1612108487.{ARG_RANDOM_SEED}' # ene-31 ResNet18 buen(sobre) ajuste en training.\n",
        "# ARG_MODEL_NAME = '1611181684' # ResNet 18 20 de enero 2021\n",
        "PART_TRAIN = 'train'\n",
        "PART_VALIDATION = 'validation'\n",
        "PART_TEST = 'test'\n",
        "PART_TO_USE = PART_VALIDATION\n",
        "BATCH_SIZE = 32 # mae puede variar según batch size.\n",
        "num_workers = 8\n",
        "ARG_TRANSFORM_GAMMA=False\n",
        "ARG_TRAIN_XGBOOST=False"
      ],
      "execution_count": 7,
      "outputs": []
    },
    {
      "cell_type": "code",
      "metadata": {
        "id": "K2-IdOEGqmU1"
      },
      "source": [
        "def getMapDatasetForPartition(part):\n",
        "    tfdataset_dir = os.path.join(ARG_DATASET_DIR, ARG_TFDATASET_FOLDER)\n",
        "    raw_test = _tfrecord_dataset_type_from_folder(tfdataset_dir, part)\n",
        "    print(raw_test)\n",
        "\n",
        "    # Apply this function to each item in the dataset using the map method:\n",
        "    IMG_SIZE = 256\n",
        "    normalization_fn = rescale_0_to_1\n",
        "    test = raw_test.map(lambda e: _parse_jpeg_image_function(e, IMG_SIZE, normalization_fn, transform_gamma=ARG_TRANSFORM_GAMMA), num_parallel_calls=num_workers)\n",
        "    \n",
        "    gamma_values = test.map(lambda image, gamma, filename: gamma)\n",
        "    gamma_values = np.array(list(gamma_values.as_numpy_iterator()))\n",
        "    gamma_values[:20]\n",
        "    \n",
        "    return test"
      ],
      "execution_count": 8,
      "outputs": []
    },
    {
      "cell_type": "code",
      "metadata": {
        "id": "DHBk0k2kLfGY",
        "outputId": "50dd327a-73c2-4e0e-a5f7-f5563dacf903",
        "colab": {
          "base_uri": "https://localhost:8080/"
        }
      },
      "source": [
        "map_dataset = getMapDatasetForPartition(PART_TO_USE)\n",
        "print(map_dataset)\n",
        "print(map_dataset.batch(BATCH_SIZE))"
      ],
      "execution_count": 9,
      "outputs": [
        {
          "output_type": "stream",
          "text": [
            "<TFRecordDatasetV2 shapes: (), types: tf.string>\n",
            "<ParallelMapDataset shapes: ((256, 256, 3), (), ()), types: (tf.float32, tf.float32, tf.string)>\n",
            "<BatchDataset shapes: ((None, 256, 256, 3), (None,), (None,)), types: (tf.float32, tf.float32, tf.string)>\n"
          ],
          "name": "stdout"
        }
      ]
    },
    {
      "cell_type": "code",
      "metadata": {
        "id": "5TYrcou7LfGY"
      },
      "source": [
        "def getBatchesForPartition(test, part):\n",
        "    test_batches = test.batch(BATCH_SIZE)\n",
        "    print(test_batches)\n",
        "\n",
        "    tmp_test_batches = test_batches.map(lambda image, gamma, filename: (image, gamma))\n",
        "    \n",
        "    return tmp_test_batches"
      ],
      "execution_count": 10,
      "outputs": []
    },
    {
      "cell_type": "code",
      "metadata": {
        "colab": {
          "base_uri": "https://localhost:8080/"
        },
        "id": "tjrt80mNr0a4",
        "outputId": "cefccb7e-3227-4bfc-92d2-1eef253c60a0"
      },
      "source": [
        "# load model\n",
        "dir = os.path.join(ARG_DATASET_DIR, \"models\")\n",
        "saved_model_dir = '{}/{}.h5'.format(dir, ARG_MODEL_NAME)\n",
        "print(f'Loading model {saved_model_dir}...')\n",
        "loaded_model = tf.keras.models.load_model(saved_model_dir)"
      ],
      "execution_count": 11,
      "outputs": [
        {
          "output_type": "stream",
          "text": [
            "Loading model /content/drive/My Drive/Healthcare/Radioterapia/data/ciolaplata/models/1612108487.23456.h5...\n"
          ],
          "name": "stdout"
        }
      ]
    },
    {
      "cell_type": "code",
      "metadata": {
        "colab": {
          "base_uri": "https://localhost:8080/"
        },
        "id": "lkz2ZGMDRNgC",
        "outputId": "390e00f4-e211-442b-8cd0-c92bd0989fdc"
      },
      "source": [
        "loaded_model.summary()"
      ],
      "execution_count": 12,
      "outputs": [
        {
          "output_type": "stream",
          "text": [
            "Model: \"sequential\"\n",
            "_________________________________________________________________\n",
            "Layer (type)                 Output Shape              Param #   \n",
            "=================================================================\n",
            "vgg16 (Functional)           (None, 8, 8, 512)         14714688  \n",
            "_________________________________________________________________\n",
            "global_average_pooling2d (Gl (None, 512)               0         \n",
            "_________________________________________________________________\n",
            "dense (Dense)                (None, 512)               262656    \n",
            "_________________________________________________________________\n",
            "dense_1 (Dense)              (None, 1)                 513       \n",
            "=================================================================\n",
            "Total params: 14,977,857\n",
            "Trainable params: 12,062,209\n",
            "Non-trainable params: 2,915,648\n",
            "_________________________________________________________________\n"
          ],
          "name": "stdout"
        }
      ]
    },
    {
      "cell_type": "code",
      "metadata": {
        "id": "Vwz1adqOLfGZ",
        "outputId": "9378f009-8dda-40f5-8c1a-9d39bf80a948",
        "colab": {
          "base_uri": "https://localhost:8080/"
        }
      },
      "source": [
        "tmp_test_batches = getBatchesForPartition(map_dataset, PART_TO_USE)\n",
        "print(tmp_test_batches)"
      ],
      "execution_count": 13,
      "outputs": [
        {
          "output_type": "stream",
          "text": [
            "<BatchDataset shapes: ((None, 256, 256, 3), (None,), (None,)), types: (tf.float32, tf.float32, tf.string)>\n",
            "<MapDataset shapes: ((None, 256, 256, 3), (None,)), types: (tf.float32, tf.float32)>\n"
          ],
          "name": "stdout"
        }
      ]
    },
    {
      "cell_type": "code",
      "metadata": {
        "id": "3dPKkwTVLfGa"
      },
      "source": [
        "def evaluatePartition(tmp_batches, part):\n",
        "    # Evaluate dataset with the loaded model to calculate loss (mae) because\n",
        "    # metric value could differ from the one reported during training.\n",
        "    loss, mse = loaded_model.evaluate(tmp_batches, workers=num_workers, verbose=0)\n",
        "    print('Loaded model, {} loss: {:5.4f}'.format(part, loss))\n",
        "    print('Loaded model, {} mse: {:5.4f}\\n'.format(part, mse))"
      ],
      "execution_count": 14,
      "outputs": []
    },
    {
      "cell_type": "code",
      "metadata": {
        "id": "F8cecGLVLfGa"
      },
      "source": [
        "# evaluatePartition(tmp_test_batches, PART_TO_USE)"
      ],
      "execution_count": 15,
      "outputs": []
    },
    {
      "cell_type": "code",
      "metadata": {
        "id": "ctN7LhzY9I3n"
      },
      "source": [
        "def getPredictionsDataframe(test, part):\n",
        "    tmp_batches = getBatchesForPartition(test, part)\n",
        "    # Make predictions\n",
        "    predictions = loaded_model.predict(tmp_batches)\n",
        "    # from (1121,1) to (1121,); ie.: ndim = 2 to ndim = 1\n",
        "    predictions = predictions.reshape(-1)\n",
        "    predictions.shape\n",
        "\n",
        "    tmp_test_dataset = test.map(lambda image, gamma, filename: (filename, gamma))\n",
        "    print(tmp_test_dataset)\n",
        "\n",
        "    lst = [(filename.numpy().decode('utf-8'), gamma.numpy()) for filename, gamma in tmp_test_dataset]\n",
        "    lst2 = [(e[0], e[1], p) for e, p in zip(lst, predictions)]\n",
        "\n",
        "    # armar un pandas dataframe con el test set completo\n",
        "    df = pd.DataFrame(lst2, columns=['filename', 'actual gamma', 'predicted gamma'])\n",
        "    dir = os.path.join(ARG_DATASET_DIR, \"predictions\")\n",
        "    predictions_file_path = '{}/predicted_gamma_{}.{}.csv'.format(dir, ARG_MODEL_NAME, part)\n",
        "    df.to_csv(predictions_file_path, index=False)\n",
        "    print(f'Predictions saved to {predictions_file_path}.\\n')\n",
        "    \n",
        "    return df"
      ],
      "execution_count": 16,
      "outputs": []
    },
    {
      "cell_type": "code",
      "metadata": {
        "id": "fcsyytskLfGb",
        "outputId": "1a64cd07-391a-4588-c4f2-3ef04a166c0c",
        "colab": {
          "base_uri": "https://localhost:8080/"
        }
      },
      "source": [
        "df = getPredictionsDataframe(map_dataset, PART_TO_USE)"
      ],
      "execution_count": 17,
      "outputs": [
        {
          "output_type": "stream",
          "text": [
            "<BatchDataset shapes: ((None, 256, 256, 3), (None,), (None,)), types: (tf.float32, tf.float32, tf.string)>\n",
            "<MapDataset shapes: ((), ()), types: (tf.string, tf.float32)>\n",
            "Predictions saved to /content/drive/My Drive/Healthcare/Radioterapia/data/ciolaplata/predictions/predicted_gamma_1612108487.23456.validation.csv.\n",
            "\n"
          ],
          "name": "stdout"
        }
      ]
    },
    {
      "cell_type": "code",
      "metadata": {
        "id": "rc5oGykdLfGb"
      },
      "source": [
        "def display_scatterplot(part, y, y_hat):\n",
        "    print('Set size = %d' % len(y))\n",
        "\n",
        "    # mean average error\n",
        "    mae = mean_absolute_error(y, y_hat)\n",
        "    print('MAE on %s = %.3f' % (part, mae))\n",
        "\n",
        "    # correlación entre predichos y observados\n",
        "    corr = np.corrcoef(y, y_hat)[0,1]\n",
        "    print('Corr. actual vs predicted = %.3f' % corr)\n",
        "\n",
        "    r2score = r2_score(y, y_hat)\n",
        "    print('R^2 = %.3f' % r2score)\n",
        "    \n",
        "    # plot calculados vs. predichos (targets)\n",
        "    fig_dims = (8, 8)\n",
        "    fig, ax = plt.subplots(figsize=fig_dims)\n",
        "    plt.title('Actual vs. Predicted (%s)' % part)\n",
        "    plt.gca().set_aspect('equal')\n",
        "    sns.scatterplot(y, y_hat, marker='o', ax=ax)\n",
        "    ax.set(xlabel=\"Actual\", ylabel = \"Predicted\")\n",
        "    plt.figure(figsize=(15, 15))\n",
        "    minimum = int(np.min([y.min(), y_hat.min()]))\n",
        "    ax.set_xlim([minimum, 100])\n",
        "    ax.set_ylim([minimum, 100])\n",
        "    ax.plot([minimum, 100], [minimum, 100], ls=\"--\", c=\".7\")\n",
        "    ax.plot([minimum+3, 100], [minimum, 97], ls=\"--\", c=\".4\")\n",
        "    ax.plot([minimum, 97], [minimum+3, 100], ls=\"--\", c=\".4\")\n",
        "    plt.show()"
      ],
      "execution_count": 18,
      "outputs": []
    },
    {
      "cell_type": "code",
      "metadata": {
        "id": "e5envybQLfGc",
        "outputId": "e5f5259b-6e70-4eae-8e70-83733b1a9cac",
        "colab": {
          "base_uri": "https://localhost:8080/",
          "height": 660
        }
      },
      "source": [
        "y = df['actual gamma']\n",
        "y_hat = df['predicted gamma']\n",
        "display_scatterplot(PART_TO_USE, y, y_hat)"
      ],
      "execution_count": 19,
      "outputs": [
        {
          "output_type": "stream",
          "text": [
            "Set size = 243\n",
            "MAE on validation = 1.217\n",
            "Corr. actual vs predicted = 0.671\n",
            "R^2 = 0.444\n"
          ],
          "name": "stdout"
        },
        {
          "output_type": "stream",
          "text": [
            "/usr/local/lib/python3.6/dist-packages/seaborn/_decorators.py:43: FutureWarning: Pass the following variables as keyword args: x, y. From version 0.12, the only valid positional argument will be `data`, and passing other arguments without an explicit keyword will result in an error or misinterpretation.\n",
            "  FutureWarning\n"
          ],
          "name": "stderr"
        },
        {
          "output_type": "display_data",
          "data": {
            "image/png": "[encoded data removed]",
            "text/plain": [
              "<Figure size 576x576 with 1 Axes>"
            ]
          },
          "metadata": {
            "tags": [],
            "needs_background": "light"
          }
        },
        {
          "output_type": "display_data",
          "data": {
            "text/plain": [
              "<Figure size 1080x1080 with 0 Axes>"
            ]
          },
          "metadata": {
            "tags": []
          }
        }
      ]
    },
    {
      "cell_type": "markdown",
      "metadata": {
        "id": "ZU-BDT-FLfGd"
      },
      "source": [
        "## Train an XGBoost model with extracted CNN features"
      ]
    },
    {
      "cell_type": "code",
      "metadata": {
        "id": "NwsDXo2sUvT_"
      },
      "source": [
        "# For VGG16 only\n",
        "def extractFeatures(test, part):\n",
        "    tmp_test_batches = getBatchesForPartition(test, part)\n",
        "    print(tmp_test_batches)\n",
        "\n",
        "    inputs=loaded_model.get_layer(\"vgg16\").input\n",
        "    outputs=loaded_model.get_layer(\"vgg16\").output\n",
        "    cnn_part=tf.keras.models.Model(inputs, outputs)\n",
        "    predictions = cnn_part.predict(tmp_test_batches)\n",
        "\n",
        "    predictions[0][:,:,3].mean()\n",
        "\n",
        "    global_average_layer = tf.keras.layers.GlobalAveragePooling2D()\n",
        "    feature_batch_average = global_average_layer(predictions)\n",
        "    extracted_features = feature_batch_average.numpy()\n",
        "\n",
        "    from math import isclose\n",
        "    a=predictions[0][:,:,3].mean()\n",
        "    b=extracted_features[0][3]\n",
        "    isclose(a, b, rel_tol=1e-6)\n",
        "\n",
        "    return extracted_features"
      ],
      "execution_count": 20,
      "outputs": []
    },
    {
      "cell_type": "code",
      "metadata": {
        "id": "2a7cZmhRLfGe",
        "outputId": "883681b8-f139-41c2-82b3-2210c8ce7689",
        "colab": {
          "base_uri": "https://localhost:8080/"
        }
      },
      "source": [
        "extracted_features = extractFeatures(map_dataset, PART_TRAIN)\n",
        "extracted_features.shape"
      ],
      "execution_count": 21,
      "outputs": [
        {
          "output_type": "stream",
          "text": [
            "<BatchDataset shapes: ((None, 256, 256, 3), (None,), (None,)), types: (tf.float32, tf.float32, tf.string)>\n",
            "<MapDataset shapes: ((None, 256, 256, 3), (None,)), types: (tf.float32, tf.float32)>\n"
          ],
          "name": "stdout"
        },
        {
          "output_type": "execute_result",
          "data": {
            "text/plain": [
              "(243, 512)"
            ]
          },
          "metadata": {
            "tags": []
          },
          "execution_count": 21
        }
      ]
    },
    {
      "cell_type": "code",
      "metadata": {
        "id": "qIRjl9l0LfGe"
      },
      "source": [
        "df_features = pd.DataFrame(extracted_features)\n",
        "df_result = pd.concat([df, df_features], axis=1)"
      ],
      "execution_count": 22,
      "outputs": []
    },
    {
      "cell_type": "code",
      "metadata": {
        "id": "HdfQ--vqLfGe",
        "outputId": "5a9f2b13-a48c-4a84-a1fb-b6f6158fe0b5",
        "colab": {
          "base_uri": "https://localhost:8080/",
          "height": 431
        }
      },
      "source": [
        "part = PART_VALIDATION\n",
        "map_dataset = getMapDatasetForPartition(part)\n",
        "tmp_test_batches = getBatchesForPartition(map_dataset, part)\n",
        "evaluatePartition(tmp_test_batches, part)\n",
        "df_validation = getPredictionsDataframe(map_dataset, part)\n",
        "y = df_validation['actual gamma']\n",
        "y_hat = df_validation['predicted gamma']\n",
        "display_scatterplot(PART_VALIDATION, y, y_hat)\n",
        "extracted_features = extractFeatures(map_dataset, part)\n",
        "df_validation_features = pd.DataFrame(extracted_features)\n",
        "df_validation_result = pd.concat([df_validation, df_validation_features], axis=1)"
      ],
      "execution_count": 23,
      "outputs": [
        {
          "output_type": "stream",
          "text": [
            "<TFRecordDatasetV2 shapes: (), types: tf.string>\n",
            "<BatchDataset shapes: ((None, 256, 256, 3), (None,), (None,)), types: (tf.float32, tf.float32, tf.string)>\n"
          ],
          "name": "stdout"
        },
        {
          "output_type": "error",
          "ename": "KeyboardInterrupt",
          "evalue": "ignored",
          "traceback": [
            "\u001b[0;31m---------------------------------------------------------------------------\u001b[0m",
            "\u001b[0;31mKeyboardInterrupt\u001b[0m                         Traceback (most recent call last)",
            "\u001b[0;32m<ipython-input-23-d431c6ed6dc1>\u001b[0m in \u001b[0;36m<module>\u001b[0;34m()\u001b[0m\n\u001b[1;32m      2\u001b[0m \u001b[0mmap_dataset\u001b[0m \u001b[0;34m=\u001b[0m \u001b[0mgetMapDatasetForPartition\u001b[0m\u001b[0;34m(\u001b[0m\u001b[0mpart\u001b[0m\u001b[0;34m)\u001b[0m\u001b[0;34m\u001b[0m\u001b[0;34m\u001b[0m\u001b[0m\n\u001b[1;32m      3\u001b[0m \u001b[0mtmp_test_batches\u001b[0m \u001b[0;34m=\u001b[0m \u001b[0mgetBatchesForPartition\u001b[0m\u001b[0;34m(\u001b[0m\u001b[0mmap_dataset\u001b[0m\u001b[0;34m,\u001b[0m \u001b[0mpart\u001b[0m\u001b[0;34m)\u001b[0m\u001b[0;34m\u001b[0m\u001b[0;34m\u001b[0m\u001b[0m\n\u001b[0;32m----> 4\u001b[0;31m \u001b[0mevaluatePartition\u001b[0m\u001b[0;34m(\u001b[0m\u001b[0mtmp_test_batches\u001b[0m\u001b[0;34m,\u001b[0m \u001b[0mpart\u001b[0m\u001b[0;34m)\u001b[0m\u001b[0;34m\u001b[0m\u001b[0;34m\u001b[0m\u001b[0m\n\u001b[0m\u001b[1;32m      5\u001b[0m \u001b[0mdf_validation\u001b[0m \u001b[0;34m=\u001b[0m \u001b[0mgetPredictionsDataframe\u001b[0m\u001b[0;34m(\u001b[0m\u001b[0mmap_dataset\u001b[0m\u001b[0;34m,\u001b[0m \u001b[0mpart\u001b[0m\u001b[0;34m)\u001b[0m\u001b[0;34m\u001b[0m\u001b[0;34m\u001b[0m\u001b[0m\n\u001b[1;32m      6\u001b[0m \u001b[0my\u001b[0m \u001b[0;34m=\u001b[0m \u001b[0mdf_validation\u001b[0m\u001b[0;34m[\u001b[0m\u001b[0;34m'actual gamma'\u001b[0m\u001b[0;34m]\u001b[0m\u001b[0;34m\u001b[0m\u001b[0;34m\u001b[0m\u001b[0m\n",
            "\u001b[0;32m<ipython-input-14-49b9fbd2b4e8>\u001b[0m in \u001b[0;36mevaluatePartition\u001b[0;34m(tmp_batches, part)\u001b[0m\n\u001b[1;32m      2\u001b[0m     \u001b[0;31m# Evaluate dataset with the loaded model to calculate loss (mae) because\u001b[0m\u001b[0;34m\u001b[0m\u001b[0;34m\u001b[0m\u001b[0;34m\u001b[0m\u001b[0m\n\u001b[1;32m      3\u001b[0m     \u001b[0;31m# metric value could differ from the one reported during training.\u001b[0m\u001b[0;34m\u001b[0m\u001b[0;34m\u001b[0m\u001b[0;34m\u001b[0m\u001b[0m\n\u001b[0;32m----> 4\u001b[0;31m     \u001b[0mloss\u001b[0m\u001b[0;34m,\u001b[0m \u001b[0mmse\u001b[0m \u001b[0;34m=\u001b[0m \u001b[0mloaded_model\u001b[0m\u001b[0;34m.\u001b[0m\u001b[0mevaluate\u001b[0m\u001b[0;34m(\u001b[0m\u001b[0mtmp_batches\u001b[0m\u001b[0;34m,\u001b[0m \u001b[0mworkers\u001b[0m\u001b[0;34m=\u001b[0m\u001b[0mnum_workers\u001b[0m\u001b[0;34m,\u001b[0m \u001b[0mverbose\u001b[0m\u001b[0;34m=\u001b[0m\u001b[0;36m0\u001b[0m\u001b[0;34m)\u001b[0m\u001b[0;34m\u001b[0m\u001b[0;34m\u001b[0m\u001b[0m\n\u001b[0m\u001b[1;32m      5\u001b[0m     \u001b[0mprint\u001b[0m\u001b[0;34m(\u001b[0m\u001b[0;34m'Loaded model, {} loss: {:5.4f}'\u001b[0m\u001b[0;34m.\u001b[0m\u001b[0mformat\u001b[0m\u001b[0;34m(\u001b[0m\u001b[0mpart\u001b[0m\u001b[0;34m,\u001b[0m \u001b[0mloss\u001b[0m\u001b[0;34m)\u001b[0m\u001b[0;34m)\u001b[0m\u001b[0;34m\u001b[0m\u001b[0;34m\u001b[0m\u001b[0m\n\u001b[1;32m      6\u001b[0m     \u001b[0mprint\u001b[0m\u001b[0;34m(\u001b[0m\u001b[0;34m'Loaded model, {} mse: {:5.4f}\\n'\u001b[0m\u001b[0;34m.\u001b[0m\u001b[0mformat\u001b[0m\u001b[0;34m(\u001b[0m\u001b[0mpart\u001b[0m\u001b[0;34m,\u001b[0m \u001b[0mmse\u001b[0m\u001b[0;34m)\u001b[0m\u001b[0;34m)\u001b[0m\u001b[0;34m\u001b[0m\u001b[0;34m\u001b[0m\u001b[0m\n",
            "\u001b[0;32m/usr/local/lib/python3.6/dist-packages/tensorflow/python/keras/engine/training.py\u001b[0m in \u001b[0;36mevaluate\u001b[0;34m(self, x, y, batch_size, verbose, sample_weight, steps, callbacks, max_queue_size, workers, use_multiprocessing, return_dict)\u001b[0m\n\u001b[1;32m   1387\u001b[0m             \u001b[0;32mwith\u001b[0m \u001b[0mtrace\u001b[0m\u001b[0;34m.\u001b[0m\u001b[0mTrace\u001b[0m\u001b[0;34m(\u001b[0m\u001b[0;34m'test'\u001b[0m\u001b[0;34m,\u001b[0m \u001b[0mstep_num\u001b[0m\u001b[0;34m=\u001b[0m\u001b[0mstep\u001b[0m\u001b[0;34m,\u001b[0m \u001b[0m_r\u001b[0m\u001b[0;34m=\u001b[0m\u001b[0;36m1\u001b[0m\u001b[0;34m)\u001b[0m\u001b[0;34m:\u001b[0m\u001b[0;34m\u001b[0m\u001b[0;34m\u001b[0m\u001b[0m\n\u001b[1;32m   1388\u001b[0m               \u001b[0mcallbacks\u001b[0m\u001b[0;34m.\u001b[0m\u001b[0mon_test_batch_begin\u001b[0m\u001b[0;34m(\u001b[0m\u001b[0mstep\u001b[0m\u001b[0;34m)\u001b[0m\u001b[0;34m\u001b[0m\u001b[0;34m\u001b[0m\u001b[0m\n\u001b[0;32m-> 1389\u001b[0;31m               \u001b[0mtmp_logs\u001b[0m \u001b[0;34m=\u001b[0m \u001b[0mself\u001b[0m\u001b[0;34m.\u001b[0m\u001b[0mtest_function\u001b[0m\u001b[0;34m(\u001b[0m\u001b[0miterator\u001b[0m\u001b[0;34m)\u001b[0m\u001b[0;34m\u001b[0m\u001b[0;34m\u001b[0m\u001b[0m\n\u001b[0m\u001b[1;32m   1390\u001b[0m               \u001b[0;32mif\u001b[0m \u001b[0mdata_handler\u001b[0m\u001b[0;34m.\u001b[0m\u001b[0mshould_sync\u001b[0m\u001b[0;34m:\u001b[0m\u001b[0;34m\u001b[0m\u001b[0;34m\u001b[0m\u001b[0m\n\u001b[1;32m   1391\u001b[0m                 \u001b[0mcontext\u001b[0m\u001b[0;34m.\u001b[0m\u001b[0masync_wait\u001b[0m\u001b[0;34m(\u001b[0m\u001b[0;34m)\u001b[0m\u001b[0;34m\u001b[0m\u001b[0;34m\u001b[0m\u001b[0m\n",
            "\u001b[0;32m/usr/local/lib/python3.6/dist-packages/tensorflow/python/eager/def_function.py\u001b[0m in \u001b[0;36m__call__\u001b[0;34m(self, *args, **kwds)\u001b[0m\n\u001b[1;32m    826\u001b[0m     \u001b[0mtracing_count\u001b[0m \u001b[0;34m=\u001b[0m \u001b[0mself\u001b[0m\u001b[0;34m.\u001b[0m\u001b[0mexperimental_get_tracing_count\u001b[0m\u001b[0;34m(\u001b[0m\u001b[0;34m)\u001b[0m\u001b[0;34m\u001b[0m\u001b[0;34m\u001b[0m\u001b[0m\n\u001b[1;32m    827\u001b[0m     \u001b[0;32mwith\u001b[0m \u001b[0mtrace\u001b[0m\u001b[0;34m.\u001b[0m\u001b[0mTrace\u001b[0m\u001b[0;34m(\u001b[0m\u001b[0mself\u001b[0m\u001b[0;34m.\u001b[0m\u001b[0m_name\u001b[0m\u001b[0;34m)\u001b[0m \u001b[0;32mas\u001b[0m \u001b[0mtm\u001b[0m\u001b[0;34m:\u001b[0m\u001b[0;34m\u001b[0m\u001b[0;34m\u001b[0m\u001b[0m\n\u001b[0;32m--> 828\u001b[0;31m       \u001b[0mresult\u001b[0m \u001b[0;34m=\u001b[0m \u001b[0mself\u001b[0m\u001b[0;34m.\u001b[0m\u001b[0m_call\u001b[0m\u001b[0;34m(\u001b[0m\u001b[0;34m*\u001b[0m\u001b[0margs\u001b[0m\u001b[0;34m,\u001b[0m \u001b[0;34m**\u001b[0m\u001b[0mkwds\u001b[0m\u001b[0;34m)\u001b[0m\u001b[0;34m\u001b[0m\u001b[0;34m\u001b[0m\u001b[0m\n\u001b[0m\u001b[1;32m    829\u001b[0m       \u001b[0mcompiler\u001b[0m \u001b[0;34m=\u001b[0m \u001b[0;34m\"xla\"\u001b[0m \u001b[0;32mif\u001b[0m \u001b[0mself\u001b[0m\u001b[0;34m.\u001b[0m\u001b[0m_experimental_compile\u001b[0m \u001b[0;32melse\u001b[0m \u001b[0;34m\"nonXla\"\u001b[0m\u001b[0;34m\u001b[0m\u001b[0;34m\u001b[0m\u001b[0m\n\u001b[1;32m    830\u001b[0m       \u001b[0mnew_tracing_count\u001b[0m \u001b[0;34m=\u001b[0m \u001b[0mself\u001b[0m\u001b[0;34m.\u001b[0m\u001b[0mexperimental_get_tracing_count\u001b[0m\u001b[0;34m(\u001b[0m\u001b[0;34m)\u001b[0m\u001b[0;34m\u001b[0m\u001b[0;34m\u001b[0m\u001b[0m\n",
            "\u001b[0;32m/usr/local/lib/python3.6/dist-packages/tensorflow/python/eager/def_function.py\u001b[0m in \u001b[0;36m_call\u001b[0;34m(self, *args, **kwds)\u001b[0m\n\u001b[1;32m    860\u001b[0m       \u001b[0;31m# In this case we have not created variables on the first call. So we can\u001b[0m\u001b[0;34m\u001b[0m\u001b[0;34m\u001b[0m\u001b[0;34m\u001b[0m\u001b[0m\n\u001b[1;32m    861\u001b[0m       \u001b[0;31m# run the first trace but we should fail if variables are created.\u001b[0m\u001b[0;34m\u001b[0m\u001b[0;34m\u001b[0m\u001b[0;34m\u001b[0m\u001b[0m\n\u001b[0;32m--> 862\u001b[0;31m       \u001b[0mresults\u001b[0m \u001b[0;34m=\u001b[0m \u001b[0mself\u001b[0m\u001b[0;34m.\u001b[0m\u001b[0m_stateful_fn\u001b[0m\u001b[0;34m(\u001b[0m\u001b[0;34m*\u001b[0m\u001b[0margs\u001b[0m\u001b[0;34m,\u001b[0m \u001b[0;34m**\u001b[0m\u001b[0mkwds\u001b[0m\u001b[0;34m)\u001b[0m\u001b[0;34m\u001b[0m\u001b[0;34m\u001b[0m\u001b[0m\n\u001b[0m\u001b[1;32m    863\u001b[0m       \u001b[0;32mif\u001b[0m \u001b[0mself\u001b[0m\u001b[0;34m.\u001b[0m\u001b[0m_created_variables\u001b[0m\u001b[0;34m:\u001b[0m\u001b[0;34m\u001b[0m\u001b[0;34m\u001b[0m\u001b[0m\n\u001b[1;32m    864\u001b[0m         raise ValueError(\"Creating variables on a non-first call to a function\"\n",
            "\u001b[0;32m/usr/local/lib/python3.6/dist-packages/tensorflow/python/eager/function.py\u001b[0m in \u001b[0;36m__call__\u001b[0;34m(self, *args, **kwargs)\u001b[0m\n\u001b[1;32m   2941\u001b[0m        filtered_flat_args) = self._maybe_define_function(args, kwargs)\n\u001b[1;32m   2942\u001b[0m     return graph_function._call_flat(\n\u001b[0;32m-> 2943\u001b[0;31m         filtered_flat_args, captured_inputs=graph_function.captured_inputs)  # pylint: disable=protected-access\n\u001b[0m\u001b[1;32m   2944\u001b[0m \u001b[0;34m\u001b[0m\u001b[0m\n\u001b[1;32m   2945\u001b[0m   \u001b[0;34m@\u001b[0m\u001b[0mproperty\u001b[0m\u001b[0;34m\u001b[0m\u001b[0;34m\u001b[0m\u001b[0m\n",
            "\u001b[0;32m/usr/local/lib/python3.6/dist-packages/tensorflow/python/eager/function.py\u001b[0m in \u001b[0;36m_call_flat\u001b[0;34m(self, args, captured_inputs, cancellation_manager)\u001b[0m\n\u001b[1;32m   1917\u001b[0m       \u001b[0;31m# No tape is watching; skip to running the function.\u001b[0m\u001b[0;34m\u001b[0m\u001b[0;34m\u001b[0m\u001b[0;34m\u001b[0m\u001b[0m\n\u001b[1;32m   1918\u001b[0m       return self._build_call_outputs(self._inference_function.call(\n\u001b[0;32m-> 1919\u001b[0;31m           ctx, args, cancellation_manager=cancellation_manager))\n\u001b[0m\u001b[1;32m   1920\u001b[0m     forward_backward = self._select_forward_and_backward_functions(\n\u001b[1;32m   1921\u001b[0m         \u001b[0margs\u001b[0m\u001b[0;34m,\u001b[0m\u001b[0;34m\u001b[0m\u001b[0;34m\u001b[0m\u001b[0m\n",
            "\u001b[0;32m/usr/local/lib/python3.6/dist-packages/tensorflow/python/eager/function.py\u001b[0m in \u001b[0;36mcall\u001b[0;34m(self, ctx, args, cancellation_manager)\u001b[0m\n\u001b[1;32m    558\u001b[0m               \u001b[0minputs\u001b[0m\u001b[0;34m=\u001b[0m\u001b[0margs\u001b[0m\u001b[0;34m,\u001b[0m\u001b[0;34m\u001b[0m\u001b[0;34m\u001b[0m\u001b[0m\n\u001b[1;32m    559\u001b[0m               \u001b[0mattrs\u001b[0m\u001b[0;34m=\u001b[0m\u001b[0mattrs\u001b[0m\u001b[0;34m,\u001b[0m\u001b[0;34m\u001b[0m\u001b[0;34m\u001b[0m\u001b[0m\n\u001b[0;32m--> 560\u001b[0;31m               ctx=ctx)\n\u001b[0m\u001b[1;32m    561\u001b[0m         \u001b[0;32melse\u001b[0m\u001b[0;34m:\u001b[0m\u001b[0;34m\u001b[0m\u001b[0;34m\u001b[0m\u001b[0m\n\u001b[1;32m    562\u001b[0m           outputs = execute.execute_with_cancellation(\n",
            "\u001b[0;32m/usr/local/lib/python3.6/dist-packages/tensorflow/python/eager/execute.py\u001b[0m in \u001b[0;36mquick_execute\u001b[0;34m(op_name, num_outputs, inputs, attrs, ctx, name)\u001b[0m\n\u001b[1;32m     58\u001b[0m     \u001b[0mctx\u001b[0m\u001b[0;34m.\u001b[0m\u001b[0mensure_initialized\u001b[0m\u001b[0;34m(\u001b[0m\u001b[0;34m)\u001b[0m\u001b[0;34m\u001b[0m\u001b[0;34m\u001b[0m\u001b[0m\n\u001b[1;32m     59\u001b[0m     tensors = pywrap_tfe.TFE_Py_Execute(ctx._handle, device_name, op_name,\n\u001b[0;32m---> 60\u001b[0;31m                                         inputs, attrs, num_outputs)\n\u001b[0m\u001b[1;32m     61\u001b[0m   \u001b[0;32mexcept\u001b[0m \u001b[0mcore\u001b[0m\u001b[0;34m.\u001b[0m\u001b[0m_NotOkStatusException\u001b[0m \u001b[0;32mas\u001b[0m \u001b[0me\u001b[0m\u001b[0;34m:\u001b[0m\u001b[0;34m\u001b[0m\u001b[0;34m\u001b[0m\u001b[0m\n\u001b[1;32m     62\u001b[0m     \u001b[0;32mif\u001b[0m \u001b[0mname\u001b[0m \u001b[0;32mis\u001b[0m \u001b[0;32mnot\u001b[0m \u001b[0;32mNone\u001b[0m\u001b[0;34m:\u001b[0m\u001b[0;34m\u001b[0m\u001b[0;34m\u001b[0m\u001b[0m\n",
            "\u001b[0;31mKeyboardInterrupt\u001b[0m: "
          ]
        }
      ]
    },
    {
      "cell_type": "code",
      "metadata": {
        "id": "8BZgIQF6LfGf"
      },
      "source": [
        "# training\n",
        "df_result"
      ],
      "execution_count": null,
      "outputs": []
    },
    {
      "cell_type": "code",
      "metadata": {
        "id": "QNTgO9tNLfGf"
      },
      "source": [
        "# validation\n",
        "df_validation_result"
      ],
      "execution_count": null,
      "outputs": []
    },
    {
      "cell_type": "code",
      "metadata": {
        "id": "tao_M8rZLfGf"
      },
      "source": [
        "SEED = 12345\n",
        "\n",
        "X_train = df_features\n",
        "y_train = df['actual gamma']\n",
        "X_valid = df_validation_features\n",
        "y_valid = df_validation['actual gamma']\n",
        "print(X_train.shape, y_train.shape)\n",
        "print(X_valid.shape, y_valid.shape)"
      ],
      "execution_count": null,
      "outputs": []
    },
    {
      "cell_type": "code",
      "metadata": {
        "id": "vfWEK84eLfGg"
      },
      "source": [
        "dtrain = xgb.DMatrix(data=X_train, label=y_train)\n",
        "dvalid = xgb.DMatrix(data=X_valid, label=y_valid)\n",
        "print(f'Number of features = {len(dtrain.feature_names)}')"
      ],
      "execution_count": null,
      "outputs": []
    },
    {
      "cell_type": "code",
      "metadata": {
        "id": "ygxnl_f-LfGg"
      },
      "source": [
        "def save_best_model(model_file):\n",
        "    best_score = float('inf')\n",
        "    \n",
        "    def callback(env):\n",
        "        nonlocal best_score\n",
        "        if env.evaluation_result_list[-1][1] < best_score:\n",
        "            env.model.save_model(model_file)\n",
        "            best_score = env.evaluation_result_list[-1][1]\n",
        "            \n",
        "    return callback;"
      ],
      "execution_count": null,
      "outputs": []
    },
    {
      "cell_type": "code",
      "metadata": {
        "id": "NBa2IOSqLfGg"
      },
      "source": [
        "# specify parameters via map, definition are same as c++ version: https://xgboost.readthedocs.io/en/latest/parameter.html or\n",
        "# https://github.com/dmlc/xgboost/blob/master/doc/parameter.rst\n",
        "param = {'max_depth': 2\n",
        "         , 'eta': 0.1\n",
        "         , 'objective': 'reg:squarederror'\n",
        "         , 'eval_metric': ['rmse', 'mae']\n",
        "         , 'colsample_bytree': 0.3\n",
        "         # , 'colsample_bynode': 0.3\n",
        "         , 'lambda': 2\n",
        "         , 'alpha': 2\n",
        "         # , 'tree_method': 'gpu_hist' # usa la GPU\n",
        "         , 'seed': SEED\n",
        "         , 'min_child_weight': 5\n",
        "        }\n",
        "\n",
        "MODEL_FILE = 'best-xgboost.model'\n",
        "saved_model_dir = '{}/{}'.format(dir, MODEL_FILE)\n",
        "\n",
        "# specify validations set to watch performance\n",
        "watchlist = [(dtrain, 'train'), (dvalid, 'valid')]\n",
        "results = {}\n",
        "num_boost_round = 150\n",
        "bst = xgb.train(param, dtrain, num_boost_round, evals=watchlist, early_stopping_rounds=10, evals_result=results, callbacks=[save_best_model(saved_model_dir)])"
      ],
      "execution_count": null,
      "outputs": []
    },
    {
      "cell_type": "code",
      "metadata": {
        "id": "lEFCLeedLfGh"
      },
      "source": [
        "epochs = len(results['train']['mae'])\n",
        "x_axis = range(0, epochs)\n",
        "# plot MAE\n",
        "fig, ax = plt.subplots()\n",
        "ax.plot(x_axis, results['train']['mae'], label='Training')\n",
        "ax.plot(x_axis, results['valid']['mae'], label='Validation')\n",
        "plt.axvline(bst.best_iteration, linestyle='--', color='k', label='best iteration')\n",
        "ax.legend()\n",
        "plt.ylabel('MAE')\n",
        "plt.xlabel('iteration')\n",
        "plt.title('XGBoost MAE')\n",
        "ymin=0; ymax=10\n",
        "plt.ylim(ymin, ymax)\n",
        "plt.show()"
      ],
      "execution_count": null,
      "outputs": []
    },
    {
      "cell_type": "code",
      "metadata": {
        "id": "vCsKk89xLfGh"
      },
      "source": [
        "print('best iteration: %i, best MAE on validation: %.3f' % (bst.best_iteration, bst.best_score))"
      ],
      "execution_count": null,
      "outputs": []
    },
    {
      "cell_type": "code",
      "metadata": {
        "id": "h1WiMTeKLfGh"
      },
      "source": [
        "bst = xgb.Booster()  # init model\n",
        "bst.load_model(saved_model_dir)  # load data"
      ],
      "execution_count": null,
      "outputs": []
    },
    {
      "cell_type": "code",
      "metadata": {
        "id": "KeyHJOeeLfGi"
      },
      "source": [
        "# This is prediction\n",
        "y_hat = bst.predict(dvalid)\n",
        "display_scatterplot(PART_VALIDATION, y_valid, y_hat)"
      ],
      "execution_count": null,
      "outputs": []
    },
    {
      "cell_type": "code",
      "metadata": {
        "id": "1Zey_ms0PZK4"
      },
      "source": [
        "if isGoogleColab():\n",
        "    drive.flush_and_unmount()\n",
        "    print('All changes made in this colab session should now be visible in Drive.')"
      ],
      "execution_count": null,
      "outputs": []
    }
  ]
}