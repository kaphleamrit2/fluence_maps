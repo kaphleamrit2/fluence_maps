{
 "cells": [
  {
   "cell_type": "markdown",
   "metadata": {
    "colab_type": "text",
    "id": "view-in-github"
   },
   "source": [
    "<a href=\"https://colab.research.google.com/github/pablojrios/fluence_maps/blob/master/tf2_evaluate.ipynb\" target=\"_parent\"><img src=\"https://colab.research.google.com/assets/colab-badge.svg\" alt=\"Open In Colab\"/></a>"
   ]
  },
  {
   "cell_type": "markdown",
   "metadata": {
    "id": "-n_PAVFGnZDx"
   },
   "source": [
    "# Compute predictions on a TF dataset using an stored .h5 model"
   ]
  },
  {
   "cell_type": "code",
   "execution_count": 213,
   "metadata": {},
   "outputs": [],
   "source": [
    "def isGoogleColab():\n",
    "    # 'ipykernel.zmqshell' runs in our server\n",
    "    # 'google.colab._shell' runs in Google Colab\n",
    "    return get_ipython().__class__.__module__ == 'google.colab._shell'"
   ]
  },
  {
   "cell_type": "code",
   "execution_count": 214,
   "metadata": {
    "colab": {
     "base_uri": "https://localhost:8080/"
    },
    "id": "4LvLPLr5n_yJ",
    "outputId": "872726f3-d9e2-4ba2-c4b5-e24a02d0a42c"
   },
   "outputs": [],
   "source": [
    "import numpy as np\n",
    "import tensorflow as tf\n",
    "from util.dataset import _tfrecord_dataset_type_from_folder, _parse_jpeg_image_function\n",
    "from util.preprocess import rescale_0_to_1\n",
    "import os\n",
    "import pandas as pd\n",
    "# Es indistinto usar las métricas de scikit learn o tensorflow\n",
    "# from sklearn.metrics import mean_absolute_error\n",
    "from tensorflow.keras.losses import mean_squared_error, mean_absolute_error\n",
    "from sklearn.metrics import r2_score\n",
    "import seaborn as sns\n",
    "from matplotlib import pyplot as plt"
   ]
  },
  {
   "cell_type": "code",
   "execution_count": 215,
   "metadata": {
    "colab": {
     "base_uri": "https://localhost:8080/"
    },
    "id": "LN_LGyd6pWeZ",
    "outputId": "f525e56b-da96-4d0b-eb17-787017d03bb8"
   },
   "outputs": [
    {
     "name": "stdout",
     "output_type": "stream",
     "text": [
      "Tensorflow version = 2.2.0\n",
      "Executing eagerly = True\n"
     ]
    }
   ],
   "source": [
    "print('Tensorflow version = {}'.format(tf.__version__))\n",
    "print('Executing eagerly = {}'.format(tf.executing_eagerly()))"
   ]
  },
  {
   "cell_type": "code",
   "execution_count": 216,
   "metadata": {
    "colab": {
     "base_uri": "https://localhost:8080/"
    },
    "id": "A85nWqMEnKPB",
    "outputId": "116644a2-c7c6-4760-ad23-1fb4efaea13a"
   },
   "outputs": [],
   "source": [
    "#%cd /content/drive/My\\ Drive/Healthcare/Radioterapia/data/ciolaplata\n",
    "#!unrar x /content/drive/My\\ Drive/Healthcare/Radioterapia/Mapas\\ CIO\\ La\\ Plata/Mapas\\ Calculados/2019.rar\n",
    "#!ls -l 2015/*dcm | wc -l\n",
    "\n",
    "if isGoogleColab():\n",
    "    %cd -q '/content'\n",
    "    if os.path.exists('fluence_maps'):\n",
    "        !rm -fr fluence_maps\n",
    "\n",
    "    GIT_USERNAME = \"pablojrios\"\n",
    "    GIT_TOKEN = \"1d88a0b85d2b00a03796e4d8b7e5f7b249b12f9b\"\n",
    "    !git clone -s https://{GIT_TOKEN}@github.com/{GIT_USERNAME}/fluence_maps.git\n",
    "\n",
    "    from google.colab import drive\n",
    "    drive.mount('/content/drive')\n",
    "    \n",
    "    !ls -l '/content/drive/My Drive/Healthcare/Radioterapia/data/ciolaplata/models'\n",
    "    \n",
    "    ARG_DATASET_DIR='/content/drive/My Drive/Healthcare/Radioterapia/data/ciolaplata'"
   ]
  },
  {
   "cell_type": "code",
   "execution_count": 217,
   "metadata": {
    "id": "eWlKtT6Kpbsr"
   },
   "outputs": [],
   "source": [
    "#============================DEFINE YOUR ARGUMENTS==============================\n",
    "if not isGoogleColab():\n",
    "    # base data directory\n",
    "    ARG_DATASET_DIR='/hdd/data/radioterapia/ciolaplata'\n",
    "# folder under ARG_DATASET_DIR path.\n",
    "ARG_TFDATASET_FOLDER='tfds-2019-localnorm-113355'\n",
    "ARG_MODEL_NAME = '1611181203' # VGG16 20 de enero 2021\n",
    "# ARG_MODEL_NAME = '1611181684' # ResNet 18 20 de enero 2021\n",
    "# 'train', 'validation', 'test' \n",
    "ARG_PART = 'validation'\n",
    "ARG_TRANSFORM_GAMMA=False"
   ]
  },
  {
   "cell_type": "code",
   "execution_count": 218,
   "metadata": {
    "colab": {
     "base_uri": "https://localhost:8080/"
    },
    "id": "K2-IdOEGqmU1",
    "outputId": "1f387eec-0ad2-4018-93b1-e406bcc03265"
   },
   "outputs": [
    {
     "name": "stdout",
     "output_type": "stream",
     "text": [
      "<TFRecordDatasetV2 shapes: (), types: tf.string>\n"
     ]
    }
   ],
   "source": [
    "tfdataset_dir = os.path.join(ARG_DATASET_DIR, ARG_TFDATASET_FOLDER)\n",
    "raw_test = _tfrecord_dataset_type_from_folder(tfdataset_dir, ARG_PART)\n",
    "print(raw_test)"
   ]
  },
  {
   "cell_type": "code",
   "execution_count": 219,
   "metadata": {
    "colab": {
     "base_uri": "https://localhost:8080/"
    },
    "id": "tfTOOGlJrYIr",
    "outputId": "ac315d07-aad5-42cf-98df-943201cd5a4c"
   },
   "outputs": [
    {
     "name": "stdout",
     "output_type": "stream",
     "text": [
      "<ParallelMapDataset shapes: ((256, 256, 3), (), ()), types: (tf.float32, tf.float32, tf.string)>\n"
     ]
    }
   ],
   "source": [
    "# Apply this function to each item in the dataset using the map method:\n",
    "num_workers = 8\n",
    "IMG_SIZE = 256\n",
    "normalization_fn = rescale_0_to_1\n",
    "test = raw_test.map(lambda e: _parse_jpeg_image_function(e, IMG_SIZE, normalization_fn, transform_gamma=ARG_TRANSFORM_GAMMA), num_parallel_calls=num_workers)\n",
    "print(test)"
   ]
  },
  {
   "cell_type": "code",
   "execution_count": 220,
   "metadata": {
    "colab": {
     "base_uri": "https://localhost:8080/"
    },
    "id": "3yG0Vf93rmOw",
    "outputId": "cf6f3bf1-6790-45a0-9763-86b67e335ea2"
   },
   "outputs": [
    {
     "name": "stdout",
     "output_type": "stream",
     "text": [
      "<BatchDataset shapes: ((None, 256, 256, 3), (None,), (None,)), types: (tf.float32, tf.float32, tf.string)>\n"
     ]
    }
   ],
   "source": [
    "gamma_values = test.map(lambda image, gamma, filename: gamma)\n",
    "gamma_values = np.array(list(gamma_values.as_numpy_iterator()))\n",
    "BATCH_SIZE = 32 # mae puede variar según batch size.\n",
    "test_batches = test.batch(BATCH_SIZE)\n",
    "print(test_batches)"
   ]
  },
  {
   "cell_type": "code",
   "execution_count": 221,
   "metadata": {
    "colab": {
     "base_uri": "https://localhost:8080/"
    },
    "id": "ug89pURgI1I_",
    "outputId": "275f597a-72c7-48e9-8ca2-997c6000aa60"
   },
   "outputs": [
    {
     "data": {
      "text/plain": [
       "array([ 94.9713  ,  99.65418 ,  95.1143  ,  99.56485 ,  99.81494 ,\n",
       "        86.9148  ,  96.6144  ,  96.2427  ,  99.46195 ,  99.01814 ,\n",
       "        99.75241 ,  97.9429  ,  99.15427 ,  97.4026  ,  98.9906  ,\n",
       "        99.77383 ,  97.0141  ,  99.66353 ,  97.1984  ,  99.57138 ,\n",
       "        99.06374 ,  92.481   ,  97.563   ,  99.17148 ,  98.6501  ,\n",
       "        98.9895  ,  99.10782 ,  98.9747  ,  99.86622 ,  98.7738  ,\n",
       "        96.5368  ,  98.6483  ,  94.8744  ,  99.18528 ,  95.5027  ,\n",
       "        98.5017  ,  97.1651  ,  95.5868  ,  99.930824,  97.6473  ,\n",
       "        99.18165 ,  98.0019  ,  98.7342  ,  99.85006 ,  98.9628  ,\n",
       "        98.6337  ,  98.8599  ,  99.944275,  99.56468 ,  99.74794 ,\n",
       "        99.42905 ,  97.7609  ,  99.83155 ,  99.33907 , 100.      ,\n",
       "        99.6061  ,  99.35998 ,  97.7755  ,  98.9677  ,  99.67603 ,\n",
       "        95.7748  ,  98.6577  ,  91.2326  ,  99.69118 ,  99.92806 ,\n",
       "        98.3503  ,  99.58792 ,  98.608   ,  96.8416  ,  99.74189 ,\n",
       "        99.67704 ,  98.6064  ,  95.225   ,  98.3013  ,  97.7624  ,\n",
       "        99.89409 ,  99.8545  ,  99.40943 ,  98.4111  ,  99.42661 ,\n",
       "        99.25475 ,  88.6683  ,  99.51558 ,  95.7195  ,  99.50124 ,\n",
       "        92.8577  ,  99.52223 ,  92.3669  ,  99.7958  ,  99.6611  ,\n",
       "        99.25522 ,  99.66628 ,  98.0369  ,  99.67613 ,  99.87626 ,\n",
       "        98.0138  ,  98.7929  ,  99.85585 ,  99.53257 ,  98.2874  ,\n",
       "        97.0992  ,  99.52286 ,  99.81774 ,  98.4418  ,  99.76403 ,\n",
       "        99.44308 , 100.      ,  96.9702  ,  99.47873 ,  98.9854  ,\n",
       "        99.37132 ,  98.989   ,  99.00784 ,  96.0672  ,  99.75644 ,\n",
       "        97.4587  ,  99.83604 ,  99.96133 ,  98.4411  ,  99.64086 ,\n",
       "        99.44565 ,  99.74163 ,  98.5434  ,  98.662   ,  95.737   ,\n",
       "        99.86723 ,  86.9888  ,  97.567   ,  98.0221  ,  99.88196 ,\n",
       "        99.66718 ,  98.8608  ,  99.41488 ,  93.6094  ,  99.1523  ,\n",
       "        99.35992 ,  99.61211 ,  98.2983  ,  99.11278 ,  99.71308 ,\n",
       "        99.99588 ,  99.77841 ,  95.705   ,  97.8726  ,  95.1395  ,\n",
       "        99.93287 ,  99.88935 ,  98.8703  ,  94.124   ,  99.82578 ,\n",
       "        99.89334 ,  99.89024 ,  99.18677 ,  99.50842 ,  99.63802 ,\n",
       "        87.1326  ,  99.40994 ,  98.05    ,  99.21936 ,  99.36932 ,\n",
       "        97.4894  ,  97.7482  ,  99.24223 ,  98.9394  ,  99.37403 ,\n",
       "        98.7841  ,  99.9764  ,  99.74337 ,  99.40484 ,  99.84686 ,\n",
       "        99.86274 ,  98.758   ,  99.0124  ,  99.41891 ,  99.86355 ,\n",
       "        99.31221 ,  99.48125 ,  97.7723  ,  99.70215 ,  99.94116 ,\n",
       "        99.632   ,  99.01682 ,  99.79354 ,  99.13598 ,  98.5893  ,\n",
       "        99.20757 ,  98.6149  ,  99.18498 ,  99.953804,  99.38039 ,\n",
       "        99.64448 ,  99.80394 ,  99.955666,  99.63993 ,  98.205   ,\n",
       "        99.73015 ,  73.7895  ,  86.094   ,  95.2326  ,  98.3227  ,\n",
       "        99.29538 ,  99.65186 ,  99.93873 ,  97.8114  ,  99.63385 ,\n",
       "        95.1932  ,  99.82239 ,  99.72937 ,  97.4373  ,  99.09021 ,\n",
       "        99.6922  ,  99.22677 ,  95.4145  ,  98.6662  ,  99.951805,\n",
       "        99.49226 ,  98.3763  ,  97.9448  ,  99.05041 ,  99.40213 ,\n",
       "        98.1783  ,  99.23992 ,  98.5984  ,  99.88877 ,  95.2711  ,\n",
       "        99.95337 ,  98.1387  ,  97.5175  ,  99.927734,  78.7424  ,\n",
       "        99.69086 ,  95.2468  ,  99.23138 ,  99.48448 ,  93.5271  ,\n",
       "        99.49304 ,  98.0226  ,  94.5388  ,  98.7053  ,  99.662   ,\n",
       "        98.6917  ,  98.5163  ,  99.81957 ,  98.6526  ], dtype=float32)"
      ]
     },
     "execution_count": 221,
     "metadata": {},
     "output_type": "execute_result"
    }
   ],
   "source": [
    "gamma_values"
   ]
  },
  {
   "cell_type": "code",
   "execution_count": 222,
   "metadata": {
    "colab": {
     "base_uri": "https://localhost:8080/"
    },
    "id": "tjrt80mNr0a4",
    "outputId": "224b33c2-df05-40d4-ddf7-fdd72f620f94"
   },
   "outputs": [
    {
     "name": "stdout",
     "output_type": "stream",
     "text": [
      "Loading model /hdd/data/radioterapia/ciolaplata/models/1611181203.h5...\n"
     ]
    }
   ],
   "source": [
    "# load model\n",
    "dir = os.path.join(ARG_DATASET_DIR, \"models\")\n",
    "saved_model_dir = '{}/{}.h5'.format(dir, ARG_MODEL_NAME)\n",
    "print(f'Loading model {saved_model_dir}...')\n",
    "loaded_model = tf.keras.models.load_model(saved_model_dir)"
   ]
  },
  {
   "cell_type": "code",
   "execution_count": 223,
   "metadata": {
    "colab": {
     "base_uri": "https://localhost:8080/"
    },
    "id": "lkz2ZGMDRNgC",
    "outputId": "bc0468f4-e282-4c88-a2bb-eebf86117d96"
   },
   "outputs": [
    {
     "name": "stdout",
     "output_type": "stream",
     "text": [
      "Model: \"sequential\"\n",
      "_________________________________________________________________\n",
      "Layer (type)                 Output Shape              Param #   \n",
      "=================================================================\n",
      "vgg16 (Model)                (None, 8, 8, 512)         14714688  \n",
      "_________________________________________________________________\n",
      "global_average_pooling2d (Gl (None, 512)               0         \n",
      "_________________________________________________________________\n",
      "dense (Dense)                (None, 512)               262656    \n",
      "_________________________________________________________________\n",
      "dense_1 (Dense)              (None, 1)                 513       \n",
      "=================================================================\n",
      "Total params: 14,977,857\n",
      "Trainable params: 12,062,209\n",
      "Non-trainable params: 2,915,648\n",
      "_________________________________________________________________\n"
     ]
    }
   ],
   "source": [
    "loaded_model.summary()"
   ]
  },
  {
   "cell_type": "code",
   "execution_count": 224,
   "metadata": {
    "colab": {
     "base_uri": "https://localhost:8080/"
    },
    "id": "ZEaSI7qj86Um",
    "outputId": "a8e1752e-332f-4572-e72f-8f0c77c3245a"
   },
   "outputs": [
    {
     "name": "stdout",
     "output_type": "stream",
     "text": [
      "<MapDataset shapes: ((None, 256, 256, 3), (None,)), types: (tf.float32, tf.float32)>\n",
      "\n",
      "\n",
      "Loaded model, test loss: 1.2123\n",
      "Loaded model, test mse: 7.1444\n"
     ]
    }
   ],
   "source": [
    "# Evaluate dataset with the loaded model to calculate loss (mae) because\n",
    "# metric value could differ from the one reported during training.\n",
    "tmp_test_batches = test_batches.map(lambda image, gamma, filename: (image, gamma))\n",
    "print(tmp_test_batches)\n",
    "loss, mse = loaded_model.evaluate(tmp_test_batches, workers=num_workers, verbose=0)\n",
    "print('\\n\\nLoaded model, test loss: {:5.4f}'.format(loss))\n",
    "print('Loaded model, test mse: {:5.4f}'.format(mse))"
   ]
  },
  {
   "cell_type": "code",
   "execution_count": 225,
   "metadata": {
    "colab": {
     "base_uri": "https://localhost:8080/"
    },
    "id": "NwsDXo2sUvT_",
    "outputId": "8515861d-a971-41b2-f76c-2b2834dd898b"
   },
   "outputs": [
    {
     "name": "stdout",
     "output_type": "stream",
     "text": [
      "Model: \"model_10\"\n",
      "_________________________________________________________________\n",
      "Layer (type)                 Output Shape              Param #   \n",
      "=================================================================\n",
      "input_1 (InputLayer)         [(None, 256, 256, 3)]     0         \n",
      "_________________________________________________________________\n",
      "block1_conv1 (Conv2D)        (None, 256, 256, 64)      1792      \n",
      "_________________________________________________________________\n",
      "block1_conv2 (Conv2D)        (None, 256, 256, 64)      36928     \n",
      "_________________________________________________________________\n",
      "block1_pool (MaxPooling2D)   (None, 128, 128, 64)      0         \n",
      "_________________________________________________________________\n",
      "block2_conv1 (Conv2D)        (None, 128, 128, 128)     73856     \n",
      "_________________________________________________________________\n",
      "block2_conv2 (Conv2D)        (None, 128, 128, 128)     147584    \n",
      "_________________________________________________________________\n",
      "block2_pool (MaxPooling2D)   (None, 64, 64, 128)       0         \n",
      "_________________________________________________________________\n",
      "block3_conv1 (Conv2D)        (None, 64, 64, 256)       295168    \n",
      "_________________________________________________________________\n",
      "block3_conv2 (Conv2D)        (None, 64, 64, 256)       590080    \n",
      "_________________________________________________________________\n",
      "block3_conv3 (Conv2D)        (None, 64, 64, 256)       590080    \n",
      "_________________________________________________________________\n",
      "block3_pool (MaxPooling2D)   (None, 32, 32, 256)       0         \n",
      "_________________________________________________________________\n",
      "block4_conv1 (Conv2D)        (None, 32, 32, 512)       1180160   \n",
      "_________________________________________________________________\n",
      "block4_conv2 (Conv2D)        (None, 32, 32, 512)       2359808   \n",
      "_________________________________________________________________\n",
      "block4_conv3 (Conv2D)        (None, 32, 32, 512)       2359808   \n",
      "_________________________________________________________________\n",
      "block4_pool (MaxPooling2D)   (None, 16, 16, 512)       0         \n",
      "_________________________________________________________________\n",
      "block5_conv1 (Conv2D)        (None, 16, 16, 512)       2359808   \n",
      "_________________________________________________________________\n",
      "block5_conv2 (Conv2D)        (None, 16, 16, 512)       2359808   \n",
      "_________________________________________________________________\n",
      "block5_conv3 (Conv2D)        (None, 16, 16, 512)       2359808   \n",
      "_________________________________________________________________\n",
      "block5_pool (MaxPooling2D)   (None, 8, 8, 512)         0         \n",
      "=================================================================\n",
      "Total params: 14,714,688\n",
      "Trainable params: 11,799,040\n",
      "Non-trainable params: 2,915,648\n",
      "_________________________________________________________________\n"
     ]
    }
   ],
   "source": [
    "# For VGG16 only\n",
    "inputs=loaded_model.get_layer(\"vgg16\").input\n",
    "outputs=loaded_model.get_layer(\"vgg16\").output\n",
    "cnn_part=tf.keras.models.Model(inputs, outputs)\n",
    "cnn_part.summary()\n",
    "predictions = cnn_part.predict(tmp_test_batches)"
   ]
  },
  {
   "cell_type": "code",
   "execution_count": 226,
   "metadata": {
    "colab": {
     "base_uri": "https://localhost:8080/"
    },
    "id": "5cYaneH7dHQk",
    "outputId": "0115b6a6-2047-4683-ffdb-df995946a71b"
   },
   "outputs": [
    {
     "data": {
      "text/plain": [
       "0.19321111"
      ]
     },
     "execution_count": 226,
     "metadata": {},
     "output_type": "execute_result"
    }
   ],
   "source": [
    "# For VGG16 only\n",
    "predictions[0][:,:,3].mean()"
   ]
  },
  {
   "cell_type": "code",
   "execution_count": 227,
   "metadata": {
    "colab": {
     "base_uri": "https://localhost:8080/"
    },
    "id": "e0hmP1_sZPyH",
    "outputId": "0bebae1a-ff26-479e-8647-7a1079ec99dd"
   },
   "outputs": [
    {
     "data": {
      "text/plain": [
       "array([1.88282073e-01, 0.00000000e+00, 4.72093284e-01, 1.93211064e-01,\n",
       "       1.92909196e-01, 0.00000000e+00, 0.00000000e+00, 4.70261760e-02,\n",
       "       1.05517074e-01, 1.46554977e-01, 0.00000000e+00, 0.00000000e+00,\n",
       "       2.32034311e-01, 0.00000000e+00, 0.00000000e+00, 4.22584563e-01,\n",
       "       0.00000000e+00, 3.12842697e-01, 0.00000000e+00, 0.00000000e+00,\n",
       "       6.71683177e-02, 5.34275314e-03, 1.64704397e-05, 1.58349440e-01,\n",
       "       1.87831819e-01, 0.00000000e+00, 2.75788218e-01, 4.47381334e-03,\n",
       "       2.51790643e-01, 6.03195745e-04, 1.54512733e-01, 1.41264349e-01,\n",
       "       2.16727003e-01, 2.54873991e-01, 3.65392148e-01, 0.00000000e+00,\n",
       "       4.46579814e-01, 1.19189720e-03, 0.00000000e+00, 0.00000000e+00,\n",
       "       1.45695424e-02, 0.00000000e+00, 5.29043794e-01, 8.75004660e-03,\n",
       "       0.00000000e+00, 1.88799620e-01, 1.84669485e-03, 1.12335190e-01,\n",
       "       0.00000000e+00, 2.31538773e-01, 4.27118689e-02, 0.00000000e+00,\n",
       "       1.13562174e-01, 1.65948528e-03, 1.06575154e-03, 7.68699229e-01,\n",
       "       4.24267560e-01, 0.00000000e+00, 2.24764451e-01, 1.70557857e-01,\n",
       "       2.61977519e-04, 0.00000000e+00, 8.38664621e-02, 1.46232665e-01,\n",
       "       0.00000000e+00, 0.00000000e+00, 1.72244925e-02, 9.17794765e-04,\n",
       "       0.00000000e+00, 1.79808900e-01, 4.51181876e-03, 5.43356910e-02,\n",
       "       9.69045684e-02, 0.00000000e+00, 0.00000000e+00, 0.00000000e+00,\n",
       "       7.27110803e-01, 4.34060358e-02, 3.65031371e-03, 0.00000000e+00,\n",
       "       8.45181197e-02, 6.51338398e-01, 9.82786939e-02, 9.71334893e-03,\n",
       "       1.14301935e-01, 1.88756292e-03, 4.29006487e-01, 4.65356000e-03,\n",
       "       3.70540798e-01, 4.79695469e-01, 0.00000000e+00, 6.04684241e-02,\n",
       "       2.91250763e-04, 1.86622754e-01, 0.00000000e+00, 1.33184856e-03,\n",
       "       1.22601551e-03, 1.49230510e-01, 1.11623970e-03, 2.39944264e-01,\n",
       "       2.79212743e-01, 4.91343826e-01, 5.54796122e-02, 1.13683837e-02,\n",
       "       1.88524514e-01, 5.92840277e-02, 3.76606286e-02, 0.00000000e+00,\n",
       "       2.60612071e-01, 3.30248594e-01, 2.04300463e-01, 7.81626478e-02,\n",
       "       2.98924581e-03, 1.92391753e+00, 0.00000000e+00, 0.00000000e+00,\n",
       "       5.54524921e-02, 6.38393998e-01, 1.96737528e-01, 6.98241234e-01,\n",
       "       0.00000000e+00, 1.54681668e-01, 7.41619468e-02, 5.34949541e-01,\n",
       "       8.41647536e-02, 3.01858806e-03, 4.78261476e-03, 1.48771524e-01,\n",
       "       4.38306294e-02, 8.64947587e-03, 0.00000000e+00, 1.34793110e-04,\n",
       "       0.00000000e+00, 4.88387018e-01, 0.00000000e+00, 2.08768225e-03,\n",
       "       2.13224115e-03, 3.60685773e-03, 1.72548532e-01, 2.94540226e-01,\n",
       "       0.00000000e+00, 5.82240988e-04, 1.27860662e-02, 2.74663746e-01,\n",
       "       0.00000000e+00, 0.00000000e+00, 2.88040131e-01, 0.00000000e+00,\n",
       "       1.09357290e-01, 2.39703029e-01, 9.70722921e-03, 1.65847652e-02,\n",
       "       5.21295797e-03, 1.01443101e-02, 1.27595112e-01, 9.39416981e+00,\n",
       "       1.79830506e-01, 1.04743585e-01, 1.03642203e-01, 1.86497776e-03,\n",
       "       3.87405939e-02, 0.00000000e+00, 0.00000000e+00, 6.78013742e-01,\n",
       "       1.02109760e-01, 1.69687206e-03, 6.96963787e-01, 0.00000000e+00,\n",
       "       1.65367097e-01, 1.96418092e-01, 9.42956135e-02, 1.42181339e-02,\n",
       "       5.13002038e-01, 1.90876991e-01, 1.30533740e-01, 2.07644820e-01,\n",
       "       1.93891004e-02, 0.00000000e+00, 0.00000000e+00, 2.93714851e-01,\n",
       "       3.09427306e-02, 0.00000000e+00, 0.00000000e+00, 0.00000000e+00,\n",
       "       8.48871656e-03, 2.42597893e-01, 5.25803208e-01, 3.07119668e-01,\n",
       "       4.75124316e-03, 0.00000000e+00, 7.69694373e-02, 5.24838315e-03,\n",
       "       6.95026740e-02, 1.22618534e-01, 5.22176251e-02, 0.00000000e+00,\n",
       "       1.72881439e-01, 5.70828374e-03, 1.20425776e-01, 2.98837513e-01,\n",
       "       3.16091813e-02, 0.00000000e+00, 3.66078615e-01, 1.44316675e-03,\n",
       "       0.00000000e+00, 4.37792949e-02, 0.00000000e+00, 5.03401347e-02,\n",
       "       0.00000000e+00, 1.60065363e-04, 0.00000000e+00, 1.78494584e-03,\n",
       "       3.32874134e-02, 1.76414356e-01, 1.92129090e-02, 3.10037076e-01,\n",
       "       0.00000000e+00, 0.00000000e+00, 1.51131824e-01, 0.00000000e+00,\n",
       "       1.33523997e-03, 0.00000000e+00, 0.00000000e+00, 0.00000000e+00,\n",
       "       1.66450813e-02, 4.52548563e-01, 2.98304468e-01, 1.79479073e-03,\n",
       "       0.00000000e+00, 8.53067696e-01, 0.00000000e+00, 1.58115979e-02,\n",
       "       9.86037254e-02, 1.41837746e-01, 1.28389988e-02, 1.39069278e-04,\n",
       "       0.00000000e+00, 3.67464125e-01, 1.04360916e-01, 5.22718206e-03,\n",
       "       5.60466796e-02, 2.48871595e-01, 7.91405588e-02, 1.16752116e-02,\n",
       "       2.32264340e-01, 1.04749143e-01, 1.40642166e-01, 0.00000000e+00,\n",
       "       4.84407008e-01, 1.60112754e-01, 1.60850331e-01, 7.21600326e-03,\n",
       "       3.92431440e-03, 0.00000000e+00, 1.00774753e+00, 2.16272905e-01,\n",
       "       2.53494382e-01, 1.14069483e-03, 1.12686083e-01, 3.68243515e-01,\n",
       "       0.00000000e+00, 2.63106525e-01, 3.32727730e-01, 0.00000000e+00,\n",
       "       3.53626013e-01, 4.84717032e-03, 5.98610891e-03, 0.00000000e+00,\n",
       "       0.00000000e+00, 6.58841312e-01, 5.51291835e-03, 4.01114494e-01,\n",
       "       1.40078649e-01, 0.00000000e+00, 2.07474858e-01, 3.84374380e-01,\n",
       "       5.65295517e-01, 3.78814340e-02, 1.91508152e-03, 4.52045584e-04,\n",
       "       6.14065211e-05, 9.06786695e-03, 3.20433229e-01, 1.59470215e-01,\n",
       "       1.37752309e-01, 2.94842362e-01, 0.00000000e+00, 0.00000000e+00,\n",
       "       0.00000000e+00, 3.36288244e-01, 1.28707103e-02, 3.42397839e-01,\n",
       "       3.83853197e-01, 6.02356866e-02, 0.00000000e+00, 1.54379802e-03,\n",
       "       5.53345680e-02, 4.53745648e-02, 5.43210089e-01, 0.00000000e+00,\n",
       "       4.76914532e-02, 0.00000000e+00, 0.00000000e+00, 0.00000000e+00,\n",
       "       0.00000000e+00, 1.93895549e-02, 4.15641777e-02, 1.42449364e-01,\n",
       "       6.52800640e-03, 0.00000000e+00, 0.00000000e+00, 0.00000000e+00,\n",
       "       5.03854044e-02, 2.85418987e-01, 0.00000000e+00, 1.70264804e+00,\n",
       "       1.86892271e-01, 1.01830237e-01, 7.90052786e-02, 3.99381667e-01,\n",
       "       5.12511551e-01, 0.00000000e+00, 1.15347780e-01, 0.00000000e+00,\n",
       "       0.00000000e+00, 2.91714519e-01, 5.09432614e-01, 1.70563452e-03,\n",
       "       6.59748852e-01, 1.75164506e-01, 0.00000000e+00, 4.39680764e-04,\n",
       "       1.83520112e-02, 0.00000000e+00, 1.68779954e-01, 1.02561787e-01,\n",
       "       8.89290795e-02, 0.00000000e+00, 4.46873814e-01, 0.00000000e+00,\n",
       "       5.56323025e-03, 1.00734107e-01, 4.05846059e-01, 4.38197762e-01,\n",
       "       3.95999327e-02, 1.57969072e-01, 3.69136274e-01, 1.10714734e-02,\n",
       "       0.00000000e+00, 0.00000000e+00, 2.95114458e-01, 0.00000000e+00,\n",
       "       9.33117032e-01, 6.96425140e-02, 0.00000000e+00, 7.81497732e-03,\n",
       "       0.00000000e+00, 3.96978203e-03, 0.00000000e+00, 1.16725191e-01,\n",
       "       0.00000000e+00, 8.09381306e-02, 8.13468359e-05, 2.95333602e-02,\n",
       "       0.00000000e+00, 3.35510939e-01, 4.77999495e-03, 1.70131072e-01,\n",
       "       1.35581978e-02, 5.05097866e-01, 1.01857886e-01, 4.98238534e-01,\n",
       "       5.18692672e-01, 0.00000000e+00, 0.00000000e+00, 6.05254807e-03,\n",
       "       0.00000000e+00, 2.76674241e-01, 0.00000000e+00, 0.00000000e+00,\n",
       "       0.00000000e+00, 2.98627704e-01, 4.76896852e-01, 0.00000000e+00,\n",
       "       7.09862798e-05, 7.00336322e-02, 0.00000000e+00, 1.61547229e-01,\n",
       "       2.43893452e-03, 0.00000000e+00, 5.93262255e-01, 0.00000000e+00,\n",
       "       6.22295618e-01, 1.36227354e-01, 0.00000000e+00, 1.33893803e-01,\n",
       "       9.77782905e-02, 8.33986551e-02, 2.31794253e-01, 0.00000000e+00,\n",
       "       1.53939880e-04, 1.05150202e-02, 3.37207019e-01, 1.49711490e-01,\n",
       "       0.00000000e+00, 4.06178296e-01, 0.00000000e+00, 2.15424299e-02,\n",
       "       2.99388826e-01, 3.76814306e-02, 4.43382151e-02, 1.58973992e-01,\n",
       "       1.86435692e-02, 1.98322475e-01, 6.25860870e-01, 2.45070201e-03,\n",
       "       5.02615655e-03, 4.00137275e-01, 0.00000000e+00, 9.86501109e-05,\n",
       "       7.11249188e-02, 0.00000000e+00, 0.00000000e+00, 2.78453585e-02,\n",
       "       1.44832462e-01, 2.39674091e-01, 2.32386887e-01, 0.00000000e+00,\n",
       "       8.62872452e-02, 7.66759068e-02, 0.00000000e+00, 0.00000000e+00,\n",
       "       3.15130621e-01, 2.32293643e-03, 3.04370880e-01, 0.00000000e+00,\n",
       "       1.82739183e-01, 8.09605117e-04, 3.89194965e-01, 0.00000000e+00,\n",
       "       4.36648875e-01, 2.98637128e+00, 2.60435278e-04, 0.00000000e+00,\n",
       "       3.17806363e-01, 3.50471258e-01, 0.00000000e+00, 0.00000000e+00,\n",
       "       1.56383440e-01, 7.31336251e-02, 4.60881786e-03, 3.50421816e-01,\n",
       "       1.89887558e-03, 1.30565822e-01, 1.92823380e-01, 0.00000000e+00,\n",
       "       4.72523309e-02, 1.14379684e-04, 3.33836943e-01, 0.00000000e+00,\n",
       "       0.00000000e+00, 2.30621286e-02, 1.49209186e-01, 5.32326847e-02,\n",
       "       2.87152827e-01, 0.00000000e+00, 2.08237264e-02, 1.27254127e-04,\n",
       "       0.00000000e+00, 2.51709998e-01, 0.00000000e+00, 0.00000000e+00,\n",
       "       2.52505213e-01, 0.00000000e+00, 4.94138956e-01, 0.00000000e+00,\n",
       "       0.00000000e+00, 2.85520077e-01, 4.50889543e-02, 9.21235653e-04,\n",
       "       4.93882820e-02, 0.00000000e+00, 3.48617256e-01, 2.27718428e-01,\n",
       "       0.00000000e+00, 4.79787169e-03, 4.20164257e-01, 0.00000000e+00,\n",
       "       2.84481615e-01, 0.00000000e+00, 4.06303443e-02, 2.80387729e-01,\n",
       "       8.91687814e-03, 3.44890095e-02, 2.76377410e-01, 1.95965156e-01,\n",
       "       2.61470914e-01, 1.44255042e-01, 1.63772836e-01, 9.25149769e-02,\n",
       "       6.26599729e-01, 5.40941255e-04, 7.72296250e-01, 2.60645390e-01,\n",
       "       3.43846202e-01, 1.69442549e-01, 1.03001222e-01, 2.16019094e-01,\n",
       "       8.45100358e-03, 4.69157733e-02, 6.40380204e-01, 1.67118816e-03],\n",
       "      dtype=float32)"
      ]
     },
     "execution_count": 227,
     "metadata": {},
     "output_type": "execute_result"
    }
   ],
   "source": [
    "# For VGG16 only\n",
    "global_average_layer = tf.keras.layers.GlobalAveragePooling2D()\n",
    "feature_batch_average = global_average_layer(predictions)\n",
    "extracted_features = feature_batch_average.numpy()\n",
    "extracted_features[0]"
   ]
  },
  {
   "cell_type": "code",
   "execution_count": 228,
   "metadata": {
    "colab": {
     "base_uri": "https://localhost:8080/"
    },
    "id": "Pf1n0i2mdNlU",
    "outputId": "7c6e5b26-f6c5-49b3-9a4f-29c766ae1625"
   },
   "outputs": [
    {
     "data": {
      "text/plain": [
       "True"
      ]
     },
     "execution_count": 228,
     "metadata": {},
     "output_type": "execute_result"
    }
   ],
   "source": [
    "# For VGG16 only\n",
    "from math import isclose\n",
    "a=predictions[0][:,:,3].mean()\n",
    "b=extracted_features[0][3]\n",
    "isclose(a, b, rel_tol=1e-6)"
   ]
  },
  {
   "cell_type": "code",
   "execution_count": 229,
   "metadata": {},
   "outputs": [
    {
     "data": {
      "text/plain": [
       "(244, 512)"
      ]
     },
     "execution_count": 229,
     "metadata": {},
     "output_type": "execute_result"
    }
   ],
   "source": [
    "extracted_features.shape"
   ]
  },
  {
   "cell_type": "code",
   "execution_count": 230,
   "metadata": {
    "id": "ctN7LhzY9I3n"
   },
   "outputs": [
    {
     "data": {
      "text/plain": [
       "(244,)"
      ]
     },
     "execution_count": 230,
     "metadata": {},
     "output_type": "execute_result"
    }
   ],
   "source": [
    "# Make predictions\n",
    "predictions = loaded_model.predict(tmp_test_batches)\n",
    "# from (1121,1) to (1121,); ie.: ndim = 2 to ndim = 1\n",
    "predictions = predictions.reshape(-1)\n",
    "predictions.shape"
   ]
  },
  {
   "cell_type": "code",
   "execution_count": 231,
   "metadata": {
    "colab": {
     "base_uri": "https://localhost:8080/"
    },
    "id": "NkoSrJyh9jtR",
    "outputId": "273b61a1-0d04-43dc-f7df-4859f55b3f0e"
   },
   "outputs": [
    {
     "name": "stdout",
     "output_type": "stream",
     "text": [
      "Predictions saved to /hdd/data/radioterapia/ciolaplata/predictions/predicted_gamma_1611181203.validation.csv.\n"
     ]
    }
   ],
   "source": [
    "tmp_test_batches = test.map(lambda image, gamma, filename: (filename, gamma))\n",
    "lst = [(filename.numpy().decode('utf-8'), gamma.numpy()) for filename, gamma in tmp_test_batches]\n",
    "lst2 = [(e[0], e[1], p) for e, p in zip(lst, predictions)]\n",
    "\n",
    "# armar un pandas dataframe con el test set completo\n",
    "df = pd.DataFrame(lst2, columns=['filename', 'actual gamma', 'predicted gamma'])\n",
    "dir = os.path.join(ARG_DATASET_DIR, \"predictions\")\n",
    "predictions_file_path = '{}/predicted_gamma_{}.{}.csv'.format(dir, ARG_MODEL_NAME, ARG_PART)\n",
    "df.to_csv(predictions_file_path, index=False)\n",
    "print(f'Predictions saved to {predictions_file_path}.')"
   ]
  },
  {
   "cell_type": "code",
   "execution_count": 232,
   "metadata": {},
   "outputs": [],
   "source": [
    "def display_scatterplot(part, y, y_hat):\n",
    "    # mean average error\n",
    "    mae = mean_absolute_error(y, y_hat)\n",
    "    print('MAE on %s = %.3f' % (part, mae))\n",
    "\n",
    "    # correlación entre predichos y observados\n",
    "    corr = np.corrcoef(y, y_hat)[0,1]\n",
    "    print('Corr. actual vs predicted = %.3f' % corr)\n",
    "\n",
    "    r2score = r2_score(y, y_hat)\n",
    "    print('R^2 = %.3f' % r2score)\n",
    "    \n",
    "    # plot calculados vs. predichos (targets)\n",
    "    fig_dims = (8, 8)\n",
    "    fig, ax = plt.subplots(figsize=fig_dims)\n",
    "    plt.title('Actual vs. Predicted (%s)' % part)\n",
    "    plt.gca().set_aspect('equal')\n",
    "    sns.scatterplot(y, y_hat, marker='o', ax=ax)\n",
    "    ax.set(xlabel=\"Actual\", ylabel = \"Predicted\")\n",
    "    plt.figure(figsize=(15, 15))\n",
    "    minimum = int(np.min([y.min(), y_hat.min()]))\n",
    "    ax.set_xlim([minimum, 100])\n",
    "    ax.set_ylim([minimum, 100])\n",
    "    ax.plot([minimum, 100], [minimum, 100], ls=\"--\", c=\".7\")\n",
    "    plt.show()"
   ]
  },
  {
   "cell_type": "code",
   "execution_count": 233,
   "metadata": {},
   "outputs": [
    {
     "name": "stdout",
     "output_type": "stream",
     "text": [
      "MAE on validation = 1.212\n",
      "Corr. actual vs predicted = 0.500\n",
      "R^2 = 0.223\n"
     ]
    },
    {
     "data": {
      "image/png": "[encoded data removed]",
      "text/plain": [
       "<Figure size 576x576 with 1 Axes>"
      ]
     },
     "metadata": {
      "needs_background": "light"
     },
     "output_type": "display_data"
    },
    {
     "data": {
      "text/plain": [
       "<Figure size 1080x1080 with 0 Axes>"
      ]
     },
     "metadata": {},
     "output_type": "display_data"
    }
   ],
   "source": [
    "y = df['actual gamma']\n",
    "y_hat = df['predicted gamma']\n",
    "display_scatterplot(ARG_PART, y, y_hat)"
   ]
  },
  {
   "cell_type": "markdown",
   "metadata": {},
   "source": [
    "## Train an XGBoost model with extracted CNN features"
   ]
  },
  {
   "cell_type": "code",
   "execution_count": 234,
   "metadata": {},
   "outputs": [
    {
     "data": {
      "text/html": [
       "<div>\n",
       "<style scoped>\n",
       "    .dataframe tbody tr th:only-of-type {\n",
       "        vertical-align: middle;\n",
       "    }\n",
       "\n",
       "    .dataframe tbody tr th {\n",
       "        vertical-align: top;\n",
       "    }\n",
       "\n",
       "    .dataframe thead th {\n",
       "        text-align: right;\n",
       "    }\n",
       "</style>\n",
       "<table border=\"1\" class=\"dataframe\">\n",
       "  <thead>\n",
       "    <tr style=\"text-align: right;\">\n",
       "      <th></th>\n",
       "      <th>filename</th>\n",
       "      <th>actual gamma</th>\n",
       "      <th>predicted gamma</th>\n",
       "      <th>0</th>\n",
       "      <th>1</th>\n",
       "      <th>2</th>\n",
       "      <th>3</th>\n",
       "      <th>4</th>\n",
       "      <th>5</th>\n",
       "      <th>6</th>\n",
       "      <th>...</th>\n",
       "      <th>502</th>\n",
       "      <th>503</th>\n",
       "      <th>504</th>\n",
       "      <th>505</th>\n",
       "      <th>506</th>\n",
       "      <th>507</th>\n",
       "      <th>508</th>\n",
       "      <th>509</th>\n",
       "      <th>510</th>\n",
       "      <th>511</th>\n",
       "    </tr>\n",
       "  </thead>\n",
       "  <tbody>\n",
       "    <tr>\n",
       "      <th>0</th>\n",
       "      <td>/hdd/data/radioterapia/ciolaplata/2019/1.3.6.1...</td>\n",
       "      <td>94.971298</td>\n",
       "      <td>98.160515</td>\n",
       "      <td>0.188282</td>\n",
       "      <td>0.0</td>\n",
       "      <td>0.472093</td>\n",
       "      <td>0.193211</td>\n",
       "      <td>0.192909</td>\n",
       "      <td>0.0</td>\n",
       "      <td>0.000000</td>\n",
       "      <td>...</td>\n",
       "      <td>0.772296</td>\n",
       "      <td>0.260645</td>\n",
       "      <td>0.343846</td>\n",
       "      <td>0.169443</td>\n",
       "      <td>0.103001</td>\n",
       "      <td>0.216019</td>\n",
       "      <td>0.008451</td>\n",
       "      <td>0.046916</td>\n",
       "      <td>0.640380</td>\n",
       "      <td>0.001671</td>\n",
       "    </tr>\n",
       "    <tr>\n",
       "      <th>1</th>\n",
       "      <td>/hdd/data/radioterapia/ciolaplata/2019/1.3.6.1...</td>\n",
       "      <td>99.654182</td>\n",
       "      <td>99.648567</td>\n",
       "      <td>0.173830</td>\n",
       "      <td>0.0</td>\n",
       "      <td>0.485563</td>\n",
       "      <td>0.205866</td>\n",
       "      <td>0.197323</td>\n",
       "      <td>0.0</td>\n",
       "      <td>0.000000</td>\n",
       "      <td>...</td>\n",
       "      <td>0.777380</td>\n",
       "      <td>0.267690</td>\n",
       "      <td>0.331011</td>\n",
       "      <td>0.180557</td>\n",
       "      <td>0.085299</td>\n",
       "      <td>0.224983</td>\n",
       "      <td>0.000000</td>\n",
       "      <td>0.052339</td>\n",
       "      <td>0.641876</td>\n",
       "      <td>0.000457</td>\n",
       "    </tr>\n",
       "    <tr>\n",
       "      <th>2</th>\n",
       "      <td>/hdd/data/radioterapia/ciolaplata/2019/1.3.6.1...</td>\n",
       "      <td>95.114304</td>\n",
       "      <td>98.927109</td>\n",
       "      <td>0.168815</td>\n",
       "      <td>0.0</td>\n",
       "      <td>0.464255</td>\n",
       "      <td>0.213209</td>\n",
       "      <td>0.197604</td>\n",
       "      <td>0.0</td>\n",
       "      <td>0.000546</td>\n",
       "      <td>...</td>\n",
       "      <td>0.780857</td>\n",
       "      <td>0.264557</td>\n",
       "      <td>0.318286</td>\n",
       "      <td>0.176471</td>\n",
       "      <td>0.082935</td>\n",
       "      <td>0.220027</td>\n",
       "      <td>0.008618</td>\n",
       "      <td>0.042858</td>\n",
       "      <td>0.636962</td>\n",
       "      <td>0.001079</td>\n",
       "    </tr>\n",
       "    <tr>\n",
       "      <th>3</th>\n",
       "      <td>/hdd/data/radioterapia/ciolaplata/2019/1.3.6.1...</td>\n",
       "      <td>99.564850</td>\n",
       "      <td>99.463318</td>\n",
       "      <td>0.164420</td>\n",
       "      <td>0.0</td>\n",
       "      <td>0.475968</td>\n",
       "      <td>0.202276</td>\n",
       "      <td>0.194354</td>\n",
       "      <td>0.0</td>\n",
       "      <td>0.000000</td>\n",
       "      <td>...</td>\n",
       "      <td>0.781521</td>\n",
       "      <td>0.265057</td>\n",
       "      <td>0.332248</td>\n",
       "      <td>0.167891</td>\n",
       "      <td>0.080872</td>\n",
       "      <td>0.224488</td>\n",
       "      <td>0.000043</td>\n",
       "      <td>0.043115</td>\n",
       "      <td>0.639536</td>\n",
       "      <td>0.001982</td>\n",
       "    </tr>\n",
       "    <tr>\n",
       "      <th>4</th>\n",
       "      <td>/hdd/data/radioterapia/ciolaplata/2019/1.3.6.1...</td>\n",
       "      <td>99.814941</td>\n",
       "      <td>99.695999</td>\n",
       "      <td>0.170029</td>\n",
       "      <td>0.0</td>\n",
       "      <td>0.477014</td>\n",
       "      <td>0.208818</td>\n",
       "      <td>0.198810</td>\n",
       "      <td>0.0</td>\n",
       "      <td>0.000000</td>\n",
       "      <td>...</td>\n",
       "      <td>0.781630</td>\n",
       "      <td>0.265123</td>\n",
       "      <td>0.323269</td>\n",
       "      <td>0.181745</td>\n",
       "      <td>0.087322</td>\n",
       "      <td>0.225792</td>\n",
       "      <td>0.000047</td>\n",
       "      <td>0.041546</td>\n",
       "      <td>0.640906</td>\n",
       "      <td>0.000919</td>\n",
       "    </tr>\n",
       "  </tbody>\n",
       "</table>\n",
       "<p>5 rows × 515 columns</p>\n",
       "</div>"
      ],
      "text/plain": [
       "                                            filename  actual gamma  \\\n",
       "0  /hdd/data/radioterapia/ciolaplata/2019/1.3.6.1...     94.971298   \n",
       "1  /hdd/data/radioterapia/ciolaplata/2019/1.3.6.1...     99.654182   \n",
       "2  /hdd/data/radioterapia/ciolaplata/2019/1.3.6.1...     95.114304   \n",
       "3  /hdd/data/radioterapia/ciolaplata/2019/1.3.6.1...     99.564850   \n",
       "4  /hdd/data/radioterapia/ciolaplata/2019/1.3.6.1...     99.814941   \n",
       "\n",
       "   predicted gamma         0    1         2         3         4    5  \\\n",
       "0        98.160515  0.188282  0.0  0.472093  0.193211  0.192909  0.0   \n",
       "1        99.648567  0.173830  0.0  0.485563  0.205866  0.197323  0.0   \n",
       "2        98.927109  0.168815  0.0  0.464255  0.213209  0.197604  0.0   \n",
       "3        99.463318  0.164420  0.0  0.475968  0.202276  0.194354  0.0   \n",
       "4        99.695999  0.170029  0.0  0.477014  0.208818  0.198810  0.0   \n",
       "\n",
       "          6  ...       502       503       504       505       506       507  \\\n",
       "0  0.000000  ...  0.772296  0.260645  0.343846  0.169443  0.103001  0.216019   \n",
       "1  0.000000  ...  0.777380  0.267690  0.331011  0.180557  0.085299  0.224983   \n",
       "2  0.000546  ...  0.780857  0.264557  0.318286  0.176471  0.082935  0.220027   \n",
       "3  0.000000  ...  0.781521  0.265057  0.332248  0.167891  0.080872  0.224488   \n",
       "4  0.000000  ...  0.781630  0.265123  0.323269  0.181745  0.087322  0.225792   \n",
       "\n",
       "        508       509       510       511  \n",
       "0  0.008451  0.046916  0.640380  0.001671  \n",
       "1  0.000000  0.052339  0.641876  0.000457  \n",
       "2  0.008618  0.042858  0.636962  0.001079  \n",
       "3  0.000043  0.043115  0.639536  0.001982  \n",
       "4  0.000047  0.041546  0.640906  0.000919  \n",
       "\n",
       "[5 rows x 515 columns]"
      ]
     },
     "execution_count": 234,
     "metadata": {},
     "output_type": "execute_result"
    }
   ],
   "source": [
    "df_features = pd.DataFrame(extracted_features)\n",
    "df_result = pd.concat([df, df_features], axis=1)\n",
    "df_result.head()"
   ]
  },
  {
   "cell_type": "code",
   "execution_count": 235,
   "metadata": {
    "colab": {
     "base_uri": "https://localhost:8080/"
    },
    "id": "1Zey_ms0PZK4",
    "outputId": "7b3c22ef-63f8-4870-98e5-51433c849822"
   },
   "outputs": [],
   "source": [
    "if isGoogleColab():\n",
    "    drive.flush_and_unmount()\n",
    "    print('All changes made in this colab session should now be visible in Drive.')"
   ]
  }
 ],
 "metadata": {
  "colab": {
   "authorship_tag": "ABX9TyMaePLl3oKvEAm3QK+tIn4/",
   "collapsed_sections": [],
   "include_colab_link": true,
   "name": "tf2_evaluate",
   "provenance": [],
   "toc_visible": true
  },
  "kernelspec": {
   "display_name": "Python 3",
   "language": "python",
   "name": "python3"
  },
  "language_info": {
   "codemirror_mode": {
    "name": "ipython",
    "version": 3
   },
   "file_extension": ".py",
   "mimetype": "text/x-python",
   "name": "python",
   "nbconvert_exporter": "python",
   "pygments_lexer": "ipython3",
   "version": "3.7.5"
  }
 },
 "nbformat": 4,
 "nbformat_minor": 1
}
