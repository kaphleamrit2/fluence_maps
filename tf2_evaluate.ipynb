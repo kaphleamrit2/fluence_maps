{
 "cells": [
  {
   "cell_type": "markdown",
   "metadata": {
    "colab_type": "text",
    "id": "view-in-github"
   },
   "source": [
    "<a href=\"https://colab.research.google.com/github/pablojrios/fluence_maps/blob/master/tf2_evaluate.ipynb\" target=\"_parent\"><img src=\"https://colab.research.google.com/assets/colab-badge.svg\" alt=\"Open In Colab\"/></a>"
   ]
  },
  {
   "cell_type": "markdown",
   "metadata": {
    "id": "-n_PAVFGnZDx"
   },
   "source": [
    "# Compute predictions on a TF dataset using an stored .h5 model"
   ]
  },
  {
   "cell_type": "code",
   "execution_count": 1,
   "metadata": {
    "id": "Hs99643-LfGS"
   },
   "outputs": [],
   "source": [
    "def isGoogleColab():\n",
    "    # 'ipykernel.zmqshell' runs in our server\n",
    "    # 'google.colab._shell' runs in Google Colab\n",
    "    return get_ipython().__class__.__module__ == 'google.colab._shell'"
   ]
  },
  {
   "cell_type": "code",
   "execution_count": 2,
   "metadata": {
    "id": "4LvLPLr5n_yJ"
   },
   "outputs": [],
   "source": [
    "import numpy as np\n",
    "import tensorflow as tf\n",
    "import os\n",
    "import pandas as pd\n",
    "# Es indistinto usar las métricas de scikit learn o tensorflow\n",
    "# from sklearn.metrics import mean_absolute_error\n",
    "from tensorflow.keras.losses import mean_squared_error, mean_absolute_error\n",
    "from sklearn.metrics import r2_score\n",
    "import seaborn as sns\n",
    "from matplotlib import pyplot as plt"
   ]
  },
  {
   "cell_type": "code",
   "execution_count": 3,
   "metadata": {
    "colab": {
     "base_uri": "https://localhost:8080/"
    },
    "id": "LN_LGyd6pWeZ",
    "outputId": "218786ce-f4b4-4c01-bf56-f33a17201821"
   },
   "outputs": [
    {
     "name": "stdout",
     "output_type": "stream",
     "text": [
      "Tensorflow version = 2.2.0\n",
      "Executing eagerly = True\n"
     ]
    }
   ],
   "source": [
    "print('Tensorflow version = {}'.format(tf.__version__))\n",
    "print('Executing eagerly = {}'.format(tf.executing_eagerly()))"
   ]
  },
  {
   "cell_type": "code",
   "execution_count": 4,
   "metadata": {
    "colab": {
     "base_uri": "https://localhost:8080/"
    },
    "id": "A85nWqMEnKPB",
    "outputId": "583cd467-f184-42b9-de8f-73d7043db7f7"
   },
   "outputs": [],
   "source": [
    "#%cd /content/drive/My\\ Drive/Healthcare/Radioterapia/data/ciolaplata\n",
    "#!unrar x /content/drive/My\\ Drive/Healthcare/Radioterapia/Mapas\\ CIO\\ La\\ Plata/Mapas\\ Calculados/2019.rar\n",
    "#!ls -l 2015/*dcm | wc -l\n",
    "\n",
    "if isGoogleColab():\n",
    "    %cd -q '/content'\n",
    "    if os.path.exists('fluence_maps'):\n",
    "        !rm -fr fluence_maps\n",
    "\n",
    "    GIT_USERNAME = \"pablojrios\"\n",
    "    GIT_TOKEN = \"1d88a0b85d2b00a03796e4d8b7e5f7b249b12f9b\"\n",
    "    !git clone -s https://{GIT_TOKEN}@github.com/{GIT_USERNAME}/fluence_maps.git\n",
    "\n",
    "    from google.colab import drive\n",
    "    drive.mount('/content/drive')\n",
    "    \n",
    "    %cd -q '/content/fluence_maps'\n",
    "\n",
    "    !ls -l '/content/drive/My Drive/Healthcare/Radioterapia/data/ciolaplata/models'\n",
    "    \n",
    "    ARG_DATASET_DIR='/content/drive/My Drive/Healthcare/Radioterapia/data/ciolaplata'"
   ]
  },
  {
   "cell_type": "code",
   "execution_count": 5,
   "metadata": {
    "id": "krohuaX-Y6OZ"
   },
   "outputs": [],
   "source": [
    "from util.dataset import _tfrecord_dataset_type_from_folder, _parse_jpeg_image_function\n",
    "from util.preprocess import rescale_0_to_1"
   ]
  },
  {
   "cell_type": "code",
   "execution_count": 6,
   "metadata": {
    "id": "eWlKtT6Kpbsr"
   },
   "outputs": [],
   "source": [
    "#============================DEFINE YOUR ARGUMENTS==============================\n",
    "if not isGoogleColab():\n",
    "    # base data directory\n",
    "    ARG_DATASET_DIR='/hdd/data/radioterapia/ciolaplata'\n",
    "# folder under ARG_DATASET_DIR path.\n",
    "ARG_RANDOM_SEED=23456\n",
    "ARG_TFDATASET_FOLDER=f'tfds.2019.localnorm.DS10%.{ARG_RANDOM_SEED}.fold4'\n",
    "# ARG_MODEL_NAME = '1612063529' # VGG16 20 de enero 2021\n",
    "ARG_MODEL_NAME = f'1612225853.{ARG_RANDOM_SEED}' # ene-31 ResNet18 buen(sobre) ajuste en training.\n",
    "# ARG_MODEL_NAME = '1611181684' # ResNet 18 20 de enero 2021\n",
    "PART_TRAIN = 'train'\n",
    "PART_VALIDATION = 'validation'\n",
    "PART_TEST = 'test'\n",
    "PART_TO_USE = PART_VALIDATION\n",
    "BATCH_SIZE = 32 # mae puede variar según batch size.\n",
    "num_workers = 8\n",
    "ARG_TRANSFORM_GAMMA=False"
   ]
  },
  {
   "cell_type": "code",
   "execution_count": 7,
   "metadata": {
    "id": "K2-IdOEGqmU1"
   },
   "outputs": [],
   "source": [
    "def getMapDatasetForPartition(part):\n",
    "    tfdataset_dir = os.path.join(ARG_DATASET_DIR, ARG_TFDATASET_FOLDER)\n",
    "    raw_test = _tfrecord_dataset_type_from_folder(tfdataset_dir, part)\n",
    "    print(raw_test)\n",
    "\n",
    "    # Apply this function to each item in the dataset using the map method:\n",
    "    IMG_SIZE = 256\n",
    "    normalization_fn = rescale_0_to_1\n",
    "    test = raw_test.map(lambda e: _parse_jpeg_image_function(e, IMG_SIZE, normalization_fn, transform_gamma=ARG_TRANSFORM_GAMMA), num_parallel_calls=num_workers)\n",
    "    \n",
    "    gamma_values = test.map(lambda image, gamma, filename: gamma)\n",
    "    gamma_values = np.array(list(gamma_values.as_numpy_iterator()))\n",
    "    gamma_values[:20]\n",
    "    \n",
    "    return test"
   ]
  },
  {
   "cell_type": "code",
   "execution_count": 8,
   "metadata": {
    "colab": {
     "base_uri": "https://localhost:8080/"
    },
    "id": "DHBk0k2kLfGY",
    "outputId": "50dd327a-73c2-4e0e-a5f7-f5563dacf903"
   },
   "outputs": [
    {
     "name": "stdout",
     "output_type": "stream",
     "text": [
      "<TFRecordDatasetV2 shapes: (), types: tf.string>\n",
      "<ParallelMapDataset shapes: ((256, 256, 3), (), ()), types: (tf.float32, tf.float32, tf.string)>\n",
      "<BatchDataset shapes: ((None, 256, 256, 3), (None,), (None,)), types: (tf.float32, tf.float32, tf.string)>\n"
     ]
    }
   ],
   "source": [
    "map_dataset = getMapDatasetForPartition(PART_TO_USE)\n",
    "print(map_dataset)\n",
    "print(map_dataset.batch(BATCH_SIZE))"
   ]
  },
  {
   "cell_type": "code",
   "execution_count": 9,
   "metadata": {
    "id": "5TYrcou7LfGY"
   },
   "outputs": [],
   "source": [
    "def getBatchesForPartition(test, part):\n",
    "    test_batches = test.batch(BATCH_SIZE)\n",
    "    print(test_batches)\n",
    "\n",
    "    tmp_test_batches = test_batches.map(lambda image, gamma, filename: (image, gamma))\n",
    "    \n",
    "    return tmp_test_batches"
   ]
  },
  {
   "cell_type": "code",
   "execution_count": 10,
   "metadata": {
    "colab": {
     "base_uri": "https://localhost:8080/"
    },
    "id": "tjrt80mNr0a4",
    "outputId": "cefccb7e-3227-4bfc-92d2-1eef253c60a0"
   },
   "outputs": [
    {
     "name": "stdout",
     "output_type": "stream",
     "text": [
      "Loading model /hdd/data/radioterapia/ciolaplata/models/1612225853.23456.h5...\n"
     ]
    }
   ],
   "source": [
    "# load model\n",
    "dir = os.path.join(ARG_DATASET_DIR, \"models\")\n",
    "saved_model_dir = '{}/{}.h5'.format(dir, ARG_MODEL_NAME)\n",
    "print(f'Loading model {saved_model_dir}...')\n",
    "loaded_model = tf.keras.models.load_model(saved_model_dir)"
   ]
  },
  {
   "cell_type": "code",
   "execution_count": 11,
   "metadata": {
    "colab": {
     "base_uri": "https://localhost:8080/"
    },
    "id": "lkz2ZGMDRNgC",
    "outputId": "390e00f4-e211-442b-8cd0-c92bd0989fdc"
   },
   "outputs": [
    {
     "name": "stdout",
     "output_type": "stream",
     "text": [
      "Model: \"sequential\"\n",
      "_________________________________________________________________\n",
      "Layer (type)                 Output Shape              Param #   \n",
      "=================================================================\n",
      "vgg16 (Model)                (None, 8, 8, 512)         14714688  \n",
      "_________________________________________________________________\n",
      "global_average_pooling2d (Gl (None, 512)               0         \n",
      "_________________________________________________________________\n",
      "dense (Dense)                (None, 512)               262656    \n",
      "_________________________________________________________________\n",
      "dense_1 (Dense)              (None, 1)                 513       \n",
      "=================================================================\n",
      "Total params: 14,977,857\n",
      "Trainable params: 12,062,209\n",
      "Non-trainable params: 2,915,648\n",
      "_________________________________________________________________\n"
     ]
    }
   ],
   "source": [
    "loaded_model.summary()"
   ]
  },
  {
   "cell_type": "code",
   "execution_count": 12,
   "metadata": {
    "colab": {
     "base_uri": "https://localhost:8080/"
    },
    "id": "Vwz1adqOLfGZ",
    "outputId": "9378f009-8dda-40f5-8c1a-9d39bf80a948"
   },
   "outputs": [
    {
     "name": "stdout",
     "output_type": "stream",
     "text": [
      "<BatchDataset shapes: ((None, 256, 256, 3), (None,), (None,)), types: (tf.float32, tf.float32, tf.string)>\n",
      "<MapDataset shapes: ((None, 256, 256, 3), (None,)), types: (tf.float32, tf.float32)>\n"
     ]
    }
   ],
   "source": [
    "tmp_test_batches = getBatchesForPartition(map_dataset, PART_TO_USE)\n",
    "print(tmp_test_batches)"
   ]
  },
  {
   "cell_type": "code",
   "execution_count": 13,
   "metadata": {
    "id": "3dPKkwTVLfGa"
   },
   "outputs": [],
   "source": [
    "def evaluatePartition(tmp_batches, part):\n",
    "    # Evaluate dataset with the loaded model to calculate loss (mae) because\n",
    "    # metric value could differ from the one reported during training.\n",
    "    loss, mse = loaded_model.evaluate(tmp_batches, workers=num_workers, verbose=0)\n",
    "    print('Loaded model, {} loss: {:5.4f}'.format(part, loss))\n",
    "    print('Loaded model, {} mse: {:5.4f}\\n'.format(part, mse))"
   ]
  },
  {
   "cell_type": "code",
   "execution_count": 14,
   "metadata": {
    "id": "F8cecGLVLfGa"
   },
   "outputs": [
    {
     "name": "stdout",
     "output_type": "stream",
     "text": [
      "Loaded model, validation loss: 1.4586\n",
      "Loaded model, validation mse: 7.9719\n",
      "\n"
     ]
    }
   ],
   "source": [
    "evaluatePartition(tmp_test_batches, PART_TO_USE)"
   ]
  },
  {
   "cell_type": "code",
   "execution_count": 15,
   "metadata": {
    "id": "ctN7LhzY9I3n"
   },
   "outputs": [],
   "source": [
    "def getPredictionsDataframe(test, part):\n",
    "    tmp_batches = getBatchesForPartition(test, part)\n",
    "    # Make predictions\n",
    "    predictions = loaded_model.predict(tmp_batches)\n",
    "    # from (1121,1) to (1121,); ie.: ndim = 2 to ndim = 1\n",
    "    predictions = predictions.reshape(-1)\n",
    "    predictions.shape\n",
    "\n",
    "    tmp_test_dataset = test.map(lambda image, gamma, filename: (filename, gamma))\n",
    "    print(tmp_test_dataset)\n",
    "\n",
    "    lst = [(filename.numpy().decode('utf-8'), gamma.numpy()) for filename, gamma in tmp_test_dataset]\n",
    "    lst2 = [(e[0], e[1], p) for e, p in zip(lst, predictions)]\n",
    "\n",
    "    # armar un pandas dataframe con el test set completo\n",
    "    df = pd.DataFrame(lst2, columns=['filename', 'actual gamma', 'predicted gamma'])\n",
    "    dir = os.path.join(ARG_DATASET_DIR, \"predictions\")\n",
    "    predictions_file_path = '{}/predicted_gamma_{}.{}.csv'.format(dir, ARG_MODEL_NAME, part)\n",
    "    df.to_csv(predictions_file_path, index=False)\n",
    "    print(f'Predictions saved to {predictions_file_path}.\\n')\n",
    "    \n",
    "    return df"
   ]
  },
  {
   "cell_type": "code",
   "execution_count": 16,
   "metadata": {
    "colab": {
     "base_uri": "https://localhost:8080/"
    },
    "id": "fcsyytskLfGb",
    "outputId": "1a64cd07-391a-4588-c4f2-3ef04a166c0c"
   },
   "outputs": [
    {
     "name": "stdout",
     "output_type": "stream",
     "text": [
      "<BatchDataset shapes: ((None, 256, 256, 3), (None,), (None,)), types: (tf.float32, tf.float32, tf.string)>\n",
      "<MapDataset shapes: ((), ()), types: (tf.string, tf.float32)>\n",
      "Predictions saved to /hdd/data/radioterapia/ciolaplata/predictions/predicted_gamma_1612225853.23456.validation.csv.\n",
      "\n"
     ]
    }
   ],
   "source": [
    "df = getPredictionsDataframe(map_dataset, PART_TO_USE)"
   ]
  },
  {
   "cell_type": "code",
   "execution_count": 17,
   "metadata": {
    "id": "rc5oGykdLfGb"
   },
   "outputs": [],
   "source": [
    "def display_scatterplot(model_name, part, y, y_hat):\n",
    "    print('Model name = %s' % model_name)\n",
    "    print('size = %d' % len(y))\n",
    "\n",
    "    # mean average error\n",
    "    mae = mean_absolute_error(y, y_hat)\n",
    "    print('MAE on %s = %.3f' % (part, mae))\n",
    "\n",
    "    # mean square error\n",
    "    mse = mean_squared_error(y, y_hat)\n",
    "    print('MSE on %s = %.3f' % (part, mse))\n",
    "    \n",
    "    # correlación entre predichos y observados\n",
    "    corr = np.corrcoef(y, y_hat)[0,1]\n",
    "    print('Pearson correlation in %s = %.3f' % (part, corr))\n",
    "\n",
    "    r2score = r2_score(y, y_hat)\n",
    "    print('R-squared in %s = %.3f' % (part, r2score))\n",
    "    \n",
    "    # plot calculados vs. predichos (targets)\n",
    "    fig_dims = (8, 8)\n",
    "    fig, ax = plt.subplots(figsize=fig_dims)\n",
    "    plt.title('Actual vs. Predicted (%s)' % part)\n",
    "    plt.gca().set_aspect('equal')\n",
    "    sns.scatterplot(y, y_hat, marker='o', ax=ax)\n",
    "    ax.set(xlabel=\"Actual\", ylabel = \"Predicted\")\n",
    "    plt.figure(figsize=(15, 15))\n",
    "    minimum = int(np.min([y.min(), y_hat.min()]))\n",
    "    ax.set_xlim([minimum, 100])\n",
    "    ax.set_ylim([minimum, 100])\n",
    "    ax.plot([minimum, 100], [minimum, 100], ls=\"--\", c=\".7\")\n",
    "    ax.plot([minimum+3, 100], [minimum, 97], ls=\"--\", c=\".4\")\n",
    "    ax.plot([minimum, 97], [minimum+3, 100], ls=\"--\", c=\".4\")\n",
    "    plt.show()"
   ]
  },
  {
   "cell_type": "code",
   "execution_count": 18,
   "metadata": {
    "colab": {
     "base_uri": "https://localhost:8080/",
     "height": 660
    },
    "id": "e5envybQLfGc",
    "outputId": "e5f5259b-6e70-4eae-8e70-83733b1a9cac"
   },
   "outputs": [
    {
     "name": "stdout",
     "output_type": "stream",
     "text": [
      "Model name = 1612225853.23456\n",
      "size = 243\n",
      "MAE on validation = 1.459\n",
      "MSE on validation = 7.972\n",
      "Pearson correlation in validation = 0.695\n",
      "R-squared in validation = 0.466\n"
     ]
    },
    {
     "data": {
      "image/png": "[encoded data removed]",
      "text/plain": [
       "<Figure size 576x576 with 1 Axes>"
      ]
     },
     "metadata": {
      "needs_background": "light"
     },
     "output_type": "display_data"
    },
    {
     "data": {
      "text/plain": [
       "<Figure size 1080x1080 with 0 Axes>"
      ]
     },
     "metadata": {},
     "output_type": "display_data"
    }
   ],
   "source": [
    "y = df['actual gamma']\n",
    "y_hat = df['predicted gamma']\n",
    "display_scatterplot(ARG_MODEL_NAME,PART_TO_USE, y, y_hat)"
   ]
  },
  {
   "cell_type": "code",
   "execution_count": 19,
   "metadata": {
    "id": "1Zey_ms0PZK4"
   },
   "outputs": [],
   "source": [
    "if isGoogleColab():\n",
    "    drive.flush_and_unmount()\n",
    "    print('All changes made in this colab session should now be visible in Drive.')"
   ]
  }
 ],
 "metadata": {
  "colab": {
   "collapsed_sections": [],
   "include_colab_link": true,
   "name": "tf2_evaluate",
   "provenance": [],
   "toc_visible": true
  },
  "kernelspec": {
   "display_name": "Python 3",
   "language": "python",
   "name": "python3"
  },
  "language_info": {
   "codemirror_mode": {
    "name": "ipython",
    "version": 3
   },
   "file_extension": ".py",
   "mimetype": "text/x-python",
   "name": "python",
   "nbconvert_exporter": "python",
   "pygments_lexer": "ipython3",
   "version": "3.7.5"
  }
 },
 "nbformat": 4,
 "nbformat_minor": 1
}
