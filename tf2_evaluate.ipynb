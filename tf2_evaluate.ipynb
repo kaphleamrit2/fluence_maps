{
 "cells": [
  {
   "cell_type": "markdown",
   "metadata": {
    "colab_type": "text",
    "id": "view-in-github"
   },
   "source": [
    "<a href=\"https://colab.research.google.com/github/pablojrios/fluence_maps/blob/master/tf2_evaluate.ipynb\" target=\"_parent\"><img src=\"https://colab.research.google.com/assets/colab-badge.svg\" alt=\"Open In Colab\"/></a>"
   ]
  },
  {
   "cell_type": "markdown",
   "metadata": {
    "id": "-n_PAVFGnZDx"
   },
   "source": [
    "# Compute predictions on a TF dataset using an stored .h5 model"
   ]
  },
  {
   "cell_type": "code",
   "execution_count": 1,
   "metadata": {},
   "outputs": [],
   "source": [
    "def isGoogleColab():\n",
    "    # 'ipykernel.zmqshell' runs in our server\n",
    "    # 'google.colab._shell' runs in Google Colab\n",
    "    return get_ipython().__class__.__module__ == 'google.colab._shell'"
   ]
  },
  {
   "cell_type": "code",
   "execution_count": 2,
   "metadata": {
    "colab": {
     "base_uri": "https://localhost:8080/"
    },
    "id": "4LvLPLr5n_yJ",
    "outputId": "872726f3-d9e2-4ba2-c4b5-e24a02d0a42c"
   },
   "outputs": [],
   "source": [
    "import numpy as np\n",
    "import tensorflow as tf\n",
    "from util.dataset import _tfrecord_dataset_type_from_folder, _parse_jpeg_image_function\n",
    "from util.preprocess import rescale_0_to_1\n",
    "import os\n",
    "import pandas as pd\n",
    "# Es indistinto usar las métricas de scikit learn o tensorflow\n",
    "# from sklearn.metrics import mean_absolute_error\n",
    "from tensorflow.keras.losses import mean_squared_error, mean_absolute_error\n",
    "from sklearn.metrics import r2_score\n",
    "import seaborn as sns\n",
    "from matplotlib import pyplot as plt"
   ]
  },
  {
   "cell_type": "code",
   "execution_count": 3,
   "metadata": {
    "colab": {
     "base_uri": "https://localhost:8080/"
    },
    "id": "LN_LGyd6pWeZ",
    "outputId": "f525e56b-da96-4d0b-eb17-787017d03bb8"
   },
   "outputs": [
    {
     "name": "stdout",
     "output_type": "stream",
     "text": [
      "Tensorflow version = 2.2.0\n",
      "Executing eagerly = True\n"
     ]
    }
   ],
   "source": [
    "print('Tensorflow version = {}'.format(tf.__version__))\n",
    "print('Executing eagerly = {}'.format(tf.executing_eagerly()))"
   ]
  },
  {
   "cell_type": "code",
   "execution_count": 4,
   "metadata": {},
   "outputs": [
    {
     "name": "stdout",
     "output_type": "stream",
     "text": [
      "XGBoost version = 1.3.3\n"
     ]
    }
   ],
   "source": [
    "import xgboost as xgb\n",
    "print('XGBoost version = {}'.format(xgb.__version__))"
   ]
  },
  {
   "cell_type": "code",
   "execution_count": 5,
   "metadata": {
    "colab": {
     "base_uri": "https://localhost:8080/"
    },
    "id": "A85nWqMEnKPB",
    "outputId": "116644a2-c7c6-4760-ad23-1fb4efaea13a"
   },
   "outputs": [],
   "source": [
    "#%cd /content/drive/My\\ Drive/Healthcare/Radioterapia/data/ciolaplata\n",
    "#!unrar x /content/drive/My\\ Drive/Healthcare/Radioterapia/Mapas\\ CIO\\ La\\ Plata/Mapas\\ Calculados/2019.rar\n",
    "#!ls -l 2015/*dcm | wc -l\n",
    "\n",
    "if isGoogleColab():\n",
    "    %cd -q '/content'\n",
    "    if os.path.exists('fluence_maps'):\n",
    "        !rm -fr fluence_maps\n",
    "\n",
    "    GIT_USERNAME = \"pablojrios\"\n",
    "    GIT_TOKEN = \"1d88a0b85d2b00a03796e4d8b7e5f7b249b12f9b\"\n",
    "    !git clone -s https://{GIT_TOKEN}@github.com/{GIT_USERNAME}/fluence_maps.git\n",
    "\n",
    "    from google.colab import drive\n",
    "    drive.mount('/content/drive')\n",
    "    \n",
    "    !ls -l '/content/drive/My Drive/Healthcare/Radioterapia/data/ciolaplata/models'\n",
    "    \n",
    "    ARG_DATASET_DIR='/content/drive/My Drive/Healthcare/Radioterapia/data/ciolaplata'"
   ]
  },
  {
   "cell_type": "code",
   "execution_count": 6,
   "metadata": {
    "id": "eWlKtT6Kpbsr"
   },
   "outputs": [],
   "source": [
    "#============================DEFINE YOUR ARGUMENTS==============================\n",
    "if not isGoogleColab():\n",
    "    # base data directory\n",
    "    ARG_DATASET_DIR='/hdd/data/radioterapia/ciolaplata'\n",
    "# folder under ARG_DATASET_DIR path.\n",
    "ARG_TFDATASET_FOLDER='tfds-2019-localnorm-113355'\n",
    "ARG_MODEL_NAME = '1611181203' # VGG16 20 de enero 2021\n",
    "# ARG_MODEL_NAME = '1611181684' # ResNet 18 20 de enero 2021\n",
    "PART_TRAIN = 'train'\n",
    "PART_VALIDATION = 'validation'\n",
    "PART_TEST = 'test'\n",
    "BATCH_SIZE = 32 # mae puede variar según batch size.\n",
    "num_workers = 8\n",
    "ARG_TRANSFORM_GAMMA=False"
   ]
  },
  {
   "cell_type": "code",
   "execution_count": 7,
   "metadata": {
    "colab": {
     "base_uri": "https://localhost:8080/"
    },
    "id": "K2-IdOEGqmU1",
    "outputId": "1f387eec-0ad2-4018-93b1-e406bcc03265"
   },
   "outputs": [],
   "source": [
    "def getMapDatasetForPartition(part):\n",
    "    tfdataset_dir = os.path.join(ARG_DATASET_DIR, ARG_TFDATASET_FOLDER)\n",
    "    raw_test = _tfrecord_dataset_type_from_folder(tfdataset_dir, part)\n",
    "    print(raw_test)\n",
    "\n",
    "    # Apply this function to each item in the dataset using the map method:\n",
    "    IMG_SIZE = 256\n",
    "    normalization_fn = rescale_0_to_1\n",
    "    test = raw_test.map(lambda e: _parse_jpeg_image_function(e, IMG_SIZE, normalization_fn, transform_gamma=ARG_TRANSFORM_GAMMA), num_parallel_calls=num_workers)\n",
    "    \n",
    "    gamma_values = test.map(lambda image, gamma, filename: gamma)\n",
    "    gamma_values = np.array(list(gamma_values.as_numpy_iterator()))\n",
    "    gamma_values[:20]\n",
    "    \n",
    "    return test"
   ]
  },
  {
   "cell_type": "code",
   "execution_count": 8,
   "metadata": {},
   "outputs": [
    {
     "name": "stdout",
     "output_type": "stream",
     "text": [
      "<TFRecordDatasetV2 shapes: (), types: tf.string>\n",
      "<ParallelMapDataset shapes: ((256, 256, 3), (), ()), types: (tf.float32, tf.float32, tf.string)>\n",
      "<BatchDataset shapes: ((None, 256, 256, 3), (None,), (None,)), types: (tf.float32, tf.float32, tf.string)>\n"
     ]
    }
   ],
   "source": [
    "map_dataset = getMapDatasetForPartition(PART_TRAIN)\n",
    "print(map_dataset)\n",
    "print(map_dataset.batch(BATCH_SIZE))"
   ]
  },
  {
   "cell_type": "code",
   "execution_count": 9,
   "metadata": {},
   "outputs": [],
   "source": [
    "def getBatchesForPartition(test, part):\n",
    "    test_batches = test.batch(BATCH_SIZE)\n",
    "    print(test_batches)\n",
    "\n",
    "    tmp_test_batches = test_batches.map(lambda image, gamma, filename: (image, gamma))\n",
    "    \n",
    "    return tmp_test_batches"
   ]
  },
  {
   "cell_type": "code",
   "execution_count": 10,
   "metadata": {
    "colab": {
     "base_uri": "https://localhost:8080/"
    },
    "id": "tjrt80mNr0a4",
    "outputId": "224b33c2-df05-40d4-ddf7-fdd72f620f94"
   },
   "outputs": [
    {
     "name": "stdout",
     "output_type": "stream",
     "text": [
      "Loading model /hdd/data/radioterapia/ciolaplata/models/1611181203.h5...\n"
     ]
    }
   ],
   "source": [
    "# load model\n",
    "dir = os.path.join(ARG_DATASET_DIR, \"models\")\n",
    "saved_model_dir = '{}/{}.h5'.format(dir, ARG_MODEL_NAME)\n",
    "print(f'Loading model {saved_model_dir}...')\n",
    "loaded_model = tf.keras.models.load_model(saved_model_dir)"
   ]
  },
  {
   "cell_type": "code",
   "execution_count": 11,
   "metadata": {
    "colab": {
     "base_uri": "https://localhost:8080/"
    },
    "id": "lkz2ZGMDRNgC",
    "outputId": "bc0468f4-e282-4c88-a2bb-eebf86117d96"
   },
   "outputs": [
    {
     "name": "stdout",
     "output_type": "stream",
     "text": [
      "Model: \"sequential\"\n",
      "_________________________________________________________________\n",
      "Layer (type)                 Output Shape              Param #   \n",
      "=================================================================\n",
      "vgg16 (Model)                (None, 8, 8, 512)         14714688  \n",
      "_________________________________________________________________\n",
      "global_average_pooling2d (Gl (None, 512)               0         \n",
      "_________________________________________________________________\n",
      "dense (Dense)                (None, 512)               262656    \n",
      "_________________________________________________________________\n",
      "dense_1 (Dense)              (None, 1)                 513       \n",
      "=================================================================\n",
      "Total params: 14,977,857\n",
      "Trainable params: 12,062,209\n",
      "Non-trainable params: 2,915,648\n",
      "_________________________________________________________________\n"
     ]
    }
   ],
   "source": [
    "loaded_model.summary()"
   ]
  },
  {
   "cell_type": "code",
   "execution_count": 12,
   "metadata": {},
   "outputs": [
    {
     "name": "stdout",
     "output_type": "stream",
     "text": [
      "<BatchDataset shapes: ((None, 256, 256, 3), (None,), (None,)), types: (tf.float32, tf.float32, tf.string)>\n",
      "<MapDataset shapes: ((None, 256, 256, 3), (None,)), types: (tf.float32, tf.float32)>\n"
     ]
    }
   ],
   "source": [
    "tmp_test_batches = getBatchesForPartition(map_dataset, PART_TRAIN)\n",
    "print(tmp_test_batches)"
   ]
  },
  {
   "cell_type": "code",
   "execution_count": 13,
   "metadata": {},
   "outputs": [],
   "source": [
    "def evaluatePartition(tmp_batches, part):\n",
    "    # Evaluate dataset with the loaded model to calculate loss (mae) because\n",
    "    # metric value could differ from the one reported during training.\n",
    "    loss, mse = loaded_model.evaluate(tmp_batches, workers=num_workers, verbose=0)\n",
    "    print('Loaded model, {} loss: {:5.4f}'.format(part, loss))\n",
    "    print('Loaded model, {} mse: {:5.4f}\\n'.format(part, mse))"
   ]
  },
  {
   "cell_type": "code",
   "execution_count": 14,
   "metadata": {},
   "outputs": [
    {
     "name": "stdout",
     "output_type": "stream",
     "text": [
      "Loaded model, train loss: 0.2613\n",
      "Loaded model, train mse: 0.4580\n",
      "\n"
     ]
    }
   ],
   "source": [
    "evaluatePartition(tmp_test_batches, PART_TRAIN)"
   ]
  },
  {
   "cell_type": "code",
   "execution_count": 15,
   "metadata": {
    "id": "ctN7LhzY9I3n"
   },
   "outputs": [],
   "source": [
    "def getPredictionsDataframe(test, part):\n",
    "    tmp_batches = getBatchesForPartition(test, part)\n",
    "    # Make predictions\n",
    "    predictions = loaded_model.predict(tmp_batches)\n",
    "    # from (1121,1) to (1121,); ie.: ndim = 2 to ndim = 1\n",
    "    predictions = predictions.reshape(-1)\n",
    "    predictions.shape\n",
    "\n",
    "    tmp_test_dataset = test.map(lambda image, gamma, filename: (filename, gamma))\n",
    "    print(tmp_test_dataset)\n",
    "\n",
    "    lst = [(filename.numpy().decode('utf-8'), gamma.numpy()) for filename, gamma in tmp_test_dataset]\n",
    "    lst2 = [(e[0], e[1], p) for e, p in zip(lst, predictions)]\n",
    "\n",
    "    # armar un pandas dataframe con el test set completo\n",
    "    df = pd.DataFrame(lst2, columns=['filename', 'actual gamma', 'predicted gamma'])\n",
    "    dir = os.path.join(ARG_DATASET_DIR, \"predictions\")\n",
    "    predictions_file_path = '{}/predicted_gamma_{}.{}.csv'.format(dir, ARG_MODEL_NAME, part)\n",
    "    df.to_csv(predictions_file_path, index=False)\n",
    "    print(f'Predictions saved to {predictions_file_path}.\\n')\n",
    "    \n",
    "    return df"
   ]
  },
  {
   "cell_type": "code",
   "execution_count": 16,
   "metadata": {},
   "outputs": [
    {
     "name": "stdout",
     "output_type": "stream",
     "text": [
      "<BatchDataset shapes: ((None, 256, 256, 3), (None,), (None,)), types: (tf.float32, tf.float32, tf.string)>\n",
      "<MapDataset shapes: ((), ()), types: (tf.string, tf.float32)>\n",
      "Predictions saved to /hdd/data/radioterapia/ciolaplata/predictions/predicted_gamma_1611181203.train.csv.\n",
      "\n"
     ]
    }
   ],
   "source": [
    "df = getPredictionsDataframe(map_dataset, PART_TRAIN)"
   ]
  },
  {
   "cell_type": "code",
   "execution_count": 17,
   "metadata": {},
   "outputs": [],
   "source": [
    "def display_scatterplot(part, y, y_hat):\n",
    "    # mean average error\n",
    "    mae = mean_absolute_error(y, y_hat)\n",
    "    print('MAE on %s = %.3f' % (part, mae))\n",
    "\n",
    "    # correlación entre predichos y observados\n",
    "    corr = np.corrcoef(y, y_hat)[0,1]\n",
    "    print('Corr. actual vs predicted = %.3f' % corr)\n",
    "\n",
    "    r2score = r2_score(y, y_hat)\n",
    "    print('R^2 = %.3f' % r2score)\n",
    "    \n",
    "    # plot calculados vs. predichos (targets)\n",
    "    fig_dims = (8, 8)\n",
    "    fig, ax = plt.subplots(figsize=fig_dims)\n",
    "    plt.title('Actual vs. Predicted (%s)' % part)\n",
    "    plt.gca().set_aspect('equal')\n",
    "    sns.scatterplot(y, y_hat, marker='o', ax=ax)\n",
    "    ax.set(xlabel=\"Actual\", ylabel = \"Predicted\")\n",
    "    plt.figure(figsize=(15, 15))\n",
    "    minimum = int(np.min([y.min(), y_hat.min()]))\n",
    "    ax.set_xlim([minimum, 100])\n",
    "    ax.set_ylim([minimum, 100])\n",
    "    ax.plot([minimum, 100], [minimum, 100], ls=\"--\", c=\".7\")\n",
    "    plt.show()"
   ]
  },
  {
   "cell_type": "code",
   "execution_count": 18,
   "metadata": {},
   "outputs": [
    {
     "name": "stdout",
     "output_type": "stream",
     "text": [
      "MAE on train = 0.261\n",
      "Corr. actual vs predicted = 0.978\n",
      "R^2 = 0.956\n"
     ]
    },
    {
     "data": {
      "image/png": "[encoded data removed]",
      "text/plain": [
       "<Figure size 576x576 with 1 Axes>"
      ]
     },
     "metadata": {
      "needs_background": "light"
     },
     "output_type": "display_data"
    },
    {
     "data": {
      "text/plain": [
       "<Figure size 1080x1080 with 0 Axes>"
      ]
     },
     "metadata": {},
     "output_type": "display_data"
    }
   ],
   "source": [
    "y = df['actual gamma']\n",
    "y_hat = df['predicted gamma']\n",
    "display_scatterplot(PART_TRAIN, y, y_hat)"
   ]
  },
  {
   "cell_type": "markdown",
   "metadata": {},
   "source": [
    "## Train an XGBoost model with extracted CNN features"
   ]
  },
  {
   "cell_type": "code",
   "execution_count": 19,
   "metadata": {
    "colab": {
     "base_uri": "https://localhost:8080/"
    },
    "id": "NwsDXo2sUvT_",
    "outputId": "8515861d-a971-41b2-f76c-2b2834dd898b"
   },
   "outputs": [],
   "source": [
    "# For VGG16 only\n",
    "def extractFeatures(test, part):\n",
    "    tmp_test_batches = getBatchesForPartition(test, part)\n",
    "    print(tmp_test_batches)\n",
    "\n",
    "    inputs=loaded_model.get_layer(\"vgg16\").input\n",
    "    outputs=loaded_model.get_layer(\"vgg16\").output\n",
    "    cnn_part=tf.keras.models.Model(inputs, outputs)\n",
    "    predictions = cnn_part.predict(tmp_test_batches)\n",
    "\n",
    "    predictions[0][:,:,3].mean()\n",
    "\n",
    "    global_average_layer = tf.keras.layers.GlobalAveragePooling2D()\n",
    "    feature_batch_average = global_average_layer(predictions)\n",
    "    extracted_features = feature_batch_average.numpy()\n",
    "\n",
    "    from math import isclose\n",
    "    a=predictions[0][:,:,3].mean()\n",
    "    b=extracted_features[0][3]\n",
    "    isclose(a, b, rel_tol=1e-6)\n",
    "\n",
    "    return extracted_features"
   ]
  },
  {
   "cell_type": "code",
   "execution_count": 20,
   "metadata": {},
   "outputs": [
    {
     "name": "stdout",
     "output_type": "stream",
     "text": [
      "<BatchDataset shapes: ((None, 256, 256, 3), (None,), (None,)), types: (tf.float32, tf.float32, tf.string)>\n",
      "<MapDataset shapes: ((None, 256, 256, 3), (None,)), types: (tf.float32, tf.float32)>\n"
     ]
    },
    {
     "data": {
      "text/plain": [
       "(978, 512)"
      ]
     },
     "execution_count": 20,
     "metadata": {},
     "output_type": "execute_result"
    }
   ],
   "source": [
    "extracted_features = extractFeatures(map_dataset, PART_TRAIN)\n",
    "extracted_features.shape"
   ]
  },
  {
   "cell_type": "code",
   "execution_count": 21,
   "metadata": {},
   "outputs": [],
   "source": [
    "df_features = pd.DataFrame(extracted_features)\n",
    "df_result = pd.concat([df, df_features], axis=1)"
   ]
  },
  {
   "cell_type": "code",
   "execution_count": 22,
   "metadata": {},
   "outputs": [
    {
     "name": "stdout",
     "output_type": "stream",
     "text": [
      "<TFRecordDatasetV2 shapes: (), types: tf.string>\n",
      "<BatchDataset shapes: ((None, 256, 256, 3), (None,), (None,)), types: (tf.float32, tf.float32, tf.string)>\n",
      "Loaded model, validation loss: 1.2123\n",
      "Loaded model, validation mse: 7.1444\n",
      "\n",
      "<BatchDataset shapes: ((None, 256, 256, 3), (None,), (None,)), types: (tf.float32, tf.float32, tf.string)>\n",
      "<MapDataset shapes: ((), ()), types: (tf.string, tf.float32)>\n",
      "Predictions saved to /hdd/data/radioterapia/ciolaplata/predictions/predicted_gamma_1611181203.validation.csv.\n",
      "\n",
      "MAE on validation = 1.212\n",
      "Corr. actual vs predicted = 0.500\n",
      "R^2 = 0.223\n"
     ]
    },
    {
     "data": {
      "image/png": "[encoded data removed]",
      "text/plain": [
       "<Figure size 576x576 with 1 Axes>"
      ]
     },
     "metadata": {
      "needs_background": "light"
     },
     "output_type": "display_data"
    },
    {
     "data": {
      "text/plain": [
       "<Figure size 1080x1080 with 0 Axes>"
      ]
     },
     "metadata": {},
     "output_type": "display_data"
    },
    {
     "name": "stdout",
     "output_type": "stream",
     "text": [
      "<BatchDataset shapes: ((None, 256, 256, 3), (None,), (None,)), types: (tf.float32, tf.float32, tf.string)>\n",
      "<MapDataset shapes: ((None, 256, 256, 3), (None,)), types: (tf.float32, tf.float32)>\n"
     ]
    }
   ],
   "source": [
    "part = PART_VALIDATION\n",
    "map_dataset = getMapDatasetForPartition(part)\n",
    "tmp_test_batches = getBatchesForPartition(map_dataset, part)\n",
    "evaluatePartition(tmp_test_batches, part)\n",
    "df_validation = getPredictionsDataframe(map_dataset, part)\n",
    "y = df_validation['actual gamma']\n",
    "y_hat = df_validation['predicted gamma']\n",
    "display_scatterplot(PART_VALIDATION, y, y_hat)\n",
    "extracted_features = extractFeatures(map_dataset, part)\n",
    "df_validation_features = pd.DataFrame(extracted_features)\n",
    "df_validation_result = pd.concat([df_validation, df_validation_features], axis=1)"
   ]
  },
  {
   "cell_type": "code",
   "execution_count": 23,
   "metadata": {},
   "outputs": [
    {
     "data": {
      "text/html": [
       "<div>\n",
       "<style scoped>\n",
       "    .dataframe tbody tr th:only-of-type {\n",
       "        vertical-align: middle;\n",
       "    }\n",
       "\n",
       "    .dataframe tbody tr th {\n",
       "        vertical-align: top;\n",
       "    }\n",
       "\n",
       "    .dataframe thead th {\n",
       "        text-align: right;\n",
       "    }\n",
       "</style>\n",
       "<table border=\"1\" class=\"dataframe\">\n",
       "  <thead>\n",
       "    <tr style=\"text-align: right;\">\n",
       "      <th></th>\n",
       "      <th>filename</th>\n",
       "      <th>actual gamma</th>\n",
       "      <th>predicted gamma</th>\n",
       "      <th>0</th>\n",
       "      <th>1</th>\n",
       "      <th>2</th>\n",
       "      <th>3</th>\n",
       "      <th>4</th>\n",
       "      <th>5</th>\n",
       "      <th>6</th>\n",
       "      <th>...</th>\n",
       "      <th>502</th>\n",
       "      <th>503</th>\n",
       "      <th>504</th>\n",
       "      <th>505</th>\n",
       "      <th>506</th>\n",
       "      <th>507</th>\n",
       "      <th>508</th>\n",
       "      <th>509</th>\n",
       "      <th>510</th>\n",
       "      <th>511</th>\n",
       "    </tr>\n",
       "  </thead>\n",
       "  <tbody>\n",
       "    <tr>\n",
       "      <th>0</th>\n",
       "      <td>/hdd/data/radioterapia/ciolaplata/2019/1.3.6.1...</td>\n",
       "      <td>99.776237</td>\n",
       "      <td>99.769829</td>\n",
       "      <td>0.167953</td>\n",
       "      <td>0.00000</td>\n",
       "      <td>0.472464</td>\n",
       "      <td>0.207135</td>\n",
       "      <td>0.194559</td>\n",
       "      <td>0.0</td>\n",
       "      <td>0.000000</td>\n",
       "      <td>...</td>\n",
       "      <td>0.781022</td>\n",
       "      <td>0.266765</td>\n",
       "      <td>0.328887</td>\n",
       "      <td>0.175580</td>\n",
       "      <td>0.082834</td>\n",
       "      <td>0.221993</td>\n",
       "      <td>0.000000</td>\n",
       "      <td>0.045918</td>\n",
       "      <td>0.640745</td>\n",
       "      <td>0.001586</td>\n",
       "    </tr>\n",
       "    <tr>\n",
       "      <th>1</th>\n",
       "      <td>/hdd/data/radioterapia/ciolaplata/2019/1.3.6.1...</td>\n",
       "      <td>99.947762</td>\n",
       "      <td>99.828178</td>\n",
       "      <td>0.166857</td>\n",
       "      <td>0.00000</td>\n",
       "      <td>0.482113</td>\n",
       "      <td>0.206925</td>\n",
       "      <td>0.194286</td>\n",
       "      <td>0.0</td>\n",
       "      <td>0.000000</td>\n",
       "      <td>...</td>\n",
       "      <td>0.776045</td>\n",
       "      <td>0.268796</td>\n",
       "      <td>0.332356</td>\n",
       "      <td>0.175287</td>\n",
       "      <td>0.085085</td>\n",
       "      <td>0.225770</td>\n",
       "      <td>0.000000</td>\n",
       "      <td>0.047755</td>\n",
       "      <td>0.645498</td>\n",
       "      <td>0.000772</td>\n",
       "    </tr>\n",
       "    <tr>\n",
       "      <th>2</th>\n",
       "      <td>/hdd/data/radioterapia/ciolaplata/2019/1.3.6.1...</td>\n",
       "      <td>99.612183</td>\n",
       "      <td>99.707314</td>\n",
       "      <td>0.172737</td>\n",
       "      <td>0.00000</td>\n",
       "      <td>0.473742</td>\n",
       "      <td>0.210703</td>\n",
       "      <td>0.202165</td>\n",
       "      <td>0.0</td>\n",
       "      <td>0.000000</td>\n",
       "      <td>...</td>\n",
       "      <td>0.780489</td>\n",
       "      <td>0.268685</td>\n",
       "      <td>0.319673</td>\n",
       "      <td>0.177759</td>\n",
       "      <td>0.086095</td>\n",
       "      <td>0.225666</td>\n",
       "      <td>0.000000</td>\n",
       "      <td>0.044334</td>\n",
       "      <td>0.641085</td>\n",
       "      <td>0.001590</td>\n",
       "    </tr>\n",
       "    <tr>\n",
       "      <th>3</th>\n",
       "      <td>/hdd/data/radioterapia/ciolaplata/2019/1.3.6.1...</td>\n",
       "      <td>98.194702</td>\n",
       "      <td>97.942841</td>\n",
       "      <td>0.171140</td>\n",
       "      <td>0.00000</td>\n",
       "      <td>0.458313</td>\n",
       "      <td>0.209467</td>\n",
       "      <td>0.194372</td>\n",
       "      <td>0.0</td>\n",
       "      <td>0.000048</td>\n",
       "      <td>...</td>\n",
       "      <td>0.777900</td>\n",
       "      <td>0.264080</td>\n",
       "      <td>0.328955</td>\n",
       "      <td>0.176765</td>\n",
       "      <td>0.088671</td>\n",
       "      <td>0.221336</td>\n",
       "      <td>0.009857</td>\n",
       "      <td>0.052366</td>\n",
       "      <td>0.637576</td>\n",
       "      <td>0.001796</td>\n",
       "    </tr>\n",
       "    <tr>\n",
       "      <th>4</th>\n",
       "      <td>/hdd/data/radioterapia/ciolaplata/2019/1.3.6.1...</td>\n",
       "      <td>99.692238</td>\n",
       "      <td>99.691917</td>\n",
       "      <td>0.170809</td>\n",
       "      <td>0.00000</td>\n",
       "      <td>0.473581</td>\n",
       "      <td>0.206685</td>\n",
       "      <td>0.204126</td>\n",
       "      <td>0.0</td>\n",
       "      <td>0.000000</td>\n",
       "      <td>...</td>\n",
       "      <td>0.779048</td>\n",
       "      <td>0.267694</td>\n",
       "      <td>0.319197</td>\n",
       "      <td>0.179508</td>\n",
       "      <td>0.086165</td>\n",
       "      <td>0.226105</td>\n",
       "      <td>0.000000</td>\n",
       "      <td>0.042667</td>\n",
       "      <td>0.642312</td>\n",
       "      <td>0.000899</td>\n",
       "    </tr>\n",
       "    <tr>\n",
       "      <th>...</th>\n",
       "      <td>...</td>\n",
       "      <td>...</td>\n",
       "      <td>...</td>\n",
       "      <td>...</td>\n",
       "      <td>...</td>\n",
       "      <td>...</td>\n",
       "      <td>...</td>\n",
       "      <td>...</td>\n",
       "      <td>...</td>\n",
       "      <td>...</td>\n",
       "      <td>...</td>\n",
       "      <td>...</td>\n",
       "      <td>...</td>\n",
       "      <td>...</td>\n",
       "      <td>...</td>\n",
       "      <td>...</td>\n",
       "      <td>...</td>\n",
       "      <td>...</td>\n",
       "      <td>...</td>\n",
       "      <td>...</td>\n",
       "      <td>...</td>\n",
       "    </tr>\n",
       "    <tr>\n",
       "      <th>973</th>\n",
       "      <td>/hdd/data/radioterapia/ciolaplata/2019/1.3.6.1...</td>\n",
       "      <td>98.254997</td>\n",
       "      <td>98.256744</td>\n",
       "      <td>0.166426</td>\n",
       "      <td>0.00000</td>\n",
       "      <td>0.460002</td>\n",
       "      <td>0.203006</td>\n",
       "      <td>0.189938</td>\n",
       "      <td>0.0</td>\n",
       "      <td>0.000000</td>\n",
       "      <td>...</td>\n",
       "      <td>0.777401</td>\n",
       "      <td>0.257767</td>\n",
       "      <td>0.319825</td>\n",
       "      <td>0.164615</td>\n",
       "      <td>0.080748</td>\n",
       "      <td>0.213484</td>\n",
       "      <td>0.000561</td>\n",
       "      <td>0.037137</td>\n",
       "      <td>0.632455</td>\n",
       "      <td>0.001263</td>\n",
       "    </tr>\n",
       "    <tr>\n",
       "      <th>974</th>\n",
       "      <td>/hdd/data/radioterapia/ciolaplata/2019/1.3.6.1...</td>\n",
       "      <td>97.714996</td>\n",
       "      <td>98.275444</td>\n",
       "      <td>0.179404</td>\n",
       "      <td>0.00000</td>\n",
       "      <td>0.471701</td>\n",
       "      <td>0.202353</td>\n",
       "      <td>0.186232</td>\n",
       "      <td>0.0</td>\n",
       "      <td>0.000000</td>\n",
       "      <td>...</td>\n",
       "      <td>0.776940</td>\n",
       "      <td>0.262492</td>\n",
       "      <td>0.345467</td>\n",
       "      <td>0.173744</td>\n",
       "      <td>0.083056</td>\n",
       "      <td>0.222648</td>\n",
       "      <td>0.006560</td>\n",
       "      <td>0.049686</td>\n",
       "      <td>0.637785</td>\n",
       "      <td>0.000473</td>\n",
       "    </tr>\n",
       "    <tr>\n",
       "      <th>975</th>\n",
       "      <td>/hdd/data/radioterapia/ciolaplata/2019/1.3.6.1...</td>\n",
       "      <td>88.659798</td>\n",
       "      <td>90.745857</td>\n",
       "      <td>0.193731</td>\n",
       "      <td>0.09067</td>\n",
       "      <td>0.444133</td>\n",
       "      <td>0.188686</td>\n",
       "      <td>0.181306</td>\n",
       "      <td>0.0</td>\n",
       "      <td>0.000000</td>\n",
       "      <td>...</td>\n",
       "      <td>0.746853</td>\n",
       "      <td>0.248321</td>\n",
       "      <td>0.308296</td>\n",
       "      <td>0.153712</td>\n",
       "      <td>0.075136</td>\n",
       "      <td>0.205200</td>\n",
       "      <td>0.043957</td>\n",
       "      <td>0.089068</td>\n",
       "      <td>0.615948</td>\n",
       "      <td>0.000819</td>\n",
       "    </tr>\n",
       "    <tr>\n",
       "      <th>976</th>\n",
       "      <td>/hdd/data/radioterapia/ciolaplata/2019/1.3.6.1...</td>\n",
       "      <td>98.728401</td>\n",
       "      <td>98.672508</td>\n",
       "      <td>0.162095</td>\n",
       "      <td>0.00000</td>\n",
       "      <td>0.465533</td>\n",
       "      <td>0.194995</td>\n",
       "      <td>0.184998</td>\n",
       "      <td>0.0</td>\n",
       "      <td>0.000000</td>\n",
       "      <td>...</td>\n",
       "      <td>0.771724</td>\n",
       "      <td>0.260101</td>\n",
       "      <td>0.330756</td>\n",
       "      <td>0.162889</td>\n",
       "      <td>0.076203</td>\n",
       "      <td>0.217285</td>\n",
       "      <td>0.000000</td>\n",
       "      <td>0.039516</td>\n",
       "      <td>0.636183</td>\n",
       "      <td>0.002577</td>\n",
       "    </tr>\n",
       "    <tr>\n",
       "      <th>977</th>\n",
       "      <td>/hdd/data/radioterapia/ciolaplata/2019/1.3.6.1...</td>\n",
       "      <td>98.546799</td>\n",
       "      <td>98.945160</td>\n",
       "      <td>0.170005</td>\n",
       "      <td>0.00000</td>\n",
       "      <td>0.467891</td>\n",
       "      <td>0.201393</td>\n",
       "      <td>0.195621</td>\n",
       "      <td>0.0</td>\n",
       "      <td>0.000000</td>\n",
       "      <td>...</td>\n",
       "      <td>0.782081</td>\n",
       "      <td>0.264338</td>\n",
       "      <td>0.329527</td>\n",
       "      <td>0.169612</td>\n",
       "      <td>0.084019</td>\n",
       "      <td>0.222623</td>\n",
       "      <td>0.002410</td>\n",
       "      <td>0.042064</td>\n",
       "      <td>0.640184</td>\n",
       "      <td>0.002480</td>\n",
       "    </tr>\n",
       "  </tbody>\n",
       "</table>\n",
       "<p>978 rows × 515 columns</p>\n",
       "</div>"
      ],
      "text/plain": [
       "                                              filename  actual gamma  \\\n",
       "0    /hdd/data/radioterapia/ciolaplata/2019/1.3.6.1...     99.776237   \n",
       "1    /hdd/data/radioterapia/ciolaplata/2019/1.3.6.1...     99.947762   \n",
       "2    /hdd/data/radioterapia/ciolaplata/2019/1.3.6.1...     99.612183   \n",
       "3    /hdd/data/radioterapia/ciolaplata/2019/1.3.6.1...     98.194702   \n",
       "4    /hdd/data/radioterapia/ciolaplata/2019/1.3.6.1...     99.692238   \n",
       "..                                                 ...           ...   \n",
       "973  /hdd/data/radioterapia/ciolaplata/2019/1.3.6.1...     98.254997   \n",
       "974  /hdd/data/radioterapia/ciolaplata/2019/1.3.6.1...     97.714996   \n",
       "975  /hdd/data/radioterapia/ciolaplata/2019/1.3.6.1...     88.659798   \n",
       "976  /hdd/data/radioterapia/ciolaplata/2019/1.3.6.1...     98.728401   \n",
       "977  /hdd/data/radioterapia/ciolaplata/2019/1.3.6.1...     98.546799   \n",
       "\n",
       "     predicted gamma         0        1         2         3         4    5  \\\n",
       "0          99.769829  0.167953  0.00000  0.472464  0.207135  0.194559  0.0   \n",
       "1          99.828178  0.166857  0.00000  0.482113  0.206925  0.194286  0.0   \n",
       "2          99.707314  0.172737  0.00000  0.473742  0.210703  0.202165  0.0   \n",
       "3          97.942841  0.171140  0.00000  0.458313  0.209467  0.194372  0.0   \n",
       "4          99.691917  0.170809  0.00000  0.473581  0.206685  0.204126  0.0   \n",
       "..               ...       ...      ...       ...       ...       ...  ...   \n",
       "973        98.256744  0.166426  0.00000  0.460002  0.203006  0.189938  0.0   \n",
       "974        98.275444  0.179404  0.00000  0.471701  0.202353  0.186232  0.0   \n",
       "975        90.745857  0.193731  0.09067  0.444133  0.188686  0.181306  0.0   \n",
       "976        98.672508  0.162095  0.00000  0.465533  0.194995  0.184998  0.0   \n",
       "977        98.945160  0.170005  0.00000  0.467891  0.201393  0.195621  0.0   \n",
       "\n",
       "            6  ...       502       503       504       505       506  \\\n",
       "0    0.000000  ...  0.781022  0.266765  0.328887  0.175580  0.082834   \n",
       "1    0.000000  ...  0.776045  0.268796  0.332356  0.175287  0.085085   \n",
       "2    0.000000  ...  0.780489  0.268685  0.319673  0.177759  0.086095   \n",
       "3    0.000048  ...  0.777900  0.264080  0.328955  0.176765  0.088671   \n",
       "4    0.000000  ...  0.779048  0.267694  0.319197  0.179508  0.086165   \n",
       "..        ...  ...       ...       ...       ...       ...       ...   \n",
       "973  0.000000  ...  0.777401  0.257767  0.319825  0.164615  0.080748   \n",
       "974  0.000000  ...  0.776940  0.262492  0.345467  0.173744  0.083056   \n",
       "975  0.000000  ...  0.746853  0.248321  0.308296  0.153712  0.075136   \n",
       "976  0.000000  ...  0.771724  0.260101  0.330756  0.162889  0.076203   \n",
       "977  0.000000  ...  0.782081  0.264338  0.329527  0.169612  0.084019   \n",
       "\n",
       "          507       508       509       510       511  \n",
       "0    0.221993  0.000000  0.045918  0.640745  0.001586  \n",
       "1    0.225770  0.000000  0.047755  0.645498  0.000772  \n",
       "2    0.225666  0.000000  0.044334  0.641085  0.001590  \n",
       "3    0.221336  0.009857  0.052366  0.637576  0.001796  \n",
       "4    0.226105  0.000000  0.042667  0.642312  0.000899  \n",
       "..        ...       ...       ...       ...       ...  \n",
       "973  0.213484  0.000561  0.037137  0.632455  0.001263  \n",
       "974  0.222648  0.006560  0.049686  0.637785  0.000473  \n",
       "975  0.205200  0.043957  0.089068  0.615948  0.000819  \n",
       "976  0.217285  0.000000  0.039516  0.636183  0.002577  \n",
       "977  0.222623  0.002410  0.042064  0.640184  0.002480  \n",
       "\n",
       "[978 rows x 515 columns]"
      ]
     },
     "execution_count": 23,
     "metadata": {},
     "output_type": "execute_result"
    }
   ],
   "source": [
    "# training\n",
    "df_result"
   ]
  },
  {
   "cell_type": "code",
   "execution_count": 24,
   "metadata": {},
   "outputs": [
    {
     "data": {
      "text/html": [
       "<div>\n",
       "<style scoped>\n",
       "    .dataframe tbody tr th:only-of-type {\n",
       "        vertical-align: middle;\n",
       "    }\n",
       "\n",
       "    .dataframe tbody tr th {\n",
       "        vertical-align: top;\n",
       "    }\n",
       "\n",
       "    .dataframe thead th {\n",
       "        text-align: right;\n",
       "    }\n",
       "</style>\n",
       "<table border=\"1\" class=\"dataframe\">\n",
       "  <thead>\n",
       "    <tr style=\"text-align: right;\">\n",
       "      <th></th>\n",
       "      <th>filename</th>\n",
       "      <th>actual gamma</th>\n",
       "      <th>predicted gamma</th>\n",
       "      <th>0</th>\n",
       "      <th>1</th>\n",
       "      <th>2</th>\n",
       "      <th>3</th>\n",
       "      <th>4</th>\n",
       "      <th>5</th>\n",
       "      <th>6</th>\n",
       "      <th>...</th>\n",
       "      <th>502</th>\n",
       "      <th>503</th>\n",
       "      <th>504</th>\n",
       "      <th>505</th>\n",
       "      <th>506</th>\n",
       "      <th>507</th>\n",
       "      <th>508</th>\n",
       "      <th>509</th>\n",
       "      <th>510</th>\n",
       "      <th>511</th>\n",
       "    </tr>\n",
       "  </thead>\n",
       "  <tbody>\n",
       "    <tr>\n",
       "      <th>0</th>\n",
       "      <td>/hdd/data/radioterapia/ciolaplata/2019/1.3.6.1...</td>\n",
       "      <td>94.971298</td>\n",
       "      <td>98.160507</td>\n",
       "      <td>0.188282</td>\n",
       "      <td>0.0</td>\n",
       "      <td>0.472093</td>\n",
       "      <td>0.193211</td>\n",
       "      <td>0.192909</td>\n",
       "      <td>0.0</td>\n",
       "      <td>0.000000</td>\n",
       "      <td>...</td>\n",
       "      <td>0.772296</td>\n",
       "      <td>0.260645</td>\n",
       "      <td>0.343846</td>\n",
       "      <td>0.169443</td>\n",
       "      <td>0.103001</td>\n",
       "      <td>0.216019</td>\n",
       "      <td>0.008451</td>\n",
       "      <td>0.046916</td>\n",
       "      <td>0.640380</td>\n",
       "      <td>0.001671</td>\n",
       "    </tr>\n",
       "    <tr>\n",
       "      <th>1</th>\n",
       "      <td>/hdd/data/radioterapia/ciolaplata/2019/1.3.6.1...</td>\n",
       "      <td>99.654182</td>\n",
       "      <td>99.648567</td>\n",
       "      <td>0.173830</td>\n",
       "      <td>0.0</td>\n",
       "      <td>0.485564</td>\n",
       "      <td>0.205866</td>\n",
       "      <td>0.197323</td>\n",
       "      <td>0.0</td>\n",
       "      <td>0.000000</td>\n",
       "      <td>...</td>\n",
       "      <td>0.777380</td>\n",
       "      <td>0.267690</td>\n",
       "      <td>0.331011</td>\n",
       "      <td>0.180557</td>\n",
       "      <td>0.085298</td>\n",
       "      <td>0.224983</td>\n",
       "      <td>0.000000</td>\n",
       "      <td>0.052339</td>\n",
       "      <td>0.641876</td>\n",
       "      <td>0.000457</td>\n",
       "    </tr>\n",
       "    <tr>\n",
       "      <th>2</th>\n",
       "      <td>/hdd/data/radioterapia/ciolaplata/2019/1.3.6.1...</td>\n",
       "      <td>95.114304</td>\n",
       "      <td>98.927109</td>\n",
       "      <td>0.168815</td>\n",
       "      <td>0.0</td>\n",
       "      <td>0.464255</td>\n",
       "      <td>0.213209</td>\n",
       "      <td>0.197604</td>\n",
       "      <td>0.0</td>\n",
       "      <td>0.000546</td>\n",
       "      <td>...</td>\n",
       "      <td>0.780857</td>\n",
       "      <td>0.264557</td>\n",
       "      <td>0.318286</td>\n",
       "      <td>0.176470</td>\n",
       "      <td>0.082935</td>\n",
       "      <td>0.220027</td>\n",
       "      <td>0.008618</td>\n",
       "      <td>0.042858</td>\n",
       "      <td>0.636962</td>\n",
       "      <td>0.001079</td>\n",
       "    </tr>\n",
       "    <tr>\n",
       "      <th>3</th>\n",
       "      <td>/hdd/data/radioterapia/ciolaplata/2019/1.3.6.1...</td>\n",
       "      <td>99.564850</td>\n",
       "      <td>99.463326</td>\n",
       "      <td>0.164420</td>\n",
       "      <td>0.0</td>\n",
       "      <td>0.475968</td>\n",
       "      <td>0.202276</td>\n",
       "      <td>0.194354</td>\n",
       "      <td>0.0</td>\n",
       "      <td>0.000000</td>\n",
       "      <td>...</td>\n",
       "      <td>0.781521</td>\n",
       "      <td>0.265057</td>\n",
       "      <td>0.332248</td>\n",
       "      <td>0.167891</td>\n",
       "      <td>0.080872</td>\n",
       "      <td>0.224488</td>\n",
       "      <td>0.000043</td>\n",
       "      <td>0.043115</td>\n",
       "      <td>0.639536</td>\n",
       "      <td>0.001982</td>\n",
       "    </tr>\n",
       "    <tr>\n",
       "      <th>4</th>\n",
       "      <td>/hdd/data/radioterapia/ciolaplata/2019/1.3.6.1...</td>\n",
       "      <td>99.814941</td>\n",
       "      <td>99.695999</td>\n",
       "      <td>0.170029</td>\n",
       "      <td>0.0</td>\n",
       "      <td>0.477014</td>\n",
       "      <td>0.208818</td>\n",
       "      <td>0.198810</td>\n",
       "      <td>0.0</td>\n",
       "      <td>0.000000</td>\n",
       "      <td>...</td>\n",
       "      <td>0.781630</td>\n",
       "      <td>0.265123</td>\n",
       "      <td>0.323269</td>\n",
       "      <td>0.181745</td>\n",
       "      <td>0.087322</td>\n",
       "      <td>0.225792</td>\n",
       "      <td>0.000047</td>\n",
       "      <td>0.041546</td>\n",
       "      <td>0.640906</td>\n",
       "      <td>0.000919</td>\n",
       "    </tr>\n",
       "    <tr>\n",
       "      <th>...</th>\n",
       "      <td>...</td>\n",
       "      <td>...</td>\n",
       "      <td>...</td>\n",
       "      <td>...</td>\n",
       "      <td>...</td>\n",
       "      <td>...</td>\n",
       "      <td>...</td>\n",
       "      <td>...</td>\n",
       "      <td>...</td>\n",
       "      <td>...</td>\n",
       "      <td>...</td>\n",
       "      <td>...</td>\n",
       "      <td>...</td>\n",
       "      <td>...</td>\n",
       "      <td>...</td>\n",
       "      <td>...</td>\n",
       "      <td>...</td>\n",
       "      <td>...</td>\n",
       "      <td>...</td>\n",
       "      <td>...</td>\n",
       "      <td>...</td>\n",
       "    </tr>\n",
       "    <tr>\n",
       "      <th>239</th>\n",
       "      <td>/hdd/data/radioterapia/ciolaplata/2019/1.3.6.1...</td>\n",
       "      <td>99.662003</td>\n",
       "      <td>99.726044</td>\n",
       "      <td>0.172698</td>\n",
       "      <td>0.0</td>\n",
       "      <td>0.477440</td>\n",
       "      <td>0.209181</td>\n",
       "      <td>0.202041</td>\n",
       "      <td>0.0</td>\n",
       "      <td>0.000000</td>\n",
       "      <td>...</td>\n",
       "      <td>0.782973</td>\n",
       "      <td>0.268207</td>\n",
       "      <td>0.320656</td>\n",
       "      <td>0.178672</td>\n",
       "      <td>0.089873</td>\n",
       "      <td>0.223043</td>\n",
       "      <td>0.000542</td>\n",
       "      <td>0.045129</td>\n",
       "      <td>0.643987</td>\n",
       "      <td>0.001474</td>\n",
       "    </tr>\n",
       "    <tr>\n",
       "      <th>240</th>\n",
       "      <td>/hdd/data/radioterapia/ciolaplata/2019/1.3.6.1...</td>\n",
       "      <td>98.691704</td>\n",
       "      <td>98.186646</td>\n",
       "      <td>0.174935</td>\n",
       "      <td>0.0</td>\n",
       "      <td>0.463914</td>\n",
       "      <td>0.199868</td>\n",
       "      <td>0.193313</td>\n",
       "      <td>0.0</td>\n",
       "      <td>0.000000</td>\n",
       "      <td>...</td>\n",
       "      <td>0.776593</td>\n",
       "      <td>0.262688</td>\n",
       "      <td>0.337228</td>\n",
       "      <td>0.170126</td>\n",
       "      <td>0.092717</td>\n",
       "      <td>0.220882</td>\n",
       "      <td>0.000000</td>\n",
       "      <td>0.052043</td>\n",
       "      <td>0.643319</td>\n",
       "      <td>0.000964</td>\n",
       "    </tr>\n",
       "    <tr>\n",
       "      <th>241</th>\n",
       "      <td>/hdd/data/radioterapia/ciolaplata/2019/1.3.6.1...</td>\n",
       "      <td>98.516296</td>\n",
       "      <td>98.454277</td>\n",
       "      <td>0.171764</td>\n",
       "      <td>0.0</td>\n",
       "      <td>0.457669</td>\n",
       "      <td>0.203809</td>\n",
       "      <td>0.190322</td>\n",
       "      <td>0.0</td>\n",
       "      <td>0.000000</td>\n",
       "      <td>...</td>\n",
       "      <td>0.771394</td>\n",
       "      <td>0.261082</td>\n",
       "      <td>0.313872</td>\n",
       "      <td>0.167663</td>\n",
       "      <td>0.083667</td>\n",
       "      <td>0.221658</td>\n",
       "      <td>0.000000</td>\n",
       "      <td>0.036833</td>\n",
       "      <td>0.639735</td>\n",
       "      <td>0.001056</td>\n",
       "    </tr>\n",
       "    <tr>\n",
       "      <th>242</th>\n",
       "      <td>/hdd/data/radioterapia/ciolaplata/2019/1.3.6.1...</td>\n",
       "      <td>99.819572</td>\n",
       "      <td>98.637718</td>\n",
       "      <td>0.166992</td>\n",
       "      <td>0.0</td>\n",
       "      <td>0.457297</td>\n",
       "      <td>0.203548</td>\n",
       "      <td>0.190077</td>\n",
       "      <td>0.0</td>\n",
       "      <td>0.000627</td>\n",
       "      <td>...</td>\n",
       "      <td>0.778294</td>\n",
       "      <td>0.269827</td>\n",
       "      <td>0.337840</td>\n",
       "      <td>0.177163</td>\n",
       "      <td>0.084986</td>\n",
       "      <td>0.228920</td>\n",
       "      <td>0.006657</td>\n",
       "      <td>0.049885</td>\n",
       "      <td>0.632609</td>\n",
       "      <td>0.001344</td>\n",
       "    </tr>\n",
       "    <tr>\n",
       "      <th>243</th>\n",
       "      <td>/hdd/data/radioterapia/ciolaplata/2019/1.3.6.1...</td>\n",
       "      <td>98.652603</td>\n",
       "      <td>96.712090</td>\n",
       "      <td>0.165492</td>\n",
       "      <td>0.0</td>\n",
       "      <td>0.442701</td>\n",
       "      <td>0.189747</td>\n",
       "      <td>0.165859</td>\n",
       "      <td>0.0</td>\n",
       "      <td>0.002145</td>\n",
       "      <td>...</td>\n",
       "      <td>0.766426</td>\n",
       "      <td>0.257265</td>\n",
       "      <td>0.342891</td>\n",
       "      <td>0.147461</td>\n",
       "      <td>0.098917</td>\n",
       "      <td>0.212949</td>\n",
       "      <td>0.013007</td>\n",
       "      <td>0.057372</td>\n",
       "      <td>0.629120</td>\n",
       "      <td>0.001316</td>\n",
       "    </tr>\n",
       "  </tbody>\n",
       "</table>\n",
       "<p>244 rows × 515 columns</p>\n",
       "</div>"
      ],
      "text/plain": [
       "                                              filename  actual gamma  \\\n",
       "0    /hdd/data/radioterapia/ciolaplata/2019/1.3.6.1...     94.971298   \n",
       "1    /hdd/data/radioterapia/ciolaplata/2019/1.3.6.1...     99.654182   \n",
       "2    /hdd/data/radioterapia/ciolaplata/2019/1.3.6.1...     95.114304   \n",
       "3    /hdd/data/radioterapia/ciolaplata/2019/1.3.6.1...     99.564850   \n",
       "4    /hdd/data/radioterapia/ciolaplata/2019/1.3.6.1...     99.814941   \n",
       "..                                                 ...           ...   \n",
       "239  /hdd/data/radioterapia/ciolaplata/2019/1.3.6.1...     99.662003   \n",
       "240  /hdd/data/radioterapia/ciolaplata/2019/1.3.6.1...     98.691704   \n",
       "241  /hdd/data/radioterapia/ciolaplata/2019/1.3.6.1...     98.516296   \n",
       "242  /hdd/data/radioterapia/ciolaplata/2019/1.3.6.1...     99.819572   \n",
       "243  /hdd/data/radioterapia/ciolaplata/2019/1.3.6.1...     98.652603   \n",
       "\n",
       "     predicted gamma         0    1         2         3         4    5  \\\n",
       "0          98.160507  0.188282  0.0  0.472093  0.193211  0.192909  0.0   \n",
       "1          99.648567  0.173830  0.0  0.485564  0.205866  0.197323  0.0   \n",
       "2          98.927109  0.168815  0.0  0.464255  0.213209  0.197604  0.0   \n",
       "3          99.463326  0.164420  0.0  0.475968  0.202276  0.194354  0.0   \n",
       "4          99.695999  0.170029  0.0  0.477014  0.208818  0.198810  0.0   \n",
       "..               ...       ...  ...       ...       ...       ...  ...   \n",
       "239        99.726044  0.172698  0.0  0.477440  0.209181  0.202041  0.0   \n",
       "240        98.186646  0.174935  0.0  0.463914  0.199868  0.193313  0.0   \n",
       "241        98.454277  0.171764  0.0  0.457669  0.203809  0.190322  0.0   \n",
       "242        98.637718  0.166992  0.0  0.457297  0.203548  0.190077  0.0   \n",
       "243        96.712090  0.165492  0.0  0.442701  0.189747  0.165859  0.0   \n",
       "\n",
       "            6  ...       502       503       504       505       506  \\\n",
       "0    0.000000  ...  0.772296  0.260645  0.343846  0.169443  0.103001   \n",
       "1    0.000000  ...  0.777380  0.267690  0.331011  0.180557  0.085298   \n",
       "2    0.000546  ...  0.780857  0.264557  0.318286  0.176470  0.082935   \n",
       "3    0.000000  ...  0.781521  0.265057  0.332248  0.167891  0.080872   \n",
       "4    0.000000  ...  0.781630  0.265123  0.323269  0.181745  0.087322   \n",
       "..        ...  ...       ...       ...       ...       ...       ...   \n",
       "239  0.000000  ...  0.782973  0.268207  0.320656  0.178672  0.089873   \n",
       "240  0.000000  ...  0.776593  0.262688  0.337228  0.170126  0.092717   \n",
       "241  0.000000  ...  0.771394  0.261082  0.313872  0.167663  0.083667   \n",
       "242  0.000627  ...  0.778294  0.269827  0.337840  0.177163  0.084986   \n",
       "243  0.002145  ...  0.766426  0.257265  0.342891  0.147461  0.098917   \n",
       "\n",
       "          507       508       509       510       511  \n",
       "0    0.216019  0.008451  0.046916  0.640380  0.001671  \n",
       "1    0.224983  0.000000  0.052339  0.641876  0.000457  \n",
       "2    0.220027  0.008618  0.042858  0.636962  0.001079  \n",
       "3    0.224488  0.000043  0.043115  0.639536  0.001982  \n",
       "4    0.225792  0.000047  0.041546  0.640906  0.000919  \n",
       "..        ...       ...       ...       ...       ...  \n",
       "239  0.223043  0.000542  0.045129  0.643987  0.001474  \n",
       "240  0.220882  0.000000  0.052043  0.643319  0.000964  \n",
       "241  0.221658  0.000000  0.036833  0.639735  0.001056  \n",
       "242  0.228920  0.006657  0.049885  0.632609  0.001344  \n",
       "243  0.212949  0.013007  0.057372  0.629120  0.001316  \n",
       "\n",
       "[244 rows x 515 columns]"
      ]
     },
     "execution_count": 24,
     "metadata": {},
     "output_type": "execute_result"
    }
   ],
   "source": [
    "# validation\n",
    "df_validation_result"
   ]
  },
  {
   "cell_type": "code",
   "execution_count": 30,
   "metadata": {},
   "outputs": [
    {
     "name": "stdout",
     "output_type": "stream",
     "text": [
      "(978, 512) (978,)\n",
      "(244, 512) (244,)\n"
     ]
    }
   ],
   "source": [
    "SEED = 12345\n",
    "\n",
    "X_train = df_features\n",
    "y_train = df['actual gamma']\n",
    "X_valid = df_validation_features\n",
    "y_valid = df_validation['actual gamma']\n",
    "print(X_train.shape, y_train.shape)\n",
    "print(X_valid.shape, y_valid.shape)"
   ]
  },
  {
   "cell_type": "code",
   "execution_count": 31,
   "metadata": {},
   "outputs": [
    {
     "name": "stdout",
     "output_type": "stream",
     "text": [
      "Number of features = 512\n"
     ]
    }
   ],
   "source": [
    "dtrain = xgb.DMatrix(data=X_train, label=y_train)\n",
    "dvalid = xgb.DMatrix(data=X_valid, label=y_valid)\n",
    "print(f'Number of features = {len(dtrain.feature_names)}')"
   ]
  },
  {
   "cell_type": "code",
   "execution_count": 32,
   "metadata": {},
   "outputs": [],
   "source": [
    "def save_best_model(model_file):\n",
    "    best_score = float('inf')\n",
    "    \n",
    "    def callback(env):\n",
    "        nonlocal best_score\n",
    "        if env.evaluation_result_list[-1][1] < best_score:\n",
    "            env.model.save_model(model_file)\n",
    "            best_score = env.evaluation_result_list[-1][1]\n",
    "            \n",
    "    return callback;"
   ]
  },
  {
   "cell_type": "code",
   "execution_count": 81,
   "metadata": {},
   "outputs": [
    {
     "name": "stdout",
     "output_type": "stream",
     "text": [
      "Multiple eval metrics have been passed: 'valid-mae' will be used for early stopping.\n",
      "\n",
      "Will train until valid-mae hasn't improved in 10 rounds.\n",
      "[0]\ttrain-rmse:88.04526\ttrain-mae:87.98580\tvalid-rmse:87.98707\tvalid-mae:87.93481\n",
      "[1]\ttrain-rmse:79.27142\ttrain-mae:79.20537\tvalid-rmse:79.21244\tvalid-mae:79.15440\n",
      "[2]\ttrain-rmse:71.37384\ttrain-mae:71.30982\tvalid-rmse:71.29597\tvalid-mae:71.23147\n",
      "[3]\ttrain-rmse:64.26470\ttrain-mae:64.19360\tvalid-rmse:64.18690\tvalid-mae:64.11524\n",
      "[4]\ttrain-rmse:57.86491\ttrain-mae:57.79498\tvalid-rmse:57.76948\tvalid-mae:57.68986\n",
      "[5]\ttrain-rmse:52.10412\ttrain-mae:52.03290\tvalid-rmse:51.99968\tvalid-mae:51.91121\n",
      "[6]\ttrain-rmse:46.91828\ttrain-mae:46.84918\tvalid-rmse:46.78624\tvalid-mae:46.69018\n",
      "[7]\ttrain-rmse:42.24974\ttrain-mae:42.17840\tvalid-rmse:42.11256\tvalid-mae:42.00581\n",
      "[8]\ttrain-rmse:38.04610\ttrain-mae:37.97715\tvalid-rmse:37.88537\tvalid-mae:37.77028\n",
      "[9]\ttrain-rmse:34.26129\ttrain-mae:34.19385\tvalid-rmse:34.08051\tvalid-mae:33.95453\n",
      "[10]\ttrain-rmse:30.85380\ttrain-mae:30.78771\tvalid-rmse:30.65421\tvalid-mae:30.51815\n",
      "[11]\ttrain-rmse:27.78622\ttrain-mae:27.71923\tvalid-rmse:27.58302\tvalid-mae:27.43175\n",
      "[12]\ttrain-rmse:25.02399\ttrain-mae:24.95811\tvalid-rmse:24.80648\tvalid-mae:24.63993\n",
      "[13]\ttrain-rmse:22.53645\ttrain-mae:22.47421\tvalid-rmse:22.32921\tvalid-mae:22.16614\n",
      "[14]\ttrain-rmse:20.29673\ttrain-mae:20.23768\tvalid-rmse:20.08925\tvalid-mae:19.92728\n",
      "[15]\ttrain-rmse:18.28005\ttrain-mae:18.22370\tvalid-rmse:18.08051\tvalid-mae:17.93048\n",
      "[16]\ttrain-rmse:16.46475\ttrain-mae:16.40809\tvalid-rmse:16.26804\tvalid-mae:16.12351\n",
      "[17]\ttrain-rmse:14.82977\ttrain-mae:14.77534\tvalid-rmse:14.64792\tvalid-mae:14.50639\n",
      "[18]\ttrain-rmse:13.35772\ttrain-mae:13.30512\tvalid-rmse:13.19429\tvalid-mae:13.04961\n",
      "[19]\ttrain-rmse:12.03206\ttrain-mae:11.98147\tvalid-rmse:11.89368\tvalid-mae:11.74149\n",
      "[20]\ttrain-rmse:10.83881\ttrain-mae:10.78936\tvalid-rmse:10.72103\tvalid-mae:10.56404\n",
      "[21]\ttrain-rmse:9.76418\ttrain-mae:9.71656\tvalid-rmse:9.67603\tvalid-mae:9.50721\n",
      "[22]\ttrain-rmse:8.79737\ttrain-mae:8.74873\tvalid-rmse:8.74645\tvalid-mae:8.55781\n",
      "[23]\ttrain-rmse:7.92662\ttrain-mae:7.87838\tvalid-rmse:7.90887\tvalid-mae:7.69660\n",
      "[24]\ttrain-rmse:7.14229\ttrain-mae:7.09510\tvalid-rmse:7.16585\tvalid-mae:6.93835\n",
      "[25]\ttrain-rmse:6.43630\ttrain-mae:6.38936\tvalid-rmse:6.51008\tvalid-mae:6.26506\n",
      "[26]\ttrain-rmse:5.80115\ttrain-mae:5.75517\tvalid-rmse:5.93327\tvalid-mae:5.66650\n",
      "[27]\ttrain-rmse:5.22886\ttrain-mae:5.18322\tvalid-rmse:5.42802\tvalid-mae:5.13180\n",
      "[28]\ttrain-rmse:4.71390\ttrain-mae:4.66796\tvalid-rmse:4.98105\tvalid-mae:4.65821\n",
      "[29]\ttrain-rmse:4.25024\ttrain-mae:4.20416\tvalid-rmse:4.59324\tvalid-mae:4.23461\n",
      "[30]\ttrain-rmse:3.83314\ttrain-mae:3.78650\tvalid-rmse:4.25617\tvalid-mae:3.85971\n",
      "[31]\ttrain-rmse:3.45786\ttrain-mae:3.41034\tvalid-rmse:3.96679\tvalid-mae:3.53019\n",
      "[32]\ttrain-rmse:3.11984\ttrain-mae:3.07160\tvalid-rmse:3.72193\tvalid-mae:3.23941\n",
      "[33]\ttrain-rmse:2.81606\ttrain-mae:2.76713\tvalid-rmse:3.51374\tvalid-mae:2.98384\n",
      "[34]\ttrain-rmse:2.54295\ttrain-mae:2.49331\tvalid-rmse:3.33794\tvalid-mae:2.75955\n",
      "[35]\ttrain-rmse:2.29759\ttrain-mae:2.24742\tvalid-rmse:3.19235\tvalid-mae:2.55872\n",
      "[36]\ttrain-rmse:2.07667\ttrain-mae:2.02626\tvalid-rmse:3.07294\tvalid-mae:2.38004\n",
      "[37]\ttrain-rmse:1.87859\ttrain-mae:1.82736\tvalid-rmse:2.97637\tvalid-mae:2.22333\n",
      "[38]\ttrain-rmse:1.70098\ttrain-mae:1.64858\tvalid-rmse:2.89842\tvalid-mae:2.08739\n",
      "[39]\ttrain-rmse:1.54179\ttrain-mae:1.48879\tvalid-rmse:2.83708\tvalid-mae:1.97390\n",
      "[40]\ttrain-rmse:1.39912\ttrain-mae:1.34452\tvalid-rmse:2.78909\tvalid-mae:1.87634\n",
      "[41]\ttrain-rmse:1.27103\ttrain-mae:1.21518\tvalid-rmse:2.75047\tvalid-mae:1.78946\n",
      "[42]\ttrain-rmse:1.15627\ttrain-mae:1.10017\tvalid-rmse:2.71917\tvalid-mae:1.71418\n",
      "[43]\ttrain-rmse:1.05407\ttrain-mae:0.99723\tvalid-rmse:2.69706\tvalid-mae:1.64611\n",
      "[44]\ttrain-rmse:0.96308\ttrain-mae:0.90560\tvalid-rmse:2.68034\tvalid-mae:1.58628\n",
      "[45]\ttrain-rmse:0.88184\ttrain-mae:0.82265\tvalid-rmse:2.66830\tvalid-mae:1.53342\n",
      "[46]\ttrain-rmse:0.80944\ttrain-mae:0.74901\tvalid-rmse:2.65955\tvalid-mae:1.49060\n",
      "[47]\ttrain-rmse:0.74582\ttrain-mae:0.68362\tvalid-rmse:2.65445\tvalid-mae:1.45241\n",
      "[48]\ttrain-rmse:0.68956\ttrain-mae:0.62582\tvalid-rmse:2.65000\tvalid-mae:1.41960\n",
      "[49]\ttrain-rmse:0.63994\ttrain-mae:0.57496\tvalid-rmse:2.64687\tvalid-mae:1.39103\n",
      "[50]\ttrain-rmse:0.59656\ttrain-mae:0.52993\tvalid-rmse:2.64476\tvalid-mae:1.36675\n",
      "[51]\ttrain-rmse:0.55828\ttrain-mae:0.48980\tvalid-rmse:2.64560\tvalid-mae:1.34547\n",
      "[52]\ttrain-rmse:0.52498\ttrain-mae:0.45479\tvalid-rmse:2.64352\tvalid-mae:1.32741\n",
      "[53]\ttrain-rmse:0.49632\ttrain-mae:0.42450\tvalid-rmse:2.64476\tvalid-mae:1.31255\n",
      "[54]\ttrain-rmse:0.47153\ttrain-mae:0.39714\tvalid-rmse:2.64668\tvalid-mae:1.30040\n",
      "[55]\ttrain-rmse:0.45002\ttrain-mae:0.37331\tvalid-rmse:2.64929\tvalid-mae:1.29025\n",
      "[56]\ttrain-rmse:0.43149\ttrain-mae:0.35283\tvalid-rmse:2.65126\tvalid-mae:1.28078\n",
      "[57]\ttrain-rmse:0.41529\ttrain-mae:0.33467\tvalid-rmse:2.65394\tvalid-mae:1.27397\n",
      "[58]\ttrain-rmse:0.40158\ttrain-mae:0.31867\tvalid-rmse:2.65589\tvalid-mae:1.26762\n",
      "[59]\ttrain-rmse:0.38981\ttrain-mae:0.30492\tvalid-rmse:2.65782\tvalid-mae:1.26251\n",
      "[60]\ttrain-rmse:0.37985\ttrain-mae:0.29357\tvalid-rmse:2.65863\tvalid-mae:1.25807\n",
      "[61]\ttrain-rmse:0.37145\ttrain-mae:0.28366\tvalid-rmse:2.66077\tvalid-mae:1.25411\n",
      "[62]\ttrain-rmse:0.36402\ttrain-mae:0.27473\tvalid-rmse:2.66221\tvalid-mae:1.25127\n",
      "[63]\ttrain-rmse:0.35802\ttrain-mae:0.26742\tvalid-rmse:2.66387\tvalid-mae:1.24847\n",
      "[64]\ttrain-rmse:0.35271\ttrain-mae:0.26077\tvalid-rmse:2.66626\tvalid-mae:1.24693\n",
      "[65]\ttrain-rmse:0.34804\ttrain-mae:0.25518\tvalid-rmse:2.66737\tvalid-mae:1.24544\n",
      "[66]\ttrain-rmse:0.34401\ttrain-mae:0.25000\tvalid-rmse:2.66904\tvalid-mae:1.24410\n",
      "[67]\ttrain-rmse:0.34041\ttrain-mae:0.24522\tvalid-rmse:2.67007\tvalid-mae:1.24256\n",
      "[68]\ttrain-rmse:0.33726\ttrain-mae:0.24121\tvalid-rmse:2.67146\tvalid-mae:1.24184\n",
      "[69]\ttrain-rmse:0.33442\ttrain-mae:0.23744\tvalid-rmse:2.67144\tvalid-mae:1.23995\n",
      "[70]\ttrain-rmse:0.33149\ttrain-mae:0.23448\tvalid-rmse:2.67209\tvalid-mae:1.23902\n",
      "[71]\ttrain-rmse:0.32959\ttrain-mae:0.23163\tvalid-rmse:2.67302\tvalid-mae:1.23813\n",
      "[72]\ttrain-rmse:0.32720\ttrain-mae:0.22959\tvalid-rmse:2.67363\tvalid-mae:1.23716\n",
      "[73]\ttrain-rmse:0.32543\ttrain-mae:0.22760\tvalid-rmse:2.67405\tvalid-mae:1.23642\n",
      "[74]\ttrain-rmse:0.32380\ttrain-mae:0.22527\tvalid-rmse:2.67420\tvalid-mae:1.23546\n",
      "[75]\ttrain-rmse:0.32204\ttrain-mae:0.22375\tvalid-rmse:2.67494\tvalid-mae:1.23530\n",
      "[76]\ttrain-rmse:0.32065\ttrain-mae:0.22179\tvalid-rmse:2.67570\tvalid-mae:1.23508\n",
      "[77]\ttrain-rmse:0.31938\ttrain-mae:0.22038\tvalid-rmse:2.67637\tvalid-mae:1.23456\n",
      "[78]\ttrain-rmse:0.31765\ttrain-mae:0.21907\tvalid-rmse:2.67649\tvalid-mae:1.23388\n",
      "[79]\ttrain-rmse:0.31643\ttrain-mae:0.21743\tvalid-rmse:2.67653\tvalid-mae:1.23368\n",
      "[80]\ttrain-rmse:0.31498\ttrain-mae:0.21592\tvalid-rmse:2.67690\tvalid-mae:1.23390\n",
      "[81]\ttrain-rmse:0.31408\ttrain-mae:0.21485\tvalid-rmse:2.67747\tvalid-mae:1.23342\n",
      "[82]\ttrain-rmse:0.31308\ttrain-mae:0.21341\tvalid-rmse:2.67797\tvalid-mae:1.23331\n",
      "[83]\ttrain-rmse:0.31178\ttrain-mae:0.21230\tvalid-rmse:2.67788\tvalid-mae:1.23284\n",
      "[84]\ttrain-rmse:0.31070\ttrain-mae:0.21129\tvalid-rmse:2.67807\tvalid-mae:1.23279\n",
      "[85]\ttrain-rmse:0.30943\ttrain-mae:0.21041\tvalid-rmse:2.67839\tvalid-mae:1.23270\n",
      "[86]\ttrain-rmse:0.30840\ttrain-mae:0.20961\tvalid-rmse:2.67856\tvalid-mae:1.23260\n",
      "[87]\ttrain-rmse:0.30752\ttrain-mae:0.20822\tvalid-rmse:2.67866\tvalid-mae:1.23293\n",
      "[88]\ttrain-rmse:0.30652\ttrain-mae:0.20711\tvalid-rmse:2.67848\tvalid-mae:1.23313\n",
      "[89]\ttrain-rmse:0.30503\ttrain-mae:0.20614\tvalid-rmse:2.67894\tvalid-mae:1.23317\n",
      "[90]\ttrain-rmse:0.30360\ttrain-mae:0.20539\tvalid-rmse:2.67922\tvalid-mae:1.23314\n",
      "[91]\ttrain-rmse:0.30204\ttrain-mae:0.20438\tvalid-rmse:2.67931\tvalid-mae:1.23298\n",
      "[92]\ttrain-rmse:0.30128\ttrain-mae:0.20361\tvalid-rmse:2.67935\tvalid-mae:1.23285\n",
      "[93]\ttrain-rmse:0.30060\ttrain-mae:0.20293\tvalid-rmse:2.67977\tvalid-mae:1.23299\n",
      "[94]\ttrain-rmse:0.29966\ttrain-mae:0.20222\tvalid-rmse:2.68018\tvalid-mae:1.23315\n",
      "[95]\ttrain-rmse:0.29865\ttrain-mae:0.20145\tvalid-rmse:2.68000\tvalid-mae:1.23305\n",
      "Stopping. Best iteration:\n",
      "[86]\ttrain-rmse:0.30840\ttrain-mae:0.20961\tvalid-rmse:2.67856\tvalid-mae:1.23260\n",
      "\n"
     ]
    }
   ],
   "source": [
    "# specify parameters via map, definition are same as c++ version: https://xgboost.readthedocs.io/en/latest/parameter.html or\n",
    "# https://github.com/dmlc/xgboost/blob/master/doc/parameter.rst\n",
    "param = {'max_depth': 2\n",
    "         , 'eta': 0.1\n",
    "         , 'objective': 'reg:squarederror'\n",
    "         , 'eval_metric': ['rmse', 'mae']\n",
    "         , 'colsample_bytree': 0.3\n",
    "         # , 'colsample_bynode': 0.3\n",
    "         , 'lambda': 2\n",
    "         , 'alpha': 2\n",
    "         # , 'tree_method': 'gpu_hist' # usa la GPU\n",
    "         , 'seed': SEED\n",
    "         , 'min_child_weight': 5\n",
    "        }\n",
    "\n",
    "MODEL_FILE = 'best-xgboost.model'\n",
    "saved_model_dir = '{}/{}'.format(dir, MODEL_FILE)\n",
    "\n",
    "# specify validations set to watch performance\n",
    "watchlist = [(dtrain, 'train'), (dvalid, 'valid')]\n",
    "results = {}\n",
    "num_boost_round = 150\n",
    "bst = xgb.train(param, dtrain, num_boost_round, evals=watchlist, early_stopping_rounds=10, evals_result=results, callbacks=[save_best_model(saved_model_dir)])"
   ]
  },
  {
   "cell_type": "code",
   "execution_count": 83,
   "metadata": {},
   "outputs": [
    {
     "data": {
      "image/png": "[encoded data removed]",
      "text/plain": [
       "<Figure size 432x288 with 1 Axes>"
      ]
     },
     "metadata": {
      "needs_background": "light"
     },
     "output_type": "display_data"
    }
   ],
   "source": [
    "epochs = len(results['train']['mae'])\n",
    "x_axis = range(0, epochs)\n",
    "# plot MAE\n",
    "fig, ax = plt.subplots()\n",
    "ax.plot(x_axis, results['train']['mae'], label='Training')\n",
    "ax.plot(x_axis, results['valid']['mae'], label='Validation')\n",
    "plt.axvline(bst.best_iteration, linestyle='--', color='k', label='best iteration')\n",
    "ax.legend()\n",
    "plt.ylabel('MAE')\n",
    "plt.xlabel('iteration')\n",
    "plt.title('XGBoost MAE')\n",
    "ymin=0; ymax=10\n",
    "plt.ylim(ymin, ymax)\n",
    "plt.show()"
   ]
  },
  {
   "cell_type": "code",
   "execution_count": 84,
   "metadata": {},
   "outputs": [
    {
     "name": "stdout",
     "output_type": "stream",
     "text": [
      "best iteration: 86, best MAE on validation: 1.233\n"
     ]
    }
   ],
   "source": [
    "print('best iteration: %i, best MAE on validation: %.3f' % (bst.best_iteration, bst.best_score))"
   ]
  },
  {
   "cell_type": "code",
   "execution_count": 85,
   "metadata": {},
   "outputs": [],
   "source": [
    "bst = xgb.Booster()  # init model\n",
    "bst.load_model(saved_model_dir)  # load data"
   ]
  },
  {
   "cell_type": "code",
   "execution_count": 86,
   "metadata": {},
   "outputs": [
    {
     "name": "stdout",
     "output_type": "stream",
     "text": [
      "MAE on validation = 1.233\n",
      "Corr. actual vs predicted = 0.492\n",
      "R^2 = 0.220\n"
     ]
    },
    {
     "data": {
      "image/png": "[encoded data removed]",
      "text/plain": [
       "<Figure size 576x576 with 1 Axes>"
      ]
     },
     "metadata": {
      "needs_background": "light"
     },
     "output_type": "display_data"
    },
    {
     "data": {
      "text/plain": [
       "<Figure size 1080x1080 with 0 Axes>"
      ]
     },
     "metadata": {},
     "output_type": "display_data"
    }
   ],
   "source": [
    "# This is prediction\n",
    "y_hat = bst.predict(dvalid)\n",
    "display_scatterplot(PART_VALIDATION, y_valid, y_hat)"
   ]
  },
  {
   "cell_type": "code",
   "execution_count": 27,
   "metadata": {
    "colab": {
     "base_uri": "https://localhost:8080/"
    },
    "id": "1Zey_ms0PZK4",
    "outputId": "7b3c22ef-63f8-4870-98e5-51433c849822"
   },
   "outputs": [],
   "source": [
    "if isGoogleColab():\n",
    "    drive.flush_and_unmount()\n",
    "    print('All changes made in this colab session should now be visible in Drive.')"
   ]
  }
 ],
 "metadata": {
  "colab": {
   "authorship_tag": "ABX9TyMaePLl3oKvEAm3QK+tIn4/",
   "collapsed_sections": [],
   "include_colab_link": true,
   "name": "tf2_evaluate",
   "provenance": [],
   "toc_visible": true
  },
  "kernelspec": {
   "display_name": "Python 3",
   "language": "python",
   "name": "python3"
  },
  "language_info": {
   "codemirror_mode": {
    "name": "ipython",
    "version": 3
   },
   "file_extension": ".py",
   "mimetype": "text/x-python",
   "name": "python",
   "nbconvert_exporter": "python",
   "pygments_lexer": "ipython3",
   "version": "3.7.5"
  }
 },
 "nbformat": 4,
 "nbformat_minor": 1
}
