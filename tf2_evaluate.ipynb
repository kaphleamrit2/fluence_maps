{
  "nbformat": 4,
  "nbformat_minor": 0,
  "metadata": {
    "colab": {
      "name": "tf2_evaluate",
      "provenance": [],
      "collapsed_sections": [],
      "toc_visible": true,
      "authorship_tag": "ABX9TyOQ1d5HuIPuhx12odZl9WQM",
      "include_colab_link": true
    },
    "kernelspec": {
      "name": "python3",
      "display_name": "Python 3"
    }
  },
  "cells": [
    {
      "cell_type": "markdown",
      "metadata": {
        "id": "view-in-github",
        "colab_type": "text"
      },
      "source": [
        "<a href=\"https://colab.research.google.com/github/pablojrios/fluence_maps/blob/master/tf2_evaluate.ipynb\" target=\"_parent\"><img src=\"https://colab.research.google.com/assets/colab-badge.svg\" alt=\"Open In Colab\"/></a>"
      ]
    },
    {
      "cell_type": "markdown",
      "metadata": {
        "id": "-n_PAVFGnZDx"
      },
      "source": [
        "# Compute predictions on a TF dataset using an stored .h5 model"
      ]
    },
    {
      "cell_type": "code",
      "metadata": {
        "id": "A85nWqMEnKPB",
        "colab": {
          "base_uri": "https://localhost:8080/"
        },
        "outputId": "27852f01-8fd4-464e-92ed-370a850353bf"
      },
      "source": [
        "#%cd /content/drive/My\\ Drive/Healthcare/Radioterapia/data/ciolaplata\n",
        "#!unrar x /content/drive/My\\ Drive/Healthcare/Radioterapia/Mapas\\ CIO\\ La\\ Plata/Mapas\\ Calculados/2019.rar\n",
        "#!ls -l 2015/*dcm | wc -l\n",
        "\n",
        "import os\n",
        "\n",
        "%cd -q '/content'\n",
        "if os.path.exists('fluence_maps'):\n",
        "  !rm -fr fluence_maps\n",
        "\n",
        "GIT_USERNAME = \"pablojrios\"\n",
        "GIT_TOKEN = \"1d88a0b85d2b00a03796e4d8b7e5f7b249b12f9b\"\n",
        "!git clone -s https://{GIT_TOKEN}@github.com/{GIT_USERNAME}/fluence_maps.git"
      ],
      "execution_count": 1,
      "outputs": [
        {
          "output_type": "stream",
          "text": [
            "Cloning into 'fluence_maps'...\n",
            "remote: Enumerating objects: 237, done.\u001b[K\n",
            "remote: Counting objects: 100% (237/237), done.\u001b[K\n",
            "remote: Compressing objects: 100% (197/197), done.\u001b[K\n",
            "remote: Total 237 (delta 135), reused 96 (delta 39), pack-reused 0\u001b[K\n",
            "Receiving objects: 100% (237/237), 1.54 MiB | 19.71 MiB/s, done.\n",
            "Resolving deltas: 100% (135/135), done.\n"
          ],
          "name": "stdout"
        }
      ]
    },
    {
      "cell_type": "code",
      "metadata": {
        "id": "4LvLPLr5n_yJ",
        "colab": {
          "base_uri": "https://localhost:8080/"
        },
        "outputId": "a1848ccf-84a8-47ea-e37b-2274742674d1"
      },
      "source": [
        "import numpy as np\n",
        "import tensorflow as tf\n",
        "%cd '/content/fluence_maps'\n",
        "from util.dataset import _tfrecord_dataset_type_from_folder, _parse_jpeg_image_function\n",
        "from util.preprocess import rescale_0_to_1\n",
        "import os\n",
        "import pandas as pd"
      ],
      "execution_count": 2,
      "outputs": [
        {
          "output_type": "stream",
          "text": [
            "/content/fluence_maps\n"
          ],
          "name": "stdout"
        }
      ]
    },
    {
      "cell_type": "code",
      "metadata": {
        "id": "LN_LGyd6pWeZ",
        "colab": {
          "base_uri": "https://localhost:8080/"
        },
        "outputId": "d31712b9-8e31-497b-a027-fadaf9edfcc3"
      },
      "source": [
        "print('Tensorflow version = {}'.format(tf.__version__))\n",
        "print('Executing eagerly = {}'.format(tf.executing_eagerly()))"
      ],
      "execution_count": 3,
      "outputs": [
        {
          "output_type": "stream",
          "text": [
            "Tensorflow version = 2.4.0\n",
            "Executing eagerly = True\n"
          ],
          "name": "stdout"
        }
      ]
    },
    {
      "cell_type": "code",
      "metadata": {
        "id": "pzL176Gmq_KA",
        "colab": {
          "base_uri": "https://localhost:8080/"
        },
        "outputId": "62862c61-0ed9-4c5b-db7c-300907c2ea28"
      },
      "source": [
        "from google.colab import drive\n",
        "drive.mount('/content/drive')"
      ],
      "execution_count": 4,
      "outputs": [
        {
          "output_type": "stream",
          "text": [
            "Mounted at /content/drive\n"
          ],
          "name": "stdout"
        }
      ]
    },
    {
      "cell_type": "code",
      "metadata": {
        "colab": {
          "base_uri": "https://localhost:8080/"
        },
        "id": "doeibFQqsoHJ",
        "outputId": "4b359345-5c3a-4910-aec2-f8833d4e168d"
      },
      "source": [
        "!ls -l '/content/drive/My Drive/Healthcare/Radioterapia/data/ciolaplata/models'"
      ],
      "execution_count": 5,
      "outputs": [
        {
          "output_type": "stream",
          "text": [
            "total 5628284\n",
            "-rw------- 1 root root 204753152 May  6  2020 1588803713.h5\n",
            "-rw------- 1 root root 204752992 May  8  2020 1588961914.h5\n",
            "-rw------- 1 root root 204752992 Jun  8  2020 1591581915.h5\n",
            "-rw------- 1 root root 204753488 Jan  3 19:04 1609700652.h5\n",
            "-rw------- 1 root root 233090768 Jan  3 19:22 1609701766.h5\n",
            "-rw------- 1 root root 119785520 Jan  3 19:30 1609702231.h5\n",
            "-rw------- 1 root root 119785520 Jan  3 19:39 1609702768.h5\n",
            "-rw------- 1 root root  52148296 Jan  3 20:25 1609705507.h5\n",
            "-rw------- 1 root root  55218296 Jan  3 20:36 1609706214.h5\n",
            "-rw------- 1 root root  44420192 Jan  3 20:49 1609706993.h5\n",
            "-rw------- 1 root root 204753488 Jan  3 21:04 1609707882.h5\n",
            "-rw------- 1 root root 156500328 Jan  3 21:16 1609708579.h5\n",
            "-rw------- 1 root root 204753488 Jan  3 21:32 1609709567.h5\n",
            "-rw------- 1 root root 204754632 Jan  3 21:45 1609710337.h5\n",
            "-rw------- 1 root root 204754632 Jan  3 21:54 1609710864.h5\n",
            "-rw------- 1 root root 204754632 Jan  3 22:01 1609711277.h5\n",
            "-rw------- 1 root root 204753488 Jan  3 22:12 1609711934.h5\n",
            "-rw------- 1 root root 204753488 Jan  3 22:34 1609713262.h5\n",
            "-rw------- 1 root root 204753488 Jan  4 02:21 1609726904.h5\n",
            "-rw------- 1 root root 204753488 Jan  4 02:41 1609728119.h5\n",
            "-rw------- 1 root root 156500040 Jan  6 19:10 1609960235.h5\n",
            "-rw------- 1 root root 132221552 Jan  6 19:22 1609960977.h5\n",
            "-rw------- 1 root root 132221552 Jan  6 23:52 1609977122.h5\n",
            "-rw------- 1 root root 132221552 Jan  9 19:13 1610219616.h5\n",
            "-rw------- 1 root root 132221552 Jan  9 19:38 1610221139.h5\n",
            "-rw------- 1 root root 132221552 Jan  9 21:10 1610226607.h5\n",
            "-rw------- 1 root root 132221848 Jan  9 21:21 1610227264.h5\n",
            "-rw------- 1 root root 132221552 Jan  9 21:31 1610227879.h5\n",
            "-rw------- 1 root root 132221552 Jan  9 21:38 1610228325.h5\n",
            "-rw------- 1 root root 132221552 Jan  9 21:58 1610229513.h5\n",
            "-rw------- 1 root root 132221552 Jan  9 23:08 1610233693.h5\n",
            "-rw------- 1 root root 132221848 Jan  9 23:33 1610235196.h5\n",
            "-rw------- 1 root root 132221552 Jan  9 23:59 1610236790.h5\n",
            "-rw------- 1 root root 132221552 Jan 10 03:09 1610248186.h5\n",
            "-rw------- 1 root root 156500040 Jan 10 03:38 1610249880.h5\n",
            "-rw------- 1 root root 132221552 Jan 10 18:02 1610301746.h5\n",
            "-rw------- 1 root root 156500040 Jan 16 00:07 1610755621.h5\n"
          ],
          "name": "stdout"
        }
      ]
    },
    {
      "cell_type": "code",
      "metadata": {
        "id": "eWlKtT6Kpbsr"
      },
      "source": [
        "#============================DEFINE YOUR ARGUMENTS==============================\n",
        "# base data directory\n",
        "ARG_DATASET_DIR='/content/drive/My Drive/Healthcare/Radioterapia/data/ciolaplata'\n",
        "# folder under ARG_DATASET_DIR path.\n",
        "ARG_TFDATASET_FOLDER='tfds.2019.localnorm'\n",
        "ARG_MODEL_NAME = '1610755621'\n",
        "# 'train', 'validation', 'test' \n",
        "ARG_PART = 'validation'\n",
        "ARG_TRANSFORM_GAMMA=True"
      ],
      "execution_count": 6,
      "outputs": []
    },
    {
      "cell_type": "code",
      "metadata": {
        "id": "K2-IdOEGqmU1",
        "colab": {
          "base_uri": "https://localhost:8080/"
        },
        "outputId": "a563f84d-21b0-4159-8844-5bda6b2efd1b"
      },
      "source": [
        "tfdataset_dir = os.path.join(ARG_DATASET_DIR, ARG_TFDATASET_FOLDER)\n",
        "raw_test = _tfrecord_dataset_type_from_folder(tfdataset_dir, ARG_PART)\n",
        "print(raw_test)"
      ],
      "execution_count": 7,
      "outputs": [
        {
          "output_type": "stream",
          "text": [
            "<TFRecordDatasetV2 shapes: (), types: tf.string>\n"
          ],
          "name": "stdout"
        }
      ]
    },
    {
      "cell_type": "code",
      "metadata": {
        "id": "tfTOOGlJrYIr",
        "colab": {
          "base_uri": "https://localhost:8080/"
        },
        "outputId": "2c144141-c2ff-469f-823e-d3e5a9367f08"
      },
      "source": [
        "# Apply this function to each item in the dataset using the map method:\n",
        "num_workers = 8\n",
        "IMG_SIZE = 256\n",
        "normalization_fn = rescale_0_to_1\n",
        "test = raw_test.map(lambda e: _parse_jpeg_image_function(e, IMG_SIZE, normalization_fn, transform_gamma=ARG_TRANSFORM_GAMMA), num_parallel_calls=num_workers)\n",
        "print(test)"
      ],
      "execution_count": 8,
      "outputs": [
        {
          "output_type": "stream",
          "text": [
            "<ParallelMapDataset shapes: ((256, 256, 3), (), ()), types: (tf.float32, tf.float32, tf.string)>\n"
          ],
          "name": "stdout"
        }
      ]
    },
    {
      "cell_type": "code",
      "metadata": {
        "id": "3yG0Vf93rmOw",
        "colab": {
          "base_uri": "https://localhost:8080/"
        },
        "outputId": "a3e6fd09-85c7-4911-a8a8-5f1e9d47e9ef"
      },
      "source": [
        "gamma_values = test.map(lambda image, gamma, filename: gamma)\n",
        "gamma_values = np.array(list(gamma_values.as_numpy_iterator()))\n",
        "BATCH_SIZE = 32 # mae puede variar según batch size.\n",
        "test_batches = test.batch(BATCH_SIZE)\n",
        "print(test_batches)"
      ],
      "execution_count": 9,
      "outputs": [
        {
          "output_type": "stream",
          "text": [
            "<BatchDataset shapes: ((None, 256, 256, 3), (None,), (None,)), types: (tf.float32, tf.float32, tf.string)>\n"
          ],
          "name": "stdout"
        }
      ]
    },
    {
      "cell_type": "code",
      "metadata": {
        "id": "ug89pURgI1I_",
        "outputId": "f8ae5b16-ee46-47d1-dd4c-4bcab571ce70",
        "colab": {
          "base_uri": "https://localhost:8080/"
        }
      },
      "source": [
        "gamma_values"
      ],
      "execution_count": 10,
      "outputs": [
        {
          "output_type": "execute_result",
          "data": {
            "text/plain": [
              "array([10.231887 ,  9.359355 , 10.358353 ,  9.396875 , 10.318111 ,\n",
              "       11.890144 , 10.67689  , 11.203389 , 11.547211 , 11.894532 ,\n",
              "       11.193885 ,  8.830025 , 11.38552  ,  1.9224298,  3.173596 ,\n",
              "        6.142882 ,  8.985668 , 10.51779  , 11.218861 , 11.854728 ,\n",
              "        8.34655  , 11.181201 ,  6.118203 , 11.588353 , 11.383839 ,\n",
              "        7.9336762, 10.152645 , 11.304118 , 10.392793 ,  6.259453 ,\n",
              "        9.472984 , 11.885437 , 10.893768 ,  9.058377 ,  8.504367 ,\n",
              "       10.084724 , 10.718363 ,  8.79546  , 10.416525 ,  9.372651 ,\n",
              "       11.73886  ,  6.1671944, 11.88912  ,  8.744701 ,  8.018712 ,\n",
              "       11.829034 ,  2.2850528, 11.301259 ,  6.1518292, 10.401095 ,\n",
              "       10.878398 ,  5.229715 , 10.895308 ,  8.59919  ,  5.7354813,\n",
              "        9.531827 , 11.2401705,  9.511285 ,  9.25397  , 11.582056 ,\n",
              "        9.452694 ,  9.292822 ,  9.466713 ,  6.4773827, 11.689602 ,\n",
              "        3.3312604,  8.072112 ,  8.598578 , 11.723233 , 11.251089 ,\n",
              "        9.773263 , 10.742828 ,  5.2675004, 10.260441 , 10.638141 ,\n",
              "       11.136077 ,  8.952954 , 10.191564 , 11.348765 , 11.990121 ,\n",
              "       11.490757 ,  6.455085 ,  8.418213 ,  6.084886 , 11.84102  ,\n",
              "       11.740191 ,  9.788407 ,  5.5167346, 11.595957 , 11.749365 ,\n",
              "       11.742243 , 10.3212805, 10.925823 , 11.189903 ,  3.3580709,\n",
              "       10.733342 ,  8.633098 , 10.379475 , 10.655913 ,  7.9887123,\n",
              "        8.273808 , 10.420707 ,  9.900009 , 10.664829 ,  9.65267  ,\n",
              "       11.943631 , 11.414157 , 10.723551 , 11.643393 , 11.679377 ,\n",
              "        9.6123085, 10.020706 , 10.750583 , 11.681215 , 10.548913 ,\n",
              "       10.872021 ,  8.301396 , 11.325346 , 11.860432 , 11.177355 ,\n",
              "       10.028117 , 11.524147 ,  5.982828 , 11.223727 ,  6.069375 ,\n",
              "       11.039253 , 11.571712 ,  3.3176303,  7.1551256,  6.8514256,\n",
              "       10.834143 , 10.03033  , 11.433822 ,  8.502078 , 10.263896 ,\n",
              "        7.897442 ,  9.984359 , 11.480676 ,  7.5132413, 11.243384 ,\n",
              "        7.6907325, 11.052534 , 10.10738  ,  4.792716 ,  8.067773 ,\n",
              "       10.294206 ,  9.448969 ,  9.982533 , 10.182986 ,  9.958012 ,\n",
              "       11.687291 ,  9.636703 ,  7.0895143,  9.44629  ,  5.9255733,\n",
              "       10.31864  ,  6.3175855,  9.233186 ,  7.658043 ,  6.3740277,\n",
              "       11.836244 ,  8.160269 , 10.312199 ,  8.573755 ,  9.575791 ,\n",
              "       11.65062  ,  9.93838  ,  9.424623 ,  9.771831 , 11.867734 ,\n",
              "       11.038913 , 11.424089 , 10.770149 ,  8.288326 , 11.608897 ,\n",
              "       10.598971 , 12.       , 11.123681 , 10.638256 ,  8.30507  ,\n",
              "        9.94645  , 11.269792 ,  6.5039263,  9.46029  ,  4.3581204,\n",
              "       11.301941 , 11.829799 ,  9.022968 , 11.086313 ,  9.386736 ,\n",
              "        7.354382 , 11.410944 , 11.271924 ,  9.384384 ,  6.1381063,\n",
              "        8.956962 ,  8.290038 , 11.751085 , 11.660674 , 10.732361 ,\n",
              "        9.106227 , 10.765447 , 10.443416 ,  3.673836 , 10.94008  ,\n",
              "        6.4651675, 10.911558 ,  4.941402 , 10.953366 ,  4.7494273,\n",
              "       11.529148 , 11.238275 , 10.444262 , 11.24919  ,  8.616856 ,\n",
              "       11.270001 , 11.710194 ,  8.588362 ,  9.66635  , 11.663735 ,\n",
              "       10.974077 ,  8.938414 ,  7.5941653, 10.9546175, 11.577963 ,\n",
              "        9.148856 , 11.459196 , 10.797342 , 12.       ,  7.4721656,\n",
              "       10.8670635,  9.975721 , 10.659698 ,  9.981698 , 10.013089 ,\n",
              "        6.716819 , 11.442606 ,  7.95619  , 11.618982 , 11.907896 ,\n",
              "        9.147877 , 11.195829 , 10.8023405, 11.410381 ], dtype=float32)"
            ]
          },
          "metadata": {
            "tags": []
          },
          "execution_count": 10
        }
      ]
    },
    {
      "cell_type": "code",
      "metadata": {
        "id": "tjrt80mNr0a4",
        "colab": {
          "base_uri": "https://localhost:8080/"
        },
        "outputId": "80173ee6-e84c-4f8f-b038-d3b35415e6e2"
      },
      "source": [
        "# load model\n",
        "dir = os.path.join(ARG_DATASET_DIR, \"models\")\n",
        "saved_model_dir = '{}/{}.h5'.format(dir, ARG_MODEL_NAME)\n",
        "print(f'Loading model {saved_model_dir}...')\n",
        "loaded_model = tf.keras.models.load_model(saved_model_dir)"
      ],
      "execution_count": 11,
      "outputs": [
        {
          "output_type": "stream",
          "text": [
            "Loading model /content/drive/My Drive/Healthcare/Radioterapia/data/ciolaplata/models/1610755621.h5...\n"
          ],
          "name": "stdout"
        }
      ]
    },
    {
      "cell_type": "code",
      "metadata": {
        "id": "ZEaSI7qj86Um",
        "colab": {
          "base_uri": "https://localhost:8080/"
        },
        "outputId": "2f5cc111-cd84-4c7f-9b6e-76414df5602d"
      },
      "source": [
        "# Evaluate dataset with the loaded model to calculate loss (mae) because\n",
        "# metric value could differ from the one reported during training.\n",
        "tmp_test_batches = test_batches.map(lambda image, gamma, filename: (image, gamma))\n",
        "print(tmp_test_batches)\n",
        "loss, mse = loaded_model.evaluate(tmp_test_batches, workers=num_workers, verbose=0)\n",
        "print('\\n\\nLoaded model, test loss: {:5.4f}'.format(loss))\n",
        "print('Loaded model, test mse: {:5.4f}'.format(mse))"
      ],
      "execution_count": 12,
      "outputs": [
        {
          "output_type": "stream",
          "text": [
            "<MapDataset shapes: ((None, 256, 256, 3), (None,)), types: (tf.float32, tf.float32)>\n",
            "\n",
            "\n",
            "Loaded model, test loss: 1.2626\n",
            "Loaded model, test mse: 3.2588\n"
          ],
          "name": "stdout"
        }
      ]
    },
    {
      "cell_type": "code",
      "metadata": {
        "id": "ctN7LhzY9I3n"
      },
      "source": [
        "# Make predictions\n",
        "predictions = loaded_model.predict(tmp_test_batches)\n",
        "# from (1121,1) to (1121,); ie.: ndim = 2 to ndim = 1\n",
        "predictions = predictions.reshape(-1)"
      ],
      "execution_count": 13,
      "outputs": []
    },
    {
      "cell_type": "code",
      "metadata": {
        "id": "NkoSrJyh9jtR",
        "colab": {
          "base_uri": "https://localhost:8080/"
        },
        "outputId": "60b0586b-537d-4763-8fc1-85965615bfdf"
      },
      "source": [
        "tmp_test_batches = test.map(lambda image, gamma, filename: (filename, gamma))\n",
        "lst = [(filename.numpy().decode('utf-8'), gamma.numpy()) for filename, gamma in tmp_test_batches]\n",
        "lst2 = [(e[0], e[1], p) for e, p in zip(lst, predictions)]\n",
        "\n",
        "# armar un pandas dataframe con el test set completo\n",
        "df = pd.DataFrame(lst2, columns=['filename', 'actual gamma', 'predicted gamma'])\n",
        "dir = os.path.join(ARG_DATASET_DIR, \"predictions\")\n",
        "predictions_file_path = '{}/predicted_gamma_{}.{}.csv'.format(dir, ARG_MODEL_NAME, ARG_PART)\n",
        "df.to_csv(predictions_file_path, index=False)\n",
        "print(f'Predictions saved to {predictions_file_path}.')"
      ],
      "execution_count": 14,
      "outputs": [
        {
          "output_type": "stream",
          "text": [
            "Predictions saved to /content/drive/My Drive/Healthcare/Radioterapia/data/ciolaplata/predictions/predicted_gamma_1610755621.validation.csv.\n"
          ],
          "name": "stdout"
        }
      ]
    },
    {
      "cell_type": "code",
      "metadata": {
        "id": "1Zey_ms0PZK4",
        "colab": {
          "base_uri": "https://localhost:8080/"
        },
        "outputId": "6b036f1c-a8fa-4e07-89b2-e12eb8457f5b"
      },
      "source": [
        "drive.flush_and_unmount()\n",
        "print('All changes made in this colab session should now be visible in Drive.')"
      ],
      "execution_count": 15,
      "outputs": [
        {
          "output_type": "stream",
          "text": [
            "All changes made in this colab session should now be visible in Drive.\n"
          ],
          "name": "stdout"
        }
      ]
    }
  ]
}