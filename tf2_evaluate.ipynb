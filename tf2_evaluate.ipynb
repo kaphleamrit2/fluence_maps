{
  "nbformat": 4,
  "nbformat_minor": 0,
  "metadata": {
    "colab": {
      "name": "tf2_evaluate",
      "provenance": [],
      "collapsed_sections": [],
      "toc_visible": true,
      "authorship_tag": "ABX9TyM5dNUNzdNlUWl2eDlfUmvQ",
      "include_colab_link": true
    },
    "kernelspec": {
      "name": "python3",
      "display_name": "Python 3"
    }
  },
  "cells": [
    {
      "cell_type": "markdown",
      "metadata": {
        "id": "view-in-github",
        "colab_type": "text"
      },
      "source": [
        "<a href=\"https://colab.research.google.com/github/pablojrios/fluence_maps/blob/master/tf2_evaluate.ipynb\" target=\"_parent\"><img src=\"https://colab.research.google.com/assets/colab-badge.svg\" alt=\"Open In Colab\"/></a>"
      ]
    },
    {
      "cell_type": "markdown",
      "metadata": {
        "id": "-n_PAVFGnZDx"
      },
      "source": [
        "# Compute predictions on a TF dataset using an stored .h5 model"
      ]
    },
    {
      "cell_type": "code",
      "metadata": {
        "id": "A85nWqMEnKPB",
        "colab": {
          "base_uri": "https://localhost:8080/"
        },
        "outputId": "93232984-1873-4c60-b37f-910c481444b8"
      },
      "source": [
        "#%cd /content/drive/My\\ Drive/Healthcare/Radioterapia/data/ciolaplata\n",
        "#!unrar x /content/drive/My\\ Drive/Healthcare/Radioterapia/Mapas\\ CIO\\ La\\ Plata/Mapas\\ Calculados/2019.rar\n",
        "#!ls -l 2015/*dcm | wc -l\n",
        "\n",
        "import os\n",
        "\n",
        "%cd -q '/content'\n",
        "if os.path.exists('fluence_maps'):\n",
        "  !rm -fr fluence_maps\n",
        "\n",
        "GIT_USERNAME = \"pablojrios\"\n",
        "GIT_TOKEN = \"1d88a0b85d2b00a03796e4d8b7e5f7b249b12f9b\"\n",
        "!git clone -s https://{GIT_TOKEN}@github.com/{GIT_USERNAME}/fluence_maps.git"
      ],
      "execution_count": 1,
      "outputs": [
        {
          "output_type": "stream",
          "text": [
            "Cloning into 'fluence_maps'...\n",
            "remote: Enumerating objects: 243, done.\u001b[K\n",
            "remote: Counting objects: 100% (243/243), done.\u001b[K\n",
            "remote: Compressing objects: 100% (203/203), done.\u001b[K\n",
            "remote: Total 243 (delta 138), reused 95 (delta 39), pack-reused 0\u001b[K\n",
            "Receiving objects: 100% (243/243), 1.54 MiB | 1.74 MiB/s, done.\n",
            "Resolving deltas: 100% (138/138), done.\n"
          ],
          "name": "stdout"
        }
      ]
    },
    {
      "cell_type": "code",
      "metadata": {
        "id": "4LvLPLr5n_yJ",
        "colab": {
          "base_uri": "https://localhost:8080/"
        },
        "outputId": "524021bc-1078-45c8-97b9-00fa985818db"
      },
      "source": [
        "import numpy as np\n",
        "import tensorflow as tf\n",
        "%cd '/content/fluence_maps'\n",
        "from util.dataset import _tfrecord_dataset_type_from_folder, _parse_jpeg_image_function\n",
        "from util.preprocess import rescale_0_to_1\n",
        "import os\n",
        "import pandas as pd"
      ],
      "execution_count": 2,
      "outputs": [
        {
          "output_type": "stream",
          "text": [
            "/content/fluence_maps\n"
          ],
          "name": "stdout"
        }
      ]
    },
    {
      "cell_type": "code",
      "metadata": {
        "id": "LN_LGyd6pWeZ",
        "colab": {
          "base_uri": "https://localhost:8080/"
        },
        "outputId": "cb5703e0-6b4e-431c-aedc-f4b707202777"
      },
      "source": [
        "print('Tensorflow version = {}'.format(tf.__version__))\n",
        "print('Executing eagerly = {}'.format(tf.executing_eagerly()))"
      ],
      "execution_count": 3,
      "outputs": [
        {
          "output_type": "stream",
          "text": [
            "Tensorflow version = 2.4.0\n",
            "Executing eagerly = True\n"
          ],
          "name": "stdout"
        }
      ]
    },
    {
      "cell_type": "code",
      "metadata": {
        "id": "pzL176Gmq_KA",
        "colab": {
          "base_uri": "https://localhost:8080/"
        },
        "outputId": "070b1e71-3c42-4dd8-ed41-a35baca31d0a"
      },
      "source": [
        "from google.colab import drive\n",
        "drive.mount('/content/drive')"
      ],
      "execution_count": 4,
      "outputs": [
        {
          "output_type": "stream",
          "text": [
            "Mounted at /content/drive\n"
          ],
          "name": "stdout"
        }
      ]
    },
    {
      "cell_type": "code",
      "metadata": {
        "colab": {
          "base_uri": "https://localhost:8080/"
        },
        "id": "doeibFQqsoHJ",
        "outputId": "e5d95fb5-264d-495d-aaa1-ac3cedbc6efa"
      },
      "source": [
        "!ls -l '/content/drive/My Drive/Healthcare/Radioterapia/data/ciolaplata/models'"
      ],
      "execution_count": 5,
      "outputs": [
        {
          "output_type": "stream",
          "text": [
            "total 5628284\n",
            "-rw------- 1 root root 204753152 May  6  2020 1588803713.h5\n",
            "-rw------- 1 root root 204752992 May  8  2020 1588961914.h5\n",
            "-rw------- 1 root root 204752992 Jun  8  2020 1591581915.h5\n",
            "-rw------- 1 root root 204753488 Jan  3 19:04 1609700652.h5\n",
            "-rw------- 1 root root 233090768 Jan  3 19:22 1609701766.h5\n",
            "-rw------- 1 root root 119785520 Jan  3 19:30 1609702231.h5\n",
            "-rw------- 1 root root 119785520 Jan  3 19:39 1609702768.h5\n",
            "-rw------- 1 root root  52148296 Jan  3 20:25 1609705507.h5\n",
            "-rw------- 1 root root  55218296 Jan  3 20:36 1609706214.h5\n",
            "-rw------- 1 root root  44420192 Jan  3 20:49 1609706993.h5\n",
            "-rw------- 1 root root 204753488 Jan  3 21:04 1609707882.h5\n",
            "-rw------- 1 root root 156500328 Jan  3 21:16 1609708579.h5\n",
            "-rw------- 1 root root 204753488 Jan  3 21:32 1609709567.h5\n",
            "-rw------- 1 root root 204754632 Jan  3 21:45 1609710337.h5\n",
            "-rw------- 1 root root 204754632 Jan  3 21:54 1609710864.h5\n",
            "-rw------- 1 root root 204754632 Jan  3 22:01 1609711277.h5\n",
            "-rw------- 1 root root 204753488 Jan  3 22:12 1609711934.h5\n",
            "-rw------- 1 root root 204753488 Jan  3 22:34 1609713262.h5\n",
            "-rw------- 1 root root 204753488 Jan  4 02:21 1609726904.h5\n",
            "-rw------- 1 root root 204753488 Jan  4 02:41 1609728119.h5\n",
            "-rw------- 1 root root 156500040 Jan  6 19:10 1609960235.h5\n",
            "-rw------- 1 root root 132221552 Jan  6 19:22 1609960977.h5\n",
            "-rw------- 1 root root 132221552 Jan  6 23:52 1609977122.h5\n",
            "-rw------- 1 root root 132221552 Jan  9 19:13 1610219616.h5\n",
            "-rw------- 1 root root 132221552 Jan  9 19:38 1610221139.h5\n",
            "-rw------- 1 root root 132221552 Jan  9 21:10 1610226607.h5\n",
            "-rw------- 1 root root 132221848 Jan  9 21:21 1610227264.h5\n",
            "-rw------- 1 root root 132221552 Jan  9 21:31 1610227879.h5\n",
            "-rw------- 1 root root 132221552 Jan  9 21:38 1610228325.h5\n",
            "-rw------- 1 root root 132221552 Jan  9 21:58 1610229513.h5\n",
            "-rw------- 1 root root 132221552 Jan  9 23:08 1610233693.h5\n",
            "-rw------- 1 root root 132221848 Jan  9 23:33 1610235196.h5\n",
            "-rw------- 1 root root 132221552 Jan  9 23:59 1610236790.h5\n",
            "-rw------- 1 root root 132221552 Jan 10 03:09 1610248186.h5\n",
            "-rw------- 1 root root 156500040 Jan 10 03:38 1610249880.h5\n",
            "-rw------- 1 root root 132221552 Jan 10 18:02 1610301746.h5\n",
            "-rw------- 1 root root 156500040 Jan 16 00:07 1610755621.h5\n"
          ],
          "name": "stdout"
        }
      ]
    },
    {
      "cell_type": "code",
      "metadata": {
        "id": "eWlKtT6Kpbsr"
      },
      "source": [
        "#============================DEFINE YOUR ARGUMENTS==============================\n",
        "# base data directory\n",
        "ARG_DATASET_DIR='/content/drive/My Drive/Healthcare/Radioterapia/data/ciolaplata'\n",
        "# folder under ARG_DATASET_DIR path.\n",
        "ARG_TFDATASET_FOLDER='tfds.2019.localnorm'\n",
        "ARG_MODEL_NAME = '1610755621'\n",
        "# 'train', 'validation', 'test' \n",
        "ARG_PART = 'validation'\n",
        "ARG_TRANSFORM_GAMMA=True"
      ],
      "execution_count": 6,
      "outputs": []
    },
    {
      "cell_type": "code",
      "metadata": {
        "id": "K2-IdOEGqmU1",
        "colab": {
          "base_uri": "https://localhost:8080/"
        },
        "outputId": "e0351a23-c7d3-440b-cd4c-2547eeeec7d7"
      },
      "source": [
        "tfdataset_dir = os.path.join(ARG_DATASET_DIR, ARG_TFDATASET_FOLDER)\n",
        "raw_test = _tfrecord_dataset_type_from_folder(tfdataset_dir, ARG_PART)\n",
        "print(raw_test)"
      ],
      "execution_count": 7,
      "outputs": [
        {
          "output_type": "stream",
          "text": [
            "<TFRecordDatasetV2 shapes: (), types: tf.string>\n"
          ],
          "name": "stdout"
        }
      ]
    },
    {
      "cell_type": "code",
      "metadata": {
        "id": "tfTOOGlJrYIr",
        "colab": {
          "base_uri": "https://localhost:8080/"
        },
        "outputId": "572eb0d4-177d-4a57-aff9-a4489dd1bfa6"
      },
      "source": [
        "# Apply this function to each item in the dataset using the map method:\n",
        "num_workers = 8\n",
        "IMG_SIZE = 256\n",
        "normalization_fn = rescale_0_to_1\n",
        "test = raw_test.map(lambda e: _parse_jpeg_image_function(e, IMG_SIZE, normalization_fn, transform_gamma=ARG_TRANSFORM_GAMMA), num_parallel_calls=num_workers)\n",
        "print(test)"
      ],
      "execution_count": 8,
      "outputs": [
        {
          "output_type": "stream",
          "text": [
            "<ParallelMapDataset shapes: ((256, 256, 3), (), ()), types: (tf.float32, tf.float32, tf.string)>\n"
          ],
          "name": "stdout"
        }
      ]
    },
    {
      "cell_type": "code",
      "metadata": {
        "id": "3yG0Vf93rmOw",
        "colab": {
          "base_uri": "https://localhost:8080/"
        },
        "outputId": "b116f1ad-b149-48e6-ba21-feb6ea4febe4"
      },
      "source": [
        "gamma_values = test.map(lambda image, gamma, filename: gamma)\n",
        "gamma_values = np.array(list(gamma_values.as_numpy_iterator()))\n",
        "BATCH_SIZE = 32 # mae puede variar según batch size.\n",
        "test_batches = test.batch(BATCH_SIZE)\n",
        "print(test_batches)"
      ],
      "execution_count": 9,
      "outputs": [
        {
          "output_type": "stream",
          "text": [
            "<BatchDataset shapes: ((None, 256, 256, 3), (None,), (None,)), types: (tf.float32, tf.float32, tf.string)>\n"
          ],
          "name": "stdout"
        }
      ]
    },
    {
      "cell_type": "code",
      "metadata": {
        "id": "ug89pURgI1I_",
        "colab": {
          "base_uri": "https://localhost:8080/"
        },
        "outputId": "db59070b-64ef-4008-e560-dd74a3ae29b8"
      },
      "source": [
        "gamma_values"
      ],
      "execution_count": 10,
      "outputs": [
        {
          "output_type": "execute_result",
          "data": {
            "text/plain": [
              "array([10.231887 ,  9.359355 , 10.358353 ,  9.396875 , 10.318111 ,\n",
              "       11.890144 , 10.67689  , 11.203389 , 11.547211 , 11.894532 ,\n",
              "       11.193885 ,  8.830025 , 11.38552  ,  1.9224298,  3.173596 ,\n",
              "        6.142882 ,  8.985668 , 10.51779  , 11.218861 , 11.854728 ,\n",
              "        8.34655  , 11.181201 ,  6.118203 , 11.588353 , 11.383839 ,\n",
              "        7.9336762, 10.152645 , 11.304118 , 10.392793 ,  6.259453 ,\n",
              "        9.472984 , 11.885437 , 10.893768 ,  9.058377 ,  8.504367 ,\n",
              "       10.084724 , 10.718363 ,  8.79546  , 10.416525 ,  9.372651 ,\n",
              "       11.73886  ,  6.1671944, 11.88912  ,  8.744701 ,  8.018712 ,\n",
              "       11.829034 ,  2.2850528, 11.301259 ,  6.1518292, 10.401095 ,\n",
              "       10.878398 ,  5.229715 , 10.895308 ,  8.59919  ,  5.7354813,\n",
              "        9.531827 , 11.2401705,  9.511285 ,  9.25397  , 11.582056 ,\n",
              "        9.452694 ,  9.292822 ,  9.466713 ,  6.4773827, 11.689602 ,\n",
              "        3.3312604,  8.072112 ,  8.598578 , 11.723233 , 11.251089 ,\n",
              "        9.773263 , 10.742828 ,  5.2675004, 10.260441 , 10.638141 ,\n",
              "       11.136077 ,  8.952954 , 10.191564 , 11.348765 , 11.990121 ,\n",
              "       11.490757 ,  6.455085 ,  8.418213 ,  6.084886 , 11.84102  ,\n",
              "       11.740191 ,  9.788407 ,  5.5167346, 11.595957 , 11.749365 ,\n",
              "       11.742243 , 10.3212805, 10.925823 , 11.189903 ,  3.3580709,\n",
              "       10.733342 ,  8.633098 , 10.379475 , 10.655913 ,  7.9887123,\n",
              "        8.273808 , 10.420707 ,  9.900009 , 10.664829 ,  9.65267  ,\n",
              "       11.943631 , 11.414157 , 10.723551 , 11.643393 , 11.679377 ,\n",
              "        9.6123085, 10.020706 , 10.750583 , 11.681215 , 10.548913 ,\n",
              "       10.872021 ,  8.301396 , 11.325346 , 11.860432 , 11.177355 ,\n",
              "       10.028117 , 11.524147 ,  5.982828 , 11.223727 ,  6.069375 ,\n",
              "       11.039253 , 11.571712 ,  3.3176303,  7.1551256,  6.8514256,\n",
              "       10.834143 , 10.03033  , 11.433822 ,  8.502078 , 10.263896 ,\n",
              "        7.897442 ,  9.984359 , 11.480676 ,  7.5132413, 11.243384 ,\n",
              "        7.6907325, 11.052534 , 10.10738  ,  4.792716 ,  8.067773 ,\n",
              "       10.294206 ,  9.448969 ,  9.982533 , 10.182986 ,  9.958012 ,\n",
              "       11.687291 ,  9.636703 ,  7.0895143,  9.44629  ,  5.9255733,\n",
              "       10.31864  ,  6.3175855,  9.233186 ,  7.658043 ,  6.3740277,\n",
              "       11.836244 ,  8.160269 , 10.312199 ,  8.573755 ,  9.575791 ,\n",
              "       11.65062  ,  9.93838  ,  9.424623 ,  9.771831 , 11.867734 ,\n",
              "       11.038913 , 11.424089 , 10.770149 ,  8.288326 , 11.608897 ,\n",
              "       10.598971 , 12.       , 11.123681 , 10.638256 ,  8.30507  ,\n",
              "        9.94645  , 11.269792 ,  6.5039263,  9.46029  ,  4.3581204,\n",
              "       11.301941 , 11.829799 ,  9.022968 , 11.086313 ,  9.386736 ,\n",
              "        7.354382 , 11.410944 , 11.271924 ,  9.384384 ,  6.1381063,\n",
              "        8.956962 ,  8.290038 , 11.751085 , 11.660674 , 10.732361 ,\n",
              "        9.106227 , 10.765447 , 10.443416 ,  3.673836 , 10.94008  ,\n",
              "        6.4651675, 10.911558 ,  4.941402 , 10.953366 ,  4.7494273,\n",
              "       11.529148 , 11.238275 , 10.444262 , 11.24919  ,  8.616856 ,\n",
              "       11.270001 , 11.710194 ,  8.588362 ,  9.66635  , 11.663735 ,\n",
              "       10.974077 ,  8.938414 ,  7.5941653, 10.9546175, 11.577963 ,\n",
              "        9.148856 , 11.459196 , 10.797342 , 12.       ,  7.4721656,\n",
              "       10.8670635,  9.975721 , 10.659698 ,  9.981698 , 10.013089 ,\n",
              "        6.716819 , 11.442606 ,  7.95619  , 11.618982 , 11.907896 ,\n",
              "        9.147877 , 11.195829 , 10.8023405, 11.410381 ], dtype=float32)"
            ]
          },
          "metadata": {
            "tags": []
          },
          "execution_count": 10
        }
      ]
    },
    {
      "cell_type": "code",
      "metadata": {
        "id": "tjrt80mNr0a4",
        "colab": {
          "base_uri": "https://localhost:8080/"
        },
        "outputId": "ad4aa071-4ee7-4af5-88ef-f3563f60264c"
      },
      "source": [
        "# load model\n",
        "dir = os.path.join(ARG_DATASET_DIR, \"models\")\n",
        "saved_model_dir = '{}/{}.h5'.format(dir, ARG_MODEL_NAME)\n",
        "print(f'Loading model {saved_model_dir}...')\n",
        "loaded_model = tf.keras.models.load_model(saved_model_dir)"
      ],
      "execution_count": 11,
      "outputs": [
        {
          "output_type": "stream",
          "text": [
            "Loading model /content/drive/My Drive/Healthcare/Radioterapia/data/ciolaplata/models/1610755621.h5...\n"
          ],
          "name": "stdout"
        }
      ]
    },
    {
      "cell_type": "code",
      "metadata": {
        "id": "lkz2ZGMDRNgC",
        "outputId": "4a325ab2-119d-45c9-afdb-38cb4eaccb8c",
        "colab": {
          "base_uri": "https://localhost:8080/"
        }
      },
      "source": [
        "loaded_model.summary()"
      ],
      "execution_count": 12,
      "outputs": [
        {
          "output_type": "stream",
          "text": [
            "Model: \"sequential\"\n",
            "_________________________________________________________________\n",
            "Layer (type)                 Output Shape              Param #   \n",
            "=================================================================\n",
            "vgg16 (Functional)           (None, 8, 8, 512)         14714688  \n",
            "_________________________________________________________________\n",
            "global_average_pooling2d (Gl (None, 512)               0         \n",
            "_________________________________________________________________\n",
            "dense (Dense)                (None, 512)               262656    \n",
            "_________________________________________________________________\n",
            "dense_1 (Dense)              (None, 1)                 513       \n",
            "=================================================================\n",
            "Total params: 14,977,857\n",
            "Trainable params: 12,062,209\n",
            "Non-trainable params: 2,915,648\n",
            "_________________________________________________________________\n"
          ],
          "name": "stdout"
        }
      ]
    },
    {
      "cell_type": "code",
      "metadata": {
        "id": "ZEaSI7qj86Um",
        "colab": {
          "base_uri": "https://localhost:8080/"
        },
        "outputId": "8682b904-98d3-4cc2-98d8-601a1b1a9220"
      },
      "source": [
        "# Evaluate dataset with the loaded model to calculate loss (mae) because\n",
        "# metric value could differ from the one reported during training.\n",
        "tmp_test_batches = test_batches.map(lambda image, gamma, filename: (image, gamma))\n",
        "print(tmp_test_batches)\n",
        "loss, mse = loaded_model.evaluate(tmp_test_batches, workers=num_workers, verbose=0)\n",
        "print('\\n\\nLoaded model, test loss: {:5.4f}'.format(loss))\n",
        "print('Loaded model, test mse: {:5.4f}'.format(mse))"
      ],
      "execution_count": 19,
      "outputs": [
        {
          "output_type": "stream",
          "text": [
            "<MapDataset shapes: ((None, 256, 256, 3), (None,)), types: (tf.float32, tf.float32)>\n",
            "\n",
            "\n",
            "Loaded model, test loss: 1.2626\n",
            "Loaded model, test mse: 3.2588\n"
          ],
          "name": "stdout"
        }
      ]
    },
    {
      "cell_type": "code",
      "metadata": {
        "id": "NwsDXo2sUvT_",
        "outputId": "b1dd4add-aacb-43fa-b890-e51ae3d261f8",
        "colab": {
          "base_uri": "https://localhost:8080/",
          "height": 1000
        }
      },
      "source": [
        "inputs=loaded_model.get_layer(\"vgg16\").input\r\n",
        "outputs=loaded_model.get_layer(\"vgg16\").output\r\n",
        "cnn_part=tf.keras.models.Model(inputs, outputs)\r\n",
        "cnn_part.summary()\r\n",
        "predictions = cnn_part.predict(tmp_test_batches)"
      ],
      "execution_count": 42,
      "outputs": [
        {
          "output_type": "stream",
          "text": [
            "Model: \"model_10\"\n",
            "_________________________________________________________________\n",
            "Layer (type)                 Output Shape              Param #   \n",
            "=================================================================\n",
            "input_1 (InputLayer)         [(None, 256, 256, 3)]     0         \n",
            "_________________________________________________________________\n",
            "block1_conv1 (Conv2D)        (None, 256, 256, 64)      1792      \n",
            "_________________________________________________________________\n",
            "block1_conv2 (Conv2D)        (None, 256, 256, 64)      36928     \n",
            "_________________________________________________________________\n",
            "block1_pool (MaxPooling2D)   (None, 128, 128, 64)      0         \n",
            "_________________________________________________________________\n",
            "block2_conv1 (Conv2D)        (None, 128, 128, 128)     73856     \n",
            "_________________________________________________________________\n",
            "block2_conv2 (Conv2D)        (None, 128, 128, 128)     147584    \n",
            "_________________________________________________________________\n",
            "block2_pool (MaxPooling2D)   (None, 64, 64, 128)       0         \n",
            "_________________________________________________________________\n",
            "block3_conv1 (Conv2D)        (None, 64, 64, 256)       295168    \n",
            "_________________________________________________________________\n",
            "block3_conv2 (Conv2D)        (None, 64, 64, 256)       590080    \n",
            "_________________________________________________________________\n",
            "block3_conv3 (Conv2D)        (None, 64, 64, 256)       590080    \n",
            "_________________________________________________________________\n",
            "block3_pool (MaxPooling2D)   (None, 32, 32, 256)       0         \n",
            "_________________________________________________________________\n",
            "block4_conv1 (Conv2D)        (None, 32, 32, 512)       1180160   \n",
            "_________________________________________________________________\n",
            "block4_conv2 (Conv2D)        (None, 32, 32, 512)       2359808   \n",
            "_________________________________________________________________\n",
            "block4_conv3 (Conv2D)        (None, 32, 32, 512)       2359808   \n",
            "_________________________________________________________________\n",
            "block4_pool (MaxPooling2D)   (None, 16, 16, 512)       0         \n",
            "_________________________________________________________________\n",
            "block5_conv1 (Conv2D)        (None, 16, 16, 512)       2359808   \n",
            "_________________________________________________________________\n",
            "block5_conv2 (Conv2D)        (None, 16, 16, 512)       2359808   \n",
            "_________________________________________________________________\n",
            "block5_conv3 (Conv2D)        (None, 16, 16, 512)       2359808   \n",
            "_________________________________________________________________\n",
            "block5_pool (MaxPooling2D)   (None, 8, 8, 512)         0         \n",
            "=================================================================\n",
            "Total params: 14,714,688\n",
            "Trainable params: 11,799,040\n",
            "Non-trainable params: 2,915,648\n",
            "_________________________________________________________________\n"
          ],
          "name": "stdout"
        },
        {
          "output_type": "error",
          "ename": "TypeError",
          "evalue": "ignored",
          "traceback": [
            "\u001b[0;31m---------------------------------------------------------------------------\u001b[0m",
            "\u001b[0;31mTypeError\u001b[0m                                 Traceback (most recent call last)",
            "\u001b[0;32m<ipython-input-42-480154ebc026>\u001b[0m in \u001b[0;36m<module>\u001b[0;34m()\u001b[0m\n\u001b[1;32m      4\u001b[0m \u001b[0mcnn_part\u001b[0m\u001b[0;34m.\u001b[0m\u001b[0msummary\u001b[0m\u001b[0;34m(\u001b[0m\u001b[0;34m)\u001b[0m\u001b[0;34m\u001b[0m\u001b[0;34m\u001b[0m\u001b[0m\n\u001b[1;32m      5\u001b[0m \u001b[0mglobal_average_layer\u001b[0m \u001b[0;34m=\u001b[0m \u001b[0mtf\u001b[0m\u001b[0;34m.\u001b[0m\u001b[0mkeras\u001b[0m\u001b[0;34m.\u001b[0m\u001b[0mlayers\u001b[0m\u001b[0;34m.\u001b[0m\u001b[0mGlobalAveragePooling2D\u001b[0m\u001b[0;34m(\u001b[0m\u001b[0;34m)\u001b[0m\u001b[0;34m\u001b[0m\u001b[0;34m\u001b[0m\u001b[0m\n\u001b[0;32m----> 6\u001b[0;31m \u001b[0mfeature_batch_average\u001b[0m \u001b[0;34m=\u001b[0m \u001b[0mglobal_average_layer\u001b[0m\u001b[0;34m(\u001b[0m\u001b[0mcnn_part\u001b[0m\u001b[0;34m)\u001b[0m\u001b[0;34m\u001b[0m\u001b[0;34m\u001b[0m\u001b[0m\n\u001b[0m\u001b[1;32m      7\u001b[0m \u001b[0;31m# predictions = cnn_part.predict(tmp_test_batches)\u001b[0m\u001b[0;34m\u001b[0m\u001b[0;34m\u001b[0m\u001b[0;34m\u001b[0m\u001b[0m\n",
            "\u001b[0;32m/usr/local/lib/python3.6/dist-packages/tensorflow/python/keras/engine/base_layer.py\u001b[0m in \u001b[0;36m__call__\u001b[0;34m(self, *args, **kwargs)\u001b[0m\n\u001b[1;32m    996\u001b[0m         \u001b[0minputs\u001b[0m \u001b[0;34m=\u001b[0m \u001b[0mself\u001b[0m\u001b[0;34m.\u001b[0m\u001b[0m_maybe_cast_inputs\u001b[0m\u001b[0;34m(\u001b[0m\u001b[0minputs\u001b[0m\u001b[0;34m,\u001b[0m \u001b[0minput_list\u001b[0m\u001b[0;34m)\u001b[0m\u001b[0;34m\u001b[0m\u001b[0;34m\u001b[0m\u001b[0m\n\u001b[1;32m    997\u001b[0m \u001b[0;34m\u001b[0m\u001b[0m\n\u001b[0;32m--> 998\u001b[0;31m       \u001b[0minput_spec\u001b[0m\u001b[0;34m.\u001b[0m\u001b[0massert_input_compatibility\u001b[0m\u001b[0;34m(\u001b[0m\u001b[0mself\u001b[0m\u001b[0;34m.\u001b[0m\u001b[0minput_spec\u001b[0m\u001b[0;34m,\u001b[0m \u001b[0minputs\u001b[0m\u001b[0;34m,\u001b[0m \u001b[0mself\u001b[0m\u001b[0;34m.\u001b[0m\u001b[0mname\u001b[0m\u001b[0;34m)\u001b[0m\u001b[0;34m\u001b[0m\u001b[0;34m\u001b[0m\u001b[0m\n\u001b[0m\u001b[1;32m    999\u001b[0m       \u001b[0;32mif\u001b[0m \u001b[0meager\u001b[0m\u001b[0;34m:\u001b[0m\u001b[0;34m\u001b[0m\u001b[0;34m\u001b[0m\u001b[0m\n\u001b[1;32m   1000\u001b[0m         \u001b[0mcall_fn\u001b[0m \u001b[0;34m=\u001b[0m \u001b[0mself\u001b[0m\u001b[0;34m.\u001b[0m\u001b[0mcall\u001b[0m\u001b[0;34m\u001b[0m\u001b[0;34m\u001b[0m\u001b[0m\n",
            "\u001b[0;32m/usr/local/lib/python3.6/dist-packages/tensorflow/python/keras/engine/input_spec.py\u001b[0m in \u001b[0;36massert_input_compatibility\u001b[0;34m(input_spec, inputs, layer_name)\u001b[0m\n\u001b[1;32m    199\u001b[0m     \u001b[0;31m# have a `shape` attribute.\u001b[0m\u001b[0;34m\u001b[0m\u001b[0;34m\u001b[0m\u001b[0;34m\u001b[0m\u001b[0m\n\u001b[1;32m    200\u001b[0m     \u001b[0;32mif\u001b[0m \u001b[0;32mnot\u001b[0m \u001b[0mhasattr\u001b[0m\u001b[0;34m(\u001b[0m\u001b[0mx\u001b[0m\u001b[0;34m,\u001b[0m \u001b[0;34m'shape'\u001b[0m\u001b[0;34m)\u001b[0m\u001b[0;34m:\u001b[0m\u001b[0;34m\u001b[0m\u001b[0;34m\u001b[0m\u001b[0m\n\u001b[0;32m--> 201\u001b[0;31m       \u001b[0;32mraise\u001b[0m \u001b[0mTypeError\u001b[0m\u001b[0;34m(\u001b[0m\u001b[0;34m'Inputs to a layer should be tensors. Got: %s'\u001b[0m \u001b[0;34m%\u001b[0m \u001b[0;34m(\u001b[0m\u001b[0mx\u001b[0m\u001b[0;34m,\u001b[0m\u001b[0;34m)\u001b[0m\u001b[0;34m)\u001b[0m\u001b[0;34m\u001b[0m\u001b[0;34m\u001b[0m\u001b[0m\n\u001b[0m\u001b[1;32m    202\u001b[0m \u001b[0;34m\u001b[0m\u001b[0m\n\u001b[1;32m    203\u001b[0m   \u001b[0;32mif\u001b[0m \u001b[0mlen\u001b[0m\u001b[0;34m(\u001b[0m\u001b[0minputs\u001b[0m\u001b[0;34m)\u001b[0m \u001b[0;34m!=\u001b[0m \u001b[0mlen\u001b[0m\u001b[0;34m(\u001b[0m\u001b[0minput_spec\u001b[0m\u001b[0;34m)\u001b[0m\u001b[0;34m:\u001b[0m\u001b[0;34m\u001b[0m\u001b[0;34m\u001b[0m\u001b[0m\n",
            "\u001b[0;31mTypeError\u001b[0m: Inputs to a layer should be tensors. Got: <tensorflow.python.keras.engine.functional.Functional object at 0x7f4a98d8e400>"
          ]
        }
      ]
    },
    {
      "cell_type": "code",
      "metadata": {
        "id": "5cYaneH7dHQk",
        "outputId": "96d91b62-a8c0-406f-a41b-204b1cc270fa",
        "colab": {
          "base_uri": "https://localhost:8080/"
        }
      },
      "source": [
        "predictions[0][:,:,3]"
      ],
      "execution_count": 56,
      "outputs": [
        {
          "output_type": "execute_result",
          "data": {
            "text/plain": [
              "array([[0.        , 0.        , 0.        , 0.        , 0.        ,\n",
              "        0.        , 0.        , 0.04714972],\n",
              "       [0.42540392, 0.52526826, 0.02264738, 0.        , 0.        ,\n",
              "        0.20159179, 0.52504116, 0.40518296],\n",
              "       [0.5523675 , 0.6336503 , 0.        , 0.        , 0.        ,\n",
              "        0.        , 0.6909603 , 0.5508331 ],\n",
              "       [0.55383277, 0.65856797, 0.10184079, 0.        , 0.        ,\n",
              "        0.        , 0.7007607 , 0.5546411 ],\n",
              "       [0.55295634, 0.7224965 , 0.6035311 , 0.        , 0.        ,\n",
              "        0.49658456, 0.7226466 , 0.5548006 ],\n",
              "       [0.55215436, 0.7544489 , 0.7779123 , 0.6199256 , 0.5343156 ,\n",
              "        0.75826055, 0.7535164 , 0.5501704 ],\n",
              "       [0.5623391 , 0.7399477 , 0.7790106 , 0.76301706, 0.7483633 ,\n",
              "        0.76404566, 0.7365285 , 0.5516058 ],\n",
              "       [0.457116  , 0.57710373, 0.611019  , 0.59604764, 0.59551644,\n",
              "        0.5958221 , 0.5283896 , 0.36009964]], dtype=float32)"
            ]
          },
          "metadata": {
            "tags": []
          },
          "execution_count": 56
        }
      ]
    },
    {
      "cell_type": "code",
      "metadata": {
        "id": "e0hmP1_sZPyH",
        "outputId": "9d264a22-4c0d-46fb-fc69-08d5d2e46f53",
        "colab": {
          "base_uri": "https://localhost:8080/"
        }
      },
      "source": [
        "global_average_layer = tf.keras.layers.GlobalAveragePooling2D()\r\n",
        "feature_batch_average = global_average_layer(predictions)\r\n",
        "feature_batch_average[0]"
      ],
      "execution_count": 47,
      "outputs": [
        {
          "output_type": "execute_result",
          "data": {
            "text/plain": [
              "<tf.Tensor: shape=(512,), dtype=float32, numpy=\n",
              "array([0.0000000e+00, 0.0000000e+00, 3.2391604e-03, 4.0733489e-01,\n",
              "       0.0000000e+00, 0.0000000e+00, 0.0000000e+00, 0.0000000e+00,\n",
              "       0.0000000e+00, 0.0000000e+00, 0.0000000e+00, 0.0000000e+00,\n",
              "       1.8115321e-03, 0.0000000e+00, 0.0000000e+00, 7.0695907e-02,\n",
              "       0.0000000e+00, 7.1265101e-02, 3.3663481e-01, 0.0000000e+00,\n",
              "       0.0000000e+00, 4.7827575e-01, 0.0000000e+00, 0.0000000e+00,\n",
              "       0.0000000e+00, 0.0000000e+00, 0.0000000e+00, 0.0000000e+00,\n",
              "       0.0000000e+00, 0.0000000e+00, 2.3724651e-04, 1.8751528e-04,\n",
              "       2.7491548e-04, 1.3349913e-03, 6.5133674e-04, 0.0000000e+00,\n",
              "       4.5897409e-02, 0.0000000e+00, 0.0000000e+00, 0.0000000e+00,\n",
              "       0.0000000e+00, 0.0000000e+00, 2.3647550e-01, 0.0000000e+00,\n",
              "       0.0000000e+00, 1.3189678e-01, 0.0000000e+00, 2.2064770e-02,\n",
              "       0.0000000e+00, 0.0000000e+00, 0.0000000e+00, 0.0000000e+00,\n",
              "       0.0000000e+00, 0.0000000e+00, 0.0000000e+00, 7.6249218e-01,\n",
              "       6.2891787e-01, 0.0000000e+00, 0.0000000e+00, 1.2518186e-03,\n",
              "       0.0000000e+00, 0.0000000e+00, 0.0000000e+00, 0.0000000e+00,\n",
              "       0.0000000e+00, 0.0000000e+00, 0.0000000e+00, 0.0000000e+00,\n",
              "       0.0000000e+00, 0.0000000e+00, 0.0000000e+00, 0.0000000e+00,\n",
              "       0.0000000e+00, 0.0000000e+00, 0.0000000e+00, 0.0000000e+00,\n",
              "       1.8353978e+00, 0.0000000e+00, 1.2845034e-03, 0.0000000e+00,\n",
              "       0.0000000e+00, 8.6849076e-01, 2.4989718e-03, 0.0000000e+00,\n",
              "       0.0000000e+00, 0.0000000e+00, 7.9718344e-03, 0.0000000e+00,\n",
              "       4.1872868e-01, 4.3545462e-02, 0.0000000e+00, 0.0000000e+00,\n",
              "       0.0000000e+00, 0.0000000e+00, 0.0000000e+00, 0.0000000e+00,\n",
              "       4.5226231e-02, 0.0000000e+00, 0.0000000e+00, 1.0565864e-01,\n",
              "       1.4531871e-03, 9.6172579e-02, 0.0000000e+00, 0.0000000e+00,\n",
              "       0.0000000e+00, 0.0000000e+00, 0.0000000e+00, 0.0000000e+00,\n",
              "       3.3188127e-03, 1.1136087e-02, 0.0000000e+00, 0.0000000e+00,\n",
              "       0.0000000e+00, 1.2599839e+00, 0.0000000e+00, 0.0000000e+00,\n",
              "       0.0000000e+00, 2.9183665e-01, 3.1071683e-02, 9.6989655e-01,\n",
              "       0.0000000e+00, 0.0000000e+00, 0.0000000e+00, 1.3074752e+00,\n",
              "       0.0000000e+00, 0.0000000e+00, 0.0000000e+00, 0.0000000e+00,\n",
              "       0.0000000e+00, 0.0000000e+00, 0.0000000e+00, 0.0000000e+00,\n",
              "       0.0000000e+00, 5.9449978e-02, 0.0000000e+00, 0.0000000e+00,\n",
              "       0.0000000e+00, 0.0000000e+00, 1.2093671e-03, 0.0000000e+00,\n",
              "       0.0000000e+00, 0.0000000e+00, 0.0000000e+00, 6.0729289e-01,\n",
              "       0.0000000e+00, 0.0000000e+00, 3.1704065e-01, 3.5817485e-02,\n",
              "       0.0000000e+00, 0.0000000e+00, 0.0000000e+00, 0.0000000e+00,\n",
              "       0.0000000e+00, 0.0000000e+00, 2.5969744e-04, 9.1220551e+00,\n",
              "       0.0000000e+00, 0.0000000e+00, 0.0000000e+00, 0.0000000e+00,\n",
              "       0.0000000e+00, 0.0000000e+00, 0.0000000e+00, 8.5667945e-02,\n",
              "       7.8200799e-04, 0.0000000e+00, 1.2684298e+00, 0.0000000e+00,\n",
              "       0.0000000e+00, 1.2403398e-03, 0.0000000e+00, 0.0000000e+00,\n",
              "       7.0832884e-01, 0.0000000e+00, 3.8654222e-03, 2.1199556e-04,\n",
              "       0.0000000e+00, 0.0000000e+00, 0.0000000e+00, 1.7905657e+00,\n",
              "       0.0000000e+00, 0.0000000e+00, 0.0000000e+00, 0.0000000e+00,\n",
              "       0.0000000e+00, 7.6854222e-02, 2.2091870e-03, 2.2245743e-03,\n",
              "       0.0000000e+00, 0.0000000e+00, 0.0000000e+00, 0.0000000e+00,\n",
              "       0.0000000e+00, 1.9207661e-03, 0.0000000e+00, 0.0000000e+00,\n",
              "       6.8220226e-03, 0.0000000e+00, 0.0000000e+00, 5.0708634e-01,\n",
              "       0.0000000e+00, 0.0000000e+00, 0.0000000e+00, 0.0000000e+00,\n",
              "       0.0000000e+00, 0.0000000e+00, 0.0000000e+00, 0.0000000e+00,\n",
              "       0.0000000e+00, 0.0000000e+00, 0.0000000e+00, 0.0000000e+00,\n",
              "       0.0000000e+00, 0.0000000e+00, 0.0000000e+00, 6.0467169e-02,\n",
              "       0.0000000e+00, 0.0000000e+00, 1.4567746e-02, 0.0000000e+00,\n",
              "       0.0000000e+00, 0.0000000e+00, 0.0000000e+00, 0.0000000e+00,\n",
              "       0.0000000e+00, 9.7971410e-03, 0.0000000e+00, 0.0000000e+00,\n",
              "       0.0000000e+00, 7.4454939e-01, 0.0000000e+00, 0.0000000e+00,\n",
              "       0.0000000e+00, 0.0000000e+00, 0.0000000e+00, 0.0000000e+00,\n",
              "       0.0000000e+00, 2.1450892e-01, 0.0000000e+00, 0.0000000e+00,\n",
              "       0.0000000e+00, 0.0000000e+00, 0.0000000e+00, 0.0000000e+00,\n",
              "       0.0000000e+00, 0.0000000e+00, 6.4580387e-01, 0.0000000e+00,\n",
              "       1.1159301e-01, 0.0000000e+00, 0.0000000e+00, 0.0000000e+00,\n",
              "       0.0000000e+00, 0.0000000e+00, 6.6067910e-01, 3.2693141e-03,\n",
              "       2.6069582e-04, 0.0000000e+00, 0.0000000e+00, 1.7082905e-02,\n",
              "       0.0000000e+00, 7.5675529e-01, 8.7015621e-02, 0.0000000e+00,\n",
              "       4.6918053e-02, 0.0000000e+00, 2.8427258e-01, 0.0000000e+00,\n",
              "       0.0000000e+00, 9.9253871e-02, 0.0000000e+00, 4.1516550e-02,\n",
              "       0.0000000e+00, 0.0000000e+00, 0.0000000e+00, 1.5560092e-02,\n",
              "       3.1167498e-01, 0.0000000e+00, 0.0000000e+00, 0.0000000e+00,\n",
              "       0.0000000e+00, 0.0000000e+00, 0.0000000e+00, 0.0000000e+00,\n",
              "       5.1089823e-03, 5.5238046e-02, 0.0000000e+00, 0.0000000e+00,\n",
              "       0.0000000e+00, 3.6274316e-04, 0.0000000e+00, 4.5045289e-01,\n",
              "       3.1928746e-03, 1.1864839e-03, 0.0000000e+00, 0.0000000e+00,\n",
              "       0.0000000e+00, 0.0000000e+00, 8.9729857e-01, 0.0000000e+00,\n",
              "       0.0000000e+00, 0.0000000e+00, 0.0000000e+00, 0.0000000e+00,\n",
              "       0.0000000e+00, 0.0000000e+00, 0.0000000e+00, 1.8667938e-01,\n",
              "       0.0000000e+00, 0.0000000e+00, 0.0000000e+00, 0.0000000e+00,\n",
              "       0.0000000e+00, 0.0000000e+00, 0.0000000e+00, 2.1236176e+00,\n",
              "       0.0000000e+00, 0.0000000e+00, 0.0000000e+00, 5.0088264e-02,\n",
              "       1.7126834e-01, 0.0000000e+00, 1.6422987e-03, 0.0000000e+00,\n",
              "       0.0000000e+00, 2.7218368e-05, 1.3044833e-01, 0.0000000e+00,\n",
              "       4.3968084e-01, 0.0000000e+00, 0.0000000e+00, 0.0000000e+00,\n",
              "       0.0000000e+00, 0.0000000e+00, 0.0000000e+00, 0.0000000e+00,\n",
              "       0.0000000e+00, 0.0000000e+00, 6.2933867e-03, 0.0000000e+00,\n",
              "       0.0000000e+00, 0.0000000e+00, 8.0621848e-04, 3.5109263e-02,\n",
              "       0.0000000e+00, 1.1656767e-03, 3.4344476e-02, 0.0000000e+00,\n",
              "       0.0000000e+00, 0.0000000e+00, 1.3188063e-03, 0.0000000e+00,\n",
              "       9.9134082e-01, 0.0000000e+00, 0.0000000e+00, 0.0000000e+00,\n",
              "       3.6864601e-02, 0.0000000e+00, 0.0000000e+00, 0.0000000e+00,\n",
              "       0.0000000e+00, 0.0000000e+00, 0.0000000e+00, 0.0000000e+00,\n",
              "       0.0000000e+00, 4.1706590e-03, 0.0000000e+00, 0.0000000e+00,\n",
              "       0.0000000e+00, 2.7121001e-01, 0.0000000e+00, 2.6921839e-02,\n",
              "       1.8316528e-02, 0.0000000e+00, 0.0000000e+00, 0.0000000e+00,\n",
              "       0.0000000e+00, 0.0000000e+00, 0.0000000e+00, 2.9722869e-02,\n",
              "       0.0000000e+00, 0.0000000e+00, 2.9249582e-01, 0.0000000e+00,\n",
              "       0.0000000e+00, 0.0000000e+00, 0.0000000e+00, 0.0000000e+00,\n",
              "       0.0000000e+00, 0.0000000e+00, 3.1513286e-01, 0.0000000e+00,\n",
              "       3.3899844e-01, 1.7557759e-05, 0.0000000e+00, 0.0000000e+00,\n",
              "       0.0000000e+00, 0.0000000e+00, 0.0000000e+00, 0.0000000e+00,\n",
              "       0.0000000e+00, 0.0000000e+00, 1.1947155e-03, 0.0000000e+00,\n",
              "       0.0000000e+00, 1.7706640e-02, 0.0000000e+00, 0.0000000e+00,\n",
              "       0.0000000e+00, 2.8779993e-02, 0.0000000e+00, 0.0000000e+00,\n",
              "       0.0000000e+00, 0.0000000e+00, 5.5777699e-02, 5.7377067e-05,\n",
              "       0.0000000e+00, 4.3981299e-02, 0.0000000e+00, 1.1117919e-04,\n",
              "       0.0000000e+00, 0.0000000e+00, 0.0000000e+00, 0.0000000e+00,\n",
              "       0.0000000e+00, 1.2305755e-01, 0.0000000e+00, 0.0000000e+00,\n",
              "       0.0000000e+00, 0.0000000e+00, 1.3400514e-02, 0.0000000e+00,\n",
              "       1.0768189e-03, 0.0000000e+00, 0.0000000e+00, 0.0000000e+00,\n",
              "       0.0000000e+00, 0.0000000e+00, 6.0891304e-02, 0.0000000e+00,\n",
              "       8.7896958e-03, 3.4317558e+00, 0.0000000e+00, 0.0000000e+00,\n",
              "       4.6180226e-03, 0.0000000e+00, 0.0000000e+00, 0.0000000e+00,\n",
              "       0.0000000e+00, 0.0000000e+00, 0.0000000e+00, 4.6563447e-02,\n",
              "       0.0000000e+00, 0.0000000e+00, 0.0000000e+00, 0.0000000e+00,\n",
              "       0.0000000e+00, 0.0000000e+00, 0.0000000e+00, 0.0000000e+00,\n",
              "       0.0000000e+00, 0.0000000e+00, 0.0000000e+00, 5.0605007e-04,\n",
              "       7.6061167e-02, 0.0000000e+00, 0.0000000e+00, 0.0000000e+00,\n",
              "       0.0000000e+00, 5.1920170e-01, 0.0000000e+00, 0.0000000e+00,\n",
              "       0.0000000e+00, 0.0000000e+00, 2.0500174e-01, 0.0000000e+00,\n",
              "       0.0000000e+00, 1.0247952e-03, 0.0000000e+00, 0.0000000e+00,\n",
              "       5.5551469e-02, 0.0000000e+00, 4.3004605e-01, 0.0000000e+00,\n",
              "       0.0000000e+00, 0.0000000e+00, 7.6874264e-02, 0.0000000e+00,\n",
              "       0.0000000e+00, 0.0000000e+00, 0.0000000e+00, 1.0745671e-02,\n",
              "       0.0000000e+00, 6.3589518e-03, 1.5398647e-02, 0.0000000e+00,\n",
              "       0.0000000e+00, 0.0000000e+00, 0.0000000e+00, 0.0000000e+00,\n",
              "       3.9047521e-01, 0.0000000e+00, 9.2554581e-01, 1.7711683e-03,\n",
              "       1.1562848e-02, 0.0000000e+00, 4.1695818e-02, 0.0000000e+00,\n",
              "       0.0000000e+00, 0.0000000e+00, 2.3742284e-01, 5.6652911e-03],\n",
              "      dtype=float32)>"
            ]
          },
          "metadata": {
            "tags": []
          },
          "execution_count": 47
        }
      ]
    },
    {
      "cell_type": "code",
      "metadata": {
        "id": "Pf1n0i2mdNlU",
        "outputId": "e0a85639-0ecc-4b89-8562-9768caf864ad",
        "colab": {
          "base_uri": "https://localhost:8080/"
        }
      },
      "source": [
        "from math import isclose\r\n",
        "a=predictions[0][:,:,3].mean()\r\n",
        "b=feature_batch_average[0][3].numpy()\r\n",
        "isclose(a, b, rel_tol=1e-7)"
      ],
      "execution_count": 75,
      "outputs": [
        {
          "output_type": "execute_result",
          "data": {
            "text/plain": [
              "True"
            ]
          },
          "metadata": {
            "tags": []
          },
          "execution_count": 75
        }
      ]
    },
    {
      "cell_type": "code",
      "metadata": {
        "id": "ctN7LhzY9I3n"
      },
      "source": [
        "# Make predictions\n",
        "predictions = loaded_model.predict(tmp_test_batches)\n",
        "# from (1121,1) to (1121,); ie.: ndim = 2 to ndim = 1\n",
        "predictions = predictions.reshape(-1)"
      ],
      "execution_count": null,
      "outputs": []
    },
    {
      "cell_type": "code",
      "metadata": {
        "id": "NkoSrJyh9jtR",
        "colab": {
          "base_uri": "https://localhost:8080/"
        },
        "outputId": "60b0586b-537d-4763-8fc1-85965615bfdf"
      },
      "source": [
        "tmp_test_batches = test.map(lambda image, gamma, filename: (filename, gamma))\n",
        "lst = [(filename.numpy().decode('utf-8'), gamma.numpy()) for filename, gamma in tmp_test_batches]\n",
        "lst2 = [(e[0], e[1], p) for e, p in zip(lst, predictions)]\n",
        "\n",
        "# armar un pandas dataframe con el test set completo\n",
        "df = pd.DataFrame(lst2, columns=['filename', 'actual gamma', 'predicted gamma'])\n",
        "dir = os.path.join(ARG_DATASET_DIR, \"predictions\")\n",
        "predictions_file_path = '{}/predicted_gamma_{}.{}.csv'.format(dir, ARG_MODEL_NAME, ARG_PART)\n",
        "df.to_csv(predictions_file_path, index=False)\n",
        "print(f'Predictions saved to {predictions_file_path}.')"
      ],
      "execution_count": null,
      "outputs": [
        {
          "output_type": "stream",
          "text": [
            "Predictions saved to /content/drive/My Drive/Healthcare/Radioterapia/data/ciolaplata/predictions/predicted_gamma_1610755621.validation.csv.\n"
          ],
          "name": "stdout"
        }
      ]
    },
    {
      "cell_type": "code",
      "metadata": {
        "id": "1Zey_ms0PZK4",
        "colab": {
          "base_uri": "https://localhost:8080/"
        },
        "outputId": "6b036f1c-a8fa-4e07-89b2-e12eb8457f5b"
      },
      "source": [
        "drive.flush_and_unmount()\n",
        "print('All changes made in this colab session should now be visible in Drive.')"
      ],
      "execution_count": null,
      "outputs": [
        {
          "output_type": "stream",
          "text": [
            "All changes made in this colab session should now be visible in Drive.\n"
          ],
          "name": "stdout"
        }
      ]
    }
  ]
}