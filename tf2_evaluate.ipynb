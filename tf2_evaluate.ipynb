{
  "nbformat": 4,
  "nbformat_minor": 0,
  "metadata": {
    "colab": {
      "name": "tf2_evaluate",
      "provenance": [],
      "collapsed_sections": [],
      "toc_visible": true,
      "authorship_tag": "ABX9TyMaePLl3oKvEAm3QK+tIn4/",
      "include_colab_link": true
    },
    "kernelspec": {
      "name": "python3",
      "display_name": "Python 3"
    }
  },
  "cells": [
    {
      "cell_type": "markdown",
      "metadata": {
        "id": "view-in-github",
        "colab_type": "text"
      },
      "source": [
        "<a href=\"https://colab.research.google.com/github/pablojrios/fluence_maps/blob/master/tf2_evaluate.ipynb\" target=\"_parent\"><img src=\"https://colab.research.google.com/assets/colab-badge.svg\" alt=\"Open In Colab\"/></a>"
      ]
    },
    {
      "cell_type": "markdown",
      "metadata": {
        "id": "-n_PAVFGnZDx"
      },
      "source": [
        "# Compute predictions on a TF dataset using an stored .h5 model"
      ]
    },
    {
      "cell_type": "code",
      "metadata": {
        "id": "A85nWqMEnKPB",
        "colab": {
          "base_uri": "https://localhost:8080/"
        },
        "outputId": "116644a2-c7c6-4760-ad23-1fb4efaea13a"
      },
      "source": [
        "#%cd /content/drive/My\\ Drive/Healthcare/Radioterapia/data/ciolaplata\n",
        "#!unrar x /content/drive/My\\ Drive/Healthcare/Radioterapia/Mapas\\ CIO\\ La\\ Plata/Mapas\\ Calculados/2019.rar\n",
        "#!ls -l 2015/*dcm | wc -l\n",
        "\n",
        "import os\n",
        "\n",
        "%cd -q '/content'\n",
        "if os.path.exists('fluence_maps'):\n",
        "  !rm -fr fluence_maps\n",
        "\n",
        "GIT_USERNAME = \"pablojrios\"\n",
        "GIT_TOKEN = \"1d88a0b85d2b00a03796e4d8b7e5f7b249b12f9b\"\n",
        "!git clone -s https://{GIT_TOKEN}@github.com/{GIT_USERNAME}/fluence_maps.git"
      ],
      "execution_count": 1,
      "outputs": [
        {
          "output_type": "stream",
          "text": [
            "Cloning into 'fluence_maps'...\n",
            "remote: Enumerating objects: 252, done.\u001b[K\n",
            "remote: Counting objects: 100% (252/252), done.\u001b[K\n",
            "remote: Compressing objects: 100% (212/212), done.\u001b[K\n",
            "remote: Total 252 (delta 144), reused 95 (delta 39), pack-reused 0\n",
            "Receiving objects: 100% (252/252), 1.55 MiB | 21.73 MiB/s, done.\n",
            "Resolving deltas: 100% (144/144), done.\n"
          ],
          "name": "stdout"
        }
      ]
    },
    {
      "cell_type": "code",
      "metadata": {
        "id": "4LvLPLr5n_yJ",
        "colab": {
          "base_uri": "https://localhost:8080/"
        },
        "outputId": "872726f3-d9e2-4ba2-c4b5-e24a02d0a42c"
      },
      "source": [
        "import numpy as np\n",
        "import tensorflow as tf\n",
        "%cd '/content/fluence_maps'\n",
        "from util.dataset import _tfrecord_dataset_type_from_folder, _parse_jpeg_image_function\n",
        "from util.preprocess import rescale_0_to_1\n",
        "import os\n",
        "import pandas as pd"
      ],
      "execution_count": 2,
      "outputs": [
        {
          "output_type": "stream",
          "text": [
            "/content/fluence_maps\n"
          ],
          "name": "stdout"
        }
      ]
    },
    {
      "cell_type": "code",
      "metadata": {
        "id": "LN_LGyd6pWeZ",
        "colab": {
          "base_uri": "https://localhost:8080/"
        },
        "outputId": "f525e56b-da96-4d0b-eb17-787017d03bb8"
      },
      "source": [
        "print('Tensorflow version = {}'.format(tf.__version__))\n",
        "print('Executing eagerly = {}'.format(tf.executing_eagerly()))"
      ],
      "execution_count": 3,
      "outputs": [
        {
          "output_type": "stream",
          "text": [
            "Tensorflow version = 2.4.0\n",
            "Executing eagerly = True\n"
          ],
          "name": "stdout"
        }
      ]
    },
    {
      "cell_type": "code",
      "metadata": {
        "id": "pzL176Gmq_KA",
        "colab": {
          "base_uri": "https://localhost:8080/"
        },
        "outputId": "2b2054fa-787a-4537-f4fa-df9b0ec58c68"
      },
      "source": [
        "from google.colab import drive\n",
        "drive.mount('/content/drive')"
      ],
      "execution_count": 4,
      "outputs": [
        {
          "output_type": "stream",
          "text": [
            "Mounted at /content/drive\n"
          ],
          "name": "stdout"
        }
      ]
    },
    {
      "cell_type": "code",
      "metadata": {
        "colab": {
          "base_uri": "https://localhost:8080/"
        },
        "id": "doeibFQqsoHJ",
        "outputId": "1b1dd1c8-95b9-4bd8-d32d-e4ff0b0089a3"
      },
      "source": [
        "!ls -l '/content/drive/My Drive/Healthcare/Radioterapia/data/ciolaplata/models'"
      ],
      "execution_count": 5,
      "outputs": [
        {
          "output_type": "stream",
          "text": [
            "total 845867\n",
            "-rw------- 1 root root 132221552 Jan 16 19:45 1610826316.h5\n",
            "-rw------- 1 root root 156500040 Jan 16 20:13 1610828018.h5\n",
            "-rw------- 1 root root 156500040 Jan 16 20:53 1610830410.h5\n",
            "-rw------- 1 root root 132221552 Jan 16 21:10 1610831434.h5\n",
            "-rw------- 1 root root 132221552 Jan 17 02:08 1610849307.h5\n",
            "-rw------- 1 root root 156500040 Jan 17 18:09 1610906968.h5\n"
          ],
          "name": "stdout"
        }
      ]
    },
    {
      "cell_type": "code",
      "metadata": {
        "id": "eWlKtT6Kpbsr"
      },
      "source": [
        "#============================DEFINE YOUR ARGUMENTS==============================\n",
        "# base data directory\n",
        "ARG_DATASET_DIR='/content/drive/My Drive/Healthcare/Radioterapia/data/ciolaplata'\n",
        "# folder under ARG_DATASET_DIR path.\n",
        "ARG_TFDATASET_FOLDER='tfds.2019.localnorm.ovs95x8.0'\n",
        "ARG_MODEL_NAME = '1610906968'\n",
        "# 'train', 'validation', 'test' \n",
        "ARG_PART = 'train'\n",
        "ARG_TRANSFORM_GAMMA=False"
      ],
      "execution_count": 6,
      "outputs": []
    },
    {
      "cell_type": "code",
      "metadata": {
        "id": "K2-IdOEGqmU1",
        "colab": {
          "base_uri": "https://localhost:8080/"
        },
        "outputId": "1f387eec-0ad2-4018-93b1-e406bcc03265"
      },
      "source": [
        "tfdataset_dir = os.path.join(ARG_DATASET_DIR, ARG_TFDATASET_FOLDER)\n",
        "raw_test = _tfrecord_dataset_type_from_folder(tfdataset_dir, ARG_PART)\n",
        "print(raw_test)"
      ],
      "execution_count": 7,
      "outputs": [
        {
          "output_type": "stream",
          "text": [
            "<TFRecordDatasetV2 shapes: (), types: tf.string>\n"
          ],
          "name": "stdout"
        }
      ]
    },
    {
      "cell_type": "code",
      "metadata": {
        "id": "tfTOOGlJrYIr",
        "colab": {
          "base_uri": "https://localhost:8080/"
        },
        "outputId": "ac315d07-aad5-42cf-98df-943201cd5a4c"
      },
      "source": [
        "# Apply this function to each item in the dataset using the map method:\n",
        "num_workers = 8\n",
        "IMG_SIZE = 256\n",
        "normalization_fn = rescale_0_to_1\n",
        "test = raw_test.map(lambda e: _parse_jpeg_image_function(e, IMG_SIZE, normalization_fn, transform_gamma=ARG_TRANSFORM_GAMMA), num_parallel_calls=num_workers)\n",
        "print(test)"
      ],
      "execution_count": 8,
      "outputs": [
        {
          "output_type": "stream",
          "text": [
            "<ParallelMapDataset shapes: ((256, 256, 3), (), ()), types: (tf.float32, tf.float32, tf.string)>\n"
          ],
          "name": "stdout"
        }
      ]
    },
    {
      "cell_type": "code",
      "metadata": {
        "id": "3yG0Vf93rmOw",
        "colab": {
          "base_uri": "https://localhost:8080/"
        },
        "outputId": "cf6f3bf1-6790-45a0-9763-86b67e335ea2"
      },
      "source": [
        "gamma_values = test.map(lambda image, gamma, filename: gamma)\n",
        "gamma_values = np.array(list(gamma_values.as_numpy_iterator()))\n",
        "BATCH_SIZE = 32 # mae puede variar según batch size.\n",
        "test_batches = test.batch(BATCH_SIZE)\n",
        "print(test_batches)"
      ],
      "execution_count": 9,
      "outputs": [
        {
          "output_type": "stream",
          "text": [
            "<BatchDataset shapes: ((None, 256, 256, 3), (None,), (None,)), types: (tf.float32, tf.float32, tf.string)>\n"
          ],
          "name": "stdout"
        }
      ]
    },
    {
      "cell_type": "code",
      "metadata": {
        "id": "ug89pURgI1I_",
        "colab": {
          "base_uri": "https://localhost:8080/"
        },
        "outputId": "275f597a-72c7-48e9-8ca2-997c6000aa60"
      },
      "source": [
        "gamma_values"
      ],
      "execution_count": 10,
      "outputs": [
        {
          "output_type": "execute_result",
          "data": {
            "text/plain": [
              "array([96.3577 , 99.33116, 99.80857, ..., 93.3324 , 94.653  , 93.0731 ],\n",
              "      dtype=float32)"
            ]
          },
          "metadata": {
            "tags": []
          },
          "execution_count": 10
        }
      ]
    },
    {
      "cell_type": "code",
      "metadata": {
        "id": "tjrt80mNr0a4",
        "colab": {
          "base_uri": "https://localhost:8080/"
        },
        "outputId": "224b33c2-df05-40d4-ddf7-fdd72f620f94"
      },
      "source": [
        "# load model\n",
        "dir = os.path.join(ARG_DATASET_DIR, \"models\")\n",
        "saved_model_dir = '{}/{}.h5'.format(dir, ARG_MODEL_NAME)\n",
        "print(f'Loading model {saved_model_dir}...')\n",
        "loaded_model = tf.keras.models.load_model(saved_model_dir)"
      ],
      "execution_count": 11,
      "outputs": [
        {
          "output_type": "stream",
          "text": [
            "Loading model /content/drive/My Drive/Healthcare/Radioterapia/data/ciolaplata/models/1610906968.h5...\n"
          ],
          "name": "stdout"
        }
      ]
    },
    {
      "cell_type": "code",
      "metadata": {
        "id": "lkz2ZGMDRNgC",
        "colab": {
          "base_uri": "https://localhost:8080/"
        },
        "outputId": "bc0468f4-e282-4c88-a2bb-eebf86117d96"
      },
      "source": [
        "loaded_model.summary()"
      ],
      "execution_count": 12,
      "outputs": [
        {
          "output_type": "stream",
          "text": [
            "Model: \"sequential\"\n",
            "_________________________________________________________________\n",
            "Layer (type)                 Output Shape              Param #   \n",
            "=================================================================\n",
            "vgg16 (Functional)           (None, 8, 8, 512)         14714688  \n",
            "_________________________________________________________________\n",
            "global_average_pooling2d (Gl (None, 512)               0         \n",
            "_________________________________________________________________\n",
            "dense (Dense)                (None, 512)               262656    \n",
            "_________________________________________________________________\n",
            "dense_1 (Dense)              (None, 1)                 513       \n",
            "=================================================================\n",
            "Total params: 14,977,857\n",
            "Trainable params: 12,062,209\n",
            "Non-trainable params: 2,915,648\n",
            "_________________________________________________________________\n"
          ],
          "name": "stdout"
        }
      ]
    },
    {
      "cell_type": "code",
      "metadata": {
        "id": "ZEaSI7qj86Um",
        "colab": {
          "base_uri": "https://localhost:8080/"
        },
        "outputId": "a8e1752e-332f-4572-e72f-8f0c77c3245a"
      },
      "source": [
        "# Evaluate dataset with the loaded model to calculate loss (mae) because\n",
        "# metric value could differ from the one reported during training.\n",
        "tmp_test_batches = test_batches.map(lambda image, gamma, filename: (image, gamma))\n",
        "print(tmp_test_batches)\n",
        "loss, mse = loaded_model.evaluate(tmp_test_batches, workers=num_workers, verbose=0)\n",
        "print('\\n\\nLoaded model, test loss: {:5.4f}'.format(loss))\n",
        "print('Loaded model, test mse: {:5.4f}'.format(mse))"
      ],
      "execution_count": 13,
      "outputs": [
        {
          "output_type": "stream",
          "text": [
            "<MapDataset shapes: ((None, 256, 256, 3), (None,)), types: (tf.float32, tf.float32)>\n",
            "\n",
            "\n",
            "Loaded model, test loss: 0.4885\n",
            "Loaded model, test mse: 0.5178\n"
          ],
          "name": "stdout"
        }
      ]
    },
    {
      "cell_type": "code",
      "metadata": {
        "id": "NwsDXo2sUvT_",
        "colab": {
          "base_uri": "https://localhost:8080/"
        },
        "outputId": "8515861d-a971-41b2-f76c-2b2834dd898b"
      },
      "source": [
        "# For VGG16 only\r\n",
        "#inputs=loaded_model.get_layer(\"vgg16\").input\r\n",
        "#outputs=loaded_model.get_layer(\"vgg16\").output\r\n",
        "#cnn_part=tf.keras.models.Model(inputs, outputs)\r\n",
        "#cnn_part.summary()\r\n",
        "#predictions = cnn_part.predict(tmp_test_batches)"
      ],
      "execution_count": 14,
      "outputs": [
        {
          "output_type": "stream",
          "text": [
            "Model: \"model\"\n",
            "_________________________________________________________________\n",
            "Layer (type)                 Output Shape              Param #   \n",
            "=================================================================\n",
            "input_1 (InputLayer)         [(None, 256, 256, 3)]     0         \n",
            "_________________________________________________________________\n",
            "block1_conv1 (Conv2D)        (None, 256, 256, 64)      1792      \n",
            "_________________________________________________________________\n",
            "block1_conv2 (Conv2D)        (None, 256, 256, 64)      36928     \n",
            "_________________________________________________________________\n",
            "block1_pool (MaxPooling2D)   (None, 128, 128, 64)      0         \n",
            "_________________________________________________________________\n",
            "block2_conv1 (Conv2D)        (None, 128, 128, 128)     73856     \n",
            "_________________________________________________________________\n",
            "block2_conv2 (Conv2D)        (None, 128, 128, 128)     147584    \n",
            "_________________________________________________________________\n",
            "block2_pool (MaxPooling2D)   (None, 64, 64, 128)       0         \n",
            "_________________________________________________________________\n",
            "block3_conv1 (Conv2D)        (None, 64, 64, 256)       295168    \n",
            "_________________________________________________________________\n",
            "block3_conv2 (Conv2D)        (None, 64, 64, 256)       590080    \n",
            "_________________________________________________________________\n",
            "block3_conv3 (Conv2D)        (None, 64, 64, 256)       590080    \n",
            "_________________________________________________________________\n",
            "block3_pool (MaxPooling2D)   (None, 32, 32, 256)       0         \n",
            "_________________________________________________________________\n",
            "block4_conv1 (Conv2D)        (None, 32, 32, 512)       1180160   \n",
            "_________________________________________________________________\n",
            "block4_conv2 (Conv2D)        (None, 32, 32, 512)       2359808   \n",
            "_________________________________________________________________\n",
            "block4_conv3 (Conv2D)        (None, 32, 32, 512)       2359808   \n",
            "_________________________________________________________________\n",
            "block4_pool (MaxPooling2D)   (None, 16, 16, 512)       0         \n",
            "_________________________________________________________________\n",
            "block5_conv1 (Conv2D)        (None, 16, 16, 512)       2359808   \n",
            "_________________________________________________________________\n",
            "block5_conv2 (Conv2D)        (None, 16, 16, 512)       2359808   \n",
            "_________________________________________________________________\n",
            "block5_conv3 (Conv2D)        (None, 16, 16, 512)       2359808   \n",
            "_________________________________________________________________\n",
            "block5_pool (MaxPooling2D)   (None, 8, 8, 512)         0         \n",
            "=================================================================\n",
            "Total params: 14,714,688\n",
            "Trainable params: 11,799,040\n",
            "Non-trainable params: 2,915,648\n",
            "_________________________________________________________________\n"
          ],
          "name": "stdout"
        }
      ]
    },
    {
      "cell_type": "code",
      "metadata": {
        "id": "5cYaneH7dHQk",
        "colab": {
          "base_uri": "https://localhost:8080/"
        },
        "outputId": "0115b6a6-2047-4683-ffdb-df995946a71b"
      },
      "source": [
        "# For VGG16 only\r\n",
        "#predictions[0][:,:,3]"
      ],
      "execution_count": 15,
      "outputs": [
        {
          "output_type": "execute_result",
          "data": {
            "text/plain": [
              "array([[0.31196553, 0.36073306, 0.36109102, 0.3347852 , 0.3657075 ,\n",
              "        0.37897533, 0.37125105, 0.34027943],\n",
              "       [0.2777101 , 0.33441287, 0.24188238, 0.01735653, 0.23871636,\n",
              "        0.35668796, 0.3561841 , 0.31457597],\n",
              "       [0.2777711 , 0.3210093 , 0.08035876, 0.        , 0.15479   ,\n",
              "        0.34747148, 0.35389912, 0.30943745],\n",
              "       [0.27800325, 0.2998556 , 0.        , 0.        , 0.09436014,\n",
              "        0.35097644, 0.35463405, 0.30961794],\n",
              "       [0.27790347, 0.29005685, 0.        , 0.        , 0.12613538,\n",
              "        0.35082242, 0.3541686 , 0.30961472],\n",
              "       [0.27813825, 0.31236264, 0.06818202, 0.        , 0.23630056,\n",
              "        0.35277843, 0.35292882, 0.30970085],\n",
              "       [0.2558931 , 0.29350126, 0.22169833, 0.13289385, 0.26399443,\n",
              "        0.31686944, 0.3085425 , 0.28057548],\n",
              "       [0.24316308, 0.24193086, 0.24892177, 0.25191736, 0.25363803,\n",
              "        0.24673128, 0.23854925, 0.23250261]], dtype=float32)"
            ]
          },
          "metadata": {
            "tags": []
          },
          "execution_count": 15
        }
      ]
    },
    {
      "cell_type": "code",
      "metadata": {
        "id": "e0hmP1_sZPyH",
        "colab": {
          "base_uri": "https://localhost:8080/"
        },
        "outputId": "0bebae1a-ff26-479e-8647-7a1079ec99dd"
      },
      "source": [
        "# For VGG16 only\r\n",
        "#global_average_layer = tf.keras.layers.GlobalAveragePooling2D()\r\n",
        "#feature_batch_average = global_average_layer(predictions)\r\n",
        "#feature_batch_average[0]"
      ],
      "execution_count": 16,
      "outputs": [
        {
          "output_type": "execute_result",
          "data": {
            "text/plain": [
              "<tf.Tensor: shape=(512,), dtype=float32, numpy=\n",
              "array([9.91073158e-03, 0.00000000e+00, 3.79420757e-01, 2.52264321e-01,\n",
              "       1.23403661e-01, 0.00000000e+00, 6.20641687e-04, 0.00000000e+00,\n",
              "       6.78711757e-03, 1.28019564e-02, 0.00000000e+00, 0.00000000e+00,\n",
              "       2.36113995e-01, 0.00000000e+00, 4.03580628e-03, 2.88030148e-01,\n",
              "       0.00000000e+00, 3.44557166e-01, 2.02771407e-02, 0.00000000e+00,\n",
              "       7.31099490e-03, 0.00000000e+00, 7.64280558e-03, 1.96990948e-02,\n",
              "       1.15046911e-02, 0.00000000e+00, 1.60866648e-01, 0.00000000e+00,\n",
              "       2.06571773e-01, 0.00000000e+00, 1.25366852e-01, 2.40212288e-02,\n",
              "       1.73449114e-01, 1.28949910e-01, 2.90632457e-01, 0.00000000e+00,\n",
              "       4.83654171e-01, 2.78702209e-04, 0.00000000e+00, 0.00000000e+00,\n",
              "       0.00000000e+00, 0.00000000e+00, 4.60051119e-01, 0.00000000e+00,\n",
              "       0.00000000e+00, 1.59314185e-01, 1.79431774e-03, 1.68199781e-02,\n",
              "       0.00000000e+00, 2.25453839e-01, 1.27722248e-02, 0.00000000e+00,\n",
              "       9.06848535e-03, 0.00000000e+00, 0.00000000e+00, 7.69074082e-01,\n",
              "       4.66378957e-01, 2.44636112e-03, 1.17111273e-01, 8.55231881e-02,\n",
              "       0.00000000e+00, 0.00000000e+00, 5.84739037e-02, 6.66100383e-02,\n",
              "       0.00000000e+00, 3.19414749e-03, 0.00000000e+00, 0.00000000e+00,\n",
              "       0.00000000e+00, 7.36560151e-02, 0.00000000e+00, 1.00645192e-01,\n",
              "       1.51884817e-02, 0.00000000e+00, 0.00000000e+00, 0.00000000e+00,\n",
              "       9.01144385e-01, 2.43269205e-02, 6.49958896e-03, 0.00000000e+00,\n",
              "       2.74932594e-03, 7.12599576e-01, 3.12210992e-02, 1.98210846e-03,\n",
              "       2.74223648e-03, 2.03994336e-04, 4.54176933e-01, 0.00000000e+00,\n",
              "       3.47221911e-01, 4.52802867e-01, 0.00000000e+00, 4.23026718e-02,\n",
              "       1.19607197e-04, 1.02917738e-01, 0.00000000e+00, 4.12186701e-03,\n",
              "       1.27010338e-03, 2.10095588e-02, 5.06490469e-03, 3.00370097e-01,\n",
              "       1.64520755e-01, 4.77532536e-01, 6.78566168e-04, 0.00000000e+00,\n",
              "       5.62011031e-03, 7.14068348e-03, 1.99086796e-02, 0.00000000e+00,\n",
              "       2.92104274e-01, 2.55425096e-01, 1.33998111e-01, 9.72527172e-03,\n",
              "       1.48629770e-04, 1.86060500e+00, 0.00000000e+00, 0.00000000e+00,\n",
              "       1.12743843e-02, 5.48705459e-01, 1.59302905e-01, 7.59267569e-01,\n",
              "       0.00000000e+00, 7.40370154e-03, 1.16630355e-02, 6.20634675e-01,\n",
              "       1.13199763e-01, 0.00000000e+00, 3.09783034e-04, 5.37374206e-02,\n",
              "       1.95088908e-02, 0.00000000e+00, 0.00000000e+00, 1.96092902e-03,\n",
              "       0.00000000e+00, 3.93781751e-01, 0.00000000e+00, 0.00000000e+00,\n",
              "       6.72798278e-03, 2.90381201e-02, 8.42133388e-02, 6.50940165e-02,\n",
              "       0.00000000e+00, 6.16864627e-03, 2.22888333e-03, 2.41948381e-01,\n",
              "       0.00000000e+00, 0.00000000e+00, 3.48360687e-01, 0.00000000e+00,\n",
              "       7.04405159e-02, 8.62594247e-02, 0.00000000e+00, 0.00000000e+00,\n",
              "       4.08425368e-02, 6.38847053e-03, 1.20637000e-01, 9.43126011e+00,\n",
              "       1.71518207e-01, 2.22930089e-02, 9.72896442e-03, 8.28707125e-05,\n",
              "       3.90281272e-03, 0.00000000e+00, 0.00000000e+00, 5.70435643e-01,\n",
              "       8.89491513e-02, 8.42902809e-03, 7.54806519e-01, 0.00000000e+00,\n",
              "       1.42103627e-01, 9.47567001e-02, 1.41176477e-03, 2.31228583e-02,\n",
              "       5.52426040e-01, 1.87422946e-01, 1.23490967e-01, 1.84387669e-01,\n",
              "       0.00000000e+00, 0.00000000e+00, 4.67483327e-03, 4.25626785e-01,\n",
              "       1.37003874e-02, 0.00000000e+00, 0.00000000e+00, 5.49046672e-06,\n",
              "       0.00000000e+00, 4.03148293e-01, 4.58177477e-01, 3.42532158e-01,\n",
              "       0.00000000e+00, 0.00000000e+00, 0.00000000e+00, 1.65124200e-02,\n",
              "       1.01240920e-02, 2.88642459e-02, 3.00165955e-02, 0.00000000e+00,\n",
              "       1.67512640e-01, 0.00000000e+00, 3.16975545e-03, 3.33164781e-01,\n",
              "       2.44868174e-02, 0.00000000e+00, 2.28933781e-01, 0.00000000e+00,\n",
              "       0.00000000e+00, 0.00000000e+00, 0.00000000e+00, 2.81072427e-02,\n",
              "       0.00000000e+00, 5.49639575e-04, 0.00000000e+00, 1.14832204e-02,\n",
              "       1.49463136e-02, 1.09408930e-01, 1.70972031e-02, 3.10799837e-01,\n",
              "       0.00000000e+00, 0.00000000e+00, 6.63158596e-02, 0.00000000e+00,\n",
              "       0.00000000e+00, 0.00000000e+00, 0.00000000e+00, 0.00000000e+00,\n",
              "       1.40978135e-02, 3.50744486e-01, 3.04923832e-01, 0.00000000e+00,\n",
              "       2.60747802e-02, 7.91096032e-01, 0.00000000e+00, 1.26056257e-03,\n",
              "       6.30505458e-02, 1.89606808e-02, 1.43374037e-03, 2.26531108e-03,\n",
              "       0.00000000e+00, 3.70216161e-01, 2.30236650e-02, 2.30338017e-04,\n",
              "       0.00000000e+00, 2.29327530e-01, 4.09503374e-03, 0.00000000e+00,\n",
              "       1.14484735e-01, 3.64979021e-02, 2.15805173e-01, 0.00000000e+00,\n",
              "       4.16758746e-01, 1.20062612e-01, 1.57990307e-01, 1.52523583e-02,\n",
              "       1.26881932e-05, 0.00000000e+00, 9.99187529e-01, 1.81769710e-02,\n",
              "       2.59178877e-01, 1.31491164e-04, 3.60978171e-02, 3.30292702e-01,\n",
              "       0.00000000e+00, 4.29396570e-01, 2.28508323e-01, 0.00000000e+00,\n",
              "       3.38182151e-01, 1.15653137e-02, 3.54997255e-02, 0.00000000e+00,\n",
              "       0.00000000e+00, 6.84919417e-01, 0.00000000e+00, 4.53468740e-01,\n",
              "       1.31976947e-01, 0.00000000e+00, 4.80156243e-02, 2.52128214e-01,\n",
              "       5.21853805e-01, 1.21312533e-02, 0.00000000e+00, 1.18817808e-02,\n",
              "       1.59197662e-05, 7.20706675e-03, 1.44370928e-01, 1.22779235e-01,\n",
              "       4.23211604e-02, 2.40770370e-01, 1.94845989e-03, 0.00000000e+00,\n",
              "       0.00000000e+00, 2.34407976e-01, 2.09526848e-02, 3.59840512e-01,\n",
              "       3.26114893e-01, 5.80032216e-03, 1.01738609e-02, 0.00000000e+00,\n",
              "       1.93545625e-01, 0.00000000e+00, 5.66129088e-01, 0.00000000e+00,\n",
              "       3.59552563e-04, 0.00000000e+00, 0.00000000e+00, 0.00000000e+00,\n",
              "       0.00000000e+00, 5.41939214e-03, 3.13410759e-02, 1.59829408e-01,\n",
              "       0.00000000e+00, 0.00000000e+00, 0.00000000e+00, 0.00000000e+00,\n",
              "       2.91702077e-02, 1.75363317e-01, 0.00000000e+00, 1.84133720e+00,\n",
              "       5.33063821e-02, 4.10986245e-02, 0.00000000e+00, 3.82080048e-01,\n",
              "       5.67037821e-01, 8.83594388e-04, 6.44632801e-02, 0.00000000e+00,\n",
              "       0.00000000e+00, 2.06607148e-01, 4.27498221e-01, 0.00000000e+00,\n",
              "       6.54982388e-01, 1.38726294e-01, 0.00000000e+00, 4.41307202e-06,\n",
              "       0.00000000e+00, 0.00000000e+00, 1.59453675e-01, 1.38222247e-01,\n",
              "       1.00861564e-02, 0.00000000e+00, 3.44878107e-01, 0.00000000e+00,\n",
              "       2.31518690e-02, 2.62961118e-03, 2.32810780e-01, 3.62921149e-01,\n",
              "       1.13173039e-04, 1.19196668e-01, 2.78131217e-01, 2.30803248e-02,\n",
              "       0.00000000e+00, 0.00000000e+00, 1.77142054e-01, 0.00000000e+00,\n",
              "       9.13516819e-01, 7.05529451e-02, 0.00000000e+00, 0.00000000e+00,\n",
              "       0.00000000e+00, 3.26343579e-03, 0.00000000e+00, 1.83661595e-01,\n",
              "       0.00000000e+00, 1.50907086e-02, 0.00000000e+00, 3.51771228e-02,\n",
              "       0.00000000e+00, 2.78390616e-01, 0.00000000e+00, 1.68720976e-01,\n",
              "       0.00000000e+00, 5.73018014e-01, 6.27048593e-03, 3.81186515e-01,\n",
              "       6.29273713e-01, 1.69737497e-04, 0.00000000e+00, 4.00485098e-02,\n",
              "       0.00000000e+00, 2.96436191e-01, 0.00000000e+00, 0.00000000e+00,\n",
              "       0.00000000e+00, 3.44039649e-01, 5.16071379e-01, 0.00000000e+00,\n",
              "       1.47293950e-03, 6.78859418e-04, 0.00000000e+00, 1.26668572e-01,\n",
              "       3.87903396e-03, 0.00000000e+00, 5.13647556e-01, 0.00000000e+00,\n",
              "       5.55333316e-01, 1.56900108e-01, 0.00000000e+00, 3.01328804e-02,\n",
              "       3.53355035e-02, 1.01250466e-02, 4.99207117e-02, 0.00000000e+00,\n",
              "       0.00000000e+00, 2.61881296e-02, 2.31989577e-01, 4.01047803e-02,\n",
              "       0.00000000e+00, 3.47012222e-01, 0.00000000e+00, 0.00000000e+00,\n",
              "       7.92810246e-02, 2.03631911e-03, 0.00000000e+00, 2.02446710e-02,\n",
              "       3.09475549e-02, 1.77116115e-02, 5.56609511e-01, 0.00000000e+00,\n",
              "       0.00000000e+00, 3.36955756e-01, 0.00000000e+00, 0.00000000e+00,\n",
              "       2.52310885e-04, 0.00000000e+00, 0.00000000e+00, 2.14027092e-02,\n",
              "       9.76401865e-02, 2.32267871e-01, 1.77918687e-01, 9.88245290e-03,\n",
              "       3.26012224e-02, 1.78375759e-03, 2.29084166e-04, 0.00000000e+00,\n",
              "       1.93062723e-01, 0.00000000e+00, 2.68635422e-01, 0.00000000e+00,\n",
              "       4.72388826e-02, 0.00000000e+00, 3.10634553e-01, 0.00000000e+00,\n",
              "       4.27864015e-01, 3.00049329e+00, 0.00000000e+00, 0.00000000e+00,\n",
              "       2.59393156e-01, 3.39718640e-01, 0.00000000e+00, 0.00000000e+00,\n",
              "       6.49226904e-02, 0.00000000e+00, 9.88493487e-02, 2.55137086e-01,\n",
              "       7.20292982e-03, 3.85364965e-02, 5.57730086e-02, 0.00000000e+00,\n",
              "       0.00000000e+00, 0.00000000e+00, 2.53597647e-01, 0.00000000e+00,\n",
              "       0.00000000e+00, 1.61015859e-03, 1.40383821e-02, 8.34610909e-02,\n",
              "       2.59637594e-01, 2.36341800e-03, 1.31316716e-04, 0.00000000e+00,\n",
              "       0.00000000e+00, 3.66709471e-01, 0.00000000e+00, 0.00000000e+00,\n",
              "       2.10686401e-01, 1.77850015e-05, 3.99121463e-01, 0.00000000e+00,\n",
              "       0.00000000e+00, 2.20656723e-01, 1.40533352e-03, 0.00000000e+00,\n",
              "       9.83816907e-02, 2.03753356e-04, 3.82611632e-01, 2.59639561e-01,\n",
              "       0.00000000e+00, 0.00000000e+00, 4.86186117e-01, 0.00000000e+00,\n",
              "       1.62541851e-01, 0.00000000e+00, 1.59532931e-02, 3.08088243e-01,\n",
              "       1.14588011e-02, 9.36672762e-02, 1.48635224e-01, 1.72720015e-01,\n",
              "       4.74442095e-02, 1.96124986e-02, 9.81525034e-02, 4.57738973e-02,\n",
              "       6.62237704e-01, 0.00000000e+00, 7.39697635e-01, 2.44110316e-01,\n",
              "       3.91430467e-01, 1.04359768e-01, 2.06922889e-02, 1.54656455e-01,\n",
              "       0.00000000e+00, 2.29315599e-03, 6.18602991e-01, 6.85241893e-02],\n",
              "      dtype=float32)>"
            ]
          },
          "metadata": {
            "tags": []
          },
          "execution_count": 16
        }
      ]
    },
    {
      "cell_type": "code",
      "metadata": {
        "id": "Pf1n0i2mdNlU",
        "colab": {
          "base_uri": "https://localhost:8080/"
        },
        "outputId": "7c6e5b26-f6c5-49b3-9a4f-29c766ae1625"
      },
      "source": [
        "# For VGG16 only\r\n",
        "#from math import isclose\r\n",
        "#a=predictions[0][:,:,3].mean()\r\n",
        "#b=feature_batch_average[0][3].numpy()\r\n",
        "#isclose(a, b, rel_tol=1e-7)"
      ],
      "execution_count": 17,
      "outputs": [
        {
          "output_type": "execute_result",
          "data": {
            "text/plain": [
              "False"
            ]
          },
          "metadata": {
            "tags": []
          },
          "execution_count": 17
        }
      ]
    },
    {
      "cell_type": "code",
      "metadata": {
        "id": "ctN7LhzY9I3n"
      },
      "source": [
        "# Make predictions\n",
        "predictions = loaded_model.predict(tmp_test_batches)\n",
        "# from (1121,1) to (1121,); ie.: ndim = 2 to ndim = 1\n",
        "predictions = predictions.reshape(-1)"
      ],
      "execution_count": 18,
      "outputs": []
    },
    {
      "cell_type": "code",
      "metadata": {
        "id": "NkoSrJyh9jtR",
        "colab": {
          "base_uri": "https://localhost:8080/"
        },
        "outputId": "273b61a1-0d04-43dc-f7df-4859f55b3f0e"
      },
      "source": [
        "tmp_test_batches = test.map(lambda image, gamma, filename: (filename, gamma))\n",
        "lst = [(filename.numpy().decode('utf-8'), gamma.numpy()) for filename, gamma in tmp_test_batches]\n",
        "lst2 = [(e[0], e[1], p) for e, p in zip(lst, predictions)]\n",
        "\n",
        "# armar un pandas dataframe con el test set completo\n",
        "df = pd.DataFrame(lst2, columns=['filename', 'actual gamma', 'predicted gamma'])\n",
        "dir = os.path.join(ARG_DATASET_DIR, \"predictions\")\n",
        "predictions_file_path = '{}/predicted_gamma_{}.{}.csv'.format(dir, ARG_MODEL_NAME, ARG_PART)\n",
        "df.to_csv(predictions_file_path, index=False)\n",
        "print(f'Predictions saved to {predictions_file_path}.')"
      ],
      "execution_count": 19,
      "outputs": [
        {
          "output_type": "stream",
          "text": [
            "Predictions saved to /content/drive/My Drive/Healthcare/Radioterapia/data/ciolaplata/predictions/predicted_gamma_1610906968.train.csv.\n"
          ],
          "name": "stdout"
        }
      ]
    },
    {
      "cell_type": "code",
      "metadata": {
        "id": "1Zey_ms0PZK4",
        "colab": {
          "base_uri": "https://localhost:8080/"
        },
        "outputId": "7b3c22ef-63f8-4870-98e5-51433c849822"
      },
      "source": [
        "drive.flush_and_unmount()\n",
        "print('All changes made in this colab session should now be visible in Drive.')"
      ],
      "execution_count": 20,
      "outputs": [
        {
          "output_type": "stream",
          "text": [
            "All changes made in this colab session should now be visible in Drive.\n"
          ],
          "name": "stdout"
        }
      ]
    }
  ]
}