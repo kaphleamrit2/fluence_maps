{
  "nbformat": 4,
  "nbformat_minor": 0,
  "metadata": {
    "colab": {
      "name": "tf2_create_tfrecords.ipynb",
      "provenance": [],
      "include_colab_link": true
    },
    "kernelspec": {
      "display_name": "Python 3",
      "language": "python",
      "name": "python3"
    },
    "language_info": {
      "codemirror_mode": {
        "name": "ipython",
        "version": 3
      },
      "file_extension": ".py",
      "mimetype": "text/x-python",
      "name": "python",
      "nbconvert_exporter": "python",
      "pygments_lexer": "ipython3",
      "version": "3.7.5"
    }
  },
  "cells": [
    {
      "cell_type": "markdown",
      "metadata": {
        "id": "view-in-github",
        "colab_type": "text"
      },
      "source": [
        "<a href=\"https://colab.research.google.com/github/pablojrios/fluence_maps/blob/master/create_tfrecords/tf2_create_tfrecords.ipynb\" target=\"_parent\"><img src=\"https://colab.research.google.com/assets/colab-badge.svg\" alt=\"Open In Colab\"/></a>"
      ]
    },
    {
      "cell_type": "code",
      "metadata": {
        "id": "m6sGBgOzA6NY"
      },
      "source": [
        "def isGoogleColab():\n",
        "    # 'ipykernel.zmqshell' runs in our server\n",
        "    # 'google.colab._shell' runs in Google Colab\n",
        "    return get_ipython().__class__.__module__ == 'google.colab._shell'"
      ],
      "execution_count": 1,
      "outputs": []
    },
    {
      "cell_type": "code",
      "metadata": {
        "id": "rvsvrcRHb7b3"
      },
      "source": [
        "# import lodgepole.image_tools as lit doesn't work, the following is equivalent\n",
        "# from importlib.machinery import SourceFileLoader\n",
        "# somemodule = SourceFileLoader('lit', '/content/lodgepole/lodgepole/image_tools.py').load_module()\n",
        "import sys\n",
        "import time\n",
        "import tensorflow as tf\n",
        "\n",
        "from sklearn.utils import shuffle\n",
        "from os import path\n",
        "import os"
      ],
      "execution_count": 2,
      "outputs": []
    },
    {
      "cell_type": "code",
      "metadata": {
        "colab": {
          "base_uri": "https://localhost:8080/"
        },
        "id": "n_KVdeEFcCVd",
        "outputId": "e38295b2-3883-40e1-cf92-813c156f5de8"
      },
      "source": [
        "print('Tensorflow version = {}'.format(tf.__version__))\n",
        "print('Executing eagerly = {}'.format(tf.executing_eagerly()))"
      ],
      "execution_count": 3,
      "outputs": [
        {
          "output_type": "stream",
          "text": [
            "Tensorflow version = 2.4.1\n",
            "Executing eagerly = True\n"
          ],
          "name": "stdout"
        }
      ]
    },
    {
      "cell_type": "code",
      "metadata": {
        "colab": {
          "base_uri": "https://localhost:8080/"
        },
        "id": "xJx5w948nCcj",
        "outputId": "604a1fe7-f602-40d8-ecf0-7d973e4ccd4a"
      },
      "source": [
        "if isGoogleColab():\n",
        "    # if os.path.exists('lodgepole'):\n",
        "    #     !rm -fr lodgepole\n",
        "\n",
        "    # !git clone https://gitlab.com/brohrer/lodgepole.git\n",
        "    # !pip install -e lodgepole\n",
        "\n",
        "    %cd -q '/content'\n",
        "    if os.path.exists('fluence_maps'):\n",
        "        !rm -fr fluence_maps\n",
        "\n",
        "    ## Install required dependencies\n",
        "    !pip install -q pydicom\n",
        "\n",
        "    GIT_USERNAME = \"pablojrios\"\n",
        "    GIT_TOKEN = \"1d88a0b85d2b00a03796e4d8b7e5f7b249b12f9b\"\n",
        "    !git clone -s https://{GIT_TOKEN}@github.com/{GIT_USERNAME}/fluence_maps.git\n",
        "\n",
        "    from google.colab import drive\n",
        "    drive.mount('/content/drive')\n",
        "    \n",
        "    %cd -q '/content/fluence_maps/create_tfrecords'\n",
        "    \n",
        "    ARG_DATASET_DIR='/content/drive/My Drive/Healthcare/Radioterapia/data/ciolaplata'"
      ],
      "execution_count": 4,
      "outputs": [
        {
          "output_type": "stream",
          "text": [
            "Cloning into 'fluence_maps'...\n",
            "remote: Enumerating objects: 8, done.\u001b[K\n",
            "remote: Counting objects: 100% (8/8), done.\u001b[K\n",
            "remote: Compressing objects: 100% (8/8), done.\u001b[K\n",
            "remote: Total 288 (delta 0), reused 3 (delta 0), pack-reused 280\u001b[K\n",
            "Receiving objects: 100% (288/288), 2.02 MiB | 4.25 MiB/s, done.\n",
            "Resolving deltas: 100% (161/161), done.\n",
            "Drive already mounted at /content/drive; to attempt to forcibly remount, call drive.mount(\"/content/drive\", force_remount=True).\n"
          ],
          "name": "stdout"
        }
      ]
    },
    {
      "cell_type": "code",
      "metadata": {
        "id": "RNvX7kV3Bd9Q"
      },
      "source": [
        "from dataset_utils import _dataset_exists, _get_filenames_and_gamma_values, _convert_dataset\r\n",
        "from tf2_oversampling_dicom_files import do_oversampling"
      ],
      "execution_count": 5,
      "outputs": []
    },
    {
      "cell_type": "code",
      "metadata": {
        "id": "1wgXL1PXBhEt"
      },
      "source": [
        "# ===============================================DEFINE YOUR ARGUMENTS=================================================\n",
        "if not isGoogleColab():\n",
        "    ARG_DATASET_DIR='/hdd/data/radioterapia/ciolaplata'\n",
        "# The number of shards to split the dataset into\n",
        "ARG_NUM_SHARDS=4\n",
        "ARG_VALIDATION_SIZE=0.2\n",
        "# Seed for repeatability.\n",
        "ARG_RANDOM_SEED=23456\n",
        "# folder under ARG_DATASET_DIR path.\n",
        "ARG_TFDATASET_FOLDER=f'tfds.2019.localnorm.DS10%.{ARG_RANDOM_SEED}'\n",
        "# file with gamma values under ARG_DATASET_DIR path.\n",
        "# ARG_DICOM_AND_GAMMA_CSV='codex.2018-2019.csv' # mapas 3mm/3% con doseshift años 2018 y 2019\n",
        "# ARG_DICOM_AND_GAMMA_CSV = \"codex-2019-3mm3%-doseshift.csv\" # mapas 3mm/3% con doseshift año 2019\n",
        "# ARG_DICOM_AND_GAMMA_CSV = \"codex-2019-2mm2%-doseshift.csv\" # mapas 2mm/2% con doseshift año 2019\n",
        "# ARG_DICOM_AND_GAMMA_CSV = \"codex-2019-3mm3%-doseshift-TR40%.csv\" # mapas con ajuste tolerancia 40%\n",
        "# ARG_DICOM_AND_GAMMA_CSV = \"codex-2019-3mm3%-doseshift-40TH-localnorm.csv\" # mapas CODEX 3mm 3% 40TH Local Norm año 2019\n",
        "# ARG_DICOM_AND_GAMMA_CSV = \"codex-2019-3mm3%-doseshift-40TH-localnorm-nooutliers.csv\" # mapas CODEX 3mm 3% 40TH Local Norm año 2019 (remuevo outliers con gamma <= 65%, 6 en total)\n",
        "ARG_DICOM_AND_GAMMA_CSV = \"Codex.3mm3%Doseshift10%-localnorm-sinoutliers75.csv\"\n",
        "\n",
        "# ARG_IMAGE_TYPE: 0 - RGB; 1 - Grayscale: Convert color images to 3D grayscale images (channel is repeated 3 times);\n",
        "# 2 - Dicom\n",
        "ARG_IMAGE_TYPE=2\n",
        "# if False only training and validation partition are created.\n",
        "ARG_TEST_PARTITION=False\n",
        "# if True copy of images is performed.\n",
        "ARG_OVERSAMPLING=False\n",
        "ARG_OVERSAMPLING_GAMMA_THRESHOLD = 97.0 # percentage\n",
        "ARG_OVERSAMPLING_FACTOR = 3.0 # 1 is 100%"
      ],
      "execution_count": 6,
      "outputs": []
    },
    {
      "cell_type": "code",
      "metadata": {
        "colab": {
          "base_uri": "https://localhost:8080/"
        },
        "id": "OWE93zltBnR0",
        "outputId": "8487b549-fe17-43e1-a38d-d4a375e3b419"
      },
      "source": [
        "#=================================================CHECKS==============================================\n",
        "# Check if there is a dataset directory entered\n",
        "if ARG_DATASET_DIR == \"\":\n",
        "    raise ValueError('dataset_dir is empty. Please state a dataset_dir argument.')\n",
        "\n",
        "if ARG_TFDATASET_FOLDER == \"\":\n",
        "    raise ValueError('tfdataset_folder is empty. Please state a tfdataset_dir argument.')\n",
        "\n",
        "# If the TFRecord files already exist in the directory, then exit without creating the files again\n",
        "tfdataset_dir = path.join(ARG_DATASET_DIR, ARG_TFDATASET_FOLDER)\n",
        "if _dataset_exists(dataset_dir = tfdataset_dir, _NUM_SHARDS = ARG_NUM_SHARDS):\n",
        "    print('Dataset files already exist. Exiting without re-creating them.')\n",
        "    sys.exit()\n",
        "\n",
        "elif not tf.io.gfile.exists(tfdataset_dir):\n",
        "    tf.io.gfile.mkdir(tfdataset_dir)\n",
        "\n",
        "print(\"Reading images from {} and writing TF records to {}\".format(ARG_DATASET_DIR, tfdataset_dir))\n",
        "\n",
        "#==============================================================END OF CHECKS===================================================================\n",
        "# Get a pandas dataframe of image full filenames and gamma indeces values.\n",
        "df_dcm_out = _get_filenames_and_gamma_values(ARG_DICOM_AND_GAMMA_CSV, ARG_DATASET_DIR)\n",
        "\n",
        "# Find the number of validation examples we need\n",
        "num_validation = int(ARG_VALIDATION_SIZE * len(df_dcm_out))\n",
        "\n",
        "print(f'\\nNum. training images = {len(df_dcm_out) - num_validation}, num. validation images = {num_validation}')\n",
        "\n",
        "print(f'\\nrandom seed partition = {ARG_RANDOM_SEED}')\n",
        "# Divide the training datasets into train and test:\n",
        "df_dcm_out = shuffle(df_dcm_out, random_state=ARG_RANDOM_SEED)\n",
        "\n",
        "# convert to list because a dataframe column is of type pandas...Series\n",
        "if not ARG_TEST_PARTITION:\n",
        "    df_training = df_dcm_out[num_validation:]\n",
        "    df_validation = df_dcm_out[:num_validation]\n",
        "else:\n",
        "    df_training = df_dcm_out[num_validation*2:]\n",
        "    df_validation = df_dcm_out[:num_validation]\n",
        "    df_testing = df_dcm_out[num_validation:num_validation*2]\n",
        "\n",
        "# Hacer oversampling de mapas menores o iguales a un valor de gamma en df_training\n",
        "if ARG_OVERSAMPLING:\n",
        "    df_training = do_oversampling(df_training, ARG_OVERSAMPLING_GAMMA_THRESHOLD, ARG_OVERSAMPLING_FACTOR)\n",
        "\n",
        "# convert to list because a dataframe column is of type pandas...Series\n",
        "if not ARG_TEST_PARTITION:\n",
        "    training_filenames = df_training['dicom_full_filepath'].to_list()\n",
        "    validation_filenames = df_validation['dicom_full_filepath'].to_list()\n",
        "    training_gamma = df_training['gamma_index'].to_list()\n",
        "    validation_gamma = df_validation['gamma_index'].to_list()\n",
        "else:\n",
        "    training_filenames = df_training['dicom_full_filepath'].to_list()\n",
        "    validation_filenames = df_validation['dicom_full_filepath'].to_list()\n",
        "    testing_filenames = df_testing['dicom_full_filepath'].to_list()\n",
        "    training_gamma = df_training['gamma_index'].to_list()\n",
        "    validation_gamma = df_validation['gamma_index'].to_list()\n",
        "    testing_gamma = df_testing['gamma_index'].to_list()\n",
        "\n",
        "start = time.time()\n",
        "# First, convert the training and validation sets.\n",
        "_convert_dataset('train', training_filenames, training_gamma,\n",
        "                  dataset_dir = tfdataset_dir, _NUM_SHARDS = ARG_NUM_SHARDS, image_type = ARG_IMAGE_TYPE)\n",
        "\n",
        "if num_validation > 0:\n",
        "    _convert_dataset('validation', validation_filenames, validation_gamma,\n",
        "                      dataset_dir = tfdataset_dir, _NUM_SHARDS = ARG_NUM_SHARDS, image_type = ARG_IMAGE_TYPE)\n",
        "\n",
        "    if not not ARG_TEST_PARTITION:\n",
        "        _convert_dataset('test', testing_filenames, testing_gamma,\n",
        "                          dataset_dir = tfdataset_dir, _NUM_SHARDS = ARG_NUM_SHARDS, image_type = ARG_IMAGE_TYPE)\n",
        "\n",
        "end = time.time() - start\n",
        "print(f'\\nFinished converting the dataset in {end} seconds')"
      ],
      "execution_count": 7,
      "outputs": [
        {
          "output_type": "stream",
          "text": [
            "Reading images from /content/drive/My Drive/Healthcare/Radioterapia/data/ciolaplata and writing TF records to /content/drive/My Drive/Healthcare/Radioterapia/data/ciolaplata/tfds.2019.localnorm.DS10%.23456\n",
            "\n",
            "Num. training images = 972, num. validation images = 243\n",
            "\n",
            "random seed partition = 23456\n",
            ">> Image 972/972 with 3973 bytes in shard 3 converted\n",
            ">> Image 243/243 with 4613 bytes in shard 3 converted\n",
            "\n",
            "Finished converting the dataset in 598.7071886062622 seconds\n"
          ],
          "name": "stdout"
        }
      ]
    },
    {
      "cell_type": "code",
      "metadata": {
        "colab": {
          "base_uri": "https://localhost:8080/"
        },
        "id": "aPM_W5N2mJIH",
        "outputId": "b26130e5-c5fb-49bd-b191-2d4bcc785f76"
      },
      "source": [
        "if isGoogleColab():\n",
        "    drive.flush_and_unmount()\n",
        "    print('All changes made in this colab session should now be visible in Drive.')"
      ],
      "execution_count": 8,
      "outputs": [
        {
          "output_type": "stream",
          "text": [
            "All changes made in this colab session should now be visible in Drive.\n"
          ],
          "name": "stdout"
        }
      ]
    }
  ]
}