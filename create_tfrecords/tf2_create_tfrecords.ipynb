{
  "nbformat": 4,
  "nbformat_minor": 0,
  "metadata": {
    "colab": {
      "name": "tf2_create_tfrecords.ipynb",
      "provenance": [],
      "include_colab_link": true
    },
    "kernelspec": {
      "display_name": "Python 3",
      "language": "python",
      "name": "python3"
    },
    "language_info": {
      "codemirror_mode": {
        "name": "ipython",
        "version": 3
      },
      "file_extension": ".py",
      "mimetype": "text/x-python",
      "name": "python",
      "nbconvert_exporter": "python",
      "pygments_lexer": "ipython3",
      "version": "3.7.5"
    }
  },
  "cells": [
    {
      "cell_type": "markdown",
      "metadata": {
        "id": "view-in-github",
        "colab_type": "text"
      },
      "source": [
        "<a href=\"https://colab.research.google.com/github/pablojrios/fluence_maps/blob/master/create_tfrecords/tf2_create_tfrecords.ipynb\" target=\"_parent\"><img src=\"https://colab.research.google.com/assets/colab-badge.svg\" alt=\"Open In Colab\"/></a>"
      ]
    },
    {
      "cell_type": "code",
      "metadata": {
        "colab": {
          "base_uri": "https://localhost:8080/"
        },
        "id": "xJx5w948nCcj",
        "outputId": "ad48919a-8e54-420c-80a1-64e5a2ffa938"
      },
      "source": [
        "import os\n",
        "\n",
        "if os.path.exists('lodgepole'):\n",
        "  !rm -fr lodgepole\n",
        "\n",
        "!git clone https://gitlab.com/brohrer/lodgepole.git\n",
        "!pip install -e lodgepole\n",
        "\n",
        "%cd -q '/content'\n",
        "if os.path.exists('fluence_maps'):\n",
        "  !rm -fr fluence_maps\n",
        "\n",
        "## Install required dependencies\n",
        "!pip install -q pydicom\n",
        "\n",
        "GIT_USERNAME = \"pablojrios\"\n",
        "GIT_TOKEN = \"1d88a0b85d2b00a03796e4d8b7e5f7b249b12f9b\"\n",
        "!git clone -s https://{GIT_TOKEN}@github.com/{GIT_USERNAME}/fluence_maps.git"
      ],
      "execution_count": 8,
      "outputs": [
        {
          "output_type": "stream",
          "text": [
            "Cloning into 'lodgepole'...\n",
            "remote: Enumerating objects: 8, done.\u001b[K\n",
            "remote: Counting objects: 100% (8/8), done.\u001b[K\n",
            "remote: Compressing objects: 100% (8/8), done.\u001b[K\n",
            "remote: Total 49 (delta 1), reused 0 (delta 0), pack-reused 41\u001b[K\n",
            "Unpacking objects: 100% (49/49), done.\n",
            "Obtaining file:///content/fluence_maps/create_tfrecords/lodgepole\n",
            "Requirement already satisfied: matplotlib in /usr/local/lib/python3.6/dist-packages (from lodgepole==3) (3.2.2)\n",
            "Requirement already satisfied: numpy in /usr/local/lib/python3.6/dist-packages (from lodgepole==3) (1.19.4)\n",
            "Requirement already satisfied: pyparsing!=2.0.4,!=2.1.2,!=2.1.6,>=2.0.1 in /usr/local/lib/python3.6/dist-packages (from matplotlib->lodgepole==3) (2.4.7)\n",
            "Requirement already satisfied: python-dateutil>=2.1 in /usr/local/lib/python3.6/dist-packages (from matplotlib->lodgepole==3) (2.8.1)\n",
            "Requirement already satisfied: kiwisolver>=1.0.1 in /usr/local/lib/python3.6/dist-packages (from matplotlib->lodgepole==3) (1.3.1)\n",
            "Requirement already satisfied: cycler>=0.10 in /usr/local/lib/python3.6/dist-packages (from matplotlib->lodgepole==3) (0.10.0)\n",
            "Requirement already satisfied: six>=1.5 in /usr/local/lib/python3.6/dist-packages (from python-dateutil>=2.1->matplotlib->lodgepole==3) (1.15.0)\n",
            "Installing collected packages: lodgepole\n",
            "  Found existing installation: lodgepole 3\n",
            "    Can't uninstall 'lodgepole'. No files were found to uninstall.\n",
            "  Running setup.py develop for lodgepole\n",
            "Successfully installed lodgepole\n",
            "Cloning into 'fluence_maps'...\n",
            "remote: Enumerating objects: 176, done.\u001b[K\n",
            "remote: Counting objects: 100% (176/176), done.\u001b[K\n",
            "remote: Compressing objects: 100% (149/149), done.\u001b[K\n",
            "remote: Total 176 (delta 96), reused 72 (delta 26), pack-reused 0\u001b[K\n",
            "Receiving objects: 100% (176/176), 1.51 MiB | 24.22 MiB/s, done.\n",
            "Resolving deltas: 100% (96/96), done.\n"
          ],
          "name": "stdout"
        }
      ]
    },
    {
      "cell_type": "code",
      "metadata": {
        "id": "rvsvrcRHb7b3"
      },
      "source": [
        "# import lodgepole.image_tools as lit doesn't work, the following is equivalent\n",
        "from importlib.machinery import SourceFileLoader\n",
        "somemodule = SourceFileLoader('lit', '/content/lodgepole/lodgepole/image_tools.py').load_module()\n",
        "import sys\n",
        "import time\n",
        "import tensorflow as tf\n",
        "\n",
        "%cd -q '/content/fluence_maps/create_tfrecords'\n",
        "from dataset_utils import _dataset_exists, _get_filenames_and_gamma_values, _convert_dataset\n",
        "from sklearn.utils import shuffle\n",
        "from os import path\n",
        "from tf2_oversampling_dicom_files import do_oversampling"
      ],
      "execution_count": 9,
      "outputs": []
    },
    {
      "cell_type": "code",
      "metadata": {
        "colab": {
          "base_uri": "https://localhost:8080/"
        },
        "id": "n_KVdeEFcCVd",
        "outputId": "e8a092ce-5656-49fa-8d11-186eb133afbb"
      },
      "source": [
        "print('Tensorflow version = {}'.format(tf.__version__))\n",
        "print('Executing eagerly = {}'.format(tf.executing_eagerly()))"
      ],
      "execution_count": 10,
      "outputs": [
        {
          "output_type": "stream",
          "text": [
            "Tensorflow version = 2.4.0\n",
            "Executing eagerly = True\n"
          ],
          "name": "stdout"
        }
      ]
    },
    {
      "cell_type": "code",
      "metadata": {
        "colab": {
          "base_uri": "https://localhost:8080/"
        },
        "id": "Yu1Bl_3BlCA6",
        "outputId": "dfd5276e-3854-413b-c88e-40339ed730b1"
      },
      "source": [
        "from google.colab import drive\n",
        "drive.mount('/content/drive')"
      ],
      "execution_count": 11,
      "outputs": [
        {
          "output_type": "stream",
          "text": [
            "Mounted at /content/drive\n"
          ],
          "name": "stdout"
        }
      ]
    },
    {
      "cell_type": "code",
      "metadata": {
        "id": "1wgXL1PXBhEt"
      },
      "source": [
        "# ===============================================DEFINE YOUR ARGUMENTS=================================================\n",
        "ARG_DATASET_DIR='/content/drive/My Drive/Healthcare/Radioterapia/data/ciolaplata'\n",
        "# The number of shards to split the dataset into\n",
        "ARG_NUM_SHARDS=4\n",
        "ARG_VALIDATION_SIZE=0.2\n",
        "# Seed for repeatability.\n",
        "ARG_RANDOM_SEED=113355\n",
        "# folder under ARG_DATASET_DIR path.\n",
        "ARG_TFDATASET_FOLDER='tfds.2019.localnorm'\n",
        "# file with gamma values under ARG_DATASET_DIR path.\n",
        "# ARG_DICOM_AND_GAMMA_CSV='codex.2018-2019.csv' # mapas 3mm/3% con doseshift años 2018 y 2019\n",
        "# ARG_DICOM_AND_GAMMA_CSV = \"codex-2019-3mm3%-doseshift.csv\" # mapas 3mm/3% con doseshift año 2019\n",
        "# ARG_DICOM_AND_GAMMA_CSV = \"codex-2019-2mm2%-doseshift.csv\" # mapas 2mm/2% con doseshift año 2019\n",
        "# ARG_DICOM_AND_GAMMA_CSV = \"codex-2019-3mm3%-doseshift-TR40%.csv\" # mapas con ajuste tolerancia 40%\n",
        "# ARG_DICOM_AND_GAMMA_CSV = \"codex-2019-3mm3%-doseshift-40TH-localnorm.csv\" # mapas CODEX 3mm 3% 40TH Local Norm año 2019\n",
        "ARG_DICOM_AND_GAMMA_CSV = \"codex-2019-3mm3%-doseshift-40TH-localnorm-nooutliers.csv\" # mapas CODEX 3mm 3% 40TH Local Norm año 2019 (remuevo outliers con gamma <= 65%, 6 en total)\n",
        "\n",
        "# ARG_IMAGE_TYPE: 0 - RGB; 1 - Grayscale: Convert color images to 3D grayscale images (channel is repeated 3 times);\n",
        "# 2 - Dicom\n",
        "ARG_IMAGE_TYPE=2\n",
        "# if False only training and validation partition are created.\n",
        "ARG_TEST_PARTITION=False\n",
        "# if True copy of images is performed.\n",
        "ARG_OVERSAMPLING=False\n",
        "ARG_OVERSAMPLING_GAMMA_THRESHOLD = 99.8 # percentage\n",
        "ARG_OVERSAMPLING_FACTOR = 0.9 # 1 is 100%"
      ],
      "execution_count": 12,
      "outputs": []
    },
    {
      "cell_type": "code",
      "metadata": {
        "colab": {
          "base_uri": "https://localhost:8080/"
        },
        "id": "OWE93zltBnR0",
        "outputId": "89fb7b1c-38d8-4fbe-8742-6f36e13bc607"
      },
      "source": [
        "#=================================================CHECKS==============================================\n",
        "# Check if there is a dataset directory entered\n",
        "if ARG_DATASET_DIR == \"\":\n",
        "    raise ValueError('dataset_dir is empty. Please state a dataset_dir argument.')\n",
        "\n",
        "if ARG_TFDATASET_FOLDER == \"\":\n",
        "    raise ValueError('tfdataset_folder is empty. Please state a tfdataset_dir argument.')\n",
        "\n",
        "# If the TFRecord files already exist in the directory, then exit without creating the files again\n",
        "tfdataset_dir = path.join(ARG_DATASET_DIR, ARG_TFDATASET_FOLDER)\n",
        "if _dataset_exists(dataset_dir = tfdataset_dir, _NUM_SHARDS = ARG_NUM_SHARDS):\n",
        "    print('Dataset files already exist. Exiting without re-creating them.')\n",
        "    sys.exit()\n",
        "\n",
        "elif not tf.io.gfile.exists(tfdataset_dir):\n",
        "    tf.io.gfile.mkdir(tfdataset_dir)\n",
        "\n",
        "print(\"Reading images from {} and writing TF records to {}\".format(ARG_DATASET_DIR, tfdataset_dir))\n",
        "\n",
        "#==============================================================END OF CHECKS===================================================================\n",
        "# Get a pandas dataframe of image full filenames and gamma indeces values.\n",
        "df_dcm_out = _get_filenames_and_gamma_values(ARG_DICOM_AND_GAMMA_CSV, ARG_DATASET_DIR)\n",
        "\n",
        "# Find the number of validation examples we need\n",
        "num_validation = int(ARG_VALIDATION_SIZE * len(df_dcm_out))\n",
        "\n",
        "print(f'\\nNum. training images = {len(df_dcm_out) - num_validation}, num. validation images = {num_validation}')\n",
        "\n",
        "print(f'\\nrandom seed partition = {ARG_RANDOM_SEED}')\n",
        "# Divide the training datasets into train and test:\n",
        "df_dcm_out = shuffle(df_dcm_out, random_state=ARG_RANDOM_SEED)\n",
        "\n",
        "# convert to list because a dataframe column is of type pandas...Series\n",
        "if not ARG_TEST_PARTITION:\n",
        "    df_training = df_dcm_out[num_validation:]\n",
        "    df_validation = df_dcm_out[:num_validation]\n",
        "else:\n",
        "    df_training = df_dcm_out[num_validation*2:]\n",
        "    df_validation = df_dcm_out[:num_validation]\n",
        "    df_testing = df_dcm_out[num_validation:num_validation*2]\n",
        "\n",
        "# Hacer oversampling de mapas menores o iguales a un valor de gamma en df_training\n",
        "if ARG_OVERSAMPLING:\n",
        "    df_training = do_oversampling(df_training, ARG_OVERSAMPLING_GAMMA_THRESHOLD, ARG_OVERSAMPLING_FACTOR)\n",
        "\n",
        "# convert to list because a dataframe column is of type pandas...Series\n",
        "if not ARG_TEST_PARTITION:\n",
        "    training_filenames = df_training['dicom_full_filepath'].to_list()\n",
        "    validation_filenames = df_validation['dicom_full_filepath'].to_list()\n",
        "    training_gamma = df_training['gamma_index'].to_list()\n",
        "    validation_gamma = df_validation['gamma_index'].to_list()\n",
        "else:\n",
        "    training_filenames = df_training['dicom_full_filepath'].to_list()\n",
        "    validation_filenames = df_validation['dicom_full_filepath'].to_list()\n",
        "    testing_filenames = df_testing['dicom_full_filepath'].to_list()\n",
        "    training_gamma = df_training['gamma_index'].to_list()\n",
        "    validation_gamma = df_validation['gamma_index'].to_list()\n",
        "    testing_gamma = df_testing['gamma_index'].to_list()\n",
        "\n",
        "start = time.time()\n",
        "# First, convert the training and validation sets.\n",
        "_convert_dataset('train', training_filenames, training_gamma,\n",
        "                  dataset_dir = tfdataset_dir, _NUM_SHARDS = ARG_NUM_SHARDS, image_type = ARG_IMAGE_TYPE)\n",
        "\n",
        "if num_validation > 0:\n",
        "    _convert_dataset('validation', validation_filenames, validation_gamma,\n",
        "                      dataset_dir = tfdataset_dir, _NUM_SHARDS = ARG_NUM_SHARDS, image_type = ARG_IMAGE_TYPE)\n",
        "\n",
        "    if not not ARG_TEST_PARTITION:\n",
        "        _convert_dataset('test', testing_filenames, testing_gamma,\n",
        "                          dataset_dir = tfdataset_dir, _NUM_SHARDS = ARG_NUM_SHARDS, image_type = ARG_IMAGE_TYPE)\n",
        "\n",
        "end = time.time() - start\n",
        "print(f'\\nFinished converting the dataset in {end} seconds')"
      ],
      "execution_count": 13,
      "outputs": [
        {
          "output_type": "stream",
          "text": [
            "Reading images from /content/drive/My Drive/Healthcare/Radioterapia/data/ciolaplata and writing TF records to /content/drive/My Drive/Healthcare/Radioterapia/data/ciolaplata/tfds.2019.localnorm\n",
            "\n",
            "Num. training images = 978, num. validation images = 244\n",
            "\n",
            "random seed partition = 113355\n",
            ">> Image 978/978 with 4265 bytes in shard 3 converted\n",
            ">> Image 244/244 with 3943 bytes in shard 3 converted\n",
            "\n",
            "Finished converting the dataset in 13.121372699737549 seconds\n"
          ],
          "name": "stdout"
        }
      ]
    },
    {
      "cell_type": "code",
      "metadata": {
        "colab": {
          "base_uri": "https://localhost:8080/",
          "height": 51
        },
        "id": "aPM_W5N2mJIH",
        "outputId": "c3b235a8-8f7d-4570-dc43-417fa5e33101"
      },
      "source": [
        "drive.flush_and_unmount()\n",
        "print('All changes made in this colab session should now be visible in Drive.')"
      ],
      "execution_count": null,
      "outputs": [
        {
          "output_type": "stream",
          "text": [
            "Drive not mounted, so nothing to flush and unmount.\n",
            "All changes made in this colab session should now be visible in Drive.\n"
          ],
          "name": "stdout"
        }
      ]
    }
  ]
}